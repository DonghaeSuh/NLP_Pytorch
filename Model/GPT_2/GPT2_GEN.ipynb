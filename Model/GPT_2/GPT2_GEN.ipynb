{
  "nbformat": 4,
  "nbformat_minor": 0,
  "metadata": {
    "colab": {
      "provenance": [],
      "mount_file_id": "1jLd3fgb_ouffcYMR_qbngEdXeBW7cdyx",
      "authorship_tag": "ABX9TyM+spqgnsATEafnaUlSbAop",
      "include_colab_link": true
    },
    "kernelspec": {
      "name": "python3",
      "display_name": "Python 3"
    },
    "language_info": {
      "name": "python"
    }
  },
  "cells": [
    {
      "cell_type": "markdown",
      "metadata": {
        "id": "view-in-github",
        "colab_type": "text"
      },
      "source": [
        "<a href=\"https://colab.research.google.com/github/DonghaeSuh/NLP_Pytorch/blob/main/Model/GPT_2/GPT2_GEN.ipynb\" target=\"_parent\"><img src=\"https://colab.research.google.com/assets/colab-badge.svg\" alt=\"Open In Colab\"/></a>"
      ]
    },
    {
      "cell_type": "markdown",
      "source": [
        "Sentencepiece : https://github.com/google/sentencepiece/blob/master/python/README.md"
      ],
      "metadata": {
        "id": "e33Dl5K-J_8S"
      }
    },
    {
      "cell_type": "markdown",
      "source": [
        "### NSMC"
      ],
      "metadata": {
        "id": "GC2mkEpqPcB8"
      }
    },
    {
      "cell_type": "code",
      "source": [
        "import urllib"
      ],
      "metadata": {
        "id": "GAhQpLHSKpwQ"
      },
      "execution_count": 1,
      "outputs": []
    },
    {
      "cell_type": "code",
      "source": [
        "urllib.request.urlretrieve('https://raw.githubusercontent.com/e9t/nsmc/master/ratings_train.txt','train.txt')"
      ],
      "metadata": {
        "colab": {
          "base_uri": "https://localhost:8080/"
        },
        "id": "FZGWRVyXKZjN",
        "outputId": "43deeb7d-662b-4026-e9ff-90473323c8a6"
      },
      "execution_count": 2,
      "outputs": [
        {
          "output_type": "execute_result",
          "data": {
            "text/plain": [
              "('train.txt', <http.client.HTTPMessage at 0x7ab0c9cbda20>)"
            ]
          },
          "metadata": {},
          "execution_count": 2
        }
      ]
    },
    {
      "cell_type": "code",
      "source": [
        "temp=[]"
      ],
      "metadata": {
        "id": "_D-LYLxqLhUP"
      },
      "execution_count": 3,
      "outputs": []
    },
    {
      "cell_type": "code",
      "source": [
        "with open('train.txt','r') as f:\n",
        "  f.readline()\n",
        "  for sent in f.readlines():\n",
        "    data = sent.split('\\t')\n",
        "    temp.append(data[1])"
      ],
      "metadata": {
        "id": "KRfZtCCTK8ht"
      },
      "execution_count": 4,
      "outputs": []
    },
    {
      "cell_type": "code",
      "source": [
        "cd drive/MyDrive/Pytorch\\ NLP/GPT-2/data_in/gpt2_ckpt"
      ],
      "metadata": {
        "colab": {
          "base_uri": "https://localhost:8080/"
        },
        "id": "LG3ehNgKKuDL",
        "outputId": "0c6f4c97-5891-4854-ee35-ea7462af47e4"
      },
      "execution_count": 1,
      "outputs": [
        {
          "output_type": "stream",
          "name": "stdout",
          "text": [
            "/content/drive/MyDrive/Pytorch NLP/GPT-2/data_in/gpt2_ckpt\n"
          ]
        }
      ]
    },
    {
      "cell_type": "code",
      "source": [
        "with open('corpus.txt','w') as f:\n",
        "  for sent in temp:\n",
        "    f.write(f'\\n {sent}')"
      ],
      "metadata": {
        "id": "NaCJp9IsLLiV"
      },
      "execution_count": null,
      "outputs": []
    },
    {
      "cell_type": "markdown",
      "source": [
        "### Sentencepiece"
      ],
      "metadata": {
        "id": "B2LJdAsrPbf7"
      }
    },
    {
      "cell_type": "markdown",
      "source": [
        "https://keep-steady.tistory.com/7"
      ],
      "metadata": {
        "id": "mBkBxNqCSM2-"
      }
    },
    {
      "cell_type": "code",
      "source": [
        "pip install sentencepiece"
      ],
      "metadata": {
        "colab": {
          "base_uri": "https://localhost:8080/"
        },
        "id": "APOTeyaOOQYb",
        "outputId": "5f20aa5e-10fa-4c43-b7a7-f19713dc7747"
      },
      "execution_count": 2,
      "outputs": [
        {
          "output_type": "stream",
          "name": "stdout",
          "text": [
            "Collecting sentencepiece\n",
            "  Downloading sentencepiece-0.1.99-cp310-cp310-manylinux_2_17_x86_64.manylinux2014_x86_64.whl (1.3 MB)\n",
            "\u001b[?25l     \u001b[90m━━━━━━━━━━━━━━━━━━━━━━━━━━━━━━━━━━━━━━━━\u001b[0m \u001b[32m0.0/1.3 MB\u001b[0m \u001b[31m?\u001b[0m eta \u001b[36m-:--:--\u001b[0m\r\u001b[2K     \u001b[91m━\u001b[0m\u001b[91m╸\u001b[0m\u001b[90m━━━━━━━━━━━━━━━━━━━━━━━━━━━━━━━━━━━━━━\u001b[0m \u001b[32m0.1/1.3 MB\u001b[0m \u001b[31m1.7 MB/s\u001b[0m eta \u001b[36m0:00:01\u001b[0m\r\u001b[2K     \u001b[91m━━━━━━━━━━━━━━━━━━━━━━━━━━━━━━━━━━━━━━━\u001b[0m\u001b[91m╸\u001b[0m \u001b[32m1.3/1.3 MB\u001b[0m \u001b[31m19.6 MB/s\u001b[0m eta \u001b[36m0:00:01\u001b[0m\r\u001b[2K     \u001b[90m━━━━━━━━━━━━━━━━━━━━━━━━━━━━━━━━━━━━━━━━\u001b[0m \u001b[32m1.3/1.3 MB\u001b[0m \u001b[31m15.8 MB/s\u001b[0m eta \u001b[36m0:00:00\u001b[0m\n",
            "\u001b[?25hInstalling collected packages: sentencepiece\n",
            "Successfully installed sentencepiece-0.1.99\n"
          ]
        }
      ]
    },
    {
      "cell_type": "code",
      "source": [
        "import sentencepiece as spm"
      ],
      "metadata": {
        "id": "ZayDEQQtPgz3"
      },
      "execution_count": 3,
      "outputs": []
    },
    {
      "cell_type": "code",
      "source": [
        " spm.SentencePieceTrainer.train(input='corpus.txt',model_prefix='kor_tokenizer',vocab_size=50000, model_type='bpe',max_sentence_length=9999999,pad_id=0,unk_id=1,bos_id=2,eos_id=3)"
      ],
      "metadata": {
        "id": "Z8G5cAI3PpbL"
      },
      "execution_count": null,
      "outputs": []
    },
    {
      "cell_type": "markdown",
      "source": [
        "### gluonnlp"
      ],
      "metadata": {
        "id": "bCjotYQ6U329"
      }
    },
    {
      "cell_type": "code",
      "source": [
        "sp=spm.SentencePieceProcessor()\n",
        "sp.Load('kor_tokenizer.model')"
      ],
      "metadata": {
        "colab": {
          "base_uri": "https://localhost:8080/"
        },
        "id": "quvfnYo9rqdD",
        "outputId": "e575380e-9212-4d32-bb94-4143a88ee985"
      },
      "execution_count": 4,
      "outputs": [
        {
          "output_type": "execute_result",
          "data": {
            "text/plain": [
              "True"
            ]
          },
          "metadata": {},
          "execution_count": 4
        }
      ]
    },
    {
      "cell_type": "code",
      "source": [
        "sp.EncodeAsPieces('안녕하세요 저는 사람이에요.')"
      ],
      "metadata": {
        "colab": {
          "base_uri": "https://localhost:8080/"
        },
        "id": "MdcRqlOLrYr-",
        "outputId": "8c0971e6-ddc0-4d5f-bf10-e560bca581cf"
      },
      "execution_count": 5,
      "outputs": [
        {
          "output_type": "execute_result",
          "data": {
            "text/plain": [
              "['▁안녕하세요', '▁저는', '▁사람이', '에요', '.']"
            ]
          },
          "metadata": {},
          "execution_count": 5
        }
      ]
    },
    {
      "cell_type": "code",
      "source": [
        "sp.encode('안녕하세요 저는 사람이에요.')"
      ],
      "metadata": {
        "colab": {
          "base_uri": "https://localhost:8080/"
        },
        "id": "s9ZNdSMwsE1T",
        "outputId": "26106786-9628-4802-da3f-127bad8ad4e5"
      },
      "execution_count": 6,
      "outputs": [
        {
          "output_type": "execute_result",
          "data": {
            "text/plain": [
              "[20363, 1619, 1047, 802, 48289]"
            ]
          },
          "metadata": {},
          "execution_count": 6
        }
      ]
    },
    {
      "cell_type": "code",
      "source": [
        "vocab = [sp.id_to_piece(id) for id in range(sp.get_piece_size())]"
      ],
      "metadata": {
        "id": "G4ZIARzH8IM9"
      },
      "execution_count": 22,
      "outputs": []
    },
    {
      "cell_type": "code",
      "source": [
        "print('0 :{}, 1 :{} , 2 :{}, 3 :{} '.format(vocab[0],vocab[1],vocab[2],vocab[3]))"
      ],
      "metadata": {
        "colab": {
          "base_uri": "https://localhost:8080/"
        },
        "id": "uf1TMOXiioo2",
        "outputId": "1e7b247c-539a-43b7-d583-3d9034754402"
      },
      "execution_count": 27,
      "outputs": [
        {
          "output_type": "stream",
          "name": "stdout",
          "text": [
            "0 :<pad>, 1 :<unk> , 2 :<s>, 3 :</s> \n"
          ]
        }
      ]
    },
    {
      "cell_type": "markdown",
      "source": [
        "### config & model_weight"
      ],
      "metadata": {
        "id": "SgiJQ2gTQn-p"
      }
    },
    {
      "cell_type": "code",
      "source": [
        "urllib.request.urlretrieve('https://huggingface.co/gpt2/resolve/main/config.json','config.json')"
      ],
      "metadata": {
        "colab": {
          "base_uri": "https://localhost:8080/"
        },
        "id": "EeqjKoUcQs2X",
        "outputId": "f4630f7e-722f-490c-98ca-fb15eaf06473"
      },
      "execution_count": null,
      "outputs": [
        {
          "output_type": "execute_result",
          "data": {
            "text/plain": [
              "('config.json', <http.client.HTTPMessage at 0x7fdd07c1ada0>)"
            ]
          },
          "metadata": {},
          "execution_count": 56
        }
      ]
    },
    {
      "cell_type": "code",
      "source": [
        "urllib.request.urlretrieve('https://huggingface.co/gpt2/resolve/main/model.safetensors','model.safetensors')"
      ],
      "metadata": {
        "colab": {
          "base_uri": "https://localhost:8080/"
        },
        "id": "zXbpfCuvRWr2",
        "outputId": "fe5048c1-24e1-4700-cc03-420c0ad62500"
      },
      "execution_count": null,
      "outputs": [
        {
          "output_type": "execute_result",
          "data": {
            "text/plain": [
              "('model.safetensors', <http.client.HTTPMessage at 0x7fdd07c19ed0>)"
            ]
          },
          "metadata": {},
          "execution_count": 57
        }
      ]
    },
    {
      "cell_type": "markdown",
      "source": [
        "## Top k & Top p"
      ],
      "metadata": {
        "id": "0kjeBZ0bOhhq"
      }
    },
    {
      "cell_type": "markdown",
      "source": [
        "### torch.multinomial"
      ],
      "metadata": {
        "id": "tuhXFcHsBYNK"
      }
    },
    {
      "cell_type": "code",
      "source": [
        "import torch"
      ],
      "metadata": {
        "id": "SP56xQAnBlXK"
      },
      "execution_count": 5,
      "outputs": []
    },
    {
      "cell_type": "code",
      "source": [
        "weights= torch.Tensor([0,10,5,5])\n",
        "weigths=torch.nn.Softmax()(weights)\n",
        "torch.multinomial(weigths,10,replacement=True)"
      ],
      "metadata": {
        "colab": {
          "base_uri": "https://localhost:8080/"
        },
        "id": "ul44MevXOpW8",
        "outputId": "bc8c3592-4f9f-45a3-df0a-bfb6cd50dde3"
      },
      "execution_count": 70,
      "outputs": [
        {
          "output_type": "stream",
          "name": "stderr",
          "text": [
            "<ipython-input-70-63ac0e2f0888>:2: UserWarning: Implicit dimension choice for softmax has been deprecated. Change the call to include dim=X as an argument.\n",
            "  weigths=torch.nn.Softmax()(weights)\n"
          ]
        },
        {
          "output_type": "execute_result",
          "data": {
            "text/plain": [
              "tensor([1, 1, 1, 1, 1, 1, 1, 1, 1, 1])"
            ]
          },
          "metadata": {},
          "execution_count": 70
        }
      ]
    },
    {
      "cell_type": "code",
      "source": [
        "def top_k_top_p_filtering(logits, top_k=0, top_p=0.0, filter_value=-99999):\n",
        "  # logtis = (vocab_size, )\n",
        "\n",
        "  if top_k>0:\n",
        "    top_k=min(top_k,logits.size()[-1])\n",
        "    indices_to_remove=logits<torch.topk(logits,top_k).values[-1] # smaller than the smallest value among the top_k values\n",
        "    logits[indices_to_remove]=filter_value\n",
        "\n",
        "  if top_p>0.0:\n",
        "\n"
      ],
      "metadata": {
        "id": "Y3gxMcb8OxxL"
      },
      "execution_count": null,
      "outputs": []
    },
    {
      "cell_type": "code",
      "source": [],
      "metadata": {
        "id": "fY_mWxdmOCax"
      },
      "execution_count": null,
      "outputs": []
    }
  ]
}