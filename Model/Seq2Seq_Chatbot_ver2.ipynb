{
  "nbformat": 4,
  "nbformat_minor": 0,
  "metadata": {
    "colab": {
      "provenance": [],
      "gpuType": "T4",
      "mount_file_id": "1s2apnqQ839LRwPwRYnO9jzPxh48lgE4h",
      "authorship_tag": "ABX9TyNthWaRl8xwxPH3xZoCeUtF",
      "include_colab_link": true
    },
    "kernelspec": {
      "name": "python3",
      "display_name": "Python 3"
    },
    "language_info": {
      "name": "python"
    },
    "gpuClass": "standard"
  },
  "cells": [
    {
      "cell_type": "markdown",
      "metadata": {
        "id": "view-in-github",
        "colab_type": "text"
      },
      "source": [
        "<a href=\"https://colab.research.google.com/github/DonghaeSuh/NLP_Pytorch/blob/main/Model/Seq2Seq_Chatbot_ver2.ipynb\" target=\"_parent\"><img src=\"https://colab.research.google.com/assets/colab-badge.svg\" alt=\"Open In Colab\"/></a>"
      ]
    },
    {
      "cell_type": "markdown",
      "source": [
        "# 간단한 전처리\n",
        "- 특수 문자 제거\n",
        "- 특수 토큰 추가 MAX_LENGTH인 25에 맞춰서 시작 토큰과 끝 토큰을 추가 -> 이후 field에서 추가해서 사용\n",
        "- decoder의 입력에 따른 예측값에 해당하는 dataset을 마련"
      ],
      "metadata": {
        "id": "E1ZPtbykkPZz"
      }
    },
    {
      "cell_type": "code",
      "source": [
        "import pandas as pd"
      ],
      "metadata": {
        "id": "sXTYtK6tkO0l"
      },
      "execution_count": null,
      "outputs": []
    },
    {
      "cell_type": "code",
      "execution_count": null,
      "metadata": {
        "colab": {
          "base_uri": "https://localhost:8080/"
        },
        "id": "Ycz8MVi8kLxw",
        "outputId": "1fa6d2cd-7ad8-4e07-d16f-25e09095ecdc"
      },
      "outputs": [
        {
          "output_type": "stream",
          "name": "stdout",
          "text": [
            "\u001b[0m\u001b[01;34mdrive\u001b[0m/  \u001b[01;34msample_data\u001b[0m/\n"
          ]
        }
      ],
      "source": [
        "ls"
      ]
    },
    {
      "cell_type": "code",
      "source": [
        "cd drive/MyDrive/Pytorch\\ NLP/data_in/Chatbot"
      ],
      "metadata": {
        "colab": {
          "base_uri": "https://localhost:8080/"
        },
        "id": "spgkuvuFl_zO",
        "outputId": "f10d19c9-77c4-4cd9-bf0e-b920f4c65e2c"
      },
      "execution_count": null,
      "outputs": [
        {
          "output_type": "stream",
          "name": "stdout",
          "text": [
            "/content/drive/MyDrive/Pytorch NLP/data_in/Chatbot\n"
          ]
        }
      ]
    },
    {
      "cell_type": "code",
      "source": [
        "ls"
      ],
      "metadata": {
        "colab": {
          "base_uri": "https://localhost:8080/"
        },
        "id": "yV5jsNcqmHKm",
        "outputId": "8840557e-9623-42e3-d7ba-66399b6b3330"
      },
      "execution_count": null,
      "outputs": [
        {
          "output_type": "stream",
          "name": "stdout",
          "text": [
            "ChatbotData.csv  \u001b[0m\u001b[01;34mMecab-ko-for-Google-Colab\u001b[0m/\n"
          ]
        }
      ]
    },
    {
      "cell_type": "code",
      "source": [
        "df=pd.read_csv('ChatbotData.csv')\n",
        "df.head()"
      ],
      "metadata": {
        "colab": {
          "base_uri": "https://localhost:8080/",
          "height": 204
        },
        "id": "eadXje8Bm6rM",
        "outputId": "c994f769-97f2-4a0b-d951-5e03529d789a"
      },
      "execution_count": null,
      "outputs": [
        {
          "output_type": "execute_result",
          "data": {
            "text/plain": [
              "                 Q            A  label\n",
              "0           12시 땡!   하루가 또 가네요.      0\n",
              "1      1지망 학교 떨어졌어    위로해 드립니다.      0\n",
              "2     3박4일 놀러가고 싶다  여행은 언제나 좋죠.      0\n",
              "3  3박4일 정도 놀러가고 싶다  여행은 언제나 좋죠.      0\n",
              "4          PPL 심하네   눈살이 찌푸려지죠.      0"
            ],
            "text/html": [
              "\n",
              "  <div id=\"df-7a51a070-f168-4fc7-83fd-1803e4636394\">\n",
              "    <div class=\"colab-df-container\">\n",
              "      <div>\n",
              "<style scoped>\n",
              "    .dataframe tbody tr th:only-of-type {\n",
              "        vertical-align: middle;\n",
              "    }\n",
              "\n",
              "    .dataframe tbody tr th {\n",
              "        vertical-align: top;\n",
              "    }\n",
              "\n",
              "    .dataframe thead th {\n",
              "        text-align: right;\n",
              "    }\n",
              "</style>\n",
              "<table border=\"1\" class=\"dataframe\">\n",
              "  <thead>\n",
              "    <tr style=\"text-align: right;\">\n",
              "      <th></th>\n",
              "      <th>Q</th>\n",
              "      <th>A</th>\n",
              "      <th>label</th>\n",
              "    </tr>\n",
              "  </thead>\n",
              "  <tbody>\n",
              "    <tr>\n",
              "      <th>0</th>\n",
              "      <td>12시 땡!</td>\n",
              "      <td>하루가 또 가네요.</td>\n",
              "      <td>0</td>\n",
              "    </tr>\n",
              "    <tr>\n",
              "      <th>1</th>\n",
              "      <td>1지망 학교 떨어졌어</td>\n",
              "      <td>위로해 드립니다.</td>\n",
              "      <td>0</td>\n",
              "    </tr>\n",
              "    <tr>\n",
              "      <th>2</th>\n",
              "      <td>3박4일 놀러가고 싶다</td>\n",
              "      <td>여행은 언제나 좋죠.</td>\n",
              "      <td>0</td>\n",
              "    </tr>\n",
              "    <tr>\n",
              "      <th>3</th>\n",
              "      <td>3박4일 정도 놀러가고 싶다</td>\n",
              "      <td>여행은 언제나 좋죠.</td>\n",
              "      <td>0</td>\n",
              "    </tr>\n",
              "    <tr>\n",
              "      <th>4</th>\n",
              "      <td>PPL 심하네</td>\n",
              "      <td>눈살이 찌푸려지죠.</td>\n",
              "      <td>0</td>\n",
              "    </tr>\n",
              "  </tbody>\n",
              "</table>\n",
              "</div>\n",
              "      <button class=\"colab-df-convert\" onclick=\"convertToInteractive('df-7a51a070-f168-4fc7-83fd-1803e4636394')\"\n",
              "              title=\"Convert this dataframe to an interactive table.\"\n",
              "              style=\"display:none;\">\n",
              "        \n",
              "  <svg xmlns=\"http://www.w3.org/2000/svg\" height=\"24px\"viewBox=\"0 0 24 24\"\n",
              "       width=\"24px\">\n",
              "    <path d=\"M0 0h24v24H0V0z\" fill=\"none\"/>\n",
              "    <path d=\"M18.56 5.44l.94 2.06.94-2.06 2.06-.94-2.06-.94-.94-2.06-.94 2.06-2.06.94zm-11 1L8.5 8.5l.94-2.06 2.06-.94-2.06-.94L8.5 2.5l-.94 2.06-2.06.94zm10 10l.94 2.06.94-2.06 2.06-.94-2.06-.94-.94-2.06-.94 2.06-2.06.94z\"/><path d=\"M17.41 7.96l-1.37-1.37c-.4-.4-.92-.59-1.43-.59-.52 0-1.04.2-1.43.59L10.3 9.45l-7.72 7.72c-.78.78-.78 2.05 0 2.83L4 21.41c.39.39.9.59 1.41.59.51 0 1.02-.2 1.41-.59l7.78-7.78 2.81-2.81c.8-.78.8-2.07 0-2.86zM5.41 20L4 18.59l7.72-7.72 1.47 1.35L5.41 20z\"/>\n",
              "  </svg>\n",
              "      </button>\n",
              "      \n",
              "  <style>\n",
              "    .colab-df-container {\n",
              "      display:flex;\n",
              "      flex-wrap:wrap;\n",
              "      gap: 12px;\n",
              "    }\n",
              "\n",
              "    .colab-df-convert {\n",
              "      background-color: #E8F0FE;\n",
              "      border: none;\n",
              "      border-radius: 50%;\n",
              "      cursor: pointer;\n",
              "      display: none;\n",
              "      fill: #1967D2;\n",
              "      height: 32px;\n",
              "      padding: 0 0 0 0;\n",
              "      width: 32px;\n",
              "    }\n",
              "\n",
              "    .colab-df-convert:hover {\n",
              "      background-color: #E2EBFA;\n",
              "      box-shadow: 0px 1px 2px rgba(60, 64, 67, 0.3), 0px 1px 3px 1px rgba(60, 64, 67, 0.15);\n",
              "      fill: #174EA6;\n",
              "    }\n",
              "\n",
              "    [theme=dark] .colab-df-convert {\n",
              "      background-color: #3B4455;\n",
              "      fill: #D2E3FC;\n",
              "    }\n",
              "\n",
              "    [theme=dark] .colab-df-convert:hover {\n",
              "      background-color: #434B5C;\n",
              "      box-shadow: 0px 1px 3px 1px rgba(0, 0, 0, 0.15);\n",
              "      filter: drop-shadow(0px 1px 2px rgba(0, 0, 0, 0.3));\n",
              "      fill: #FFFFFF;\n",
              "    }\n",
              "  </style>\n",
              "\n",
              "      <script>\n",
              "        const buttonEl =\n",
              "          document.querySelector('#df-7a51a070-f168-4fc7-83fd-1803e4636394 button.colab-df-convert');\n",
              "        buttonEl.style.display =\n",
              "          google.colab.kernel.accessAllowed ? 'block' : 'none';\n",
              "\n",
              "        async function convertToInteractive(key) {\n",
              "          const element = document.querySelector('#df-7a51a070-f168-4fc7-83fd-1803e4636394');\n",
              "          const dataTable =\n",
              "            await google.colab.kernel.invokeFunction('convertToInteractive',\n",
              "                                                     [key], {});\n",
              "          if (!dataTable) return;\n",
              "\n",
              "          const docLinkHtml = 'Like what you see? Visit the ' +\n",
              "            '<a target=\"_blank\" href=https://colab.research.google.com/notebooks/data_table.ipynb>data table notebook</a>'\n",
              "            + ' to learn more about interactive tables.';\n",
              "          element.innerHTML = '';\n",
              "          dataTable['output_type'] = 'display_data';\n",
              "          await google.colab.output.renderOutput(dataTable, element);\n",
              "          const docLink = document.createElement('div');\n",
              "          docLink.innerHTML = docLinkHtml;\n",
              "          element.appendChild(docLink);\n",
              "        }\n",
              "      </script>\n",
              "    </div>\n",
              "  </div>\n",
              "  "
            ]
          },
          "metadata": {},
          "execution_count": 89
        }
      ]
    },
    {
      "cell_type": "markdown",
      "source": [
        "### 특수 문자 제거"
      ],
      "metadata": {
        "id": "mGCqFf8gnrsv"
      }
    },
    {
      "cell_type": "code",
      "source": [
        "df['Q']=df['Q'].str.replace('[^ a-zA-Z0-9가-힣]',\"\")\n",
        "df['A']=df['A'].str.replace('[^ a-zA-Z0-9가-힣]',\"\")\n",
        "df.head()"
      ],
      "metadata": {
        "colab": {
          "base_uri": "https://localhost:8080/",
          "height": 276
        },
        "id": "Pfi10jwTnLxz",
        "outputId": "141a31fa-16f4-48f3-ec93-e84490b0d927"
      },
      "execution_count": null,
      "outputs": [
        {
          "output_type": "stream",
          "name": "stderr",
          "text": [
            "<ipython-input-90-21d281052103>:1: FutureWarning: The default value of regex will change from True to False in a future version.\n",
            "  df['Q']=df['Q'].str.replace('[^ a-zA-Z0-9가-힣]',\"\")\n",
            "<ipython-input-90-21d281052103>:2: FutureWarning: The default value of regex will change from True to False in a future version.\n",
            "  df['A']=df['A'].str.replace('[^ a-zA-Z0-9가-힣]',\"\")\n"
          ]
        },
        {
          "output_type": "execute_result",
          "data": {
            "text/plain": [
              "                 Q           A  label\n",
              "0            12시 땡   하루가 또 가네요      0\n",
              "1      1지망 학교 떨어졌어    위로해 드립니다      0\n",
              "2     3박4일 놀러가고 싶다  여행은 언제나 좋죠      0\n",
              "3  3박4일 정도 놀러가고 싶다  여행은 언제나 좋죠      0\n",
              "4          PPL 심하네   눈살이 찌푸려지죠      0"
            ],
            "text/html": [
              "\n",
              "  <div id=\"df-b45de5f4-5776-4c51-bbc6-3982691cac91\">\n",
              "    <div class=\"colab-df-container\">\n",
              "      <div>\n",
              "<style scoped>\n",
              "    .dataframe tbody tr th:only-of-type {\n",
              "        vertical-align: middle;\n",
              "    }\n",
              "\n",
              "    .dataframe tbody tr th {\n",
              "        vertical-align: top;\n",
              "    }\n",
              "\n",
              "    .dataframe thead th {\n",
              "        text-align: right;\n",
              "    }\n",
              "</style>\n",
              "<table border=\"1\" class=\"dataframe\">\n",
              "  <thead>\n",
              "    <tr style=\"text-align: right;\">\n",
              "      <th></th>\n",
              "      <th>Q</th>\n",
              "      <th>A</th>\n",
              "      <th>label</th>\n",
              "    </tr>\n",
              "  </thead>\n",
              "  <tbody>\n",
              "    <tr>\n",
              "      <th>0</th>\n",
              "      <td>12시 땡</td>\n",
              "      <td>하루가 또 가네요</td>\n",
              "      <td>0</td>\n",
              "    </tr>\n",
              "    <tr>\n",
              "      <th>1</th>\n",
              "      <td>1지망 학교 떨어졌어</td>\n",
              "      <td>위로해 드립니다</td>\n",
              "      <td>0</td>\n",
              "    </tr>\n",
              "    <tr>\n",
              "      <th>2</th>\n",
              "      <td>3박4일 놀러가고 싶다</td>\n",
              "      <td>여행은 언제나 좋죠</td>\n",
              "      <td>0</td>\n",
              "    </tr>\n",
              "    <tr>\n",
              "      <th>3</th>\n",
              "      <td>3박4일 정도 놀러가고 싶다</td>\n",
              "      <td>여행은 언제나 좋죠</td>\n",
              "      <td>0</td>\n",
              "    </tr>\n",
              "    <tr>\n",
              "      <th>4</th>\n",
              "      <td>PPL 심하네</td>\n",
              "      <td>눈살이 찌푸려지죠</td>\n",
              "      <td>0</td>\n",
              "    </tr>\n",
              "  </tbody>\n",
              "</table>\n",
              "</div>\n",
              "      <button class=\"colab-df-convert\" onclick=\"convertToInteractive('df-b45de5f4-5776-4c51-bbc6-3982691cac91')\"\n",
              "              title=\"Convert this dataframe to an interactive table.\"\n",
              "              style=\"display:none;\">\n",
              "        \n",
              "  <svg xmlns=\"http://www.w3.org/2000/svg\" height=\"24px\"viewBox=\"0 0 24 24\"\n",
              "       width=\"24px\">\n",
              "    <path d=\"M0 0h24v24H0V0z\" fill=\"none\"/>\n",
              "    <path d=\"M18.56 5.44l.94 2.06.94-2.06 2.06-.94-2.06-.94-.94-2.06-.94 2.06-2.06.94zm-11 1L8.5 8.5l.94-2.06 2.06-.94-2.06-.94L8.5 2.5l-.94 2.06-2.06.94zm10 10l.94 2.06.94-2.06 2.06-.94-2.06-.94-.94-2.06-.94 2.06-2.06.94z\"/><path d=\"M17.41 7.96l-1.37-1.37c-.4-.4-.92-.59-1.43-.59-.52 0-1.04.2-1.43.59L10.3 9.45l-7.72 7.72c-.78.78-.78 2.05 0 2.83L4 21.41c.39.39.9.59 1.41.59.51 0 1.02-.2 1.41-.59l7.78-7.78 2.81-2.81c.8-.78.8-2.07 0-2.86zM5.41 20L4 18.59l7.72-7.72 1.47 1.35L5.41 20z\"/>\n",
              "  </svg>\n",
              "      </button>\n",
              "      \n",
              "  <style>\n",
              "    .colab-df-container {\n",
              "      display:flex;\n",
              "      flex-wrap:wrap;\n",
              "      gap: 12px;\n",
              "    }\n",
              "\n",
              "    .colab-df-convert {\n",
              "      background-color: #E8F0FE;\n",
              "      border: none;\n",
              "      border-radius: 50%;\n",
              "      cursor: pointer;\n",
              "      display: none;\n",
              "      fill: #1967D2;\n",
              "      height: 32px;\n",
              "      padding: 0 0 0 0;\n",
              "      width: 32px;\n",
              "    }\n",
              "\n",
              "    .colab-df-convert:hover {\n",
              "      background-color: #E2EBFA;\n",
              "      box-shadow: 0px 1px 2px rgba(60, 64, 67, 0.3), 0px 1px 3px 1px rgba(60, 64, 67, 0.15);\n",
              "      fill: #174EA6;\n",
              "    }\n",
              "\n",
              "    [theme=dark] .colab-df-convert {\n",
              "      background-color: #3B4455;\n",
              "      fill: #D2E3FC;\n",
              "    }\n",
              "\n",
              "    [theme=dark] .colab-df-convert:hover {\n",
              "      background-color: #434B5C;\n",
              "      box-shadow: 0px 1px 3px 1px rgba(0, 0, 0, 0.15);\n",
              "      filter: drop-shadow(0px 1px 2px rgba(0, 0, 0, 0.3));\n",
              "      fill: #FFFFFF;\n",
              "    }\n",
              "  </style>\n",
              "\n",
              "      <script>\n",
              "        const buttonEl =\n",
              "          document.querySelector('#df-b45de5f4-5776-4c51-bbc6-3982691cac91 button.colab-df-convert');\n",
              "        buttonEl.style.display =\n",
              "          google.colab.kernel.accessAllowed ? 'block' : 'none';\n",
              "\n",
              "        async function convertToInteractive(key) {\n",
              "          const element = document.querySelector('#df-b45de5f4-5776-4c51-bbc6-3982691cac91');\n",
              "          const dataTable =\n",
              "            await google.colab.kernel.invokeFunction('convertToInteractive',\n",
              "                                                     [key], {});\n",
              "          if (!dataTable) return;\n",
              "\n",
              "          const docLinkHtml = 'Like what you see? Visit the ' +\n",
              "            '<a target=\"_blank\" href=https://colab.research.google.com/notebooks/data_table.ipynb>data table notebook</a>'\n",
              "            + ' to learn more about interactive tables.';\n",
              "          element.innerHTML = '';\n",
              "          dataTable['output_type'] = 'display_data';\n",
              "          await google.colab.output.renderOutput(dataTable, element);\n",
              "          const docLink = document.createElement('div');\n",
              "          docLink.innerHTML = docLinkHtml;\n",
              "          element.appendChild(docLink);\n",
              "        }\n",
              "      </script>\n",
              "    </div>\n",
              "  </div>\n",
              "  "
            ]
          },
          "metadata": {},
          "execution_count": 90
        }
      ]
    },
    {
      "cell_type": "code",
      "source": [
        "def decoder_input(sent,Max_len):\n",
        "  sent=sent.split()\n",
        "  if len(sent)>Max_len-2: # Max_length=25\n",
        "    sent=sent[:Max_len-2]\n",
        "    sent.append('<eos>')\n",
        "    sent[:0]=['<sos>']\n",
        "  else:\n",
        "    sent.append('<eos>')\n",
        "    sent[:0]=['<sos>']\n",
        "  \n",
        "  return \" \".join(sent)"
      ],
      "metadata": {
        "id": "YnHmKF8Yp7sR"
      },
      "execution_count": null,
      "outputs": []
    },
    {
      "cell_type": "code",
      "source": [
        "def decoder_output(sent):\n",
        "  sent=sent.split()\n",
        "  sent.pop(0)\n",
        "  return \" \".join(sent)"
      ],
      "metadata": {
        "id": "DaNshwfDueM1"
      },
      "execution_count": null,
      "outputs": []
    },
    {
      "cell_type": "code",
      "source": [
        "# 알고보니 torchtext의 필드정의에서 <sos>, <eos> token 추가를 지원했다. => 이럴 경우 굳이 미리 추가해놓고 준배해줄 필요가 없다.\n",
        "df['label']=df['A']\n",
        "temp=pd.Series(df['Q'].tolist()+df['A'].tolist()).astype(str)\n",
        "temp.to_csv('vocab_word.csv',index=False)\n",
        "df.head()"
      ],
      "metadata": {
        "colab": {
          "base_uri": "https://localhost:8080/",
          "height": 204
        },
        "id": "IC87E931WEXJ",
        "outputId": "17c7b422-4473-484e-bf83-02cd265b99b3"
      },
      "execution_count": null,
      "outputs": [
        {
          "output_type": "execute_result",
          "data": {
            "text/plain": [
              "                 Q           A       label\n",
              "0            12시 땡   하루가 또 가네요   하루가 또 가네요\n",
              "1      1지망 학교 떨어졌어    위로해 드립니다    위로해 드립니다\n",
              "2     3박4일 놀러가고 싶다  여행은 언제나 좋죠  여행은 언제나 좋죠\n",
              "3  3박4일 정도 놀러가고 싶다  여행은 언제나 좋죠  여행은 언제나 좋죠\n",
              "4          PPL 심하네   눈살이 찌푸려지죠   눈살이 찌푸려지죠"
            ],
            "text/html": [
              "\n",
              "  <div id=\"df-e12379b0-2fd6-4fc2-9c9a-3292b3c088b2\">\n",
              "    <div class=\"colab-df-container\">\n",
              "      <div>\n",
              "<style scoped>\n",
              "    .dataframe tbody tr th:only-of-type {\n",
              "        vertical-align: middle;\n",
              "    }\n",
              "\n",
              "    .dataframe tbody tr th {\n",
              "        vertical-align: top;\n",
              "    }\n",
              "\n",
              "    .dataframe thead th {\n",
              "        text-align: right;\n",
              "    }\n",
              "</style>\n",
              "<table border=\"1\" class=\"dataframe\">\n",
              "  <thead>\n",
              "    <tr style=\"text-align: right;\">\n",
              "      <th></th>\n",
              "      <th>Q</th>\n",
              "      <th>A</th>\n",
              "      <th>label</th>\n",
              "    </tr>\n",
              "  </thead>\n",
              "  <tbody>\n",
              "    <tr>\n",
              "      <th>0</th>\n",
              "      <td>12시 땡</td>\n",
              "      <td>하루가 또 가네요</td>\n",
              "      <td>하루가 또 가네요</td>\n",
              "    </tr>\n",
              "    <tr>\n",
              "      <th>1</th>\n",
              "      <td>1지망 학교 떨어졌어</td>\n",
              "      <td>위로해 드립니다</td>\n",
              "      <td>위로해 드립니다</td>\n",
              "    </tr>\n",
              "    <tr>\n",
              "      <th>2</th>\n",
              "      <td>3박4일 놀러가고 싶다</td>\n",
              "      <td>여행은 언제나 좋죠</td>\n",
              "      <td>여행은 언제나 좋죠</td>\n",
              "    </tr>\n",
              "    <tr>\n",
              "      <th>3</th>\n",
              "      <td>3박4일 정도 놀러가고 싶다</td>\n",
              "      <td>여행은 언제나 좋죠</td>\n",
              "      <td>여행은 언제나 좋죠</td>\n",
              "    </tr>\n",
              "    <tr>\n",
              "      <th>4</th>\n",
              "      <td>PPL 심하네</td>\n",
              "      <td>눈살이 찌푸려지죠</td>\n",
              "      <td>눈살이 찌푸려지죠</td>\n",
              "    </tr>\n",
              "  </tbody>\n",
              "</table>\n",
              "</div>\n",
              "      <button class=\"colab-df-convert\" onclick=\"convertToInteractive('df-e12379b0-2fd6-4fc2-9c9a-3292b3c088b2')\"\n",
              "              title=\"Convert this dataframe to an interactive table.\"\n",
              "              style=\"display:none;\">\n",
              "        \n",
              "  <svg xmlns=\"http://www.w3.org/2000/svg\" height=\"24px\"viewBox=\"0 0 24 24\"\n",
              "       width=\"24px\">\n",
              "    <path d=\"M0 0h24v24H0V0z\" fill=\"none\"/>\n",
              "    <path d=\"M18.56 5.44l.94 2.06.94-2.06 2.06-.94-2.06-.94-.94-2.06-.94 2.06-2.06.94zm-11 1L8.5 8.5l.94-2.06 2.06-.94-2.06-.94L8.5 2.5l-.94 2.06-2.06.94zm10 10l.94 2.06.94-2.06 2.06-.94-2.06-.94-.94-2.06-.94 2.06-2.06.94z\"/><path d=\"M17.41 7.96l-1.37-1.37c-.4-.4-.92-.59-1.43-.59-.52 0-1.04.2-1.43.59L10.3 9.45l-7.72 7.72c-.78.78-.78 2.05 0 2.83L4 21.41c.39.39.9.59 1.41.59.51 0 1.02-.2 1.41-.59l7.78-7.78 2.81-2.81c.8-.78.8-2.07 0-2.86zM5.41 20L4 18.59l7.72-7.72 1.47 1.35L5.41 20z\"/>\n",
              "  </svg>\n",
              "      </button>\n",
              "      \n",
              "  <style>\n",
              "    .colab-df-container {\n",
              "      display:flex;\n",
              "      flex-wrap:wrap;\n",
              "      gap: 12px;\n",
              "    }\n",
              "\n",
              "    .colab-df-convert {\n",
              "      background-color: #E8F0FE;\n",
              "      border: none;\n",
              "      border-radius: 50%;\n",
              "      cursor: pointer;\n",
              "      display: none;\n",
              "      fill: #1967D2;\n",
              "      height: 32px;\n",
              "      padding: 0 0 0 0;\n",
              "      width: 32px;\n",
              "    }\n",
              "\n",
              "    .colab-df-convert:hover {\n",
              "      background-color: #E2EBFA;\n",
              "      box-shadow: 0px 1px 2px rgba(60, 64, 67, 0.3), 0px 1px 3px 1px rgba(60, 64, 67, 0.15);\n",
              "      fill: #174EA6;\n",
              "    }\n",
              "\n",
              "    [theme=dark] .colab-df-convert {\n",
              "      background-color: #3B4455;\n",
              "      fill: #D2E3FC;\n",
              "    }\n",
              "\n",
              "    [theme=dark] .colab-df-convert:hover {\n",
              "      background-color: #434B5C;\n",
              "      box-shadow: 0px 1px 3px 1px rgba(0, 0, 0, 0.15);\n",
              "      filter: drop-shadow(0px 1px 2px rgba(0, 0, 0, 0.3));\n",
              "      fill: #FFFFFF;\n",
              "    }\n",
              "  </style>\n",
              "\n",
              "      <script>\n",
              "        const buttonEl =\n",
              "          document.querySelector('#df-e12379b0-2fd6-4fc2-9c9a-3292b3c088b2 button.colab-df-convert');\n",
              "        buttonEl.style.display =\n",
              "          google.colab.kernel.accessAllowed ? 'block' : 'none';\n",
              "\n",
              "        async function convertToInteractive(key) {\n",
              "          const element = document.querySelector('#df-e12379b0-2fd6-4fc2-9c9a-3292b3c088b2');\n",
              "          const dataTable =\n",
              "            await google.colab.kernel.invokeFunction('convertToInteractive',\n",
              "                                                     [key], {});\n",
              "          if (!dataTable) return;\n",
              "\n",
              "          const docLinkHtml = 'Like what you see? Visit the ' +\n",
              "            '<a target=\"_blank\" href=https://colab.research.google.com/notebooks/data_table.ipynb>data table notebook</a>'\n",
              "            + ' to learn more about interactive tables.';\n",
              "          element.innerHTML = '';\n",
              "          dataTable['output_type'] = 'display_data';\n",
              "          await google.colab.output.renderOutput(dataTable, element);\n",
              "          const docLink = document.createElement('div');\n",
              "          docLink.innerHTML = docLinkHtml;\n",
              "          element.appendChild(docLink);\n",
              "        }\n",
              "      </script>\n",
              "    </div>\n",
              "  </div>\n",
              "  "
            ]
          },
          "metadata": {},
          "execution_count": 91
        }
      ]
    },
    {
      "cell_type": "code",
      "source": [
        "df.to_csv('2_Fine_ChatbotData.csv',index=False)"
      ],
      "metadata": {
        "id": "KopRRxfGWYZ3"
      },
      "execution_count": null,
      "outputs": []
    },
    {
      "cell_type": "code",
      "source": [
        "decoder_input('안녕하세요 저는 사람입니다',4)"
      ],
      "metadata": {
        "colab": {
          "base_uri": "https://localhost:8080/",
          "height": 35
        },
        "id": "H80FpsabtnN2",
        "outputId": "cce4ed5f-2a0a-4ec9-8a0f-7de67b3ab535"
      },
      "execution_count": null,
      "outputs": [
        {
          "output_type": "execute_result",
          "data": {
            "text/plain": [
              "'<sos> 안녕하세요 저는 <eos>'"
            ],
            "application/vnd.google.colaboratory.intrinsic+json": {
              "type": "string"
            }
          },
          "metadata": {},
          "execution_count": 52
        }
      ]
    },
    {
      "cell_type": "code",
      "source": [
        "decoder_output('<sos> 안녕하세요 저는 <eos>')"
      ],
      "metadata": {
        "colab": {
          "base_uri": "https://localhost:8080/",
          "height": 35
        },
        "id": "FdG9x7tSvGLM",
        "outputId": "c576080d-b290-4f6f-9a52-01a9558e9897"
      },
      "execution_count": null,
      "outputs": [
        {
          "output_type": "execute_result",
          "data": {
            "text/plain": [
              "'안녕하세요 저는 <eos>'"
            ],
            "application/vnd.google.colaboratory.intrinsic+json": {
              "type": "string"
            }
          },
          "metadata": {},
          "execution_count": 63
        }
      ]
    },
    {
      "cell_type": "code",
      "source": [
        "df['A']=df['A'].apply(lambda x : decoder_input(x,25))\n",
        "df.head()"
      ],
      "metadata": {
        "colab": {
          "base_uri": "https://localhost:8080/",
          "height": 204
        },
        "id": "7pVR6NHco4wc",
        "outputId": "50e594f3-26c1-43e1-dca8-0da4f0cb0d92"
      },
      "execution_count": null,
      "outputs": [
        {
          "output_type": "execute_result",
          "data": {
            "text/plain": [
              "                 Q                       A  label\n",
              "0            12시 땡   <sos> 하루가 또 가네요 <eos>      0\n",
              "1      1지망 학교 떨어졌어    <sos> 위로해 드립니다 <eos>      0\n",
              "2     3박4일 놀러가고 싶다  <sos> 여행은 언제나 좋죠 <eos>      0\n",
              "3  3박4일 정도 놀러가고 싶다  <sos> 여행은 언제나 좋죠 <eos>      0\n",
              "4          PPL 심하네   <sos> 눈살이 찌푸려지죠 <eos>      0"
            ],
            "text/html": [
              "\n",
              "  <div id=\"df-c6fe9c8b-2f15-40bb-83ff-9ff849d10510\">\n",
              "    <div class=\"colab-df-container\">\n",
              "      <div>\n",
              "<style scoped>\n",
              "    .dataframe tbody tr th:only-of-type {\n",
              "        vertical-align: middle;\n",
              "    }\n",
              "\n",
              "    .dataframe tbody tr th {\n",
              "        vertical-align: top;\n",
              "    }\n",
              "\n",
              "    .dataframe thead th {\n",
              "        text-align: right;\n",
              "    }\n",
              "</style>\n",
              "<table border=\"1\" class=\"dataframe\">\n",
              "  <thead>\n",
              "    <tr style=\"text-align: right;\">\n",
              "      <th></th>\n",
              "      <th>Q</th>\n",
              "      <th>A</th>\n",
              "      <th>label</th>\n",
              "    </tr>\n",
              "  </thead>\n",
              "  <tbody>\n",
              "    <tr>\n",
              "      <th>0</th>\n",
              "      <td>12시 땡</td>\n",
              "      <td>&lt;sos&gt; 하루가 또 가네요 &lt;eos&gt;</td>\n",
              "      <td>0</td>\n",
              "    </tr>\n",
              "    <tr>\n",
              "      <th>1</th>\n",
              "      <td>1지망 학교 떨어졌어</td>\n",
              "      <td>&lt;sos&gt; 위로해 드립니다 &lt;eos&gt;</td>\n",
              "      <td>0</td>\n",
              "    </tr>\n",
              "    <tr>\n",
              "      <th>2</th>\n",
              "      <td>3박4일 놀러가고 싶다</td>\n",
              "      <td>&lt;sos&gt; 여행은 언제나 좋죠 &lt;eos&gt;</td>\n",
              "      <td>0</td>\n",
              "    </tr>\n",
              "    <tr>\n",
              "      <th>3</th>\n",
              "      <td>3박4일 정도 놀러가고 싶다</td>\n",
              "      <td>&lt;sos&gt; 여행은 언제나 좋죠 &lt;eos&gt;</td>\n",
              "      <td>0</td>\n",
              "    </tr>\n",
              "    <tr>\n",
              "      <th>4</th>\n",
              "      <td>PPL 심하네</td>\n",
              "      <td>&lt;sos&gt; 눈살이 찌푸려지죠 &lt;eos&gt;</td>\n",
              "      <td>0</td>\n",
              "    </tr>\n",
              "  </tbody>\n",
              "</table>\n",
              "</div>\n",
              "      <button class=\"colab-df-convert\" onclick=\"convertToInteractive('df-c6fe9c8b-2f15-40bb-83ff-9ff849d10510')\"\n",
              "              title=\"Convert this dataframe to an interactive table.\"\n",
              "              style=\"display:none;\">\n",
              "        \n",
              "  <svg xmlns=\"http://www.w3.org/2000/svg\" height=\"24px\"viewBox=\"0 0 24 24\"\n",
              "       width=\"24px\">\n",
              "    <path d=\"M0 0h24v24H0V0z\" fill=\"none\"/>\n",
              "    <path d=\"M18.56 5.44l.94 2.06.94-2.06 2.06-.94-2.06-.94-.94-2.06-.94 2.06-2.06.94zm-11 1L8.5 8.5l.94-2.06 2.06-.94-2.06-.94L8.5 2.5l-.94 2.06-2.06.94zm10 10l.94 2.06.94-2.06 2.06-.94-2.06-.94-.94-2.06-.94 2.06-2.06.94z\"/><path d=\"M17.41 7.96l-1.37-1.37c-.4-.4-.92-.59-1.43-.59-.52 0-1.04.2-1.43.59L10.3 9.45l-7.72 7.72c-.78.78-.78 2.05 0 2.83L4 21.41c.39.39.9.59 1.41.59.51 0 1.02-.2 1.41-.59l7.78-7.78 2.81-2.81c.8-.78.8-2.07 0-2.86zM5.41 20L4 18.59l7.72-7.72 1.47 1.35L5.41 20z\"/>\n",
              "  </svg>\n",
              "      </button>\n",
              "      \n",
              "  <style>\n",
              "    .colab-df-container {\n",
              "      display:flex;\n",
              "      flex-wrap:wrap;\n",
              "      gap: 12px;\n",
              "    }\n",
              "\n",
              "    .colab-df-convert {\n",
              "      background-color: #E8F0FE;\n",
              "      border: none;\n",
              "      border-radius: 50%;\n",
              "      cursor: pointer;\n",
              "      display: none;\n",
              "      fill: #1967D2;\n",
              "      height: 32px;\n",
              "      padding: 0 0 0 0;\n",
              "      width: 32px;\n",
              "    }\n",
              "\n",
              "    .colab-df-convert:hover {\n",
              "      background-color: #E2EBFA;\n",
              "      box-shadow: 0px 1px 2px rgba(60, 64, 67, 0.3), 0px 1px 3px 1px rgba(60, 64, 67, 0.15);\n",
              "      fill: #174EA6;\n",
              "    }\n",
              "\n",
              "    [theme=dark] .colab-df-convert {\n",
              "      background-color: #3B4455;\n",
              "      fill: #D2E3FC;\n",
              "    }\n",
              "\n",
              "    [theme=dark] .colab-df-convert:hover {\n",
              "      background-color: #434B5C;\n",
              "      box-shadow: 0px 1px 3px 1px rgba(0, 0, 0, 0.15);\n",
              "      filter: drop-shadow(0px 1px 2px rgba(0, 0, 0, 0.3));\n",
              "      fill: #FFFFFF;\n",
              "    }\n",
              "  </style>\n",
              "\n",
              "      <script>\n",
              "        const buttonEl =\n",
              "          document.querySelector('#df-c6fe9c8b-2f15-40bb-83ff-9ff849d10510 button.colab-df-convert');\n",
              "        buttonEl.style.display =\n",
              "          google.colab.kernel.accessAllowed ? 'block' : 'none';\n",
              "\n",
              "        async function convertToInteractive(key) {\n",
              "          const element = document.querySelector('#df-c6fe9c8b-2f15-40bb-83ff-9ff849d10510');\n",
              "          const dataTable =\n",
              "            await google.colab.kernel.invokeFunction('convertToInteractive',\n",
              "                                                     [key], {});\n",
              "          if (!dataTable) return;\n",
              "\n",
              "          const docLinkHtml = 'Like what you see? Visit the ' +\n",
              "            '<a target=\"_blank\" href=https://colab.research.google.com/notebooks/data_table.ipynb>data table notebook</a>'\n",
              "            + ' to learn more about interactive tables.';\n",
              "          element.innerHTML = '';\n",
              "          dataTable['output_type'] = 'display_data';\n",
              "          await google.colab.output.renderOutput(dataTable, element);\n",
              "          const docLink = document.createElement('div');\n",
              "          docLink.innerHTML = docLinkHtml;\n",
              "          element.appendChild(docLink);\n",
              "        }\n",
              "      </script>\n",
              "    </div>\n",
              "  </div>\n",
              "  "
            ]
          },
          "metadata": {},
          "execution_count": 59
        }
      ]
    },
    {
      "cell_type": "code",
      "source": [
        "df['label']=df['A'].apply(decoder_output)\n",
        "df.head()"
      ],
      "metadata": {
        "colab": {
          "base_uri": "https://localhost:8080/",
          "height": 204
        },
        "id": "0RD_ooy0uHfk",
        "outputId": "7c3258b2-ac42-4e3a-a303-71c540b4c9c7"
      },
      "execution_count": null,
      "outputs": [
        {
          "output_type": "execute_result",
          "data": {
            "text/plain": [
              "                 Q                       A             label\n",
              "0            12시 땡   <sos> 하루가 또 가네요 <eos>   하루가 또 가네요 <eos>\n",
              "1      1지망 학교 떨어졌어    <sos> 위로해 드립니다 <eos>    위로해 드립니다 <eos>\n",
              "2     3박4일 놀러가고 싶다  <sos> 여행은 언제나 좋죠 <eos>  여행은 언제나 좋죠 <eos>\n",
              "3  3박4일 정도 놀러가고 싶다  <sos> 여행은 언제나 좋죠 <eos>  여행은 언제나 좋죠 <eos>\n",
              "4          PPL 심하네   <sos> 눈살이 찌푸려지죠 <eos>   눈살이 찌푸려지죠 <eos>"
            ],
            "text/html": [
              "\n",
              "  <div id=\"df-9b72bfed-e447-4ba2-bb30-9a6814e432e5\">\n",
              "    <div class=\"colab-df-container\">\n",
              "      <div>\n",
              "<style scoped>\n",
              "    .dataframe tbody tr th:only-of-type {\n",
              "        vertical-align: middle;\n",
              "    }\n",
              "\n",
              "    .dataframe tbody tr th {\n",
              "        vertical-align: top;\n",
              "    }\n",
              "\n",
              "    .dataframe thead th {\n",
              "        text-align: right;\n",
              "    }\n",
              "</style>\n",
              "<table border=\"1\" class=\"dataframe\">\n",
              "  <thead>\n",
              "    <tr style=\"text-align: right;\">\n",
              "      <th></th>\n",
              "      <th>Q</th>\n",
              "      <th>A</th>\n",
              "      <th>label</th>\n",
              "    </tr>\n",
              "  </thead>\n",
              "  <tbody>\n",
              "    <tr>\n",
              "      <th>0</th>\n",
              "      <td>12시 땡</td>\n",
              "      <td>&lt;sos&gt; 하루가 또 가네요 &lt;eos&gt;</td>\n",
              "      <td>하루가 또 가네요 &lt;eos&gt;</td>\n",
              "    </tr>\n",
              "    <tr>\n",
              "      <th>1</th>\n",
              "      <td>1지망 학교 떨어졌어</td>\n",
              "      <td>&lt;sos&gt; 위로해 드립니다 &lt;eos&gt;</td>\n",
              "      <td>위로해 드립니다 &lt;eos&gt;</td>\n",
              "    </tr>\n",
              "    <tr>\n",
              "      <th>2</th>\n",
              "      <td>3박4일 놀러가고 싶다</td>\n",
              "      <td>&lt;sos&gt; 여행은 언제나 좋죠 &lt;eos&gt;</td>\n",
              "      <td>여행은 언제나 좋죠 &lt;eos&gt;</td>\n",
              "    </tr>\n",
              "    <tr>\n",
              "      <th>3</th>\n",
              "      <td>3박4일 정도 놀러가고 싶다</td>\n",
              "      <td>&lt;sos&gt; 여행은 언제나 좋죠 &lt;eos&gt;</td>\n",
              "      <td>여행은 언제나 좋죠 &lt;eos&gt;</td>\n",
              "    </tr>\n",
              "    <tr>\n",
              "      <th>4</th>\n",
              "      <td>PPL 심하네</td>\n",
              "      <td>&lt;sos&gt; 눈살이 찌푸려지죠 &lt;eos&gt;</td>\n",
              "      <td>눈살이 찌푸려지죠 &lt;eos&gt;</td>\n",
              "    </tr>\n",
              "  </tbody>\n",
              "</table>\n",
              "</div>\n",
              "      <button class=\"colab-df-convert\" onclick=\"convertToInteractive('df-9b72bfed-e447-4ba2-bb30-9a6814e432e5')\"\n",
              "              title=\"Convert this dataframe to an interactive table.\"\n",
              "              style=\"display:none;\">\n",
              "        \n",
              "  <svg xmlns=\"http://www.w3.org/2000/svg\" height=\"24px\"viewBox=\"0 0 24 24\"\n",
              "       width=\"24px\">\n",
              "    <path d=\"M0 0h24v24H0V0z\" fill=\"none\"/>\n",
              "    <path d=\"M18.56 5.44l.94 2.06.94-2.06 2.06-.94-2.06-.94-.94-2.06-.94 2.06-2.06.94zm-11 1L8.5 8.5l.94-2.06 2.06-.94-2.06-.94L8.5 2.5l-.94 2.06-2.06.94zm10 10l.94 2.06.94-2.06 2.06-.94-2.06-.94-.94-2.06-.94 2.06-2.06.94z\"/><path d=\"M17.41 7.96l-1.37-1.37c-.4-.4-.92-.59-1.43-.59-.52 0-1.04.2-1.43.59L10.3 9.45l-7.72 7.72c-.78.78-.78 2.05 0 2.83L4 21.41c.39.39.9.59 1.41.59.51 0 1.02-.2 1.41-.59l7.78-7.78 2.81-2.81c.8-.78.8-2.07 0-2.86zM5.41 20L4 18.59l7.72-7.72 1.47 1.35L5.41 20z\"/>\n",
              "  </svg>\n",
              "      </button>\n",
              "      \n",
              "  <style>\n",
              "    .colab-df-container {\n",
              "      display:flex;\n",
              "      flex-wrap:wrap;\n",
              "      gap: 12px;\n",
              "    }\n",
              "\n",
              "    .colab-df-convert {\n",
              "      background-color: #E8F0FE;\n",
              "      border: none;\n",
              "      border-radius: 50%;\n",
              "      cursor: pointer;\n",
              "      display: none;\n",
              "      fill: #1967D2;\n",
              "      height: 32px;\n",
              "      padding: 0 0 0 0;\n",
              "      width: 32px;\n",
              "    }\n",
              "\n",
              "    .colab-df-convert:hover {\n",
              "      background-color: #E2EBFA;\n",
              "      box-shadow: 0px 1px 2px rgba(60, 64, 67, 0.3), 0px 1px 3px 1px rgba(60, 64, 67, 0.15);\n",
              "      fill: #174EA6;\n",
              "    }\n",
              "\n",
              "    [theme=dark] .colab-df-convert {\n",
              "      background-color: #3B4455;\n",
              "      fill: #D2E3FC;\n",
              "    }\n",
              "\n",
              "    [theme=dark] .colab-df-convert:hover {\n",
              "      background-color: #434B5C;\n",
              "      box-shadow: 0px 1px 3px 1px rgba(0, 0, 0, 0.15);\n",
              "      filter: drop-shadow(0px 1px 2px rgba(0, 0, 0, 0.3));\n",
              "      fill: #FFFFFF;\n",
              "    }\n",
              "  </style>\n",
              "\n",
              "      <script>\n",
              "        const buttonEl =\n",
              "          document.querySelector('#df-9b72bfed-e447-4ba2-bb30-9a6814e432e5 button.colab-df-convert');\n",
              "        buttonEl.style.display =\n",
              "          google.colab.kernel.accessAllowed ? 'block' : 'none';\n",
              "\n",
              "        async function convertToInteractive(key) {\n",
              "          const element = document.querySelector('#df-9b72bfed-e447-4ba2-bb30-9a6814e432e5');\n",
              "          const dataTable =\n",
              "            await google.colab.kernel.invokeFunction('convertToInteractive',\n",
              "                                                     [key], {});\n",
              "          if (!dataTable) return;\n",
              "\n",
              "          const docLinkHtml = 'Like what you see? Visit the ' +\n",
              "            '<a target=\"_blank\" href=https://colab.research.google.com/notebooks/data_table.ipynb>data table notebook</a>'\n",
              "            + ' to learn more about interactive tables.';\n",
              "          element.innerHTML = '';\n",
              "          dataTable['output_type'] = 'display_data';\n",
              "          await google.colab.output.renderOutput(dataTable, element);\n",
              "          const docLink = document.createElement('div');\n",
              "          docLink.innerHTML = docLinkHtml;\n",
              "          element.appendChild(docLink);\n",
              "        }\n",
              "      </script>\n",
              "    </div>\n",
              "  </div>\n",
              "  "
            ]
          },
          "metadata": {},
          "execution_count": 64
        }
      ]
    },
    {
      "cell_type": "code",
      "source": [
        "df.to_csv('Fine_ChatbotData.csv',index=False)"
      ],
      "metadata": {
        "id": "Yiq2Qu-OvrYI"
      },
      "execution_count": null,
      "outputs": []
    },
    {
      "cell_type": "markdown",
      "source": [
        "# 데이터 불러오기 및 dataset,dataLoader 생성"
      ],
      "metadata": {
        "id": "KFkThMBGwU1O"
      }
    },
    {
      "cell_type": "code",
      "source": [
        "import pandas as pd"
      ],
      "metadata": {
        "id": "yUVkY88bUUSM"
      },
      "execution_count": 12,
      "outputs": []
    },
    {
      "cell_type": "code",
      "source": [
        "ls"
      ],
      "metadata": {
        "colab": {
          "base_uri": "https://localhost:8080/"
        },
        "id": "Arye_nidUKQ6",
        "outputId": "8b4603bc-9d0c-4a01-c93d-554204eea8ea"
      },
      "execution_count": 13,
      "outputs": [
        {
          "output_type": "stream",
          "name": "stdout",
          "text": [
            "\u001b[0m\u001b[01;34mdrive\u001b[0m/  \u001b[01;34msample_data\u001b[0m/\n"
          ]
        }
      ]
    },
    {
      "cell_type": "code",
      "source": [
        "cd drive/MyDrive/Pytorch\\ NLP/data_in/Chatbot"
      ],
      "metadata": {
        "colab": {
          "base_uri": "https://localhost:8080/"
        },
        "id": "f-TW_KhyULvJ",
        "outputId": "6898fea9-8aac-41f0-fc7d-3c24291c02c0"
      },
      "execution_count": 14,
      "outputs": [
        {
          "output_type": "stream",
          "name": "stdout",
          "text": [
            "/content/drive/MyDrive/Pytorch NLP/data_in/Chatbot\n"
          ]
        }
      ]
    },
    {
      "cell_type": "code",
      "source": [
        "ls"
      ],
      "metadata": {
        "colab": {
          "base_uri": "https://localhost:8080/"
        },
        "id": "ePtxhAfbWk36",
        "outputId": "f530e4c3-574f-48c7-b562-f624b166afc6"
      },
      "execution_count": 15,
      "outputs": [
        {
          "output_type": "stream",
          "name": "stdout",
          "text": [
            "2_Fine_ChatbotData.csv  ChatbotData.csv       \u001b[0m\u001b[01;34mMecab-ko-for-Google-Colab\u001b[0m/\n",
            "\u001b[01;34mbest_weight\u001b[0m/            Fine_ChatbotData.csv  vocab_word.csv\n"
          ]
        }
      ]
    },
    {
      "cell_type": "code",
      "source": [
        "vocab_word=pd.read_csv('vocab_word.csv')\n",
        "vocab_word.head()"
      ],
      "metadata": {
        "colab": {
          "base_uri": "https://localhost:8080/",
          "height": 204
        },
        "id": "ZvaYdlB9Ic_i",
        "outputId": "3009b461-ad9f-4366-b082-5dac0888465a"
      },
      "execution_count": 16,
      "outputs": [
        {
          "output_type": "execute_result",
          "data": {
            "text/plain": [
              "                 0\n",
              "0            12시 땡\n",
              "1      1지망 학교 떨어졌어\n",
              "2     3박4일 놀러가고 싶다\n",
              "3  3박4일 정도 놀러가고 싶다\n",
              "4          PPL 심하네"
            ],
            "text/html": [
              "\n",
              "  <div id=\"df-b6b3bb9a-7a0a-4104-ae56-68a9489c02cf\">\n",
              "    <div class=\"colab-df-container\">\n",
              "      <div>\n",
              "<style scoped>\n",
              "    .dataframe tbody tr th:only-of-type {\n",
              "        vertical-align: middle;\n",
              "    }\n",
              "\n",
              "    .dataframe tbody tr th {\n",
              "        vertical-align: top;\n",
              "    }\n",
              "\n",
              "    .dataframe thead th {\n",
              "        text-align: right;\n",
              "    }\n",
              "</style>\n",
              "<table border=\"1\" class=\"dataframe\">\n",
              "  <thead>\n",
              "    <tr style=\"text-align: right;\">\n",
              "      <th></th>\n",
              "      <th>0</th>\n",
              "    </tr>\n",
              "  </thead>\n",
              "  <tbody>\n",
              "    <tr>\n",
              "      <th>0</th>\n",
              "      <td>12시 땡</td>\n",
              "    </tr>\n",
              "    <tr>\n",
              "      <th>1</th>\n",
              "      <td>1지망 학교 떨어졌어</td>\n",
              "    </tr>\n",
              "    <tr>\n",
              "      <th>2</th>\n",
              "      <td>3박4일 놀러가고 싶다</td>\n",
              "    </tr>\n",
              "    <tr>\n",
              "      <th>3</th>\n",
              "      <td>3박4일 정도 놀러가고 싶다</td>\n",
              "    </tr>\n",
              "    <tr>\n",
              "      <th>4</th>\n",
              "      <td>PPL 심하네</td>\n",
              "    </tr>\n",
              "  </tbody>\n",
              "</table>\n",
              "</div>\n",
              "      <button class=\"colab-df-convert\" onclick=\"convertToInteractive('df-b6b3bb9a-7a0a-4104-ae56-68a9489c02cf')\"\n",
              "              title=\"Convert this dataframe to an interactive table.\"\n",
              "              style=\"display:none;\">\n",
              "        \n",
              "  <svg xmlns=\"http://www.w3.org/2000/svg\" height=\"24px\"viewBox=\"0 0 24 24\"\n",
              "       width=\"24px\">\n",
              "    <path d=\"M0 0h24v24H0V0z\" fill=\"none\"/>\n",
              "    <path d=\"M18.56 5.44l.94 2.06.94-2.06 2.06-.94-2.06-.94-.94-2.06-.94 2.06-2.06.94zm-11 1L8.5 8.5l.94-2.06 2.06-.94-2.06-.94L8.5 2.5l-.94 2.06-2.06.94zm10 10l.94 2.06.94-2.06 2.06-.94-2.06-.94-.94-2.06-.94 2.06-2.06.94z\"/><path d=\"M17.41 7.96l-1.37-1.37c-.4-.4-.92-.59-1.43-.59-.52 0-1.04.2-1.43.59L10.3 9.45l-7.72 7.72c-.78.78-.78 2.05 0 2.83L4 21.41c.39.39.9.59 1.41.59.51 0 1.02-.2 1.41-.59l7.78-7.78 2.81-2.81c.8-.78.8-2.07 0-2.86zM5.41 20L4 18.59l7.72-7.72 1.47 1.35L5.41 20z\"/>\n",
              "  </svg>\n",
              "      </button>\n",
              "      \n",
              "  <style>\n",
              "    .colab-df-container {\n",
              "      display:flex;\n",
              "      flex-wrap:wrap;\n",
              "      gap: 12px;\n",
              "    }\n",
              "\n",
              "    .colab-df-convert {\n",
              "      background-color: #E8F0FE;\n",
              "      border: none;\n",
              "      border-radius: 50%;\n",
              "      cursor: pointer;\n",
              "      display: none;\n",
              "      fill: #1967D2;\n",
              "      height: 32px;\n",
              "      padding: 0 0 0 0;\n",
              "      width: 32px;\n",
              "    }\n",
              "\n",
              "    .colab-df-convert:hover {\n",
              "      background-color: #E2EBFA;\n",
              "      box-shadow: 0px 1px 2px rgba(60, 64, 67, 0.3), 0px 1px 3px 1px rgba(60, 64, 67, 0.15);\n",
              "      fill: #174EA6;\n",
              "    }\n",
              "\n",
              "    [theme=dark] .colab-df-convert {\n",
              "      background-color: #3B4455;\n",
              "      fill: #D2E3FC;\n",
              "    }\n",
              "\n",
              "    [theme=dark] .colab-df-convert:hover {\n",
              "      background-color: #434B5C;\n",
              "      box-shadow: 0px 1px 3px 1px rgba(0, 0, 0, 0.15);\n",
              "      filter: drop-shadow(0px 1px 2px rgba(0, 0, 0, 0.3));\n",
              "      fill: #FFFFFF;\n",
              "    }\n",
              "  </style>\n",
              "\n",
              "      <script>\n",
              "        const buttonEl =\n",
              "          document.querySelector('#df-b6b3bb9a-7a0a-4104-ae56-68a9489c02cf button.colab-df-convert');\n",
              "        buttonEl.style.display =\n",
              "          google.colab.kernel.accessAllowed ? 'block' : 'none';\n",
              "\n",
              "        async function convertToInteractive(key) {\n",
              "          const element = document.querySelector('#df-b6b3bb9a-7a0a-4104-ae56-68a9489c02cf');\n",
              "          const dataTable =\n",
              "            await google.colab.kernel.invokeFunction('convertToInteractive',\n",
              "                                                     [key], {});\n",
              "          if (!dataTable) return;\n",
              "\n",
              "          const docLinkHtml = 'Like what you see? Visit the ' +\n",
              "            '<a target=\"_blank\" href=https://colab.research.google.com/notebooks/data_table.ipynb>data table notebook</a>'\n",
              "            + ' to learn more about interactive tables.';\n",
              "          element.innerHTML = '';\n",
              "          dataTable['output_type'] = 'display_data';\n",
              "          await google.colab.output.renderOutput(dataTable, element);\n",
              "          const docLink = document.createElement('div');\n",
              "          docLink.innerHTML = docLinkHtml;\n",
              "          element.appendChild(docLink);\n",
              "        }\n",
              "      </script>\n",
              "    </div>\n",
              "  </div>\n",
              "  "
            ]
          },
          "metadata": {},
          "execution_count": 16
        }
      ]
    },
    {
      "cell_type": "code",
      "source": [
        "train_data=pd.read_csv('2_Fine_ChatbotData.csv')\n",
        "train_data.head()"
      ],
      "metadata": {
        "id": "urp-WyI6wZ37",
        "colab": {
          "base_uri": "https://localhost:8080/",
          "height": 204
        },
        "outputId": "dc449d5b-4e80-4a80-da62-782a3d4df8e3"
      },
      "execution_count": 17,
      "outputs": [
        {
          "output_type": "execute_result",
          "data": {
            "text/plain": [
              "                 Q           A       label\n",
              "0            12시 땡   하루가 또 가네요   하루가 또 가네요\n",
              "1      1지망 학교 떨어졌어    위로해 드립니다    위로해 드립니다\n",
              "2     3박4일 놀러가고 싶다  여행은 언제나 좋죠  여행은 언제나 좋죠\n",
              "3  3박4일 정도 놀러가고 싶다  여행은 언제나 좋죠  여행은 언제나 좋죠\n",
              "4          PPL 심하네   눈살이 찌푸려지죠   눈살이 찌푸려지죠"
            ],
            "text/html": [
              "\n",
              "  <div id=\"df-d1ae78f8-4448-4f9e-b611-74b71489f044\">\n",
              "    <div class=\"colab-df-container\">\n",
              "      <div>\n",
              "<style scoped>\n",
              "    .dataframe tbody tr th:only-of-type {\n",
              "        vertical-align: middle;\n",
              "    }\n",
              "\n",
              "    .dataframe tbody tr th {\n",
              "        vertical-align: top;\n",
              "    }\n",
              "\n",
              "    .dataframe thead th {\n",
              "        text-align: right;\n",
              "    }\n",
              "</style>\n",
              "<table border=\"1\" class=\"dataframe\">\n",
              "  <thead>\n",
              "    <tr style=\"text-align: right;\">\n",
              "      <th></th>\n",
              "      <th>Q</th>\n",
              "      <th>A</th>\n",
              "      <th>label</th>\n",
              "    </tr>\n",
              "  </thead>\n",
              "  <tbody>\n",
              "    <tr>\n",
              "      <th>0</th>\n",
              "      <td>12시 땡</td>\n",
              "      <td>하루가 또 가네요</td>\n",
              "      <td>하루가 또 가네요</td>\n",
              "    </tr>\n",
              "    <tr>\n",
              "      <th>1</th>\n",
              "      <td>1지망 학교 떨어졌어</td>\n",
              "      <td>위로해 드립니다</td>\n",
              "      <td>위로해 드립니다</td>\n",
              "    </tr>\n",
              "    <tr>\n",
              "      <th>2</th>\n",
              "      <td>3박4일 놀러가고 싶다</td>\n",
              "      <td>여행은 언제나 좋죠</td>\n",
              "      <td>여행은 언제나 좋죠</td>\n",
              "    </tr>\n",
              "    <tr>\n",
              "      <th>3</th>\n",
              "      <td>3박4일 정도 놀러가고 싶다</td>\n",
              "      <td>여행은 언제나 좋죠</td>\n",
              "      <td>여행은 언제나 좋죠</td>\n",
              "    </tr>\n",
              "    <tr>\n",
              "      <th>4</th>\n",
              "      <td>PPL 심하네</td>\n",
              "      <td>눈살이 찌푸려지죠</td>\n",
              "      <td>눈살이 찌푸려지죠</td>\n",
              "    </tr>\n",
              "  </tbody>\n",
              "</table>\n",
              "</div>\n",
              "      <button class=\"colab-df-convert\" onclick=\"convertToInteractive('df-d1ae78f8-4448-4f9e-b611-74b71489f044')\"\n",
              "              title=\"Convert this dataframe to an interactive table.\"\n",
              "              style=\"display:none;\">\n",
              "        \n",
              "  <svg xmlns=\"http://www.w3.org/2000/svg\" height=\"24px\"viewBox=\"0 0 24 24\"\n",
              "       width=\"24px\">\n",
              "    <path d=\"M0 0h24v24H0V0z\" fill=\"none\"/>\n",
              "    <path d=\"M18.56 5.44l.94 2.06.94-2.06 2.06-.94-2.06-.94-.94-2.06-.94 2.06-2.06.94zm-11 1L8.5 8.5l.94-2.06 2.06-.94-2.06-.94L8.5 2.5l-.94 2.06-2.06.94zm10 10l.94 2.06.94-2.06 2.06-.94-2.06-.94-.94-2.06-.94 2.06-2.06.94z\"/><path d=\"M17.41 7.96l-1.37-1.37c-.4-.4-.92-.59-1.43-.59-.52 0-1.04.2-1.43.59L10.3 9.45l-7.72 7.72c-.78.78-.78 2.05 0 2.83L4 21.41c.39.39.9.59 1.41.59.51 0 1.02-.2 1.41-.59l7.78-7.78 2.81-2.81c.8-.78.8-2.07 0-2.86zM5.41 20L4 18.59l7.72-7.72 1.47 1.35L5.41 20z\"/>\n",
              "  </svg>\n",
              "      </button>\n",
              "      \n",
              "  <style>\n",
              "    .colab-df-container {\n",
              "      display:flex;\n",
              "      flex-wrap:wrap;\n",
              "      gap: 12px;\n",
              "    }\n",
              "\n",
              "    .colab-df-convert {\n",
              "      background-color: #E8F0FE;\n",
              "      border: none;\n",
              "      border-radius: 50%;\n",
              "      cursor: pointer;\n",
              "      display: none;\n",
              "      fill: #1967D2;\n",
              "      height: 32px;\n",
              "      padding: 0 0 0 0;\n",
              "      width: 32px;\n",
              "    }\n",
              "\n",
              "    .colab-df-convert:hover {\n",
              "      background-color: #E2EBFA;\n",
              "      box-shadow: 0px 1px 2px rgba(60, 64, 67, 0.3), 0px 1px 3px 1px rgba(60, 64, 67, 0.15);\n",
              "      fill: #174EA6;\n",
              "    }\n",
              "\n",
              "    [theme=dark] .colab-df-convert {\n",
              "      background-color: #3B4455;\n",
              "      fill: #D2E3FC;\n",
              "    }\n",
              "\n",
              "    [theme=dark] .colab-df-convert:hover {\n",
              "      background-color: #434B5C;\n",
              "      box-shadow: 0px 1px 3px 1px rgba(0, 0, 0, 0.15);\n",
              "      filter: drop-shadow(0px 1px 2px rgba(0, 0, 0, 0.3));\n",
              "      fill: #FFFFFF;\n",
              "    }\n",
              "  </style>\n",
              "\n",
              "      <script>\n",
              "        const buttonEl =\n",
              "          document.querySelector('#df-d1ae78f8-4448-4f9e-b611-74b71489f044 button.colab-df-convert');\n",
              "        buttonEl.style.display =\n",
              "          google.colab.kernel.accessAllowed ? 'block' : 'none';\n",
              "\n",
              "        async function convertToInteractive(key) {\n",
              "          const element = document.querySelector('#df-d1ae78f8-4448-4f9e-b611-74b71489f044');\n",
              "          const dataTable =\n",
              "            await google.colab.kernel.invokeFunction('convertToInteractive',\n",
              "                                                     [key], {});\n",
              "          if (!dataTable) return;\n",
              "\n",
              "          const docLinkHtml = 'Like what you see? Visit the ' +\n",
              "            '<a target=\"_blank\" href=https://colab.research.google.com/notebooks/data_table.ipynb>data table notebook</a>'\n",
              "            + ' to learn more about interactive tables.';\n",
              "          element.innerHTML = '';\n",
              "          dataTable['output_type'] = 'display_data';\n",
              "          await google.colab.output.renderOutput(dataTable, element);\n",
              "          const docLink = document.createElement('div');\n",
              "          docLink.innerHTML = docLinkHtml;\n",
              "          element.appendChild(docLink);\n",
              "        }\n",
              "      </script>\n",
              "    </div>\n",
              "  </div>\n",
              "  "
            ]
          },
          "metadata": {},
          "execution_count": 17
        }
      ]
    },
    {
      "cell_type": "markdown",
      "source": [
        "tokenizer = 공백기준분리 str.split() 사용 예정\n"
      ],
      "metadata": {
        "id": "gq9NV5EOUcNW"
      }
    },
    {
      "cell_type": "code",
      "source": [
        "## hyperparameter\n",
        "\n",
        "BATCH_SIZE=2\n",
        "MAX_LEN=25\n",
        "EPOCH=50\n",
        "UNIT=1024\n",
        "EMB_DIM=256"
      ],
      "metadata": {
        "id": "3r_5juaWdiEs"
      },
      "execution_count": 18,
      "outputs": []
    },
    {
      "cell_type": "markdown",
      "source": [
        "### 필드 정의 및 Tabulardataset 생성"
      ],
      "metadata": {
        "id": "QndP2TiqUlB2"
      }
    },
    {
      "cell_type": "code",
      "source": [
        "pip install torchtext==0.6"
      ],
      "metadata": {
        "id": "eJAIfRjLUTIS",
        "colab": {
          "base_uri": "https://localhost:8080/"
        },
        "outputId": "8df9e90a-c337-4ec3-a259-434926e4d4a3"
      },
      "execution_count": 19,
      "outputs": [
        {
          "output_type": "stream",
          "name": "stdout",
          "text": [
            "Looking in indexes: https://pypi.org/simple, https://us-python.pkg.dev/colab-wheels/public/simple/\n",
            "Requirement already satisfied: torchtext==0.6 in /usr/local/lib/python3.10/dist-packages (0.6.0)\n",
            "Requirement already satisfied: tqdm in /usr/local/lib/python3.10/dist-packages (from torchtext==0.6) (4.65.0)\n",
            "Requirement already satisfied: requests in /usr/local/lib/python3.10/dist-packages (from torchtext==0.6) (2.27.1)\n",
            "Requirement already satisfied: torch in /usr/local/lib/python3.10/dist-packages (from torchtext==0.6) (2.0.1+cu118)\n",
            "Requirement already satisfied: numpy in /usr/local/lib/python3.10/dist-packages (from torchtext==0.6) (1.22.4)\n",
            "Requirement already satisfied: six in /usr/local/lib/python3.10/dist-packages (from torchtext==0.6) (1.16.0)\n",
            "Requirement already satisfied: sentencepiece in /usr/local/lib/python3.10/dist-packages (from torchtext==0.6) (0.1.99)\n",
            "Requirement already satisfied: urllib3<1.27,>=1.21.1 in /usr/local/lib/python3.10/dist-packages (from requests->torchtext==0.6) (1.26.15)\n",
            "Requirement already satisfied: certifi>=2017.4.17 in /usr/local/lib/python3.10/dist-packages (from requests->torchtext==0.6) (2022.12.7)\n",
            "Requirement already satisfied: charset-normalizer~=2.0.0 in /usr/local/lib/python3.10/dist-packages (from requests->torchtext==0.6) (2.0.12)\n",
            "Requirement already satisfied: idna<4,>=2.5 in /usr/local/lib/python3.10/dist-packages (from requests->torchtext==0.6) (3.4)\n",
            "Requirement already satisfied: filelock in /usr/local/lib/python3.10/dist-packages (from torch->torchtext==0.6) (3.12.0)\n",
            "Requirement already satisfied: typing-extensions in /usr/local/lib/python3.10/dist-packages (from torch->torchtext==0.6) (4.5.0)\n",
            "Requirement already satisfied: sympy in /usr/local/lib/python3.10/dist-packages (from torch->torchtext==0.6) (1.11.1)\n",
            "Requirement already satisfied: networkx in /usr/local/lib/python3.10/dist-packages (from torch->torchtext==0.6) (3.1)\n",
            "Requirement already satisfied: jinja2 in /usr/local/lib/python3.10/dist-packages (from torch->torchtext==0.6) (3.1.2)\n",
            "Requirement already satisfied: triton==2.0.0 in /usr/local/lib/python3.10/dist-packages (from torch->torchtext==0.6) (2.0.0)\n",
            "Requirement already satisfied: cmake in /usr/local/lib/python3.10/dist-packages (from triton==2.0.0->torch->torchtext==0.6) (3.25.2)\n",
            "Requirement already satisfied: lit in /usr/local/lib/python3.10/dist-packages (from triton==2.0.0->torch->torchtext==0.6) (16.0.5)\n",
            "Requirement already satisfied: MarkupSafe>=2.0 in /usr/local/lib/python3.10/dist-packages (from jinja2->torch->torchtext==0.6) (2.1.2)\n",
            "Requirement already satisfied: mpmath>=0.19 in /usr/local/lib/python3.10/dist-packages (from sympy->torch->torchtext==0.6) (1.3.0)\n"
          ]
        }
      ]
    },
    {
      "cell_type": "code",
      "source": [
        "from torchtext import data"
      ],
      "metadata": {
        "id": "3910AEb5UuTu"
      },
      "execution_count": 20,
      "outputs": []
    },
    {
      "cell_type": "code",
      "source": [
        "# vocab 전용\n",
        "V=data.Field(sequential=True,\n",
        "             use_vocab=True,\n",
        "             tokenize=str.split,\n",
        "             init_token='<sos>',\n",
        "             eos_token='<eos>',\n",
        "             fix_length=MAX_LEN)"
      ],
      "metadata": {
        "id": "-zHXRZCBIoaD"
      },
      "execution_count": 21,
      "outputs": []
    },
    {
      "cell_type": "code",
      "source": [
        "Q=data.Field(sequential=True,\n",
        "             use_vocab=True,\n",
        "             tokenize=str.split,\n",
        "             batch_first=True,\n",
        "             fix_length=MAX_LEN)\n",
        "\n",
        "A=data.Field(sequential=True,\n",
        "             use_vocab=True,\n",
        "             init_token='<sos>',\n",
        "             eos_token='<eos>',\n",
        "             tokenize=str.split,\n",
        "             batch_first=True,\n",
        "             fix_length=MAX_LEN)\n",
        "LABEL=data.Field(sequential=True,\n",
        "                 use_vocab=True,\n",
        "                 eos_token='<eos>',\n",
        "                 tokenize=str.split,\n",
        "                 batch_first=True,\n",
        "                 fix_length=MAX_LEN)"
      ],
      "metadata": {
        "id": "G_tTpjVsUypo"
      },
      "execution_count": 22,
      "outputs": []
    },
    {
      "cell_type": "code",
      "source": [
        "from torchtext.data import TabularDataset"
      ],
      "metadata": {
        "id": "LhOixfT_YX75"
      },
      "execution_count": 23,
      "outputs": []
    },
    {
      "cell_type": "code",
      "source": [
        "train_data=TabularDataset('2_Fine_ChatbotData.csv',format='csv',fields=[('question',Q),('answer',A),('label',LABEL)],skip_header=True)\n",
        "vars(train_data[0])"
      ],
      "metadata": {
        "colab": {
          "base_uri": "https://localhost:8080/"
        },
        "id": "gQJA9iw7Yb2n",
        "outputId": "24b093ed-991d-4679-be81-a7f0c753a8c8"
      },
      "execution_count": 24,
      "outputs": [
        {
          "output_type": "execute_result",
          "data": {
            "text/plain": [
              "{'question': ['12시', '땡'],\n",
              " 'answer': ['하루가', '또', '가네요'],\n",
              " 'label': ['하루가', '또', '가네요']}"
            ]
          },
          "metadata": {},
          "execution_count": 24
        }
      ]
    },
    {
      "cell_type": "code",
      "source": [
        "vocab_data=TabularDataset('vocab_word.csv',format='csv',fields=[('vocab_word',V)],skip_header=True)"
      ],
      "metadata": {
        "id": "UUI_MjF6I7eN"
      },
      "execution_count": 25,
      "outputs": []
    },
    {
      "cell_type": "markdown",
      "source": [
        "### 사전 정의\n",
        "- 3개의 Field는 하나의 사전을 공유\n",
        "- vocab_word라는 Q와A의 모든 문장을 합친 데이터로부터 단어사전을 만든 다음에\n",
        "- 해당 단어사전을 Q,A,LABEL에 전달할 예정"
      ],
      "metadata": {
        "id": "Juh3wdrkZtCS"
      }
    },
    {
      "cell_type": "code",
      "source": [
        "V.build_vocab(vocab_data,min_freq=2)\n",
        "\n",
        "Q.vocab=V.vocab\n",
        "A.vocab=V.vocab\n",
        "LABEL.vocab=V.vocab"
      ],
      "metadata": {
        "id": "T45_lwXmZmaL"
      },
      "execution_count": 26,
      "outputs": []
    },
    {
      "cell_type": "code",
      "source": [
        "Q.vocab.stoi"
      ],
      "metadata": {
        "id": "6_dS1HCqCSo2"
      },
      "execution_count": null,
      "outputs": []
    },
    {
      "cell_type": "code",
      "source": [
        "Q.vocab.itos[943]"
      ],
      "metadata": {
        "colab": {
          "base_uri": "https://localhost:8080/",
          "height": 35
        },
        "id": "WHRvNeoCBLZ1",
        "outputId": "d6e9ec4a-8898-460c-eff5-f3ba46658e11"
      },
      "execution_count": null,
      "outputs": [
        {
          "output_type": "execute_result",
          "data": {
            "text/plain": [
              "'안녕'"
            ],
            "application/vnd.google.colaboratory.intrinsic+json": {
              "type": "string"
            }
          },
          "metadata": {},
          "execution_count": 18
        }
      ]
    },
    {
      "cell_type": "code",
      "source": [
        "Q.vocab.stoi['안녕']"
      ],
      "metadata": {
        "colab": {
          "base_uri": "https://localhost:8080/"
        },
        "id": "nkow2f_E_ozg",
        "outputId": "530647a6-6dfb-4da7-803b-f40e341ef901"
      },
      "execution_count": null,
      "outputs": [
        {
          "output_type": "execute_result",
          "data": {
            "text/plain": [
              "943"
            ]
          },
          "metadata": {},
          "execution_count": 19
        }
      ]
    },
    {
      "cell_type": "markdown",
      "source": [
        "### 시드 고정 후 데이터 분리"
      ],
      "metadata": {
        "id": "csMefzj5jZnh"
      }
    },
    {
      "cell_type": "code",
      "source": [
        "import random\n",
        "import torch\n",
        "SEED=123\n",
        "random.seed(SEED)\n",
        "torch.manual_seed(SEED)\n",
        "\n",
        "train_data,val_data=train_data.split(split_ratio=0.9,random_state=random.seed(SEED))"
      ],
      "metadata": {
        "id": "10fiyJV6cB7T"
      },
      "execution_count": 27,
      "outputs": []
    },
    {
      "cell_type": "markdown",
      "source": [
        "### 데이터 로더 생성"
      ],
      "metadata": {
        "id": "BF6m01rjbo4L"
      }
    },
    {
      "cell_type": "code",
      "source": [
        "from torchtext.data import Iterator"
      ],
      "metadata": {
        "id": "tlJ5Gb9KbWjT"
      },
      "execution_count": 28,
      "outputs": []
    },
    {
      "cell_type": "code",
      "source": [
        "train_iter=Iterator(train_data,batch_size=BATCH_SIZE)\n",
        "val_iter=Iterator(val_data,batch_size=BATCH_SIZE)"
      ],
      "metadata": {
        "id": "IjDKcRPIb4UB"
      },
      "execution_count": 29,
      "outputs": []
    },
    {
      "cell_type": "code",
      "source": [
        "batch=next(iter(train_iter))\n",
        "batch.question"
      ],
      "metadata": {
        "colab": {
          "base_uri": "https://localhost:8080/"
        },
        "id": "VgLTJNiugDKE",
        "outputId": "b49fe9e1-c10f-41d1-ab84-c93a42adf14e"
      },
      "execution_count": null,
      "outputs": [
        {
          "output_type": "execute_result",
          "data": {
            "text/plain": [
              "tensor([[ 493,    0,    0, 1647,    1,    1,    1,    1,    1,    1,    1,    1,\n",
              "            1,    1,    1,    1,    1,    1,    1,    1,    1,    1,    1,    1,\n",
              "            1],\n",
              "        [  24,    0,    1,    1,    1,    1,    1,    1,    1,    1,    1,    1,\n",
              "            1,    1,    1,    1,    1,    1,    1,    1,    1,    1,    1,    1,\n",
              "            1]])"
            ]
          },
          "metadata": {},
          "execution_count": 34
        }
      ]
    },
    {
      "cell_type": "code",
      "source": [
        "batch.answer"
      ],
      "metadata": {
        "colab": {
          "base_uri": "https://localhost:8080/"
        },
        "id": "ah3oaCodgsMq",
        "outputId": "83065680-15d0-407b-d4df-df7af6e71062"
      },
      "execution_count": null,
      "outputs": [
        {
          "output_type": "execute_result",
          "data": {
            "text/plain": [
              "tensor([[   2, 9027, 7444,    4,    3,    1,    1,    1,    1,    1,    1,    1,\n",
              "            1,    1,    1,    1,    1,    1,    1,    1,    1,    1,    1,    1,\n",
              "            1],\n",
              "        [   2, 7855, 5459, 2818, 7854, 4065,   15, 2818,  128,    3,    1,    1,\n",
              "            1,    1,    1,    1,    1,    1,    1,    1,    1,    1,    1,    1,\n",
              "            1]])"
            ]
          },
          "metadata": {},
          "execution_count": 35
        }
      ]
    },
    {
      "cell_type": "code",
      "source": [
        "batch.label"
      ],
      "metadata": {
        "colab": {
          "base_uri": "https://localhost:8080/"
        },
        "id": "8Uh_i0LmhT_u",
        "outputId": "5d7151c2-33a3-4ccf-dade-f1df2d41df26"
      },
      "execution_count": null,
      "outputs": [
        {
          "output_type": "execute_result",
          "data": {
            "text/plain": [
              "tensor([[9027, 7444,    4,    3,    1,    1,    1,    1,    1,    1,    1,    1,\n",
              "            1,    1,    1,    1,    1,    1,    1,    1,    1,    1,    1,    1,\n",
              "            1],\n",
              "        [7855, 5459, 2818, 7854, 4065,   15, 2818,  128,    3,    1,    1,    1,\n",
              "            1,    1,    1,    1,    1,    1,    1,    1,    1,    1,    1,    1,\n",
              "            1]])"
            ]
          },
          "metadata": {},
          "execution_count": 36
        }
      ]
    },
    {
      "cell_type": "code",
      "source": [
        "train_iter=Iterator(train_data,batch_size=BATCH_SIZE)\n",
        "val_iter=Iterator(val_data,batch_size=BATCH_SIZE)"
      ],
      "metadata": {
        "id": "7Stu682DlPZ6"
      },
      "execution_count": null,
      "outputs": []
    },
    {
      "cell_type": "markdown",
      "source": [
        "# 모델 구현"
      ],
      "metadata": {
        "id": "x-fmOfmaoP3e"
      }
    },
    {
      "cell_type": "code",
      "source": [
        "## hyperparameter\n",
        "\n",
        "BATCH_SIZE=2\n",
        "MAX_LEN=25\n",
        "EPOCH=50\n",
        "UNIT=1024\n",
        "EMB_DIM=256\n",
        "device='cuda' if torch.cuda.is_available() else 'cpu'\n",
        "vocab_size=len(V.vocab)"
      ],
      "metadata": {
        "id": "dGq5dZEguB0Z"
      },
      "execution_count": 30,
      "outputs": []
    },
    {
      "cell_type": "code",
      "source": [
        "## 모듈 불러오기\n",
        "import torch\n",
        "import torch.nn as nn"
      ],
      "metadata": {
        "id": "aimDJ_nH0MFd"
      },
      "execution_count": 31,
      "outputs": []
    },
    {
      "cell_type": "code",
      "source": [
        "class Encoder(nn.Module):\n",
        "  def __init__(self,vocab_size,emb_dim,hidden_dim,dense_dim):\n",
        "    super(Encoder,self).__init__()\n",
        "    self.embedding=nn.Embedding(vocab_size,emb_dim)\n",
        "    self.gru=nn.GRU(emb_dim,hidden_dim,batch_first=True)\n",
        "    self.dense=nn.Linear(hidden_dim,dense_dim)\n",
        "\n",
        "  def forward(self,x):\n",
        "    x=self.embedding(x)  # (batch_size, Max_len, emb_dim)\n",
        "    outputs,last_hidden_state=self.gru(x) # outputs: ( batch_size, Max_len, dense_dim ) last_hidden_state : ( 1, batch_size, hidden_dim )\n",
        "    return self.dense(outputs),self.dense(last_hidden_state), last_hidden_state #( batch_size, Max_len, dense_dim ) , ( 1, batch_size, hidden_dim ) , ( 1, batch_size, hidden_dim )"
      ],
      "metadata": {
        "id": "Rm_OAmrCoQuY"
      },
      "execution_count": 32,
      "outputs": []
    },
    {
      "cell_type": "code",
      "source": [
        "class Attention(nn.Module):\n",
        "  def __init__(self,dense_dim):\n",
        "    super(Attention,self).__init__()\n",
        "    self.dense=nn.Linear(dense_dim,1)\n",
        "    self.softmax=nn.Softmax(dim=1)\n",
        "\n",
        "  def forward(self,outputs,last_hidden_state):\n",
        "    # outputs: ( bacth_Size, 1, hidden_dim)\n",
        "    # last_hidden_state : ( 1, bacth_Size, hidden_dim) or ( batch_size, 1, hidden_dim )\n",
        "    last_hidden_state=last_hidden_state.view(BATCH_SIZE,1,UNIT) # ( bacth_size, 1, hidden_dim)\n",
        "    after_sum=outputs+last_hidden_state  # ( batch_size, Max_len, dense_dim ) + ( bacth_Size, 1, hidden_dim) => broadcasting\n",
        "    after_dense=self.dense(after_sum) # ( batch_size, Max_len, 1 )\n",
        "    after_softmax=self.softmax(after_dense) # ( batch_size, Max_len, 1 )\n",
        "    context_vector=torch.sum(after_softmax*outputs,dim=1) # ( batch_size, dense_dim )\n",
        "    \n",
        "\n",
        "    return torch.unsqueeze(context_vector,dim=1) # ( batch_size, 1, dense_dim )"
      ],
      "metadata": {
        "id": "ekbi_-Yg3liO"
      },
      "execution_count": 33,
      "outputs": []
    },
    {
      "cell_type": "code",
      "source": [
        "a=torch.Tensor([[[1,2,3],[4,5,6]]])\n",
        "print(a.size())\n",
        "print(a.permute(1,0,2))\n",
        "print(a.view(2,1,3))"
      ],
      "metadata": {
        "colab": {
          "base_uri": "https://localhost:8080/"
        },
        "id": "FFTSr4Nl2noH",
        "outputId": "ee644ac8-dfb0-4c9e-a291-915c92156b17"
      },
      "execution_count": 6,
      "outputs": [
        {
          "output_type": "stream",
          "name": "stdout",
          "text": [
            "torch.Size([1, 2, 3])\n",
            "tensor([[[1., 2., 3.]],\n",
            "\n",
            "        [[4., 5., 6.]]])\n",
            "tensor([[[1., 2., 3.]],\n",
            "\n",
            "        [[4., 5., 6.]]])\n"
          ]
        }
      ]
    },
    {
      "cell_type": "code",
      "source": [
        "a=torch.Tensor([[1,2,3],[4,5,6]])\n",
        "print(a.size())\n",
        "a=a.unsqueeze(1)\n",
        "print(a.size())\n",
        "print(a.expand(2,4,3)) # 크기가 1인 차원에 대해서만 가능"
      ],
      "metadata": {
        "colab": {
          "base_uri": "https://localhost:8080/"
        },
        "id": "UQWFHMvyOB9m",
        "outputId": "edb15dbf-5f99-4e9b-caba-85dfc45ba24a"
      },
      "execution_count": null,
      "outputs": [
        {
          "output_type": "stream",
          "name": "stdout",
          "text": [
            "torch.Size([2, 3])\n",
            "torch.Size([2, 1, 3])\n",
            "tensor([[[1., 2., 3.],\n",
            "         [1., 2., 3.],\n",
            "         [1., 2., 3.],\n",
            "         [1., 2., 3.]],\n",
            "\n",
            "        [[4., 5., 6.],\n",
            "         [4., 5., 6.],\n",
            "         [4., 5., 6.],\n",
            "         [4., 5., 6.]]])\n"
          ]
        }
      ]
    },
    {
      "cell_type": "code",
      "source": [
        "## Sum\n",
        "a=torch.Tensor([[[1,2,3],[4,5,6]]])\n",
        "b=torch.Tensor([[[1,2,3]]])\n",
        "print(a.size())\n",
        "print(b.size())\n",
        "a+b"
      ],
      "metadata": {
        "colab": {
          "base_uri": "https://localhost:8080/"
        },
        "id": "QrQ-TY_RyQow",
        "outputId": "ce3a17b1-6222-4bfc-a288-9cbac5765a26"
      },
      "execution_count": null,
      "outputs": [
        {
          "output_type": "stream",
          "name": "stdout",
          "text": [
            "torch.Size([1, 2, 3])\n",
            "torch.Size([1, 1, 3])\n"
          ]
        },
        {
          "output_type": "execute_result",
          "data": {
            "text/plain": [
              "tensor([[[2., 4., 6.],\n",
              "         [5., 7., 9.]]])"
            ]
          },
          "metadata": {},
          "execution_count": 50
        }
      ]
    },
    {
      "cell_type": "code",
      "source": [
        "## Multi token Sum\n",
        "a=torch.Tensor([[[1,2,3],[4,5,6]]])\n",
        "b=torch.Tensor([[[1,2,3]],[[4,5,6]]])\n",
        "print(a.size())\n",
        "print(b.size())\n",
        "b+a"
      ],
      "metadata": {
        "colab": {
          "base_uri": "https://localhost:8080/"
        },
        "id": "AEbCeYYHSjiZ",
        "outputId": "41608993-31b6-4d9b-c528-f87816b3aa06"
      },
      "execution_count": null,
      "outputs": [
        {
          "output_type": "stream",
          "name": "stdout",
          "text": [
            "torch.Size([1, 2, 3])\n",
            "torch.Size([2, 1, 3])\n"
          ]
        },
        {
          "output_type": "execute_result",
          "data": {
            "text/plain": [
              "tensor([[[ 2.,  4.,  6.],\n",
              "         [ 5.,  7.,  9.]],\n",
              "\n",
              "        [[ 5.,  7.,  9.],\n",
              "         [ 8., 10., 12.]]])"
            ]
          },
          "metadata": {},
          "execution_count": 40
        }
      ]
    },
    {
      "cell_type": "code",
      "source": [
        "## Softmax\n",
        "softmax=nn.Softmax(dim=1)\n",
        "a=torch.Tensor([[[3],[5],[4],[1]]])\n",
        "out=softmax(a)\n",
        "out"
      ],
      "metadata": {
        "colab": {
          "base_uri": "https://localhost:8080/"
        },
        "id": "W4YHAWa70FsQ",
        "outputId": "7ba15fa2-8b7c-4c05-a165-28d5f206207f"
      },
      "execution_count": null,
      "outputs": [
        {
          "output_type": "execute_result",
          "data": {
            "text/plain": [
              "tensor([[[0.0889],\n",
              "         [0.6572],\n",
              "         [0.2418],\n",
              "         [0.0120]]])"
            ]
          },
          "metadata": {},
          "execution_count": 9
        }
      ]
    },
    {
      "cell_type": "code",
      "source": [
        "## Weighted Sum\n",
        "a=torch.Tensor([[[1,2,3],[4,5,6]]])\n",
        "b=torch.Tensor([[[1],[2]]])\n",
        "print(a.size())\n",
        "print(b.size())\n",
        "a*b"
      ],
      "metadata": {
        "id": "nXWisayT8oDb",
        "colab": {
          "base_uri": "https://localhost:8080/"
        },
        "outputId": "3f663ffd-8571-4cdc-d05b-f9ef90b58050"
      },
      "execution_count": null,
      "outputs": [
        {
          "output_type": "stream",
          "name": "stdout",
          "text": [
            "torch.Size([1, 2, 3])\n",
            "torch.Size([1, 2, 1])\n"
          ]
        },
        {
          "output_type": "execute_result",
          "data": {
            "text/plain": [
              "tensor([[[ 1.,  2.,  3.],\n",
              "         [ 8., 10., 12.]]])"
            ]
          },
          "metadata": {},
          "execution_count": 5
        }
      ]
    },
    {
      "cell_type": "code",
      "source": [
        "class Decoder(nn.Module):\n",
        "  def __init__(self,vocab_size,emb_dim,hidden_dim,dense_dim):\n",
        "    super(Decoder,self).__init__()\n",
        "    self.embedding=nn.Embedding(vocab_size,emb_dim)\n",
        "    self.gru=nn.GRU(emb_dim+dense_dim,hidden_dim,batch_first=True)\n",
        "    self.dense1=nn.Linear(hidden_dim,vocab_size)\n",
        "    self.dense2=nn.Linear(hidden_dim,dense_dim)\n",
        "  \n",
        "  def forward(self,x,context,hidden):\n",
        "    # x : ( batch_size, 1 )    \n",
        "    # context : ( bath_size, 1, dense_dim==emb_dim)\n",
        "    # hidden : ( 1, batch_size, hidden_dim)\n",
        "    after_emb=self.embedding(x) # ( batch_size, 1 , emb_dim)\n",
        "    after_cat=torch.cat([context,after_emb],dim=-1)  # ( batch_size, 1 , emb_dim+dense_dim)\n",
        "    output,pre_hidden=self.gru(after_cat,hidden) # ( batch_size, 1 , hidden_dim), ( 1, batch_size, hidden_dim ) # hidden 에서는 batch_first가 적용되지 않는것을 주의!  \n",
        "    predict_token=self.dense1(output) # ( batch_size, 1, hidden_dim) -> ( batch_size, 1, vocab_size )\n",
        "    return  predict_token, self.dense2(pre_hidden), pre_hidden # (batch_size, 1, vocab_size) , (1, batch_size, hideen_dim) 다음 context 계산시 사용 , (1, batch_size, hideen_dim) 다음 gru pre_hidden으로 사용 "
      ],
      "metadata": {
        "id": "McFKGQfUzgqV"
      },
      "execution_count": 34,
      "outputs": []
    },
    {
      "cell_type": "code",
      "source": [
        "a=torch.Tensor([[[1,2,3],[4,5,6]],[[3,2,1],[6,5,4]]])\n",
        "b=torch.Tensor([[[1,2,3],[4,5,6]],[[4,5,6],[7,8,9]]])\n",
        "print(a.size())\n",
        "print(b.size())\n",
        "torch.cat([b,a],dim=-1)"
      ],
      "metadata": {
        "colab": {
          "base_uri": "https://localhost:8080/"
        },
        "id": "rzwnon4GMrX1",
        "outputId": "fad4fa98-7cb4-4c4d-e198-b3adcc36ea1e"
      },
      "execution_count": null,
      "outputs": [
        {
          "output_type": "stream",
          "name": "stdout",
          "text": [
            "torch.Size([2, 2, 3])\n",
            "torch.Size([2, 2, 3])\n"
          ]
        },
        {
          "output_type": "execute_result",
          "data": {
            "text/plain": [
              "tensor([[[1., 2., 3., 1., 2., 3.],\n",
              "         [4., 5., 6., 4., 5., 6.]],\n",
              "\n",
              "        [[4., 5., 6., 3., 2., 1.],\n",
              "         [7., 8., 9., 6., 5., 4.]]])"
            ]
          },
          "metadata": {},
          "execution_count": 15
        }
      ]
    },
    {
      "cell_type": "code",
      "source": [
        "a=torch.Tensor([[[1,2,3]],[[6,5,4]]])\n",
        "b=torch.Tensor([[[1,2,3]],[[4,5,6]]])\n",
        "print(a.size(),a,sep='\\n')\n",
        "print(b.size(),b,sep='\\n')\n",
        "torch.cat([a,b],dim=1)"
      ],
      "metadata": {
        "colab": {
          "base_uri": "https://localhost:8080/"
        },
        "id": "3l7aaBcF26Fk",
        "outputId": "3ffb38b0-1037-4fc8-eaa7-4b4947d4c717"
      },
      "execution_count": null,
      "outputs": [
        {
          "output_type": "stream",
          "name": "stdout",
          "text": [
            "torch.Size([2, 1, 3])\n",
            "tensor([[[1., 2., 3.]],\n",
            "\n",
            "        [[6., 5., 4.]]])\n",
            "torch.Size([2, 1, 3])\n",
            "tensor([[[1., 2., 3.]],\n",
            "\n",
            "        [[4., 5., 6.]]])\n"
          ]
        },
        {
          "output_type": "execute_result",
          "data": {
            "text/plain": [
              "tensor([[[1., 2., 3.],\n",
              "         [1., 2., 3.]],\n",
              "\n",
              "        [[6., 5., 4.],\n",
              "         [4., 5., 6.]]])"
            ]
          },
          "metadata": {},
          "execution_count": 43
        }
      ]
    },
    {
      "cell_type": "code",
      "source": [
        "dec_output=torch.LongTensor([0]).repeat(BATCH_SIZE,1,vocab_size)\n",
        "dec_output.size()"
      ],
      "metadata": {
        "colab": {
          "base_uri": "https://localhost:8080/"
        },
        "id": "LmxTKceTFLXh",
        "outputId": "65282081-b7b0-49a7-e580-220d2339a0b4"
      },
      "execution_count": 53,
      "outputs": [
        {
          "output_type": "execute_result",
          "data": {
            "text/plain": [
              "torch.Size([2, 1, 9470])"
            ]
          },
          "metadata": {},
          "execution_count": 53
        }
      ]
    },
    {
      "cell_type": "code",
      "source": [
        "class Seq2seq(nn.Module):\n",
        "  def __init__(self,vocab_size,emb_dim,hidden_dim,dense_dim):\n",
        "    super(Seq2seq,self).__init__()\n",
        "    self.encoder=Encoder(vocab_size,emb_dim,hidden_dim,dense_dim)\n",
        "    self.attention=Attention(dense_dim)\n",
        "    self.decoder=Decoder(vocab_size,emb_dim,hidden_dim,dense_dim)\n",
        "\n",
        "  def forward(self,enc_input,dec_input): # enc_input : ( batch_size, max_len ) , dec_input : ( batch_size, max_ len )\n",
        "    # outputs: ( batch_size, Max_len, dense_dim ) last_hidden_state : ( batch_size, hidden_dim ), pre_hidden : (1, batch_size, hidden_dim)\n",
        "    outputs,last_hidden_state,pre_hidden=self.encoder(enc_input) \n",
        "    context=self.attention(outputs,last_hidden_state) # ( batch_size, 1, dense_dim )\n",
        "\n",
        "    dec_output=torch.zeros(BATCH_SIZE,1,vocab_size).to(device) # (batch_size, 1, vocab_size) \n",
        "\n",
        "    for i in range(0,MAX_LEN):\n",
        "      predict,state,pre_hidden=self.decoder(dec_input[:,i].view(2,1),context,pre_hidden)  # (batch_size, 1, vocab_size) , ( 1, batch_size, hidden_dim ), ( 1, batch_size, hidden_dim )\n",
        "      dec_output=torch.cat([dec_output,predict],dim=1) # 2차원 방향으로 서로 쌓음 (batch_size, i+2, vocab_size)\n",
        "      context=self.attention(outputs,state) # ( batch_size, 1, dense_dim ) <= 다음 loop에서 context로 사용\n",
        "\n",
        "    \n",
        "    dec_output=dec_output[:,1:,:].transpose(1,2)  # (batch_size, max_len , vocab_size) axis=1의 맨 처음은 0으로 정의된 값이므로 제거 \n",
        "    # 이렇게 돌고 맨 마지막으로 나온 25개의 연결된 값을 반환\n",
        "    return dec_output # ( batch_size, vocab_size, max_len==25 )\n",
        "    # -> 이에 대한 label : ( batch_size, max_len ) : crossenctorpyloss 사용하여 각각의 label에 해당하는 index(해당 단어의 index)의 요소의 값 가장 크도록 학습\n",
        "\n",
        "  def inference(self,enc_input,max_len_answer):\n",
        "    outputs,last_hidden_state,pre_hidden=self.encoder(enc_input)\n",
        "    context=self.attention(outputs,last_hidden_state) # ( batch_size, 1, dense_dim )\n",
        "\n",
        "    dec_input=torch.LongTensor([V.vocab.stoi['<sos>']]).to(device) # <sos> token의 vocab내 index : 2\n",
        "    dec_input=dec_input.repeat(2,1) # ( batch_size, 1 ) \n",
        "\n",
        "    for i in range(0,max_len_answer):\n",
        "      predict,state,pre_hidden=self.decoder(dec_input[:,i].view(2,1),context,pre_hidden)  # (batch_size, 1, vocab_size) , ( batch_size, hidden_dim )\n",
        "      predict=predict.max(2)[1] # (batch_size, 1) # vocab_size에 해당하는 차원의 벡터 중에서 가장 값이 큰 원소의 index를 가져옴 \n",
        "      if predict[0,-1]==V.vocab.stoi['<eos>']:\n",
        "        break \n",
        "      dec_input=torch.cat([dec_input,predict],dim=-1) # 1차원 방향으로 서로 이어붙임 (batch_size,i+1)\n",
        "\n",
        "      context=self.attention(outputs,state) # ( batch_size, 1, dense_dim ) <= 다음 loop에서 context로 사용\n",
        "    \n",
        "    # <eos> 전까지의 해당하는 단어 사전 내 index로 구성된 답변 문장 반환 \n",
        "    return dec_input[0] # (answer_len,) batch내의 첫번째 sequence 반환 "
      ],
      "metadata": {
        "id": "JhBAFUg5TniG"
      },
      "execution_count": 35,
      "outputs": []
    },
    {
      "cell_type": "code",
      "source": [
        "a=torch.Tensor([[1,2,3],[4,5,6]])\n",
        "a[:,1].view(2,1)\n"
      ],
      "metadata": {
        "colab": {
          "base_uri": "https://localhost:8080/"
        },
        "id": "wAcgimmMMfNi",
        "outputId": "f6f120ae-bf23-454b-dd8c-61b82fdf1aea"
      },
      "execution_count": 10,
      "outputs": [
        {
          "output_type": "execute_result",
          "data": {
            "text/plain": [
              "tensor([[2.],\n",
              "        [5.]])"
            ]
          },
          "metadata": {},
          "execution_count": 10
        }
      ]
    },
    {
      "cell_type": "code",
      "source": [
        "[V.vocab.stoi['<sos>']]"
      ],
      "metadata": {
        "colab": {
          "base_uri": "https://localhost:8080/"
        },
        "id": "2LxvlsytQktV",
        "outputId": "37cd2942-439d-407c-ddbf-229d4563bf09"
      },
      "execution_count": null,
      "outputs": [
        {
          "output_type": "execute_result",
          "data": {
            "text/plain": [
              "[2]"
            ]
          },
          "metadata": {},
          "execution_count": 50
        }
      ]
    },
    {
      "cell_type": "code",
      "source": [
        "V.vocab.stoi['<eos>']"
      ],
      "metadata": {
        "colab": {
          "base_uri": "https://localhost:8080/"
        },
        "id": "pDZBmrvFQHvw",
        "outputId": "dda0d637-a91b-435d-a080-35d8c81666c3"
      },
      "execution_count": null,
      "outputs": [
        {
          "output_type": "execute_result",
          "data": {
            "text/plain": [
              "3"
            ]
          },
          "metadata": {},
          "execution_count": 46
        }
      ]
    },
    {
      "cell_type": "code",
      "source": [
        "a=torch.Tensor([[[1,2,3,4],[5,6,7,8]],[[4,3,2,1],[9,8,7,6]]])\n",
        "c=a.max(2)[1]\n",
        "print(c)\n",
        "print(c[0,-1])\n",
        "print(c[0])\n",
        "b=torch.Tensor([[1,3],[0,1]])\n",
        "(a.max(2)[1]==b).sum()\n"
      ],
      "metadata": {
        "colab": {
          "base_uri": "https://localhost:8080/"
        },
        "id": "fru8ORc6Oc8F",
        "outputId": "d88fb455-4ec9-4729-b36f-5a1e696d4a91"
      },
      "execution_count": null,
      "outputs": [
        {
          "output_type": "stream",
          "name": "stdout",
          "text": [
            "tensor([[3, 3],\n",
            "        [0, 0]])\n",
            "tensor(3)\n",
            "tensor([3, 3])\n"
          ]
        },
        {
          "output_type": "execute_result",
          "data": {
            "text/plain": [
              "tensor(2)"
            ]
          },
          "metadata": {},
          "execution_count": 51
        }
      ]
    },
    {
      "cell_type": "code",
      "source": [
        "a=torch.Tensor([2])\n",
        "a=a.repeat(2,1)\n",
        "print(a)\n",
        "torch.cat([a,a],dim=-1)"
      ],
      "metadata": {
        "colab": {
          "base_uri": "https://localhost:8080/"
        },
        "id": "gvC37rIwKYqV",
        "outputId": "87715655-1ddb-40f5-c4d6-5b0837a85353"
      },
      "execution_count": null,
      "outputs": [
        {
          "output_type": "stream",
          "name": "stdout",
          "text": [
            "tensor([[2.],\n",
            "        [2.]])\n"
          ]
        },
        {
          "output_type": "execute_result",
          "data": {
            "text/plain": [
              "tensor([[2., 2.],\n",
              "        [2., 2.]])"
            ]
          },
          "metadata": {},
          "execution_count": 38
        }
      ]
    },
    {
      "cell_type": "code",
      "source": [
        "a=torch.Tensor([[1,2,3],[4,5,6]])\n",
        "a=torch.unsqueeze(a,dim=1)\n",
        "print(a.size(),a,sep='\\n')"
      ],
      "metadata": {
        "colab": {
          "base_uri": "https://localhost:8080/"
        },
        "id": "raAsmgCB4Vit",
        "outputId": "472029b4-a1b8-4a80-b4d2-86c1e6de6af2"
      },
      "execution_count": null,
      "outputs": [
        {
          "output_type": "stream",
          "name": "stdout",
          "text": [
            "torch.Size([2, 1, 3])\n",
            "tensor([[[1., 2., 3.]],\n",
            "\n",
            "        [[4., 5., 6.]]])\n"
          ]
        }
      ]
    },
    {
      "cell_type": "code",
      "source": [
        "a=torch.Tensor([[1,2,3],[4,5,6]])\n",
        "a.size()\n",
        "a[:,:2]"
      ],
      "metadata": {
        "colab": {
          "base_uri": "https://localhost:8080/"
        },
        "id": "hQ_vky73-gwa",
        "outputId": "8bbb531b-8aea-4e91-f231-61638dc463d5"
      },
      "execution_count": null,
      "outputs": [
        {
          "output_type": "execute_result",
          "data": {
            "text/plain": [
              "tensor([[1., 2.],\n",
              "        [4., 5.]])"
            ]
          },
          "metadata": {},
          "execution_count": 69
        }
      ]
    },
    {
      "cell_type": "markdown",
      "source": [
        "### 모델 컴파일"
      ],
      "metadata": {
        "id": "jnsCV_3NS_XF"
      }
    },
    {
      "cell_type": "code",
      "source": [
        "BATCH_SIZE=2\n",
        "MAX_LEN=25\n",
        "EPOCH=50\n",
        "UNIT=1024\n",
        "EMB_DIM=256\n",
        "lr=1e-3\n",
        "device='cuda' if torch.cuda.is_available() else 'cpu'\n",
        "vocab_size=len(V.vocab)\n",
        "vocab_size"
      ],
      "metadata": {
        "colab": {
          "base_uri": "https://localhost:8080/"
        },
        "id": "pYZtN8UJTHcU",
        "outputId": "a42508ce-61a0-490e-9881-0d598b4cfa50"
      },
      "execution_count": 36,
      "outputs": [
        {
          "output_type": "execute_result",
          "data": {
            "text/plain": [
              "9470"
            ]
          },
          "metadata": {},
          "execution_count": 36
        }
      ]
    },
    {
      "cell_type": "code",
      "source": [
        "model=Seq2seq(vocab_size,EMB_DIM,UNIT,UNIT).to(device)\n",
        "optimizer=torch.optim.Adam(model.parameters(),lr)\n",
        "criterion=nn.CrossEntropyLoss(reduction='none')"
      ],
      "metadata": {
        "id": "dkoWVHUC_ec4"
      },
      "execution_count": 37,
      "outputs": []
    },
    {
      "cell_type": "code",
      "source": [
        "predict=Seq2seq(vocab_size,EMB_DIM,UNIT,UNIT).to(device)\n",
        "predict=predict(batch.question.to(device),batch.answer.to(device))\n",
        "loss=criterion(predict,batch.label.to(device))"
      ],
      "metadata": {
        "id": "z1FX3dRIwF-i"
      },
      "execution_count": null,
      "outputs": []
    },
    {
      "cell_type": "code",
      "source": [
        "mask=torch.ones(loss.size()).to(device)\n",
        "mask=torch.logical_not(mask==batch.label.to(device))\n",
        "print(mask)\n",
        "loss=(mask*loss).sum()\n",
        "loss"
      ],
      "metadata": {
        "id": "WI9v9T34ZQjH"
      },
      "execution_count": null,
      "outputs": []
    },
    {
      "cell_type": "code",
      "source": [
        "a=torch.Tensor([[3,5,6,2,1,1,1,1],[6,3,7,8,2,1,1,1]]) # label\n",
        "b=torch.ones(a.size()) \n",
        "mask=torch.logical_not(a==b)\n",
        "print(mask,int(mask.sum()))"
      ],
      "metadata": {
        "colab": {
          "base_uri": "https://localhost:8080/"
        },
        "id": "mCO5GtvWWczg",
        "outputId": "76b958ed-90e2-4f29-abc8-1a3ffe04ef89"
      },
      "execution_count": null,
      "outputs": [
        {
          "output_type": "stream",
          "name": "stdout",
          "text": [
            "tensor([[ True,  True,  True,  True, False, False, False, False],\n",
            "        [ True,  True,  True,  True,  True, False, False, False]]) 9\n"
          ]
        }
      ]
    },
    {
      "cell_type": "code",
      "source": [],
      "metadata": {
        "id": "Jvwpzp8tQVza"
      },
      "execution_count": null,
      "outputs": []
    },
    {
      "cell_type": "code",
      "source": [
        "a=torch.Tensor([[[1,2,3],[4,5,6]],[[7,8,9],[3,2,1]]])\n",
        "print(a)\n",
        "print(a.size())\n",
        "print(a.mean())\n",
        "a=a.transpose(1,2)\n",
        "print(a)\n",
        "print(a.size())"
      ],
      "metadata": {
        "colab": {
          "base_uri": "https://localhost:8080/"
        },
        "id": "Q9cC59WVHTO0",
        "outputId": "0c50076c-f50a-403b-8e1f-e4853ad31467"
      },
      "execution_count": 45,
      "outputs": [
        {
          "output_type": "stream",
          "name": "stdout",
          "text": [
            "tensor([[[1., 2., 3.],\n",
            "         [4., 5., 6.]],\n",
            "\n",
            "        [[7., 8., 9.],\n",
            "         [3., 2., 1.]]])\n",
            "torch.Size([2, 2, 3])\n",
            "tensor(4.2500)\n",
            "tensor([[[1., 4.],\n",
            "         [2., 5.],\n",
            "         [3., 6.]],\n",
            "\n",
            "        [[7., 3.],\n",
            "         [8., 2.],\n",
            "         [9., 1.]]])\n",
            "torch.Size([2, 3, 2])\n"
          ]
        }
      ]
    },
    {
      "cell_type": "markdown",
      "source": [
        "## 모델 학습"
      ],
      "metadata": {
        "id": "h3fGPdUbU9Qh"
      }
    },
    {
      "cell_type": "code",
      "source": [
        "from tqdm import tqdm"
      ],
      "metadata": {
        "id": "SSjXWYt2SAuE"
      },
      "execution_count": 38,
      "outputs": []
    },
    {
      "cell_type": "code",
      "source": [
        "def loss_padding(loss,label):\n",
        "  # 패딩을 loss 계산에서 지울 것이다. => label에서 index가 1인 부분에 대한 mask를 생성해서 곱해주자 / 추가적으로 accuracy 계산에서도 사용할 mask를 반환\n",
        "    mask=torch.ones(loss.size()).to(device)\n",
        "    mask=torch.logical_not(mask==label)\n",
        "    loss=(mask*loss).mean()\n",
        "\n",
        "    return loss,mask"
      ],
      "metadata": {
        "id": "WCtQYJGccFzl"
      },
      "execution_count": 46,
      "outputs": []
    },
    {
      "cell_type": "code",
      "source": [
        "def train(model,optimizer,criterion,train_iter):\n",
        "  model.train()\n",
        "\n",
        "  for batch in tqdm(train_iter):\n",
        "    if batch.question.size()[0]!=2:\n",
        "      break\n",
        "    enc_input=batch.question.to(device)\n",
        "    dec_input=batch.answer.to(device)\n",
        "    label=batch.label.to(device)\n",
        "\n",
        "    logit=model(enc_input,dec_input)\n",
        "    loss,_=loss_padding(criterion(logit,label),label)  ## ( batch_size, max_len )\n",
        "\n",
        "    optimizer.zero_grad()\n",
        "    loss.backward()\n",
        "    optimizer.step()"
      ],
      "metadata": {
        "id": "zaKxbyQBU8rq"
      },
      "execution_count": 47,
      "outputs": []
    },
    {
      "cell_type": "code",
      "source": [
        "def acc_padding(logit,label,mask):\n",
        "  # padding을 포함gk지 않은 맞춘 개수를 반환 및 acc,loss 계산에 포함되는 전체 token 개수 return\n",
        "  acc=(logit.max(2)[1].view(label.size())==label)\n",
        "  acc=mask*acc # masking \n",
        "  acc=acc.sum()\n",
        "\n",
        "  size=mask.sum() # 계산에 포함되는 batch내의 token의 개수\n",
        "  \n",
        "  return acc,size"
      ],
      "metadata": {
        "id": "DaMc7CLZdL5B"
      },
      "execution_count": 48,
      "outputs": []
    },
    {
      "cell_type": "code",
      "source": [
        "def evaluation(model,optimizer,criterion,val_iter):\n",
        "  model.eval()\n",
        "\n",
        "  total_loss,acc,size=0,0,0\n",
        "  for batch in tqdm(val_iter):\n",
        "    if batch.question.size()[0]!=2:\n",
        "      break\n",
        "    enc_input=batch.question.to(device)\n",
        "    dec_input=batch.answer.to(device)\n",
        "    label=batch.label.to(device)\n",
        "\n",
        "\n",
        "    logit=model(enc_input,dec_input)\n",
        "    loss,mask=loss_padding(criterion(logit,label),label)  # logit : (batch_size, vocab_size, max_len) , label : (batch_size, max_len)\n",
        "    total_loss+=loss\n",
        "\n",
        "\n",
        "    logit=logit.transpose(1,2) # logit : (batch_size, max_len, vocab_size)\n",
        "    acc,size=acc_padding(logit,label,mask)\n",
        "    size+=size\n",
        "\n",
        "  avg_loss=total_loss/size\n",
        "  avg_acc=acc/size\n",
        "\n",
        "  return avg_loss,avg_acc"
      ],
      "metadata": {
        "id": "dWCnVQyRUnOJ"
      },
      "execution_count": 49,
      "outputs": []
    },
    {
      "cell_type": "code",
      "source": [
        "len(val_iter.dataset)"
      ],
      "metadata": {
        "colab": {
          "base_uri": "https://localhost:8080/"
        },
        "id": "0QAW1baAI5Sf",
        "outputId": "46354407-9f04-47f2-fe8f-7d1509d648fb"
      },
      "execution_count": null,
      "outputs": [
        {
          "output_type": "execute_result",
          "data": {
            "text/plain": [
              "1182"
            ]
          },
          "metadata": {},
          "execution_count": 36
        }
      ]
    },
    {
      "cell_type": "code",
      "source": [
        "a=torch.Tensor([[[1,2,3,4],[5,6,7,8]],[[4,3,2,1],[9,8,7,6]]])\n",
        "c=a.max(2)[1]\n",
        "print(c)\n",
        "b=torch.Tensor([[1,3],[0,1]])\n",
        "(a.max(2)[1]==b).sum()"
      ],
      "metadata": {
        "colab": {
          "base_uri": "https://localhost:8080/"
        },
        "id": "WbvtfpD7JgG8",
        "outputId": "9a74d016-63ea-4ce2-ba59-ffd533cf1c20"
      },
      "execution_count": null,
      "outputs": [
        {
          "output_type": "stream",
          "name": "stdout",
          "text": [
            "tensor([[3, 3],\n",
            "        [0, 0]])\n"
          ]
        },
        {
          "output_type": "execute_result",
          "data": {
            "text/plain": [
              "tensor(2)"
            ]
          },
          "metadata": {},
          "execution_count": 40
        }
      ]
    },
    {
      "cell_type": "code",
      "source": [
        "import os"
      ],
      "metadata": {
        "id": "MlLvoqKFRyxz"
      },
      "execution_count": 50,
      "outputs": []
    },
    {
      "cell_type": "code",
      "source": [
        "best_val_loss=None\n",
        "\n",
        "for e in range(1,EPOCH+1):\n",
        "  train(model,optimizer,criterion,train_iter)\n",
        "  val_loss,val_acc=evaluation(model,optimizer,criterion,val_iter)\n",
        "\n",
        "  print(\"Epoch : {} | val_loss : {:5.2f} , val_accuracy : {:5.2f}\".format(e,val_loss.item(),val_acc.item()))\n",
        "\n",
        "  if not best_val_loss or best_val_loss>val_loss:\n",
        "    os.makedirs('best_weight',exist_ok=True)\n",
        "    torch.save(model.state_dict(),'./best_weight/best_performance_weight.pt')\n",
        "    best_val_loss=val_loss"
      ],
      "metadata": {
        "id": "hJv-rXp1JrAG",
        "colab": {
          "base_uri": "https://localhost:8080/",
          "height": 412
        },
        "outputId": "150c06b5-7c33-44eb-b64c-8434565ea22d"
      },
      "execution_count": 51,
      "outputs": [
        {
          "output_type": "stream",
          "name": "stderr",
          "text": [
            "  0%|          | 12/5321 [00:37<4:38:38,  3.15s/it]\n"
          ]
        },
        {
          "output_type": "error",
          "ename": "KeyboardInterrupt",
          "evalue": "ignored",
          "traceback": [
            "\u001b[0;31m---------------------------------------------------------------------------\u001b[0m",
            "\u001b[0;31mKeyboardInterrupt\u001b[0m                         Traceback (most recent call last)",
            "\u001b[0;32m<ipython-input-51-a4aa416f0b26>\u001b[0m in \u001b[0;36m<cell line: 3>\u001b[0;34m()\u001b[0m\n\u001b[1;32m      2\u001b[0m \u001b[0;34m\u001b[0m\u001b[0m\n\u001b[1;32m      3\u001b[0m \u001b[0;32mfor\u001b[0m \u001b[0me\u001b[0m \u001b[0;32min\u001b[0m \u001b[0mrange\u001b[0m\u001b[0;34m(\u001b[0m\u001b[0;36m1\u001b[0m\u001b[0;34m,\u001b[0m\u001b[0mEPOCH\u001b[0m\u001b[0;34m+\u001b[0m\u001b[0;36m1\u001b[0m\u001b[0;34m)\u001b[0m\u001b[0;34m:\u001b[0m\u001b[0;34m\u001b[0m\u001b[0;34m\u001b[0m\u001b[0m\n\u001b[0;32m----> 4\u001b[0;31m   \u001b[0mtrain\u001b[0m\u001b[0;34m(\u001b[0m\u001b[0mmodel\u001b[0m\u001b[0;34m,\u001b[0m\u001b[0moptimizer\u001b[0m\u001b[0;34m,\u001b[0m\u001b[0mcriterion\u001b[0m\u001b[0;34m,\u001b[0m\u001b[0mtrain_iter\u001b[0m\u001b[0;34m)\u001b[0m\u001b[0;34m\u001b[0m\u001b[0;34m\u001b[0m\u001b[0m\n\u001b[0m\u001b[1;32m      5\u001b[0m   \u001b[0mval_loss\u001b[0m\u001b[0;34m,\u001b[0m\u001b[0mval_acc\u001b[0m\u001b[0;34m=\u001b[0m\u001b[0mevaluation\u001b[0m\u001b[0;34m(\u001b[0m\u001b[0mmodel\u001b[0m\u001b[0;34m,\u001b[0m\u001b[0moptimizer\u001b[0m\u001b[0;34m,\u001b[0m\u001b[0mcriterion\u001b[0m\u001b[0;34m,\u001b[0m\u001b[0mval_iter\u001b[0m\u001b[0;34m)\u001b[0m\u001b[0;34m\u001b[0m\u001b[0;34m\u001b[0m\u001b[0m\n\u001b[1;32m      6\u001b[0m \u001b[0;34m\u001b[0m\u001b[0m\n",
            "\u001b[0;32m<ipython-input-47-395d9e679b76>\u001b[0m in \u001b[0;36mtrain\u001b[0;34m(model, optimizer, criterion, train_iter)\u001b[0m\n\u001b[1;32m     13\u001b[0m \u001b[0;34m\u001b[0m\u001b[0m\n\u001b[1;32m     14\u001b[0m     \u001b[0moptimizer\u001b[0m\u001b[0;34m.\u001b[0m\u001b[0mzero_grad\u001b[0m\u001b[0;34m(\u001b[0m\u001b[0;34m)\u001b[0m\u001b[0;34m\u001b[0m\u001b[0;34m\u001b[0m\u001b[0m\n\u001b[0;32m---> 15\u001b[0;31m     \u001b[0mloss\u001b[0m\u001b[0;34m.\u001b[0m\u001b[0mbackward\u001b[0m\u001b[0;34m(\u001b[0m\u001b[0;34m)\u001b[0m\u001b[0;34m\u001b[0m\u001b[0;34m\u001b[0m\u001b[0m\n\u001b[0m\u001b[1;32m     16\u001b[0m     \u001b[0moptimizer\u001b[0m\u001b[0;34m.\u001b[0m\u001b[0mstep\u001b[0m\u001b[0;34m(\u001b[0m\u001b[0;34m)\u001b[0m\u001b[0;34m\u001b[0m\u001b[0;34m\u001b[0m\u001b[0m\n",
            "\u001b[0;32m/usr/local/lib/python3.10/dist-packages/torch/_tensor.py\u001b[0m in \u001b[0;36mbackward\u001b[0;34m(self, gradient, retain_graph, create_graph, inputs)\u001b[0m\n\u001b[1;32m    485\u001b[0m                 \u001b[0minputs\u001b[0m\u001b[0;34m=\u001b[0m\u001b[0minputs\u001b[0m\u001b[0;34m,\u001b[0m\u001b[0;34m\u001b[0m\u001b[0;34m\u001b[0m\u001b[0m\n\u001b[1;32m    486\u001b[0m             )\n\u001b[0;32m--> 487\u001b[0;31m         torch.autograd.backward(\n\u001b[0m\u001b[1;32m    488\u001b[0m             \u001b[0mself\u001b[0m\u001b[0;34m,\u001b[0m \u001b[0mgradient\u001b[0m\u001b[0;34m,\u001b[0m \u001b[0mretain_graph\u001b[0m\u001b[0;34m,\u001b[0m \u001b[0mcreate_graph\u001b[0m\u001b[0;34m,\u001b[0m \u001b[0minputs\u001b[0m\u001b[0;34m=\u001b[0m\u001b[0minputs\u001b[0m\u001b[0;34m\u001b[0m\u001b[0;34m\u001b[0m\u001b[0m\n\u001b[1;32m    489\u001b[0m         )\n",
            "\u001b[0;32m/usr/local/lib/python3.10/dist-packages/torch/autograd/__init__.py\u001b[0m in \u001b[0;36mbackward\u001b[0;34m(tensors, grad_tensors, retain_graph, create_graph, grad_variables, inputs)\u001b[0m\n\u001b[1;32m    198\u001b[0m     \u001b[0;31m# some Python versions print out the first line of a multi-line function\u001b[0m\u001b[0;34m\u001b[0m\u001b[0;34m\u001b[0m\u001b[0m\n\u001b[1;32m    199\u001b[0m     \u001b[0;31m# calls in the traceback and some print out the last line\u001b[0m\u001b[0;34m\u001b[0m\u001b[0;34m\u001b[0m\u001b[0m\n\u001b[0;32m--> 200\u001b[0;31m     Variable._execution_engine.run_backward(  # Calls into the C++ engine to run the backward pass\n\u001b[0m\u001b[1;32m    201\u001b[0m         \u001b[0mtensors\u001b[0m\u001b[0;34m,\u001b[0m \u001b[0mgrad_tensors_\u001b[0m\u001b[0;34m,\u001b[0m \u001b[0mretain_graph\u001b[0m\u001b[0;34m,\u001b[0m \u001b[0mcreate_graph\u001b[0m\u001b[0;34m,\u001b[0m \u001b[0minputs\u001b[0m\u001b[0;34m,\u001b[0m\u001b[0;34m\u001b[0m\u001b[0;34m\u001b[0m\u001b[0m\n\u001b[1;32m    202\u001b[0m         allow_unreachable=True, accumulate_grad=True)  # Calls into the C++ engine to run the backward pass\n",
            "\u001b[0;31mKeyboardInterrupt\u001b[0m: "
          ]
        }
      ]
    },
    {
      "cell_type": "markdown",
      "source": [
        "# 챗봇 사용하기"
      ],
      "metadata": {
        "id": "tDYB466ivaVb"
      }
    },
    {
      "cell_type": "code",
      "source": [
        "import re"
      ],
      "metadata": {
        "id": "uzMy9bI20PHP"
      },
      "execution_count": null,
      "outputs": []
    },
    {
      "cell_type": "code",
      "source": [
        "# 실제 사용\n",
        "# model output ( batch_size, vocab_size, max_len==25 )\n",
        "\n",
        "model.load_state_dict(torch.load('./best_weight/best_performance_weight.pt'))\n",
        "\n",
        "def chatbot(sentence):\n",
        "  input=re.sub('[^ a-zA-Z0-9가-힣]',\"\",sentence).split()\n",
        "\n",
        "  if len(input)<MAX_LEN:\n",
        "    input=input+[V.vocab.stoi['<pad>']]*(MAX_LEN-len(input)) # padding\n",
        "  else:\n",
        "    input=input[:MAX_LEN] # truncate\n",
        "\n",
        "  input=torch.LongTensor([V.vocab.stoi[word] for word in input]).to(device) # sentence to index\n",
        "  enc_input=input.repeat(BATCH_SIZE,1) # ( batch_size, max_len ) # 모델에 사용하기 위해 사이즈에 맞게 준비, 이후 첫번째 샘플에 대한 예측값만 사용할 예정\n",
        "\n",
        "  predict=model.inference(enc_input,14)\n",
        "\n",
        "  return \" \".join([V.vocab.itos[word] for word in predict][1:]) # <sos> 제거"
      ],
      "metadata": {
        "id": "uMNn1LtyvSbE"
      },
      "execution_count": null,
      "outputs": []
    },
    {
      "cell_type": "code",
      "source": [
        "a=torch.Tensor([0,0,0])\n",
        "b=torch.Tensor([1,3,4])\n",
        "print(a+b)\n",
        "a.repeat(2,1)"
      ],
      "metadata": {
        "colab": {
          "base_uri": "https://localhost:8080/"
        },
        "id": "22N644jo1ffg",
        "outputId": "37d7ee8b-d0d6-4760-a86d-8a21e5bc7697"
      },
      "execution_count": null,
      "outputs": [
        {
          "output_type": "stream",
          "name": "stdout",
          "text": [
            "tensor([1., 3., 4.])\n"
          ]
        },
        {
          "output_type": "execute_result",
          "data": {
            "text/plain": [
              "tensor([[0., 0., 0.],\n",
              "        [0., 0., 0.]])"
            ]
          },
          "metadata": {},
          "execution_count": 60
        }
      ]
    },
    {
      "cell_type": "markdown",
      "source": [
        "## 테스트"
      ],
      "metadata": {
        "id": "FO22ANHeSdvd"
      }
    },
    {
      "cell_type": "code",
      "source": [
        "sentence=input()\n",
        "chatbot(sentence)"
      ],
      "metadata": {
        "id": "fy46sVht3Mno",
        "colab": {
          "base_uri": "https://localhost:8080/",
          "height": 53
        },
        "outputId": "9ae5ff1d-5426-400a-b890-baec0925db92"
      },
      "execution_count": null,
      "outputs": [
        {
          "name": "stdout",
          "output_type": "stream",
          "text": [
            "나는 사람이야\n"
          ]
        },
        {
          "output_type": "execute_result",
          "data": {
            "text/plain": [
              "'<unk>'"
            ],
            "application/vnd.google.colaboratory.intrinsic+json": {
              "type": "string"
            }
          },
          "metadata": {},
          "execution_count": 33
        }
      ]
    },
    {
      "cell_type": "code",
      "source": [],
      "metadata": {
        "id": "7h7OR38jSiUL"
      },
      "execution_count": null,
      "outputs": []
    }
  ]
}