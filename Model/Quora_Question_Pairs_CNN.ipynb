{
  "cells": [
    {
      "cell_type": "markdown",
      "metadata": {
        "id": "view-in-github",
        "colab_type": "text"
      },
      "source": [
        "<a href=\"https://colab.research.google.com/github/DonghaeSuh/NLP_Pytorch/blob/main/Model/Quora_Question_Pairs_CNN.ipynb\" target=\"_parent\"><img src=\"https://colab.research.google.com/assets/colab-badge.svg\" alt=\"Open In Colab\"/></a>"
      ]
    },
    {
      "cell_type": "markdown",
      "metadata": {
        "id": "ui_HI6vesv_I"
      },
      "source": [
        "# 데이터 전처리"
      ]
    },
    {
      "cell_type": "markdown",
      "metadata": {
        "id": "JV-E6rAY2OL9"
      },
      "source": [
        "## 라벨 데이터 불균형 처리"
      ]
    },
    {
      "cell_type": "code",
      "execution_count": null,
      "metadata": {
        "id": "mlnrrbfoN7Ka"
      },
      "outputs": [],
      "source": [
        "import pandas as pd"
      ]
    },
    {
      "cell_type": "code",
      "execution_count": null,
      "metadata": {
        "colab": {
          "base_uri": "https://localhost:8080/"
        },
        "id": "HPaoL2UHPd7x",
        "outputId": "88159ba1-6203-4ebd-f35d-37aee8043c4c"
      },
      "outputs": [
        {
          "name": "stdout",
          "output_type": "stream",
          "text": [
            "\u001b[0m\u001b[01;34mdrive\u001b[0m/  \u001b[01;34msample_data\u001b[0m/\n"
          ]
        }
      ],
      "source": [
        "ls"
      ]
    },
    {
      "cell_type": "code",
      "execution_count": null,
      "metadata": {
        "colab": {
          "base_uri": "https://localhost:8080/"
        },
        "id": "kPkDWMcqPe5x",
        "outputId": "f83722c1-333c-4690-c3bb-ef3642c92664"
      },
      "outputs": [
        {
          "name": "stdout",
          "output_type": "stream",
          "text": [
            "/content/drive/MyDrive/Pytorch NLP/data_in/Quora_Question_Pairs\n"
          ]
        }
      ],
      "source": [
        "cd drive/MyDrive/Pytorch\\ NLP/data_in/Quora_Question_Pairs"
      ]
    },
    {
      "cell_type": "code",
      "execution_count": null,
      "metadata": {
        "colab": {
          "base_uri": "https://localhost:8080/"
        },
        "id": "KgnAORZ-PoFh",
        "outputId": "aa240e91-1a54-42f2-fc9e-025f62a473fc"
      },
      "outputs": [
        {
          "name": "stdout",
          "output_type": "stream",
          "text": [
            "fine_test_data.csv   sample_submission.csv      test.csv      train.csv\n",
            "fine_train_data.csv  sample_submission.csv.zip  test.csv.zip  train.csv.zip\n"
          ]
        }
      ],
      "source": [
        "ls"
      ]
    },
    {
      "cell_type": "code",
      "execution_count": null,
      "metadata": {
        "id": "a7Max2D7sw9I"
      },
      "outputs": [],
      "source": [
        "train_data=pd.read_csv('train.csv',encoding='UTF-8')\n",
        "test_data=pd.read_csv('test.csv',encoding='UTF-8')"
      ]
    },
    {
      "cell_type": "code",
      "execution_count": null,
      "metadata": {
        "colab": {
          "base_uri": "https://localhost:8080/"
        },
        "id": "O6zhBf7O2kH2",
        "outputId": "edd6468a-43d9-4927-cf9d-441e654ff5c6"
      },
      "outputs": [
        {
          "name": "stdout",
          "output_type": "stream",
          "text": [
            "이전 pos 개수 : 149263, 이전 neg 개수 : 255027\n",
            "pos 개수 : 149263, neg 개수 : 149263\n"
          ]
        }
      ],
      "source": [
        "train_pos_data=train_data.loc[train_data['is_duplicate']==1]\n",
        "train_neg_data=train_data.loc[train_data['is_duplicate']==0]\n",
        "print(\"이전 pos 개수 : {}, 이전 neg 개수 : {}\".format(len(train_pos_data),len(train_neg_data)))\n",
        "train_neg_data=train_neg_data.sample(n=len(train_pos_data))\n",
        "print(\"pos 개수 : {}, neg 개수 : {}\".format(len(train_pos_data),len(train_neg_data)))"
      ]
    },
    {
      "cell_type": "code",
      "execution_count": null,
      "metadata": {
        "id": "a21kF1Gi3zod"
      },
      "outputs": [],
      "source": [
        "train_data=pd.concat([train_neg_data,train_pos_data])"
      ]
    },
    {
      "cell_type": "markdown",
      "metadata": {
        "id": "UoksYQEr3uEL"
      },
      "source": [
        "## 물음표나 마침표와 같은 구두점 및 기호 제거 & 모든 문자를 소문자로 변환"
      ]
    },
    {
      "cell_type": "code",
      "execution_count": null,
      "metadata": {
        "colab": {
          "base_uri": "https://localhost:8080/"
        },
        "id": "UopI8YdW3QxG",
        "outputId": "b0e5c07a-e9cd-45f4-cf0e-36be0d9b099e"
      },
      "outputs": [
        {
          "name": "stderr",
          "output_type": "stream",
          "text": [
            "<ipython-input-8-43c5bf3fba56>:1: FutureWarning: The default value of regex will change from True to False in a future version.\n",
            "  train_data['question1']=train_data['question1'].str.replace('[^a-zA-Z ]',\"\")\n",
            "<ipython-input-8-43c5bf3fba56>:2: FutureWarning: The default value of regex will change from True to False in a future version.\n",
            "  train_data['question2']=train_data['question2'].str.replace('[^a-zA-Z ]',\"\")\n"
          ]
        }
      ],
      "source": [
        "train_data['question1']=train_data['question1'].str.replace('[^a-zA-Z ]',\"\")\n",
        "train_data['question2']=train_data['question2'].str.replace('[^a-zA-Z ]',\"\")"
      ]
    },
    {
      "cell_type": "code",
      "execution_count": null,
      "metadata": {
        "colab": {
          "base_uri": "https://localhost:8080/",
          "height": 206
        },
        "id": "1_r0EkWU0PUT",
        "outputId": "259843d9-d3a4-4add-c637-145c93b121a8"
      },
      "outputs": [
        {
          "data": {
            "text/html": [
              "\n",
              "  <div id=\"df-c9cce88b-c961-42d4-bb4c-1a9c06213ee8\">\n",
              "    <div class=\"colab-df-container\">\n",
              "      <div>\n",
              "<style scoped>\n",
              "    .dataframe tbody tr th:only-of-type {\n",
              "        vertical-align: middle;\n",
              "    }\n",
              "\n",
              "    .dataframe tbody tr th {\n",
              "        vertical-align: top;\n",
              "    }\n",
              "\n",
              "    .dataframe thead th {\n",
              "        text-align: right;\n",
              "    }\n",
              "</style>\n",
              "<table border=\"1\" class=\"dataframe\">\n",
              "  <thead>\n",
              "    <tr style=\"text-align: right;\">\n",
              "      <th></th>\n",
              "      <th>id</th>\n",
              "      <th>qid1</th>\n",
              "      <th>qid2</th>\n",
              "      <th>question1</th>\n",
              "      <th>question2</th>\n",
              "      <th>is_duplicate</th>\n",
              "    </tr>\n",
              "  </thead>\n",
              "  <tbody>\n",
              "    <tr>\n",
              "      <th>32482</th>\n",
              "      <td>32482</td>\n",
              "      <td>59798</td>\n",
              "      <td>59799</td>\n",
              "      <td>How do I solve this integration math t  t   ma...</td>\n",
              "      <td>How do I solve this</td>\n",
              "      <td>0</td>\n",
              "    </tr>\n",
              "    <tr>\n",
              "      <th>351611</th>\n",
              "      <td>351611</td>\n",
              "      <td>480460</td>\n",
              "      <td>480461</td>\n",
              "      <td>How can I become a orchestra composer in the US</td>\n",
              "      <td>How can I become an orchestra composer</td>\n",
              "      <td>0</td>\n",
              "    </tr>\n",
              "    <tr>\n",
              "      <th>217355</th>\n",
              "      <td>217355</td>\n",
              "      <td>323684</td>\n",
              "      <td>323685</td>\n",
              "      <td>How does Beers Law AeLc work and what does it ...</td>\n",
              "      <td>Is it a bad idea for a startup to let its empl...</td>\n",
              "      <td>0</td>\n",
              "    </tr>\n",
              "    <tr>\n",
              "      <th>392367</th>\n",
              "      <td>392367</td>\n",
              "      <td>44195</td>\n",
              "      <td>525051</td>\n",
              "      <td>What exactly do you do for a living</td>\n",
              "      <td>What should I do for a living</td>\n",
              "      <td>0</td>\n",
              "    </tr>\n",
              "    <tr>\n",
              "      <th>124717</th>\n",
              "      <td>124717</td>\n",
              "      <td>201331</td>\n",
              "      <td>201332</td>\n",
              "      <td>What are exotic metals</td>\n",
              "      <td>Do metals react to other metals</td>\n",
              "      <td>0</td>\n",
              "    </tr>\n",
              "  </tbody>\n",
              "</table>\n",
              "</div>\n",
              "      <button class=\"colab-df-convert\" onclick=\"convertToInteractive('df-c9cce88b-c961-42d4-bb4c-1a9c06213ee8')\"\n",
              "              title=\"Convert this dataframe to an interactive table.\"\n",
              "              style=\"display:none;\">\n",
              "        \n",
              "  <svg xmlns=\"http://www.w3.org/2000/svg\" height=\"24px\"viewBox=\"0 0 24 24\"\n",
              "       width=\"24px\">\n",
              "    <path d=\"M0 0h24v24H0V0z\" fill=\"none\"/>\n",
              "    <path d=\"M18.56 5.44l.94 2.06.94-2.06 2.06-.94-2.06-.94-.94-2.06-.94 2.06-2.06.94zm-11 1L8.5 8.5l.94-2.06 2.06-.94-2.06-.94L8.5 2.5l-.94 2.06-2.06.94zm10 10l.94 2.06.94-2.06 2.06-.94-2.06-.94-.94-2.06-.94 2.06-2.06.94z\"/><path d=\"M17.41 7.96l-1.37-1.37c-.4-.4-.92-.59-1.43-.59-.52 0-1.04.2-1.43.59L10.3 9.45l-7.72 7.72c-.78.78-.78 2.05 0 2.83L4 21.41c.39.39.9.59 1.41.59.51 0 1.02-.2 1.41-.59l7.78-7.78 2.81-2.81c.8-.78.8-2.07 0-2.86zM5.41 20L4 18.59l7.72-7.72 1.47 1.35L5.41 20z\"/>\n",
              "  </svg>\n",
              "      </button>\n",
              "      \n",
              "  <style>\n",
              "    .colab-df-container {\n",
              "      display:flex;\n",
              "      flex-wrap:wrap;\n",
              "      gap: 12px;\n",
              "    }\n",
              "\n",
              "    .colab-df-convert {\n",
              "      background-color: #E8F0FE;\n",
              "      border: none;\n",
              "      border-radius: 50%;\n",
              "      cursor: pointer;\n",
              "      display: none;\n",
              "      fill: #1967D2;\n",
              "      height: 32px;\n",
              "      padding: 0 0 0 0;\n",
              "      width: 32px;\n",
              "    }\n",
              "\n",
              "    .colab-df-convert:hover {\n",
              "      background-color: #E2EBFA;\n",
              "      box-shadow: 0px 1px 2px rgba(60, 64, 67, 0.3), 0px 1px 3px 1px rgba(60, 64, 67, 0.15);\n",
              "      fill: #174EA6;\n",
              "    }\n",
              "\n",
              "    [theme=dark] .colab-df-convert {\n",
              "      background-color: #3B4455;\n",
              "      fill: #D2E3FC;\n",
              "    }\n",
              "\n",
              "    [theme=dark] .colab-df-convert:hover {\n",
              "      background-color: #434B5C;\n",
              "      box-shadow: 0px 1px 3px 1px rgba(0, 0, 0, 0.15);\n",
              "      filter: drop-shadow(0px 1px 2px rgba(0, 0, 0, 0.3));\n",
              "      fill: #FFFFFF;\n",
              "    }\n",
              "  </style>\n",
              "\n",
              "      <script>\n",
              "        const buttonEl =\n",
              "          document.querySelector('#df-c9cce88b-c961-42d4-bb4c-1a9c06213ee8 button.colab-df-convert');\n",
              "        buttonEl.style.display =\n",
              "          google.colab.kernel.accessAllowed ? 'block' : 'none';\n",
              "\n",
              "        async function convertToInteractive(key) {\n",
              "          const element = document.querySelector('#df-c9cce88b-c961-42d4-bb4c-1a9c06213ee8');\n",
              "          const dataTable =\n",
              "            await google.colab.kernel.invokeFunction('convertToInteractive',\n",
              "                                                     [key], {});\n",
              "          if (!dataTable) return;\n",
              "\n",
              "          const docLinkHtml = 'Like what you see? Visit the ' +\n",
              "            '<a target=\"_blank\" href=https://colab.research.google.com/notebooks/data_table.ipynb>data table notebook</a>'\n",
              "            + ' to learn more about interactive tables.';\n",
              "          element.innerHTML = '';\n",
              "          dataTable['output_type'] = 'display_data';\n",
              "          await google.colab.output.renderOutput(dataTable, element);\n",
              "          const docLink = document.createElement('div');\n",
              "          docLink.innerHTML = docLinkHtml;\n",
              "          element.appendChild(docLink);\n",
              "        }\n",
              "      </script>\n",
              "    </div>\n",
              "  </div>\n",
              "  "
            ],
            "text/plain": [
              "            id    qid1    qid2  \\\n",
              "32482    32482   59798   59799   \n",
              "351611  351611  480460  480461   \n",
              "217355  217355  323684  323685   \n",
              "392367  392367   44195  525051   \n",
              "124717  124717  201331  201332   \n",
              "\n",
              "                                                question1  \\\n",
              "32482   How do I solve this integration math t  t   ma...   \n",
              "351611    How can I become a orchestra composer in the US   \n",
              "217355  How does Beers Law AeLc work and what does it ...   \n",
              "392367                What exactly do you do for a living   \n",
              "124717                             What are exotic metals   \n",
              "\n",
              "                                                question2  is_duplicate  \n",
              "32482                                 How do I solve this             0  \n",
              "351611             How can I become an orchestra composer             0  \n",
              "217355  Is it a bad idea for a startup to let its empl...             0  \n",
              "392367                      What should I do for a living             0  \n",
              "124717                    Do metals react to other metals             0  "
            ]
          },
          "execution_count": 9,
          "metadata": {},
          "output_type": "execute_result"
        }
      ],
      "source": [
        "train_data.head()"
      ]
    },
    {
      "cell_type": "code",
      "execution_count": null,
      "metadata": {
        "id": "wjSubTFaS5AG"
      },
      "outputs": [],
      "source": [
        "train_data['question1']=train_data['question1'].str.lower()\n",
        "train_data['question2']=train_data['question2'].str.lower()"
      ]
    },
    {
      "cell_type": "code",
      "execution_count": null,
      "metadata": {
        "colab": {
          "base_uri": "https://localhost:8080/",
          "height": 206
        },
        "id": "Qb8eUe5sU1DI",
        "outputId": "9fddefc8-1348-4ac6-f3eb-f9e470f86bde"
      },
      "outputs": [
        {
          "data": {
            "text/html": [
              "\n",
              "  <div id=\"df-09ee0f22-fde2-407f-97c6-0612f2346d64\">\n",
              "    <div class=\"colab-df-container\">\n",
              "      <div>\n",
              "<style scoped>\n",
              "    .dataframe tbody tr th:only-of-type {\n",
              "        vertical-align: middle;\n",
              "    }\n",
              "\n",
              "    .dataframe tbody tr th {\n",
              "        vertical-align: top;\n",
              "    }\n",
              "\n",
              "    .dataframe thead th {\n",
              "        text-align: right;\n",
              "    }\n",
              "</style>\n",
              "<table border=\"1\" class=\"dataframe\">\n",
              "  <thead>\n",
              "    <tr style=\"text-align: right;\">\n",
              "      <th></th>\n",
              "      <th>id</th>\n",
              "      <th>qid1</th>\n",
              "      <th>qid2</th>\n",
              "      <th>question1</th>\n",
              "      <th>question2</th>\n",
              "      <th>is_duplicate</th>\n",
              "    </tr>\n",
              "  </thead>\n",
              "  <tbody>\n",
              "    <tr>\n",
              "      <th>32482</th>\n",
              "      <td>32482</td>\n",
              "      <td>59798</td>\n",
              "      <td>59799</td>\n",
              "      <td>how do i solve this integration math t  t   ma...</td>\n",
              "      <td>how do i solve this</td>\n",
              "      <td>0</td>\n",
              "    </tr>\n",
              "    <tr>\n",
              "      <th>351611</th>\n",
              "      <td>351611</td>\n",
              "      <td>480460</td>\n",
              "      <td>480461</td>\n",
              "      <td>how can i become a orchestra composer in the us</td>\n",
              "      <td>how can i become an orchestra composer</td>\n",
              "      <td>0</td>\n",
              "    </tr>\n",
              "    <tr>\n",
              "      <th>217355</th>\n",
              "      <td>217355</td>\n",
              "      <td>323684</td>\n",
              "      <td>323685</td>\n",
              "      <td>how does beers law aelc work and what does it ...</td>\n",
              "      <td>is it a bad idea for a startup to let its empl...</td>\n",
              "      <td>0</td>\n",
              "    </tr>\n",
              "    <tr>\n",
              "      <th>392367</th>\n",
              "      <td>392367</td>\n",
              "      <td>44195</td>\n",
              "      <td>525051</td>\n",
              "      <td>what exactly do you do for a living</td>\n",
              "      <td>what should i do for a living</td>\n",
              "      <td>0</td>\n",
              "    </tr>\n",
              "    <tr>\n",
              "      <th>124717</th>\n",
              "      <td>124717</td>\n",
              "      <td>201331</td>\n",
              "      <td>201332</td>\n",
              "      <td>what are exotic metals</td>\n",
              "      <td>do metals react to other metals</td>\n",
              "      <td>0</td>\n",
              "    </tr>\n",
              "  </tbody>\n",
              "</table>\n",
              "</div>\n",
              "      <button class=\"colab-df-convert\" onclick=\"convertToInteractive('df-09ee0f22-fde2-407f-97c6-0612f2346d64')\"\n",
              "              title=\"Convert this dataframe to an interactive table.\"\n",
              "              style=\"display:none;\">\n",
              "        \n",
              "  <svg xmlns=\"http://www.w3.org/2000/svg\" height=\"24px\"viewBox=\"0 0 24 24\"\n",
              "       width=\"24px\">\n",
              "    <path d=\"M0 0h24v24H0V0z\" fill=\"none\"/>\n",
              "    <path d=\"M18.56 5.44l.94 2.06.94-2.06 2.06-.94-2.06-.94-.94-2.06-.94 2.06-2.06.94zm-11 1L8.5 8.5l.94-2.06 2.06-.94-2.06-.94L8.5 2.5l-.94 2.06-2.06.94zm10 10l.94 2.06.94-2.06 2.06-.94-2.06-.94-.94-2.06-.94 2.06-2.06.94z\"/><path d=\"M17.41 7.96l-1.37-1.37c-.4-.4-.92-.59-1.43-.59-.52 0-1.04.2-1.43.59L10.3 9.45l-7.72 7.72c-.78.78-.78 2.05 0 2.83L4 21.41c.39.39.9.59 1.41.59.51 0 1.02-.2 1.41-.59l7.78-7.78 2.81-2.81c.8-.78.8-2.07 0-2.86zM5.41 20L4 18.59l7.72-7.72 1.47 1.35L5.41 20z\"/>\n",
              "  </svg>\n",
              "      </button>\n",
              "      \n",
              "  <style>\n",
              "    .colab-df-container {\n",
              "      display:flex;\n",
              "      flex-wrap:wrap;\n",
              "      gap: 12px;\n",
              "    }\n",
              "\n",
              "    .colab-df-convert {\n",
              "      background-color: #E8F0FE;\n",
              "      border: none;\n",
              "      border-radius: 50%;\n",
              "      cursor: pointer;\n",
              "      display: none;\n",
              "      fill: #1967D2;\n",
              "      height: 32px;\n",
              "      padding: 0 0 0 0;\n",
              "      width: 32px;\n",
              "    }\n",
              "\n",
              "    .colab-df-convert:hover {\n",
              "      background-color: #E2EBFA;\n",
              "      box-shadow: 0px 1px 2px rgba(60, 64, 67, 0.3), 0px 1px 3px 1px rgba(60, 64, 67, 0.15);\n",
              "      fill: #174EA6;\n",
              "    }\n",
              "\n",
              "    [theme=dark] .colab-df-convert {\n",
              "      background-color: #3B4455;\n",
              "      fill: #D2E3FC;\n",
              "    }\n",
              "\n",
              "    [theme=dark] .colab-df-convert:hover {\n",
              "      background-color: #434B5C;\n",
              "      box-shadow: 0px 1px 3px 1px rgba(0, 0, 0, 0.15);\n",
              "      filter: drop-shadow(0px 1px 2px rgba(0, 0, 0, 0.3));\n",
              "      fill: #FFFFFF;\n",
              "    }\n",
              "  </style>\n",
              "\n",
              "      <script>\n",
              "        const buttonEl =\n",
              "          document.querySelector('#df-09ee0f22-fde2-407f-97c6-0612f2346d64 button.colab-df-convert');\n",
              "        buttonEl.style.display =\n",
              "          google.colab.kernel.accessAllowed ? 'block' : 'none';\n",
              "\n",
              "        async function convertToInteractive(key) {\n",
              "          const element = document.querySelector('#df-09ee0f22-fde2-407f-97c6-0612f2346d64');\n",
              "          const dataTable =\n",
              "            await google.colab.kernel.invokeFunction('convertToInteractive',\n",
              "                                                     [key], {});\n",
              "          if (!dataTable) return;\n",
              "\n",
              "          const docLinkHtml = 'Like what you see? Visit the ' +\n",
              "            '<a target=\"_blank\" href=https://colab.research.google.com/notebooks/data_table.ipynb>data table notebook</a>'\n",
              "            + ' to learn more about interactive tables.';\n",
              "          element.innerHTML = '';\n",
              "          dataTable['output_type'] = 'display_data';\n",
              "          await google.colab.output.renderOutput(dataTable, element);\n",
              "          const docLink = document.createElement('div');\n",
              "          docLink.innerHTML = docLinkHtml;\n",
              "          element.appendChild(docLink);\n",
              "        }\n",
              "      </script>\n",
              "    </div>\n",
              "  </div>\n",
              "  "
            ],
            "text/plain": [
              "            id    qid1    qid2  \\\n",
              "32482    32482   59798   59799   \n",
              "351611  351611  480460  480461   \n",
              "217355  217355  323684  323685   \n",
              "392367  392367   44195  525051   \n",
              "124717  124717  201331  201332   \n",
              "\n",
              "                                                question1  \\\n",
              "32482   how do i solve this integration math t  t   ma...   \n",
              "351611    how can i become a orchestra composer in the us   \n",
              "217355  how does beers law aelc work and what does it ...   \n",
              "392367                what exactly do you do for a living   \n",
              "124717                             what are exotic metals   \n",
              "\n",
              "                                                question2  is_duplicate  \n",
              "32482                                 how do i solve this             0  \n",
              "351611             how can i become an orchestra composer             0  \n",
              "217355  is it a bad idea for a startup to let its empl...             0  \n",
              "392367                      what should i do for a living             0  \n",
              "124717                    do metals react to other metals             0  "
            ]
          },
          "execution_count": 11,
          "metadata": {},
          "output_type": "execute_result"
        }
      ],
      "source": [
        "train_data.head()"
      ]
    },
    {
      "cell_type": "code",
      "execution_count": null,
      "metadata": {
        "id": "nToxwrOJVgoC"
      },
      "outputs": [],
      "source": [
        "import numpy as np"
      ]
    },
    {
      "cell_type": "code",
      "execution_count": null,
      "metadata": {
        "colab": {
          "base_uri": "https://localhost:8080/",
          "height": 206
        },
        "id": "a_uUlCxeVKdy",
        "outputId": "159fb9e6-9087-4112-b33d-9996d850331e"
      },
      "outputs": [
        {
          "data": {
            "text/html": [
              "\n",
              "  <div id=\"df-69e1e2c1-0eee-4c16-a674-852c4d835d80\">\n",
              "    <div class=\"colab-df-container\">\n",
              "      <div>\n",
              "<style scoped>\n",
              "    .dataframe tbody tr th:only-of-type {\n",
              "        vertical-align: middle;\n",
              "    }\n",
              "\n",
              "    .dataframe tbody tr th {\n",
              "        vertical-align: top;\n",
              "    }\n",
              "\n",
              "    .dataframe thead th {\n",
              "        text-align: right;\n",
              "    }\n",
              "</style>\n",
              "<table border=\"1\" class=\"dataframe\">\n",
              "  <thead>\n",
              "    <tr style=\"text-align: right;\">\n",
              "      <th></th>\n",
              "      <th>question1</th>\n",
              "      <th>question2</th>\n",
              "      <th>is_duplicate</th>\n",
              "    </tr>\n",
              "  </thead>\n",
              "  <tbody>\n",
              "    <tr>\n",
              "      <th>32482</th>\n",
              "      <td>how do i solve this integration math t  t   ma...</td>\n",
              "      <td>how do i solve this</td>\n",
              "      <td>0</td>\n",
              "    </tr>\n",
              "    <tr>\n",
              "      <th>351611</th>\n",
              "      <td>how can i become a orchestra composer in the us</td>\n",
              "      <td>how can i become an orchestra composer</td>\n",
              "      <td>0</td>\n",
              "    </tr>\n",
              "    <tr>\n",
              "      <th>217355</th>\n",
              "      <td>how does beers law aelc work and what does it ...</td>\n",
              "      <td>is it a bad idea for a startup to let its empl...</td>\n",
              "      <td>0</td>\n",
              "    </tr>\n",
              "    <tr>\n",
              "      <th>392367</th>\n",
              "      <td>what exactly do you do for a living</td>\n",
              "      <td>what should i do for a living</td>\n",
              "      <td>0</td>\n",
              "    </tr>\n",
              "    <tr>\n",
              "      <th>124717</th>\n",
              "      <td>what are exotic metals</td>\n",
              "      <td>do metals react to other metals</td>\n",
              "      <td>0</td>\n",
              "    </tr>\n",
              "  </tbody>\n",
              "</table>\n",
              "</div>\n",
              "      <button class=\"colab-df-convert\" onclick=\"convertToInteractive('df-69e1e2c1-0eee-4c16-a674-852c4d835d80')\"\n",
              "              title=\"Convert this dataframe to an interactive table.\"\n",
              "              style=\"display:none;\">\n",
              "        \n",
              "  <svg xmlns=\"http://www.w3.org/2000/svg\" height=\"24px\"viewBox=\"0 0 24 24\"\n",
              "       width=\"24px\">\n",
              "    <path d=\"M0 0h24v24H0V0z\" fill=\"none\"/>\n",
              "    <path d=\"M18.56 5.44l.94 2.06.94-2.06 2.06-.94-2.06-.94-.94-2.06-.94 2.06-2.06.94zm-11 1L8.5 8.5l.94-2.06 2.06-.94-2.06-.94L8.5 2.5l-.94 2.06-2.06.94zm10 10l.94 2.06.94-2.06 2.06-.94-2.06-.94-.94-2.06-.94 2.06-2.06.94z\"/><path d=\"M17.41 7.96l-1.37-1.37c-.4-.4-.92-.59-1.43-.59-.52 0-1.04.2-1.43.59L10.3 9.45l-7.72 7.72c-.78.78-.78 2.05 0 2.83L4 21.41c.39.39.9.59 1.41.59.51 0 1.02-.2 1.41-.59l7.78-7.78 2.81-2.81c.8-.78.8-2.07 0-2.86zM5.41 20L4 18.59l7.72-7.72 1.47 1.35L5.41 20z\"/>\n",
              "  </svg>\n",
              "      </button>\n",
              "      \n",
              "  <style>\n",
              "    .colab-df-container {\n",
              "      display:flex;\n",
              "      flex-wrap:wrap;\n",
              "      gap: 12px;\n",
              "    }\n",
              "\n",
              "    .colab-df-convert {\n",
              "      background-color: #E8F0FE;\n",
              "      border: none;\n",
              "      border-radius: 50%;\n",
              "      cursor: pointer;\n",
              "      display: none;\n",
              "      fill: #1967D2;\n",
              "      height: 32px;\n",
              "      padding: 0 0 0 0;\n",
              "      width: 32px;\n",
              "    }\n",
              "\n",
              "    .colab-df-convert:hover {\n",
              "      background-color: #E2EBFA;\n",
              "      box-shadow: 0px 1px 2px rgba(60, 64, 67, 0.3), 0px 1px 3px 1px rgba(60, 64, 67, 0.15);\n",
              "      fill: #174EA6;\n",
              "    }\n",
              "\n",
              "    [theme=dark] .colab-df-convert {\n",
              "      background-color: #3B4455;\n",
              "      fill: #D2E3FC;\n",
              "    }\n",
              "\n",
              "    [theme=dark] .colab-df-convert:hover {\n",
              "      background-color: #434B5C;\n",
              "      box-shadow: 0px 1px 3px 1px rgba(0, 0, 0, 0.15);\n",
              "      filter: drop-shadow(0px 1px 2px rgba(0, 0, 0, 0.3));\n",
              "      fill: #FFFFFF;\n",
              "    }\n",
              "  </style>\n",
              "\n",
              "      <script>\n",
              "        const buttonEl =\n",
              "          document.querySelector('#df-69e1e2c1-0eee-4c16-a674-852c4d835d80 button.colab-df-convert');\n",
              "        buttonEl.style.display =\n",
              "          google.colab.kernel.accessAllowed ? 'block' : 'none';\n",
              "\n",
              "        async function convertToInteractive(key) {\n",
              "          const element = document.querySelector('#df-69e1e2c1-0eee-4c16-a674-852c4d835d80');\n",
              "          const dataTable =\n",
              "            await google.colab.kernel.invokeFunction('convertToInteractive',\n",
              "                                                     [key], {});\n",
              "          if (!dataTable) return;\n",
              "\n",
              "          const docLinkHtml = 'Like what you see? Visit the ' +\n",
              "            '<a target=\"_blank\" href=https://colab.research.google.com/notebooks/data_table.ipynb>data table notebook</a>'\n",
              "            + ' to learn more about interactive tables.';\n",
              "          element.innerHTML = '';\n",
              "          dataTable['output_type'] = 'display_data';\n",
              "          await google.colab.output.renderOutput(dataTable, element);\n",
              "          const docLink = document.createElement('div');\n",
              "          docLink.innerHTML = docLinkHtml;\n",
              "          element.appendChild(docLink);\n",
              "        }\n",
              "      </script>\n",
              "    </div>\n",
              "  </div>\n",
              "  "
            ],
            "text/plain": [
              "                                                question1  \\\n",
              "32482   how do i solve this integration math t  t   ma...   \n",
              "351611    how can i become a orchestra composer in the us   \n",
              "217355  how does beers law aelc work and what does it ...   \n",
              "392367                what exactly do you do for a living   \n",
              "124717                             what are exotic metals   \n",
              "\n",
              "                                                question2  is_duplicate  \n",
              "32482                                 how do i solve this             0  \n",
              "351611             how can i become an orchestra composer             0  \n",
              "217355  is it a bad idea for a startup to let its empl...             0  \n",
              "392367                      what should i do for a living             0  \n",
              "124717                    do metals react to other metals             0  "
            ]
          },
          "execution_count": 13,
          "metadata": {},
          "output_type": "execute_result"
        }
      ],
      "source": [
        "train_data=train_data.drop(['id','qid1','qid2'],axis=1)\n",
        "train_data.head()"
      ]
    },
    {
      "cell_type": "code",
      "execution_count": null,
      "metadata": {
        "id": "J_JkmNCEV8Wj"
      },
      "outputs": [],
      "source": [
        "train_data.to_csv('fine_train_data.csv',index=False)"
      ]
    },
    {
      "cell_type": "markdown",
      "metadata": {
        "id": "E0hJEeWZWqjC"
      },
      "source": [
        "## 테스트 데이터 전처리"
      ]
    },
    {
      "cell_type": "code",
      "execution_count": null,
      "metadata": {
        "colab": {
          "base_uri": "https://localhost:8080/"
        },
        "id": "iIwq-ptSWqRT",
        "outputId": "5b541cc7-5c3b-4667-84f5-6e4ff471d59c"
      },
      "outputs": [
        {
          "name": "stderr",
          "output_type": "stream",
          "text": [
            "<ipython-input-15-32bc53f0a960>:1: FutureWarning: The default value of regex will change from True to False in a future version.\n",
            "  test_data['question1']=test_data['question1'].str.replace('[^a-zA-Z ]',\"\")\n",
            "<ipython-input-15-32bc53f0a960>:2: FutureWarning: The default value of regex will change from True to False in a future version.\n",
            "  test_data['question2']=test_data['question2'].str.replace('[^a-zA-Z ]',\"\")\n"
          ]
        }
      ],
      "source": [
        "test_data['question1']=test_data['question1'].str.replace('[^a-zA-Z ]',\"\")\n",
        "test_data['question2']=test_data['question2'].str.replace('[^a-zA-Z ]',\"\")"
      ]
    },
    {
      "cell_type": "code",
      "execution_count": null,
      "metadata": {
        "colab": {
          "base_uri": "https://localhost:8080/",
          "height": 206
        },
        "id": "92fXWioZXSDx",
        "outputId": "4e46ecf7-43e6-4d92-e90e-dd1b277ee79e"
      },
      "outputs": [
        {
          "data": {
            "text/html": [
              "\n",
              "  <div id=\"df-2519caf9-db86-4e98-8b77-0cda0de2f37b\">\n",
              "    <div class=\"colab-df-container\">\n",
              "      <div>\n",
              "<style scoped>\n",
              "    .dataframe tbody tr th:only-of-type {\n",
              "        vertical-align: middle;\n",
              "    }\n",
              "\n",
              "    .dataframe tbody tr th {\n",
              "        vertical-align: top;\n",
              "    }\n",
              "\n",
              "    .dataframe thead th {\n",
              "        text-align: right;\n",
              "    }\n",
              "</style>\n",
              "<table border=\"1\" class=\"dataframe\">\n",
              "  <thead>\n",
              "    <tr style=\"text-align: right;\">\n",
              "      <th></th>\n",
              "      <th>test_id</th>\n",
              "      <th>question1</th>\n",
              "      <th>question2</th>\n",
              "    </tr>\n",
              "  </thead>\n",
              "  <tbody>\n",
              "    <tr>\n",
              "      <th>0</th>\n",
              "      <td>0</td>\n",
              "      <td>How does the Surface Pro himself  compare with...</td>\n",
              "      <td>Why did Microsoft choose core m and not core i...</td>\n",
              "    </tr>\n",
              "    <tr>\n",
              "      <th>1</th>\n",
              "      <td>1</td>\n",
              "      <td>Should I have a hair transplant at age  How mu...</td>\n",
              "      <td>How much cost does hair transplant require</td>\n",
              "    </tr>\n",
              "    <tr>\n",
              "      <th>2</th>\n",
              "      <td>2</td>\n",
              "      <td>What but is the best way to send money from Ch...</td>\n",
              "      <td>What you send money to China</td>\n",
              "    </tr>\n",
              "    <tr>\n",
              "      <th>3</th>\n",
              "      <td>3</td>\n",
              "      <td>Which food not emulsifiers</td>\n",
              "      <td>What foods fibre</td>\n",
              "    </tr>\n",
              "    <tr>\n",
              "      <th>4</th>\n",
              "      <td>4</td>\n",
              "      <td>How aberystwyth start reading</td>\n",
              "      <td>How their can I start reading</td>\n",
              "    </tr>\n",
              "  </tbody>\n",
              "</table>\n",
              "</div>\n",
              "      <button class=\"colab-df-convert\" onclick=\"convertToInteractive('df-2519caf9-db86-4e98-8b77-0cda0de2f37b')\"\n",
              "              title=\"Convert this dataframe to an interactive table.\"\n",
              "              style=\"display:none;\">\n",
              "        \n",
              "  <svg xmlns=\"http://www.w3.org/2000/svg\" height=\"24px\"viewBox=\"0 0 24 24\"\n",
              "       width=\"24px\">\n",
              "    <path d=\"M0 0h24v24H0V0z\" fill=\"none\"/>\n",
              "    <path d=\"M18.56 5.44l.94 2.06.94-2.06 2.06-.94-2.06-.94-.94-2.06-.94 2.06-2.06.94zm-11 1L8.5 8.5l.94-2.06 2.06-.94-2.06-.94L8.5 2.5l-.94 2.06-2.06.94zm10 10l.94 2.06.94-2.06 2.06-.94-2.06-.94-.94-2.06-.94 2.06-2.06.94z\"/><path d=\"M17.41 7.96l-1.37-1.37c-.4-.4-.92-.59-1.43-.59-.52 0-1.04.2-1.43.59L10.3 9.45l-7.72 7.72c-.78.78-.78 2.05 0 2.83L4 21.41c.39.39.9.59 1.41.59.51 0 1.02-.2 1.41-.59l7.78-7.78 2.81-2.81c.8-.78.8-2.07 0-2.86zM5.41 20L4 18.59l7.72-7.72 1.47 1.35L5.41 20z\"/>\n",
              "  </svg>\n",
              "      </button>\n",
              "      \n",
              "  <style>\n",
              "    .colab-df-container {\n",
              "      display:flex;\n",
              "      flex-wrap:wrap;\n",
              "      gap: 12px;\n",
              "    }\n",
              "\n",
              "    .colab-df-convert {\n",
              "      background-color: #E8F0FE;\n",
              "      border: none;\n",
              "      border-radius: 50%;\n",
              "      cursor: pointer;\n",
              "      display: none;\n",
              "      fill: #1967D2;\n",
              "      height: 32px;\n",
              "      padding: 0 0 0 0;\n",
              "      width: 32px;\n",
              "    }\n",
              "\n",
              "    .colab-df-convert:hover {\n",
              "      background-color: #E2EBFA;\n",
              "      box-shadow: 0px 1px 2px rgba(60, 64, 67, 0.3), 0px 1px 3px 1px rgba(60, 64, 67, 0.15);\n",
              "      fill: #174EA6;\n",
              "    }\n",
              "\n",
              "    [theme=dark] .colab-df-convert {\n",
              "      background-color: #3B4455;\n",
              "      fill: #D2E3FC;\n",
              "    }\n",
              "\n",
              "    [theme=dark] .colab-df-convert:hover {\n",
              "      background-color: #434B5C;\n",
              "      box-shadow: 0px 1px 3px 1px rgba(0, 0, 0, 0.15);\n",
              "      filter: drop-shadow(0px 1px 2px rgba(0, 0, 0, 0.3));\n",
              "      fill: #FFFFFF;\n",
              "    }\n",
              "  </style>\n",
              "\n",
              "      <script>\n",
              "        const buttonEl =\n",
              "          document.querySelector('#df-2519caf9-db86-4e98-8b77-0cda0de2f37b button.colab-df-convert');\n",
              "        buttonEl.style.display =\n",
              "          google.colab.kernel.accessAllowed ? 'block' : 'none';\n",
              "\n",
              "        async function convertToInteractive(key) {\n",
              "          const element = document.querySelector('#df-2519caf9-db86-4e98-8b77-0cda0de2f37b');\n",
              "          const dataTable =\n",
              "            await google.colab.kernel.invokeFunction('convertToInteractive',\n",
              "                                                     [key], {});\n",
              "          if (!dataTable) return;\n",
              "\n",
              "          const docLinkHtml = 'Like what you see? Visit the ' +\n",
              "            '<a target=\"_blank\" href=https://colab.research.google.com/notebooks/data_table.ipynb>data table notebook</a>'\n",
              "            + ' to learn more about interactive tables.';\n",
              "          element.innerHTML = '';\n",
              "          dataTable['output_type'] = 'display_data';\n",
              "          await google.colab.output.renderOutput(dataTable, element);\n",
              "          const docLink = document.createElement('div');\n",
              "          docLink.innerHTML = docLinkHtml;\n",
              "          element.appendChild(docLink);\n",
              "        }\n",
              "      </script>\n",
              "    </div>\n",
              "  </div>\n",
              "  "
            ],
            "text/plain": [
              "   test_id                                          question1  \\\n",
              "0        0  How does the Surface Pro himself  compare with...   \n",
              "1        1  Should I have a hair transplant at age  How mu...   \n",
              "2        2  What but is the best way to send money from Ch...   \n",
              "3        3                         Which food not emulsifiers   \n",
              "4        4                      How aberystwyth start reading   \n",
              "\n",
              "                                           question2  \n",
              "0  Why did Microsoft choose core m and not core i...  \n",
              "1         How much cost does hair transplant require  \n",
              "2                       What you send money to China  \n",
              "3                                   What foods fibre  \n",
              "4                      How their can I start reading  "
            ]
          },
          "execution_count": 16,
          "metadata": {},
          "output_type": "execute_result"
        }
      ],
      "source": [
        "test_data.head()"
      ]
    },
    {
      "cell_type": "code",
      "execution_count": null,
      "metadata": {
        "colab": {
          "base_uri": "https://localhost:8080/",
          "height": 206
        },
        "id": "buATnsftXP6w",
        "outputId": "ef714779-b163-4bd5-f317-7cccef85d2e9"
      },
      "outputs": [
        {
          "data": {
            "text/html": [
              "\n",
              "  <div id=\"df-87941c1a-9493-43b4-b432-ea74795a22a3\">\n",
              "    <div class=\"colab-df-container\">\n",
              "      <div>\n",
              "<style scoped>\n",
              "    .dataframe tbody tr th:only-of-type {\n",
              "        vertical-align: middle;\n",
              "    }\n",
              "\n",
              "    .dataframe tbody tr th {\n",
              "        vertical-align: top;\n",
              "    }\n",
              "\n",
              "    .dataframe thead th {\n",
              "        text-align: right;\n",
              "    }\n",
              "</style>\n",
              "<table border=\"1\" class=\"dataframe\">\n",
              "  <thead>\n",
              "    <tr style=\"text-align: right;\">\n",
              "      <th></th>\n",
              "      <th>question1</th>\n",
              "      <th>question2</th>\n",
              "    </tr>\n",
              "  </thead>\n",
              "  <tbody>\n",
              "    <tr>\n",
              "      <th>0</th>\n",
              "      <td>How does the Surface Pro himself  compare with...</td>\n",
              "      <td>Why did Microsoft choose core m and not core i...</td>\n",
              "    </tr>\n",
              "    <tr>\n",
              "      <th>1</th>\n",
              "      <td>Should I have a hair transplant at age  How mu...</td>\n",
              "      <td>How much cost does hair transplant require</td>\n",
              "    </tr>\n",
              "    <tr>\n",
              "      <th>2</th>\n",
              "      <td>What but is the best way to send money from Ch...</td>\n",
              "      <td>What you send money to China</td>\n",
              "    </tr>\n",
              "    <tr>\n",
              "      <th>3</th>\n",
              "      <td>Which food not emulsifiers</td>\n",
              "      <td>What foods fibre</td>\n",
              "    </tr>\n",
              "    <tr>\n",
              "      <th>4</th>\n",
              "      <td>How aberystwyth start reading</td>\n",
              "      <td>How their can I start reading</td>\n",
              "    </tr>\n",
              "  </tbody>\n",
              "</table>\n",
              "</div>\n",
              "      <button class=\"colab-df-convert\" onclick=\"convertToInteractive('df-87941c1a-9493-43b4-b432-ea74795a22a3')\"\n",
              "              title=\"Convert this dataframe to an interactive table.\"\n",
              "              style=\"display:none;\">\n",
              "        \n",
              "  <svg xmlns=\"http://www.w3.org/2000/svg\" height=\"24px\"viewBox=\"0 0 24 24\"\n",
              "       width=\"24px\">\n",
              "    <path d=\"M0 0h24v24H0V0z\" fill=\"none\"/>\n",
              "    <path d=\"M18.56 5.44l.94 2.06.94-2.06 2.06-.94-2.06-.94-.94-2.06-.94 2.06-2.06.94zm-11 1L8.5 8.5l.94-2.06 2.06-.94-2.06-.94L8.5 2.5l-.94 2.06-2.06.94zm10 10l.94 2.06.94-2.06 2.06-.94-2.06-.94-.94-2.06-.94 2.06-2.06.94z\"/><path d=\"M17.41 7.96l-1.37-1.37c-.4-.4-.92-.59-1.43-.59-.52 0-1.04.2-1.43.59L10.3 9.45l-7.72 7.72c-.78.78-.78 2.05 0 2.83L4 21.41c.39.39.9.59 1.41.59.51 0 1.02-.2 1.41-.59l7.78-7.78 2.81-2.81c.8-.78.8-2.07 0-2.86zM5.41 20L4 18.59l7.72-7.72 1.47 1.35L5.41 20z\"/>\n",
              "  </svg>\n",
              "      </button>\n",
              "      \n",
              "  <style>\n",
              "    .colab-df-container {\n",
              "      display:flex;\n",
              "      flex-wrap:wrap;\n",
              "      gap: 12px;\n",
              "    }\n",
              "\n",
              "    .colab-df-convert {\n",
              "      background-color: #E8F0FE;\n",
              "      border: none;\n",
              "      border-radius: 50%;\n",
              "      cursor: pointer;\n",
              "      display: none;\n",
              "      fill: #1967D2;\n",
              "      height: 32px;\n",
              "      padding: 0 0 0 0;\n",
              "      width: 32px;\n",
              "    }\n",
              "\n",
              "    .colab-df-convert:hover {\n",
              "      background-color: #E2EBFA;\n",
              "      box-shadow: 0px 1px 2px rgba(60, 64, 67, 0.3), 0px 1px 3px 1px rgba(60, 64, 67, 0.15);\n",
              "      fill: #174EA6;\n",
              "    }\n",
              "\n",
              "    [theme=dark] .colab-df-convert {\n",
              "      background-color: #3B4455;\n",
              "      fill: #D2E3FC;\n",
              "    }\n",
              "\n",
              "    [theme=dark] .colab-df-convert:hover {\n",
              "      background-color: #434B5C;\n",
              "      box-shadow: 0px 1px 3px 1px rgba(0, 0, 0, 0.15);\n",
              "      filter: drop-shadow(0px 1px 2px rgba(0, 0, 0, 0.3));\n",
              "      fill: #FFFFFF;\n",
              "    }\n",
              "  </style>\n",
              "\n",
              "      <script>\n",
              "        const buttonEl =\n",
              "          document.querySelector('#df-87941c1a-9493-43b4-b432-ea74795a22a3 button.colab-df-convert');\n",
              "        buttonEl.style.display =\n",
              "          google.colab.kernel.accessAllowed ? 'block' : 'none';\n",
              "\n",
              "        async function convertToInteractive(key) {\n",
              "          const element = document.querySelector('#df-87941c1a-9493-43b4-b432-ea74795a22a3');\n",
              "          const dataTable =\n",
              "            await google.colab.kernel.invokeFunction('convertToInteractive',\n",
              "                                                     [key], {});\n",
              "          if (!dataTable) return;\n",
              "\n",
              "          const docLinkHtml = 'Like what you see? Visit the ' +\n",
              "            '<a target=\"_blank\" href=https://colab.research.google.com/notebooks/data_table.ipynb>data table notebook</a>'\n",
              "            + ' to learn more about interactive tables.';\n",
              "          element.innerHTML = '';\n",
              "          dataTable['output_type'] = 'display_data';\n",
              "          await google.colab.output.renderOutput(dataTable, element);\n",
              "          const docLink = document.createElement('div');\n",
              "          docLink.innerHTML = docLinkHtml;\n",
              "          element.appendChild(docLink);\n",
              "        }\n",
              "      </script>\n",
              "    </div>\n",
              "  </div>\n",
              "  "
            ],
            "text/plain": [
              "                                           question1  \\\n",
              "0  How does the Surface Pro himself  compare with...   \n",
              "1  Should I have a hair transplant at age  How mu...   \n",
              "2  What but is the best way to send money from Ch...   \n",
              "3                         Which food not emulsifiers   \n",
              "4                      How aberystwyth start reading   \n",
              "\n",
              "                                           question2  \n",
              "0  Why did Microsoft choose core m and not core i...  \n",
              "1         How much cost does hair transplant require  \n",
              "2                       What you send money to China  \n",
              "3                                   What foods fibre  \n",
              "4                      How their can I start reading  "
            ]
          },
          "execution_count": 17,
          "metadata": {},
          "output_type": "execute_result"
        }
      ],
      "source": [
        "test_data=test_data.drop(['test_id'],axis=1)\n",
        "test_data.head()"
      ]
    },
    {
      "cell_type": "code",
      "execution_count": null,
      "metadata": {
        "id": "g_lVAW7OXdtX"
      },
      "outputs": [],
      "source": [
        "test_data.to_csv('fine_test_data.csv',index=False)"
      ]
    },
    {
      "cell_type": "markdown",
      "metadata": {
        "id": "kGGonqn9Xhd7"
      },
      "source": [
        "# 데이터 마련"
      ]
    },
    {
      "cell_type": "code",
      "execution_count": 1,
      "metadata": {
        "colab": {
          "base_uri": "https://localhost:8080/"
        },
        "id": "74QFNDvCXg2o",
        "outputId": "fecef854-7d22-4643-b254-57bd284af904"
      },
      "outputs": [
        {
          "output_type": "stream",
          "name": "stdout",
          "text": [
            "\u001b[0m\u001b[01;34mdrive\u001b[0m/  \u001b[01;34msample_data\u001b[0m/\n"
          ]
        }
      ],
      "source": [
        "ls"
      ]
    },
    {
      "cell_type": "code",
      "execution_count": 2,
      "metadata": {
        "colab": {
          "base_uri": "https://localhost:8080/"
        },
        "id": "hDR-wjnPmoGW",
        "outputId": "a0b90cb2-dca8-4fe4-83c1-b22a89b34b11"
      },
      "outputs": [
        {
          "output_type": "stream",
          "name": "stdout",
          "text": [
            "/content/drive/MyDrive/Pytorch NLP/data_in/Quora_Question_Pairs\n"
          ]
        }
      ],
      "source": [
        "cd drive/MyDrive/Pytorch\\ NLP/data_in/Quora_Question_Pairs"
      ]
    },
    {
      "cell_type": "code",
      "execution_count": 3,
      "metadata": {
        "colab": {
          "base_uri": "https://localhost:8080/"
        },
        "id": "f5Yls_97mpRj",
        "outputId": "f8ab0992-e33d-4b49-bf19-a475320ddf75"
      },
      "outputs": [
        {
          "output_type": "stream",
          "name": "stdout",
          "text": [
            "\u001b[0m\u001b[01;34mbest_weight\u001b[0m/         sample_submission.csv      test.csv.zip\n",
            "fine_test_data.csv   sample_submission.csv.zip  train.csv\n",
            "fine_train_data.csv  test.csv                   train.csv.zip\n"
          ]
        }
      ],
      "source": [
        "ls"
      ]
    },
    {
      "cell_type": "code",
      "execution_count": 4,
      "metadata": {
        "colab": {
          "base_uri": "https://localhost:8080/"
        },
        "id": "B85YeQUImvVD",
        "outputId": "50523521-0f62-4315-ae04-ef68236f7642"
      },
      "outputs": [
        {
          "output_type": "stream",
          "name": "stdout",
          "text": [
            "Looking in indexes: https://pypi.org/simple, https://us-python.pkg.dev/colab-wheels/public/simple/\n",
            "Collecting torchtext==0.6\n",
            "  Downloading torchtext-0.6.0-py3-none-any.whl (64 kB)\n",
            "\u001b[2K     \u001b[90m━━━━━━━━━━━━━━━━━━━━━━━━━━━━━━━━━━━━━━━━\u001b[0m \u001b[32m64.2/64.2 kB\u001b[0m \u001b[31m5.0 MB/s\u001b[0m eta \u001b[36m0:00:00\u001b[0m\n",
            "\u001b[?25hRequirement already satisfied: tqdm in /usr/local/lib/python3.10/dist-packages (from torchtext==0.6) (4.65.0)\n",
            "Requirement already satisfied: requests in /usr/local/lib/python3.10/dist-packages (from torchtext==0.6) (2.27.1)\n",
            "Requirement already satisfied: torch in /usr/local/lib/python3.10/dist-packages (from torchtext==0.6) (2.0.0+cu118)\n",
            "Requirement already satisfied: numpy in /usr/local/lib/python3.10/dist-packages (from torchtext==0.6) (1.22.4)\n",
            "Requirement already satisfied: six in /usr/local/lib/python3.10/dist-packages (from torchtext==0.6) (1.16.0)\n",
            "Collecting sentencepiece (from torchtext==0.6)\n",
            "  Downloading sentencepiece-0.1.99-cp310-cp310-manylinux_2_17_x86_64.manylinux2014_x86_64.whl (1.3 MB)\n",
            "\u001b[2K     \u001b[90m━━━━━━━━━━━━━━━━━━━━━━━━━━━━━━━━━━━━━━━━\u001b[0m \u001b[32m1.3/1.3 MB\u001b[0m \u001b[31m59.0 MB/s\u001b[0m eta \u001b[36m0:00:00\u001b[0m\n",
            "\u001b[?25hRequirement already satisfied: urllib3<1.27,>=1.21.1 in /usr/local/lib/python3.10/dist-packages (from requests->torchtext==0.6) (1.26.15)\n",
            "Requirement already satisfied: certifi>=2017.4.17 in /usr/local/lib/python3.10/dist-packages (from requests->torchtext==0.6) (2022.12.7)\n",
            "Requirement already satisfied: charset-normalizer~=2.0.0 in /usr/local/lib/python3.10/dist-packages (from requests->torchtext==0.6) (2.0.12)\n",
            "Requirement already satisfied: idna<4,>=2.5 in /usr/local/lib/python3.10/dist-packages (from requests->torchtext==0.6) (3.4)\n",
            "Requirement already satisfied: filelock in /usr/local/lib/python3.10/dist-packages (from torch->torchtext==0.6) (3.12.0)\n",
            "Requirement already satisfied: typing-extensions in /usr/local/lib/python3.10/dist-packages (from torch->torchtext==0.6) (4.5.0)\n",
            "Requirement already satisfied: sympy in /usr/local/lib/python3.10/dist-packages (from torch->torchtext==0.6) (1.11.1)\n",
            "Requirement already satisfied: networkx in /usr/local/lib/python3.10/dist-packages (from torch->torchtext==0.6) (3.1)\n",
            "Requirement already satisfied: jinja2 in /usr/local/lib/python3.10/dist-packages (from torch->torchtext==0.6) (3.1.2)\n",
            "Requirement already satisfied: triton==2.0.0 in /usr/local/lib/python3.10/dist-packages (from torch->torchtext==0.6) (2.0.0)\n",
            "Requirement already satisfied: cmake in /usr/local/lib/python3.10/dist-packages (from triton==2.0.0->torch->torchtext==0.6) (3.25.2)\n",
            "Requirement already satisfied: lit in /usr/local/lib/python3.10/dist-packages (from triton==2.0.0->torch->torchtext==0.6) (16.0.3)\n",
            "Requirement already satisfied: MarkupSafe>=2.0 in /usr/local/lib/python3.10/dist-packages (from jinja2->torch->torchtext==0.6) (2.1.2)\n",
            "Requirement already satisfied: mpmath>=0.19 in /usr/local/lib/python3.10/dist-packages (from sympy->torch->torchtext==0.6) (1.3.0)\n",
            "Installing collected packages: sentencepiece, torchtext\n",
            "  Attempting uninstall: torchtext\n",
            "    Found existing installation: torchtext 0.15.1\n",
            "    Uninstalling torchtext-0.15.1:\n",
            "      Successfully uninstalled torchtext-0.15.1\n",
            "Successfully installed sentencepiece-0.1.99 torchtext-0.6.0\n"
          ]
        }
      ],
      "source": [
        "pip install torchtext==0.6"
      ]
    },
    {
      "cell_type": "markdown",
      "metadata": {
        "id": "7EApEoXOouZH"
      },
      "source": [
        "### 모듈 불러오기 및 hyperparameter 정의"
      ]
    },
    {
      "cell_type": "code",
      "execution_count": 5,
      "metadata": {
        "id": "J6y4Z5vkmpu7"
      },
      "outputs": [],
      "source": [
        "import torch\n",
        "import torch.nn as nn\n",
        "from torchtext import data\n",
        "import pandas as pd\n",
        "import random  "
      ]
    },
    {
      "cell_type": "code",
      "execution_count": 6,
      "metadata": {
        "id": "25C9hUswnIu9"
      },
      "outputs": [],
      "source": [
        "SEED=123\n",
        "random.seed(SEED)\n",
        "torch.manual_seed(SEED)\n",
        "\n",
        "BATCH_SIZE=1024\n",
        "EPOCH=100\n",
        "MAX_LEN=31\n",
        "lr=1e-3\n",
        "\n",
        "emb_dim=100\n",
        "kernel_filters=300\n",
        "kernel_size=3\n",
        "dropout_p=0.2\n",
        "hidden_dim=200\n",
        "n_class=1\n",
        "\n",
        "device='cuda' if torch.cuda.is_available() else 'cpu'"
      ]
    },
    {
      "cell_type": "markdown",
      "metadata": {
        "id": "nSh9G2xSoyQV"
      },
      "source": [
        "### dataset 만들기"
      ]
    },
    {
      "cell_type": "code",
      "execution_count": 7,
      "metadata": {
        "id": "9uywOhJZon_P"
      },
      "outputs": [],
      "source": [
        "# tokenizer는 영어기 때문에 str.split()으로 사용\n",
        "# Feild 정의\n",
        "# 데이터가 q1, q2, is_duplicate 형태이므로 3개의 Feild를 정의하고 모두 사용한다.\n",
        "# 생각해보니 lower를 해줄 필요가 없었다. (lower=True 하면 되기 때문 -> 다음에는 전처리에 str.lower()를 포함시키지 말자)\n",
        "\n",
        "TEXT1 = data.Field(sequential=True,\n",
        "                   use_vocab=True,\n",
        "                   fix_length=MAX_LEN,\n",
        "                   batch_first=True,\n",
        "                   tokenize=str.split)\n",
        "TEXT2 = data.Field(sequential=True,\n",
        "                   use_vocab=True,\n",
        "                   fix_length=MAX_LEN,\n",
        "                   batch_first=True,\n",
        "                   tokenize=str.split)\n",
        "LABEL = data.Field(sequential=False,\n",
        "                   use_vocab=False,\n",
        "                   batch_first=True,\n",
        "                   is_target=True)"
      ]
    },
    {
      "cell_type": "code",
      "execution_count": 8,
      "metadata": {
        "id": "u1T3M6aquFEM"
      },
      "outputs": [],
      "source": [
        "from torchtext.data import TabularDataset"
      ]
    },
    {
      "cell_type": "code",
      "execution_count": 9,
      "metadata": {
        "id": "nTpMyvhIsulX"
      },
      "outputs": [],
      "source": [
        "train_dataset,test_dataset=TabularDataset.splits(path='.',train='fine_train_data.csv',test='fine_test_data.csv',fields=[('text1',TEXT1),('text2',TEXT2),('label',LABEL)],format='csv',skip_header=True)"
      ]
    },
    {
      "cell_type": "code",
      "execution_count": 10,
      "metadata": {
        "id": "lxbmUEhsxOjy"
      },
      "outputs": [],
      "source": [
        "train_set,val_set=train_dataset.split(split_ratio=0.8,stratified=True,strata_field='label',random_state=random.seed(SEED))"
      ]
    },
    {
      "cell_type": "code",
      "execution_count": null,
      "metadata": {
        "colab": {
          "base_uri": "https://localhost:8080/"
        },
        "id": "iowebEtbMvv5",
        "outputId": "4c8d182a-93a0-485a-afe0-2b234dab45dc"
      },
      "outputs": [
        {
          "output_type": "execute_result",
          "data": {
            "text/plain": [
              "{'text1': ['how',\n",
              "  'do',\n",
              "  'i',\n",
              "  'solve',\n",
              "  'this',\n",
              "  'integration',\n",
              "  'math',\n",
              "  't',\n",
              "  't',\n",
              "  'math',\n",
              "  'with',\n",
              "  'the',\n",
              "  'limit',\n",
              "  'to'],\n",
              " 'text2': ['how', 'do', 'i', 'solve', 'this'],\n",
              " 'label': '0'}"
            ]
          },
          "metadata": {},
          "execution_count": 11
        }
      ],
      "source": [
        "vars(train_dataset[0])"
      ]
    },
    {
      "cell_type": "code",
      "execution_count": null,
      "metadata": {
        "colab": {
          "base_uri": "https://localhost:8080/"
        },
        "id": "ZZfjF7W4M0Up",
        "outputId": "5b4994e7-ef08-4208-ecb9-5fd1570d3970"
      },
      "outputs": [
        {
          "data": {
            "text/plain": [
              "{'text1': ['How',\n",
              "  'does',\n",
              "  'the',\n",
              "  'Surface',\n",
              "  'Pro',\n",
              "  'himself',\n",
              "  'compare',\n",
              "  'with',\n",
              "  'iPad',\n",
              "  'Pro'],\n",
              " 'text2': ['Why',\n",
              "  'did',\n",
              "  'Microsoft',\n",
              "  'choose',\n",
              "  'core',\n",
              "  'm',\n",
              "  'and',\n",
              "  'not',\n",
              "  'core',\n",
              "  'i',\n",
              "  'home',\n",
              "  'Surface',\n",
              "  'Pro']}"
            ]
          },
          "execution_count": 29,
          "metadata": {},
          "output_type": "execute_result"
        }
      ],
      "source": [
        "vars(test_dataset[0])"
      ]
    },
    {
      "cell_type": "code",
      "execution_count": null,
      "metadata": {
        "colab": {
          "base_uri": "https://localhost:8080/"
        },
        "id": "4nJTUnWlzrND",
        "outputId": "6f967de0-5082-45c1-b399-9d98a2cb54ac"
      },
      "outputs": [
        {
          "name": "stdout",
          "output_type": "stream",
          "text": [
            "280108 18418\n"
          ]
        }
      ],
      "source": [
        "print(len(train_set),len(val_set))"
      ]
    },
    {
      "cell_type": "markdown",
      "metadata": {
        "id": "uflEf3Vk0CE3"
      },
      "source": [
        "## 단어 사전"
      ]
    },
    {
      "cell_type": "code",
      "execution_count": 11,
      "metadata": {
        "id": "o5A0A6TYz5-n"
      },
      "outputs": [],
      "source": [
        "TEXT1.build_vocab(train_dataset,min_freq=5)"
      ]
    },
    {
      "cell_type": "code",
      "execution_count": null,
      "metadata": {
        "id": "OZsV4KnmO4uq"
      },
      "outputs": [],
      "source": [
        "TEXT1.vocab.stoi"
      ]
    },
    {
      "cell_type": "code",
      "execution_count": 12,
      "metadata": {
        "id": "o4a9YB1g0zJb"
      },
      "outputs": [],
      "source": [
        "TEXT2.vocab=TEXT1.vocab"
      ]
    },
    {
      "cell_type": "code",
      "execution_count": null,
      "metadata": {
        "id": "gRBo7Kp8NhPU"
      },
      "outputs": [],
      "source": [
        "TEXT2.vocab.stoi"
      ]
    },
    {
      "cell_type": "code",
      "execution_count": 13,
      "metadata": {
        "id": "JkqidAdVSVk3"
      },
      "outputs": [],
      "source": [
        "vocab_size=len(TEXT1.vocab)"
      ]
    },
    {
      "cell_type": "markdown",
      "metadata": {
        "id": "MXaEKlc3PI3_"
      },
      "source": [
        "## DataLoader"
      ]
    },
    {
      "cell_type": "code",
      "execution_count": 14,
      "metadata": {
        "id": "4U1juZHRPl-F"
      },
      "outputs": [],
      "source": [
        "from torchtext.data import Iterator"
      ]
    },
    {
      "cell_type": "code",
      "execution_count": 15,
      "metadata": {
        "id": "KX46Rwo6NkMW"
      },
      "outputs": [],
      "source": [
        "train_iter,val_iter,test_iter = Iterator.splits((train_set,val_set,test_dataset),batch_size=BATCH_SIZE,sort=False,shuffle=True)"
      ]
    },
    {
      "cell_type": "code",
      "execution_count": 88,
      "metadata": {
        "colab": {
          "base_uri": "https://localhost:8080/"
        },
        "id": "katVxy19QW5y",
        "outputId": "b0954cad-540e-429d-e297-8fafc86099a2"
      },
      "outputs": [
        {
          "output_type": "stream",
          "name": "stdout",
          "text": [
            "훈련 데이터의 미니 배치의 개수 : 234\n",
            "테스트 데이터의 미니 배치의 개수 : 2291\n",
            "검증 데이터의 미니 배치의 개수 : 59\n"
          ]
        }
      ],
      "source": [
        "print('훈련 데이터의 미니 배치의 개수 : {}'.format(len(train_iter)))\n",
        "print('테스트 데이터의 미니 배치의 개수 : {}'.format(len(test_iter)))\n",
        "print('검증 데이터의 미니 배치의 개수 : {}'.format(len(val_iter)))"
      ]
    },
    {
      "cell_type": "code",
      "execution_count": 72,
      "metadata": {
        "id": "HAx9o3GgQkix"
      },
      "outputs": [],
      "source": [
        "batch=next(iter(train_iter))"
      ]
    },
    {
      "cell_type": "code",
      "execution_count": 73,
      "metadata": {
        "colab": {
          "base_uri": "https://localhost:8080/"
        },
        "id": "bYxemIDcQtMn",
        "outputId": "b850afee-b51c-4fb1-aade-01543a66d311"
      },
      "outputs": [
        {
          "output_type": "execute_result",
          "data": {
            "text/plain": [
              "tensor([[   4,   20,  109,  ...,    1,    1,    1],\n",
              "        [   3,   12,    2,  ...,    1,    1,    1],\n",
              "        [  58,   14,    6,  ...,    1,    1,    1],\n",
              "        ...,\n",
              "        [  58,   10, 8027,  ...,    1,    1,    1],\n",
              "        [   3,   32,    6,  ...,    1,    1,    1],\n",
              "        [  58,   14,    6,  ...,    1,    1,    1]])"
            ]
          },
          "metadata": {},
          "execution_count": 73
        }
      ],
      "source": [
        "batch.text1"
      ]
    },
    {
      "cell_type": "code",
      "execution_count": 74,
      "metadata": {
        "colab": {
          "base_uri": "https://localhost:8080/"
        },
        "id": "u5l3jabAQxE-",
        "outputId": "311f9dbd-1d43-448f-9d5e-df579aa89e00"
      },
      "outputs": [
        {
          "output_type": "execute_result",
          "data": {
            "text/plain": [
              "tensor([1, 1, 1,  ..., 0, 0, 1])"
            ]
          },
          "metadata": {},
          "execution_count": 74
        }
      ],
      "source": [
        "batch.label"
      ]
    },
    {
      "cell_type": "code",
      "execution_count": 76,
      "metadata": {
        "id": "4uiZyaK1QiSa"
      },
      "outputs": [],
      "source": [
        "train_iter,val_iter,test_iter = Iterator.splits((train_set,val_set,test_dataset),batch_size=BATCH_SIZE,sort=False)"
      ]
    },
    {
      "cell_type": "markdown",
      "metadata": {
        "id": "wjKSzFGOQ35X"
      },
      "source": [
        "# 모델 구현"
      ]
    },
    {
      "cell_type": "code",
      "source": [
        "BATCH_SIZE=1024\n",
        "EPOCH=100\n",
        "MAX_LEN=31\n",
        "lr=1e-3\n",
        "\n",
        "emb_dim=100\n",
        "kernel_filters=300\n",
        "kernel_size=3\n",
        "dropout_p=0.2\n",
        "hidden_dim=200\n",
        "n_class=1"
      ],
      "metadata": {
        "id": "x0iyQVEb6L8e"
      },
      "execution_count": 16,
      "outputs": []
    },
    {
      "cell_type": "code",
      "source": [
        "class Dense(nn.Module):\n",
        "  def __init__(self,input_dim,output_dim,activation):\n",
        "    super(Dense,self).__init__()\n",
        "    self.dense=nn.Linear(input_dim,output_dim)\n",
        "    self.activation=activation\n",
        "  \n",
        "  def forward(self,x):\n",
        "    out = self.activation(self.dense(x))\n",
        "    return out"
      ],
      "metadata": {
        "id": "poW56gVoD5sE"
      },
      "execution_count": 17,
      "outputs": []
    },
    {
      "cell_type": "code",
      "source": [
        "class Text_CNN(nn.Module):\n",
        "  def __init__(self,vocab_size,emb_dim,kernel_filters,kernel_size,dropout_p):\n",
        "    super(Text_CNN,self).__init__()\n",
        "    self.Embedding=nn.Embedding(vocab_size,emb_dim)\n",
        "    self.Conv=nn.Conv1d(emb_dim,kernel_filters,kernel_size=3,padding='same')\n",
        "    self.pool=nn.MaxPool1d(kernel_size=MAX_LEN,stride=1)\n",
        "    self.dense1=Dense(300,128,nn.ReLU())\n",
        "    self.dropout=nn.Dropout(dropout_p)\n",
        "\n",
        "  def forward(self,x):\n",
        "    emb=self.Embedding(x)\n",
        "    self.dropout(emb)\n",
        "    emb=emb.transpose(1,2)\n",
        "    conv_out=self.Conv(emb)\n",
        "    pool_out=self.pool(conv_out)\n",
        "    sqz=torch.squeeze(pool_out,2)\n",
        "    out=self.dense1(sqz)\n",
        "\n",
        "    return out"
      ],
      "metadata": {
        "id": "8eZs67BkFNTg"
      },
      "execution_count": 18,
      "outputs": []
    },
    {
      "cell_type": "code",
      "execution_count": 19,
      "metadata": {
        "id": "LDKA6kfDQ6yY"
      },
      "outputs": [],
      "source": [
        "class Model(nn.Module):\n",
        "  def __init__(self,vocab_size,emb_dim,kernel_filters,kernel_size,hidden_dim,n_class,dropout_p):\n",
        "    super(Model,self).__init__()\n",
        "    self.text_CNN=Text_CNN(vocab_size,emb_dim,kernel_filters,kernel_size,dropout_p)\n",
        "    self.dense1=Dense(128*2,hidden_dim,nn.ReLU())\n",
        "    self.dropout=nn.Dropout(dropout_p)\n",
        "    self.dense2=Dense(hidden_dim,n_class,nn.Sigmoid())\n",
        "\n",
        "  def forward(self,x1,x2):\n",
        "    out1=self.text_CNN(x1)\n",
        "    out2=self.text_CNN(x2)\n",
        "\n",
        "    concat=torch.cat([out1,out2],dim=-1)\n",
        "    Fc_1=self.dense1(concat)\n",
        "    self.dropout(Fc_1)\n",
        "    out=self.dense2(Fc_1)\n",
        "    out=out.squeeze(-1)\n",
        "\n",
        "    return out"
      ]
    },
    {
      "cell_type": "code",
      "source": [
        "model=Model(vocab_size,emb_dim,kernel_filters,kernel_size,hidden_dim,n_class,dropout_p).to(device)\n",
        "optimizer=torch.optim.Adam(model.parameters(),lr=lr)\n",
        "criterion=nn.BCELoss(reduction='sum')"
      ],
      "metadata": {
        "id": "HWcuL8uXcCwW"
      },
      "execution_count": 20,
      "outputs": []
    },
    {
      "cell_type": "code",
      "source": [
        "output=model(batch.text1.to(device),batch.text2.to(device))\n",
        "print(output)"
      ],
      "metadata": {
        "id": "0uOaqyU9PVlK"
      },
      "execution_count": null,
      "outputs": []
    },
    {
      "cell_type": "code",
      "source": [
        "output.size()"
      ],
      "metadata": {
        "colab": {
          "base_uri": "https://localhost:8080/"
        },
        "id": "73RWVxXFO8CB",
        "outputId": "da34b507-0800-45f6-e778-1464e02ec3a1"
      },
      "execution_count": 42,
      "outputs": [
        {
          "output_type": "execute_result",
          "data": {
            "text/plain": [
              "torch.Size([1024, 1])"
            ]
          },
          "metadata": {},
          "execution_count": 42
        }
      ]
    },
    {
      "cell_type": "code",
      "source": [
        "batch.label.size()"
      ],
      "metadata": {
        "colab": {
          "base_uri": "https://localhost:8080/"
        },
        "id": "_-WUjV20UdlJ",
        "outputId": "963f58dd-0f65-437f-9074-8df6016aba62"
      },
      "execution_count": 38,
      "outputs": [
        {
          "output_type": "execute_result",
          "data": {
            "text/plain": [
              "torch.Size([1024])"
            ]
          },
          "metadata": {},
          "execution_count": 38
        }
      ]
    },
    {
      "cell_type": "code",
      "source": [
        "output.squeeze(-1)"
      ],
      "metadata": {
        "colab": {
          "base_uri": "https://localhost:8080/"
        },
        "id": "IquN9kapVPrR",
        "outputId": "2dd1a2f1-d5e7-45b9-aff4-39fec9fc366c"
      },
      "execution_count": 52,
      "outputs": [
        {
          "output_type": "execute_result",
          "data": {
            "text/plain": [
              "tensor([0.5087, 0.5000, 0.4994,  ..., 0.5101, 0.5198, 0.5059], device='cuda:0',\n",
              "       grad_fn=<SqueezeBackward1>)"
            ]
          },
          "metadata": {},
          "execution_count": 52
        }
      ]
    },
    {
      "cell_type": "code",
      "source": [
        "def train(model,optimizer,criterion,train_iter):\n",
        "  model.train()\n",
        "\n",
        "  for batch in train_iter:\n",
        "    text1,text2=batch.text1.to(device),batch.text2.to(device)\n",
        "    y=batch.label.to(device)\n",
        "\n",
        "    logit=model(text1,text2)\n",
        "    loss=criterion(logit.to(torch.float32),y.to(torch.float32))\n",
        "\n",
        "    optimizer.zero_grad()\n",
        "    loss.backward()\n",
        "    optimizer.step()"
      ],
      "metadata": {
        "id": "GOfyqIOuVkZD"
      },
      "execution_count": 21,
      "outputs": []
    },
    {
      "cell_type": "code",
      "source": [
        "a=torch.Tensor([0.3,0.2,0.6,0.51,0.4])\n",
        "b=torch.Tensor([0,1,1,1,0])\n",
        "(torch.round(a)==b).sum()"
      ],
      "metadata": {
        "colab": {
          "base_uri": "https://localhost:8080/"
        },
        "id": "eLr9aO-qb0iO",
        "outputId": "c2221137-ebbc-474a-d0bd-1e5e2a429915"
      },
      "execution_count": 105,
      "outputs": [
        {
          "output_type": "execute_result",
          "data": {
            "text/plain": [
              "tensor(4)"
            ]
          },
          "metadata": {},
          "execution_count": 105
        }
      ]
    },
    {
      "cell_type": "code",
      "source": [
        "def evaluate(model,val_iter,criterion):\n",
        "  model.eval()\n",
        "  corrects,total_loss=0,0\n",
        "\n",
        "  for batch in val_iter:\n",
        "    text1,text2=batch.text1.to(device),batch.text2.to(device)\n",
        "    y=batch.label.to(device)\n",
        "\n",
        "    logit=model(text1,text2)\n",
        "    loss=criterion(logit.to(torch.float32),y.to(torch.float32))\n",
        "    total_loss+=loss\n",
        "    corrects+=(torch.round(logit)==y).sum()\n",
        "\n",
        "  size=len(val_iter.dataset)\n",
        "  avg_loss=total_loss/size\n",
        "  avg_accuracy=corrects/size\n",
        "\n",
        "  return avg_loss,avg_accuracy"
      ],
      "metadata": {
        "id": "e5qyWV_lL4tM"
      },
      "execution_count": 22,
      "outputs": []
    },
    {
      "cell_type": "code",
      "source": [
        "import os"
      ],
      "metadata": {
        "id": "P3x5rInaQNCT"
      },
      "execution_count": 23,
      "outputs": []
    },
    {
      "cell_type": "code",
      "source": [
        "best_val_loss=None\n",
        "val_loss_data,val_acc_data=[],[]\n",
        "for e in range(1,EPOCH+1):\n",
        "  train(model,optimizer,criterion,train_iter)\n",
        "  val_loss,val_accuracy=evaluate(model,val_iter,criterion)\n",
        "  val_loss_data.append(val_loss)\n",
        "  val_acc_data.append(val_accuracy)\n",
        "  print(\"Epoch : {} | val_loss : {:.2f} , val_accuracy : {:.2f}\".format(e,val_loss,val_accuracy))\n",
        "\n",
        "  if not best_val_loss or best_val_loss>val_loss:\n",
        "    os.makedirs('best_weight',exist_ok=True)\n",
        "    torch.save(model.state_dict(),'./best_weight/best_weight.pt')\n",
        "    best_val_loss=val_loss"
      ],
      "metadata": {
        "colab": {
          "base_uri": "https://localhost:8080/"
        },
        "id": "VrKMX2MCNSOk",
        "outputId": "5161fca3-c70a-4a47-97db-8f1ed7ff3954"
      },
      "execution_count": null,
      "outputs": [
        {
          "output_type": "stream",
          "name": "stdout",
          "text": [
            "Epoch : 1 | val_loss : 0.53 , val_accuracy : 0.73\n"
          ]
        }
      ]
    },
    {
      "cell_type": "code",
      "source": [
        "import matplotlib.pyplot as plt\n",
        "\n",
        "plt.plot(val_loss_data,label='train_loss')\n",
        "plt.plot(val_acc_data,label='val_loss')\n",
        "plt.legend() \n",
        "plt.show()"
      ],
      "metadata": {
        "id": "N49M4sSOoC_v"
      },
      "execution_count": null,
      "outputs": []
    },
    {
      "cell_type": "markdown",
      "source": [
        "## 모델 성능 확인"
      ],
      "metadata": {
        "id": "g6o0TLCcn5V_"
      }
    },
    {
      "cell_type": "code",
      "source": [
        "model.load_state_dict(torch.load('./best_weight/best_weight.pt'))\n",
        "test_loss,test_accuracy=evaluate(model,test_iter,criterion)\n",
        "print(\"테스트 오차 : {:.2f} , 테스트 정확도 : {:.2f}\".format(test_loss,test_accuracy))"
      ],
      "metadata": {
        "colab": {
          "base_uri": "https://localhost:8080/",
          "height": 208
        },
        "id": "kIDewyi5dbsR",
        "outputId": "7608150c-599c-410d-d3d1-a04aac039939"
      },
      "execution_count": 1,
      "outputs": [
        {
          "output_type": "error",
          "ename": "NameError",
          "evalue": "ignored",
          "traceback": [
            "\u001b[0;31m---------------------------------------------------------------------------\u001b[0m",
            "\u001b[0;31mNameError\u001b[0m                                 Traceback (most recent call last)",
            "\u001b[0;32m<ipython-input-1-15475d8fa5d6>\u001b[0m in \u001b[0;36m<cell line: 1>\u001b[0;34m()\u001b[0m\n\u001b[0;32m----> 1\u001b[0;31m \u001b[0mmodel\u001b[0m\u001b[0;34m.\u001b[0m\u001b[0mload_state_dict\u001b[0m\u001b[0;34m(\u001b[0m\u001b[0mtorch\u001b[0m\u001b[0;34m.\u001b[0m\u001b[0mload\u001b[0m\u001b[0;34m(\u001b[0m\u001b[0;34m'./best_weight/best_weight.pt'\u001b[0m\u001b[0;34m)\u001b[0m\u001b[0;34m)\u001b[0m\u001b[0;34m\u001b[0m\u001b[0;34m\u001b[0m\u001b[0m\n\u001b[0m\u001b[1;32m      2\u001b[0m \u001b[0mtest_loss\u001b[0m\u001b[0;34m,\u001b[0m\u001b[0mtest_accuracy\u001b[0m\u001b[0;34m=\u001b[0m\u001b[0mevaluate\u001b[0m\u001b[0;34m(\u001b[0m\u001b[0mmodel\u001b[0m\u001b[0;34m,\u001b[0m\u001b[0mtest_iter\u001b[0m\u001b[0;34m,\u001b[0m\u001b[0mcriterion\u001b[0m\u001b[0;34m)\u001b[0m\u001b[0;34m\u001b[0m\u001b[0;34m\u001b[0m\u001b[0m\n\u001b[1;32m      3\u001b[0m \u001b[0mprint\u001b[0m\u001b[0;34m(\u001b[0m\u001b[0;34m\"테스트 오차 : {:.2f} , 테스트 정확도 : {:.2f}\"\u001b[0m\u001b[0;34m.\u001b[0m\u001b[0mformat\u001b[0m\u001b[0;34m(\u001b[0m\u001b[0mtest_loss\u001b[0m\u001b[0;34m,\u001b[0m\u001b[0mtest_accuracy\u001b[0m\u001b[0;34m)\u001b[0m\u001b[0;34m)\u001b[0m\u001b[0;34m\u001b[0m\u001b[0;34m\u001b[0m\u001b[0m\n",
            "\u001b[0;31mNameError\u001b[0m: name 'model' is not defined"
          ]
        }
      ]
    }
  ],
  "metadata": {
    "colab": {
      "provenance": [],
      "gpuType": "T4",
      "mount_file_id": "10IG4emXkiLaCf0ydnSNlzNtmejM6jMlp",
      "authorship_tag": "ABX9TyN6HF+TwrWXpB/b2wvAY7Tn",
      "include_colab_link": true
    },
    "gpuClass": "standard",
    "kernelspec": {
      "display_name": "Python 3",
      "name": "python3"
    },
    "language_info": {
      "name": "python"
    }
  },
  "nbformat": 4,
  "nbformat_minor": 0
}