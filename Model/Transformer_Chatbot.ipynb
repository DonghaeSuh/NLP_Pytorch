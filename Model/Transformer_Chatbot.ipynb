{
  "nbformat": 4,
  "nbformat_minor": 0,
  "metadata": {
    "colab": {
      "provenance": [],
      "collapsed_sections": [
        "dni9UQeR_s9A",
        "FPsgVrZh_0U5"
      ],
      "mount_file_id": "1Vc3jZml7wS5JTvknhAA6YLaCPkYpVef0",
      "authorship_tag": "ABX9TyOC+5Rnl+hHxTgYdsbfxP/j",
      "include_colab_link": true
    },
    "kernelspec": {
      "name": "python3",
      "display_name": "Python 3"
    },
    "language_info": {
      "name": "python"
    }
  },
  "cells": [
    {
      "cell_type": "markdown",
      "metadata": {
        "id": "view-in-github",
        "colab_type": "text"
      },
      "source": [
        "<a href=\"https://colab.research.google.com/github/DonghaeSuh/NLP_Pytorch/blob/main/Model/Transformer_Chatbot.ipynb\" target=\"_parent\"><img src=\"https://colab.research.google.com/assets/colab-badge.svg\" alt=\"Open In Colab\"/></a>"
      ]
    },
    {
      "cell_type": "markdown",
      "source": [
        "# 데이터 마련"
      ],
      "metadata": {
        "id": "obEMtyAfmfoi"
      }
    },
    {
      "cell_type": "code",
      "source": [
        "import pandas as pd"
      ],
      "metadata": {
        "id": "7jIeCkmuXFPr"
      },
      "execution_count": null,
      "outputs": []
    },
    {
      "cell_type": "code",
      "source": [
        "ls"
      ],
      "metadata": {
        "colab": {
          "base_uri": "https://localhost:8080/"
        },
        "id": "niwCvt_km_5z",
        "outputId": "fb3ea45a-f6b6-450e-f450-8af557958021"
      },
      "execution_count": null,
      "outputs": [
        {
          "output_type": "stream",
          "name": "stdout",
          "text": [
            "\u001b[0m\u001b[01;34mdrive\u001b[0m/  \u001b[01;34msample_data\u001b[0m/\n"
          ]
        }
      ]
    },
    {
      "cell_type": "code",
      "source": [
        "cd drive/MyDrive/Pytorch\\ NLP/data_in/Chatbot"
      ],
      "metadata": {
        "colab": {
          "base_uri": "https://localhost:8080/"
        },
        "id": "IA-ZkQhknBMa",
        "outputId": "b057b85e-13ea-42d0-bcef-2748802aab15"
      },
      "execution_count": null,
      "outputs": [
        {
          "output_type": "stream",
          "name": "stdout",
          "text": [
            "/content/drive/MyDrive/Pytorch NLP/data_in/Chatbot\n"
          ]
        }
      ]
    },
    {
      "cell_type": "code",
      "source": [
        "ls"
      ],
      "metadata": {
        "colab": {
          "base_uri": "https://localhost:8080/"
        },
        "id": "yEXE23tmnCo6",
        "outputId": "6c0a0c14-3e62-48da-b533-fd9ec8aabf9a"
      },
      "execution_count": null,
      "outputs": [
        {
          "output_type": "stream",
          "name": "stdout",
          "text": [
            "2_Fine_ChatbotData.csv  ChatbotData.csv       \u001b[0m\u001b[01;34mMecab-ko-for-Google-Colab\u001b[0m/\n",
            "\u001b[01;34mbest_weight\u001b[0m/            Fine_ChatbotData.csv  vocab_word.csv\n"
          ]
        }
      ]
    },
    {
      "cell_type": "code",
      "source": [
        "vocab_word=pd.read_csv('vocab_word.csv')\n",
        "train_data=pd.read_csv('2_Fine_ChatbotData.csv')"
      ],
      "metadata": {
        "id": "7Ti-xyO3nGP6"
      },
      "execution_count": null,
      "outputs": []
    },
    {
      "cell_type": "code",
      "source": [
        "BATCH_SIZE = 2\n",
        "MAX_LEN = 25\n",
        "EPOCHS = 30\n",
        "NUM_LAYERS = 2\n",
        "FEED_WORWARD_DIM=2048"
      ],
      "metadata": {
        "id": "ioEj60fJnRfj"
      },
      "execution_count": null,
      "outputs": []
    },
    {
      "cell_type": "code",
      "source": [
        "pip install torchtext==0.6"
      ],
      "metadata": {
        "colab": {
          "base_uri": "https://localhost:8080/"
        },
        "id": "NIwio5umoM8o",
        "outputId": "9c9a961f-9c6e-493f-cdca-e699d4756b67"
      },
      "execution_count": null,
      "outputs": [
        {
          "output_type": "stream",
          "name": "stdout",
          "text": [
            "Looking in indexes: https://pypi.org/simple, https://us-python.pkg.dev/colab-wheels/public/simple/\n",
            "Collecting torchtext==0.6\n",
            "  Downloading torchtext-0.6.0-py3-none-any.whl (64 kB)\n",
            "\u001b[2K     \u001b[90m━━━━━━━━━━━━━━━━━━━━━━━━━━━━━━━━━━━━━━━━\u001b[0m \u001b[32m64.2/64.2 kB\u001b[0m \u001b[31m2.4 MB/s\u001b[0m eta \u001b[36m0:00:00\u001b[0m\n",
            "\u001b[?25hRequirement already satisfied: tqdm in /usr/local/lib/python3.10/dist-packages (from torchtext==0.6) (4.65.0)\n",
            "Requirement already satisfied: requests in /usr/local/lib/python3.10/dist-packages (from torchtext==0.6) (2.27.1)\n",
            "Requirement already satisfied: torch in /usr/local/lib/python3.10/dist-packages (from torchtext==0.6) (2.0.1+cu118)\n",
            "Requirement already satisfied: numpy in /usr/local/lib/python3.10/dist-packages (from torchtext==0.6) (1.22.4)\n",
            "Requirement already satisfied: six in /usr/local/lib/python3.10/dist-packages (from torchtext==0.6) (1.16.0)\n",
            "Collecting sentencepiece (from torchtext==0.6)\n",
            "  Downloading sentencepiece-0.1.99-cp310-cp310-manylinux_2_17_x86_64.manylinux2014_x86_64.whl (1.3 MB)\n",
            "\u001b[2K     \u001b[90m━━━━━━━━━━━━━━━━━━━━━━━━━━━━━━━━━━━━━━━━\u001b[0m \u001b[32m1.3/1.3 MB\u001b[0m \u001b[31m16.1 MB/s\u001b[0m eta \u001b[36m0:00:00\u001b[0m\n",
            "\u001b[?25hRequirement already satisfied: urllib3<1.27,>=1.21.1 in /usr/local/lib/python3.10/dist-packages (from requests->torchtext==0.6) (1.26.15)\n",
            "Requirement already satisfied: certifi>=2017.4.17 in /usr/local/lib/python3.10/dist-packages (from requests->torchtext==0.6) (2022.12.7)\n",
            "Requirement already satisfied: charset-normalizer~=2.0.0 in /usr/local/lib/python3.10/dist-packages (from requests->torchtext==0.6) (2.0.12)\n",
            "Requirement already satisfied: idna<4,>=2.5 in /usr/local/lib/python3.10/dist-packages (from requests->torchtext==0.6) (3.4)\n",
            "Requirement already satisfied: filelock in /usr/local/lib/python3.10/dist-packages (from torch->torchtext==0.6) (3.12.0)\n",
            "Requirement already satisfied: typing-extensions in /usr/local/lib/python3.10/dist-packages (from torch->torchtext==0.6) (4.5.0)\n",
            "Requirement already satisfied: sympy in /usr/local/lib/python3.10/dist-packages (from torch->torchtext==0.6) (1.11.1)\n",
            "Requirement already satisfied: networkx in /usr/local/lib/python3.10/dist-packages (from torch->torchtext==0.6) (3.1)\n",
            "Requirement already satisfied: jinja2 in /usr/local/lib/python3.10/dist-packages (from torch->torchtext==0.6) (3.1.2)\n",
            "Requirement already satisfied: triton==2.0.0 in /usr/local/lib/python3.10/dist-packages (from torch->torchtext==0.6) (2.0.0)\n",
            "Requirement already satisfied: cmake in /usr/local/lib/python3.10/dist-packages (from triton==2.0.0->torch->torchtext==0.6) (3.25.2)\n",
            "Requirement already satisfied: lit in /usr/local/lib/python3.10/dist-packages (from triton==2.0.0->torch->torchtext==0.6) (16.0.5)\n",
            "Requirement already satisfied: MarkupSafe>=2.0 in /usr/local/lib/python3.10/dist-packages (from jinja2->torch->torchtext==0.6) (2.1.2)\n",
            "Requirement already satisfied: mpmath>=0.19 in /usr/local/lib/python3.10/dist-packages (from sympy->torch->torchtext==0.6) (1.3.0)\n",
            "Installing collected packages: sentencepiece, torchtext\n",
            "  Attempting uninstall: torchtext\n",
            "    Found existing installation: torchtext 0.15.2\n",
            "    Uninstalling torchtext-0.15.2:\n",
            "      Successfully uninstalled torchtext-0.15.2\n",
            "Successfully installed sentencepiece-0.1.99 torchtext-0.6.0\n"
          ]
        }
      ]
    },
    {
      "cell_type": "code",
      "source": [
        "from torchtext import data"
      ],
      "metadata": {
        "id": "_Sb6ZxGNoO6P"
      },
      "execution_count": null,
      "outputs": []
    },
    {
      "cell_type": "code",
      "source": [
        "# vocab 전용\n",
        "V=data.Field(sequential=True,\n",
        "             use_vocab=True,\n",
        "             tokenize=str.split,\n",
        "             init_token='<sos>',\n",
        "             eos_token='<eos>',\n",
        "             fix_length=MAX_LEN)"
      ],
      "metadata": {
        "id": "zVrBU9qnoUbR"
      },
      "execution_count": null,
      "outputs": []
    },
    {
      "cell_type": "code",
      "source": [
        "Q=data.Field(sequential=True,\n",
        "             use_vocab=True,\n",
        "             tokenize=str.split,\n",
        "             batch_first=True,\n",
        "             fix_length=MAX_LEN)\n",
        "\n",
        "A=data.Field(sequential=True,\n",
        "             use_vocab=True,\n",
        "             init_token='<sos>',\n",
        "             eos_token='<eos>',\n",
        "             tokenize=str.split,\n",
        "             batch_first=True,\n",
        "             fix_length=MAX_LEN)\n",
        "LABEL=data.Field(sequential=True,\n",
        "                 use_vocab=True,\n",
        "                 eos_token='<eos>',\n",
        "                 tokenize=str.split,\n",
        "                 batch_first=True,\n",
        "                 fix_length=MAX_LEN)"
      ],
      "metadata": {
        "id": "-kS_NOZMoZ-C"
      },
      "execution_count": null,
      "outputs": []
    },
    {
      "cell_type": "code",
      "source": [
        "from torchtext.data import TabularDataset"
      ],
      "metadata": {
        "id": "rx6NPj3KoblJ"
      },
      "execution_count": null,
      "outputs": []
    },
    {
      "cell_type": "code",
      "source": [
        "train_data=TabularDataset('2_Fine_ChatbotData.csv',format='csv',fields=[('question',Q),('answer',A),('label',LABEL)],skip_header=True)\n",
        "vars(train_data[0])"
      ],
      "metadata": {
        "colab": {
          "base_uri": "https://localhost:8080/"
        },
        "id": "hvy11Aq4oe5x",
        "outputId": "6aca2096-a44d-489d-d2b3-4d1354353508"
      },
      "execution_count": null,
      "outputs": [
        {
          "output_type": "execute_result",
          "data": {
            "text/plain": [
              "{'question': ['12시', '땡'],\n",
              " 'answer': ['하루가', '또', '가네요'],\n",
              " 'label': ['하루가', '또', '가네요']}"
            ]
          },
          "metadata": {},
          "execution_count": 12
        }
      ]
    },
    {
      "cell_type": "code",
      "source": [
        "vocab_data=TabularDataset('vocab_word.csv',format='csv',fields=[('vocab_word',V)],skip_header=True)"
      ],
      "metadata": {
        "id": "mHbljGn_oeWJ"
      },
      "execution_count": null,
      "outputs": []
    },
    {
      "cell_type": "code",
      "source": [
        "V.build_vocab(vocab_data,min_freq=2)\n",
        "\n",
        "Q.vocab=V.vocab\n",
        "A.vocab=V.vocab\n",
        "LABEL.vocab=V.vocab"
      ],
      "metadata": {
        "id": "DFCBMdmyolxP"
      },
      "execution_count": null,
      "outputs": []
    },
    {
      "cell_type": "code",
      "source": [
        "import random\n",
        "import torch\n",
        "SEED=123\n",
        "random.seed(SEED)\n",
        "torch.manual_seed(SEED)\n",
        "\n",
        "train_data,val_data=train_data.split(split_ratio=0.9,random_state=random.seed(SEED))"
      ],
      "metadata": {
        "id": "MWAVwXCvopEV"
      },
      "execution_count": null,
      "outputs": []
    },
    {
      "cell_type": "code",
      "source": [
        "from torchtext.data import Iterator"
      ],
      "metadata": {
        "id": "72QK0boQoqmY"
      },
      "execution_count": null,
      "outputs": []
    },
    {
      "cell_type": "code",
      "source": [
        "train_iter=Iterator(train_data,batch_size=BATCH_SIZE)\n",
        "val_iter=Iterator(val_data,batch_size=BATCH_SIZE)"
      ],
      "metadata": {
        "id": "IekjCN8Rorz2"
      },
      "execution_count": null,
      "outputs": []
    },
    {
      "cell_type": "code",
      "source": [
        "batch=next(iter(train_iter))\n",
        "batch.question"
      ],
      "metadata": {
        "colab": {
          "base_uri": "https://localhost:8080/"
        },
        "id": "KSIEl3oCotMB",
        "outputId": "f9036293-8543-443a-ef8c-bb005d91acd2"
      },
      "execution_count": null,
      "outputs": [
        {
          "output_type": "execute_result",
          "data": {
            "text/plain": [
              "tensor([[ 742,  202, 1854, 5302,  211,    1,    1,    1,    1,    1,    1,    1,\n",
              "            1,    1,    1,    1,    1,    1,    1,    1,    1,    1,    1,    1,\n",
              "            1],\n",
              "        [  45,    0,    0, 2612,    1,    1,    1,    1,    1,    1,    1,    1,\n",
              "            1,    1,    1,    1,    1,    1,    1,    1,    1,    1,    1,    1,\n",
              "            1]])"
            ]
          },
          "metadata": {},
          "execution_count": 18
        }
      ]
    },
    {
      "cell_type": "code",
      "source": [
        "batch.answer"
      ],
      "metadata": {
        "colab": {
          "base_uri": "https://localhost:8080/"
        },
        "id": "FABPp1jYoupe",
        "outputId": "ea9a6536-3571-4823-98b4-188a43a16566"
      },
      "execution_count": null,
      "outputs": [
        {
          "output_type": "execute_result",
          "data": {
            "text/plain": [
              "tensor([[   2, 4448, 4528, 3233,  858,  321, 4934,   89,    3,    1,    1,    1,\n",
              "            1,    1,    1,    1,    1,    1,    1,    1,    1,    1,    1,    1,\n",
              "            1],\n",
              "        [   2,  978, 1768,  539,   89,    3,    1,    1,    1,    1,    1,    1,\n",
              "            1,    1,    1,    1,    1,    1,    1,    1,    1,    1,    1,    1,\n",
              "            1]])"
            ]
          },
          "metadata": {},
          "execution_count": 19
        }
      ]
    },
    {
      "cell_type": "code",
      "source": [
        "batch.label"
      ],
      "metadata": {
        "colab": {
          "base_uri": "https://localhost:8080/"
        },
        "id": "lAjiNjlCoxM5",
        "outputId": "bd407290-7ae7-4b82-822a-e90fdcdfc64b"
      },
      "execution_count": null,
      "outputs": [
        {
          "output_type": "execute_result",
          "data": {
            "text/plain": [
              "tensor([[4448, 4528, 3233,  858,  321, 4934,   89,    3,    1,    1,    1,    1,\n",
              "            1,    1,    1,    1,    1,    1,    1,    1,    1,    1,    1,    1,\n",
              "            1],\n",
              "        [ 978, 1768,  539,   89,    3,    1,    1,    1,    1,    1,    1,    1,\n",
              "            1,    1,    1,    1,    1,    1,    1,    1,    1,    1,    1,    1,\n",
              "            1]])"
            ]
          },
          "metadata": {},
          "execution_count": 20
        }
      ]
    },
    {
      "cell_type": "code",
      "source": [
        "train_iter=Iterator(train_data,batch_size=BATCH_SIZE)\n",
        "val_iter=Iterator(val_data,batch_size=BATCH_SIZE)"
      ],
      "metadata": {
        "id": "kwp-7ekIo1hj"
      },
      "execution_count": null,
      "outputs": []
    },
    {
      "cell_type": "markdown",
      "source": [
        "# 모델 구현"
      ],
      "metadata": {
        "id": "M-zffnATo_TB"
      }
    },
    {
      "cell_type": "code",
      "source": [
        "## hyperparameter\n",
        "BATCH_SIZE=2\n",
        "EPOCH=30\n",
        "MAX_LEN=25\n",
        "kargs={'max_len':MAX_LEN,\n",
        "       'emb_dim':512,\n",
        "       'num_layers':2,\n",
        "       'num_heads':6,\n",
        "       'ffn_dim':2048,\n",
        "       'vocab_size':len(V.vocab),\n",
        "       'p_rate':0.1\n",
        "       }\n",
        "\n",
        "device='cuda' if torch.cuda.is_available() else 'cpu'"
      ],
      "metadata": {
        "id": "1KXCz0llpASK"
      },
      "execution_count": null,
      "outputs": []
    },
    {
      "cell_type": "code",
      "source": [
        "import torch\n",
        "import torch.nn as nn"
      ],
      "metadata": {
        "id": "SIopOeY9sPDf"
      },
      "execution_count": null,
      "outputs": []
    },
    {
      "cell_type": "markdown",
      "source": [
        "### positional_encoding"
      ],
      "metadata": {
        "id": "IJ46b7EX_9-C"
      }
    },
    {
      "cell_type": "code",
      "source": [
        "def positional_encoding(pos,d_model):\n",
        "  pos=torch.arange(pos).unsqueeze(-1)\n",
        "  i=torch.arange(d_model).unsqueeze(0)\n",
        "\n",
        "  angle=pos/(torch.pow(10000,(2*i/d_model)))\n",
        "\n",
        "  angle[:,0::2]=torch.sin(angle[:,0::2])\n",
        "  angle[:,1::2]=torch.cos(angle[:,1::2])\n",
        "\n",
        "  PE=angle.unsqueeze(0) # PE : ( 1, max_len, d_model )\n",
        "  \n",
        "  return PE # PE : ( 1, max_len, d_model )"
      ],
      "metadata": {
        "id": "tsZuI8rEH5ua"
      },
      "execution_count": null,
      "outputs": []
    },
    {
      "cell_type": "code",
      "source": [
        "import matplotlib.pyplot as plt\n",
        "\n",
        "pe=positional_encoding(25,512)\n",
        "\n",
        "plt.pcolormesh(pe[0],cmap='RdBu')\n",
        "plt.xlabel('emb_dim')\n",
        "plt.ylabel('max_len')\n",
        "plt.colorbar()\n",
        "plt.show"
      ],
      "metadata": {
        "colab": {
          "base_uri": "https://localhost:8080/",
          "height": 473
        },
        "id": "vOrVe4H62MlY",
        "outputId": "37a388c6-a41b-480c-b238-21e094e6c60e"
      },
      "execution_count": null,
      "outputs": [
        {
          "output_type": "execute_result",
          "data": {
            "text/plain": [
              "<function matplotlib.pyplot.show(close=None, block=None)>"
            ]
          },
          "metadata": {},
          "execution_count": 25
        },
        {
          "output_type": "display_data",
          "data": {
            "text/plain": [
              "<Figure size 640x480 with 2 Axes>"
            ],
            "image/png": "[encoded data removed]"
          },
          "metadata": {}
        }
      ]
    },
    {
      "cell_type": "markdown",
      "source": [
        "### 테스트"
      ],
      "metadata": {
        "id": "dni9UQeR_s9A"
      }
    },
    {
      "cell_type": "code",
      "source": [
        "a=torch.arange(5).unsqueeze(dim=-1) # position\n",
        "b=torch.arange(10).unsqueeze(dim=0)\n",
        "print(a)\n",
        "print(b)\n",
        "a*b"
      ],
      "metadata": {
        "colab": {
          "base_uri": "https://localhost:8080/"
        },
        "id": "5hIS5q7BywIl",
        "outputId": "6cbe4296-2fbf-4575-f7cf-3c7416f3da1c"
      },
      "execution_count": null,
      "outputs": [
        {
          "output_type": "stream",
          "name": "stdout",
          "text": [
            "tensor([[0],\n",
            "        [1],\n",
            "        [2],\n",
            "        [3],\n",
            "        [4]])\n",
            "tensor([[0, 1, 2, 3, 4, 5, 6, 7, 8, 9]])\n"
          ]
        },
        {
          "output_type": "execute_result",
          "data": {
            "text/plain": [
              "tensor([[ 0,  0,  0,  0,  0,  0,  0,  0,  0,  0],\n",
              "        [ 0,  1,  2,  3,  4,  5,  6,  7,  8,  9],\n",
              "        [ 0,  2,  4,  6,  8, 10, 12, 14, 16, 18],\n",
              "        [ 0,  3,  6,  9, 12, 15, 18, 21, 24, 27],\n",
              "        [ 0,  4,  8, 12, 16, 20, 24, 28, 32, 36]])"
            ]
          },
          "metadata": {},
          "execution_count": 5
        }
      ]
    },
    {
      "cell_type": "code",
      "source": [
        "a=torch.Tensor([[2,3,1],[4,1,1]])\n",
        "mask=torch.ones(a.size())\n",
        "mask=(a==mask)*-1e9\n",
        "mask"
      ],
      "metadata": {
        "colab": {
          "base_uri": "https://localhost:8080/"
        },
        "id": "kfXgHEN3odT4",
        "outputId": "06a86cef-ad2d-465e-b377-e86f86087258"
      },
      "execution_count": null,
      "outputs": [
        {
          "output_type": "execute_result",
          "data": {
            "text/plain": [
              "tensor([[-0.0000e+00, -0.0000e+00, -1.0000e+09],\n",
              "        [-0.0000e+00, -1.0000e+09, -1.0000e+09]])"
            ]
          },
          "metadata": {},
          "execution_count": 4
        }
      ]
    },
    {
      "cell_type": "code",
      "source": [
        "print(mask[:,None,None,:],mask[:,None,None,:].size())"
      ],
      "metadata": {
        "colab": {
          "base_uri": "https://localhost:8080/"
        },
        "id": "UD90tDq2tYrm",
        "outputId": "b8bcdc76-88c1-49c3-910c-0620ea0dfb20"
      },
      "execution_count": null,
      "outputs": [
        {
          "output_type": "stream",
          "name": "stdout",
          "text": [
            "tensor([[[[-0.0000e+00, -0.0000e+00, -1.0000e+09]]],\n",
            "\n",
            "\n",
            "        [[[-0.0000e+00, -1.0000e+09, -1.0000e+09]]]]) torch.Size([2, 1, 1, 3])\n"
          ]
        }
      ]
    },
    {
      "cell_type": "code",
      "source": [
        "a=torch.Tensor([[[1,2,3],[4,5,6]],[[3,2,1],[6,5,4]]])\n",
        "b=torch.Tensor([[[-1,-1,-1]],[[1,1,1]]])\n",
        "a+b"
      ],
      "metadata": {
        "colab": {
          "base_uri": "https://localhost:8080/"
        },
        "id": "w-XC3CzNs30t",
        "outputId": "2f96a9bf-7d63-4ce0-a156-ab085014a694"
      },
      "execution_count": null,
      "outputs": [
        {
          "output_type": "execute_result",
          "data": {
            "text/plain": [
              "tensor([[[0., 1., 2.],\n",
              "         [3., 4., 5.]],\n",
              "\n",
              "        [[4., 3., 2.],\n",
              "         [7., 6., 5.]]])"
            ]
          },
          "metadata": {},
          "execution_count": 52
        }
      ]
    },
    {
      "cell_type": "code",
      "source": [
        "a=torch.Tensor([False,True,True])\n",
        "b=torch.Tensor([False,False,True])\n",
        "torch.maximum(a,b)"
      ],
      "metadata": {
        "colab": {
          "base_uri": "https://localhost:8080/"
        },
        "id": "8hg3iADt59vl",
        "outputId": "98352aa1-7f0a-4bf9-fb85-c1a6ca9328f0"
      },
      "execution_count": null,
      "outputs": [
        {
          "output_type": "execute_result",
          "data": {
            "text/plain": [
              "tensor([0., 1., 1.])"
            ]
          },
          "metadata": {},
          "execution_count": 9
        }
      ]
    },
    {
      "cell_type": "markdown",
      "source": [
        "### padding mask"
      ],
      "metadata": {
        "id": "9-m8Vkse_xU6"
      }
    },
    {
      "cell_type": "code",
      "source": [
        "def padding_mask(inp):\n",
        "  # inp : ( batch_size, max_len ) \n",
        "  # padding mask\n",
        "  mask=torch.ones(inp.size())  # ( batch_size, max_len ) \n",
        "  mask=(inp==mask)*-1e9  # ( batch_size, max_len ) \n",
        "  padding_mask=mask[:,None,None,:] # ( batch_size, 1, 1, max_len )\n",
        "  \n",
        "  return padding_mask # ( batch_size, 1, 1, max_len )"
      ],
      "metadata": {
        "id": "nxtzEXF3nWmQ"
      },
      "execution_count": null,
      "outputs": []
    },
    {
      "cell_type": "markdown",
      "source": [
        "### 테스트"
      ],
      "metadata": {
        "id": "FPsgVrZh_0U5"
      }
    },
    {
      "cell_type": "code",
      "source": [
        "a=torch.ones(4,4)\n",
        "print(a.triu(diagonal=0))\n",
        "print(a.triu(diagonal=1)) # 이게 필요\n",
        "print(a.triu(diagonal=-1))\n",
        "c=a.triu(diagonal=1)\n",
        "print(c.repeat(2,1,1,1).size())\n",
        "c.repeat(2,1,1,1)"
      ],
      "metadata": {
        "colab": {
          "base_uri": "https://localhost:8080/"
        },
        "id": "dQYqikBv8T2K",
        "outputId": "2e5eaa74-063f-4bc7-cf60-8530b8825a21"
      },
      "execution_count": null,
      "outputs": [
        {
          "output_type": "stream",
          "name": "stdout",
          "text": [
            "tensor([[1., 1., 1., 1.],\n",
            "        [0., 1., 1., 1.],\n",
            "        [0., 0., 1., 1.],\n",
            "        [0., 0., 0., 1.]])\n",
            "tensor([[0., 1., 1., 1.],\n",
            "        [0., 0., 1., 1.],\n",
            "        [0., 0., 0., 1.],\n",
            "        [0., 0., 0., 0.]])\n",
            "tensor([[1., 1., 1., 1.],\n",
            "        [1., 1., 1., 1.],\n",
            "        [0., 1., 1., 1.],\n",
            "        [0., 0., 1., 1.]])\n",
            "torch.Size([2, 1, 4, 4])\n"
          ]
        },
        {
          "output_type": "execute_result",
          "data": {
            "text/plain": [
              "tensor([[[[0., 1., 1., 1.],\n",
              "          [0., 0., 1., 1.],\n",
              "          [0., 0., 0., 1.],\n",
              "          [0., 0., 0., 0.]]],\n",
              "\n",
              "\n",
              "        [[[0., 1., 1., 1.],\n",
              "          [0., 0., 1., 1.],\n",
              "          [0., 0., 0., 1.],\n",
              "          [0., 0., 0., 0.]]]])"
            ]
          },
          "metadata": {},
          "execution_count": 21
        }
      ]
    },
    {
      "cell_type": "code",
      "source": [
        "a=a.triu(diagonal=1)\n",
        "b=torch.Tensor([[0,0,1,1]])\n",
        "torch.maximum(a,b)"
      ],
      "metadata": {
        "colab": {
          "base_uri": "https://localhost:8080/"
        },
        "id": "3P_L8ACC_Woo",
        "outputId": "fec17193-dc0f-4c76-c153-b2eb04284485"
      },
      "execution_count": null,
      "outputs": [
        {
          "output_type": "execute_result",
          "data": {
            "text/plain": [
              "tensor([[0., 1., 1., 1.],\n",
              "        [0., 0., 1., 1.],\n",
              "        [0., 0., 1., 1.],\n",
              "        [0., 0., 1., 1.]])"
            ]
          },
          "metadata": {},
          "execution_count": 44
        }
      ]
    },
    {
      "cell_type": "code",
      "source": [
        "look_ahead_mask(torch.Tensor([[4,2,3,1,1],[1,2,3,2,1]]))"
      ],
      "metadata": {
        "colab": {
          "base_uri": "https://localhost:8080/"
        },
        "id": "yxCDHjdUAKYx",
        "outputId": "d2d43977-cc6e-4087-8b5d-73092964ab25"
      },
      "execution_count": null,
      "outputs": [
        {
          "output_type": "execute_result",
          "data": {
            "text/plain": [
              "tensor([[[[-0.0000e+00, -1.0000e+09, -1.0000e+09, -1.0000e+09, -1.0000e+09],\n",
              "          [-0.0000e+00, -0.0000e+00, -1.0000e+09, -1.0000e+09, -1.0000e+09],\n",
              "          [-0.0000e+00, -0.0000e+00, -0.0000e+00, -1.0000e+09, -1.0000e+09],\n",
              "          [-0.0000e+00, -0.0000e+00, -0.0000e+00, -1.0000e+09, -1.0000e+09],\n",
              "          [-0.0000e+00, -0.0000e+00, -0.0000e+00, -1.0000e+09, -1.0000e+09]]],\n",
              "\n",
              "\n",
              "        [[[-1.0000e+09, -1.0000e+09, -1.0000e+09, -1.0000e+09, -1.0000e+09],\n",
              "          [-1.0000e+09, -0.0000e+00, -1.0000e+09, -1.0000e+09, -1.0000e+09],\n",
              "          [-1.0000e+09, -0.0000e+00, -0.0000e+00, -1.0000e+09, -1.0000e+09],\n",
              "          [-1.0000e+09, -0.0000e+00, -0.0000e+00, -0.0000e+00, -1.0000e+09],\n",
              "          [-1.0000e+09, -0.0000e+00, -0.0000e+00, -0.0000e+00, -1.0000e+09]]]])"
            ]
          },
          "metadata": {},
          "execution_count": 46
        }
      ]
    },
    {
      "cell_type": "markdown",
      "source": [
        "### look_ahead_mask"
      ],
      "metadata": {
        "id": "fTX_AqwR_2cJ"
      }
    },
    {
      "cell_type": "code",
      "source": [
        "def look_ahead_mask(tar):\n",
        "  # tar : ( batch_size, max_len )\n",
        "\n",
        "  # padding mask (padding 부분이 True,  아닌 부분이 False인 요소로 채워진 Tensor)\n",
        "  mask=torch.ones(tar.size())  # ( batch_size, max_len ) \n",
        "\n",
        "  padding_mask=(tar==mask)  # ( batch_size, max_len ) \n",
        "  padding_mask=padding_mask[:,None,None,:] # ( batch_size, 1, 1, max_len )\n",
        "\n",
        "  # look_ahead mask\n",
        "  ones=torch.ones(tar.size()[1],tar.size()[1]) # ( max_len, max_len )\n",
        "  look_ahead_mask=ones.triu(diagonal=1) # ( max_len, max_len )\n",
        "  look_ahead_mask=look_ahead_mask.repeat(tar.size()[0],1,1,1) # ( batch_size, 1, ,max_len, max_len )\n",
        "\n",
        "  look_ahead_mask=torch.maximum(padding_mask,look_ahead_mask)*-1e9\n",
        "  \n",
        "  return look_ahead_mask # ( batch_size, 1, ,max_len, max_len )"
      ],
      "metadata": {
        "id": "6gK51SBast2M"
      },
      "execution_count": null,
      "outputs": []
    },
    {
      "cell_type": "markdown",
      "source": [
        "### Multi-head Attention\n",
        "![image.png](data:image/png;base64,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)"
      ],
      "metadata": {
        "id": "UWEfMRuPDFL4"
      }
    },
    {
      "cell_type": "code",
      "source": [
        "import math"
      ],
      "metadata": {
        "id": "D9AbpitsN1HR"
      },
      "execution_count": null,
      "outputs": []
    },
    {
      "cell_type": "code",
      "source": [
        "class MultiheadAttention(nn.Module):\n",
        "  def __init__(self,**kargs):\n",
        "    super(MultiheadAttention,self).__init__()\n",
        "\n",
        "    self.num_head=kargs['num_heads']\n",
        "    self.d_model=kargs['d_model']\n",
        "    self.depth=self.d_model/self.num_head  # d_model%num_head=0\n",
        "\n",
        "    self.wq=nn.Linear(kargs['d_model'],kargs['d_model'])\n",
        "    self.wk=nn.Linear(kargs['d_model'],kargs['d_model'])\n",
        "    self.wv=nn.Linear(kargs['d_model'],kargs['d_model'])\n",
        "\n",
        "    self.final_Linear=nn.Linear(kargs['d_model'],kargs['d_model'])\n",
        "\n",
        "    self.softmax=nn.Softmax(dim=-1)\n",
        "\n",
        "  def split_head(self,x): # x : ( batch_size, max_len, emb_dim )\n",
        "    x = x.view( x.size()[0] , -1, self.num_head , self.depth ) \n",
        "    # ( batch_size, max_len, num_head, depth ) # num_head*depth=emb_dim\n",
        "\n",
        "    return x.permute(0,2,1,3) # ( batch_size, num_head, max_len, depth )\n",
        "\n",
        "  def forward(self,q,k,v,mask):\n",
        "    # q,k,v = ( batch_size, max_len, emb_dim )\n",
        "    # mask = ( batch_size, 1, 1, max_len ) or ( batch_size, 1, max_len, max_len )\n",
        "\n",
        "    q = self.wq(q) # ( batch_size, max_len, emb_dim )\n",
        "    k = self.wk(k) # ( batch_size, max_len, emb_dim )\n",
        "    v = self.wv(v) # ( batch_size, max_len, emb_dim )\n",
        "\n",
        "    root_dk=math.sqrt(k.size()[-1]) \n",
        "\n",
        "    # split by head\n",
        "    q=self.split_head(q) # ( batch_size, num_head, max_len, depth )\n",
        "    k=self.split_head(k) # ( batch_size, num_head, max_len, depth )\n",
        "    v=self.split_head(v) # ( batch_size, num_head, max_len, depth )\n",
        "\n",
        "    # scaled Dot-Product Attention\n",
        "    score=torch.matmul(q, k.transpose(2,3))/root_dk # ( batch_size, num_haed, max_len, max_len )\n",
        "    masked_score = score+mask # ( batch_size, num_haed, max_len, max_len )\n",
        "    attention = torch.matmul(self.softmax(masked_score), v ) # ( batch_size, num_haed, max_len, depth )\n",
        "\n",
        "    # Concat and Linear\n",
        "    pre_permute = attention.permute(0,2,1,3) # ( batch_size, max_len, num_head, depth )\n",
        "    z = pre_permute.view(pre_permute.size()[0],-1,self.d_model) # ( batch_size, max_len, emb_dim )\n",
        "    z = self.final_Linear(z)\n",
        "\n",
        "    return z # ( batch_size, max_len, emb_dim )  <= q,k,v of next Encoder "
      ],
      "metadata": {
        "id": "1OWfynWhJtxC"
      },
      "execution_count": null,
      "outputs": []
    },
    {
      "cell_type": "markdown",
      "source": [
        "### 테스트"
      ],
      "metadata": {
        "id": "NU8Gw5LxDET5"
      }
    },
    {
      "cell_type": "code",
      "source": [
        "a=torch.Tensor([[[1,2,3,4],[4,5,6,7]],[[7,8,9,10],[10,11,12,13]]])\n",
        "print(a,a.size(),sep='\\n')\n",
        "b=a.view(2,-1,2,2)\n",
        "print(b,b.size(),sep='\\n')\n",
        "c=b.permute(0,2,1,3)\n",
        "print(c,c.size(),sep='\\n')"
      ],
      "metadata": {
        "colab": {
          "base_uri": "https://localhost:8080/"
        },
        "id": "3hlXy366DJLJ",
        "outputId": "bce7c844-b3dc-4b2b-d800-5ae508da9ab6"
      },
      "execution_count": null,
      "outputs": [
        {
          "output_type": "stream",
          "name": "stdout",
          "text": [
            "tensor([[[ 1.,  2.,  3.,  4.],\n",
            "         [ 4.,  5.,  6.,  7.]],\n",
            "\n",
            "        [[ 7.,  8.,  9., 10.],\n",
            "         [10., 11., 12., 13.]]])\n",
            "torch.Size([2, 2, 4])\n",
            "tensor([[[[ 1.,  2.],\n",
            "          [ 3.,  4.]],\n",
            "\n",
            "         [[ 4.,  5.],\n",
            "          [ 6.,  7.]]],\n",
            "\n",
            "\n",
            "        [[[ 7.,  8.],\n",
            "          [ 9., 10.]],\n",
            "\n",
            "         [[10., 11.],\n",
            "          [12., 13.]]]])\n",
            "torch.Size([2, 2, 2, 2])\n",
            "tensor([[[[ 1.,  2.],\n",
            "          [ 4.,  5.]],\n",
            "\n",
            "         [[ 3.,  4.],\n",
            "          [ 6.,  7.]]],\n",
            "\n",
            "\n",
            "        [[[ 7.,  8.],\n",
            "          [10., 11.]],\n",
            "\n",
            "         [[ 9., 10.],\n",
            "          [12., 13.]]]])\n",
            "torch.Size([2, 2, 2, 2])\n"
          ]
        }
      ]
    },
    {
      "cell_type": "code",
      "source": [
        "d=c.permute(0,2,1,3)\n",
        "print(d,d.size(),sep='\\n')\n",
        "e=d.view(d.size()[0],-1,4)\n",
        "print(e,e.size(),sep='\\n')"
      ],
      "metadata": {
        "colab": {
          "base_uri": "https://localhost:8080/"
        },
        "id": "XwnLGD4_675M",
        "outputId": "ff25ad6b-96bf-4ca2-efa8-c4db7d2b972d"
      },
      "execution_count": null,
      "outputs": [
        {
          "output_type": "stream",
          "name": "stdout",
          "text": [
            "tensor([[[[ 1.,  2.],\n",
            "          [ 3.,  4.]],\n",
            "\n",
            "         [[ 4.,  5.],\n",
            "          [ 6.,  7.]]],\n",
            "\n",
            "\n",
            "        [[[ 7.,  8.],\n",
            "          [ 9., 10.]],\n",
            "\n",
            "         [[10., 11.],\n",
            "          [12., 13.]]]])\n",
            "torch.Size([2, 2, 2, 2])\n",
            "tensor([[[ 1.,  2.,  3.,  4.],\n",
            "         [ 4.,  5.,  6.,  7.]],\n",
            "\n",
            "        [[ 7.,  8.,  9., 10.],\n",
            "         [10., 11., 12., 13.]]])\n",
            "torch.Size([2, 2, 4])\n"
          ]
        }
      ]
    },
    {
      "cell_type": "code",
      "source": [
        "c.transpose(2,3)/10"
      ],
      "metadata": {
        "colab": {
          "base_uri": "https://localhost:8080/"
        },
        "id": "zCvZiGf6OLIK",
        "outputId": "c99c8aa6-dfa6-42d3-dfb8-3ff6713b01b5"
      },
      "execution_count": null,
      "outputs": [
        {
          "output_type": "execute_result",
          "data": {
            "text/plain": [
              "tensor([[[[0.1000, 0.4000],\n",
              "          [0.2000, 0.5000]],\n",
              "\n",
              "         [[0.3000, 0.6000],\n",
              "          [0.4000, 0.7000]]],\n",
              "\n",
              "\n",
              "        [[[0.7000, 1.0000],\n",
              "          [0.8000, 1.1000]],\n",
              "\n",
              "         [[0.9000, 1.2000],\n",
              "          [1.0000, 1.3000]]]])"
            ]
          },
          "metadata": {},
          "execution_count": 50
        }
      ]
    },
    {
      "cell_type": "markdown",
      "source": [
        "### Feed Forward Network"
      ],
      "metadata": {
        "id": "QpmWX7s5_QPG"
      }
    },
    {
      "cell_type": "code",
      "source": [
        "def FeedForward(**kargs):\n",
        "    return nn.Sequential(nn.Linear(kargs['d_model'],kargs['ffn_dim']),\n",
        "                         nn.ReLU(),\n",
        "                         nn.Linear(kargs['ffn_dim'],kargs['d_model'])) # ( batch_size, max_len, emb_dim )"
      ],
      "metadata": {
        "id": "zNTZnLAT_PkX"
      },
      "execution_count": null,
      "outputs": []
    },
    {
      "cell_type": "markdown",
      "source": [
        "## Encoder"
      ],
      "metadata": {
        "id": "n-72XPENJi13"
      }
    },
    {
      "cell_type": "markdown",
      "source": [
        "### Encoder Layer"
      ],
      "metadata": {
        "id": "8W9Fy0OE70h3"
      }
    },
    {
      "cell_type": "code",
      "source": [
        "class EncoderLayer(nn.Module):\n",
        "  def __init__(self,**kargs):\n",
        "    super(EncoderLayer,self).__init__()\n",
        "\n",
        "    self.mha=MultiheadAttention(**kargs)\n",
        "    self.ffn=FeedForward(**kargs)\n",
        "\n",
        "    self.Norm1=nn.LayerNorm(kargs['d_model'],eps=1e-6)\n",
        "    self.Norm2=nn.LayerNorm(kargs['d_model'],eps=1e-6)\n",
        "\n",
        "    self.dropout1=nn.Dropout(kargs['p_rate'])\n",
        "    self.dropout2=nn.Dropout(kargs['p_rate'])\n",
        "\n",
        "  def forward(self,x,mask):\n",
        "    # x = ( batch_size, max_len, emb_dim )\n",
        "    # mask = ( batch_size, 1, 1, max_len ) or ( batch_size, 1, max_len, max_len )\n",
        "    post_mha=self.mha(x,x,x,mask) # Multi-head Attention  # ( batch_size, max_len, emb_dim )\n",
        "    post_mha=self.dropout1(post_mha)\n",
        "    post_add_norm=self.Norm1(x+post_mha) # Add&Norm  # ( batch_size, max_len, emb_dim )\n",
        "\n",
        "    post_ffn = self.FeedForward(post_add_norm) # ( batch_size, max_len, emb_dim )\n",
        "    post_ffn = self.dropout2(post_ffn)\n",
        "\n",
        "    output = self.Norm2(post_add_norm+post_ffn) # ( batch_size, max_len, emb_dim )\n",
        "    \n",
        "    return output # ( batch_size, max_len, emb_dim )"
      ],
      "metadata": {
        "id": "1sCt7xvdsku0",
        "colab": {
          "base_uri": "https://localhost:8080/",
          "height": 244
        },
        "outputId": "a1d73917-ed2c-4675-cb65-1e6252e3435e"
      },
      "execution_count": 1,
      "outputs": [
        {
          "output_type": "error",
          "ename": "NameError",
          "evalue": "ignored",
          "traceback": [
            "\u001b[0;31m---------------------------------------------------------------------------\u001b[0m",
            "\u001b[0;31mNameError\u001b[0m                                 Traceback (most recent call last)",
            "\u001b[0;32m<ipython-input-1-125b2de4851f>\u001b[0m in \u001b[0;36m<cell line: 1>\u001b[0;34m()\u001b[0m\n\u001b[0;32m----> 1\u001b[0;31m \u001b[0;32mclass\u001b[0m \u001b[0mEncoderLayer\u001b[0m\u001b[0;34m(\u001b[0m\u001b[0mnn\u001b[0m\u001b[0;34m.\u001b[0m\u001b[0mModule\u001b[0m\u001b[0;34m)\u001b[0m\u001b[0;34m:\u001b[0m\u001b[0;34m\u001b[0m\u001b[0;34m\u001b[0m\u001b[0m\n\u001b[0m\u001b[1;32m      2\u001b[0m   \u001b[0;32mdef\u001b[0m \u001b[0m__init__\u001b[0m\u001b[0;34m(\u001b[0m\u001b[0mself\u001b[0m\u001b[0;34m,\u001b[0m\u001b[0;34m**\u001b[0m\u001b[0mkargs\u001b[0m\u001b[0;34m)\u001b[0m\u001b[0;34m:\u001b[0m\u001b[0;34m\u001b[0m\u001b[0;34m\u001b[0m\u001b[0m\n\u001b[1;32m      3\u001b[0m     \u001b[0msuper\u001b[0m\u001b[0;34m(\u001b[0m\u001b[0mEncoderLayer\u001b[0m\u001b[0;34m,\u001b[0m\u001b[0mself\u001b[0m\u001b[0;34m)\u001b[0m\u001b[0;34m.\u001b[0m\u001b[0m__init__\u001b[0m\u001b[0;34m(\u001b[0m\u001b[0;34m)\u001b[0m\u001b[0;34m\u001b[0m\u001b[0;34m\u001b[0m\u001b[0m\n\u001b[1;32m      4\u001b[0m \u001b[0;34m\u001b[0m\u001b[0m\n\u001b[1;32m      5\u001b[0m     \u001b[0mself\u001b[0m\u001b[0;34m.\u001b[0m\u001b[0mmha\u001b[0m\u001b[0;34m=\u001b[0m\u001b[0mMultiheadAttention\u001b[0m\u001b[0;34m(\u001b[0m\u001b[0;34m**\u001b[0m\u001b[0mkargs\u001b[0m\u001b[0;34m)\u001b[0m\u001b[0;34m\u001b[0m\u001b[0;34m\u001b[0m\u001b[0m\n",
            "\u001b[0;31mNameError\u001b[0m: name 'nn' is not defined"
          ]
        }
      ]
    },
    {
      "cell_type": "markdown",
      "source": [
        "### Encoder"
      ],
      "metadata": {
        "id": "S3Qyxh8rJWe1"
      }
    },
    {
      "cell_type": "code",
      "source": [
        "class Encoder(nn.Module):\n",
        "  def __init__(self,**kargs):\n",
        "    super(Encoder,self).__init__()\n",
        "    self.embedding=nn.Embedding(kargs['vocab_size'],kargs['emb_dim'])\n",
        "    self.pe=positional_encoding(kargs['max_len'],kargs['emb_dim']) # PE : ( 1, max_len, d_model )\n",
        "    self.dropout=nn.Dropout(kargs['p_rate'])\n",
        "\n",
        "    self.encoder=[ EncoderLayer(**kargs) for _ in range(kargs['num_layers']) ]\n",
        "\n",
        "  def forward(self,inp,mask):\n",
        "      # inp = ( batch_size, max_len )\n",
        "      # mask = ( batch_size, 1, 1, max_len ) or ( batch_size, 1, max_len, max_len )\n",
        "      post_emb = self.embedding(inp) # ( batch_size, max_len, emb_dim )\n",
        "      post_emb*=math.sqrt(kargs['d_model'])\n",
        "      x+=self.pe # ( batch_size, max_len, emb_dim )\n",
        "\n",
        "      for enc_layer in self.encoder:\n",
        "        x = enc_layer(x,mask)\n",
        "\n",
        "      return x # ( batch_size, max_len, emb_dim )"
      ],
      "metadata": {
        "id": "4quNkMUmsQ4X"
      },
      "execution_count": null,
      "outputs": []
    },
    {
      "cell_type": "markdown",
      "source": [
        "## Decoder"
      ],
      "metadata": {
        "id": "ZBZZA-ymJbvE"
      }
    },
    {
      "cell_type": "code",
      "source": [
        "class DecoderLayer(nn.Module):\n",
        "  def __init__(self,**kargs):\n",
        "    "
      ],
      "metadata": {
        "id": "nky4RGjjMzJl"
      },
      "execution_count": null,
      "outputs": []
    },
    {
      "cell_type": "code",
      "source": [],
      "metadata": {
        "id": "Djd8KXG_P3sI"
      },
      "execution_count": null,
      "outputs": []
    }
  ]
}