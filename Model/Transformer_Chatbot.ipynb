{
  "nbformat": 4,
  "nbformat_minor": 0,
  "metadata": {
    "colab": {
      "provenance": [],
      "mount_file_id": "1Vc3jZml7wS5JTvknhAA6YLaCPkYpVef0",
      "authorship_tag": "ABX9TyNIz2Kcq1LGV6gcYWY4vku4",
      "include_colab_link": true
    },
    "kernelspec": {
      "name": "python3",
      "display_name": "Python 3"
    },
    "language_info": {
      "name": "python"
    }
  },
  "cells": [
    {
      "cell_type": "markdown",
      "metadata": {
        "id": "view-in-github",
        "colab_type": "text"
      },
      "source": [
        "<a href=\"https://colab.research.google.com/github/DonghaeSuh/NLP_Pytorch/blob/main/Model/Transformer_Chatbot.ipynb\" target=\"_parent\"><img src=\"https://colab.research.google.com/assets/colab-badge.svg\" alt=\"Open In Colab\"/></a>"
      ]
    },
    {
      "cell_type": "markdown",
      "source": [
        "# 데이터 마련"
      ],
      "metadata": {
        "id": "obEMtyAfmfoi"
      }
    },
    {
      "cell_type": "code",
      "source": [
        "import pandas as pd"
      ],
      "metadata": {
        "id": "7jIeCkmuXFPr"
      },
      "execution_count": 1,
      "outputs": []
    },
    {
      "cell_type": "code",
      "source": [
        "ls"
      ],
      "metadata": {
        "colab": {
          "base_uri": "https://localhost:8080/"
        },
        "id": "niwCvt_km_5z",
        "outputId": "75f628ae-33be-4893-825b-d4d45ae2922e"
      },
      "execution_count": 2,
      "outputs": [
        {
          "output_type": "stream",
          "name": "stdout",
          "text": [
            "\u001b[0m\u001b[01;34mdrive\u001b[0m/  \u001b[01;34msample_data\u001b[0m/\n"
          ]
        }
      ]
    },
    {
      "cell_type": "code",
      "source": [
        "cd drive/MyDrive/Pytorch\\ NLP/data_in/Chatbot"
      ],
      "metadata": {
        "colab": {
          "base_uri": "https://localhost:8080/"
        },
        "id": "IA-ZkQhknBMa",
        "outputId": "4edc90a9-e7cb-4b29-fe6f-bc8a7f279fd1"
      },
      "execution_count": 3,
      "outputs": [
        {
          "output_type": "stream",
          "name": "stdout",
          "text": [
            "/content/drive/MyDrive/Pytorch NLP/data_in/Chatbot\n"
          ]
        }
      ]
    },
    {
      "cell_type": "code",
      "source": [
        "ls"
      ],
      "metadata": {
        "colab": {
          "base_uri": "https://localhost:8080/"
        },
        "id": "yEXE23tmnCo6",
        "outputId": "5977ffbf-57d8-4579-b9df-40029153b494"
      },
      "execution_count": 4,
      "outputs": [
        {
          "output_type": "stream",
          "name": "stdout",
          "text": [
            "2_Fine_ChatbotData.csv  ChatbotData.csv       \u001b[0m\u001b[01;34mMecab-ko-for-Google-Colab\u001b[0m/\n",
            "\u001b[01;34mbest_weight\u001b[0m/            Fine_ChatbotData.csv  vocab_word.csv\n"
          ]
        }
      ]
    },
    {
      "cell_type": "code",
      "source": [
        "vocab_word=pd.read_csv('vocab_word.csv')\n",
        "train_data=pd.read_csv('2_Fine_ChatbotData.csv')"
      ],
      "metadata": {
        "id": "7Ti-xyO3nGP6"
      },
      "execution_count": 5,
      "outputs": []
    },
    {
      "cell_type": "code",
      "source": [
        "BATCH_SIZE = 2\n",
        "MAX_LEN = 25\n",
        "EPOCHS = 30\n",
        "NUM_LAYERS = 2\n",
        "FEED_WORWARD_DIM=2048"
      ],
      "metadata": {
        "id": "ioEj60fJnRfj"
      },
      "execution_count": 10,
      "outputs": []
    },
    {
      "cell_type": "code",
      "source": [
        "pip install torchtext==0.6"
      ],
      "metadata": {
        "colab": {
          "base_uri": "https://localhost:8080/"
        },
        "id": "NIwio5umoM8o",
        "outputId": "3a8e793c-f9be-4c4c-9ab7-fc711632b9fd"
      },
      "execution_count": 7,
      "outputs": [
        {
          "output_type": "stream",
          "name": "stdout",
          "text": [
            "Looking in indexes: https://pypi.org/simple, https://us-python.pkg.dev/colab-wheels/public/simple/\n",
            "Collecting torchtext==0.6\n",
            "  Downloading torchtext-0.6.0-py3-none-any.whl (64 kB)\n",
            "\u001b[2K     \u001b[90m━━━━━━━━━━━━━━━━━━━━━━━━━━━━━━━━━━━━━━━━\u001b[0m \u001b[32m64.2/64.2 kB\u001b[0m \u001b[31m6.0 MB/s\u001b[0m eta \u001b[36m0:00:00\u001b[0m\n",
            "\u001b[?25hRequirement already satisfied: tqdm in /usr/local/lib/python3.10/dist-packages (from torchtext==0.6) (4.65.0)\n",
            "Requirement already satisfied: requests in /usr/local/lib/python3.10/dist-packages (from torchtext==0.6) (2.27.1)\n",
            "Requirement already satisfied: torch in /usr/local/lib/python3.10/dist-packages (from torchtext==0.6) (2.0.1+cu118)\n",
            "Requirement already satisfied: numpy in /usr/local/lib/python3.10/dist-packages (from torchtext==0.6) (1.22.4)\n",
            "Requirement already satisfied: six in /usr/local/lib/python3.10/dist-packages (from torchtext==0.6) (1.16.0)\n",
            "Collecting sentencepiece (from torchtext==0.6)\n",
            "  Downloading sentencepiece-0.1.99-cp310-cp310-manylinux_2_17_x86_64.manylinux2014_x86_64.whl (1.3 MB)\n",
            "\u001b[2K     \u001b[90m━━━━━━━━━━━━━━━━━━━━━━━━━━━━━━━━━━━━━━━━\u001b[0m \u001b[32m1.3/1.3 MB\u001b[0m \u001b[31m55.6 MB/s\u001b[0m eta \u001b[36m0:00:00\u001b[0m\n",
            "\u001b[?25hRequirement already satisfied: urllib3<1.27,>=1.21.1 in /usr/local/lib/python3.10/dist-packages (from requests->torchtext==0.6) (1.26.15)\n",
            "Requirement already satisfied: certifi>=2017.4.17 in /usr/local/lib/python3.10/dist-packages (from requests->torchtext==0.6) (2022.12.7)\n",
            "Requirement already satisfied: charset-normalizer~=2.0.0 in /usr/local/lib/python3.10/dist-packages (from requests->torchtext==0.6) (2.0.12)\n",
            "Requirement already satisfied: idna<4,>=2.5 in /usr/local/lib/python3.10/dist-packages (from requests->torchtext==0.6) (3.4)\n",
            "Requirement already satisfied: filelock in /usr/local/lib/python3.10/dist-packages (from torch->torchtext==0.6) (3.12.0)\n",
            "Requirement already satisfied: typing-extensions in /usr/local/lib/python3.10/dist-packages (from torch->torchtext==0.6) (4.5.0)\n",
            "Requirement already satisfied: sympy in /usr/local/lib/python3.10/dist-packages (from torch->torchtext==0.6) (1.11.1)\n",
            "Requirement already satisfied: networkx in /usr/local/lib/python3.10/dist-packages (from torch->torchtext==0.6) (3.1)\n",
            "Requirement already satisfied: jinja2 in /usr/local/lib/python3.10/dist-packages (from torch->torchtext==0.6) (3.1.2)\n",
            "Requirement already satisfied: triton==2.0.0 in /usr/local/lib/python3.10/dist-packages (from torch->torchtext==0.6) (2.0.0)\n",
            "Requirement already satisfied: cmake in /usr/local/lib/python3.10/dist-packages (from triton==2.0.0->torch->torchtext==0.6) (3.25.2)\n",
            "Requirement already satisfied: lit in /usr/local/lib/python3.10/dist-packages (from triton==2.0.0->torch->torchtext==0.6) (16.0.5)\n",
            "Requirement already satisfied: MarkupSafe>=2.0 in /usr/local/lib/python3.10/dist-packages (from jinja2->torch->torchtext==0.6) (2.1.2)\n",
            "Requirement already satisfied: mpmath>=0.19 in /usr/local/lib/python3.10/dist-packages (from sympy->torch->torchtext==0.6) (1.3.0)\n",
            "Installing collected packages: sentencepiece, torchtext\n",
            "  Attempting uninstall: torchtext\n",
            "    Found existing installation: torchtext 0.15.2\n",
            "    Uninstalling torchtext-0.15.2:\n",
            "      Successfully uninstalled torchtext-0.15.2\n",
            "Successfully installed sentencepiece-0.1.99 torchtext-0.6.0\n"
          ]
        }
      ]
    },
    {
      "cell_type": "code",
      "source": [
        "from torchtext import data"
      ],
      "metadata": {
        "id": "_Sb6ZxGNoO6P"
      },
      "execution_count": 8,
      "outputs": []
    },
    {
      "cell_type": "code",
      "source": [
        "# vocab 전용\n",
        "V=data.Field(sequential=True,\n",
        "             use_vocab=True,\n",
        "             tokenize=str.split,\n",
        "             init_token='<sos>',\n",
        "             eos_token='<eos>',\n",
        "             fix_length=MAX_LEN)"
      ],
      "metadata": {
        "id": "zVrBU9qnoUbR"
      },
      "execution_count": 11,
      "outputs": []
    },
    {
      "cell_type": "code",
      "source": [
        "Q=data.Field(sequential=True,\n",
        "             use_vocab=True,\n",
        "             tokenize=str.split,\n",
        "             batch_first=True,\n",
        "             fix_length=MAX_LEN)\n",
        "\n",
        "A=data.Field(sequential=True,\n",
        "             use_vocab=True,\n",
        "             init_token='<sos>',\n",
        "             eos_token='<eos>',\n",
        "             tokenize=str.split,\n",
        "             batch_first=True,\n",
        "             fix_length=MAX_LEN)\n",
        "LABEL=data.Field(sequential=True,\n",
        "                 use_vocab=True,\n",
        "                 eos_token='<eos>',\n",
        "                 tokenize=str.split,\n",
        "                 batch_first=True,\n",
        "                 fix_length=MAX_LEN)"
      ],
      "metadata": {
        "id": "-kS_NOZMoZ-C"
      },
      "execution_count": 12,
      "outputs": []
    },
    {
      "cell_type": "code",
      "source": [
        "from torchtext.data import TabularDataset"
      ],
      "metadata": {
        "id": "rx6NPj3KoblJ"
      },
      "execution_count": 13,
      "outputs": []
    },
    {
      "cell_type": "code",
      "source": [
        "train_data=TabularDataset('2_Fine_ChatbotData.csv',format='csv',fields=[('question',Q),('answer',A),('label',LABEL)],skip_header=True)\n",
        "vars(train_data[0])"
      ],
      "metadata": {
        "colab": {
          "base_uri": "https://localhost:8080/"
        },
        "id": "hvy11Aq4oe5x",
        "outputId": "62882402-af6f-4ecd-b56c-e7ea82db6d81"
      },
      "execution_count": 14,
      "outputs": [
        {
          "output_type": "execute_result",
          "data": {
            "text/plain": [
              "{'question': ['12시', '땡'],\n",
              " 'answer': ['하루가', '또', '가네요'],\n",
              " 'label': ['하루가', '또', '가네요']}"
            ]
          },
          "metadata": {},
          "execution_count": 14
        }
      ]
    },
    {
      "cell_type": "code",
      "source": [
        "vocab_data=TabularDataset('vocab_word.csv',format='csv',fields=[('vocab_word',V)],skip_header=True)"
      ],
      "metadata": {
        "id": "mHbljGn_oeWJ"
      },
      "execution_count": 15,
      "outputs": []
    },
    {
      "cell_type": "code",
      "source": [
        "V.build_vocab(vocab_data,min_freq=2)\n",
        "\n",
        "Q.vocab=V.vocab\n",
        "A.vocab=V.vocab\n",
        "LABEL.vocab=V.vocab"
      ],
      "metadata": {
        "id": "DFCBMdmyolxP"
      },
      "execution_count": 16,
      "outputs": []
    },
    {
      "cell_type": "code",
      "source": [
        "import random\n",
        "import torch\n",
        "SEED=123\n",
        "random.seed(SEED)\n",
        "torch.manual_seed(SEED)\n",
        "\n",
        "train_data,val_data=train_data.split(split_ratio=0.9,random_state=random.seed(SEED))"
      ],
      "metadata": {
        "id": "MWAVwXCvopEV"
      },
      "execution_count": 17,
      "outputs": []
    },
    {
      "cell_type": "code",
      "source": [
        "from torchtext.data import Iterator"
      ],
      "metadata": {
        "id": "72QK0boQoqmY"
      },
      "execution_count": 18,
      "outputs": []
    },
    {
      "cell_type": "code",
      "source": [
        "train_iter=Iterator(train_data,batch_size=BATCH_SIZE)\n",
        "val_iter=Iterator(val_data,batch_size=BATCH_SIZE)"
      ],
      "metadata": {
        "id": "IekjCN8Rorz2"
      },
      "execution_count": 19,
      "outputs": []
    },
    {
      "cell_type": "code",
      "source": [
        "batch=next(iter(train_iter))\n",
        "batch.question"
      ],
      "metadata": {
        "colab": {
          "base_uri": "https://localhost:8080/"
        },
        "id": "KSIEl3oCotMB",
        "outputId": "94461970-a65d-4126-f67a-244f10460ce2"
      },
      "execution_count": 20,
      "outputs": [
        {
          "output_type": "execute_result",
          "data": {
            "text/plain": [
              "tensor([[ 742,  202, 1854, 5302,  211,    1,    1,    1,    1,    1,    1,    1,\n",
              "            1,    1,    1,    1,    1,    1,    1,    1,    1,    1,    1,    1,\n",
              "            1],\n",
              "        [  45,    0,    0, 2612,    1,    1,    1,    1,    1,    1,    1,    1,\n",
              "            1,    1,    1,    1,    1,    1,    1,    1,    1,    1,    1,    1,\n",
              "            1]])"
            ]
          },
          "metadata": {},
          "execution_count": 20
        }
      ]
    },
    {
      "cell_type": "code",
      "source": [
        "batch.answer"
      ],
      "metadata": {
        "colab": {
          "base_uri": "https://localhost:8080/"
        },
        "id": "FABPp1jYoupe",
        "outputId": "d9ee9123-2a6c-40e6-9cbd-4e4983379435"
      },
      "execution_count": 21,
      "outputs": [
        {
          "output_type": "execute_result",
          "data": {
            "text/plain": [
              "tensor([[   2, 4448, 4528, 3233,  858,  321, 4934,   89,    3,    1,    1,    1,\n",
              "            1,    1,    1,    1,    1,    1,    1,    1,    1,    1,    1,    1,\n",
              "            1],\n",
              "        [   2,  978, 1768,  539,   89,    3,    1,    1,    1,    1,    1,    1,\n",
              "            1,    1,    1,    1,    1,    1,    1,    1,    1,    1,    1,    1,\n",
              "            1]])"
            ]
          },
          "metadata": {},
          "execution_count": 21
        }
      ]
    },
    {
      "cell_type": "code",
      "source": [
        "batch.label"
      ],
      "metadata": {
        "colab": {
          "base_uri": "https://localhost:8080/"
        },
        "id": "lAjiNjlCoxM5",
        "outputId": "f146aa07-dc30-4dcf-82d1-475574614cfd"
      },
      "execution_count": 22,
      "outputs": [
        {
          "output_type": "execute_result",
          "data": {
            "text/plain": [
              "tensor([[4448, 4528, 3233,  858,  321, 4934,   89,    3,    1,    1,    1,    1,\n",
              "            1,    1,    1,    1,    1,    1,    1,    1,    1,    1,    1,    1,\n",
              "            1],\n",
              "        [ 978, 1768,  539,   89,    3,    1,    1,    1,    1,    1,    1,    1,\n",
              "            1,    1,    1,    1,    1,    1,    1,    1,    1,    1,    1,    1,\n",
              "            1]])"
            ]
          },
          "metadata": {},
          "execution_count": 22
        }
      ]
    },
    {
      "cell_type": "code",
      "source": [
        "train_iter=Iterator(train_data,batch_size=BATCH_SIZE)\n",
        "val_iter=Iterator(val_data,batch_size=BATCH_SIZE)"
      ],
      "metadata": {
        "id": "kwp-7ekIo1hj"
      },
      "execution_count": 23,
      "outputs": []
    },
    {
      "cell_type": "markdown",
      "source": [
        "# 모델 구현"
      ],
      "metadata": {
        "id": "M-zffnATo_TB"
      }
    },
    {
      "cell_type": "code",
      "source": [
        "## hyperparameter\n",
        "BATCH_SIZE=2\n",
        "EPOCH=30\n",
        "MAX_LEN=25\n",
        "kargs={'max_len':MAX_LEN,\n",
        "       'emb_dim':512,\n",
        "       'num_layers':2,\n",
        "       'num_heads':6,\n",
        "       'ffn_dim':2048,\n",
        "       'vocab_size':len(V.vocab)\n",
        "       }\n",
        "\n",
        "device='cuda' if torch.cuda.is_available() else 'cpu'"
      ],
      "metadata": {
        "id": "1KXCz0llpASK"
      },
      "execution_count": 28,
      "outputs": []
    },
    {
      "cell_type": "code",
      "source": [
        "import torch\n",
        "import torch.nn as nn"
      ],
      "metadata": {
        "id": "SIopOeY9sPDf"
      },
      "execution_count": 25,
      "outputs": []
    },
    {
      "cell_type": "code",
      "source": [
        "class EncoderLayer(nn.Module):\n",
        "  def __init__(self,**kargs)"
      ],
      "metadata": {
        "id": "1sCt7xvdsku0"
      },
      "execution_count": null,
      "outputs": []
    },
    {
      "cell_type": "code",
      "source": [
        "class Encoder(nn.Module):\n",
        "  "
      ],
      "metadata": {
        "id": "4quNkMUmsQ4X"
      },
      "execution_count": null,
      "outputs": []
    }
  ]
}