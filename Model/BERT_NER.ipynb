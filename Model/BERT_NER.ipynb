{
  "cells": [
    {
      "cell_type": "markdown",
      "metadata": {
        "id": "view-in-github",
        "colab_type": "text"
      },
      "source": [
        "<a href=\"https://colab.research.google.com/github/DonghaeSuh/NLP_Pytorch/blob/main/Model/BERT_NER.ipynb\" target=\"_parent\"><img src=\"https://colab.research.google.com/assets/colab-badge.svg\" alt=\"Open In Colab\"/></a>"
      ]
    },
    {
      "cell_type": "markdown",
      "source": [
        "# 데이터 불러오기 및 DataFrame -> csv 파일 변환"
      ],
      "metadata": {
        "id": "ZWqIfKzvIJ7-"
      }
    },
    {
      "cell_type": "code",
      "source": [
        "ls"
      ],
      "metadata": {
        "colab": {
          "base_uri": "https://localhost:8080/"
        },
        "id": "Dzvw5nCUGy8h",
        "outputId": "2f9c47c0-03d2-4c68-ce3c-cd885cd03503"
      },
      "execution_count": null,
      "outputs": [
        {
          "output_type": "stream",
          "name": "stdout",
          "text": [
            "\u001b[0m\u001b[01;34mdrive\u001b[0m/  \u001b[01;34msample_data\u001b[0m/\n"
          ]
        }
      ]
    },
    {
      "cell_type": "code",
      "source": [
        "cd drive/MyDrive/Pytorch\\ NLP/BERT/data_in/NER"
      ],
      "metadata": {
        "colab": {
          "base_uri": "https://localhost:8080/"
        },
        "id": "DnuQ4MIZA8po",
        "outputId": "6fb0fb21-4370-474c-9fdf-309a76703e2e"
      },
      "execution_count": null,
      "outputs": [
        {
          "output_type": "stream",
          "name": "stdout",
          "text": [
            "/content/drive/MyDrive/Pytorch NLP/BERT/data_in/NER\n"
          ]
        }
      ]
    },
    {
      "cell_type": "code",
      "execution_count": null,
      "metadata": {
        "id": "9iDLwjK00FAN"
      },
      "outputs": [],
      "source": [
        "import urllib.request"
      ]
    },
    {
      "cell_type": "code",
      "execution_count": null,
      "metadata": {
        "colab": {
          "base_uri": "https://localhost:8080/"
        },
        "id": "Q8nII1wi3TN5",
        "outputId": "cfbd53da-9311-405d-96b4-b8c17b181526"
      },
      "outputs": [
        {
          "output_type": "execute_result",
          "data": {
            "text/plain": [
              "('dataset.txt', <http.client.HTTPMessage at 0x7f1f4014e7d0>)"
            ]
          },
          "metadata": {},
          "execution_count": 20
        }
      ],
      "source": [
        "urllib.request.urlretrieve('https://raw.githubusercontent.com/naver/nlp-challenge/master/missions/ner/data/train/train_data',filename='dataset.txt')"
      ]
    },
    {
      "cell_type": "code",
      "source": [
        "from tqdm import tqdm"
      ],
      "metadata": {
        "id": "gNQtNDOJKBgJ"
      },
      "execution_count": null,
      "outputs": []
    },
    {
      "cell_type": "code",
      "execution_count": null,
      "metadata": {
        "id": "REvxPQ_N36Og",
        "colab": {
          "base_uri": "https://localhost:8080/"
        },
        "outputId": "1930e747-7f24-4fe7-ee9a-3fcf456ef1fd"
      },
      "outputs": [
        {
          "output_type": "stream",
          "name": "stderr",
          "text": [
            "100%|██████████| 1153571/1153571 [00:00<00:00, 1323416.37it/s]\n"
          ]
        }
      ],
      "source": [
        "train_text=[]\n",
        "train_BIO=[]\n",
        "\n",
        "text=[]\n",
        "BIO=[]\n",
        "\n",
        "with open('dataset.txt','r') as data:\n",
        "  for line in tqdm(data.readlines()):\n",
        "    line=line.split('\\t') # [index,text,BIO]\n",
        "    if line[0]=='\\n':\n",
        "      text=' '.join(text)\n",
        "      BIO=' '.join(BIO)\n",
        "      train_text.append(text)\n",
        "      train_BIO.append(BIO)\n",
        "      text=[]\n",
        "      BIO=[]\n",
        "      continue\n",
        "    text.append(line[1])\n",
        "    BIO.append(line[2].strip('\\n'))\n"
      ]
    },
    {
      "cell_type": "code",
      "source": [
        "train_text[1]"
      ],
      "metadata": {
        "id": "lSL4ZZVj8BVB",
        "colab": {
          "base_uri": "https://localhost:8080/",
          "height": 35
        },
        "outputId": "a4ae2255-472f-4e60-a36a-f7a8ca42704e"
      },
      "execution_count": null,
      "outputs": [
        {
          "output_type": "execute_result",
          "data": {
            "text/plain": [
              "'이 음경동맥의 직경이 8 19mm입니다 .'"
            ],
            "application/vnd.google.colaboratory.intrinsic+json": {
              "type": "string"
            }
          },
          "metadata": {},
          "execution_count": 22
        }
      ]
    },
    {
      "cell_type": "code",
      "source": [
        "train_BIO[1]"
      ],
      "metadata": {
        "colab": {
          "base_uri": "https://localhost:8080/",
          "height": 35
        },
        "id": "gNaIJe9y8Onv",
        "outputId": "e5aa7c95-84e7-480d-9622-bab1c74a2806"
      },
      "execution_count": null,
      "outputs": [
        {
          "output_type": "execute_result",
          "data": {
            "text/plain": [
              "'- - - NUM_B NUM_B -'"
            ],
            "application/vnd.google.colaboratory.intrinsic+json": {
              "type": "string"
            }
          },
          "metadata": {},
          "execution_count": 23
        }
      ]
    },
    {
      "cell_type": "code",
      "source": [
        "import pandas as pd"
      ],
      "metadata": {
        "id": "yuau2bAn83vU"
      },
      "execution_count": null,
      "outputs": []
    },
    {
      "cell_type": "code",
      "source": [
        "train_df=pd.DataFrame({'text':train_text,'BIO':train_BIO})\n",
        "train_df"
      ],
      "metadata": {
        "colab": {
          "base_uri": "https://localhost:8080/",
          "height": 424
        },
        "id": "9yA4MT6c9J-z",
        "outputId": "9206628e-c0e9-4099-f560-cace1978e56e"
      },
      "execution_count": null,
      "outputs": [
        {
          "output_type": "execute_result",
          "data": {
            "text/plain": [
              "                                                    text  \\\n",
              "0                    비토리오 양일 만에 영사관 감호 용퇴, 항룡 압력설 의심만 가율   \n",
              "1                                이 음경동맥의 직경이 8 19mm입니다 .   \n",
              "2      9세이브로 구완 30위인 LG 박찬형은 평균자책점이 16.45로 준수한 편이지만 2...   \n",
              "3           7승 25패는 상트페테르부르크가 역대 월드리그에 출진한 분별 최선의 성적이다 .   \n",
              "4                                            ▲ 퍼거슨 씨족의 꾀   \n",
              "...                                                  ...   \n",
              "89995              이륙한 지 3일 뒷면 우주선은 달 근처의 차도에 진입하게 됩니다 .   \n",
              "89996  (이석무 감리비 smlee@mydaily.co.kr)[관련기사]▶ ▶ ▶ ▶ ▶ 기...   \n",
              "89997  그는 레노버가 지난 1월 IBM PC 현대엘리베이터를 승자하며 영입한 김대은 최준우...   \n",
              "89998                               미움도 열심성이고 일도 열심성이고 .   \n",
              "89999                              －（해설） 어째 뭔가 수상쩍은 좌담 ．   \n",
              "\n",
              "                                                     BIO  \n",
              "0                    PER_B DAT_B - ORG_B CVL_B - - - - -  \n",
              "1                                    - - - NUM_B NUM_B -  \n",
              "2      NUM_B - NUM_B ORG_B PER_B - NUM_B - - NUM_B - ...  \n",
              "3                    NUM_B NUM_B LOC_B - EVT_B - - - - -  \n",
              "4                                        - PER_B CVL_B -  \n",
              "...                                                  ...  \n",
              "89995                          - - DAT_B - - - - - - - -  \n",
              "89996  PER_B CVL_B TRM_B - - - - - - - - TRM_B ORG_B ...  \n",
              "89997  - ORG_B DAT_B DAT_I ORG_B ORG_B ORG_I - - PER_...  \n",
              "89998                                          - - - - -  \n",
              "89999                                        - - - - - -  \n",
              "\n",
              "[90000 rows x 2 columns]"
            ],
            "text/html": [
              "\n",
              "  <div id=\"df-e1562b6e-c9ea-424f-91ce-81682ef43f0f\">\n",
              "    <div class=\"colab-df-container\">\n",
              "      <div>\n",
              "<style scoped>\n",
              "    .dataframe tbody tr th:only-of-type {\n",
              "        vertical-align: middle;\n",
              "    }\n",
              "\n",
              "    .dataframe tbody tr th {\n",
              "        vertical-align: top;\n",
              "    }\n",
              "\n",
              "    .dataframe thead th {\n",
              "        text-align: right;\n",
              "    }\n",
              "</style>\n",
              "<table border=\"1\" class=\"dataframe\">\n",
              "  <thead>\n",
              "    <tr style=\"text-align: right;\">\n",
              "      <th></th>\n",
              "      <th>text</th>\n",
              "      <th>BIO</th>\n",
              "    </tr>\n",
              "  </thead>\n",
              "  <tbody>\n",
              "    <tr>\n",
              "      <th>0</th>\n",
              "      <td>비토리오 양일 만에 영사관 감호 용퇴, 항룡 압력설 의심만 가율</td>\n",
              "      <td>PER_B DAT_B - ORG_B CVL_B - - - - -</td>\n",
              "    </tr>\n",
              "    <tr>\n",
              "      <th>1</th>\n",
              "      <td>이 음경동맥의 직경이 8 19mm입니다 .</td>\n",
              "      <td>- - - NUM_B NUM_B -</td>\n",
              "    </tr>\n",
              "    <tr>\n",
              "      <th>2</th>\n",
              "      <td>9세이브로 구완 30위인 LG 박찬형은 평균자책점이 16.45로 준수한 편이지만 2...</td>\n",
              "      <td>NUM_B - NUM_B ORG_B PER_B - NUM_B - - NUM_B - ...</td>\n",
              "    </tr>\n",
              "    <tr>\n",
              "      <th>3</th>\n",
              "      <td>7승 25패는 상트페테르부르크가 역대 월드리그에 출진한 분별 최선의 성적이다 .</td>\n",
              "      <td>NUM_B NUM_B LOC_B - EVT_B - - - - -</td>\n",
              "    </tr>\n",
              "    <tr>\n",
              "      <th>4</th>\n",
              "      <td>▲ 퍼거슨 씨족의 꾀</td>\n",
              "      <td>- PER_B CVL_B -</td>\n",
              "    </tr>\n",
              "    <tr>\n",
              "      <th>...</th>\n",
              "      <td>...</td>\n",
              "      <td>...</td>\n",
              "    </tr>\n",
              "    <tr>\n",
              "      <th>89995</th>\n",
              "      <td>이륙한 지 3일 뒷면 우주선은 달 근처의 차도에 진입하게 됩니다 .</td>\n",
              "      <td>- - DAT_B - - - - - - - -</td>\n",
              "    </tr>\n",
              "    <tr>\n",
              "      <th>89996</th>\n",
              "      <td>(이석무 감리비 smlee@mydaily.co.kr)[관련기사]▶ ▶ ▶ ▶ ▶ 기...</td>\n",
              "      <td>PER_B CVL_B TRM_B - - - - - - - - TRM_B ORG_B ...</td>\n",
              "    </tr>\n",
              "    <tr>\n",
              "      <th>89997</th>\n",
              "      <td>그는 레노버가 지난 1월 IBM PC 현대엘리베이터를 승자하며 영입한 김대은 최준우...</td>\n",
              "      <td>- ORG_B DAT_B DAT_I ORG_B ORG_B ORG_I - - PER_...</td>\n",
              "    </tr>\n",
              "    <tr>\n",
              "      <th>89998</th>\n",
              "      <td>미움도 열심성이고 일도 열심성이고 .</td>\n",
              "      <td>- - - - -</td>\n",
              "    </tr>\n",
              "    <tr>\n",
              "      <th>89999</th>\n",
              "      <td>－（해설） 어째 뭔가 수상쩍은 좌담 ．</td>\n",
              "      <td>- - - - - -</td>\n",
              "    </tr>\n",
              "  </tbody>\n",
              "</table>\n",
              "<p>90000 rows × 2 columns</p>\n",
              "</div>\n",
              "      <button class=\"colab-df-convert\" onclick=\"convertToInteractive('df-e1562b6e-c9ea-424f-91ce-81682ef43f0f')\"\n",
              "              title=\"Convert this dataframe to an interactive table.\"\n",
              "              style=\"display:none;\">\n",
              "        \n",
              "  <svg xmlns=\"http://www.w3.org/2000/svg\" height=\"24px\"viewBox=\"0 0 24 24\"\n",
              "       width=\"24px\">\n",
              "    <path d=\"M0 0h24v24H0V0z\" fill=\"none\"/>\n",
              "    <path d=\"M18.56 5.44l.94 2.06.94-2.06 2.06-.94-2.06-.94-.94-2.06-.94 2.06-2.06.94zm-11 1L8.5 8.5l.94-2.06 2.06-.94-2.06-.94L8.5 2.5l-.94 2.06-2.06.94zm10 10l.94 2.06.94-2.06 2.06-.94-2.06-.94-.94-2.06-.94 2.06-2.06.94z\"/><path d=\"M17.41 7.96l-1.37-1.37c-.4-.4-.92-.59-1.43-.59-.52 0-1.04.2-1.43.59L10.3 9.45l-7.72 7.72c-.78.78-.78 2.05 0 2.83L4 21.41c.39.39.9.59 1.41.59.51 0 1.02-.2 1.41-.59l7.78-7.78 2.81-2.81c.8-.78.8-2.07 0-2.86zM5.41 20L4 18.59l7.72-7.72 1.47 1.35L5.41 20z\"/>\n",
              "  </svg>\n",
              "      </button>\n",
              "      \n",
              "  <style>\n",
              "    .colab-df-container {\n",
              "      display:flex;\n",
              "      flex-wrap:wrap;\n",
              "      gap: 12px;\n",
              "    }\n",
              "\n",
              "    .colab-df-convert {\n",
              "      background-color: #E8F0FE;\n",
              "      border: none;\n",
              "      border-radius: 50%;\n",
              "      cursor: pointer;\n",
              "      display: none;\n",
              "      fill: #1967D2;\n",
              "      height: 32px;\n",
              "      padding: 0 0 0 0;\n",
              "      width: 32px;\n",
              "    }\n",
              "\n",
              "    .colab-df-convert:hover {\n",
              "      background-color: #E2EBFA;\n",
              "      box-shadow: 0px 1px 2px rgba(60, 64, 67, 0.3), 0px 1px 3px 1px rgba(60, 64, 67, 0.15);\n",
              "      fill: #174EA6;\n",
              "    }\n",
              "\n",
              "    [theme=dark] .colab-df-convert {\n",
              "      background-color: #3B4455;\n",
              "      fill: #D2E3FC;\n",
              "    }\n",
              "\n",
              "    [theme=dark] .colab-df-convert:hover {\n",
              "      background-color: #434B5C;\n",
              "      box-shadow: 0px 1px 3px 1px rgba(0, 0, 0, 0.15);\n",
              "      filter: drop-shadow(0px 1px 2px rgba(0, 0, 0, 0.3));\n",
              "      fill: #FFFFFF;\n",
              "    }\n",
              "  </style>\n",
              "\n",
              "      <script>\n",
              "        const buttonEl =\n",
              "          document.querySelector('#df-e1562b6e-c9ea-424f-91ce-81682ef43f0f button.colab-df-convert');\n",
              "        buttonEl.style.display =\n",
              "          google.colab.kernel.accessAllowed ? 'block' : 'none';\n",
              "\n",
              "        async function convertToInteractive(key) {\n",
              "          const element = document.querySelector('#df-e1562b6e-c9ea-424f-91ce-81682ef43f0f');\n",
              "          const dataTable =\n",
              "            await google.colab.kernel.invokeFunction('convertToInteractive',\n",
              "                                                     [key], {});\n",
              "          if (!dataTable) return;\n",
              "\n",
              "          const docLinkHtml = 'Like what you see? Visit the ' +\n",
              "            '<a target=\"_blank\" href=https://colab.research.google.com/notebooks/data_table.ipynb>data table notebook</a>'\n",
              "            + ' to learn more about interactive tables.';\n",
              "          element.innerHTML = '';\n",
              "          dataTable['output_type'] = 'display_data';\n",
              "          await google.colab.output.renderOutput(dataTable, element);\n",
              "          const docLink = document.createElement('div');\n",
              "          docLink.innerHTML = docLinkHtml;\n",
              "          element.appendChild(docLink);\n",
              "        }\n",
              "      </script>\n",
              "    </div>\n",
              "  </div>\n",
              "  "
            ]
          },
          "metadata": {},
          "execution_count": 24
        }
      ]
    },
    {
      "cell_type": "code",
      "source": [
        "train_df['BIO']=train_df['BIO'].str.replace('-','O')\n",
        "train_df"
      ],
      "metadata": {
        "colab": {
          "base_uri": "https://localhost:8080/",
          "height": 424
        },
        "id": "82blLp0b9g7E",
        "outputId": "6972eaa5-4f96-47e8-f095-638f0a891ce0"
      },
      "execution_count": null,
      "outputs": [
        {
          "output_type": "execute_result",
          "data": {
            "text/plain": [
              "                                                    text  \\\n",
              "0                    비토리오 양일 만에 영사관 감호 용퇴, 항룡 압력설 의심만 가율   \n",
              "1                                이 음경동맥의 직경이 8 19mm입니다 .   \n",
              "2      9세이브로 구완 30위인 LG 박찬형은 평균자책점이 16.45로 준수한 편이지만 2...   \n",
              "3           7승 25패는 상트페테르부르크가 역대 월드리그에 출진한 분별 최선의 성적이다 .   \n",
              "4                                            ▲ 퍼거슨 씨족의 꾀   \n",
              "...                                                  ...   \n",
              "89995              이륙한 지 3일 뒷면 우주선은 달 근처의 차도에 진입하게 됩니다 .   \n",
              "89996  (이석무 감리비 smlee@mydaily.co.kr)[관련기사]▶ ▶ ▶ ▶ ▶ 기...   \n",
              "89997  그는 레노버가 지난 1월 IBM PC 현대엘리베이터를 승자하며 영입한 김대은 최준우...   \n",
              "89998                               미움도 열심성이고 일도 열심성이고 .   \n",
              "89999                              －（해설） 어째 뭔가 수상쩍은 좌담 ．   \n",
              "\n",
              "                                                     BIO  \n",
              "0                    PER_B DAT_B O ORG_B CVL_B O O O O O  \n",
              "1                                    O O O NUM_B NUM_B O  \n",
              "2      NUM_B O NUM_B ORG_B PER_B O NUM_B O O NUM_B O ...  \n",
              "3                    NUM_B NUM_B LOC_B O EVT_B O O O O O  \n",
              "4                                        O PER_B CVL_B O  \n",
              "...                                                  ...  \n",
              "89995                          O O DAT_B O O O O O O O O  \n",
              "89996  PER_B CVL_B TRM_B O O O O O O O O TRM_B ORG_B ...  \n",
              "89997  O ORG_B DAT_B DAT_I ORG_B ORG_B ORG_I O O PER_...  \n",
              "89998                                          O O O O O  \n",
              "89999                                        O O O O O O  \n",
              "\n",
              "[90000 rows x 2 columns]"
            ],
            "text/html": [
              "\n",
              "  <div id=\"df-8935dbb1-9403-4150-b1a8-51b45ed9c352\">\n",
              "    <div class=\"colab-df-container\">\n",
              "      <div>\n",
              "<style scoped>\n",
              "    .dataframe tbody tr th:only-of-type {\n",
              "        vertical-align: middle;\n",
              "    }\n",
              "\n",
              "    .dataframe tbody tr th {\n",
              "        vertical-align: top;\n",
              "    }\n",
              "\n",
              "    .dataframe thead th {\n",
              "        text-align: right;\n",
              "    }\n",
              "</style>\n",
              "<table border=\"1\" class=\"dataframe\">\n",
              "  <thead>\n",
              "    <tr style=\"text-align: right;\">\n",
              "      <th></th>\n",
              "      <th>text</th>\n",
              "      <th>BIO</th>\n",
              "    </tr>\n",
              "  </thead>\n",
              "  <tbody>\n",
              "    <tr>\n",
              "      <th>0</th>\n",
              "      <td>비토리오 양일 만에 영사관 감호 용퇴, 항룡 압력설 의심만 가율</td>\n",
              "      <td>PER_B DAT_B O ORG_B CVL_B O O O O O</td>\n",
              "    </tr>\n",
              "    <tr>\n",
              "      <th>1</th>\n",
              "      <td>이 음경동맥의 직경이 8 19mm입니다 .</td>\n",
              "      <td>O O O NUM_B NUM_B O</td>\n",
              "    </tr>\n",
              "    <tr>\n",
              "      <th>2</th>\n",
              "      <td>9세이브로 구완 30위인 LG 박찬형은 평균자책점이 16.45로 준수한 편이지만 2...</td>\n",
              "      <td>NUM_B O NUM_B ORG_B PER_B O NUM_B O O NUM_B O ...</td>\n",
              "    </tr>\n",
              "    <tr>\n",
              "      <th>3</th>\n",
              "      <td>7승 25패는 상트페테르부르크가 역대 월드리그에 출진한 분별 최선의 성적이다 .</td>\n",
              "      <td>NUM_B NUM_B LOC_B O EVT_B O O O O O</td>\n",
              "    </tr>\n",
              "    <tr>\n",
              "      <th>4</th>\n",
              "      <td>▲ 퍼거슨 씨족의 꾀</td>\n",
              "      <td>O PER_B CVL_B O</td>\n",
              "    </tr>\n",
              "    <tr>\n",
              "      <th>...</th>\n",
              "      <td>...</td>\n",
              "      <td>...</td>\n",
              "    </tr>\n",
              "    <tr>\n",
              "      <th>89995</th>\n",
              "      <td>이륙한 지 3일 뒷면 우주선은 달 근처의 차도에 진입하게 됩니다 .</td>\n",
              "      <td>O O DAT_B O O O O O O O O</td>\n",
              "    </tr>\n",
              "    <tr>\n",
              "      <th>89996</th>\n",
              "      <td>(이석무 감리비 smlee@mydaily.co.kr)[관련기사]▶ ▶ ▶ ▶ ▶ 기...</td>\n",
              "      <td>PER_B CVL_B TRM_B O O O O O O O O TRM_B ORG_B ...</td>\n",
              "    </tr>\n",
              "    <tr>\n",
              "      <th>89997</th>\n",
              "      <td>그는 레노버가 지난 1월 IBM PC 현대엘리베이터를 승자하며 영입한 김대은 최준우...</td>\n",
              "      <td>O ORG_B DAT_B DAT_I ORG_B ORG_B ORG_I O O PER_...</td>\n",
              "    </tr>\n",
              "    <tr>\n",
              "      <th>89998</th>\n",
              "      <td>미움도 열심성이고 일도 열심성이고 .</td>\n",
              "      <td>O O O O O</td>\n",
              "    </tr>\n",
              "    <tr>\n",
              "      <th>89999</th>\n",
              "      <td>－（해설） 어째 뭔가 수상쩍은 좌담 ．</td>\n",
              "      <td>O O O O O O</td>\n",
              "    </tr>\n",
              "  </tbody>\n",
              "</table>\n",
              "<p>90000 rows × 2 columns</p>\n",
              "</div>\n",
              "      <button class=\"colab-df-convert\" onclick=\"convertToInteractive('df-8935dbb1-9403-4150-b1a8-51b45ed9c352')\"\n",
              "              title=\"Convert this dataframe to an interactive table.\"\n",
              "              style=\"display:none;\">\n",
              "        \n",
              "  <svg xmlns=\"http://www.w3.org/2000/svg\" height=\"24px\"viewBox=\"0 0 24 24\"\n",
              "       width=\"24px\">\n",
              "    <path d=\"M0 0h24v24H0V0z\" fill=\"none\"/>\n",
              "    <path d=\"M18.56 5.44l.94 2.06.94-2.06 2.06-.94-2.06-.94-.94-2.06-.94 2.06-2.06.94zm-11 1L8.5 8.5l.94-2.06 2.06-.94-2.06-.94L8.5 2.5l-.94 2.06-2.06.94zm10 10l.94 2.06.94-2.06 2.06-.94-2.06-.94-.94-2.06-.94 2.06-2.06.94z\"/><path d=\"M17.41 7.96l-1.37-1.37c-.4-.4-.92-.59-1.43-.59-.52 0-1.04.2-1.43.59L10.3 9.45l-7.72 7.72c-.78.78-.78 2.05 0 2.83L4 21.41c.39.39.9.59 1.41.59.51 0 1.02-.2 1.41-.59l7.78-7.78 2.81-2.81c.8-.78.8-2.07 0-2.86zM5.41 20L4 18.59l7.72-7.72 1.47 1.35L5.41 20z\"/>\n",
              "  </svg>\n",
              "      </button>\n",
              "      \n",
              "  <style>\n",
              "    .colab-df-container {\n",
              "      display:flex;\n",
              "      flex-wrap:wrap;\n",
              "      gap: 12px;\n",
              "    }\n",
              "\n",
              "    .colab-df-convert {\n",
              "      background-color: #E8F0FE;\n",
              "      border: none;\n",
              "      border-radius: 50%;\n",
              "      cursor: pointer;\n",
              "      display: none;\n",
              "      fill: #1967D2;\n",
              "      height: 32px;\n",
              "      padding: 0 0 0 0;\n",
              "      width: 32px;\n",
              "    }\n",
              "\n",
              "    .colab-df-convert:hover {\n",
              "      background-color: #E2EBFA;\n",
              "      box-shadow: 0px 1px 2px rgba(60, 64, 67, 0.3), 0px 1px 3px 1px rgba(60, 64, 67, 0.15);\n",
              "      fill: #174EA6;\n",
              "    }\n",
              "\n",
              "    [theme=dark] .colab-df-convert {\n",
              "      background-color: #3B4455;\n",
              "      fill: #D2E3FC;\n",
              "    }\n",
              "\n",
              "    [theme=dark] .colab-df-convert:hover {\n",
              "      background-color: #434B5C;\n",
              "      box-shadow: 0px 1px 3px 1px rgba(0, 0, 0, 0.15);\n",
              "      filter: drop-shadow(0px 1px 2px rgba(0, 0, 0, 0.3));\n",
              "      fill: #FFFFFF;\n",
              "    }\n",
              "  </style>\n",
              "\n",
              "      <script>\n",
              "        const buttonEl =\n",
              "          document.querySelector('#df-8935dbb1-9403-4150-b1a8-51b45ed9c352 button.colab-df-convert');\n",
              "        buttonEl.style.display =\n",
              "          google.colab.kernel.accessAllowed ? 'block' : 'none';\n",
              "\n",
              "        async function convertToInteractive(key) {\n",
              "          const element = document.querySelector('#df-8935dbb1-9403-4150-b1a8-51b45ed9c352');\n",
              "          const dataTable =\n",
              "            await google.colab.kernel.invokeFunction('convertToInteractive',\n",
              "                                                     [key], {});\n",
              "          if (!dataTable) return;\n",
              "\n",
              "          const docLinkHtml = 'Like what you see? Visit the ' +\n",
              "            '<a target=\"_blank\" href=https://colab.research.google.com/notebooks/data_table.ipynb>data table notebook</a>'\n",
              "            + ' to learn more about interactive tables.';\n",
              "          element.innerHTML = '';\n",
              "          dataTable['output_type'] = 'display_data';\n",
              "          await google.colab.output.renderOutput(dataTable, element);\n",
              "          const docLink = document.createElement('div');\n",
              "          docLink.innerHTML = docLinkHtml;\n",
              "          element.appendChild(docLink);\n",
              "        }\n",
              "      </script>\n",
              "    </div>\n",
              "  </div>\n",
              "  "
            ]
          },
          "metadata": {},
          "execution_count": 25
        }
      ]
    },
    {
      "cell_type": "code",
      "source": [
        "train_df.to_csv('train_df.csv',index=False)\n",
        "pd.read_csv('train_df.csv')"
      ],
      "metadata": {
        "colab": {
          "base_uri": "https://localhost:8080/",
          "height": 424
        },
        "id": "uTj58Hty-BPC",
        "outputId": "48e51708-e1f4-4087-e4b2-57692eb04b4c"
      },
      "execution_count": null,
      "outputs": [
        {
          "output_type": "execute_result",
          "data": {
            "text/plain": [
              "                                                    text  \\\n",
              "0                    비토리오 양일 만에 영사관 감호 용퇴, 항룡 압력설 의심만 가율   \n",
              "1                                이 음경동맥의 직경이 8 19mm입니다 .   \n",
              "2      9세이브로 구완 30위인 LG 박찬형은 평균자책점이 16.45로 준수한 편이지만 2...   \n",
              "3           7승 25패는 상트페테르부르크가 역대 월드리그에 출진한 분별 최선의 성적이다 .   \n",
              "4                                            ▲ 퍼거슨 씨족의 꾀   \n",
              "...                                                  ...   \n",
              "89995              이륙한 지 3일 뒷면 우주선은 달 근처의 차도에 진입하게 됩니다 .   \n",
              "89996  (이석무 감리비 smlee@mydaily.co.kr)[관련기사]▶ ▶ ▶ ▶ ▶ 기...   \n",
              "89997  그는 레노버가 지난 1월 IBM PC 현대엘리베이터를 승자하며 영입한 김대은 최준우...   \n",
              "89998                               미움도 열심성이고 일도 열심성이고 .   \n",
              "89999                              －（해설） 어째 뭔가 수상쩍은 좌담 ．   \n",
              "\n",
              "                                                     BIO  \n",
              "0                    PER_B DAT_B O ORG_B CVL_B O O O O O  \n",
              "1                                    O O O NUM_B NUM_B O  \n",
              "2      NUM_B O NUM_B ORG_B PER_B O NUM_B O O NUM_B O ...  \n",
              "3                    NUM_B NUM_B LOC_B O EVT_B O O O O O  \n",
              "4                                        O PER_B CVL_B O  \n",
              "...                                                  ...  \n",
              "89995                          O O DAT_B O O O O O O O O  \n",
              "89996  PER_B CVL_B TRM_B O O O O O O O O TRM_B ORG_B ...  \n",
              "89997  O ORG_B DAT_B DAT_I ORG_B ORG_B ORG_I O O PER_...  \n",
              "89998                                          O O O O O  \n",
              "89999                                        O O O O O O  \n",
              "\n",
              "[90000 rows x 2 columns]"
            ],
            "text/html": [
              "\n",
              "  <div id=\"df-7d480748-6ddd-4d96-875f-2f82db97f00e\">\n",
              "    <div class=\"colab-df-container\">\n",
              "      <div>\n",
              "<style scoped>\n",
              "    .dataframe tbody tr th:only-of-type {\n",
              "        vertical-align: middle;\n",
              "    }\n",
              "\n",
              "    .dataframe tbody tr th {\n",
              "        vertical-align: top;\n",
              "    }\n",
              "\n",
              "    .dataframe thead th {\n",
              "        text-align: right;\n",
              "    }\n",
              "</style>\n",
              "<table border=\"1\" class=\"dataframe\">\n",
              "  <thead>\n",
              "    <tr style=\"text-align: right;\">\n",
              "      <th></th>\n",
              "      <th>text</th>\n",
              "      <th>BIO</th>\n",
              "    </tr>\n",
              "  </thead>\n",
              "  <tbody>\n",
              "    <tr>\n",
              "      <th>0</th>\n",
              "      <td>비토리오 양일 만에 영사관 감호 용퇴, 항룡 압력설 의심만 가율</td>\n",
              "      <td>PER_B DAT_B O ORG_B CVL_B O O O O O</td>\n",
              "    </tr>\n",
              "    <tr>\n",
              "      <th>1</th>\n",
              "      <td>이 음경동맥의 직경이 8 19mm입니다 .</td>\n",
              "      <td>O O O NUM_B NUM_B O</td>\n",
              "    </tr>\n",
              "    <tr>\n",
              "      <th>2</th>\n",
              "      <td>9세이브로 구완 30위인 LG 박찬형은 평균자책점이 16.45로 준수한 편이지만 2...</td>\n",
              "      <td>NUM_B O NUM_B ORG_B PER_B O NUM_B O O NUM_B O ...</td>\n",
              "    </tr>\n",
              "    <tr>\n",
              "      <th>3</th>\n",
              "      <td>7승 25패는 상트페테르부르크가 역대 월드리그에 출진한 분별 최선의 성적이다 .</td>\n",
              "      <td>NUM_B NUM_B LOC_B O EVT_B O O O O O</td>\n",
              "    </tr>\n",
              "    <tr>\n",
              "      <th>4</th>\n",
              "      <td>▲ 퍼거슨 씨족의 꾀</td>\n",
              "      <td>O PER_B CVL_B O</td>\n",
              "    </tr>\n",
              "    <tr>\n",
              "      <th>...</th>\n",
              "      <td>...</td>\n",
              "      <td>...</td>\n",
              "    </tr>\n",
              "    <tr>\n",
              "      <th>89995</th>\n",
              "      <td>이륙한 지 3일 뒷면 우주선은 달 근처의 차도에 진입하게 됩니다 .</td>\n",
              "      <td>O O DAT_B O O O O O O O O</td>\n",
              "    </tr>\n",
              "    <tr>\n",
              "      <th>89996</th>\n",
              "      <td>(이석무 감리비 smlee@mydaily.co.kr)[관련기사]▶ ▶ ▶ ▶ ▶ 기...</td>\n",
              "      <td>PER_B CVL_B TRM_B O O O O O O O O TRM_B ORG_B ...</td>\n",
              "    </tr>\n",
              "    <tr>\n",
              "      <th>89997</th>\n",
              "      <td>그는 레노버가 지난 1월 IBM PC 현대엘리베이터를 승자하며 영입한 김대은 최준우...</td>\n",
              "      <td>O ORG_B DAT_B DAT_I ORG_B ORG_B ORG_I O O PER_...</td>\n",
              "    </tr>\n",
              "    <tr>\n",
              "      <th>89998</th>\n",
              "      <td>미움도 열심성이고 일도 열심성이고 .</td>\n",
              "      <td>O O O O O</td>\n",
              "    </tr>\n",
              "    <tr>\n",
              "      <th>89999</th>\n",
              "      <td>－（해설） 어째 뭔가 수상쩍은 좌담 ．</td>\n",
              "      <td>O O O O O O</td>\n",
              "    </tr>\n",
              "  </tbody>\n",
              "</table>\n",
              "<p>90000 rows × 2 columns</p>\n",
              "</div>\n",
              "      <button class=\"colab-df-convert\" onclick=\"convertToInteractive('df-7d480748-6ddd-4d96-875f-2f82db97f00e')\"\n",
              "              title=\"Convert this dataframe to an interactive table.\"\n",
              "              style=\"display:none;\">\n",
              "        \n",
              "  <svg xmlns=\"http://www.w3.org/2000/svg\" height=\"24px\"viewBox=\"0 0 24 24\"\n",
              "       width=\"24px\">\n",
              "    <path d=\"M0 0h24v24H0V0z\" fill=\"none\"/>\n",
              "    <path d=\"M18.56 5.44l.94 2.06.94-2.06 2.06-.94-2.06-.94-.94-2.06-.94 2.06-2.06.94zm-11 1L8.5 8.5l.94-2.06 2.06-.94-2.06-.94L8.5 2.5l-.94 2.06-2.06.94zm10 10l.94 2.06.94-2.06 2.06-.94-2.06-.94-.94-2.06-.94 2.06-2.06.94z\"/><path d=\"M17.41 7.96l-1.37-1.37c-.4-.4-.92-.59-1.43-.59-.52 0-1.04.2-1.43.59L10.3 9.45l-7.72 7.72c-.78.78-.78 2.05 0 2.83L4 21.41c.39.39.9.59 1.41.59.51 0 1.02-.2 1.41-.59l7.78-7.78 2.81-2.81c.8-.78.8-2.07 0-2.86zM5.41 20L4 18.59l7.72-7.72 1.47 1.35L5.41 20z\"/>\n",
              "  </svg>\n",
              "      </button>\n",
              "      \n",
              "  <style>\n",
              "    .colab-df-container {\n",
              "      display:flex;\n",
              "      flex-wrap:wrap;\n",
              "      gap: 12px;\n",
              "    }\n",
              "\n",
              "    .colab-df-convert {\n",
              "      background-color: #E8F0FE;\n",
              "      border: none;\n",
              "      border-radius: 50%;\n",
              "      cursor: pointer;\n",
              "      display: none;\n",
              "      fill: #1967D2;\n",
              "      height: 32px;\n",
              "      padding: 0 0 0 0;\n",
              "      width: 32px;\n",
              "    }\n",
              "\n",
              "    .colab-df-convert:hover {\n",
              "      background-color: #E2EBFA;\n",
              "      box-shadow: 0px 1px 2px rgba(60, 64, 67, 0.3), 0px 1px 3px 1px rgba(60, 64, 67, 0.15);\n",
              "      fill: #174EA6;\n",
              "    }\n",
              "\n",
              "    [theme=dark] .colab-df-convert {\n",
              "      background-color: #3B4455;\n",
              "      fill: #D2E3FC;\n",
              "    }\n",
              "\n",
              "    [theme=dark] .colab-df-convert:hover {\n",
              "      background-color: #434B5C;\n",
              "      box-shadow: 0px 1px 3px 1px rgba(0, 0, 0, 0.15);\n",
              "      filter: drop-shadow(0px 1px 2px rgba(0, 0, 0, 0.3));\n",
              "      fill: #FFFFFF;\n",
              "    }\n",
              "  </style>\n",
              "\n",
              "      <script>\n",
              "        const buttonEl =\n",
              "          document.querySelector('#df-7d480748-6ddd-4d96-875f-2f82db97f00e button.colab-df-convert');\n",
              "        buttonEl.style.display =\n",
              "          google.colab.kernel.accessAllowed ? 'block' : 'none';\n",
              "\n",
              "        async function convertToInteractive(key) {\n",
              "          const element = document.querySelector('#df-7d480748-6ddd-4d96-875f-2f82db97f00e');\n",
              "          const dataTable =\n",
              "            await google.colab.kernel.invokeFunction('convertToInteractive',\n",
              "                                                     [key], {});\n",
              "          if (!dataTable) return;\n",
              "\n",
              "          const docLinkHtml = 'Like what you see? Visit the ' +\n",
              "            '<a target=\"_blank\" href=https://colab.research.google.com/notebooks/data_table.ipynb>data table notebook</a>'\n",
              "            + ' to learn more about interactive tables.';\n",
              "          element.innerHTML = '';\n",
              "          dataTable['output_type'] = 'display_data';\n",
              "          await google.colab.output.renderOutput(dataTable, element);\n",
              "          const docLink = document.createElement('div');\n",
              "          docLink.innerHTML = docLinkHtml;\n",
              "          element.appendChild(docLink);\n",
              "        }\n",
              "      </script>\n",
              "    </div>\n",
              "  </div>\n",
              "  "
            ]
          },
          "metadata": {},
          "execution_count": 27
        }
      ]
    },
    {
      "cell_type": "markdown",
      "source": [
        "# LABEL"
      ],
      "metadata": {
        "id": "DBa2HHugGVFF"
      }
    },
    {
      "cell_type": "code",
      "source": [
        "label=[]\n",
        "\n",
        "def find_label(labels):\n",
        "  for i in labels:\n",
        "    if i not in label:\n",
        "      label.append(i)"
      ],
      "metadata": {
        "id": "MTn2_In7Cv30"
      },
      "execution_count": null,
      "outputs": []
    },
    {
      "cell_type": "code",
      "source": [
        "train_df['BIO'].str.split().apply(find_label)"
      ],
      "metadata": {
        "id": "DFDVBLtXBY-q"
      },
      "execution_count": null,
      "outputs": []
    },
    {
      "cell_type": "code",
      "source": [
        "label.sort()\n",
        "label"
      ],
      "metadata": {
        "id": "sFQ07TS_DMrA"
      },
      "execution_count": null,
      "outputs": []
    },
    {
      "cell_type": "code",
      "source": [
        "label=['UNK']+label"
      ],
      "metadata": {
        "id": "oB2-lNNvDVQc"
      },
      "execution_count": null,
      "outputs": []
    },
    {
      "cell_type": "code",
      "source": [
        "print(label)\n",
        "len(label)"
      ],
      "metadata": {
        "colab": {
          "base_uri": "https://localhost:8080/"
        },
        "id": "1pIrh7IHD8Ga",
        "outputId": "4dd07d80-7710-4356-9cd7-a7ee23a257e8"
      },
      "execution_count": null,
      "outputs": [
        {
          "output_type": "stream",
          "name": "stdout",
          "text": [
            "['UNK', 'AFW_B', 'AFW_I', 'ANM_B', 'ANM_I', 'CVL_B', 'CVL_I', 'DAT_B', 'DAT_I', 'EVT_B', 'EVT_I', 'FLD_B', 'FLD_I', 'LOC_B', 'LOC_I', 'MAT_B', 'MAT_I', 'NUM_B', 'NUM_I', 'O', 'ORG_B', 'ORG_I', 'PER_B', 'PER_I', 'PLT_B', 'PLT_I', 'TIM_B', 'TIM_I', 'TRM_B', 'TRM_I']\n"
          ]
        },
        {
          "output_type": "execute_result",
          "data": {
            "text/plain": [
              "30"
            ]
          },
          "metadata": {},
          "execution_count": 69
        }
      ]
    },
    {
      "cell_type": "markdown",
      "source": [
        "# Transformers 라이브러리 불러오기 및 BertTokenizer 불러오기"
      ],
      "metadata": {
        "id": "26E9dnovuKgH"
      }
    },
    {
      "cell_type": "code",
      "source": [
        "# Transformers 설치\n",
        "!pip install transformers"
      ],
      "metadata": {
        "colab": {
          "base_uri": "https://localhost:8080/"
        },
        "id": "wZPHZGhobK-H",
        "outputId": "7c98e154-7a2c-48cf-eb18-3700928df4a0"
      },
      "execution_count": null,
      "outputs": [
        {
          "output_type": "stream",
          "name": "stdout",
          "text": [
            "Collecting transformers\n",
            "  Downloading transformers-4.30.2-py3-none-any.whl (7.2 MB)\n",
            "\u001b[2K     \u001b[90m━━━━━━━━━━━━━━━━━━━━━━━━━━━━━━━━━━━━━━━━\u001b[0m \u001b[32m7.2/7.2 MB\u001b[0m \u001b[31m34.6 MB/s\u001b[0m eta \u001b[36m0:00:00\u001b[0m\n",
            "\u001b[?25hRequirement already satisfied: filelock in /usr/local/lib/python3.10/dist-packages (from transformers) (3.12.2)\n",
            "Collecting huggingface-hub<1.0,>=0.14.1 (from transformers)\n",
            "  Downloading huggingface_hub-0.15.1-py3-none-any.whl (236 kB)\n",
            "\u001b[2K     \u001b[90m━━━━━━━━━━━━━━━━━━━━━━━━━━━━━━━━━━━━━━\u001b[0m \u001b[32m236.8/236.8 kB\u001b[0m \u001b[31m13.1 MB/s\u001b[0m eta \u001b[36m0:00:00\u001b[0m\n",
            "\u001b[?25hRequirement already satisfied: numpy>=1.17 in /usr/local/lib/python3.10/dist-packages (from transformers) (1.22.4)\n",
            "Requirement already satisfied: packaging>=20.0 in /usr/local/lib/python3.10/dist-packages (from transformers) (23.1)\n",
            "Requirement already satisfied: pyyaml>=5.1 in /usr/local/lib/python3.10/dist-packages (from transformers) (6.0)\n",
            "Requirement already satisfied: regex!=2019.12.17 in /usr/local/lib/python3.10/dist-packages (from transformers) (2022.10.31)\n",
            "Requirement already satisfied: requests in /usr/local/lib/python3.10/dist-packages (from transformers) (2.27.1)\n",
            "Collecting tokenizers!=0.11.3,<0.14,>=0.11.1 (from transformers)\n",
            "  Downloading tokenizers-0.13.3-cp310-cp310-manylinux_2_17_x86_64.manylinux2014_x86_64.whl (7.8 MB)\n",
            "\u001b[2K     \u001b[90m━━━━━━━━━━━━━━━━━━━━━━━━━━━━━━━━━━━━━━━━\u001b[0m \u001b[32m7.8/7.8 MB\u001b[0m \u001b[31m58.4 MB/s\u001b[0m eta \u001b[36m0:00:00\u001b[0m\n",
            "\u001b[?25hCollecting safetensors>=0.3.1 (from transformers)\n",
            "  Downloading safetensors-0.3.1-cp310-cp310-manylinux_2_17_x86_64.manylinux2014_x86_64.whl (1.3 MB)\n",
            "\u001b[2K     \u001b[90m━━━━━━━━━━━━━━━━━━━━━━━━━━━━━━━━━━━━━━━━\u001b[0m \u001b[32m1.3/1.3 MB\u001b[0m \u001b[31m37.9 MB/s\u001b[0m eta \u001b[36m0:00:00\u001b[0m\n",
            "\u001b[?25hRequirement already satisfied: tqdm>=4.27 in /usr/local/lib/python3.10/dist-packages (from transformers) (4.65.0)\n",
            "Requirement already satisfied: fsspec in /usr/local/lib/python3.10/dist-packages (from huggingface-hub<1.0,>=0.14.1->transformers) (2023.6.0)\n",
            "Requirement already satisfied: typing-extensions>=3.7.4.3 in /usr/local/lib/python3.10/dist-packages (from huggingface-hub<1.0,>=0.14.1->transformers) (4.6.3)\n",
            "Requirement already satisfied: urllib3<1.27,>=1.21.1 in /usr/local/lib/python3.10/dist-packages (from requests->transformers) (1.26.16)\n",
            "Requirement already satisfied: certifi>=2017.4.17 in /usr/local/lib/python3.10/dist-packages (from requests->transformers) (2023.5.7)\n",
            "Requirement already satisfied: charset-normalizer~=2.0.0 in /usr/local/lib/python3.10/dist-packages (from requests->transformers) (2.0.12)\n",
            "Requirement already satisfied: idna<4,>=2.5 in /usr/local/lib/python3.10/dist-packages (from requests->transformers) (3.4)\n",
            "Installing collected packages: tokenizers, safetensors, huggingface-hub, transformers\n",
            "Successfully installed huggingface-hub-0.15.1 safetensors-0.3.1 tokenizers-0.13.3 transformers-4.30.2\n"
          ]
        }
      ]
    },
    {
      "cell_type": "code",
      "source": [
        "from transformers import *"
      ],
      "metadata": {
        "colab": {
          "base_uri": "https://localhost:8080/"
        },
        "id": "Lvlt_3kObEa_",
        "outputId": "8298d835-d167-45a5-c1d9-491841f96fc8"
      },
      "execution_count": null,
      "outputs": [
        {
          "output_type": "stream",
          "name": "stderr",
          "text": [
            "WARNING:jax._src.xla_bridge:No GPU/TPU found, falling back to CPU. (Set TF_CPP_MIN_LOG_LEVEL=0 and rerun for more info.)\n",
            "/usr/local/lib/python3.10/dist-packages/transformers/generation_utils.py:24: FutureWarning: Importing `GenerationMixin` from `src/transformers/generation_utils.py` is deprecated and will be removed in Transformers v5. Import as `from transformers import GenerationMixin` instead.\n",
            "  warnings.warn(\n",
            "/usr/local/lib/python3.10/dist-packages/transformers/generation_tf_utils.py:24: FutureWarning: Importing `TFGenerationMixin` from `src/transformers/generation_tf_utils.py` is deprecated and will be removed in Transformers v5. Import as `from transformers import TFGenerationMixin` instead.\n",
            "  warnings.warn(\n",
            "/usr/local/lib/python3.10/dist-packages/transformers/generation_flax_utils.py:24: FutureWarning: Importing `FlaxGenerationMixin` from `src/transformers/generation_flax_utils.py` is deprecated and will be removed in Transformers v5. Import as `from transformers import FlaxGenerationMixin` instead.\n",
            "  warnings.warn(\n",
            "Xformers is not installed correctly. If you want to use memory_efficient_attention to accelerate training use the following command to install Xformers\n",
            "pip install xformers.\n"
          ]
        }
      ]
    },
    {
      "cell_type": "code",
      "source": [
        "# Tokenizer\n",
        "tokenizer=BertTokenizer.from_pretrained('bert-base-multilingual-cased')"
      ],
      "metadata": {
        "colab": {
          "base_uri": "https://localhost:8080/",
          "height": 774,
          "referenced_widgets": [
            "6b64624879924ae188362f5e39eff0cc",
            "c253b57b2707403c83ada44b481c7107",
            "13994d99f2c8447bbaa8fb075ce96a15",
            "be402a45bb2649069545311be4988b70",
            "5e7eed06afd547339531aacea2294531",
            "bcbfe00842e0452280e5ad7dab8e8205",
            "eef23eaff8604e22af64778a6f27abae",
            "38bc9ded87164f68895ee1993028508f",
            "c4221cc7288b4951b442b4fda209c4f6",
            "49d2fb8b5e864ccfb43b6cb8f02bb813",
            "9e538165c91344f3ad71affb6a6123ee",
            "99bd7d85d0ae4aad916367b1a7d21d0e",
            "2575c58da0f44f55a0277da6431880af",
            "86713579fd68470c803992cf0b14201c",
            "75a7376dfd6e405bae2bda569cbb6453",
            "f93a847655f14c6fbece14fe711a0b75",
            "fe3f338a3b49401d84fb208041c194ab",
            "b221f18034d440dc8d8bc5a0fdb46a81",
            "704d745984d54c4181242ce08427a6ba",
            "737b0eeb2ff644d1a1acd61774ed6203",
            "e82834873cde4a7690428c95383e3382",
            "d7c99d6b1711456ca40f03402f983104",
            "9ec5e7c596e943cfaffb5cb499c3326c",
            "16d5624b5e684722a654807ee1e72a35",
            "e046a9ff3d454d02a1d7207f445694b2",
            "8497b3fcf29b4f9f8ab859cb97938760",
            "2e69517e504d417f862c456133ae8ea4",
            "465138840df64591abdd78b6a9394b68",
            "adde4a8343334d4bae55c6e206ee6d3f",
            "2f032b1a3a344cf1982b4db23d27693a",
            "67013849c0f447b19d7cbb6b8070b0be",
            "5ecab569614944aaaf178f93fee5f1eb",
            "ea9d9a9afa4140deafdd0623f176e1e3"
          ]
        },
        "id": "OETmJpombX8K",
        "outputId": "efbc8a31-bf8a-4992-ecd5-ceb8659b1e56"
      },
      "execution_count": null,
      "outputs": [
        {
          "output_type": "display_data",
          "data": {
            "text/plain": [
              "Downloading (…)solve/main/vocab.txt:   0%|          | 0.00/996k [00:00<?, ?B/s]"
            ],
            "application/vnd.jupyter.widget-view+json": {
              "version_major": 2,
              "version_minor": 0,
              "model_id": "6b64624879924ae188362f5e39eff0cc"
            }
          },
          "metadata": {}
        },
        {
          "output_type": "display_data",
          "data": {
            "text/plain": [
              "Downloading (…)okenizer_config.json:   0%|          | 0.00/29.0 [00:00<?, ?B/s]"
            ],
            "application/vnd.jupyter.widget-view+json": {
              "version_major": 2,
              "version_minor": 0,
              "model_id": "99bd7d85d0ae4aad916367b1a7d21d0e"
            }
          },
          "metadata": {}
        },
        {
          "output_type": "stream",
          "name": "stderr",
          "text": [
            "loading file vocab.txt from cache at /root/.cache/huggingface/hub/models--bert-base-multilingual-cased/snapshots/fdfce55e83dbed325647a63e7e1f5de19f0382ba/vocab.txt\n",
            "loading file added_tokens.json from cache at None\n",
            "loading file special_tokens_map.json from cache at None\n",
            "loading file tokenizer_config.json from cache at /root/.cache/huggingface/hub/models--bert-base-multilingual-cased/snapshots/fdfce55e83dbed325647a63e7e1f5de19f0382ba/tokenizer_config.json\n"
          ]
        },
        {
          "output_type": "display_data",
          "data": {
            "text/plain": [
              "Downloading (…)lve/main/config.json:   0%|          | 0.00/625 [00:00<?, ?B/s]"
            ],
            "application/vnd.jupyter.widget-view+json": {
              "version_major": 2,
              "version_minor": 0,
              "model_id": "9ec5e7c596e943cfaffb5cb499c3326c"
            }
          },
          "metadata": {}
        },
        {
          "output_type": "stream",
          "name": "stderr",
          "text": [
            "loading configuration file config.json from cache at /root/.cache/huggingface/hub/models--bert-base-multilingual-cased/snapshots/fdfce55e83dbed325647a63e7e1f5de19f0382ba/config.json\n",
            "Model config BertConfig {\n",
            "  \"_name_or_path\": \"bert-base-multilingual-cased\",\n",
            "  \"architectures\": [\n",
            "    \"BertForMaskedLM\"\n",
            "  ],\n",
            "  \"attention_probs_dropout_prob\": 0.1,\n",
            "  \"classifier_dropout\": null,\n",
            "  \"directionality\": \"bidi\",\n",
            "  \"hidden_act\": \"gelu\",\n",
            "  \"hidden_dropout_prob\": 0.1,\n",
            "  \"hidden_size\": 768,\n",
            "  \"initializer_range\": 0.02,\n",
            "  \"intermediate_size\": 3072,\n",
            "  \"layer_norm_eps\": 1e-12,\n",
            "  \"max_position_embeddings\": 512,\n",
            "  \"model_type\": \"bert\",\n",
            "  \"num_attention_heads\": 12,\n",
            "  \"num_hidden_layers\": 12,\n",
            "  \"pad_token_id\": 0,\n",
            "  \"pooler_fc_size\": 768,\n",
            "  \"pooler_num_attention_heads\": 12,\n",
            "  \"pooler_num_fc_layers\": 3,\n",
            "  \"pooler_size_per_head\": 128,\n",
            "  \"pooler_type\": \"first_token_transform\",\n",
            "  \"position_embedding_type\": \"absolute\",\n",
            "  \"transformers_version\": \"4.30.2\",\n",
            "  \"type_vocab_size\": 2,\n",
            "  \"use_cache\": true,\n",
            "  \"vocab_size\": 119547\n",
            "}\n",
            "\n"
          ]
        }
      ]
    },
    {
      "cell_type": "code",
      "source": [
        "cache_dir='.cache/huggingface/hub/models--bert-base-multilingual-cased/snapshots/fdfce55e83dbed325647a63e7e1f5de19f0382ba'"
      ],
      "metadata": {
        "id": "-tnYHmK0cLTT"
      },
      "execution_count": null,
      "outputs": []
    },
    {
      "cell_type": "markdown",
      "source": [
        "# 데이터 분석"
      ],
      "metadata": {
        "id": "0vOg5AA3sDkl"
      }
    },
    {
      "cell_type": "code",
      "source": [
        "import pandas as pd"
      ],
      "metadata": {
        "id": "EIWoAsepvWw_"
      },
      "execution_count": null,
      "outputs": []
    },
    {
      "cell_type": "code",
      "source": [
        "ls"
      ],
      "metadata": {
        "colab": {
          "base_uri": "https://localhost:8080/"
        },
        "id": "WQjJCYZIumkA",
        "outputId": "ce17be05-88bd-400c-a500-b5706fe58771"
      },
      "execution_count": null,
      "outputs": [
        {
          "output_type": "stream",
          "name": "stdout",
          "text": [
            "\u001b[0m\u001b[01;34mdrive\u001b[0m/  \u001b[01;34msample_data\u001b[0m/\n"
          ]
        }
      ]
    },
    {
      "cell_type": "code",
      "source": [
        "cd drive/MyDrive/Pytorch\\ NLP/BERT/data_in/NER"
      ],
      "metadata": {
        "colab": {
          "base_uri": "https://localhost:8080/"
        },
        "id": "8d1prygIu_zp",
        "outputId": "e5d110b5-c658-4ed6-9543-4717fc2ab543"
      },
      "execution_count": null,
      "outputs": [
        {
          "output_type": "stream",
          "name": "stdout",
          "text": [
            "/content/drive/MyDrive/Pytorch NLP/BERT/data_in/NER\n"
          ]
        }
      ]
    },
    {
      "cell_type": "code",
      "source": [
        "train_df=pd.read_csv('train_df.csv')\n",
        "train_df"
      ],
      "metadata": {
        "colab": {
          "base_uri": "https://localhost:8080/",
          "height": 424
        },
        "id": "rsXR7j3kvIcs",
        "outputId": "22e90f79-be6e-4ea0-a4bf-9484b1f32fe6"
      },
      "execution_count": null,
      "outputs": [
        {
          "output_type": "execute_result",
          "data": {
            "text/plain": [
              "                                                    text  \\\n",
              "0                    비토리오 양일 만에 영사관 감호 용퇴, 항룡 압력설 의심만 가율   \n",
              "1                                이 음경동맥의 직경이 8 19mm입니다 .   \n",
              "2      9세이브로 구완 30위인 LG 박찬형은 평균자책점이 16.45로 준수한 편이지만 2...   \n",
              "3           7승 25패는 상트페테르부르크가 역대 월드리그에 출진한 분별 최선의 성적이다 .   \n",
              "4                                            ▲ 퍼거슨 씨족의 꾀   \n",
              "...                                                  ...   \n",
              "89995              이륙한 지 3일 뒷면 우주선은 달 근처의 차도에 진입하게 됩니다 .   \n",
              "89996  (이석무 감리비 smlee@mydaily.co.kr)[관련기사]▶ ▶ ▶ ▶ ▶ 기...   \n",
              "89997  그는 레노버가 지난 1월 IBM PC 현대엘리베이터를 승자하며 영입한 김대은 최준우...   \n",
              "89998                               미움도 열심성이고 일도 열심성이고 .   \n",
              "89999                              －（해설） 어째 뭔가 수상쩍은 좌담 ．   \n",
              "\n",
              "                                                     BIO  \n",
              "0                    PER_B DAT_B O ORG_B CVL_B O O O O O  \n",
              "1                                    O O O NUM_B NUM_B O  \n",
              "2      NUM_B O NUM_B ORG_B PER_B O NUM_B O O NUM_B O ...  \n",
              "3                    NUM_B NUM_B LOC_B O EVT_B O O O O O  \n",
              "4                                        O PER_B CVL_B O  \n",
              "...                                                  ...  \n",
              "89995                          O O DAT_B O O O O O O O O  \n",
              "89996  PER_B CVL_B TRM_B O O O O O O O O TRM_B ORG_B ...  \n",
              "89997  O ORG_B DAT_B DAT_I ORG_B ORG_B ORG_I O O PER_...  \n",
              "89998                                          O O O O O  \n",
              "89999                                        O O O O O O  \n",
              "\n",
              "[90000 rows x 2 columns]"
            ],
            "text/html": [
              "\n",
              "  <div id=\"df-e5b908a4-f418-4780-917d-d7f60344c8a0\">\n",
              "    <div class=\"colab-df-container\">\n",
              "      <div>\n",
              "<style scoped>\n",
              "    .dataframe tbody tr th:only-of-type {\n",
              "        vertical-align: middle;\n",
              "    }\n",
              "\n",
              "    .dataframe tbody tr th {\n",
              "        vertical-align: top;\n",
              "    }\n",
              "\n",
              "    .dataframe thead th {\n",
              "        text-align: right;\n",
              "    }\n",
              "</style>\n",
              "<table border=\"1\" class=\"dataframe\">\n",
              "  <thead>\n",
              "    <tr style=\"text-align: right;\">\n",
              "      <th></th>\n",
              "      <th>text</th>\n",
              "      <th>BIO</th>\n",
              "    </tr>\n",
              "  </thead>\n",
              "  <tbody>\n",
              "    <tr>\n",
              "      <th>0</th>\n",
              "      <td>비토리오 양일 만에 영사관 감호 용퇴, 항룡 압력설 의심만 가율</td>\n",
              "      <td>PER_B DAT_B O ORG_B CVL_B O O O O O</td>\n",
              "    </tr>\n",
              "    <tr>\n",
              "      <th>1</th>\n",
              "      <td>이 음경동맥의 직경이 8 19mm입니다 .</td>\n",
              "      <td>O O O NUM_B NUM_B O</td>\n",
              "    </tr>\n",
              "    <tr>\n",
              "      <th>2</th>\n",
              "      <td>9세이브로 구완 30위인 LG 박찬형은 평균자책점이 16.45로 준수한 편이지만 2...</td>\n",
              "      <td>NUM_B O NUM_B ORG_B PER_B O NUM_B O O NUM_B O ...</td>\n",
              "    </tr>\n",
              "    <tr>\n",
              "      <th>3</th>\n",
              "      <td>7승 25패는 상트페테르부르크가 역대 월드리그에 출진한 분별 최선의 성적이다 .</td>\n",
              "      <td>NUM_B NUM_B LOC_B O EVT_B O O O O O</td>\n",
              "    </tr>\n",
              "    <tr>\n",
              "      <th>4</th>\n",
              "      <td>▲ 퍼거슨 씨족의 꾀</td>\n",
              "      <td>O PER_B CVL_B O</td>\n",
              "    </tr>\n",
              "    <tr>\n",
              "      <th>...</th>\n",
              "      <td>...</td>\n",
              "      <td>...</td>\n",
              "    </tr>\n",
              "    <tr>\n",
              "      <th>89995</th>\n",
              "      <td>이륙한 지 3일 뒷면 우주선은 달 근처의 차도에 진입하게 됩니다 .</td>\n",
              "      <td>O O DAT_B O O O O O O O O</td>\n",
              "    </tr>\n",
              "    <tr>\n",
              "      <th>89996</th>\n",
              "      <td>(이석무 감리비 smlee@mydaily.co.kr)[관련기사]▶ ▶ ▶ ▶ ▶ 기...</td>\n",
              "      <td>PER_B CVL_B TRM_B O O O O O O O O TRM_B ORG_B ...</td>\n",
              "    </tr>\n",
              "    <tr>\n",
              "      <th>89997</th>\n",
              "      <td>그는 레노버가 지난 1월 IBM PC 현대엘리베이터를 승자하며 영입한 김대은 최준우...</td>\n",
              "      <td>O ORG_B DAT_B DAT_I ORG_B ORG_B ORG_I O O PER_...</td>\n",
              "    </tr>\n",
              "    <tr>\n",
              "      <th>89998</th>\n",
              "      <td>미움도 열심성이고 일도 열심성이고 .</td>\n",
              "      <td>O O O O O</td>\n",
              "    </tr>\n",
              "    <tr>\n",
              "      <th>89999</th>\n",
              "      <td>－（해설） 어째 뭔가 수상쩍은 좌담 ．</td>\n",
              "      <td>O O O O O O</td>\n",
              "    </tr>\n",
              "  </tbody>\n",
              "</table>\n",
              "<p>90000 rows × 2 columns</p>\n",
              "</div>\n",
              "      <button class=\"colab-df-convert\" onclick=\"convertToInteractive('df-e5b908a4-f418-4780-917d-d7f60344c8a0')\"\n",
              "              title=\"Convert this dataframe to an interactive table.\"\n",
              "              style=\"display:none;\">\n",
              "        \n",
              "  <svg xmlns=\"http://www.w3.org/2000/svg\" height=\"24px\"viewBox=\"0 0 24 24\"\n",
              "       width=\"24px\">\n",
              "    <path d=\"M0 0h24v24H0V0z\" fill=\"none\"/>\n",
              "    <path d=\"M18.56 5.44l.94 2.06.94-2.06 2.06-.94-2.06-.94-.94-2.06-.94 2.06-2.06.94zm-11 1L8.5 8.5l.94-2.06 2.06-.94-2.06-.94L8.5 2.5l-.94 2.06-2.06.94zm10 10l.94 2.06.94-2.06 2.06-.94-2.06-.94-.94-2.06-.94 2.06-2.06.94z\"/><path d=\"M17.41 7.96l-1.37-1.37c-.4-.4-.92-.59-1.43-.59-.52 0-1.04.2-1.43.59L10.3 9.45l-7.72 7.72c-.78.78-.78 2.05 0 2.83L4 21.41c.39.39.9.59 1.41.59.51 0 1.02-.2 1.41-.59l7.78-7.78 2.81-2.81c.8-.78.8-2.07 0-2.86zM5.41 20L4 18.59l7.72-7.72 1.47 1.35L5.41 20z\"/>\n",
              "  </svg>\n",
              "      </button>\n",
              "      \n",
              "  <style>\n",
              "    .colab-df-container {\n",
              "      display:flex;\n",
              "      flex-wrap:wrap;\n",
              "      gap: 12px;\n",
              "    }\n",
              "\n",
              "    .colab-df-convert {\n",
              "      background-color: #E8F0FE;\n",
              "      border: none;\n",
              "      border-radius: 50%;\n",
              "      cursor: pointer;\n",
              "      display: none;\n",
              "      fill: #1967D2;\n",
              "      height: 32px;\n",
              "      padding: 0 0 0 0;\n",
              "      width: 32px;\n",
              "    }\n",
              "\n",
              "    .colab-df-convert:hover {\n",
              "      background-color: #E2EBFA;\n",
              "      box-shadow: 0px 1px 2px rgba(60, 64, 67, 0.3), 0px 1px 3px 1px rgba(60, 64, 67, 0.15);\n",
              "      fill: #174EA6;\n",
              "    }\n",
              "\n",
              "    [theme=dark] .colab-df-convert {\n",
              "      background-color: #3B4455;\n",
              "      fill: #D2E3FC;\n",
              "    }\n",
              "\n",
              "    [theme=dark] .colab-df-convert:hover {\n",
              "      background-color: #434B5C;\n",
              "      box-shadow: 0px 1px 3px 1px rgba(0, 0, 0, 0.15);\n",
              "      filter: drop-shadow(0px 1px 2px rgba(0, 0, 0, 0.3));\n",
              "      fill: #FFFFFF;\n",
              "    }\n",
              "  </style>\n",
              "\n",
              "      <script>\n",
              "        const buttonEl =\n",
              "          document.querySelector('#df-e5b908a4-f418-4780-917d-d7f60344c8a0 button.colab-df-convert');\n",
              "        buttonEl.style.display =\n",
              "          google.colab.kernel.accessAllowed ? 'block' : 'none';\n",
              "\n",
              "        async function convertToInteractive(key) {\n",
              "          const element = document.querySelector('#df-e5b908a4-f418-4780-917d-d7f60344c8a0');\n",
              "          const dataTable =\n",
              "            await google.colab.kernel.invokeFunction('convertToInteractive',\n",
              "                                                     [key], {});\n",
              "          if (!dataTable) return;\n",
              "\n",
              "          const docLinkHtml = 'Like what you see? Visit the ' +\n",
              "            '<a target=\"_blank\" href=https://colab.research.google.com/notebooks/data_table.ipynb>data table notebook</a>'\n",
              "            + ' to learn more about interactive tables.';\n",
              "          element.innerHTML = '';\n",
              "          dataTable['output_type'] = 'display_data';\n",
              "          await google.colab.output.renderOutput(dataTable, element);\n",
              "          const docLink = document.createElement('div');\n",
              "          docLink.innerHTML = docLinkHtml;\n",
              "          element.appendChild(docLink);\n",
              "        }\n",
              "      </script>\n",
              "    </div>\n",
              "  </div>\n",
              "  "
            ]
          },
          "metadata": {},
          "execution_count": 8
        }
      ]
    },
    {
      "cell_type": "code",
      "source": [
        "train_len=train_df['text'].apply(lambda x : len(tokenizer.tokenize(x)))\n",
        "train_len"
      ],
      "metadata": {
        "colab": {
          "base_uri": "https://localhost:8080/"
        },
        "id": "9PdIgRpcvcNM",
        "outputId": "8423cca2-2789-462c-d50b-a58e6fd4ad1f"
      },
      "execution_count": null,
      "outputs": [
        {
          "output_type": "execute_result",
          "data": {
            "text/plain": [
              "0        26\n",
              "1        15\n",
              "2        44\n",
              "3        31\n",
              "4         8\n",
              "         ..\n",
              "89995    22\n",
              "89996    84\n",
              "89997    37\n",
              "89998    14\n",
              "89999    13\n",
              "Name: text, Length: 90000, dtype: int64"
            ]
          },
          "metadata": {},
          "execution_count": 10
        }
      ]
    },
    {
      "cell_type": "code",
      "source": [
        "import matplotlib.pyplot as plt"
      ],
      "metadata": {
        "id": "lHdzU-J2wM4J"
      },
      "execution_count": null,
      "outputs": []
    },
    {
      "cell_type": "code",
      "source": [
        "plt.figure(figsize=(10,5))\n",
        "\n",
        "plt.hist(train_len,color='r',bins=200,range=[0,200])\n",
        "plt.title('Number of Tokens of tokenized sentence')\n",
        "plt.xlabel('Number of Tokens')\n",
        "plt.ylabel('Number of snetence')\n",
        "plt.show()"
      ],
      "metadata": {
        "colab": {
          "base_uri": "https://localhost:8080/",
          "height": 487
        },
        "id": "2srEN6NywQaC",
        "outputId": "d97bf435-dc2f-409c-ec0c-485271ec6719"
      },
      "execution_count": null,
      "outputs": [
        {
          "output_type": "display_data",
          "data": {
            "text/plain": [
              "<Figure size 1000x500 with 1 Axes>"
            ],
            "image/png": "[encoded data removed]"
          },
          "metadata": {}
        }
      ]
    },
    {
      "cell_type": "code",
      "source": [
        "plt.boxplot(train_len,labels=['tokens'],showmeans=True)\n",
        "plt.show()"
      ],
      "metadata": {
        "colab": {
          "base_uri": "https://localhost:8080/",
          "height": 430
        },
        "id": "wQmoOHX9xBH8",
        "outputId": "c75425ff-cd33-4482-aa7a-b57f09fc7916"
      },
      "execution_count": null,
      "outputs": [
        {
          "output_type": "display_data",
          "data": {
            "text/plain": [
              "<Figure size 640x480 with 1 Axes>"
            ],
            "image/png": "[encoded data removed]"
          },
          "metadata": {}
        }
      ]
    },
    {
      "cell_type": "code",
      "source": [
        "import numpy as np"
      ],
      "metadata": {
        "id": "0wV-qPmcxNDs"
      },
      "execution_count": null,
      "outputs": []
    },
    {
      "cell_type": "code",
      "source": [
        "print('토큰 최대 개수 : {}'.format(np.max(train_len)))\n",
        "print('토큰 최소 개수 : {}'.format(np.min(train_len)))\n",
        "print('토큰 개수 평균 : {:.2f}'.format(np.mean(train_len)))\n",
        "print('토큰 개수 중간값 : {:.2f}'.format(np.median(train_len)))\n",
        "print('토큰 개수 1사분위 : {}'.format(np.percentile(train_len,25)))\n",
        "print('토큰 개수 3사분위 : {}'.format(np.percentile(train_len,75)))\n",
        "print('토큰 개수 상위 99퍼 : {}'.format(np.percentile(train_len,99))) # 품질 향상으 위해 최대한 많은 token을 받자. => MAX_LEN으로 설정 : 111"
      ],
      "metadata": {
        "colab": {
          "base_uri": "https://localhost:8080/"
        },
        "id": "qqQiaFRWxPZD",
        "outputId": "2e8acd33-c0c6-4077-92e2-cf9d693a2809"
      },
      "execution_count": null,
      "outputs": [
        {
          "output_type": "stream",
          "name": "stdout",
          "text": [
            "토큰 최대 개수 : 850\n",
            "토큰 최소 개수 : 1\n",
            "토큰 개수 평균 : 33.62\n",
            "토큰 개수 중간값 : 28.00\n",
            "토큰 개수 1사분위 : 19.0\n",
            "토큰 개수 3사분위 : 41.0\n",
            "토큰 개수 상위 99퍼 : 111.0\n"
          ]
        }
      ]
    },
    {
      "cell_type": "markdown",
      "source": [
        "# 전처리"
      ],
      "metadata": {
        "id": "jo4bCrkESCoZ"
      }
    },
    {
      "cell_type": "markdown",
      "source": [
        "[ 절차 ]\n",
        "- NER taks는 단순히 최대 길이에 따른 padding만으로는 부족\n",
        "- 데이터셋을 보니 공백 기준으로 해당 token이 어던 BIO에 속하는지에 대한 정보가 label로 존재한다\n",
        "- 하지만, 각 token을 BertTokenizer(WordPiece)로 분해하기 때문에 공백기준으로 분리된 token이 추가적으로 더 쪼개질 수 있다.\n",
        "- 그럴 경우, 만약, BIO의 B인 객체가 쪼개질 경우 -> 맨 앞만 B로 설정하고, 그 뒤는 I로 부여한다.\n",
        "- I나, O인 객체가 쪼개질 경우는 그대로 I와 O를 쪼개진 token들에 부여한다.\n",
        "- 이렇게 부여하고 난 이후, text는 Tokneizer Enocding을 거치면 [CLS],[SEP] Token이 붇게 되는데 이에 해당하는 자리를 만들어 준 다음\n",
        "- MAX_LEN에 따른 패딩 처리 또는 Truncation을 진행한다. ( [CLS],[SEP]의 자리에 대한 label은 PAD와 동일한 label(=0)으로 처리한다"
      ],
      "metadata": {
        "id": "h_5n5-rArK2O"
      }
    },
    {
      "cell_type": "markdown",
      "source": [
        "[ Huggingface Tokenizer Vocabulary의 특성 ]\n",
        "- Huggingface Tokenizer의 Vocabulary는 0번이 [PAD]를 뜻하며,\n",
        "그 뒤를 이어서 1번부터 1000번까지 [unused #1]~[unused #1000]가 존재한다.\n",
        "- 이는 Special token을 위한 자리이며, 우리는 단순히 PAD와 동일한 역할을 하는 Token인 'UNK' Token를 0번째에 박아놓고\n",
        "- 그 뒤에 1000개보다 적은 개수의 special token을 리스트로 마련한 다음에\n",
        "- 해당 리스트의 index를 각 token의 index로 사용한다"
      ],
      "metadata": {
        "id": "aWcBmRz7zoFE"
      }
    },
    {
      "cell_type": "code",
      "source": [
        "import pandas as pd"
      ],
      "metadata": {
        "id": "gyUM1vj2bFuu"
      },
      "execution_count": null,
      "outputs": []
    },
    {
      "cell_type": "code",
      "source": [
        "cd drive/MyDrive/Pytorch\\ NLP/BERT"
      ],
      "metadata": {
        "id": "O8pppP9MXJ3v",
        "colab": {
          "base_uri": "https://localhost:8080/"
        },
        "outputId": "3a8de8fe-64f3-4fa0-f939-184d3171681a"
      },
      "execution_count": null,
      "outputs": [
        {
          "output_type": "stream",
          "name": "stdout",
          "text": [
            "/content/drive/MyDrive/Pytorch NLP/BERT\n"
          ]
        }
      ]
    },
    {
      "cell_type": "code",
      "source": [
        "train_df=pd.read_csv('data_in/NER/train_df.csv')\n",
        "train_df"
      ],
      "metadata": {
        "colab": {
          "base_uri": "https://localhost:8080/",
          "height": 424
        },
        "id": "0UXVc5Wxa8KW",
        "outputId": "35e54cf6-2aa1-4c25-a424-a26e694133ad"
      },
      "execution_count": null,
      "outputs": [
        {
          "output_type": "execute_result",
          "data": {
            "text/plain": [
              "                                                    text  \\\n",
              "0                    비토리오 양일 만에 영사관 감호 용퇴, 항룡 압력설 의심만 가율   \n",
              "1                                이 음경동맥의 직경이 8 19mm입니다 .   \n",
              "2      9세이브로 구완 30위인 LG 박찬형은 평균자책점이 16.45로 준수한 편이지만 2...   \n",
              "3           7승 25패는 상트페테르부르크가 역대 월드리그에 출진한 분별 최선의 성적이다 .   \n",
              "4                                            ▲ 퍼거슨 씨족의 꾀   \n",
              "...                                                  ...   \n",
              "89995              이륙한 지 3일 뒷면 우주선은 달 근처의 차도에 진입하게 됩니다 .   \n",
              "89996  (이석무 감리비 smlee@mydaily.co.kr)[관련기사]▶ ▶ ▶ ▶ ▶ 기...   \n",
              "89997  그는 레노버가 지난 1월 IBM PC 현대엘리베이터를 승자하며 영입한 김대은 최준우...   \n",
              "89998                               미움도 열심성이고 일도 열심성이고 .   \n",
              "89999                              －（해설） 어째 뭔가 수상쩍은 좌담 ．   \n",
              "\n",
              "                                                     BIO  \n",
              "0                    PER_B DAT_B O ORG_B CVL_B O O O O O  \n",
              "1                                    O O O NUM_B NUM_B O  \n",
              "2      NUM_B O NUM_B ORG_B PER_B O NUM_B O O NUM_B O ...  \n",
              "3                    NUM_B NUM_B LOC_B O EVT_B O O O O O  \n",
              "4                                        O PER_B CVL_B O  \n",
              "...                                                  ...  \n",
              "89995                          O O DAT_B O O O O O O O O  \n",
              "89996  PER_B CVL_B TRM_B O O O O O O O O TRM_B ORG_B ...  \n",
              "89997  O ORG_B DAT_B DAT_I ORG_B ORG_B ORG_I O O PER_...  \n",
              "89998                                          O O O O O  \n",
              "89999                                        O O O O O O  \n",
              "\n",
              "[90000 rows x 2 columns]"
            ],
            "text/html": [
              "\n",
              "  <div id=\"df-83cd6734-7d05-4f3f-a1a9-7fbe0429d673\">\n",
              "    <div class=\"colab-df-container\">\n",
              "      <div>\n",
              "<style scoped>\n",
              "    .dataframe tbody tr th:only-of-type {\n",
              "        vertical-align: middle;\n",
              "    }\n",
              "\n",
              "    .dataframe tbody tr th {\n",
              "        vertical-align: top;\n",
              "    }\n",
              "\n",
              "    .dataframe thead th {\n",
              "        text-align: right;\n",
              "    }\n",
              "</style>\n",
              "<table border=\"1\" class=\"dataframe\">\n",
              "  <thead>\n",
              "    <tr style=\"text-align: right;\">\n",
              "      <th></th>\n",
              "      <th>text</th>\n",
              "      <th>BIO</th>\n",
              "    </tr>\n",
              "  </thead>\n",
              "  <tbody>\n",
              "    <tr>\n",
              "      <th>0</th>\n",
              "      <td>비토리오 양일 만에 영사관 감호 용퇴, 항룡 압력설 의심만 가율</td>\n",
              "      <td>PER_B DAT_B O ORG_B CVL_B O O O O O</td>\n",
              "    </tr>\n",
              "    <tr>\n",
              "      <th>1</th>\n",
              "      <td>이 음경동맥의 직경이 8 19mm입니다 .</td>\n",
              "      <td>O O O NUM_B NUM_B O</td>\n",
              "    </tr>\n",
              "    <tr>\n",
              "      <th>2</th>\n",
              "      <td>9세이브로 구완 30위인 LG 박찬형은 평균자책점이 16.45로 준수한 편이지만 2...</td>\n",
              "      <td>NUM_B O NUM_B ORG_B PER_B O NUM_B O O NUM_B O ...</td>\n",
              "    </tr>\n",
              "    <tr>\n",
              "      <th>3</th>\n",
              "      <td>7승 25패는 상트페테르부르크가 역대 월드리그에 출진한 분별 최선의 성적이다 .</td>\n",
              "      <td>NUM_B NUM_B LOC_B O EVT_B O O O O O</td>\n",
              "    </tr>\n",
              "    <tr>\n",
              "      <th>4</th>\n",
              "      <td>▲ 퍼거슨 씨족의 꾀</td>\n",
              "      <td>O PER_B CVL_B O</td>\n",
              "    </tr>\n",
              "    <tr>\n",
              "      <th>...</th>\n",
              "      <td>...</td>\n",
              "      <td>...</td>\n",
              "    </tr>\n",
              "    <tr>\n",
              "      <th>89995</th>\n",
              "      <td>이륙한 지 3일 뒷면 우주선은 달 근처의 차도에 진입하게 됩니다 .</td>\n",
              "      <td>O O DAT_B O O O O O O O O</td>\n",
              "    </tr>\n",
              "    <tr>\n",
              "      <th>89996</th>\n",
              "      <td>(이석무 감리비 smlee@mydaily.co.kr)[관련기사]▶ ▶ ▶ ▶ ▶ 기...</td>\n",
              "      <td>PER_B CVL_B TRM_B O O O O O O O O TRM_B ORG_B ...</td>\n",
              "    </tr>\n",
              "    <tr>\n",
              "      <th>89997</th>\n",
              "      <td>그는 레노버가 지난 1월 IBM PC 현대엘리베이터를 승자하며 영입한 김대은 최준우...</td>\n",
              "      <td>O ORG_B DAT_B DAT_I ORG_B ORG_B ORG_I O O PER_...</td>\n",
              "    </tr>\n",
              "    <tr>\n",
              "      <th>89998</th>\n",
              "      <td>미움도 열심성이고 일도 열심성이고 .</td>\n",
              "      <td>O O O O O</td>\n",
              "    </tr>\n",
              "    <tr>\n",
              "      <th>89999</th>\n",
              "      <td>－（해설） 어째 뭔가 수상쩍은 좌담 ．</td>\n",
              "      <td>O O O O O O</td>\n",
              "    </tr>\n",
              "  </tbody>\n",
              "</table>\n",
              "<p>90000 rows × 2 columns</p>\n",
              "</div>\n",
              "      <button class=\"colab-df-convert\" onclick=\"convertToInteractive('df-83cd6734-7d05-4f3f-a1a9-7fbe0429d673')\"\n",
              "              title=\"Convert this dataframe to an interactive table.\"\n",
              "              style=\"display:none;\">\n",
              "        \n",
              "  <svg xmlns=\"http://www.w3.org/2000/svg\" height=\"24px\"viewBox=\"0 0 24 24\"\n",
              "       width=\"24px\">\n",
              "    <path d=\"M0 0h24v24H0V0z\" fill=\"none\"/>\n",
              "    <path d=\"M18.56 5.44l.94 2.06.94-2.06 2.06-.94-2.06-.94-.94-2.06-.94 2.06-2.06.94zm-11 1L8.5 8.5l.94-2.06 2.06-.94-2.06-.94L8.5 2.5l-.94 2.06-2.06.94zm10 10l.94 2.06.94-2.06 2.06-.94-2.06-.94-.94-2.06-.94 2.06-2.06.94z\"/><path d=\"M17.41 7.96l-1.37-1.37c-.4-.4-.92-.59-1.43-.59-.52 0-1.04.2-1.43.59L10.3 9.45l-7.72 7.72c-.78.78-.78 2.05 0 2.83L4 21.41c.39.39.9.59 1.41.59.51 0 1.02-.2 1.41-.59l7.78-7.78 2.81-2.81c.8-.78.8-2.07 0-2.86zM5.41 20L4 18.59l7.72-7.72 1.47 1.35L5.41 20z\"/>\n",
              "  </svg>\n",
              "      </button>\n",
              "      \n",
              "  <style>\n",
              "    .colab-df-container {\n",
              "      display:flex;\n",
              "      flex-wrap:wrap;\n",
              "      gap: 12px;\n",
              "    }\n",
              "\n",
              "    .colab-df-convert {\n",
              "      background-color: #E8F0FE;\n",
              "      border: none;\n",
              "      border-radius: 50%;\n",
              "      cursor: pointer;\n",
              "      display: none;\n",
              "      fill: #1967D2;\n",
              "      height: 32px;\n",
              "      padding: 0 0 0 0;\n",
              "      width: 32px;\n",
              "    }\n",
              "\n",
              "    .colab-df-convert:hover {\n",
              "      background-color: #E2EBFA;\n",
              "      box-shadow: 0px 1px 2px rgba(60, 64, 67, 0.3), 0px 1px 3px 1px rgba(60, 64, 67, 0.15);\n",
              "      fill: #174EA6;\n",
              "    }\n",
              "\n",
              "    [theme=dark] .colab-df-convert {\n",
              "      background-color: #3B4455;\n",
              "      fill: #D2E3FC;\n",
              "    }\n",
              "\n",
              "    [theme=dark] .colab-df-convert:hover {\n",
              "      background-color: #434B5C;\n",
              "      box-shadow: 0px 1px 3px 1px rgba(0, 0, 0, 0.15);\n",
              "      filter: drop-shadow(0px 1px 2px rgba(0, 0, 0, 0.3));\n",
              "      fill: #FFFFFF;\n",
              "    }\n",
              "  </style>\n",
              "\n",
              "      <script>\n",
              "        const buttonEl =\n",
              "          document.querySelector('#df-83cd6734-7d05-4f3f-a1a9-7fbe0429d673 button.colab-df-convert');\n",
              "        buttonEl.style.display =\n",
              "          google.colab.kernel.accessAllowed ? 'block' : 'none';\n",
              "\n",
              "        async function convertToInteractive(key) {\n",
              "          const element = document.querySelector('#df-83cd6734-7d05-4f3f-a1a9-7fbe0429d673');\n",
              "          const dataTable =\n",
              "            await google.colab.kernel.invokeFunction('convertToInteractive',\n",
              "                                                     [key], {});\n",
              "          if (!dataTable) return;\n",
              "\n",
              "          const docLinkHtml = 'Like what you see? Visit the ' +\n",
              "            '<a target=\"_blank\" href=https://colab.research.google.com/notebooks/data_table.ipynb>data table notebook</a>'\n",
              "            + ' to learn more about interactive tables.';\n",
              "          element.innerHTML = '';\n",
              "          dataTable['output_type'] = 'display_data';\n",
              "          await google.colab.output.renderOutput(dataTable, element);\n",
              "          const docLink = document.createElement('div');\n",
              "          docLink.innerHTML = docLinkHtml;\n",
              "          element.appendChild(docLink);\n",
              "        }\n",
              "      </script>\n",
              "    </div>\n",
              "  </div>\n",
              "  "
            ]
          },
          "metadata": {},
          "execution_count": 28
        }
      ]
    },
    {
      "cell_type": "markdown",
      "source": [
        "## LABEL vocabulary"
      ],
      "metadata": {
        "id": "V2f0g0n22bs9"
      }
    },
    {
      "cell_type": "code",
      "source": [
        "label=[]\n",
        "\n",
        "def find_label(labels):\n",
        "  for i in labels:\n",
        "    if i not in label:\n",
        "      label.append(i)\n",
        "\n",
        "train_df['BIO'].str.split().apply(find_label)\n",
        "label.sort()\n",
        "label=['UNK']+label\n",
        "print(label)\n",
        "len(label)"
      ],
      "metadata": {
        "colab": {
          "base_uri": "https://localhost:8080/"
        },
        "id": "z52GeG3Ibtxr",
        "outputId": "1ac5eec2-8151-4726-b110-5e5acec2c8a8"
      },
      "execution_count": null,
      "outputs": [
        {
          "output_type": "stream",
          "name": "stdout",
          "text": [
            "['UNK', 'AFW_B', 'AFW_I', 'ANM_B', 'ANM_I', 'CVL_B', 'CVL_I', 'DAT_B', 'DAT_I', 'EVT_B', 'EVT_I', 'FLD_B', 'FLD_I', 'LOC_B', 'LOC_I', 'MAT_B', 'MAT_I', 'NUM_B', 'NUM_I', 'O', 'ORG_B', 'ORG_I', 'PER_B', 'PER_I', 'PLT_B', 'PLT_I', 'TIM_B', 'TIM_I', 'TRM_B', 'TRM_I']\n"
          ]
        },
        {
          "output_type": "execute_result",
          "data": {
            "text/plain": [
              "30"
            ]
          },
          "metadata": {},
          "execution_count": 24
        }
      ]
    },
    {
      "cell_type": "code",
      "source": [
        "label_vocab_itos={token : index for token,index in enumerate(label)}\n",
        "label_vocab_itos"
      ],
      "metadata": {
        "id": "oA2lsWMxd5aQ",
        "colab": {
          "base_uri": "https://localhost:8080/"
        },
        "outputId": "b4a0928b-1483-4644-fcef-e1e94fdb34ff"
      },
      "execution_count": null,
      "outputs": [
        {
          "output_type": "execute_result",
          "data": {
            "text/plain": [
              "{0: 'UNK',\n",
              " 1: 'AFW_B',\n",
              " 2: 'AFW_I',\n",
              " 3: 'ANM_B',\n",
              " 4: 'ANM_I',\n",
              " 5: 'CVL_B',\n",
              " 6: 'CVL_I',\n",
              " 7: 'DAT_B',\n",
              " 8: 'DAT_I',\n",
              " 9: 'EVT_B',\n",
              " 10: 'EVT_I',\n",
              " 11: 'FLD_B',\n",
              " 12: 'FLD_I',\n",
              " 13: 'LOC_B',\n",
              " 14: 'LOC_I',\n",
              " 15: 'MAT_B',\n",
              " 16: 'MAT_I',\n",
              " 17: 'NUM_B',\n",
              " 18: 'NUM_I',\n",
              " 19: 'O',\n",
              " 20: 'ORG_B',\n",
              " 21: 'ORG_I',\n",
              " 22: 'PER_B',\n",
              " 23: 'PER_I',\n",
              " 24: 'PLT_B',\n",
              " 25: 'PLT_I',\n",
              " 26: 'TIM_B',\n",
              " 27: 'TIM_I',\n",
              " 28: 'TRM_B',\n",
              " 29: 'TRM_I'}"
            ]
          },
          "metadata": {},
          "execution_count": 28
        }
      ]
    },
    {
      "cell_type": "code",
      "source": [
        "label_vocab_stoi={index : token for token,index in enumerate(label)}\n",
        "label_vocab_stoi"
      ],
      "metadata": {
        "colab": {
          "base_uri": "https://localhost:8080/"
        },
        "id": "4rmBXReI16vs",
        "outputId": "f406b613-0328-4444-c788-eab4485caea0"
      },
      "execution_count": null,
      "outputs": [
        {
          "output_type": "execute_result",
          "data": {
            "text/plain": [
              "{'UNK': 0,\n",
              " 'AFW_B': 1,\n",
              " 'AFW_I': 2,\n",
              " 'ANM_B': 3,\n",
              " 'ANM_I': 4,\n",
              " 'CVL_B': 5,\n",
              " 'CVL_I': 6,\n",
              " 'DAT_B': 7,\n",
              " 'DAT_I': 8,\n",
              " 'EVT_B': 9,\n",
              " 'EVT_I': 10,\n",
              " 'FLD_B': 11,\n",
              " 'FLD_I': 12,\n",
              " 'LOC_B': 13,\n",
              " 'LOC_I': 14,\n",
              " 'MAT_B': 15,\n",
              " 'MAT_I': 16,\n",
              " 'NUM_B': 17,\n",
              " 'NUM_I': 18,\n",
              " 'O': 19,\n",
              " 'ORG_B': 20,\n",
              " 'ORG_I': 21,\n",
              " 'PER_B': 22,\n",
              " 'PER_I': 23,\n",
              " 'PLT_B': 24,\n",
              " 'PLT_I': 25,\n",
              " 'TIM_B': 26,\n",
              " 'TIM_I': 27,\n",
              " 'TRM_B': 28,\n",
              " 'TRM_I': 29}"
            ]
          },
          "metadata": {},
          "execution_count": 29
        }
      ]
    },
    {
      "cell_type": "markdown",
      "source": [
        "def"
      ],
      "metadata": {
        "id": "P0HZvjeX2vGu"
      }
    }
  ],
  "metadata": {
    "accelerator": "GPU",
    "colab": {
      "provenance": [],
      "mount_file_id": "1jRQj5NfwSMM4rpb4A_hrrow98WK0xWAC",
      "authorship_tag": "ABX9TyPbAK3gpzt/tr72Vs+kZBUQ",
      "include_colab_link": true
    },
    "kernelspec": {
      "display_name": "Python 3",
      "name": "python3"
    },
    "language_info": {
      "name": "python"
    },
    "widgets": {
      "application/vnd.jupyter.widget-state+json": {
        "6b64624879924ae188362f5e39eff0cc": {
          "model_module": "@jupyter-widgets/controls",
          "model_name": "HBoxModel",
          "model_module_version": "1.5.0",
          "state": {
            "_dom_classes": [],
            "_model_module": "@jupyter-widgets/controls",
            "_model_module_version": "1.5.0",
            "_model_name": "HBoxModel",
            "_view_count": null,
            "_view_module": "@jupyter-widgets/controls",
            "_view_module_version": "1.5.0",
            "_view_name": "HBoxView",
            "box_style": "",
            "children": [
              "IPY_MODEL_c253b57b2707403c83ada44b481c7107",
              "IPY_MODEL_13994d99f2c8447bbaa8fb075ce96a15",
              "IPY_MODEL_be402a45bb2649069545311be4988b70"
            ],
            "layout": "IPY_MODEL_5e7eed06afd547339531aacea2294531"
          }
        },
        "c253b57b2707403c83ada44b481c7107": {
          "model_module": "@jupyter-widgets/controls",
          "model_name": "HTMLModel",
          "model_module_version": "1.5.0",
          "state": {
            "_dom_classes": [],
            "_model_module": "@jupyter-widgets/controls",
            "_model_module_version": "1.5.0",
            "_model_name": "HTMLModel",
            "_view_count": null,
            "_view_module": "@jupyter-widgets/controls",
            "_view_module_version": "1.5.0",
            "_view_name": "HTMLView",
            "description": "",
            "description_tooltip": null,
            "layout": "IPY_MODEL_bcbfe00842e0452280e5ad7dab8e8205",
            "placeholder": "​",
            "style": "IPY_MODEL_eef23eaff8604e22af64778a6f27abae",
            "value": "Downloading (…)solve/main/vocab.txt: 100%"
          }
        },
        "13994d99f2c8447bbaa8fb075ce96a15": {
          "model_module": "@jupyter-widgets/controls",
          "model_name": "FloatProgressModel",
          "model_module_version": "1.5.0",
          "state": {
            "_dom_classes": [],
            "_model_module": "@jupyter-widgets/controls",
            "_model_module_version": "1.5.0",
            "_model_name": "FloatProgressModel",
            "_view_count": null,
            "_view_module": "@jupyter-widgets/controls",
            "_view_module_version": "1.5.0",
            "_view_name": "ProgressView",
            "bar_style": "success",
            "description": "",
            "description_tooltip": null,
            "layout": "IPY_MODEL_38bc9ded87164f68895ee1993028508f",
            "max": 995526,
            "min": 0,
            "orientation": "horizontal",
            "style": "IPY_MODEL_c4221cc7288b4951b442b4fda209c4f6",
            "value": 995526
          }
        },
        "be402a45bb2649069545311be4988b70": {
          "model_module": "@jupyter-widgets/controls",
          "model_name": "HTMLModel",
          "model_module_version": "1.5.0",
          "state": {
            "_dom_classes": [],
            "_model_module": "@jupyter-widgets/controls",
            "_model_module_version": "1.5.0",
            "_model_name": "HTMLModel",
            "_view_count": null,
            "_view_module": "@jupyter-widgets/controls",
            "_view_module_version": "1.5.0",
            "_view_name": "HTMLView",
            "description": "",
            "description_tooltip": null,
            "layout": "IPY_MODEL_49d2fb8b5e864ccfb43b6cb8f02bb813",
            "placeholder": "​",
            "style": "IPY_MODEL_9e538165c91344f3ad71affb6a6123ee",
            "value": " 996k/996k [00:00&lt;00:00, 1.45MB/s]"
          }
        },
        "5e7eed06afd547339531aacea2294531": {
          "model_module": "@jupyter-widgets/base",
          "model_name": "LayoutModel",
          "model_module_version": "1.2.0",
          "state": {
            "_model_module": "@jupyter-widgets/base",
            "_model_module_version": "1.2.0",
            "_model_name": "LayoutModel",
            "_view_count": null,
            "_view_module": "@jupyter-widgets/base",
            "_view_module_version": "1.2.0",
            "_view_name": "LayoutView",
            "align_content": null,
            "align_items": null,
            "align_self": null,
            "border": null,
            "bottom": null,
            "display": null,
            "flex": null,
            "flex_flow": null,
            "grid_area": null,
            "grid_auto_columns": null,
            "grid_auto_flow": null,
            "grid_auto_rows": null,
            "grid_column": null,
            "grid_gap": null,
            "grid_row": null,
            "grid_template_areas": null,
            "grid_template_columns": null,
            "grid_template_rows": null,
            "height": null,
            "justify_content": null,
            "justify_items": null,
            "left": null,
            "margin": null,
            "max_height": null,
            "max_width": null,
            "min_height": null,
            "min_width": null,
            "object_fit": null,
            "object_position": null,
            "order": null,
            "overflow": null,
            "overflow_x": null,
            "overflow_y": null,
            "padding": null,
            "right": null,
            "top": null,
            "visibility": null,
            "width": null
          }
        },
        "bcbfe00842e0452280e5ad7dab8e8205": {
          "model_module": "@jupyter-widgets/base",
          "model_name": "LayoutModel",
          "model_module_version": "1.2.0",
          "state": {
            "_model_module": "@jupyter-widgets/base",
            "_model_module_version": "1.2.0",
            "_model_name": "LayoutModel",
            "_view_count": null,
            "_view_module": "@jupyter-widgets/base",
            "_view_module_version": "1.2.0",
            "_view_name": "LayoutView",
            "align_content": null,
            "align_items": null,
            "align_self": null,
            "border": null,
            "bottom": null,
            "display": null,
            "flex": null,
            "flex_flow": null,
            "grid_area": null,
            "grid_auto_columns": null,
            "grid_auto_flow": null,
            "grid_auto_rows": null,
            "grid_column": null,
            "grid_gap": null,
            "grid_row": null,
            "grid_template_areas": null,
            "grid_template_columns": null,
            "grid_template_rows": null,
            "height": null,
            "justify_content": null,
            "justify_items": null,
            "left": null,
            "margin": null,
            "max_height": null,
            "max_width": null,
            "min_height": null,
            "min_width": null,
            "object_fit": null,
            "object_position": null,
            "order": null,
            "overflow": null,
            "overflow_x": null,
            "overflow_y": null,
            "padding": null,
            "right": null,
            "top": null,
            "visibility": null,
            "width": null
          }
        },
        "eef23eaff8604e22af64778a6f27abae": {
          "model_module": "@jupyter-widgets/controls",
          "model_name": "DescriptionStyleModel",
          "model_module_version": "1.5.0",
          "state": {
            "_model_module": "@jupyter-widgets/controls",
            "_model_module_version": "1.5.0",
            "_model_name": "DescriptionStyleModel",
            "_view_count": null,
            "_view_module": "@jupyter-widgets/base",
            "_view_module_version": "1.2.0",
            "_view_name": "StyleView",
            "description_width": ""
          }
        },
        "38bc9ded87164f68895ee1993028508f": {
          "model_module": "@jupyter-widgets/base",
          "model_name": "LayoutModel",
          "model_module_version": "1.2.0",
          "state": {
            "_model_module": "@jupyter-widgets/base",
            "_model_module_version": "1.2.0",
            "_model_name": "LayoutModel",
            "_view_count": null,
            "_view_module": "@jupyter-widgets/base",
            "_view_module_version": "1.2.0",
            "_view_name": "LayoutView",
            "align_content": null,
            "align_items": null,
            "align_self": null,
            "border": null,
            "bottom": null,
            "display": null,
            "flex": null,
            "flex_flow": null,
            "grid_area": null,
            "grid_auto_columns": null,
            "grid_auto_flow": null,
            "grid_auto_rows": null,
            "grid_column": null,
            "grid_gap": null,
            "grid_row": null,
            "grid_template_areas": null,
            "grid_template_columns": null,
            "grid_template_rows": null,
            "height": null,
            "justify_content": null,
            "justify_items": null,
            "left": null,
            "margin": null,
            "max_height": null,
            "max_width": null,
            "min_height": null,
            "min_width": null,
            "object_fit": null,
            "object_position": null,
            "order": null,
            "overflow": null,
            "overflow_x": null,
            "overflow_y": null,
            "padding": null,
            "right": null,
            "top": null,
            "visibility": null,
            "width": null
          }
        },
        "c4221cc7288b4951b442b4fda209c4f6": {
          "model_module": "@jupyter-widgets/controls",
          "model_name": "ProgressStyleModel",
          "model_module_version": "1.5.0",
          "state": {
            "_model_module": "@jupyter-widgets/controls",
            "_model_module_version": "1.5.0",
            "_model_name": "ProgressStyleModel",
            "_view_count": null,
            "_view_module": "@jupyter-widgets/base",
            "_view_module_version": "1.2.0",
            "_view_name": "StyleView",
            "bar_color": null,
            "description_width": ""
          }
        },
        "49d2fb8b5e864ccfb43b6cb8f02bb813": {
          "model_module": "@jupyter-widgets/base",
          "model_name": "LayoutModel",
          "model_module_version": "1.2.0",
          "state": {
            "_model_module": "@jupyter-widgets/base",
            "_model_module_version": "1.2.0",
            "_model_name": "LayoutModel",
            "_view_count": null,
            "_view_module": "@jupyter-widgets/base",
            "_view_module_version": "1.2.0",
            "_view_name": "LayoutView",
            "align_content": null,
            "align_items": null,
            "align_self": null,
            "border": null,
            "bottom": null,
            "display": null,
            "flex": null,
            "flex_flow": null,
            "grid_area": null,
            "grid_auto_columns": null,
            "grid_auto_flow": null,
            "grid_auto_rows": null,
            "grid_column": null,
            "grid_gap": null,
            "grid_row": null,
            "grid_template_areas": null,
            "grid_template_columns": null,
            "grid_template_rows": null,
            "height": null,
            "justify_content": null,
            "justify_items": null,
            "left": null,
            "margin": null,
            "max_height": null,
            "max_width": null,
            "min_height": null,
            "min_width": null,
            "object_fit": null,
            "object_position": null,
            "order": null,
            "overflow": null,
            "overflow_x": null,
            "overflow_y": null,
            "padding": null,
            "right": null,
            "top": null,
            "visibility": null,
            "width": null
          }
        },
        "9e538165c91344f3ad71affb6a6123ee": {
          "model_module": "@jupyter-widgets/controls",
          "model_name": "DescriptionStyleModel",
          "model_module_version": "1.5.0",
          "state": {
            "_model_module": "@jupyter-widgets/controls",
            "_model_module_version": "1.5.0",
            "_model_name": "DescriptionStyleModel",
            "_view_count": null,
            "_view_module": "@jupyter-widgets/base",
            "_view_module_version": "1.2.0",
            "_view_name": "StyleView",
            "description_width": ""
          }
        },
        "99bd7d85d0ae4aad916367b1a7d21d0e": {
          "model_module": "@jupyter-widgets/controls",
          "model_name": "HBoxModel",
          "model_module_version": "1.5.0",
          "state": {
            "_dom_classes": [],
            "_model_module": "@jupyter-widgets/controls",
            "_model_module_version": "1.5.0",
            "_model_name": "HBoxModel",
            "_view_count": null,
            "_view_module": "@jupyter-widgets/controls",
            "_view_module_version": "1.5.0",
            "_view_name": "HBoxView",
            "box_style": "",
            "children": [
              "IPY_MODEL_2575c58da0f44f55a0277da6431880af",
              "IPY_MODEL_86713579fd68470c803992cf0b14201c",
              "IPY_MODEL_75a7376dfd6e405bae2bda569cbb6453"
            ],
            "layout": "IPY_MODEL_f93a847655f14c6fbece14fe711a0b75"
          }
        },
        "2575c58da0f44f55a0277da6431880af": {
          "model_module": "@jupyter-widgets/controls",
          "model_name": "HTMLModel",
          "model_module_version": "1.5.0",
          "state": {
            "_dom_classes": [],
            "_model_module": "@jupyter-widgets/controls",
            "_model_module_version": "1.5.0",
            "_model_name": "HTMLModel",
            "_view_count": null,
            "_view_module": "@jupyter-widgets/controls",
            "_view_module_version": "1.5.0",
            "_view_name": "HTMLView",
            "description": "",
            "description_tooltip": null,
            "layout": "IPY_MODEL_fe3f338a3b49401d84fb208041c194ab",
            "placeholder": "​",
            "style": "IPY_MODEL_b221f18034d440dc8d8bc5a0fdb46a81",
            "value": "Downloading (…)okenizer_config.json: 100%"
          }
        },
        "86713579fd68470c803992cf0b14201c": {
          "model_module": "@jupyter-widgets/controls",
          "model_name": "FloatProgressModel",
          "model_module_version": "1.5.0",
          "state": {
            "_dom_classes": [],
            "_model_module": "@jupyter-widgets/controls",
            "_model_module_version": "1.5.0",
            "_model_name": "FloatProgressModel",
            "_view_count": null,
            "_view_module": "@jupyter-widgets/controls",
            "_view_module_version": "1.5.0",
            "_view_name": "ProgressView",
            "bar_style": "success",
            "description": "",
            "description_tooltip": null,
            "layout": "IPY_MODEL_704d745984d54c4181242ce08427a6ba",
            "max": 29,
            "min": 0,
            "orientation": "horizontal",
            "style": "IPY_MODEL_737b0eeb2ff644d1a1acd61774ed6203",
            "value": 29
          }
        },
        "75a7376dfd6e405bae2bda569cbb6453": {
          "model_module": "@jupyter-widgets/controls",
          "model_name": "HTMLModel",
          "model_module_version": "1.5.0",
          "state": {
            "_dom_classes": [],
            "_model_module": "@jupyter-widgets/controls",
            "_model_module_version": "1.5.0",
            "_model_name": "HTMLModel",
            "_view_count": null,
            "_view_module": "@jupyter-widgets/controls",
            "_view_module_version": "1.5.0",
            "_view_name": "HTMLView",
            "description": "",
            "description_tooltip": null,
            "layout": "IPY_MODEL_e82834873cde4a7690428c95383e3382",
            "placeholder": "​",
            "style": "IPY_MODEL_d7c99d6b1711456ca40f03402f983104",
            "value": " 29.0/29.0 [00:00&lt;00:00, 926B/s]"
          }
        },
        "f93a847655f14c6fbece14fe711a0b75": {
          "model_module": "@jupyter-widgets/base",
          "model_name": "LayoutModel",
          "model_module_version": "1.2.0",
          "state": {
            "_model_module": "@jupyter-widgets/base",
            "_model_module_version": "1.2.0",
            "_model_name": "LayoutModel",
            "_view_count": null,
            "_view_module": "@jupyter-widgets/base",
            "_view_module_version": "1.2.0",
            "_view_name": "LayoutView",
            "align_content": null,
            "align_items": null,
            "align_self": null,
            "border": null,
            "bottom": null,
            "display": null,
            "flex": null,
            "flex_flow": null,
            "grid_area": null,
            "grid_auto_columns": null,
            "grid_auto_flow": null,
            "grid_auto_rows": null,
            "grid_column": null,
            "grid_gap": null,
            "grid_row": null,
            "grid_template_areas": null,
            "grid_template_columns": null,
            "grid_template_rows": null,
            "height": null,
            "justify_content": null,
            "justify_items": null,
            "left": null,
            "margin": null,
            "max_height": null,
            "max_width": null,
            "min_height": null,
            "min_width": null,
            "object_fit": null,
            "object_position": null,
            "order": null,
            "overflow": null,
            "overflow_x": null,
            "overflow_y": null,
            "padding": null,
            "right": null,
            "top": null,
            "visibility": null,
            "width": null
          }
        },
        "fe3f338a3b49401d84fb208041c194ab": {
          "model_module": "@jupyter-widgets/base",
          "model_name": "LayoutModel",
          "model_module_version": "1.2.0",
          "state": {
            "_model_module": "@jupyter-widgets/base",
            "_model_module_version": "1.2.0",
            "_model_name": "LayoutModel",
            "_view_count": null,
            "_view_module": "@jupyter-widgets/base",
            "_view_module_version": "1.2.0",
            "_view_name": "LayoutView",
            "align_content": null,
            "align_items": null,
            "align_self": null,
            "border": null,
            "bottom": null,
            "display": null,
            "flex": null,
            "flex_flow": null,
            "grid_area": null,
            "grid_auto_columns": null,
            "grid_auto_flow": null,
            "grid_auto_rows": null,
            "grid_column": null,
            "grid_gap": null,
            "grid_row": null,
            "grid_template_areas": null,
            "grid_template_columns": null,
            "grid_template_rows": null,
            "height": null,
            "justify_content": null,
            "justify_items": null,
            "left": null,
            "margin": null,
            "max_height": null,
            "max_width": null,
            "min_height": null,
            "min_width": null,
            "object_fit": null,
            "object_position": null,
            "order": null,
            "overflow": null,
            "overflow_x": null,
            "overflow_y": null,
            "padding": null,
            "right": null,
            "top": null,
            "visibility": null,
            "width": null
          }
        },
        "b221f18034d440dc8d8bc5a0fdb46a81": {
          "model_module": "@jupyter-widgets/controls",
          "model_name": "DescriptionStyleModel",
          "model_module_version": "1.5.0",
          "state": {
            "_model_module": "@jupyter-widgets/controls",
            "_model_module_version": "1.5.0",
            "_model_name": "DescriptionStyleModel",
            "_view_count": null,
            "_view_module": "@jupyter-widgets/base",
            "_view_module_version": "1.2.0",
            "_view_name": "StyleView",
            "description_width": ""
          }
        },
        "704d745984d54c4181242ce08427a6ba": {
          "model_module": "@jupyter-widgets/base",
          "model_name": "LayoutModel",
          "model_module_version": "1.2.0",
          "state": {
            "_model_module": "@jupyter-widgets/base",
            "_model_module_version": "1.2.0",
            "_model_name": "LayoutModel",
            "_view_count": null,
            "_view_module": "@jupyter-widgets/base",
            "_view_module_version": "1.2.0",
            "_view_name": "LayoutView",
            "align_content": null,
            "align_items": null,
            "align_self": null,
            "border": null,
            "bottom": null,
            "display": null,
            "flex": null,
            "flex_flow": null,
            "grid_area": null,
            "grid_auto_columns": null,
            "grid_auto_flow": null,
            "grid_auto_rows": null,
            "grid_column": null,
            "grid_gap": null,
            "grid_row": null,
            "grid_template_areas": null,
            "grid_template_columns": null,
            "grid_template_rows": null,
            "height": null,
            "justify_content": null,
            "justify_items": null,
            "left": null,
            "margin": null,
            "max_height": null,
            "max_width": null,
            "min_height": null,
            "min_width": null,
            "object_fit": null,
            "object_position": null,
            "order": null,
            "overflow": null,
            "overflow_x": null,
            "overflow_y": null,
            "padding": null,
            "right": null,
            "top": null,
            "visibility": null,
            "width": null
          }
        },
        "737b0eeb2ff644d1a1acd61774ed6203": {
          "model_module": "@jupyter-widgets/controls",
          "model_name": "ProgressStyleModel",
          "model_module_version": "1.5.0",
          "state": {
            "_model_module": "@jupyter-widgets/controls",
            "_model_module_version": "1.5.0",
            "_model_name": "ProgressStyleModel",
            "_view_count": null,
            "_view_module": "@jupyter-widgets/base",
            "_view_module_version": "1.2.0",
            "_view_name": "StyleView",
            "bar_color": null,
            "description_width": ""
          }
        },
        "e82834873cde4a7690428c95383e3382": {
          "model_module": "@jupyter-widgets/base",
          "model_name": "LayoutModel",
          "model_module_version": "1.2.0",
          "state": {
            "_model_module": "@jupyter-widgets/base",
            "_model_module_version": "1.2.0",
            "_model_name": "LayoutModel",
            "_view_count": null,
            "_view_module": "@jupyter-widgets/base",
            "_view_module_version": "1.2.0",
            "_view_name": "LayoutView",
            "align_content": null,
            "align_items": null,
            "align_self": null,
            "border": null,
            "bottom": null,
            "display": null,
            "flex": null,
            "flex_flow": null,
            "grid_area": null,
            "grid_auto_columns": null,
            "grid_auto_flow": null,
            "grid_auto_rows": null,
            "grid_column": null,
            "grid_gap": null,
            "grid_row": null,
            "grid_template_areas": null,
            "grid_template_columns": null,
            "grid_template_rows": null,
            "height": null,
            "justify_content": null,
            "justify_items": null,
            "left": null,
            "margin": null,
            "max_height": null,
            "max_width": null,
            "min_height": null,
            "min_width": null,
            "object_fit": null,
            "object_position": null,
            "order": null,
            "overflow": null,
            "overflow_x": null,
            "overflow_y": null,
            "padding": null,
            "right": null,
            "top": null,
            "visibility": null,
            "width": null
          }
        },
        "d7c99d6b1711456ca40f03402f983104": {
          "model_module": "@jupyter-widgets/controls",
          "model_name": "DescriptionStyleModel",
          "model_module_version": "1.5.0",
          "state": {
            "_model_module": "@jupyter-widgets/controls",
            "_model_module_version": "1.5.0",
            "_model_name": "DescriptionStyleModel",
            "_view_count": null,
            "_view_module": "@jupyter-widgets/base",
            "_view_module_version": "1.2.0",
            "_view_name": "StyleView",
            "description_width": ""
          }
        },
        "9ec5e7c596e943cfaffb5cb499c3326c": {
          "model_module": "@jupyter-widgets/controls",
          "model_name": "HBoxModel",
          "model_module_version": "1.5.0",
          "state": {
            "_dom_classes": [],
            "_model_module": "@jupyter-widgets/controls",
            "_model_module_version": "1.5.0",
            "_model_name": "HBoxModel",
            "_view_count": null,
            "_view_module": "@jupyter-widgets/controls",
            "_view_module_version": "1.5.0",
            "_view_name": "HBoxView",
            "box_style": "",
            "children": [
              "IPY_MODEL_16d5624b5e684722a654807ee1e72a35",
              "IPY_MODEL_e046a9ff3d454d02a1d7207f445694b2",
              "IPY_MODEL_8497b3fcf29b4f9f8ab859cb97938760"
            ],
            "layout": "IPY_MODEL_2e69517e504d417f862c456133ae8ea4"
          }
        },
        "16d5624b5e684722a654807ee1e72a35": {
          "model_module": "@jupyter-widgets/controls",
          "model_name": "HTMLModel",
          "model_module_version": "1.5.0",
          "state": {
            "_dom_classes": [],
            "_model_module": "@jupyter-widgets/controls",
            "_model_module_version": "1.5.0",
            "_model_name": "HTMLModel",
            "_view_count": null,
            "_view_module": "@jupyter-widgets/controls",
            "_view_module_version": "1.5.0",
            "_view_name": "HTMLView",
            "description": "",
            "description_tooltip": null,
            "layout": "IPY_MODEL_465138840df64591abdd78b6a9394b68",
            "placeholder": "​",
            "style": "IPY_MODEL_adde4a8343334d4bae55c6e206ee6d3f",
            "value": "Downloading (…)lve/main/config.json: 100%"
          }
        },
        "e046a9ff3d454d02a1d7207f445694b2": {
          "model_module": "@jupyter-widgets/controls",
          "model_name": "FloatProgressModel",
          "model_module_version": "1.5.0",
          "state": {
            "_dom_classes": [],
            "_model_module": "@jupyter-widgets/controls",
            "_model_module_version": "1.5.0",
            "_model_name": "FloatProgressModel",
            "_view_count": null,
            "_view_module": "@jupyter-widgets/controls",
            "_view_module_version": "1.5.0",
            "_view_name": "ProgressView",
            "bar_style": "success",
            "description": "",
            "description_tooltip": null,
            "layout": "IPY_MODEL_2f032b1a3a344cf1982b4db23d27693a",
            "max": 625,
            "min": 0,
            "orientation": "horizontal",
            "style": "IPY_MODEL_67013849c0f447b19d7cbb6b8070b0be",
            "value": 625
          }
        },
        "8497b3fcf29b4f9f8ab859cb97938760": {
          "model_module": "@jupyter-widgets/controls",
          "model_name": "HTMLModel",
          "model_module_version": "1.5.0",
          "state": {
            "_dom_classes": [],
            "_model_module": "@jupyter-widgets/controls",
            "_model_module_version": "1.5.0",
            "_model_name": "HTMLModel",
            "_view_count": null,
            "_view_module": "@jupyter-widgets/controls",
            "_view_module_version": "1.5.0",
            "_view_name": "HTMLView",
            "description": "",
            "description_tooltip": null,
            "layout": "IPY_MODEL_5ecab569614944aaaf178f93fee5f1eb",
            "placeholder": "​",
            "style": "IPY_MODEL_ea9d9a9afa4140deafdd0623f176e1e3",
            "value": " 625/625 [00:00&lt;00:00, 30.0kB/s]"
          }
        },
        "2e69517e504d417f862c456133ae8ea4": {
          "model_module": "@jupyter-widgets/base",
          "model_name": "LayoutModel",
          "model_module_version": "1.2.0",
          "state": {
            "_model_module": "@jupyter-widgets/base",
            "_model_module_version": "1.2.0",
            "_model_name": "LayoutModel",
            "_view_count": null,
            "_view_module": "@jupyter-widgets/base",
            "_view_module_version": "1.2.0",
            "_view_name": "LayoutView",
            "align_content": null,
            "align_items": null,
            "align_self": null,
            "border": null,
            "bottom": null,
            "display": null,
            "flex": null,
            "flex_flow": null,
            "grid_area": null,
            "grid_auto_columns": null,
            "grid_auto_flow": null,
            "grid_auto_rows": null,
            "grid_column": null,
            "grid_gap": null,
            "grid_row": null,
            "grid_template_areas": null,
            "grid_template_columns": null,
            "grid_template_rows": null,
            "height": null,
            "justify_content": null,
            "justify_items": null,
            "left": null,
            "margin": null,
            "max_height": null,
            "max_width": null,
            "min_height": null,
            "min_width": null,
            "object_fit": null,
            "object_position": null,
            "order": null,
            "overflow": null,
            "overflow_x": null,
            "overflow_y": null,
            "padding": null,
            "right": null,
            "top": null,
            "visibility": null,
            "width": null
          }
        },
        "465138840df64591abdd78b6a9394b68": {
          "model_module": "@jupyter-widgets/base",
          "model_name": "LayoutModel",
          "model_module_version": "1.2.0",
          "state": {
            "_model_module": "@jupyter-widgets/base",
            "_model_module_version": "1.2.0",
            "_model_name": "LayoutModel",
            "_view_count": null,
            "_view_module": "@jupyter-widgets/base",
            "_view_module_version": "1.2.0",
            "_view_name": "LayoutView",
            "align_content": null,
            "align_items": null,
            "align_self": null,
            "border": null,
            "bottom": null,
            "display": null,
            "flex": null,
            "flex_flow": null,
            "grid_area": null,
            "grid_auto_columns": null,
            "grid_auto_flow": null,
            "grid_auto_rows": null,
            "grid_column": null,
            "grid_gap": null,
            "grid_row": null,
            "grid_template_areas": null,
            "grid_template_columns": null,
            "grid_template_rows": null,
            "height": null,
            "justify_content": null,
            "justify_items": null,
            "left": null,
            "margin": null,
            "max_height": null,
            "max_width": null,
            "min_height": null,
            "min_width": null,
            "object_fit": null,
            "object_position": null,
            "order": null,
            "overflow": null,
            "overflow_x": null,
            "overflow_y": null,
            "padding": null,
            "right": null,
            "top": null,
            "visibility": null,
            "width": null
          }
        },
        "adde4a8343334d4bae55c6e206ee6d3f": {
          "model_module": "@jupyter-widgets/controls",
          "model_name": "DescriptionStyleModel",
          "model_module_version": "1.5.0",
          "state": {
            "_model_module": "@jupyter-widgets/controls",
            "_model_module_version": "1.5.0",
            "_model_name": "DescriptionStyleModel",
            "_view_count": null,
            "_view_module": "@jupyter-widgets/base",
            "_view_module_version": "1.2.0",
            "_view_name": "StyleView",
            "description_width": ""
          }
        },
        "2f032b1a3a344cf1982b4db23d27693a": {
          "model_module": "@jupyter-widgets/base",
          "model_name": "LayoutModel",
          "model_module_version": "1.2.0",
          "state": {
            "_model_module": "@jupyter-widgets/base",
            "_model_module_version": "1.2.0",
            "_model_name": "LayoutModel",
            "_view_count": null,
            "_view_module": "@jupyter-widgets/base",
            "_view_module_version": "1.2.0",
            "_view_name": "LayoutView",
            "align_content": null,
            "align_items": null,
            "align_self": null,
            "border": null,
            "bottom": null,
            "display": null,
            "flex": null,
            "flex_flow": null,
            "grid_area": null,
            "grid_auto_columns": null,
            "grid_auto_flow": null,
            "grid_auto_rows": null,
            "grid_column": null,
            "grid_gap": null,
            "grid_row": null,
            "grid_template_areas": null,
            "grid_template_columns": null,
            "grid_template_rows": null,
            "height": null,
            "justify_content": null,
            "justify_items": null,
            "left": null,
            "margin": null,
            "max_height": null,
            "max_width": null,
            "min_height": null,
            "min_width": null,
            "object_fit": null,
            "object_position": null,
            "order": null,
            "overflow": null,
            "overflow_x": null,
            "overflow_y": null,
            "padding": null,
            "right": null,
            "top": null,
            "visibility": null,
            "width": null
          }
        },
        "67013849c0f447b19d7cbb6b8070b0be": {
          "model_module": "@jupyter-widgets/controls",
          "model_name": "ProgressStyleModel",
          "model_module_version": "1.5.0",
          "state": {
            "_model_module": "@jupyter-widgets/controls",
            "_model_module_version": "1.5.0",
            "_model_name": "ProgressStyleModel",
            "_view_count": null,
            "_view_module": "@jupyter-widgets/base",
            "_view_module_version": "1.2.0",
            "_view_name": "StyleView",
            "bar_color": null,
            "description_width": ""
          }
        },
        "5ecab569614944aaaf178f93fee5f1eb": {
          "model_module": "@jupyter-widgets/base",
          "model_name": "LayoutModel",
          "model_module_version": "1.2.0",
          "state": {
            "_model_module": "@jupyter-widgets/base",
            "_model_module_version": "1.2.0",
            "_model_name": "LayoutModel",
            "_view_count": null,
            "_view_module": "@jupyter-widgets/base",
            "_view_module_version": "1.2.0",
            "_view_name": "LayoutView",
            "align_content": null,
            "align_items": null,
            "align_self": null,
            "border": null,
            "bottom": null,
            "display": null,
            "flex": null,
            "flex_flow": null,
            "grid_area": null,
            "grid_auto_columns": null,
            "grid_auto_flow": null,
            "grid_auto_rows": null,
            "grid_column": null,
            "grid_gap": null,
            "grid_row": null,
            "grid_template_areas": null,
            "grid_template_columns": null,
            "grid_template_rows": null,
            "height": null,
            "justify_content": null,
            "justify_items": null,
            "left": null,
            "margin": null,
            "max_height": null,
            "max_width": null,
            "min_height": null,
            "min_width": null,
            "object_fit": null,
            "object_position": null,
            "order": null,
            "overflow": null,
            "overflow_x": null,
            "overflow_y": null,
            "padding": null,
            "right": null,
            "top": null,
            "visibility": null,
            "width": null
          }
        },
        "ea9d9a9afa4140deafdd0623f176e1e3": {
          "model_module": "@jupyter-widgets/controls",
          "model_name": "DescriptionStyleModel",
          "model_module_version": "1.5.0",
          "state": {
            "_model_module": "@jupyter-widgets/controls",
            "_model_module_version": "1.5.0",
            "_model_name": "DescriptionStyleModel",
            "_view_count": null,
            "_view_module": "@jupyter-widgets/base",
            "_view_module_version": "1.2.0",
            "_view_name": "StyleView",
            "description_width": ""
          }
        }
      }
    }
  },
  "nbformat": 4,
  "nbformat_minor": 0
}