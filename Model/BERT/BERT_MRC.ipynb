{
  "cells": [
    {
      "cell_type": "markdown",
      "metadata": {
        "id": "view-in-github",
        "colab_type": "text"
      },
      "source": [
        "<a href=\"https://colab.research.google.com/github/DonghaeSuh/NLP_Pytorch/blob/main/Model/BERT/BERT_MRC.ipynb\" target=\"_parent\"><img src=\"https://colab.research.google.com/assets/colab-badge.svg\" alt=\"Open In Colab\"/></a>"
      ]
    },
    {
      "cell_type": "markdown",
      "metadata": {
        "id": "pSqoWhN4nVXc"
      },
      "source": [
        "# 데이터 분석"
      ]
    },
    {
      "cell_type": "markdown",
      "metadata": {
        "id": "1O1cpTEzqgrG"
      },
      "source": [
        "## Transformers BertTokenizer의 vocab.txt 저장 및 WordPieceTokenizer 불러오기"
      ]
    },
    {
      "cell_type": "code",
      "execution_count": 1,
      "metadata": {
        "colab": {
          "base_uri": "https://localhost:8080/"
        },
        "id": "SwY8DZPYq6-T",
        "outputId": "a480b190-aa1f-478c-b8ed-34b09064ded9"
      },
      "outputs": [
        {
          "output_type": "stream",
          "name": "stdout",
          "text": [
            "Collecting Transformers\n",
            "  Downloading transformers-4.31.0-py3-none-any.whl (7.4 MB)\n",
            "\u001b[2K     \u001b[90m━━━━━━━━━━━━━━━━━━━━━━━━━━━━━━━━━━━━━━━━\u001b[0m \u001b[32m7.4/7.4 MB\u001b[0m \u001b[31m29.8 MB/s\u001b[0m eta \u001b[36m0:00:00\u001b[0m\n",
            "\u001b[?25hRequirement already satisfied: filelock in /usr/local/lib/python3.10/dist-packages (from Transformers) (3.12.2)\n",
            "Collecting huggingface-hub<1.0,>=0.14.1 (from Transformers)\n",
            "  Downloading huggingface_hub-0.16.4-py3-none-any.whl (268 kB)\n",
            "\u001b[2K     \u001b[90m━━━━━━━━━━━━━━━━━━━━━━━━━━━━━━━━━━━━━━\u001b[0m \u001b[32m268.8/268.8 kB\u001b[0m \u001b[31m32.0 MB/s\u001b[0m eta \u001b[36m0:00:00\u001b[0m\n",
            "\u001b[?25hRequirement already satisfied: numpy>=1.17 in /usr/local/lib/python3.10/dist-packages (from Transformers) (1.22.4)\n",
            "Requirement already satisfied: packaging>=20.0 in /usr/local/lib/python3.10/dist-packages (from Transformers) (23.1)\n",
            "Requirement already satisfied: pyyaml>=5.1 in /usr/local/lib/python3.10/dist-packages (from Transformers) (6.0.1)\n",
            "Requirement already satisfied: regex!=2019.12.17 in /usr/local/lib/python3.10/dist-packages (from Transformers) (2022.10.31)\n",
            "Requirement already satisfied: requests in /usr/local/lib/python3.10/dist-packages (from Transformers) (2.27.1)\n",
            "Collecting tokenizers!=0.11.3,<0.14,>=0.11.1 (from Transformers)\n",
            "  Downloading tokenizers-0.13.3-cp310-cp310-manylinux_2_17_x86_64.manylinux2014_x86_64.whl (7.8 MB)\n",
            "\u001b[2K     \u001b[90m━━━━━━━━━━━━━━━━━━━━━━━━━━━━━━━━━━━━━━━━\u001b[0m \u001b[32m7.8/7.8 MB\u001b[0m \u001b[31m51.9 MB/s\u001b[0m eta \u001b[36m0:00:00\u001b[0m\n",
            "\u001b[?25hCollecting safetensors>=0.3.1 (from Transformers)\n",
            "  Downloading safetensors-0.3.1-cp310-cp310-manylinux_2_17_x86_64.manylinux2014_x86_64.whl (1.3 MB)\n",
            "\u001b[2K     \u001b[90m━━━━━━━━━━━━━━━━━━━━━━━━━━━━━━━━━━━━━━━━\u001b[0m \u001b[32m1.3/1.3 MB\u001b[0m \u001b[31m67.1 MB/s\u001b[0m eta \u001b[36m0:00:00\u001b[0m\n",
            "\u001b[?25hRequirement already satisfied: tqdm>=4.27 in /usr/local/lib/python3.10/dist-packages (from Transformers) (4.65.0)\n",
            "Requirement already satisfied: fsspec in /usr/local/lib/python3.10/dist-packages (from huggingface-hub<1.0,>=0.14.1->Transformers) (2023.6.0)\n",
            "Requirement already satisfied: typing-extensions>=3.7.4.3 in /usr/local/lib/python3.10/dist-packages (from huggingface-hub<1.0,>=0.14.1->Transformers) (4.7.1)\n",
            "Requirement already satisfied: urllib3<1.27,>=1.21.1 in /usr/local/lib/python3.10/dist-packages (from requests->Transformers) (1.26.16)\n",
            "Requirement already satisfied: certifi>=2017.4.17 in /usr/local/lib/python3.10/dist-packages (from requests->Transformers) (2023.5.7)\n",
            "Requirement already satisfied: charset-normalizer~=2.0.0 in /usr/local/lib/python3.10/dist-packages (from requests->Transformers) (2.0.12)\n",
            "Requirement already satisfied: idna<4,>=2.5 in /usr/local/lib/python3.10/dist-packages (from requests->Transformers) (3.4)\n",
            "Installing collected packages: tokenizers, safetensors, huggingface-hub, Transformers\n",
            "Successfully installed Transformers-4.31.0 huggingface-hub-0.16.4 safetensors-0.3.1 tokenizers-0.13.3\n"
          ]
        }
      ],
      "source": [
        "!pip install Transformers"
      ]
    },
    {
      "cell_type": "code",
      "execution_count": 2,
      "metadata": {
        "id": "4esPWrM3rK7F",
        "colab": {
          "base_uri": "https://localhost:8080/"
        },
        "outputId": "ac922ba2-4c45-4c18-d787-b267478dde09"
      },
      "outputs": [
        {
          "output_type": "stream",
          "name": "stderr",
          "text": [
            "/usr/local/lib/python3.10/dist-packages/transformers/generation_utils.py:24: FutureWarning: Importing `GenerationMixin` from `src/transformers/generation_utils.py` is deprecated and will be removed in Transformers v5. Import as `from transformers import GenerationMixin` instead.\n",
            "  warnings.warn(\n",
            "/usr/local/lib/python3.10/dist-packages/transformers/generation_tf_utils.py:24: FutureWarning: Importing `TFGenerationMixin` from `src/transformers/generation_tf_utils.py` is deprecated and will be removed in Transformers v5. Import as `from transformers import TFGenerationMixin` instead.\n",
            "  warnings.warn(\n",
            "/usr/local/lib/python3.10/dist-packages/transformers/generation_flax_utils.py:24: FutureWarning: Importing `FlaxGenerationMixin` from `src/transformers/generation_flax_utils.py` is deprecated and will be removed in Transformers v5. Import as `from transformers import FlaxGenerationMixin` instead.\n",
            "  warnings.warn(\n",
            "Xformers is not installed correctly. If you want to use memory_efficient_attention to accelerate training use the following command to install Xformers\n",
            "pip install xformers.\n"
          ]
        }
      ],
      "source": [
        "from transformers import *"
      ]
    },
    {
      "cell_type": "code",
      "execution_count": 3,
      "metadata": {
        "id": "GKmfL8KszSOr"
      },
      "outputs": [],
      "source": [
        "import os"
      ]
    },
    {
      "cell_type": "code",
      "execution_count": 4,
      "metadata": {
        "id": "BvIP7Q8trwax",
        "colab": {
          "base_uri": "https://localhost:8080/",
          "height": 904,
          "referenced_widgets": [
            "769e5093f04d4abfb0f7155b188c9c3a",
            "879a7de1f1fc471da13f9d8f360bf6b1",
            "9897b6eba80e46a693c3b3fa47db489c",
            "22a2a77fc4d442eebd7e56d8f92ef43a",
            "d77f12890ead488ab0d9986979a7d2a0",
            "b379e17476e143b3bd32c2b0368d96fd",
            "1704c7ba04ed4c8aa4a887fd3269ed2a",
            "1a2593e165e045eb8b4d9e86717ade4a",
            "3600edb249b842f593bbf45517c871ac",
            "e37bff3695b14e75b97b371eaf24b4b0",
            "c8fec2f19970448283f14eb649e46308",
            "fab64f1babde4cf39427a624efd491de",
            "15a85f6edffe4f3bafac80377aea7ff3",
            "38b3efe20d52479ca09775c5df58db88",
            "8d4ecc9206bf41399498728194307869",
            "62519e68185a488e90f03a0aa26c9de8",
            "6bfe4fce5e404f9d886119f1f4e41bfe",
            "4d98a4919c4448afbab3d6091d7b0cb6",
            "d8df6ddaf2c147fcb4ce8e052d06fba2",
            "7fb40c6706d44793ab451d0d901b9793",
            "15c156383fc04ec38e6665ca455a35d7",
            "211a295a989e4c5cb186e6ac8dfe926f",
            "455367be9c944c69b150ed14bd185f4e",
            "18647deb61df46049183f6fe4a0adb88",
            "732044d96f6a4abc9ba5f1e64910d0f8",
            "f1fef2c3a88d45758aca9d4022ca623d",
            "01646ad578f14ef0b92e1e78062b5c80",
            "72ef18134b2f446cae141e60e4371c7f",
            "92fc7cac0b844ccf90d8e027f101290c",
            "f53aec6d29674033bbd35659cf878eda",
            "bda004878d3041cfb6f4c4ef124c597b",
            "ffda6e7d7e2e4c9790ea75f61d9a7857",
            "bb27a283b26549948a3ede9708be6fa4"
          ]
        },
        "outputId": "7db162f8-d5eb-4b1f-8a2e-a32e2f21869a"
      },
      "outputs": [
        {
          "output_type": "display_data",
          "data": {
            "text/plain": [
              "Downloading (…)solve/main/vocab.txt:   0%|          | 0.00/996k [00:00<?, ?B/s]"
            ],
            "application/vnd.jupyter.widget-view+json": {
              "version_major": 2,
              "version_minor": 0,
              "model_id": "769e5093f04d4abfb0f7155b188c9c3a"
            }
          },
          "metadata": {}
        },
        {
          "output_type": "display_data",
          "data": {
            "text/plain": [
              "Downloading (…)okenizer_config.json:   0%|          | 0.00/29.0 [00:00<?, ?B/s]"
            ],
            "application/vnd.jupyter.widget-view+json": {
              "version_major": 2,
              "version_minor": 0,
              "model_id": "fab64f1babde4cf39427a624efd491de"
            }
          },
          "metadata": {}
        },
        {
          "output_type": "stream",
          "name": "stderr",
          "text": [
            "loading file vocab.txt from cache at /root/.cache/huggingface/hub/models--bert-base-multilingual-cased/snapshots/fdfce55e83dbed325647a63e7e1f5de19f0382ba/vocab.txt\n",
            "loading file added_tokens.json from cache at None\n",
            "loading file special_tokens_map.json from cache at None\n",
            "loading file tokenizer_config.json from cache at /root/.cache/huggingface/hub/models--bert-base-multilingual-cased/snapshots/fdfce55e83dbed325647a63e7e1f5de19f0382ba/tokenizer_config.json\n"
          ]
        },
        {
          "output_type": "display_data",
          "data": {
            "text/plain": [
              "Downloading (…)lve/main/config.json:   0%|          | 0.00/625 [00:00<?, ?B/s]"
            ],
            "application/vnd.jupyter.widget-view+json": {
              "version_major": 2,
              "version_minor": 0,
              "model_id": "455367be9c944c69b150ed14bd185f4e"
            }
          },
          "metadata": {}
        },
        {
          "output_type": "stream",
          "name": "stderr",
          "text": [
            "loading configuration file config.json from cache at /root/.cache/huggingface/hub/models--bert-base-multilingual-cased/snapshots/fdfce55e83dbed325647a63e7e1f5de19f0382ba/config.json\n",
            "Model config BertConfig {\n",
            "  \"_name_or_path\": \"bert-base-multilingual-cased\",\n",
            "  \"architectures\": [\n",
            "    \"BertForMaskedLM\"\n",
            "  ],\n",
            "  \"attention_probs_dropout_prob\": 0.1,\n",
            "  \"classifier_dropout\": null,\n",
            "  \"directionality\": \"bidi\",\n",
            "  \"hidden_act\": \"gelu\",\n",
            "  \"hidden_dropout_prob\": 0.1,\n",
            "  \"hidden_size\": 768,\n",
            "  \"initializer_range\": 0.02,\n",
            "  \"intermediate_size\": 3072,\n",
            "  \"layer_norm_eps\": 1e-12,\n",
            "  \"max_position_embeddings\": 512,\n",
            "  \"model_type\": \"bert\",\n",
            "  \"num_attention_heads\": 12,\n",
            "  \"num_hidden_layers\": 12,\n",
            "  \"pad_token_id\": 0,\n",
            "  \"pooler_fc_size\": 768,\n",
            "  \"pooler_num_attention_heads\": 12,\n",
            "  \"pooler_num_fc_layers\": 3,\n",
            "  \"pooler_size_per_head\": 128,\n",
            "  \"pooler_type\": \"first_token_transform\",\n",
            "  \"position_embedding_type\": \"absolute\",\n",
            "  \"transformers_version\": \"4.31.0\",\n",
            "  \"type_vocab_size\": 2,\n",
            "  \"use_cache\": true,\n",
            "  \"vocab_size\": 119547\n",
            "}\n",
            "\n",
            "tokenizer config file saved in bert-base-multilingual-cased/tokenizer_config.json\n",
            "Special tokens file saved in bert-base-multilingual-cased/special_tokens_map.json\n"
          ]
        },
        {
          "output_type": "execute_result",
          "data": {
            "text/plain": [
              "('bert-base-multilingual-cased/tokenizer_config.json',\n",
              " 'bert-base-multilingual-cased/special_tokens_map.json',\n",
              " 'bert-base-multilingual-cased/vocab.txt',\n",
              " 'bert-base-multilingual-cased/added_tokens.json')"
            ]
          },
          "metadata": {},
          "execution_count": 4
        }
      ],
      "source": [
        "slow_tokenizer = BertTokenizer.from_pretrained('bert-base-multilingual-cased',lowercase=False)\n",
        "\n",
        "os.makedirs('bert-base-multilingual-cased',exist_ok=True)\n",
        "slow_tokenizer.save_pretrained('bert-base-multilingual-cased')"
      ]
    },
    {
      "cell_type": "code",
      "execution_count": 5,
      "metadata": {
        "id": "NMrXrnJPlyMz"
      },
      "outputs": [],
      "source": [
        "cache_dir = '.cache/huggingface/hub/models--bert-base-multilingual-cased/snapshots/fdfce55e83dbed325647a63e7e1f5de19f0382ba'"
      ]
    },
    {
      "cell_type": "code",
      "execution_count": 6,
      "metadata": {
        "id": "fGluuykP0ngL"
      },
      "outputs": [],
      "source": [
        "from tokenizers import BertWordPieceTokenizer"
      ]
    },
    {
      "cell_type": "code",
      "execution_count": 7,
      "metadata": {
        "id": "9Ho6n6s1-4Qn",
        "colab": {
          "base_uri": "https://localhost:8080/"
        },
        "outputId": "c65d0512-bcbc-413a-ee8e-cb63b6dab461"
      },
      "outputs": [
        {
          "output_type": "stream",
          "name": "stdout",
          "text": [
            "\u001b[0m\u001b[01;34mbert-base-multilingual-cased\u001b[0m/  \u001b[01;34mdrive\u001b[0m/  \u001b[01;34msample_data\u001b[0m/\n"
          ]
        }
      ],
      "source": [
        "ls"
      ]
    },
    {
      "cell_type": "code",
      "execution_count": 8,
      "metadata": {
        "id": "EmZenOtG0T4R"
      },
      "outputs": [],
      "source": [
        "tokenizer = BertWordPieceTokenizer('bert-base-multilingual-cased/vocab.txt',lowercase=False)"
      ]
    },
    {
      "cell_type": "markdown",
      "metadata": {
        "id": "G3CQsSzOq4gD"
      },
      "source": [
        "## 데이터 불러오기"
      ]
    },
    {
      "cell_type": "code",
      "execution_count": 9,
      "metadata": {
        "id": "M_Yib3lS1Dyz"
      },
      "outputs": [],
      "source": [
        "import json\n",
        "from tensorflow import keras"
      ]
    },
    {
      "cell_type": "code",
      "execution_count": 10,
      "metadata": {
        "colab": {
          "base_uri": "https://localhost:8080/"
        },
        "id": "J-FgDOfEUddO",
        "outputId": "53071d40-ed53-417c-af69-46a4c46c6881"
      },
      "outputs": [
        {
          "output_type": "stream",
          "name": "stdout",
          "text": [
            "\u001b[0m\u001b[01;34mbert-base-multilingual-cased\u001b[0m/  \u001b[01;34mdrive\u001b[0m/  \u001b[01;34msample_data\u001b[0m/\n"
          ]
        }
      ],
      "source": [
        "ls"
      ]
    },
    {
      "cell_type": "code",
      "execution_count": 11,
      "metadata": {
        "colab": {
          "base_uri": "https://localhost:8080/"
        },
        "id": "EYCtBdyPprE2",
        "outputId": "c022297c-b6b4-4430-930d-ce04c9400478"
      },
      "outputs": [
        {
          "output_type": "stream",
          "name": "stdout",
          "text": [
            "/content/drive/MyDrive/Pytorch NLP/BERT/data_in\n"
          ]
        }
      ],
      "source": [
        "cd drive/MyDrive/Pytorch\\ NLP/BERT/data_in"
      ]
    },
    {
      "cell_type": "code",
      "execution_count": 12,
      "metadata": {
        "colab": {
          "base_uri": "https://localhost:8080/"
        },
        "id": "W2JRlBlFqFI0",
        "outputId": "8bd652d1-63bc-4245-888e-433d846e21b3"
      },
      "outputs": [
        {
          "output_type": "stream",
          "name": "stdout",
          "text": [
            "Downloading data from https://korquad.github.io/dataset/KorQuAD_v1.0_train.json\n",
            "38527475/38527475 [==============================] - 0s 0us/step\n",
            "Downloading data from https://korquad.github.io/dataset/KorQuAD_v1.0_dev.json\n",
            "3881058/3881058 [==============================] - 0s 0us/step\n"
          ]
        }
      ],
      "source": [
        "train_path = keras.utils.get_file(\"train.json\",\"https://korquad.github.io/dataset/KorQuAD_v1.0_train.json\")\n",
        "eval_path = keras.utils.get_file(\"eval.json\",\"https://korquad.github.io/dataset/KorQuAD_v1.0_dev.json\")"
      ]
    },
    {
      "cell_type": "code",
      "execution_count": 13,
      "metadata": {
        "colab": {
          "base_uri": "https://localhost:8080/"
        },
        "id": "gy6kchq81-B9",
        "outputId": "e4a006d3-f51c-4fb2-c900-6ac19d4f825e"
      },
      "outputs": [
        {
          "output_type": "stream",
          "name": "stdout",
          "text": [
            "/root/.keras/datasets/train.json\n"
          ]
        }
      ],
      "source": [
        "print(train_path)"
      ]
    },
    {
      "cell_type": "markdown",
      "metadata": {
        "id": "F5IxzJDS2TTh"
      },
      "source": [
        "## 데이터 분석"
      ]
    },
    {
      "cell_type": "code",
      "execution_count": 14,
      "metadata": {
        "id": "WdWDQA7Q2J3p"
      },
      "outputs": [],
      "source": [
        "train_data = json.load(open(train_path))\n",
        "dev_data = json.load(open(eval_path))"
      ]
    },
    {
      "cell_type": "code",
      "execution_count": null,
      "metadata": {
        "id": "5jm_S3tl273x"
      },
      "outputs": [],
      "source": [
        "from pprint import pprint"
      ]
    },
    {
      "cell_type": "code",
      "execution_count": null,
      "metadata": {
        "colab": {
          "base_uri": "https://localhost:8080/"
        },
        "id": "uC-AdLrc2hE8",
        "outputId": "d2d4f75c-92ed-4205-f045-320996ca227e"
      },
      "outputs": [
        {
          "data": {
            "text/plain": [
              "dict_keys(['version', 'data'])"
            ]
          },
          "execution_count": 33,
          "metadata": {},
          "output_type": "execute_result"
        }
      ],
      "source": [
        "train_data.keys()"
      ]
    },
    {
      "cell_type": "code",
      "execution_count": null,
      "metadata": {
        "colab": {
          "base_uri": "https://localhost:8080/",
          "height": 35
        },
        "id": "D8-8T3iQ3CEW",
        "outputId": "73b4fce9-1b5d-4ab5-81a3-1a67afe8e722"
      },
      "outputs": [
        {
          "data": {
            "application/vnd.google.colaboratory.intrinsic+json": {
              "type": "string"
            },
            "text/plain": [
              "'KorQuAD_v1.0_train'"
            ]
          },
          "execution_count": 35,
          "metadata": {},
          "output_type": "execute_result"
        }
      ],
      "source": [
        "train_data['version']"
      ]
    },
    {
      "cell_type": "code",
      "execution_count": null,
      "metadata": {
        "colab": {
          "base_uri": "https://localhost:8080/"
        },
        "id": "uI0rF4793YeW",
        "outputId": "9875e1e0-4a48-471f-c335-86cf82660ad2"
      },
      "outputs": [
        {
          "data": {
            "text/plain": [
              "1420"
            ]
          },
          "execution_count": 40,
          "metadata": {},
          "output_type": "execute_result"
        }
      ],
      "source": [
        "len(train_data['data'])"
      ]
    },
    {
      "cell_type": "code",
      "execution_count": null,
      "metadata": {
        "colab": {
          "base_uri": "https://localhost:8080/"
        },
        "id": "Nkr1YW1C3h-1",
        "outputId": "f92ba476-b762-47c1-c12b-bdbc21ddb71e"
      },
      "outputs": [
        {
          "name": "stdout",
          "output_type": "stream",
          "text": [
            "{'paragraphs': [{'context': '1839년 바그너는 괴테의 파우스트을 처음 읽고 그 내용에 마음이 끌려 이를 소재로 해서 '\n",
            "                            '하나의 교향곡을 쓰려는 뜻을 갖는다. 이 시기 바그너는 1838년에 빛 독촉으로 '\n",
            "                            '산전수전을 다 걲은 상황이라 좌절과 실망에 가득했으며 메피스토펠레스를 만나는 파우스트의 '\n",
            "                            '심경에 공감했다고 한다. 또한 파리에서 아브네크의 지휘로 파리 음악원 관현악단이 연주하는 '\n",
            "                            '베토벤의 교향곡 9번을 듣고 깊은 감명을 받았는데, 이것이 이듬해 1월에 파우스트의 '\n",
            "                            '서곡으로 쓰여진 이 작품에 조금이라도 영향을 끼쳤으리라는 것은 의심할 여지가 없다. '\n",
            "                            '여기의 라단조 조성의 경우에도 그의 전기에 적혀 있는 것처럼 단순한 정신적 피로나 실의가 '\n",
            "                            '반영된 것이 아니라 베토벤의 합창교향곡 조성의 영향을 받은 것을 볼 수 있다. 그렇게 '\n",
            "                            '교향곡 작곡을 1839년부터 40년에 걸쳐 파리에서 착수했으나 1악장을 쓴 뒤에 '\n",
            "                            '중단했다. 또한 작품의 완성과 동시에 그는 이 서곡(1악장)을 파리 음악원의 연주회에서 '\n",
            "                            '연주할 파트보까지 준비하였으나, 실제로는 이루어지지는 않았다. 결국 초연은 4년 반이 '\n",
            "                            '지난 후에 드레스덴에서 연주되었고 재연도 이루어졌지만, 이후에 그대로 방치되고 말았다. '\n",
            "                            '그 사이에 그는 리엔치와 방황하는 네덜란드인을 완성하고 탄호이저에도 착수하는 등 분주한 '\n",
            "                            '시간을 보냈는데, 그런 바쁜 생활이 이 곡을 잊게 한 것이 아닌가 하는 의견도 있다.',\n",
            "                 'qas': [{'answers': [{'answer_start': 54, 'text': '교향곡'}],\n",
            "                          'id': '6566495-0-0',\n",
            "                          'question': '바그너는 괴테의 파우스트를 읽고 무엇을 쓰고자 했는가?'},\n",
            "                         {'answers': [{'answer_start': 421, 'text': '1악장'}],\n",
            "                          'id': '6566495-0-1',\n",
            "                          'question': '바그너는 교향곡 작곡을 어디까지 쓴 뒤에 중단했는가?'},\n",
            "                         {'answers': [{'answer_start': 194,\n",
            "                                       'text': '베토벤의 교향곡 9번'}],\n",
            "                          'id': '6566495-0-2',\n",
            "                          'question': '바그너가 파우스트 서곡을 쓸 때 어떤 곡의 영향을 받았는가?'},\n",
            "                         {'answers': [{'answer_start': 15, 'text': '파우스트'}],\n",
            "                          'id': '6566518-0-0',\n",
            "                          'question': '1839년 바그너가 교향곡의 소재로 쓰려고 했던 책은?'},\n",
            "                         {'answers': [{'answer_start': 354, 'text': '합창교향곡'}],\n",
            "                          'id': '6566518-0-1',\n",
            "                          'question': '파우스트 서곡의 라단조 조성이 영향을 받은 베토벤의 곡은?'},\n",
            "                         {'answers': [{'answer_start': 0, 'text': '1839'}],\n",
            "                          'id': '5917067-0-0',\n",
            "                          'question': '바그너가 파우스트를 처음으로 읽은 년도는?'},\n",
            "                         {'answers': [{'answer_start': 410, 'text': '파리'}],\n",
            "                          'id': '5917067-0-1',\n",
            "                          'question': '바그너가 처음 교향곡 작곡을 한 장소는?'},\n",
            "                         {'answers': [{'answer_start': 534, 'text': '드레스덴'}],\n",
            "                          'id': '5917067-0-2',\n",
            "                          'question': '바그너의 1악장의 초연은 어디서 연주되었는가?'}]},\n",
            "                {'context': '한편 1840년부터 바그너와 알고 지내던 리스트가 잊혀져 있던 1악장을 부활시켜 '\n",
            "                            '1852년에 바이마르에서 연주했다. 이것을 계기로 바그너도 이 작품에 다시 관심을 갖게 '\n",
            "                            '되었고, 그 해 9월에는 총보의 반환을 요구하여 이를 서곡으로 간추린 다음 수정을 했고 '\n",
            "                            '브라이트코프흐 & 헤르텔 출판사에서 출판할 개정판도 준비했다. 1853년 5월에는 '\n",
            "                            '리스트가 이 작품이 수정되었다는 것을 인정했지만, 끝내 바그너의 출판 계획은 무산되고 '\n",
            "                            '말았다. 이후 1855년에 리스트가 자신의 작품 파우스트 교향곡을 거의 완성하여 그 '\n",
            "                            '사실을 바그너에게 알렸고, 바그너는 다시 개정된 총보를 리스트에게 보내고 브라이트코프흐 '\n",
            "                            '& 헤르텔 출판사에는 20루이의 금을 받고 팔았다. 또한 그의 작품을 “하나하나의 음표가 '\n",
            "                            '시인의 피로 쓰여졌다”며 극찬했던 한스 폰 뷜로가 그것을 피아노 독주용으로 편곡했는데, '\n",
            "                            '리스트는 그것을 약간 변형되었을 뿐이라고 지적했다. 이 서곡의 총보 첫머리에는 파우스트 '\n",
            "                            '1부의 내용 중 한 구절을 인용하고 있다.',\n",
            "                 'qas': [{'answers': [{'answer_start': 402, 'text': '한스 폰 뷜로'}],\n",
            "                          'id': '6566495-1-0',\n",
            "                          'question': '바그너의 작품을 시인의 피로 쓰여졌다고 극찬한 것은 누구인가?'},\n",
            "                         {'answers': [{'answer_start': 23, 'text': '리스트'}],\n",
            "                          'id': '6566495-1-1',\n",
            "                          'question': '잊혀져 있는 파우스트 서곡 1악장을 부활시킨 것은 누구인가?'},\n",
            "                         {'answers': [{'answer_start': 345, 'text': '20루이의 금'}],\n",
            "                          'id': '6566495-1-2',\n",
            "                          'question': '바그너는 다시 개정된 총보를 얼마를 받고 팔았는가?'},\n",
            "                         {'answers': [{'answer_start': 23, 'text': '리스트'}],\n",
            "                          'id': '6566518-1-0',\n",
            "                          'question': '파우스트 교향곡을 부활시킨 사람은?'},\n",
            "                         {'answers': [{'answer_start': 402, 'text': '한스 폰 뷜로'}],\n",
            "                          'id': '6566518-1-1',\n",
            "                          'question': '파우스트 교향곡을 피아노 독주용으로 편곡한 사람은?'},\n",
            "                         {'answers': [{'answer_start': 23, 'text': '리스트'}],\n",
            "                          'id': '5917067-1-0',\n",
            "                          'question': '1악장을 부활시켜 연주한 사람은?'},\n",
            "                         {'answers': [{'answer_start': 402, 'text': '한스 폰 뷜로'}],\n",
            "                          'id': '5917067-1-1',\n",
            "                          'question': '파우스트 교향곡에 감탄하여 피아노곡으로 편곡한 사람은?'},\n",
            "                         {'answers': [{'answer_start': 3, 'text': '1840년'}],\n",
            "                          'id': '5917067-1-2',\n",
            "                          'question': '리스트가 바그너와 알게 된 연도는?'}]},\n",
            "                {'context': '이 작품은 라단조, Sehr gehalten(아주 신중하게), 4/4박자의 부드러운 '\n",
            "                            '서주로 서주로 시작되는데, 여기에는 주요 주제, 동기의 대부분이 암시, 예고되어 있다. '\n",
            "                            '첫 부분의 저음 주제는 주요 주제(고뇌와 갈망 동기, 청춘의 사랑 동기)를 암시하고 '\n",
            "                            '있으며, 제1바이올린으로 더욱 명확하게 나타난다. 또한 그것을 이어받는 동기도 중요한 '\n",
            "                            '역할을 한다. 여기에 새로운 소재가 더해진 뒤에 새로운 주제도 연주된다. 주요부는 '\n",
            "                            'Sehr bewegt(아주 격동적으로), 2/2박자의 자유로운 소나타 형식으로 매우 '\n",
            "                            '드라마틱한 구상과 유기적인 구성을 하고 있다. 여기에는 지금까지의 주제나 소재 외에도 '\n",
            "                            '오보에에 의한 선율과 제2주제를 떠올리게 하는 부차적인 주제가 더해지는데, 중간부에서는 '\n",
            "                            '약보3이 중심이 되고 제2주제는 축소된 재현부에서 D장조로 재현된다. 마지막에는 주요 '\n",
            "                            '주제를 회상하면서 조용히 마친다.',\n",
            "                 'qas': [{'answers': [{'answer_start': 70, 'text': '주제, 동기'}],\n",
            "                          'id': '6566495-2-0',\n",
            "                          'question': '서주에는 무엇이 암시되어 있는가?'},\n",
            "                         {'answers': [{'answer_start': 148, 'text': '제1바이올린'}],\n",
            "                          'id': '6566495-2-1',\n",
            "                          'question': '첫부분에는 어떤 악기를 사용해 더욱 명확하게 나타내는가?'},\n",
            "                         {'answers': [{'answer_start': 272, 'text': '소나타 형식'}],\n",
            "                          'id': '6566495-2-2',\n",
            "                          'question': '주요부는 어떤 형식으로 되어 있는가?'},\n",
            "                         {'answers': [{'answer_start': 102, 'text': '저음 주제'}],\n",
            "                          'id': '6566518-2-0',\n",
            "                          'question': '첫 부분의 주요주제를 암시하는 주제는?'},\n",
            "                         {'answers': [{'answer_start': 409, 'text': 'D장조'}],\n",
            "                          'id': '6566518-2-1',\n",
            "                          'question': '제2주제의 축소된 재현부의 조성은?'},\n",
            "                         {'answers': [{'answer_start': 35, 'text': '4/4박자'}],\n",
            "                          'id': '5917067-2-0',\n",
            "                          'question': '곡이 시작할때의 박자는?'},\n",
            "                         {'answers': [{'answer_start': 115,\n",
            "                                       'text': '고뇌와 갈망 동기, 청춘의 사랑 동기'}],\n",
            "                          'id': '5917067-2-1',\n",
            "                          'question': '이 곡의 주요 주제는?'},\n",
            "                         {'answers': [{'answer_start': 409, 'text': 'D장조'}],\n",
            "                          'id': '5917067-2-2',\n",
            "                          'question': '제 2주제에선 무슨 장조로 재현되는가?'}]}],\n",
            " 'title': '파우스트_서곡'}\n"
          ]
        }
      ],
      "source": [
        "pprint(train_data['data'][0])"
      ]
    },
    {
      "cell_type": "markdown",
      "metadata": {
        "id": "6fOMITF55eZs"
      },
      "source": [
        "### context 길이 분석"
      ]
    },
    {
      "cell_type": "code",
      "execution_count": null,
      "metadata": {
        "colab": {
          "base_uri": "https://localhost:8080/"
        },
        "id": "nkd4lJf832lR",
        "outputId": "c341e7ee-8fc5-4d37-ecd9-ea51838cfaa9"
      },
      "outputs": [
        {
          "output_type": "stream",
          "name": "stdout",
          "text": [
            "9681\n"
          ]
        }
      ],
      "source": [
        "total_context=[]\n",
        "\n",
        "for data in train_data['data']:\n",
        "  total_context+=[p['context'] for p in data['paragraphs']]\n",
        "\n",
        "print(len(total_context))"
      ]
    },
    {
      "cell_type": "code",
      "execution_count": null,
      "metadata": {
        "colab": {
          "base_uri": "https://localhost:8080/"
        },
        "id": "lqZt4mxu9vf7",
        "outputId": "40d69bd1-4337-4627-cc8a-14a1091a2908"
      },
      "outputs": [
        {
          "data": {
            "text/plain": [
              "Encoding(num_tokens=7, attributes=[ids, type_ids, tokens, offsets, attention_mask, special_tokens_mask, overflowing])"
            ]
          },
          "execution_count": 64,
          "metadata": {},
          "output_type": "execute_result"
        }
      ],
      "source": [
        "tokenizer.encode('안녕 나는 사람이야')"
      ]
    },
    {
      "cell_type": "code",
      "source": [
        "len(tokenizer.encode('안녕 나는 사람이야'))"
      ],
      "metadata": {
        "colab": {
          "base_uri": "https://localhost:8080/"
        },
        "id": "BK_HDExeJfa0",
        "outputId": "6c0034eb-abf9-4c56-a736-d1b526aa1e67"
      },
      "execution_count": null,
      "outputs": [
        {
          "output_type": "execute_result",
          "data": {
            "text/plain": [
              "7"
            ]
          },
          "metadata": {},
          "execution_count": 19
        }
      ]
    },
    {
      "cell_type": "code",
      "source": [
        "tokenizer.encode('안녕 나는 사람이야').ids"
      ],
      "metadata": {
        "colab": {
          "base_uri": "https://localhost:8080/"
        },
        "id": "uVMO5cshQ-RQ",
        "outputId": "a816c858-52cc-4d94-ee96-a04613c00fbc"
      },
      "execution_count": null,
      "outputs": [
        {
          "output_type": "execute_result",
          "data": {
            "text/plain": [
              "[101, 9521, 118741, 100585, 97802, 21711, 102]"
            ]
          },
          "metadata": {},
          "execution_count": 21
        }
      ]
    },
    {
      "cell_type": "code",
      "execution_count": null,
      "metadata": {
        "colab": {
          "base_uri": "https://localhost:8080/"
        },
        "id": "3VfQvCbA9yuS",
        "outputId": "60707e6a-d4d6-4ba9-8c9f-2f37d6212225"
      },
      "outputs": [
        {
          "data": {
            "text/plain": [
              "['[CLS]', '안', '##녕', '나는', '사람이', '##야', '[SEP]']"
            ]
          },
          "execution_count": 65,
          "metadata": {},
          "output_type": "execute_result"
        }
      ],
      "source": [
        "tokenizer.encode('안녕 나는 사람이야').tokens"
      ]
    },
    {
      "cell_type": "code",
      "execution_count": null,
      "metadata": {
        "id": "0m_C2nif9ULH"
      },
      "outputs": [],
      "source": [
        "context_len=[]\n",
        "\n",
        "for c in total_context:\n",
        "  context_len.append(len(tokenizer.encode(c,add_special_tokens=False)))"
      ]
    },
    {
      "cell_type": "code",
      "execution_count": null,
      "metadata": {
        "id": "cC7sLMFUKt-7"
      },
      "outputs": [],
      "source": [
        "import numpy as np"
      ]
    },
    {
      "cell_type": "code",
      "execution_count": null,
      "metadata": {
        "colab": {
          "base_uri": "https://localhost:8080/"
        },
        "id": "ms7jFwLXKs1U",
        "outputId": "12adbe50-8c5a-4273-d5cd-e694cacf40ad"
      },
      "outputs": [
        {
          "output_type": "stream",
          "name": "stdout",
          "text": [
            "최대 길이 : 6367\n",
            "최소 길이 : 120\n",
            "평균 길이 : 311.88\n",
            "중간 길이 : 279.00\n",
            "1사분위 길이 : 239.0\n",
            "3사분위 길이 : 344.0\n"
          ]
        }
      ],
      "source": [
        "# 통계값\n",
        "\n",
        "print('최대 길이 : {}'.format(np.max(context_len)))\n",
        "print('최소 길이 : {}'.format(np.min(context_len)))\n",
        "print('평균 길이 : {:.2f}'.format(np.mean(context_len)))\n",
        "print('중간 길이 : {:.2f}'.format(np.median(context_len)))\n",
        "print('1사분위 길이 : {}'.format(np.percentile(context_len,25)))\n",
        "print('3사분위 길이 : {}'.format(np.percentile(context_len,75)))"
      ]
    },
    {
      "cell_type": "code",
      "execution_count": null,
      "metadata": {
        "id": "zEPeU_70EqHt"
      },
      "outputs": [],
      "source": [
        "import matplotlib.pyplot as plt"
      ]
    },
    {
      "cell_type": "code",
      "execution_count": null,
      "metadata": {
        "colab": {
          "base_uri": "https://localhost:8080/",
          "height": 505
        },
        "id": "1QVwHfFmEtPH",
        "outputId": "f7a8bbb4-bfa3-4e03-ab2d-006ef9909f0d"
      },
      "outputs": [
        {
          "data": {
            "text/plain": [
              "Text(0, 0.5, 'Probability')"
            ]
          },
          "execution_count": 78,
          "metadata": {},
          "output_type": "execute_result"
        },
        {
          "data": {
            "image/png": "[encoded data removed]",
            "text/plain": [
              "<Figure size 1000x500 with 1 Axes>"
            ]
          },
          "metadata": {},
          "output_type": "display_data"
        }
      ],
      "source": [
        "plt.figure(figsize=(10,5))\n",
        "\n",
        "plt.hist(context_len,bins=150,range=[0,1000],color='r',density=True)\n",
        "\n",
        "plt.title('Distribution of BERT Tokenizer token count in paragraph')\n",
        "plt.xlabel('Nuumber of Tokens')\n",
        "plt.ylabel('Probability')"
      ]
    },
    {
      "cell_type": "code",
      "execution_count": null,
      "metadata": {
        "colab": {
          "base_uri": "https://localhost:8080/",
          "height": 430
        },
        "id": "7uS39W4vE1qU",
        "outputId": "dd4699ab-331d-41b7-e102-8189022ea46f"
      },
      "outputs": [
        {
          "data": {
            "image/png": "[encoded data removed]",
            "text/plain": [
              "<Figure size 640x480 with 1 Axes>"
            ]
          },
          "metadata": {},
          "output_type": "display_data"
        }
      ],
      "source": [
        "filtered_context_len = [len for len in context_len if len<3000]\n",
        "plt.boxplot(filtered_context_len,labels=['tokens'],showmeans=True)\n",
        "plt.show()"
      ]
    },
    {
      "cell_type": "markdown",
      "metadata": {
        "id": "p2DJSw4pLvwQ"
      },
      "source": [
        "### question 길이 분석"
      ]
    },
    {
      "cell_type": "code",
      "execution_count": null,
      "metadata": {
        "colab": {
          "base_uri": "https://localhost:8080/"
        },
        "id": "im01jxQLLV7D",
        "outputId": "65f3543b-1f4f-4124-b91f-84dae4203d90"
      },
      "outputs": [
        {
          "name": "stdout",
          "output_type": "stream",
          "text": [
            "60407\n"
          ]
        }
      ],
      "source": [
        "total_question=[]\n",
        "\n",
        "for data in train_data['data']:\n",
        "  qas = [p['qas'] for p in data['paragraphs']]\n",
        "\n",
        "  for c in qas:\n",
        "    total_question+=[q['question'] for q in c]\n",
        "\n",
        "print(len(total_question))"
      ]
    },
    {
      "cell_type": "code",
      "execution_count": null,
      "metadata": {
        "id": "3ftK2k6vPp7N"
      },
      "outputs": [],
      "source": [
        "question_len=[]\n",
        "\n",
        "for q in total_question:\n",
        "  question_len.append(len(tokenizer.encode(q,add_special_tokens=False)))"
      ]
    },
    {
      "cell_type": "code",
      "execution_count": null,
      "metadata": {
        "colab": {
          "base_uri": "https://localhost:8080/"
        },
        "id": "jKGSD1NLPczD",
        "outputId": "95e7f2a7-4841-4583-b84f-06b8659352c9"
      },
      "outputs": [
        {
          "name": "stdout",
          "output_type": "stream",
          "text": [
            "최대 길이 : 91\n",
            "최소 길이 : 4\n",
            "평균 길이 : 22.07\n",
            "중간 길이 : 21.00\n",
            "1사분위 길이 : 16.0\n",
            "3사분위 길이 : 27.0\n"
          ]
        }
      ],
      "source": [
        "# 통계값\n",
        "\n",
        "print('최대 길이 : {}'.format(np.max(question_len)))\n",
        "print('최소 길이 : {}'.format(np.min(question_len)))\n",
        "print('평균 길이 : {:.2f}'.format(np.mean(question_len)))\n",
        "print('중간 길이 : {:.2f}'.format(np.median(question_len)))\n",
        "print('1사분위 길이 : {}'.format(np.percentile(question_len,25)))\n",
        "print('3사분위 길이 : {}'.format(np.percentile(question_len,75)))"
      ]
    },
    {
      "cell_type": "code",
      "execution_count": null,
      "metadata": {
        "colab": {
          "base_uri": "https://localhost:8080/",
          "height": 505
        },
        "id": "HJEJdaojPfsy",
        "outputId": "db949320-594f-4ce5-a39a-718b9cfa52e6"
      },
      "outputs": [
        {
          "data": {
            "text/plain": [
              "Text(0, 0.5, 'Probability')"
            ]
          },
          "execution_count": 92,
          "metadata": {},
          "output_type": "execute_result"
        },
        {
          "data": {
            "image/png": "[encoded data removed]",
            "text/plain": [
              "<Figure size 1000x500 with 1 Axes>"
            ]
          },
          "metadata": {},
          "output_type": "display_data"
        }
      ],
      "source": [
        "plt.figure(figsize=(10,5))\n",
        "\n",
        "plt.hist(question_len,bins=50,range=[0,50],color='r',density=True)\n",
        "\n",
        "plt.title('Distribution of BERT Tokenizer token count in question')\n",
        "plt.xlabel('Nuumber of Tokens')\n",
        "plt.ylabel('Probability')"
      ]
    },
    {
      "cell_type": "markdown",
      "metadata": {
        "id": "tbHKPx5LQZ3G"
      },
      "source": [
        "context 3사분위 값 : 350정도\\\n",
        "question 3사분위 값 : 30 정도\\\n",
        "=> 최종 MAX_LEN : 384 설정"
      ]
    },
    {
      "cell_type": "markdown",
      "metadata": {
        "id": "A_5a6DCfQlPt"
      },
      "source": [
        "# 전처리"
      ]
    },
    {
      "cell_type": "markdown",
      "metadata": {
        "id": "0n-hnTnylYbI"
      },
      "source": [
        "![image.png](data:image/png;base64,iVBORw0KGgoAAAANSUhEUgAAAhcAAABjCAYAAAAo9SK2AAASZ0lEQVR4Ae2dUY7kNBPH+whIICQQDyuthASCpz0AHGD3ZSQe4P37rgEazSU4wOwBOMTwwi3QaI8RVE6ctp2UZ9rldjrOD2m03alO2fn9y65/p3uY08B/EIAABCAAAQhAoCKBU8VcpIIABCAAAQhAAAID5oIigAAEIAABCECgKgHMRVWcJIMABCAAAQhAAHNBDUAAAhCAAAQgUJUA5qIqTpJBAAIQgAAEIIC5oAYgAAEIQAACEKhKAHNRFSfJIAABCEAAAhDAXFADEIAABCAAAQhUJYC5qIqTZBCAAAQgAAEIYC6oAQhAAAIQgAAEqhLAXFTFSTIIQAACEIAABDAX1AAEIAABCEAAAlUJVDcXz8/PAz/bM6haJVOyXnQtYdPLtfd0HSU6cg4EINCGQHVz8c8//wyn04mfjRlco3z+/PPP3ev67t27IjTU9G2t6VIdi8TnJAhA4GICVzMXPb1D2tO1eHN3cSW84gQxF7Kp74lHOFc//1dc6uIlYi6EbZiPx9vcobPouBCWAxCAwFUIXM1cXGW2JH2RQAtz8eIkbvQFlqbkzcWNXtqhpmXR8VCguFgIbEgAc7Eh/GsMjbnQqVqaEuZC59o6YtGx9VwZDwJHJYC56Ex5zIUuqKUpYS50rq0jFh1bz5XxIHBUApiLzpTHXOiCWpoS5kLn2jpi0bH1XBkPAkclgLnoTHnMhS6opSlhLnSurSMWHVvPlfEgcFQCmIvOlMdc6IJamhLmQufaOmLRsfVcGQ8CRyWAuehMecyFLqilKWEudK6tIxYdW8+V8SBwVAKYi86Ux1zoglqaEuZC59o6YtGx9VwZDwJHJYC56Ex5zIUuqKUpYS50rq0jFh1bz5XxIHBUApiLzpTHXOiCWpoS5kLn2jpi0bH1XBkPAkclgLnoTHnMhS6opSlhLnSurSMWHVvPlfEgcFQCmIvOlMdc6IJamhLmQufaOmLRsfVcGQ8CRyWAuehMecyFLqilKWEudK6tIxYdW8+V8SBwVAKYi86Ux1zoglqaEuZC59o6YtGx9VwZDwJHJYC56Ex5zIUuqKUpYS50rq0jFh1bz5XxIHBUApiLzpTHXOiCWpoS5kLn2jpSquPz8/PAT10GpdqjQ10drDxLdcydh7nI0dlhDHOhi1balCQj5kLn2jpSquNff/3ldBQt+bEz+PDhQ7H0X3/9NRrcSB1adMwVAOYiR2eHMcyFLlppU5KMmAuda+tIqY5iLqSpWd/lcf7z8McffwyWpiQ6iB6w3PYOhlXH3NrHXOTo7DCGudBFK21KkhFzoXNtHSnV0ZuL1vPtcTxrU/Lmokc2e7omq465a8Vc5OjsMIa50EUrbUqSEXOhc20dKdURc1FPKWtTwlzU08KSyapjbmzMRY7ODmOYC1200qYkGTEXOtfWkVIdMRf1lLI2JcxFPS0smaw65sbGXOTo7DCGudBFK21KkhFzoXNtHSnVEXNRTylrU8Jc1NPCksmqY25szEWOzg5jmAtdtNKmJBkxFzrX1pFSHTEX9ZSyNiXMRT0tLJmsOubGxlzk6OwwhrnQRSttSpIRc6FzbR0p1RFzUU8pa1PCXNTTwpLJqmNubMxFjs4OY5gLXbTSpiQZMRc619aRUh0xF/WUsjYlzEU9LSyZrDrmxsZc5OjsMIa50EUrbUqSEXOhc20dKdURc1FPKWtTwlzU08KSyapjbmzMRY7ODmOYC1200qYkGTEXOtfWkVIdMRf1lLI2JcxFPS0smaw65sbGXOTo7DCGudBFK21KkhFzoXNtHSnVEXNRTylrU8Jc1NPCksmqY25szEWOzg5jmAtdtNKmJBkxFzrX1pFSHTEX9ZSyNiXMRT0tLJmsOubGxlys0fn7YTj98jh8WotdfOxpeDjdDY//Xnxi0Qm7MRf/Pg53GS6fPt5V1GBEWdqU5OxuzUVS69fgXlTImZNKddzUXCScM5f3ilDbPWVtQtamhLlYoyrHKmh7Qa1ZddSuQo5jLtboXCDO2unxsQrFEifMPtuNuchexTBco8mVNiWZ6lHMxQuy3ES4VEfMRT35rE0Jc6FpUaFfXNC/rDpqVyHHd20unu7DPxv8MDyFVyqA5z9pG985cI3r/nF4/OV8/t3H6T5FdF6QMzp+Gh7+9oNJMZyG030wunutjDnFpnmcz/Hn1v/Xmwspmto/8lcQf/zxxzqTXty5CFndDQ/317lz8ebNmyIu1zYXYS3ffXxytenrZWm0RlY+7gRR61OiIdugVqNzxlrXxvJraV4nktZp+DA8yl0mv9aq3fHTy0zMxdu3by/W8bfffhu+/PJLPfG1Iiuc3VDR8dvdU9awyN7y/fffX6yB35M+//xz91dR13Kfj32K9mipsbD+ZM3cfXwc99+1PdbVp7bHB3v7tD7C9STr4DyWsn5kojLGL4/Do+9FYR84X0jySMsXH5/nk9TJ6RTMPR3/f/8/r8XwdckM/FPRw/LXbX2etX93ay7STTB67sQIDEXy3L32FCzmJD7I83CTdPFE0PCWvitiP95YIHNh1LjNtaaccsybi59++mmo/fPtt98O3333nTLyhYdXmM2L2cVOsQYXpl97uTQlaS4lXK5pLsZ6PNeXNxq+hqLadheW1Fi2PscNemY7JM+TWo/HGsc5n5s89zrNG2oSXxOhwjHR8ZtvvrlYxx9++GH44osvKsygIEXC2e0x4eYfrQdv3G5jT1m7WmlKX3311cUa+LX32WefvWAuJmMx19Z0NzPYd8d14hn5uF9HyRqJDITEzueNWoTGRcb28TRPsn6mNXBeI2u0wmPJ+el6TPuFW9t+LpJnnM/8ZnZt/LTWwuGTx5iLBIgH7DffOJyKN0ZdIU6FGm+gEk8KKBJnzJeO5XIEhe/yewcbHB9zh8URz7b2M28uaueVfKW3o1fnEm6mbgH5TWF89VKj1SwXHbTM/3rmYqVepw3D19ySRVivL9XnSv6QWlTr8cdRy3GHIWqKoYZTznCdhcPUfFyq4+18LPKSZiOtW9lT1rSzNqWij0WSelvUWhQP18jyCuRcbwikzu/uH9wdCHf/WvJMby7dGoj2c2/8pv0qGnM5zvLIC+sxNRfLBEN03WvjJ2t6JcV8yKrjnGjlwT7vXKwBnS9uvajCIllumsk5kThjbL7t62//yr9R0fnXxU0SczELEz8INFzqMTWx8O5RfHbRs9KmJINdz1wkteeuLG4+Sz7hOb7uzrd/51r19enM2xRPmUa1HpuLaBPzxJ1u+sa6eo4/t9K/pTrejrl4hWaOlX/dtnvKmmzWpnSJuXA1Ne+75zdqi1oL9hSZs1s3/jy/FqaLcTF3TNaa5BTWI2eJeeMRjx2uMX0NrPGKjuXWo2Yu3LUF4/vrSa7ZjZOs6Wjs5IlVxyRd9BRz4XCMi9i/U4w/FkliEb7wid8IzsU/RuV4eiw8r+7jPd65WDZPzIV8H8jX45JPWJPh4xdqKdyg/OaUbEThWIvNW9K7HPrGunrOC9O6NNyLufD66td/G3vK2vysTek15mJu7N4QJ410UWtJfJ530My9aTjXsTAe61nyiSZP9+f9ejHGnHR6oI2Zvm7tuTt3Mgx+PabmIniNr5doTmvjJ2t6bWh/zKqjz7P27z7NRfoxRnRl67edQkHCDXQ8NdmgI3HW80VDygcr8oWe+6fxX78Y3Isk97lY0/NqP/fm4ueffx5q/1ztOxdu8U8NawKy1MhOSpqSfOeihMv17lys1Vdcj0sWYXzt/BdYhbyjWo/vXCzHvZ2PReQ7F5fqKF9Gvo3vXLxOs1vZU9aqSZqSfOfiUg3861/+zsXKvpk0Us9nnl8Sn49PD+J6Fg3uhsePD/MdaIm7L4gG+3d8TprRm23j/h6ux8RcuPFn4zGOH1332jUna3pl1vMhzMWM4vxgIXookHscCJ48X5ybmpVUnOT8If0Sjov75jhu/LNDTorlfAXXeeTNxe+//z7U/nn//v2Vflsk2WzdgrnOFzrlt0VKuFzPXCQN2xvVzBeOXf1m4nF9Jmx9fr9hJbUer421Wj5/Vj2++wvWWZr7OiXuvvsjvy1yqY6//vrrNr8tIhwSzuN3V0J2iU43tKesyShNSX5b5FIN/Otf/m2R0EDLDMbnp+CNWtRk5SVRo03PT/j6Wg1/A8UxD+rbXXi6BmIDHo+5Rio9pszDr8ekX8TrMfiox78+uuZprLTW0ikEzzEXAYzwoSsu/5laUHTuNVOhjJ8/h4s4KQ734rQQl4XsN3T/efZsHqZGOD+XfG7s85h+ntFrwgup+Nibi4op51Slt6PnBOGDxaLwzOU24fTrjcE7iPDU0seW+V/VXCw+H35wv17nb4PK9foaknmkv6oqcbU+JTjVqK/d6Dehkk073czOm/p4+zaq4YWG5zt4pRq95rxSHTf9zkXCOavZje0pa5pYm9JrPhYZ91H/PQPZT+NGnzcXfh/256ffkfPx8z7taz1cd+7ac+tnZQ2s8YqO5fIFa31ca6MZmdfu/dO01vWPJv11hEYsGj94YtUxSLV4uNOPRRbXwYGJwG7MxQaKlTYlmeq1zUWMIzW7cfToz0p13NZc9KWatSm9ylz0hewmr8aqY+6iMBc5OjuMYS500UqbkmTEXOhcW0dKdcRc1FPK2pQwF/W0sGSy6pgbG3ORo7PDGOZCF620KUlGzIXOtXWkVEfMRT2lrE2pV3MRfnw5f5Qxf3Sffp+jnh6lmaw65sbFXOTo7DCGudBFK21KkrGtudCvgUj5/8wNc1GveqxNqVdzUY9wm0xWHXOzxFzk6OwwhrnQRcNc6Gz2FCnVEXNRT2VrU8Jc1NPCksmqY25szEWOzg5jmAtdtNKmJBm5c6FzbR0p1RFzUU8pa1PCXNTTwpLJqmNubMxFjs4OY5gLXbTSpiQZMRc619aRUh0xF/WUsjYlzEU9LSyZrDrmxsZc5OjsMIa50EUrbUqSEXOhc20dKdURc1FPKWtTwlzU08KSyapjbmzMRY7ODmOYC1200qYkGTEXOtfWkVIdMRf1lLI2JcxFPS0smaw65sbGXOTo7DCGudBFK21KkhFzoXNtHSnVEXNRTylrU8Jc1NPCksmqY25szEWOzg5jmAtdtNKmJBkxFzrX1pFSHTEX9ZSyNiXMRT0tLJmsOubGxlzk6OwwhrnQRSttSpIRc6FzbR0p1RFzUU8pa1PCXNTTwpLJqmNubMxFjs4OY5gLXbTSpiQZMRc619aRUh29uXh+fh74sTGwNiVvLtDBpoOVn1XH3NrHXOTo7DCGudBFK21KkhFzoXNtHSnVUcyF6MhPHQYfPnwoll7MBTrU0cHK0aJjrgAwFzk6O4xhLnTRSpuSZJQFLGz5b3sCpTpa3+Vx/vJddmk1wHLJcksmpTrmzsNc5OjsMIa50EUrbUqSEXOhc20dsejYeq6MB4GjEsBcdKY85kIX1NKUMBc619YRi46t58p4EDgqAcxFZ8pjLnRBLU0Jc6FzbR2x6Nh6rowHgaMSwFx0pjzmQhfU0pQwFzrX1hGLjq3nyngQOCoBzEVnymMudEEtTQlzoXNtHbHo2HqujAeBoxLAXHSmPOZCF9TSlDAXOtfWEYuOrefKeBA4KgHMRWfKYy50QS1NCXOhc20dsejYeq6MB4GjEsBcdKY85kIX1NKUMBc619YRi46t58p4EDgqAcxFZ8pjLnRBLU0Jc6FzbR2x6Nh6rowHgaMSwFx0pjzmQhfU0pQwFzrX1hGLjq3nyngQOCoBzEVnymMudEEtTQlzoXNtHbHo2HqujAeBoxLAXHSmPOZCF9TSlDAXOtfWEYuOrefKeBA4KgHMRWfKYy50QS1NCXOhc20dsejYeq6MB4GjEsBcdKY85kIX1NKUMBc619YRi46t58p4EDgqAcxFZ8pjLnRBLU0Jc6FzbR2x6Nh6rowHgaMSuJq52PJv0x957BbmYq98LU3Jm4u9XntP87boeNSNnuuGQGsCVzMXshnzsx2DaxSSbOp71/Tdu3dFaPZ+3b3Nv1THIvE5CQIQuJhAdXPR0zukPV/LxZXwihP2zCOc+ysudfGS8HwePw+3wGAhEgcgAIGbIVDdXNzMlTERCEAAAhCAAAQ2IYC52AQ7g0IAAhCAAAT6JYC56FdbrgwCEIAABCCwCQHMxSbYGRQCEIAABCDQLwHMRb/acmUQgAAEIACBTQhgLjbBzqAQgAAEIACBfglgLvrVliuDAAQgAAEIbEIAc7EJdgaFAAQgAAEI9EsAc9GvtlwZBCAAAQhAYBMCmItNsDMoBCAAAQhAoF8CmIt+teXKIAABCEAAApsQ+A8i1uNSFL0VRgAAAABJRU5ErkJggg==)"
      ]
    },
    {
      "cell_type": "code",
      "source": [
        "import torch"
      ],
      "metadata": {
        "id": "BcycEZOe98Y5"
      },
      "execution_count": 15,
      "outputs": []
    },
    {
      "cell_type": "code",
      "execution_count": 16,
      "metadata": {
        "id": "959k7lk3mJVX"
      },
      "outputs": [],
      "source": [
        "# hyperparameters\n",
        "\n",
        "MAX_LEN = 384\n",
        "BATCH_SIZE = 16\n",
        "EPOCHS = 3\n",
        "device = 'cuda' if torch.cuda.is_available() else 'cpu'"
      ]
    },
    {
      "cell_type": "code",
      "execution_count": 17,
      "metadata": {
        "id": "3Vh40NYmP8H3"
      },
      "outputs": [],
      "source": [
        "class SquadExample:\n",
        "  def __init__(self,context,question,text,start_id):\n",
        "    self.context = context\n",
        "    self.question = question\n",
        "    self.text = text # answer\n",
        "    self.start_id = start_id\n",
        "    self.skip = False\n",
        "\n",
        "  def preprocess(self):\n",
        "    context = self.context\n",
        "    question = self.question\n",
        "    text = self.text\n",
        "    start_id = self.start_id\n",
        "\n",
        "    #### Clean text\n",
        "    context = ' '.join(context.split())\n",
        "    question = ' '.join(question.split())\n",
        "    text = ' '.join(text.split())\n",
        "\n",
        "    #### Where is the answer in the context\n",
        "    end_id = start_id+len(text) # end_id : end index of answer + 1\n",
        "\n",
        "    if end_id>=len(context): # Ignore the case where the answer have a punctuation by excluding end index of context\n",
        "      self.skip=True\n",
        "      return\n",
        "\n",
        "    context_ans_id = [0]*len(context)\n",
        "    for i in range(start_id,end_id):\n",
        "      context_ans_id[i]=1 # context_ans_id : list with 1s in the positions corresponding to the answers and 0s in the other positions.\n",
        "\n",
        "    #### Where is answer in the context tokenized by WordPiecetokenizer\n",
        "    answer_ids=[] # list with index of answer in the tokenized context\n",
        "    tokenized_context = tokenizer.encode(context).ids\n",
        "    for i ,(start,end) in enumerate(tokenizer.encode(context).offsets):\n",
        "      if sum(context_ans_id[start:end])>0:\n",
        "        answer_ids.append(i)\n",
        "\n",
        "    if len(answer_ids)==0: # Ignore the case where the context dosn't have a answer\n",
        "      self.skip=True\n",
        "      return\n",
        "\n",
        "\n",
        "    #### Complete BERT Input with padding\n",
        "    tokenized_question=tokenizer.encode(question).ids\n",
        "\n",
        "    input_ids = tokenized_context+tokenized_question[1:] # Omit [CLS] in the tokenized_question\n",
        "    attention_mask = [1]*len(input_ids)\n",
        "    token_type_ids = [1]*len(tokenized_context)+[0]*len(tokenized_question[1:])\n",
        "\n",
        "    padding_len = MAX_LEN - len(input_ids)\n",
        "\n",
        "    if padding_len > 0:\n",
        "      input_ids = input_ids + [0]*padding_len\n",
        "      attention_mask = attention_mask + [0]*padding_len\n",
        "      token_type_ids = token_type_ids + [0]*padding_len\n",
        "    elif padding_len < 0: # Ignore the case where the length of context+question is too long.\n",
        "      self.skip=True\n",
        "      return\n",
        "\n",
        "    self.input_ids = input_ids\n",
        "    self.attention_mask = attention_mask\n",
        "    self.token_type_ids = token_type_ids\n",
        "    self.start_id = answer_ids[0]\n",
        "    self.end_id = answer_ids[-1]\n",
        "    self.offsets = tokenizer.encode(context).offsets"
      ]
    },
    {
      "cell_type": "code",
      "execution_count": 18,
      "metadata": {
        "id": "Td7Tk87V_6em"
      },
      "outputs": [],
      "source": [
        "def create_squad_example(raw_data):\n",
        "  squad_example=[]\n",
        "\n",
        "  for data in raw_data['data']:\n",
        "    for para in data['paragraphs']:\n",
        "      context = para['context']\n",
        "      for qas in para['qas']:\n",
        "        question = qas['question']\n",
        "        text = qas['answers'][0]['text']\n",
        "        answer_start = qas['answers'][0]['answer_start']\n",
        "        sample = SquadExample(context,question,text,answer_start)\n",
        "        sample.preprocess()\n",
        "        squad_example.append(sample)\n",
        "\n",
        "  return squad_example"
      ]
    },
    {
      "cell_type": "code",
      "execution_count": null,
      "metadata": {
        "id": "cdRoxPPipwIp"
      },
      "outputs": [],
      "source": [
        "squad_example=create_squad_example(train_data)"
      ]
    },
    {
      "cell_type": "code",
      "execution_count": null,
      "metadata": {
        "id": "D8XEKnZxr06q"
      },
      "outputs": [],
      "source": [
        "squad_example[10].input_ids"
      ]
    },
    {
      "cell_type": "code",
      "source": [
        "import torch"
      ],
      "metadata": {
        "id": "i-Lp1CdcoYMu"
      },
      "execution_count": null,
      "outputs": []
    },
    {
      "cell_type": "code",
      "source": [
        "dataset_dict = {'input_ids':[],\n",
        "                  'attention_mask':[],\n",
        "                  'token_type_ids':[],\n",
        "                  'start_id':[],\n",
        "                  'end_id':[]}\n",
        "\n",
        "for key in dataset_dict:\n",
        "  print(key)"
      ],
      "metadata": {
        "colab": {
          "base_uri": "https://localhost:8080/"
        },
        "id": "_qeH3UvIqL2e",
        "outputId": "a96b7cd5-e936-4d44-84e0-7bb63408c7e3"
      },
      "execution_count": null,
      "outputs": [
        {
          "output_type": "stream",
          "name": "stdout",
          "text": [
            "input_ids\n",
            "attention_mask\n",
            "token_type_ids\n",
            "start_id\n",
            "end_id\n"
          ]
        }
      ]
    },
    {
      "cell_type": "code",
      "execution_count": 19,
      "metadata": {
        "id": "ILlyJ38wp6mq"
      },
      "outputs": [],
      "source": [
        "def create_input_output(examples):\n",
        "  dataset_dict = {'input_ids':[],\n",
        "                  'attention_mask':[],\n",
        "                  'token_type_ids':[],\n",
        "                  'start_id':[],\n",
        "                  'end_id':[]}\n",
        "\n",
        "  for example in examples:\n",
        "    if example.skip==False:\n",
        "      for key in dataset_dict:\n",
        "        dataset_dict[key].append(getattr(example,key))\n",
        "\n",
        "  for key in dataset_dict:\n",
        "    dataset_dict[key]=torch.LongTensor(dataset_dict[key])\n",
        "\n",
        "  x = [dataset_dict['input_ids'],\n",
        "       dataset_dict['attention_mask'],\n",
        "       dataset_dict['token_type_ids']]\n",
        "\n",
        "  y = [dataset_dict['start_id'],\n",
        "       dataset_dict['end_id']]\n",
        "\n",
        "  return x, y"
      ]
    },
    {
      "cell_type": "code",
      "source": [
        "train_data = json.load(open(train_path))\n",
        "dev_data = json.load(open(eval_path))\n",
        "\n",
        "train_examples = create_squad_example(train_data)\n",
        "train_inputs,train_outputs = create_input_output(train_examples)\n",
        "\n",
        "eval_examples = create_squad_example(dev_data)\n",
        "eval_inputs,eval_outputs = create_input_output(eval_examples)"
      ],
      "metadata": {
        "id": "A2QpXokbt792"
      },
      "execution_count": 20,
      "outputs": []
    },
    {
      "cell_type": "markdown",
      "source": [
        "## Dataset & DataLoader"
      ],
      "metadata": {
        "id": "LyXHnijfxMF1"
      }
    },
    {
      "cell_type": "code",
      "source": [
        "from torch.utils.data import Dataset, DataLoader"
      ],
      "metadata": {
        "id": "Xu1TQrgLvPO-"
      },
      "execution_count": 21,
      "outputs": []
    },
    {
      "cell_type": "code",
      "source": [
        "class Customdataset(Dataset):\n",
        "  def __init__(self,x,y):\n",
        "    self.input_ids = x[0]\n",
        "    self.attention_mask = x[1]\n",
        "    self.token_type_ids = x[2]\n",
        "    self.start_id = y[0]\n",
        "    self.end_id = y[1]\n",
        "\n",
        "  def __getitem__(self, index):\n",
        "    return {'input_ids':self.input_ids[index], 'attention_mask':self.attention_mask[index], 'token_type_ids':self.token_type_ids[index], 'start_id':self.start_id[index], 'end_id':self.end_id[index]}\n",
        "\n",
        "  def __len__(self):\n",
        "    return self.start_id.size()[0]"
      ],
      "metadata": {
        "id": "_b-qVU0KvZJQ"
      },
      "execution_count": 22,
      "outputs": []
    },
    {
      "cell_type": "code",
      "source": [
        "train_dataset = Customdataset(train_inputs, train_outputs)\n",
        "eval_dataset = Customdataset(eval_inputs, eval_outputs)"
      ],
      "metadata": {
        "id": "TSu1fHwCzpFG"
      },
      "execution_count": 23,
      "outputs": []
    },
    {
      "cell_type": "code",
      "source": [
        "# hyperparameters\n",
        "\n",
        "MAX_LEN = 384\n",
        "BATCH_SIZE = 16\n",
        "EPOCHS = 3\n",
        "device = 'cuda' if torch.cuda.is_available() else 'cpu'"
      ],
      "metadata": {
        "id": "1p_Mk7Cl9Uy6"
      },
      "execution_count": 24,
      "outputs": []
    },
    {
      "cell_type": "code",
      "source": [
        "train_iter = DataLoader(train_dataset,BATCH_SIZE)\n",
        "eval_iter = DataLoader(eval_dataset,BATCH_SIZE)"
      ],
      "metadata": {
        "id": "s90-Oxo1-AjE"
      },
      "execution_count": 25,
      "outputs": []
    },
    {
      "cell_type": "markdown",
      "source": [
        "# 모델 구현"
      ],
      "metadata": {
        "id": "-9ZZNtwY-KYd"
      }
    },
    {
      "cell_type": "code",
      "source": [
        "!pip install wget"
      ],
      "metadata": {
        "colab": {
          "base_uri": "https://localhost:8080/"
        },
        "id": "Lrj7VVsMx4BN",
        "outputId": "fa0f2309-e916-460f-ed30-769b9bc78658"
      },
      "execution_count": 27,
      "outputs": [
        {
          "output_type": "stream",
          "name": "stdout",
          "text": [
            "Collecting wget\n",
            "  Downloading wget-3.2.zip (10 kB)\n",
            "  Preparing metadata (setup.py) ... \u001b[?25l\u001b[?25hdone\n",
            "Building wheels for collected packages: wget\n",
            "  Building wheel for wget (setup.py) ... \u001b[?25l\u001b[?25hdone\n",
            "  Created wheel for wget: filename=wget-3.2-py3-none-any.whl size=9657 sha256=dd76a02af290315dd05fb00bd086ab02fb4c279ad847129a492732dafd5c391b\n",
            "  Stored in directory: /root/.cache/pip/wheels/8b/f1/7f/5c94f0a7a505ca1c81cd1d9208ae2064675d97582078e6c769\n",
            "Successfully built wget\n",
            "Installing collected packages: wget\n",
            "Successfully installed wget-3.2\n"
          ]
        }
      ]
    },
    {
      "cell_type": "code",
      "source": [
        "import wget"
      ],
      "metadata": {
        "id": "BGdtDYOmyGsT"
      },
      "execution_count": 28,
      "outputs": []
    },
    {
      "cell_type": "code",
      "source": [
        "ls"
      ],
      "metadata": {
        "colab": {
          "base_uri": "https://localhost:8080/"
        },
        "id": "UdhO2u1ryIEM",
        "outputId": "89bb5fc8-d7cf-47c1-dc8b-e5a90a8b1322"
      },
      "execution_count": 38,
      "outputs": [
        {
          "output_type": "stream",
          "name": "stdout",
          "text": [
            "\u001b[0m\u001b[01;34mbert-base-multilingual-cased\u001b[0m/  \u001b[01;34mKorNLUDatasets\u001b[0m/  \u001b[01;34mNER\u001b[0m/  \u001b[01;34mnsmc\u001b[0m/\n"
          ]
        }
      ]
    },
    {
      "cell_type": "code",
      "source": [
        "wget.download('https://huggingface.co/bert-base-multilingual-cased/resolve/main/model.safetensors',out='bert-base-multilingual-cased')"
      ],
      "metadata": {
        "colab": {
          "base_uri": "https://localhost:8080/",
          "height": 35
        },
        "id": "_CHjfDD7yieP",
        "outputId": "0c55c12f-e9f7-4c9e-c8a0-951ed93e5541"
      },
      "execution_count": 34,
      "outputs": [
        {
          "output_type": "execute_result",
          "data": {
            "text/plain": [
              "'bert-base-multilingual-cased/model.safetensors'"
            ],
            "application/vnd.google.colaboratory.intrinsic+json": {
              "type": "string"
            }
          },
          "metadata": {},
          "execution_count": 34
        }
      ]
    },
    {
      "cell_type": "code",
      "source": [
        "wget.download('https://huggingface.co/bert-base-multilingual-cased/resolve/main/config.json',out='bert-base-multilingual-cased')"
      ],
      "metadata": {
        "colab": {
          "base_uri": "https://localhost:8080/",
          "height": 35
        },
        "id": "Tjvv8jPN3eUb",
        "outputId": "a815cf21-99e6-4417-fa87-764a496cade9"
      },
      "execution_count": 35,
      "outputs": [
        {
          "output_type": "execute_result",
          "data": {
            "text/plain": [
              "'bert-base-multilingual-cased/config.json'"
            ],
            "application/vnd.google.colaboratory.intrinsic+json": {
              "type": "string"
            }
          },
          "metadata": {},
          "execution_count": 35
        }
      ]
    },
    {
      "cell_type": "code",
      "source": [
        "import torch\n",
        "import torch.nn as nn"
      ],
      "metadata": {
        "id": "Sl4tXORI-LbR"
      },
      "execution_count": 36,
      "outputs": []
    },
    {
      "cell_type": "code",
      "source": [
        "class BERTMRC(nn.Module):\n",
        "  def __init__(self):\n",
        "    super(BERTMRC,self).__init__()\n",
        "    self.bert=BertModel.from_pretrained('bert-base-multilingual-cased',cache_dir='bert-base-multilingual-cased')\n",
        "    self.linear1 = nn.Linear(self.bert.config.hidden_size,1)\n",
        "    self.linear2 = nn.Linear(self.bert.config.hidden_size,1)\n",
        "    self.softmax = nn.Softmax(-1)\n",
        "\n",
        "  def forward(self,input_ids,attention_mask,token_type_ids):\n",
        "    outputs = self.bert(input_ids,attention_mask,token_type_ids) # (batch_size, max_len, hidden_size)\n",
        "\n",
        "    pred_start = self.linear1(outputs) # (batch_size, max_len, 1)\n",
        "    pred_start = torch.flatten(pred_start,-1) # (batch_size, max_len)\n",
        "\n",
        "    pred_end = self.linear2(outputs) # (batch_size, max_len, 1)\n",
        "    pred_end = torch.flatten(pred_end,-1) # (batch_size, max_len)\n",
        "\n",
        "    return pred_start, pred_end # (batch_size, max_len),  (batch_size, max_len)"
      ],
      "metadata": {
        "id": "nkYx0MKY-jxb"
      },
      "execution_count": 40,
      "outputs": []
    },
    {
      "cell_type": "code",
      "source": [
        "model = BERTMRC().to(device)\n",
        "optimizer = torch.optim.Adam(model.parameters(),lr=5e-5)\n",
        "criterion = nn.CrossEntropyLoss"
      ],
      "metadata": {
        "id": "-H0VaR45xNRp",
        "colab": {
          "base_uri": "https://localhost:8080/"
        },
        "outputId": "b03f23cb-766d-4b62-c77b-76e63876cc0d"
      },
      "execution_count": 41,
      "outputs": [
        {
          "output_type": "stream",
          "name": "stderr",
          "text": [
            "loading configuration file bert-base-multilingual-cased/config.json\n",
            "Model config BertConfig {\n",
            "  \"architectures\": [\n",
            "    \"BertForMaskedLM\"\n",
            "  ],\n",
            "  \"attention_probs_dropout_prob\": 0.1,\n",
            "  \"classifier_dropout\": null,\n",
            "  \"directionality\": \"bidi\",\n",
            "  \"hidden_act\": \"gelu\",\n",
            "  \"hidden_dropout_prob\": 0.1,\n",
            "  \"hidden_size\": 768,\n",
            "  \"initializer_range\": 0.02,\n",
            "  \"intermediate_size\": 3072,\n",
            "  \"layer_norm_eps\": 1e-12,\n",
            "  \"max_position_embeddings\": 512,\n",
            "  \"model_type\": \"bert\",\n",
            "  \"num_attention_heads\": 12,\n",
            "  \"num_hidden_layers\": 12,\n",
            "  \"pad_token_id\": 0,\n",
            "  \"pooler_fc_size\": 768,\n",
            "  \"pooler_num_attention_heads\": 12,\n",
            "  \"pooler_num_fc_layers\": 3,\n",
            "  \"pooler_size_per_head\": 128,\n",
            "  \"pooler_type\": \"first_token_transform\",\n",
            "  \"position_embedding_type\": \"absolute\",\n",
            "  \"transformers_version\": \"4.31.0\",\n",
            "  \"type_vocab_size\": 2,\n",
            "  \"use_cache\": true,\n",
            "  \"vocab_size\": 119547\n",
            "}\n",
            "\n",
            "loading weights file bert-base-multilingual-cased/model.safetensors\n",
            "Some weights of the model checkpoint at bert-base-multilingual-cased were not used when initializing BertModel: ['cls.predictions.transform.LayerNorm.bias', 'cls.predictions.bias', 'cls.predictions.transform.LayerNorm.weight', 'cls.seq_relationship.weight', 'cls.predictions.transform.dense.bias', 'cls.seq_relationship.bias', 'cls.predictions.transform.dense.weight']\n",
            "- This IS expected if you are initializing BertModel from the checkpoint of a model trained on another task or with another architecture (e.g. initializing a BertForSequenceClassification model from a BertForPreTraining model).\n",
            "- This IS NOT expected if you are initializing BertModel from the checkpoint of a model that you expect to be exactly identical (initializing a BertForSequenceClassification model from a BertForSequenceClassification model).\n",
            "All the weights of BertModel were initialized from the model checkpoint at bert-base-multilingual-cased.\n",
            "If your task is similar to the task the model of the checkpoint was trained on, you can already use BertModel for predictions without further training.\n"
          ]
        }
      ]
    },
    {
      "cell_type": "markdown",
      "source": [
        "# Train, Evaluation, Test"
      ],
      "metadata": {
        "id": "tzag_5dIES_7"
      }
    },
    {
      "cell_type": "markdown",
      "source": [
        "## Train"
      ],
      "metadata": {
        "id": "ueZ5uk2xEWV-"
      }
    },
    {
      "cell_type": "code",
      "source": [
        "from tqdm import tqdm"
      ],
      "metadata": {
        "id": "9OCrhjNWG6Gn"
      },
      "execution_count": 42,
      "outputs": []
    },
    {
      "cell_type": "code",
      "source": [
        "def train(model,optimizer,criterion,train_iter):\n",
        "  model.train()\n",
        "\n",
        "  for batch in tqdm(train_iter,desc='training'):\n",
        "\n",
        "    outputs =model(batch['input_ids'].to(device),batch['attention_mask'].to(device),batch['token_type_ids'].to(device))\n",
        "    loss = criterion(outputs,(batch['start_id'].to(device),batch['end_id'].to(device)))\n",
        "\n",
        "    optimizer.zero_grad()\n",
        "    loss.backward()\n",
        "    optimizer.step()"
      ],
      "metadata": {
        "id": "9JSSc1WqEVlz"
      },
      "execution_count": 43,
      "outputs": []
    },
    {
      "cell_type": "code",
      "source": [
        "def compute_acc(outputs, )"
      ],
      "metadata": {
        "id": "TV-hMlrj0rbD"
      },
      "execution_count": null,
      "outputs": []
    },
    {
      "cell_type": "code",
      "source": [
        "def evaluation(model,optimizer,criterion,eval_iter):\n",
        "  model.eval()\n",
        "\n",
        "  count = 0\n",
        "\n",
        "  for batch in tqdm(eval_iter,desc='evaluation'):\n",
        "\n",
        ""
      ],
      "metadata": {
        "colab": {
          "base_uri": "https://localhost:8080/",
          "height": 137
        },
        "id": "2itrOI34IYX-",
        "outputId": "5754db55-36e2-4d9e-a0b7-93e329bf4ca0"
      },
      "execution_count": 1,
      "outputs": [
        {
          "output_type": "error",
          "ename": "SyntaxError",
          "evalue": "ignored",
          "traceback": [
            "\u001b[0;36m  File \u001b[0;32m\"<ipython-input-1-48525c00a1ad>\"\u001b[0;36m, line \u001b[0;32m1\u001b[0m\n\u001b[0;31m    def evaluation(model,optimizer,criterion,eval_iter)\u001b[0m\n\u001b[0m                                                       ^\u001b[0m\n\u001b[0;31mSyntaxError\u001b[0m\u001b[0;31m:\u001b[0m expected ':'\n"
          ]
        }
      ]
    }
  ],
  "metadata": {
    "accelerator": "GPU",
    "colab": {
      "provenance": [],
      "gpuType": "T4",
      "mount_file_id": "1_LX-h3Zc7YMBA90ZoHLdyn39KdZKgOw9",
      "authorship_tag": "ABX9TyOE2kqYg0pxO5bL/+2L/Euy",
      "include_colab_link": true
    },
    "kernelspec": {
      "display_name": "Python 3",
      "name": "python3"
    },
    "language_info": {
      "name": "python"
    },
    "widgets": {
      "application/vnd.jupyter.widget-state+json": {
        "769e5093f04d4abfb0f7155b188c9c3a": {
          "model_module": "@jupyter-widgets/controls",
          "model_name": "HBoxModel",
          "model_module_version": "1.5.0",
          "state": {
            "_dom_classes": [],
            "_model_module": "@jupyter-widgets/controls",
            "_model_module_version": "1.5.0",
            "_model_name": "HBoxModel",
            "_view_count": null,
            "_view_module": "@jupyter-widgets/controls",
            "_view_module_version": "1.5.0",
            "_view_name": "HBoxView",
            "box_style": "",
            "children": [
              "IPY_MODEL_879a7de1f1fc471da13f9d8f360bf6b1",
              "IPY_MODEL_9897b6eba80e46a693c3b3fa47db489c",
              "IPY_MODEL_22a2a77fc4d442eebd7e56d8f92ef43a"
            ],
            "layout": "IPY_MODEL_d77f12890ead488ab0d9986979a7d2a0"
          }
        },
        "879a7de1f1fc471da13f9d8f360bf6b1": {
          "model_module": "@jupyter-widgets/controls",
          "model_name": "HTMLModel",
          "model_module_version": "1.5.0",
          "state": {
            "_dom_classes": [],
            "_model_module": "@jupyter-widgets/controls",
            "_model_module_version": "1.5.0",
            "_model_name": "HTMLModel",
            "_view_count": null,
            "_view_module": "@jupyter-widgets/controls",
            "_view_module_version": "1.5.0",
            "_view_name": "HTMLView",
            "description": "",
            "description_tooltip": null,
            "layout": "IPY_MODEL_b379e17476e143b3bd32c2b0368d96fd",
            "placeholder": "​",
            "style": "IPY_MODEL_1704c7ba04ed4c8aa4a887fd3269ed2a",
            "value": "Downloading (…)solve/main/vocab.txt: 100%"
          }
        },
        "9897b6eba80e46a693c3b3fa47db489c": {
          "model_module": "@jupyter-widgets/controls",
          "model_name": "FloatProgressModel",
          "model_module_version": "1.5.0",
          "state": {
            "_dom_classes": [],
            "_model_module": "@jupyter-widgets/controls",
            "_model_module_version": "1.5.0",
            "_model_name": "FloatProgressModel",
            "_view_count": null,
            "_view_module": "@jupyter-widgets/controls",
            "_view_module_version": "1.5.0",
            "_view_name": "ProgressView",
            "bar_style": "success",
            "description": "",
            "description_tooltip": null,
            "layout": "IPY_MODEL_1a2593e165e045eb8b4d9e86717ade4a",
            "max": 995526,
            "min": 0,
            "orientation": "horizontal",
            "style": "IPY_MODEL_3600edb249b842f593bbf45517c871ac",
            "value": 995526
          }
        },
        "22a2a77fc4d442eebd7e56d8f92ef43a": {
          "model_module": "@jupyter-widgets/controls",
          "model_name": "HTMLModel",
          "model_module_version": "1.5.0",
          "state": {
            "_dom_classes": [],
            "_model_module": "@jupyter-widgets/controls",
            "_model_module_version": "1.5.0",
            "_model_name": "HTMLModel",
            "_view_count": null,
            "_view_module": "@jupyter-widgets/controls",
            "_view_module_version": "1.5.0",
            "_view_name": "HTMLView",
            "description": "",
            "description_tooltip": null,
            "layout": "IPY_MODEL_e37bff3695b14e75b97b371eaf24b4b0",
            "placeholder": "​",
            "style": "IPY_MODEL_c8fec2f19970448283f14eb649e46308",
            "value": " 996k/996k [00:00&lt;00:00, 3.11MB/s]"
          }
        },
        "d77f12890ead488ab0d9986979a7d2a0": {
          "model_module": "@jupyter-widgets/base",
          "model_name": "LayoutModel",
          "model_module_version": "1.2.0",
          "state": {
            "_model_module": "@jupyter-widgets/base",
            "_model_module_version": "1.2.0",
            "_model_name": "LayoutModel",
            "_view_count": null,
            "_view_module": "@jupyter-widgets/base",
            "_view_module_version": "1.2.0",
            "_view_name": "LayoutView",
            "align_content": null,
            "align_items": null,
            "align_self": null,
            "border": null,
            "bottom": null,
            "display": null,
            "flex": null,
            "flex_flow": null,
            "grid_area": null,
            "grid_auto_columns": null,
            "grid_auto_flow": null,
            "grid_auto_rows": null,
            "grid_column": null,
            "grid_gap": null,
            "grid_row": null,
            "grid_template_areas": null,
            "grid_template_columns": null,
            "grid_template_rows": null,
            "height": null,
            "justify_content": null,
            "justify_items": null,
            "left": null,
            "margin": null,
            "max_height": null,
            "max_width": null,
            "min_height": null,
            "min_width": null,
            "object_fit": null,
            "object_position": null,
            "order": null,
            "overflow": null,
            "overflow_x": null,
            "overflow_y": null,
            "padding": null,
            "right": null,
            "top": null,
            "visibility": null,
            "width": null
          }
        },
        "b379e17476e143b3bd32c2b0368d96fd": {
          "model_module": "@jupyter-widgets/base",
          "model_name": "LayoutModel",
          "model_module_version": "1.2.0",
          "state": {
            "_model_module": "@jupyter-widgets/base",
            "_model_module_version": "1.2.0",
            "_model_name": "LayoutModel",
            "_view_count": null,
            "_view_module": "@jupyter-widgets/base",
            "_view_module_version": "1.2.0",
            "_view_name": "LayoutView",
            "align_content": null,
            "align_items": null,
            "align_self": null,
            "border": null,
            "bottom": null,
            "display": null,
            "flex": null,
            "flex_flow": null,
            "grid_area": null,
            "grid_auto_columns": null,
            "grid_auto_flow": null,
            "grid_auto_rows": null,
            "grid_column": null,
            "grid_gap": null,
            "grid_row": null,
            "grid_template_areas": null,
            "grid_template_columns": null,
            "grid_template_rows": null,
            "height": null,
            "justify_content": null,
            "justify_items": null,
            "left": null,
            "margin": null,
            "max_height": null,
            "max_width": null,
            "min_height": null,
            "min_width": null,
            "object_fit": null,
            "object_position": null,
            "order": null,
            "overflow": null,
            "overflow_x": null,
            "overflow_y": null,
            "padding": null,
            "right": null,
            "top": null,
            "visibility": null,
            "width": null
          }
        },
        "1704c7ba04ed4c8aa4a887fd3269ed2a": {
          "model_module": "@jupyter-widgets/controls",
          "model_name": "DescriptionStyleModel",
          "model_module_version": "1.5.0",
          "state": {
            "_model_module": "@jupyter-widgets/controls",
            "_model_module_version": "1.5.0",
            "_model_name": "DescriptionStyleModel",
            "_view_count": null,
            "_view_module": "@jupyter-widgets/base",
            "_view_module_version": "1.2.0",
            "_view_name": "StyleView",
            "description_width": ""
          }
        },
        "1a2593e165e045eb8b4d9e86717ade4a": {
          "model_module": "@jupyter-widgets/base",
          "model_name": "LayoutModel",
          "model_module_version": "1.2.0",
          "state": {
            "_model_module": "@jupyter-widgets/base",
            "_model_module_version": "1.2.0",
            "_model_name": "LayoutModel",
            "_view_count": null,
            "_view_module": "@jupyter-widgets/base",
            "_view_module_version": "1.2.0",
            "_view_name": "LayoutView",
            "align_content": null,
            "align_items": null,
            "align_self": null,
            "border": null,
            "bottom": null,
            "display": null,
            "flex": null,
            "flex_flow": null,
            "grid_area": null,
            "grid_auto_columns": null,
            "grid_auto_flow": null,
            "grid_auto_rows": null,
            "grid_column": null,
            "grid_gap": null,
            "grid_row": null,
            "grid_template_areas": null,
            "grid_template_columns": null,
            "grid_template_rows": null,
            "height": null,
            "justify_content": null,
            "justify_items": null,
            "left": null,
            "margin": null,
            "max_height": null,
            "max_width": null,
            "min_height": null,
            "min_width": null,
            "object_fit": null,
            "object_position": null,
            "order": null,
            "overflow": null,
            "overflow_x": null,
            "overflow_y": null,
            "padding": null,
            "right": null,
            "top": null,
            "visibility": null,
            "width": null
          }
        },
        "3600edb249b842f593bbf45517c871ac": {
          "model_module": "@jupyter-widgets/controls",
          "model_name": "ProgressStyleModel",
          "model_module_version": "1.5.0",
          "state": {
            "_model_module": "@jupyter-widgets/controls",
            "_model_module_version": "1.5.0",
            "_model_name": "ProgressStyleModel",
            "_view_count": null,
            "_view_module": "@jupyter-widgets/base",
            "_view_module_version": "1.2.0",
            "_view_name": "StyleView",
            "bar_color": null,
            "description_width": ""
          }
        },
        "e37bff3695b14e75b97b371eaf24b4b0": {
          "model_module": "@jupyter-widgets/base",
          "model_name": "LayoutModel",
          "model_module_version": "1.2.0",
          "state": {
            "_model_module": "@jupyter-widgets/base",
            "_model_module_version": "1.2.0",
            "_model_name": "LayoutModel",
            "_view_count": null,
            "_view_module": "@jupyter-widgets/base",
            "_view_module_version": "1.2.0",
            "_view_name": "LayoutView",
            "align_content": null,
            "align_items": null,
            "align_self": null,
            "border": null,
            "bottom": null,
            "display": null,
            "flex": null,
            "flex_flow": null,
            "grid_area": null,
            "grid_auto_columns": null,
            "grid_auto_flow": null,
            "grid_auto_rows": null,
            "grid_column": null,
            "grid_gap": null,
            "grid_row": null,
            "grid_template_areas": null,
            "grid_template_columns": null,
            "grid_template_rows": null,
            "height": null,
            "justify_content": null,
            "justify_items": null,
            "left": null,
            "margin": null,
            "max_height": null,
            "max_width": null,
            "min_height": null,
            "min_width": null,
            "object_fit": null,
            "object_position": null,
            "order": null,
            "overflow": null,
            "overflow_x": null,
            "overflow_y": null,
            "padding": null,
            "right": null,
            "top": null,
            "visibility": null,
            "width": null
          }
        },
        "c8fec2f19970448283f14eb649e46308": {
          "model_module": "@jupyter-widgets/controls",
          "model_name": "DescriptionStyleModel",
          "model_module_version": "1.5.0",
          "state": {
            "_model_module": "@jupyter-widgets/controls",
            "_model_module_version": "1.5.0",
            "_model_name": "DescriptionStyleModel",
            "_view_count": null,
            "_view_module": "@jupyter-widgets/base",
            "_view_module_version": "1.2.0",
            "_view_name": "StyleView",
            "description_width": ""
          }
        },
        "fab64f1babde4cf39427a624efd491de": {
          "model_module": "@jupyter-widgets/controls",
          "model_name": "HBoxModel",
          "model_module_version": "1.5.0",
          "state": {
            "_dom_classes": [],
            "_model_module": "@jupyter-widgets/controls",
            "_model_module_version": "1.5.0",
            "_model_name": "HBoxModel",
            "_view_count": null,
            "_view_module": "@jupyter-widgets/controls",
            "_view_module_version": "1.5.0",
            "_view_name": "HBoxView",
            "box_style": "",
            "children": [
              "IPY_MODEL_15a85f6edffe4f3bafac80377aea7ff3",
              "IPY_MODEL_38b3efe20d52479ca09775c5df58db88",
              "IPY_MODEL_8d4ecc9206bf41399498728194307869"
            ],
            "layout": "IPY_MODEL_62519e68185a488e90f03a0aa26c9de8"
          }
        },
        "15a85f6edffe4f3bafac80377aea7ff3": {
          "model_module": "@jupyter-widgets/controls",
          "model_name": "HTMLModel",
          "model_module_version": "1.5.0",
          "state": {
            "_dom_classes": [],
            "_model_module": "@jupyter-widgets/controls",
            "_model_module_version": "1.5.0",
            "_model_name": "HTMLModel",
            "_view_count": null,
            "_view_module": "@jupyter-widgets/controls",
            "_view_module_version": "1.5.0",
            "_view_name": "HTMLView",
            "description": "",
            "description_tooltip": null,
            "layout": "IPY_MODEL_6bfe4fce5e404f9d886119f1f4e41bfe",
            "placeholder": "​",
            "style": "IPY_MODEL_4d98a4919c4448afbab3d6091d7b0cb6",
            "value": "Downloading (…)okenizer_config.json: 100%"
          }
        },
        "38b3efe20d52479ca09775c5df58db88": {
          "model_module": "@jupyter-widgets/controls",
          "model_name": "FloatProgressModel",
          "model_module_version": "1.5.0",
          "state": {
            "_dom_classes": [],
            "_model_module": "@jupyter-widgets/controls",
            "_model_module_version": "1.5.0",
            "_model_name": "FloatProgressModel",
            "_view_count": null,
            "_view_module": "@jupyter-widgets/controls",
            "_view_module_version": "1.5.0",
            "_view_name": "ProgressView",
            "bar_style": "success",
            "description": "",
            "description_tooltip": null,
            "layout": "IPY_MODEL_d8df6ddaf2c147fcb4ce8e052d06fba2",
            "max": 29,
            "min": 0,
            "orientation": "horizontal",
            "style": "IPY_MODEL_7fb40c6706d44793ab451d0d901b9793",
            "value": 29
          }
        },
        "8d4ecc9206bf41399498728194307869": {
          "model_module": "@jupyter-widgets/controls",
          "model_name": "HTMLModel",
          "model_module_version": "1.5.0",
          "state": {
            "_dom_classes": [],
            "_model_module": "@jupyter-widgets/controls",
            "_model_module_version": "1.5.0",
            "_model_name": "HTMLModel",
            "_view_count": null,
            "_view_module": "@jupyter-widgets/controls",
            "_view_module_version": "1.5.0",
            "_view_name": "HTMLView",
            "description": "",
            "description_tooltip": null,
            "layout": "IPY_MODEL_15c156383fc04ec38e6665ca455a35d7",
            "placeholder": "​",
            "style": "IPY_MODEL_211a295a989e4c5cb186e6ac8dfe926f",
            "value": " 29.0/29.0 [00:00&lt;00:00, 306B/s]"
          }
        },
        "62519e68185a488e90f03a0aa26c9de8": {
          "model_module": "@jupyter-widgets/base",
          "model_name": "LayoutModel",
          "model_module_version": "1.2.0",
          "state": {
            "_model_module": "@jupyter-widgets/base",
            "_model_module_version": "1.2.0",
            "_model_name": "LayoutModel",
            "_view_count": null,
            "_view_module": "@jupyter-widgets/base",
            "_view_module_version": "1.2.0",
            "_view_name": "LayoutView",
            "align_content": null,
            "align_items": null,
            "align_self": null,
            "border": null,
            "bottom": null,
            "display": null,
            "flex": null,
            "flex_flow": null,
            "grid_area": null,
            "grid_auto_columns": null,
            "grid_auto_flow": null,
            "grid_auto_rows": null,
            "grid_column": null,
            "grid_gap": null,
            "grid_row": null,
            "grid_template_areas": null,
            "grid_template_columns": null,
            "grid_template_rows": null,
            "height": null,
            "justify_content": null,
            "justify_items": null,
            "left": null,
            "margin": null,
            "max_height": null,
            "max_width": null,
            "min_height": null,
            "min_width": null,
            "object_fit": null,
            "object_position": null,
            "order": null,
            "overflow": null,
            "overflow_x": null,
            "overflow_y": null,
            "padding": null,
            "right": null,
            "top": null,
            "visibility": null,
            "width": null
          }
        },
        "6bfe4fce5e404f9d886119f1f4e41bfe": {
          "model_module": "@jupyter-widgets/base",
          "model_name": "LayoutModel",
          "model_module_version": "1.2.0",
          "state": {
            "_model_module": "@jupyter-widgets/base",
            "_model_module_version": "1.2.0",
            "_model_name": "LayoutModel",
            "_view_count": null,
            "_view_module": "@jupyter-widgets/base",
            "_view_module_version": "1.2.0",
            "_view_name": "LayoutView",
            "align_content": null,
            "align_items": null,
            "align_self": null,
            "border": null,
            "bottom": null,
            "display": null,
            "flex": null,
            "flex_flow": null,
            "grid_area": null,
            "grid_auto_columns": null,
            "grid_auto_flow": null,
            "grid_auto_rows": null,
            "grid_column": null,
            "grid_gap": null,
            "grid_row": null,
            "grid_template_areas": null,
            "grid_template_columns": null,
            "grid_template_rows": null,
            "height": null,
            "justify_content": null,
            "justify_items": null,
            "left": null,
            "margin": null,
            "max_height": null,
            "max_width": null,
            "min_height": null,
            "min_width": null,
            "object_fit": null,
            "object_position": null,
            "order": null,
            "overflow": null,
            "overflow_x": null,
            "overflow_y": null,
            "padding": null,
            "right": null,
            "top": null,
            "visibility": null,
            "width": null
          }
        },
        "4d98a4919c4448afbab3d6091d7b0cb6": {
          "model_module": "@jupyter-widgets/controls",
          "model_name": "DescriptionStyleModel",
          "model_module_version": "1.5.0",
          "state": {
            "_model_module": "@jupyter-widgets/controls",
            "_model_module_version": "1.5.0",
            "_model_name": "DescriptionStyleModel",
            "_view_count": null,
            "_view_module": "@jupyter-widgets/base",
            "_view_module_version": "1.2.0",
            "_view_name": "StyleView",
            "description_width": ""
          }
        },
        "d8df6ddaf2c147fcb4ce8e052d06fba2": {
          "model_module": "@jupyter-widgets/base",
          "model_name": "LayoutModel",
          "model_module_version": "1.2.0",
          "state": {
            "_model_module": "@jupyter-widgets/base",
            "_model_module_version": "1.2.0",
            "_model_name": "LayoutModel",
            "_view_count": null,
            "_view_module": "@jupyter-widgets/base",
            "_view_module_version": "1.2.0",
            "_view_name": "LayoutView",
            "align_content": null,
            "align_items": null,
            "align_self": null,
            "border": null,
            "bottom": null,
            "display": null,
            "flex": null,
            "flex_flow": null,
            "grid_area": null,
            "grid_auto_columns": null,
            "grid_auto_flow": null,
            "grid_auto_rows": null,
            "grid_column": null,
            "grid_gap": null,
            "grid_row": null,
            "grid_template_areas": null,
            "grid_template_columns": null,
            "grid_template_rows": null,
            "height": null,
            "justify_content": null,
            "justify_items": null,
            "left": null,
            "margin": null,
            "max_height": null,
            "max_width": null,
            "min_height": null,
            "min_width": null,
            "object_fit": null,
            "object_position": null,
            "order": null,
            "overflow": null,
            "overflow_x": null,
            "overflow_y": null,
            "padding": null,
            "right": null,
            "top": null,
            "visibility": null,
            "width": null
          }
        },
        "7fb40c6706d44793ab451d0d901b9793": {
          "model_module": "@jupyter-widgets/controls",
          "model_name": "ProgressStyleModel",
          "model_module_version": "1.5.0",
          "state": {
            "_model_module": "@jupyter-widgets/controls",
            "_model_module_version": "1.5.0",
            "_model_name": "ProgressStyleModel",
            "_view_count": null,
            "_view_module": "@jupyter-widgets/base",
            "_view_module_version": "1.2.0",
            "_view_name": "StyleView",
            "bar_color": null,
            "description_width": ""
          }
        },
        "15c156383fc04ec38e6665ca455a35d7": {
          "model_module": "@jupyter-widgets/base",
          "model_name": "LayoutModel",
          "model_module_version": "1.2.0",
          "state": {
            "_model_module": "@jupyter-widgets/base",
            "_model_module_version": "1.2.0",
            "_model_name": "LayoutModel",
            "_view_count": null,
            "_view_module": "@jupyter-widgets/base",
            "_view_module_version": "1.2.0",
            "_view_name": "LayoutView",
            "align_content": null,
            "align_items": null,
            "align_self": null,
            "border": null,
            "bottom": null,
            "display": null,
            "flex": null,
            "flex_flow": null,
            "grid_area": null,
            "grid_auto_columns": null,
            "grid_auto_flow": null,
            "grid_auto_rows": null,
            "grid_column": null,
            "grid_gap": null,
            "grid_row": null,
            "grid_template_areas": null,
            "grid_template_columns": null,
            "grid_template_rows": null,
            "height": null,
            "justify_content": null,
            "justify_items": null,
            "left": null,
            "margin": null,
            "max_height": null,
            "max_width": null,
            "min_height": null,
            "min_width": null,
            "object_fit": null,
            "object_position": null,
            "order": null,
            "overflow": null,
            "overflow_x": null,
            "overflow_y": null,
            "padding": null,
            "right": null,
            "top": null,
            "visibility": null,
            "width": null
          }
        },
        "211a295a989e4c5cb186e6ac8dfe926f": {
          "model_module": "@jupyter-widgets/controls",
          "model_name": "DescriptionStyleModel",
          "model_module_version": "1.5.0",
          "state": {
            "_model_module": "@jupyter-widgets/controls",
            "_model_module_version": "1.5.0",
            "_model_name": "DescriptionStyleModel",
            "_view_count": null,
            "_view_module": "@jupyter-widgets/base",
            "_view_module_version": "1.2.0",
            "_view_name": "StyleView",
            "description_width": ""
          }
        },
        "455367be9c944c69b150ed14bd185f4e": {
          "model_module": "@jupyter-widgets/controls",
          "model_name": "HBoxModel",
          "model_module_version": "1.5.0",
          "state": {
            "_dom_classes": [],
            "_model_module": "@jupyter-widgets/controls",
            "_model_module_version": "1.5.0",
            "_model_name": "HBoxModel",
            "_view_count": null,
            "_view_module": "@jupyter-widgets/controls",
            "_view_module_version": "1.5.0",
            "_view_name": "HBoxView",
            "box_style": "",
            "children": [
              "IPY_MODEL_18647deb61df46049183f6fe4a0adb88",
              "IPY_MODEL_732044d96f6a4abc9ba5f1e64910d0f8",
              "IPY_MODEL_f1fef2c3a88d45758aca9d4022ca623d"
            ],
            "layout": "IPY_MODEL_01646ad578f14ef0b92e1e78062b5c80"
          }
        },
        "18647deb61df46049183f6fe4a0adb88": {
          "model_module": "@jupyter-widgets/controls",
          "model_name": "HTMLModel",
          "model_module_version": "1.5.0",
          "state": {
            "_dom_classes": [],
            "_model_module": "@jupyter-widgets/controls",
            "_model_module_version": "1.5.0",
            "_model_name": "HTMLModel",
            "_view_count": null,
            "_view_module": "@jupyter-widgets/controls",
            "_view_module_version": "1.5.0",
            "_view_name": "HTMLView",
            "description": "",
            "description_tooltip": null,
            "layout": "IPY_MODEL_72ef18134b2f446cae141e60e4371c7f",
            "placeholder": "​",
            "style": "IPY_MODEL_92fc7cac0b844ccf90d8e027f101290c",
            "value": "Downloading (…)lve/main/config.json: 100%"
          }
        },
        "732044d96f6a4abc9ba5f1e64910d0f8": {
          "model_module": "@jupyter-widgets/controls",
          "model_name": "FloatProgressModel",
          "model_module_version": "1.5.0",
          "state": {
            "_dom_classes": [],
            "_model_module": "@jupyter-widgets/controls",
            "_model_module_version": "1.5.0",
            "_model_name": "FloatProgressModel",
            "_view_count": null,
            "_view_module": "@jupyter-widgets/controls",
            "_view_module_version": "1.5.0",
            "_view_name": "ProgressView",
            "bar_style": "success",
            "description": "",
            "description_tooltip": null,
            "layout": "IPY_MODEL_f53aec6d29674033bbd35659cf878eda",
            "max": 625,
            "min": 0,
            "orientation": "horizontal",
            "style": "IPY_MODEL_bda004878d3041cfb6f4c4ef124c597b",
            "value": 625
          }
        },
        "f1fef2c3a88d45758aca9d4022ca623d": {
          "model_module": "@jupyter-widgets/controls",
          "model_name": "HTMLModel",
          "model_module_version": "1.5.0",
          "state": {
            "_dom_classes": [],
            "_model_module": "@jupyter-widgets/controls",
            "_model_module_version": "1.5.0",
            "_model_name": "HTMLModel",
            "_view_count": null,
            "_view_module": "@jupyter-widgets/controls",
            "_view_module_version": "1.5.0",
            "_view_name": "HTMLView",
            "description": "",
            "description_tooltip": null,
            "layout": "IPY_MODEL_ffda6e7d7e2e4c9790ea75f61d9a7857",
            "placeholder": "​",
            "style": "IPY_MODEL_bb27a283b26549948a3ede9708be6fa4",
            "value": " 625/625 [00:00&lt;00:00, 44.6kB/s]"
          }
        },
        "01646ad578f14ef0b92e1e78062b5c80": {
          "model_module": "@jupyter-widgets/base",
          "model_name": "LayoutModel",
          "model_module_version": "1.2.0",
          "state": {
            "_model_module": "@jupyter-widgets/base",
            "_model_module_version": "1.2.0",
            "_model_name": "LayoutModel",
            "_view_count": null,
            "_view_module": "@jupyter-widgets/base",
            "_view_module_version": "1.2.0",
            "_view_name": "LayoutView",
            "align_content": null,
            "align_items": null,
            "align_self": null,
            "border": null,
            "bottom": null,
            "display": null,
            "flex": null,
            "flex_flow": null,
            "grid_area": null,
            "grid_auto_columns": null,
            "grid_auto_flow": null,
            "grid_auto_rows": null,
            "grid_column": null,
            "grid_gap": null,
            "grid_row": null,
            "grid_template_areas": null,
            "grid_template_columns": null,
            "grid_template_rows": null,
            "height": null,
            "justify_content": null,
            "justify_items": null,
            "left": null,
            "margin": null,
            "max_height": null,
            "max_width": null,
            "min_height": null,
            "min_width": null,
            "object_fit": null,
            "object_position": null,
            "order": null,
            "overflow": null,
            "overflow_x": null,
            "overflow_y": null,
            "padding": null,
            "right": null,
            "top": null,
            "visibility": null,
            "width": null
          }
        },
        "72ef18134b2f446cae141e60e4371c7f": {
          "model_module": "@jupyter-widgets/base",
          "model_name": "LayoutModel",
          "model_module_version": "1.2.0",
          "state": {
            "_model_module": "@jupyter-widgets/base",
            "_model_module_version": "1.2.0",
            "_model_name": "LayoutModel",
            "_view_count": null,
            "_view_module": "@jupyter-widgets/base",
            "_view_module_version": "1.2.0",
            "_view_name": "LayoutView",
            "align_content": null,
            "align_items": null,
            "align_self": null,
            "border": null,
            "bottom": null,
            "display": null,
            "flex": null,
            "flex_flow": null,
            "grid_area": null,
            "grid_auto_columns": null,
            "grid_auto_flow": null,
            "grid_auto_rows": null,
            "grid_column": null,
            "grid_gap": null,
            "grid_row": null,
            "grid_template_areas": null,
            "grid_template_columns": null,
            "grid_template_rows": null,
            "height": null,
            "justify_content": null,
            "justify_items": null,
            "left": null,
            "margin": null,
            "max_height": null,
            "max_width": null,
            "min_height": null,
            "min_width": null,
            "object_fit": null,
            "object_position": null,
            "order": null,
            "overflow": null,
            "overflow_x": null,
            "overflow_y": null,
            "padding": null,
            "right": null,
            "top": null,
            "visibility": null,
            "width": null
          }
        },
        "92fc7cac0b844ccf90d8e027f101290c": {
          "model_module": "@jupyter-widgets/controls",
          "model_name": "DescriptionStyleModel",
          "model_module_version": "1.5.0",
          "state": {
            "_model_module": "@jupyter-widgets/controls",
            "_model_module_version": "1.5.0",
            "_model_name": "DescriptionStyleModel",
            "_view_count": null,
            "_view_module": "@jupyter-widgets/base",
            "_view_module_version": "1.2.0",
            "_view_name": "StyleView",
            "description_width": ""
          }
        },
        "f53aec6d29674033bbd35659cf878eda": {
          "model_module": "@jupyter-widgets/base",
          "model_name": "LayoutModel",
          "model_module_version": "1.2.0",
          "state": {
            "_model_module": "@jupyter-widgets/base",
            "_model_module_version": "1.2.0",
            "_model_name": "LayoutModel",
            "_view_count": null,
            "_view_module": "@jupyter-widgets/base",
            "_view_module_version": "1.2.0",
            "_view_name": "LayoutView",
            "align_content": null,
            "align_items": null,
            "align_self": null,
            "border": null,
            "bottom": null,
            "display": null,
            "flex": null,
            "flex_flow": null,
            "grid_area": null,
            "grid_auto_columns": null,
            "grid_auto_flow": null,
            "grid_auto_rows": null,
            "grid_column": null,
            "grid_gap": null,
            "grid_row": null,
            "grid_template_areas": null,
            "grid_template_columns": null,
            "grid_template_rows": null,
            "height": null,
            "justify_content": null,
            "justify_items": null,
            "left": null,
            "margin": null,
            "max_height": null,
            "max_width": null,
            "min_height": null,
            "min_width": null,
            "object_fit": null,
            "object_position": null,
            "order": null,
            "overflow": null,
            "overflow_x": null,
            "overflow_y": null,
            "padding": null,
            "right": null,
            "top": null,
            "visibility": null,
            "width": null
          }
        },
        "bda004878d3041cfb6f4c4ef124c597b": {
          "model_module": "@jupyter-widgets/controls",
          "model_name": "ProgressStyleModel",
          "model_module_version": "1.5.0",
          "state": {
            "_model_module": "@jupyter-widgets/controls",
            "_model_module_version": "1.5.0",
            "_model_name": "ProgressStyleModel",
            "_view_count": null,
            "_view_module": "@jupyter-widgets/base",
            "_view_module_version": "1.2.0",
            "_view_name": "StyleView",
            "bar_color": null,
            "description_width": ""
          }
        },
        "ffda6e7d7e2e4c9790ea75f61d9a7857": {
          "model_module": "@jupyter-widgets/base",
          "model_name": "LayoutModel",
          "model_module_version": "1.2.0",
          "state": {
            "_model_module": "@jupyter-widgets/base",
            "_model_module_version": "1.2.0",
            "_model_name": "LayoutModel",
            "_view_count": null,
            "_view_module": "@jupyter-widgets/base",
            "_view_module_version": "1.2.0",
            "_view_name": "LayoutView",
            "align_content": null,
            "align_items": null,
            "align_self": null,
            "border": null,
            "bottom": null,
            "display": null,
            "flex": null,
            "flex_flow": null,
            "grid_area": null,
            "grid_auto_columns": null,
            "grid_auto_flow": null,
            "grid_auto_rows": null,
            "grid_column": null,
            "grid_gap": null,
            "grid_row": null,
            "grid_template_areas": null,
            "grid_template_columns": null,
            "grid_template_rows": null,
            "height": null,
            "justify_content": null,
            "justify_items": null,
            "left": null,
            "margin": null,
            "max_height": null,
            "max_width": null,
            "min_height": null,
            "min_width": null,
            "object_fit": null,
            "object_position": null,
            "order": null,
            "overflow": null,
            "overflow_x": null,
            "overflow_y": null,
            "padding": null,
            "right": null,
            "top": null,
            "visibility": null,
            "width": null
          }
        },
        "bb27a283b26549948a3ede9708be6fa4": {
          "model_module": "@jupyter-widgets/controls",
          "model_name": "DescriptionStyleModel",
          "model_module_version": "1.5.0",
          "state": {
            "_model_module": "@jupyter-widgets/controls",
            "_model_module_version": "1.5.0",
            "_model_name": "DescriptionStyleModel",
            "_view_count": null,
            "_view_module": "@jupyter-widgets/base",
            "_view_module_version": "1.2.0",
            "_view_name": "StyleView",
            "description_width": ""
          }
        }
      }
    }
  },
  "nbformat": 4,
  "nbformat_minor": 0
}