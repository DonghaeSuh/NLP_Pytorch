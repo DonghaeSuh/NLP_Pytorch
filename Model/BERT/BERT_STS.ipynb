{
  "nbformat": 4,
  "nbformat_minor": 0,
  "metadata": {
    "colab": {
      "provenance": [],
      "collapsed_sections": [
        "FchYsaKq7D2E",
        "SwTWiS3Y6_61",
        "pXh3ENIH8DTQ",
        "zGBhc9iD4J3H",
        "khIGDfks5dfi"
      ],
      "mount_file_id": "1QgqR5uqEo2FL-7k3je9Hy6Wv4OO1_ema",
      "authorship_tag": "ABX9TyMA8yTT5wvwtaeQZK73e2nl",
      "include_colab_link": true
    },
    "kernelspec": {
      "name": "python3",
      "display_name": "Python 3"
    },
    "language_info": {
      "name": "python"
    },
    "widgets": {
      "application/vnd.jupyter.widget-state+json": {
        "e994b261655c4cbba040ad3452471812": {
          "model_module": "@jupyter-widgets/controls",
          "model_name": "HBoxModel",
          "model_module_version": "1.5.0",
          "state": {
            "_dom_classes": [],
            "_model_module": "@jupyter-widgets/controls",
            "_model_module_version": "1.5.0",
            "_model_name": "HBoxModel",
            "_view_count": null,
            "_view_module": "@jupyter-widgets/controls",
            "_view_module_version": "1.5.0",
            "_view_name": "HBoxView",
            "box_style": "",
            "children": [
              "IPY_MODEL_28534e4adaa649cb81f3297bcb5a77e5",
              "IPY_MODEL_aea4b9f492304a2f826734bea55b999a",
              "IPY_MODEL_bdadf08a8f1148b2a1c067e32f83d66b"
            ],
            "layout": "IPY_MODEL_789f23731b0b4191b25170a93c0d71d6"
          }
        },
        "28534e4adaa649cb81f3297bcb5a77e5": {
          "model_module": "@jupyter-widgets/controls",
          "model_name": "HTMLModel",
          "model_module_version": "1.5.0",
          "state": {
            "_dom_classes": [],
            "_model_module": "@jupyter-widgets/controls",
            "_model_module_version": "1.5.0",
            "_model_name": "HTMLModel",
            "_view_count": null,
            "_view_module": "@jupyter-widgets/controls",
            "_view_module_version": "1.5.0",
            "_view_name": "HTMLView",
            "description": "",
            "description_tooltip": null,
            "layout": "IPY_MODEL_8af53fbc018b4f1ab1c1612b3345e76c",
            "placeholder": "​",
            "style": "IPY_MODEL_38689063c25c4b6f99f03ae6e33fd8fe",
            "value": "Downloading (…)solve/main/vocab.txt: 100%"
          }
        },
        "aea4b9f492304a2f826734bea55b999a": {
          "model_module": "@jupyter-widgets/controls",
          "model_name": "FloatProgressModel",
          "model_module_version": "1.5.0",
          "state": {
            "_dom_classes": [],
            "_model_module": "@jupyter-widgets/controls",
            "_model_module_version": "1.5.0",
            "_model_name": "FloatProgressModel",
            "_view_count": null,
            "_view_module": "@jupyter-widgets/controls",
            "_view_module_version": "1.5.0",
            "_view_name": "ProgressView",
            "bar_style": "success",
            "description": "",
            "description_tooltip": null,
            "layout": "IPY_MODEL_8b28451a3aef4ba9a1500f08187afcd4",
            "max": 995526,
            "min": 0,
            "orientation": "horizontal",
            "style": "IPY_MODEL_7f6469f8a5824c19a44b1f25f2531c0c",
            "value": 995526
          }
        },
        "bdadf08a8f1148b2a1c067e32f83d66b": {
          "model_module": "@jupyter-widgets/controls",
          "model_name": "HTMLModel",
          "model_module_version": "1.5.0",
          "state": {
            "_dom_classes": [],
            "_model_module": "@jupyter-widgets/controls",
            "_model_module_version": "1.5.0",
            "_model_name": "HTMLModel",
            "_view_count": null,
            "_view_module": "@jupyter-widgets/controls",
            "_view_module_version": "1.5.0",
            "_view_name": "HTMLView",
            "description": "",
            "description_tooltip": null,
            "layout": "IPY_MODEL_ed0161d869a34d89b44c471a8d593380",
            "placeholder": "​",
            "style": "IPY_MODEL_c99ac3e642c8404aa0db58c228838c6c",
            "value": " 996k/996k [00:00&lt;00:00, 5.43MB/s]"
          }
        },
        "789f23731b0b4191b25170a93c0d71d6": {
          "model_module": "@jupyter-widgets/base",
          "model_name": "LayoutModel",
          "model_module_version": "1.2.0",
          "state": {
            "_model_module": "@jupyter-widgets/base",
            "_model_module_version": "1.2.0",
            "_model_name": "LayoutModel",
            "_view_count": null,
            "_view_module": "@jupyter-widgets/base",
            "_view_module_version": "1.2.0",
            "_view_name": "LayoutView",
            "align_content": null,
            "align_items": null,
            "align_self": null,
            "border": null,
            "bottom": null,
            "display": null,
            "flex": null,
            "flex_flow": null,
            "grid_area": null,
            "grid_auto_columns": null,
            "grid_auto_flow": null,
            "grid_auto_rows": null,
            "grid_column": null,
            "grid_gap": null,
            "grid_row": null,
            "grid_template_areas": null,
            "grid_template_columns": null,
            "grid_template_rows": null,
            "height": null,
            "justify_content": null,
            "justify_items": null,
            "left": null,
            "margin": null,
            "max_height": null,
            "max_width": null,
            "min_height": null,
            "min_width": null,
            "object_fit": null,
            "object_position": null,
            "order": null,
            "overflow": null,
            "overflow_x": null,
            "overflow_y": null,
            "padding": null,
            "right": null,
            "top": null,
            "visibility": null,
            "width": null
          }
        },
        "8af53fbc018b4f1ab1c1612b3345e76c": {
          "model_module": "@jupyter-widgets/base",
          "model_name": "LayoutModel",
          "model_module_version": "1.2.0",
          "state": {
            "_model_module": "@jupyter-widgets/base",
            "_model_module_version": "1.2.0",
            "_model_name": "LayoutModel",
            "_view_count": null,
            "_view_module": "@jupyter-widgets/base",
            "_view_module_version": "1.2.0",
            "_view_name": "LayoutView",
            "align_content": null,
            "align_items": null,
            "align_self": null,
            "border": null,
            "bottom": null,
            "display": null,
            "flex": null,
            "flex_flow": null,
            "grid_area": null,
            "grid_auto_columns": null,
            "grid_auto_flow": null,
            "grid_auto_rows": null,
            "grid_column": null,
            "grid_gap": null,
            "grid_row": null,
            "grid_template_areas": null,
            "grid_template_columns": null,
            "grid_template_rows": null,
            "height": null,
            "justify_content": null,
            "justify_items": null,
            "left": null,
            "margin": null,
            "max_height": null,
            "max_width": null,
            "min_height": null,
            "min_width": null,
            "object_fit": null,
            "object_position": null,
            "order": null,
            "overflow": null,
            "overflow_x": null,
            "overflow_y": null,
            "padding": null,
            "right": null,
            "top": null,
            "visibility": null,
            "width": null
          }
        },
        "38689063c25c4b6f99f03ae6e33fd8fe": {
          "model_module": "@jupyter-widgets/controls",
          "model_name": "DescriptionStyleModel",
          "model_module_version": "1.5.0",
          "state": {
            "_model_module": "@jupyter-widgets/controls",
            "_model_module_version": "1.5.0",
            "_model_name": "DescriptionStyleModel",
            "_view_count": null,
            "_view_module": "@jupyter-widgets/base",
            "_view_module_version": "1.2.0",
            "_view_name": "StyleView",
            "description_width": ""
          }
        },
        "8b28451a3aef4ba9a1500f08187afcd4": {
          "model_module": "@jupyter-widgets/base",
          "model_name": "LayoutModel",
          "model_module_version": "1.2.0",
          "state": {
            "_model_module": "@jupyter-widgets/base",
            "_model_module_version": "1.2.0",
            "_model_name": "LayoutModel",
            "_view_count": null,
            "_view_module": "@jupyter-widgets/base",
            "_view_module_version": "1.2.0",
            "_view_name": "LayoutView",
            "align_content": null,
            "align_items": null,
            "align_self": null,
            "border": null,
            "bottom": null,
            "display": null,
            "flex": null,
            "flex_flow": null,
            "grid_area": null,
            "grid_auto_columns": null,
            "grid_auto_flow": null,
            "grid_auto_rows": null,
            "grid_column": null,
            "grid_gap": null,
            "grid_row": null,
            "grid_template_areas": null,
            "grid_template_columns": null,
            "grid_template_rows": null,
            "height": null,
            "justify_content": null,
            "justify_items": null,
            "left": null,
            "margin": null,
            "max_height": null,
            "max_width": null,
            "min_height": null,
            "min_width": null,
            "object_fit": null,
            "object_position": null,
            "order": null,
            "overflow": null,
            "overflow_x": null,
            "overflow_y": null,
            "padding": null,
            "right": null,
            "top": null,
            "visibility": null,
            "width": null
          }
        },
        "7f6469f8a5824c19a44b1f25f2531c0c": {
          "model_module": "@jupyter-widgets/controls",
          "model_name": "ProgressStyleModel",
          "model_module_version": "1.5.0",
          "state": {
            "_model_module": "@jupyter-widgets/controls",
            "_model_module_version": "1.5.0",
            "_model_name": "ProgressStyleModel",
            "_view_count": null,
            "_view_module": "@jupyter-widgets/base",
            "_view_module_version": "1.2.0",
            "_view_name": "StyleView",
            "bar_color": null,
            "description_width": ""
          }
        },
        "ed0161d869a34d89b44c471a8d593380": {
          "model_module": "@jupyter-widgets/base",
          "model_name": "LayoutModel",
          "model_module_version": "1.2.0",
          "state": {
            "_model_module": "@jupyter-widgets/base",
            "_model_module_version": "1.2.0",
            "_model_name": "LayoutModel",
            "_view_count": null,
            "_view_module": "@jupyter-widgets/base",
            "_view_module_version": "1.2.0",
            "_view_name": "LayoutView",
            "align_content": null,
            "align_items": null,
            "align_self": null,
            "border": null,
            "bottom": null,
            "display": null,
            "flex": null,
            "flex_flow": null,
            "grid_area": null,
            "grid_auto_columns": null,
            "grid_auto_flow": null,
            "grid_auto_rows": null,
            "grid_column": null,
            "grid_gap": null,
            "grid_row": null,
            "grid_template_areas": null,
            "grid_template_columns": null,
            "grid_template_rows": null,
            "height": null,
            "justify_content": null,
            "justify_items": null,
            "left": null,
            "margin": null,
            "max_height": null,
            "max_width": null,
            "min_height": null,
            "min_width": null,
            "object_fit": null,
            "object_position": null,
            "order": null,
            "overflow": null,
            "overflow_x": null,
            "overflow_y": null,
            "padding": null,
            "right": null,
            "top": null,
            "visibility": null,
            "width": null
          }
        },
        "c99ac3e642c8404aa0db58c228838c6c": {
          "model_module": "@jupyter-widgets/controls",
          "model_name": "DescriptionStyleModel",
          "model_module_version": "1.5.0",
          "state": {
            "_model_module": "@jupyter-widgets/controls",
            "_model_module_version": "1.5.0",
            "_model_name": "DescriptionStyleModel",
            "_view_count": null,
            "_view_module": "@jupyter-widgets/base",
            "_view_module_version": "1.2.0",
            "_view_name": "StyleView",
            "description_width": ""
          }
        },
        "4666157ba9e84c13ac73a0ff5c9d82ed": {
          "model_module": "@jupyter-widgets/controls",
          "model_name": "HBoxModel",
          "model_module_version": "1.5.0",
          "state": {
            "_dom_classes": [],
            "_model_module": "@jupyter-widgets/controls",
            "_model_module_version": "1.5.0",
            "_model_name": "HBoxModel",
            "_view_count": null,
            "_view_module": "@jupyter-widgets/controls",
            "_view_module_version": "1.5.0",
            "_view_name": "HBoxView",
            "box_style": "",
            "children": [
              "IPY_MODEL_b303867ed733430b88c55fa85cc446c8",
              "IPY_MODEL_5fad32e898004ee0bf42664144fd7eda",
              "IPY_MODEL_14c3d4d7d52048efb1ae2558b3ae9c32"
            ],
            "layout": "IPY_MODEL_7ad6a2ea16974626b344567ec580ba26"
          }
        },
        "b303867ed733430b88c55fa85cc446c8": {
          "model_module": "@jupyter-widgets/controls",
          "model_name": "HTMLModel",
          "model_module_version": "1.5.0",
          "state": {
            "_dom_classes": [],
            "_model_module": "@jupyter-widgets/controls",
            "_model_module_version": "1.5.0",
            "_model_name": "HTMLModel",
            "_view_count": null,
            "_view_module": "@jupyter-widgets/controls",
            "_view_module_version": "1.5.0",
            "_view_name": "HTMLView",
            "description": "",
            "description_tooltip": null,
            "layout": "IPY_MODEL_d14044afcda64affad8c59a0688ed2a1",
            "placeholder": "​",
            "style": "IPY_MODEL_4cc24a399fc34e95ac2d9bab9a85a494",
            "value": "Downloading (…)okenizer_config.json: 100%"
          }
        },
        "5fad32e898004ee0bf42664144fd7eda": {
          "model_module": "@jupyter-widgets/controls",
          "model_name": "FloatProgressModel",
          "model_module_version": "1.5.0",
          "state": {
            "_dom_classes": [],
            "_model_module": "@jupyter-widgets/controls",
            "_model_module_version": "1.5.0",
            "_model_name": "FloatProgressModel",
            "_view_count": null,
            "_view_module": "@jupyter-widgets/controls",
            "_view_module_version": "1.5.0",
            "_view_name": "ProgressView",
            "bar_style": "success",
            "description": "",
            "description_tooltip": null,
            "layout": "IPY_MODEL_fcf2925f2f434f92adc96dbb3d269e1d",
            "max": 29,
            "min": 0,
            "orientation": "horizontal",
            "style": "IPY_MODEL_775d7b5b05cc491cb3484f1d295ccfb3",
            "value": 29
          }
        },
        "14c3d4d7d52048efb1ae2558b3ae9c32": {
          "model_module": "@jupyter-widgets/controls",
          "model_name": "HTMLModel",
          "model_module_version": "1.5.0",
          "state": {
            "_dom_classes": [],
            "_model_module": "@jupyter-widgets/controls",
            "_model_module_version": "1.5.0",
            "_model_name": "HTMLModel",
            "_view_count": null,
            "_view_module": "@jupyter-widgets/controls",
            "_view_module_version": "1.5.0",
            "_view_name": "HTMLView",
            "description": "",
            "description_tooltip": null,
            "layout": "IPY_MODEL_321c685172384b27ae1ee54518fcd4c3",
            "placeholder": "​",
            "style": "IPY_MODEL_995d0a1bb2fa4586b85a8146ba0c3bac",
            "value": " 29.0/29.0 [00:00&lt;00:00, 667B/s]"
          }
        },
        "7ad6a2ea16974626b344567ec580ba26": {
          "model_module": "@jupyter-widgets/base",
          "model_name": "LayoutModel",
          "model_module_version": "1.2.0",
          "state": {
            "_model_module": "@jupyter-widgets/base",
            "_model_module_version": "1.2.0",
            "_model_name": "LayoutModel",
            "_view_count": null,
            "_view_module": "@jupyter-widgets/base",
            "_view_module_version": "1.2.0",
            "_view_name": "LayoutView",
            "align_content": null,
            "align_items": null,
            "align_self": null,
            "border": null,
            "bottom": null,
            "display": null,
            "flex": null,
            "flex_flow": null,
            "grid_area": null,
            "grid_auto_columns": null,
            "grid_auto_flow": null,
            "grid_auto_rows": null,
            "grid_column": null,
            "grid_gap": null,
            "grid_row": null,
            "grid_template_areas": null,
            "grid_template_columns": null,
            "grid_template_rows": null,
            "height": null,
            "justify_content": null,
            "justify_items": null,
            "left": null,
            "margin": null,
            "max_height": null,
            "max_width": null,
            "min_height": null,
            "min_width": null,
            "object_fit": null,
            "object_position": null,
            "order": null,
            "overflow": null,
            "overflow_x": null,
            "overflow_y": null,
            "padding": null,
            "right": null,
            "top": null,
            "visibility": null,
            "width": null
          }
        },
        "d14044afcda64affad8c59a0688ed2a1": {
          "model_module": "@jupyter-widgets/base",
          "model_name": "LayoutModel",
          "model_module_version": "1.2.0",
          "state": {
            "_model_module": "@jupyter-widgets/base",
            "_model_module_version": "1.2.0",
            "_model_name": "LayoutModel",
            "_view_count": null,
            "_view_module": "@jupyter-widgets/base",
            "_view_module_version": "1.2.0",
            "_view_name": "LayoutView",
            "align_content": null,
            "align_items": null,
            "align_self": null,
            "border": null,
            "bottom": null,
            "display": null,
            "flex": null,
            "flex_flow": null,
            "grid_area": null,
            "grid_auto_columns": null,
            "grid_auto_flow": null,
            "grid_auto_rows": null,
            "grid_column": null,
            "grid_gap": null,
            "grid_row": null,
            "grid_template_areas": null,
            "grid_template_columns": null,
            "grid_template_rows": null,
            "height": null,
            "justify_content": null,
            "justify_items": null,
            "left": null,
            "margin": null,
            "max_height": null,
            "max_width": null,
            "min_height": null,
            "min_width": null,
            "object_fit": null,
            "object_position": null,
            "order": null,
            "overflow": null,
            "overflow_x": null,
            "overflow_y": null,
            "padding": null,
            "right": null,
            "top": null,
            "visibility": null,
            "width": null
          }
        },
        "4cc24a399fc34e95ac2d9bab9a85a494": {
          "model_module": "@jupyter-widgets/controls",
          "model_name": "DescriptionStyleModel",
          "model_module_version": "1.5.0",
          "state": {
            "_model_module": "@jupyter-widgets/controls",
            "_model_module_version": "1.5.0",
            "_model_name": "DescriptionStyleModel",
            "_view_count": null,
            "_view_module": "@jupyter-widgets/base",
            "_view_module_version": "1.2.0",
            "_view_name": "StyleView",
            "description_width": ""
          }
        },
        "fcf2925f2f434f92adc96dbb3d269e1d": {
          "model_module": "@jupyter-widgets/base",
          "model_name": "LayoutModel",
          "model_module_version": "1.2.0",
          "state": {
            "_model_module": "@jupyter-widgets/base",
            "_model_module_version": "1.2.0",
            "_model_name": "LayoutModel",
            "_view_count": null,
            "_view_module": "@jupyter-widgets/base",
            "_view_module_version": "1.2.0",
            "_view_name": "LayoutView",
            "align_content": null,
            "align_items": null,
            "align_self": null,
            "border": null,
            "bottom": null,
            "display": null,
            "flex": null,
            "flex_flow": null,
            "grid_area": null,
            "grid_auto_columns": null,
            "grid_auto_flow": null,
            "grid_auto_rows": null,
            "grid_column": null,
            "grid_gap": null,
            "grid_row": null,
            "grid_template_areas": null,
            "grid_template_columns": null,
            "grid_template_rows": null,
            "height": null,
            "justify_content": null,
            "justify_items": null,
            "left": null,
            "margin": null,
            "max_height": null,
            "max_width": null,
            "min_height": null,
            "min_width": null,
            "object_fit": null,
            "object_position": null,
            "order": null,
            "overflow": null,
            "overflow_x": null,
            "overflow_y": null,
            "padding": null,
            "right": null,
            "top": null,
            "visibility": null,
            "width": null
          }
        },
        "775d7b5b05cc491cb3484f1d295ccfb3": {
          "model_module": "@jupyter-widgets/controls",
          "model_name": "ProgressStyleModel",
          "model_module_version": "1.5.0",
          "state": {
            "_model_module": "@jupyter-widgets/controls",
            "_model_module_version": "1.5.0",
            "_model_name": "ProgressStyleModel",
            "_view_count": null,
            "_view_module": "@jupyter-widgets/base",
            "_view_module_version": "1.2.0",
            "_view_name": "StyleView",
            "bar_color": null,
            "description_width": ""
          }
        },
        "321c685172384b27ae1ee54518fcd4c3": {
          "model_module": "@jupyter-widgets/base",
          "model_name": "LayoutModel",
          "model_module_version": "1.2.0",
          "state": {
            "_model_module": "@jupyter-widgets/base",
            "_model_module_version": "1.2.0",
            "_model_name": "LayoutModel",
            "_view_count": null,
            "_view_module": "@jupyter-widgets/base",
            "_view_module_version": "1.2.0",
            "_view_name": "LayoutView",
            "align_content": null,
            "align_items": null,
            "align_self": null,
            "border": null,
            "bottom": null,
            "display": null,
            "flex": null,
            "flex_flow": null,
            "grid_area": null,
            "grid_auto_columns": null,
            "grid_auto_flow": null,
            "grid_auto_rows": null,
            "grid_column": null,
            "grid_gap": null,
            "grid_row": null,
            "grid_template_areas": null,
            "grid_template_columns": null,
            "grid_template_rows": null,
            "height": null,
            "justify_content": null,
            "justify_items": null,
            "left": null,
            "margin": null,
            "max_height": null,
            "max_width": null,
            "min_height": null,
            "min_width": null,
            "object_fit": null,
            "object_position": null,
            "order": null,
            "overflow": null,
            "overflow_x": null,
            "overflow_y": null,
            "padding": null,
            "right": null,
            "top": null,
            "visibility": null,
            "width": null
          }
        },
        "995d0a1bb2fa4586b85a8146ba0c3bac": {
          "model_module": "@jupyter-widgets/controls",
          "model_name": "DescriptionStyleModel",
          "model_module_version": "1.5.0",
          "state": {
            "_model_module": "@jupyter-widgets/controls",
            "_model_module_version": "1.5.0",
            "_model_name": "DescriptionStyleModel",
            "_view_count": null,
            "_view_module": "@jupyter-widgets/base",
            "_view_module_version": "1.2.0",
            "_view_name": "StyleView",
            "description_width": ""
          }
        },
        "ce9f4e6808ed4e0bb064092c068b7fe4": {
          "model_module": "@jupyter-widgets/controls",
          "model_name": "HBoxModel",
          "model_module_version": "1.5.0",
          "state": {
            "_dom_classes": [],
            "_model_module": "@jupyter-widgets/controls",
            "_model_module_version": "1.5.0",
            "_model_name": "HBoxModel",
            "_view_count": null,
            "_view_module": "@jupyter-widgets/controls",
            "_view_module_version": "1.5.0",
            "_view_name": "HBoxView",
            "box_style": "",
            "children": [
              "IPY_MODEL_e5b1aab0e85b46f4bb6f88bdaf9757a9",
              "IPY_MODEL_dea6ab6fd08f4dac85de490fd4568fc0",
              "IPY_MODEL_73ffd5a967a44d4eb9ac77d35bb87692"
            ],
            "layout": "IPY_MODEL_3910582f9cab4ab89f8fb9a838abebd0"
          }
        },
        "e5b1aab0e85b46f4bb6f88bdaf9757a9": {
          "model_module": "@jupyter-widgets/controls",
          "model_name": "HTMLModel",
          "model_module_version": "1.5.0",
          "state": {
            "_dom_classes": [],
            "_model_module": "@jupyter-widgets/controls",
            "_model_module_version": "1.5.0",
            "_model_name": "HTMLModel",
            "_view_count": null,
            "_view_module": "@jupyter-widgets/controls",
            "_view_module_version": "1.5.0",
            "_view_name": "HTMLView",
            "description": "",
            "description_tooltip": null,
            "layout": "IPY_MODEL_98472f605ca04cbe8df83886aaa6a601",
            "placeholder": "​",
            "style": "IPY_MODEL_18505e8bb56047f8afdf4d7747306dc1",
            "value": "Downloading (…)lve/main/config.json: 100%"
          }
        },
        "dea6ab6fd08f4dac85de490fd4568fc0": {
          "model_module": "@jupyter-widgets/controls",
          "model_name": "FloatProgressModel",
          "model_module_version": "1.5.0",
          "state": {
            "_dom_classes": [],
            "_model_module": "@jupyter-widgets/controls",
            "_model_module_version": "1.5.0",
            "_model_name": "FloatProgressModel",
            "_view_count": null,
            "_view_module": "@jupyter-widgets/controls",
            "_view_module_version": "1.5.0",
            "_view_name": "ProgressView",
            "bar_style": "success",
            "description": "",
            "description_tooltip": null,
            "layout": "IPY_MODEL_76ef0c7b59d245c3ac802686106c70ee",
            "max": 625,
            "min": 0,
            "orientation": "horizontal",
            "style": "IPY_MODEL_837bef5b3aa24771bb468b4ac0747d7c",
            "value": 625
          }
        },
        "73ffd5a967a44d4eb9ac77d35bb87692": {
          "model_module": "@jupyter-widgets/controls",
          "model_name": "HTMLModel",
          "model_module_version": "1.5.0",
          "state": {
            "_dom_classes": [],
            "_model_module": "@jupyter-widgets/controls",
            "_model_module_version": "1.5.0",
            "_model_name": "HTMLModel",
            "_view_count": null,
            "_view_module": "@jupyter-widgets/controls",
            "_view_module_version": "1.5.0",
            "_view_name": "HTMLView",
            "description": "",
            "description_tooltip": null,
            "layout": "IPY_MODEL_08f95a243d9e4b66b1e91cfb01b2a632",
            "placeholder": "​",
            "style": "IPY_MODEL_71c2b5cba9a5449285c5f29ae2a85292",
            "value": " 625/625 [00:00&lt;00:00, 12.3kB/s]"
          }
        },
        "3910582f9cab4ab89f8fb9a838abebd0": {
          "model_module": "@jupyter-widgets/base",
          "model_name": "LayoutModel",
          "model_module_version": "1.2.0",
          "state": {
            "_model_module": "@jupyter-widgets/base",
            "_model_module_version": "1.2.0",
            "_model_name": "LayoutModel",
            "_view_count": null,
            "_view_module": "@jupyter-widgets/base",
            "_view_module_version": "1.2.0",
            "_view_name": "LayoutView",
            "align_content": null,
            "align_items": null,
            "align_self": null,
            "border": null,
            "bottom": null,
            "display": null,
            "flex": null,
            "flex_flow": null,
            "grid_area": null,
            "grid_auto_columns": null,
            "grid_auto_flow": null,
            "grid_auto_rows": null,
            "grid_column": null,
            "grid_gap": null,
            "grid_row": null,
            "grid_template_areas": null,
            "grid_template_columns": null,
            "grid_template_rows": null,
            "height": null,
            "justify_content": null,
            "justify_items": null,
            "left": null,
            "margin": null,
            "max_height": null,
            "max_width": null,
            "min_height": null,
            "min_width": null,
            "object_fit": null,
            "object_position": null,
            "order": null,
            "overflow": null,
            "overflow_x": null,
            "overflow_y": null,
            "padding": null,
            "right": null,
            "top": null,
            "visibility": null,
            "width": null
          }
        },
        "98472f605ca04cbe8df83886aaa6a601": {
          "model_module": "@jupyter-widgets/base",
          "model_name": "LayoutModel",
          "model_module_version": "1.2.0",
          "state": {
            "_model_module": "@jupyter-widgets/base",
            "_model_module_version": "1.2.0",
            "_model_name": "LayoutModel",
            "_view_count": null,
            "_view_module": "@jupyter-widgets/base",
            "_view_module_version": "1.2.0",
            "_view_name": "LayoutView",
            "align_content": null,
            "align_items": null,
            "align_self": null,
            "border": null,
            "bottom": null,
            "display": null,
            "flex": null,
            "flex_flow": null,
            "grid_area": null,
            "grid_auto_columns": null,
            "grid_auto_flow": null,
            "grid_auto_rows": null,
            "grid_column": null,
            "grid_gap": null,
            "grid_row": null,
            "grid_template_areas": null,
            "grid_template_columns": null,
            "grid_template_rows": null,
            "height": null,
            "justify_content": null,
            "justify_items": null,
            "left": null,
            "margin": null,
            "max_height": null,
            "max_width": null,
            "min_height": null,
            "min_width": null,
            "object_fit": null,
            "object_position": null,
            "order": null,
            "overflow": null,
            "overflow_x": null,
            "overflow_y": null,
            "padding": null,
            "right": null,
            "top": null,
            "visibility": null,
            "width": null
          }
        },
        "18505e8bb56047f8afdf4d7747306dc1": {
          "model_module": "@jupyter-widgets/controls",
          "model_name": "DescriptionStyleModel",
          "model_module_version": "1.5.0",
          "state": {
            "_model_module": "@jupyter-widgets/controls",
            "_model_module_version": "1.5.0",
            "_model_name": "DescriptionStyleModel",
            "_view_count": null,
            "_view_module": "@jupyter-widgets/base",
            "_view_module_version": "1.2.0",
            "_view_name": "StyleView",
            "description_width": ""
          }
        },
        "76ef0c7b59d245c3ac802686106c70ee": {
          "model_module": "@jupyter-widgets/base",
          "model_name": "LayoutModel",
          "model_module_version": "1.2.0",
          "state": {
            "_model_module": "@jupyter-widgets/base",
            "_model_module_version": "1.2.0",
            "_model_name": "LayoutModel",
            "_view_count": null,
            "_view_module": "@jupyter-widgets/base",
            "_view_module_version": "1.2.0",
            "_view_name": "LayoutView",
            "align_content": null,
            "align_items": null,
            "align_self": null,
            "border": null,
            "bottom": null,
            "display": null,
            "flex": null,
            "flex_flow": null,
            "grid_area": null,
            "grid_auto_columns": null,
            "grid_auto_flow": null,
            "grid_auto_rows": null,
            "grid_column": null,
            "grid_gap": null,
            "grid_row": null,
            "grid_template_areas": null,
            "grid_template_columns": null,
            "grid_template_rows": null,
            "height": null,
            "justify_content": null,
            "justify_items": null,
            "left": null,
            "margin": null,
            "max_height": null,
            "max_width": null,
            "min_height": null,
            "min_width": null,
            "object_fit": null,
            "object_position": null,
            "order": null,
            "overflow": null,
            "overflow_x": null,
            "overflow_y": null,
            "padding": null,
            "right": null,
            "top": null,
            "visibility": null,
            "width": null
          }
        },
        "837bef5b3aa24771bb468b4ac0747d7c": {
          "model_module": "@jupyter-widgets/controls",
          "model_name": "ProgressStyleModel",
          "model_module_version": "1.5.0",
          "state": {
            "_model_module": "@jupyter-widgets/controls",
            "_model_module_version": "1.5.0",
            "_model_name": "ProgressStyleModel",
            "_view_count": null,
            "_view_module": "@jupyter-widgets/base",
            "_view_module_version": "1.2.0",
            "_view_name": "StyleView",
            "bar_color": null,
            "description_width": ""
          }
        },
        "08f95a243d9e4b66b1e91cfb01b2a632": {
          "model_module": "@jupyter-widgets/base",
          "model_name": "LayoutModel",
          "model_module_version": "1.2.0",
          "state": {
            "_model_module": "@jupyter-widgets/base",
            "_model_module_version": "1.2.0",
            "_model_name": "LayoutModel",
            "_view_count": null,
            "_view_module": "@jupyter-widgets/base",
            "_view_module_version": "1.2.0",
            "_view_name": "LayoutView",
            "align_content": null,
            "align_items": null,
            "align_self": null,
            "border": null,
            "bottom": null,
            "display": null,
            "flex": null,
            "flex_flow": null,
            "grid_area": null,
            "grid_auto_columns": null,
            "grid_auto_flow": null,
            "grid_auto_rows": null,
            "grid_column": null,
            "grid_gap": null,
            "grid_row": null,
            "grid_template_areas": null,
            "grid_template_columns": null,
            "grid_template_rows": null,
            "height": null,
            "justify_content": null,
            "justify_items": null,
            "left": null,
            "margin": null,
            "max_height": null,
            "max_width": null,
            "min_height": null,
            "min_width": null,
            "object_fit": null,
            "object_position": null,
            "order": null,
            "overflow": null,
            "overflow_x": null,
            "overflow_y": null,
            "padding": null,
            "right": null,
            "top": null,
            "visibility": null,
            "width": null
          }
        },
        "71c2b5cba9a5449285c5f29ae2a85292": {
          "model_module": "@jupyter-widgets/controls",
          "model_name": "DescriptionStyleModel",
          "model_module_version": "1.5.0",
          "state": {
            "_model_module": "@jupyter-widgets/controls",
            "_model_module_version": "1.5.0",
            "_model_name": "DescriptionStyleModel",
            "_view_count": null,
            "_view_module": "@jupyter-widgets/base",
            "_view_module_version": "1.2.0",
            "_view_name": "StyleView",
            "description_width": ""
          }
        },
        "6f1ca1564bd44c2cbffc69fad29fb07c": {
          "model_module": "@jupyter-widgets/controls",
          "model_name": "HBoxModel",
          "model_module_version": "1.5.0",
          "state": {
            "_dom_classes": [],
            "_model_module": "@jupyter-widgets/controls",
            "_model_module_version": "1.5.0",
            "_model_name": "HBoxModel",
            "_view_count": null,
            "_view_module": "@jupyter-widgets/controls",
            "_view_module_version": "1.5.0",
            "_view_name": "HBoxView",
            "box_style": "",
            "children": [
              "IPY_MODEL_1cbbf6cc5be847f687cac76cb56e395d",
              "IPY_MODEL_21ed0ee145a44dd6bfc47c484491cc52",
              "IPY_MODEL_56a2c5bb0b65446e979dcf7fa071024c"
            ],
            "layout": "IPY_MODEL_f647c00dddbc4fc1b75d083308733184"
          }
        },
        "1cbbf6cc5be847f687cac76cb56e395d": {
          "model_module": "@jupyter-widgets/controls",
          "model_name": "HTMLModel",
          "model_module_version": "1.5.0",
          "state": {
            "_dom_classes": [],
            "_model_module": "@jupyter-widgets/controls",
            "_model_module_version": "1.5.0",
            "_model_name": "HTMLModel",
            "_view_count": null,
            "_view_module": "@jupyter-widgets/controls",
            "_view_module_version": "1.5.0",
            "_view_name": "HTMLView",
            "description": "",
            "description_tooltip": null,
            "layout": "IPY_MODEL_b624d11108fd410f9f43f146f0f816ce",
            "placeholder": "​",
            "style": "IPY_MODEL_e1a1cc872ee6405791273500f11db239",
            "value": "Downloading model.safetensors: 100%"
          }
        },
        "21ed0ee145a44dd6bfc47c484491cc52": {
          "model_module": "@jupyter-widgets/controls",
          "model_name": "FloatProgressModel",
          "model_module_version": "1.5.0",
          "state": {
            "_dom_classes": [],
            "_model_module": "@jupyter-widgets/controls",
            "_model_module_version": "1.5.0",
            "_model_name": "FloatProgressModel",
            "_view_count": null,
            "_view_module": "@jupyter-widgets/controls",
            "_view_module_version": "1.5.0",
            "_view_name": "ProgressView",
            "bar_style": "success",
            "description": "",
            "description_tooltip": null,
            "layout": "IPY_MODEL_73523098ceea4cde9c1fb00a4a3691bf",
            "max": 714290682,
            "min": 0,
            "orientation": "horizontal",
            "style": "IPY_MODEL_938b0f6a922b4ee09f76c05af50595a5",
            "value": 714290682
          }
        },
        "56a2c5bb0b65446e979dcf7fa071024c": {
          "model_module": "@jupyter-widgets/controls",
          "model_name": "HTMLModel",
          "model_module_version": "1.5.0",
          "state": {
            "_dom_classes": [],
            "_model_module": "@jupyter-widgets/controls",
            "_model_module_version": "1.5.0",
            "_model_name": "HTMLModel",
            "_view_count": null,
            "_view_module": "@jupyter-widgets/controls",
            "_view_module_version": "1.5.0",
            "_view_name": "HTMLView",
            "description": "",
            "description_tooltip": null,
            "layout": "IPY_MODEL_d6a23db60f504f819cd837688aa5b308",
            "placeholder": "​",
            "style": "IPY_MODEL_6c97a2b52a66416c9dfdc7b27c4da1f4",
            "value": " 714M/714M [00:04&lt;00:00, 142MB/s]"
          }
        },
        "f647c00dddbc4fc1b75d083308733184": {
          "model_module": "@jupyter-widgets/base",
          "model_name": "LayoutModel",
          "model_module_version": "1.2.0",
          "state": {
            "_model_module": "@jupyter-widgets/base",
            "_model_module_version": "1.2.0",
            "_model_name": "LayoutModel",
            "_view_count": null,
            "_view_module": "@jupyter-widgets/base",
            "_view_module_version": "1.2.0",
            "_view_name": "LayoutView",
            "align_content": null,
            "align_items": null,
            "align_self": null,
            "border": null,
            "bottom": null,
            "display": null,
            "flex": null,
            "flex_flow": null,
            "grid_area": null,
            "grid_auto_columns": null,
            "grid_auto_flow": null,
            "grid_auto_rows": null,
            "grid_column": null,
            "grid_gap": null,
            "grid_row": null,
            "grid_template_areas": null,
            "grid_template_columns": null,
            "grid_template_rows": null,
            "height": null,
            "justify_content": null,
            "justify_items": null,
            "left": null,
            "margin": null,
            "max_height": null,
            "max_width": null,
            "min_height": null,
            "min_width": null,
            "object_fit": null,
            "object_position": null,
            "order": null,
            "overflow": null,
            "overflow_x": null,
            "overflow_y": null,
            "padding": null,
            "right": null,
            "top": null,
            "visibility": null,
            "width": null
          }
        },
        "b624d11108fd410f9f43f146f0f816ce": {
          "model_module": "@jupyter-widgets/base",
          "model_name": "LayoutModel",
          "model_module_version": "1.2.0",
          "state": {
            "_model_module": "@jupyter-widgets/base",
            "_model_module_version": "1.2.0",
            "_model_name": "LayoutModel",
            "_view_count": null,
            "_view_module": "@jupyter-widgets/base",
            "_view_module_version": "1.2.0",
            "_view_name": "LayoutView",
            "align_content": null,
            "align_items": null,
            "align_self": null,
            "border": null,
            "bottom": null,
            "display": null,
            "flex": null,
            "flex_flow": null,
            "grid_area": null,
            "grid_auto_columns": null,
            "grid_auto_flow": null,
            "grid_auto_rows": null,
            "grid_column": null,
            "grid_gap": null,
            "grid_row": null,
            "grid_template_areas": null,
            "grid_template_columns": null,
            "grid_template_rows": null,
            "height": null,
            "justify_content": null,
            "justify_items": null,
            "left": null,
            "margin": null,
            "max_height": null,
            "max_width": null,
            "min_height": null,
            "min_width": null,
            "object_fit": null,
            "object_position": null,
            "order": null,
            "overflow": null,
            "overflow_x": null,
            "overflow_y": null,
            "padding": null,
            "right": null,
            "top": null,
            "visibility": null,
            "width": null
          }
        },
        "e1a1cc872ee6405791273500f11db239": {
          "model_module": "@jupyter-widgets/controls",
          "model_name": "DescriptionStyleModel",
          "model_module_version": "1.5.0",
          "state": {
            "_model_module": "@jupyter-widgets/controls",
            "_model_module_version": "1.5.0",
            "_model_name": "DescriptionStyleModel",
            "_view_count": null,
            "_view_module": "@jupyter-widgets/base",
            "_view_module_version": "1.2.0",
            "_view_name": "StyleView",
            "description_width": ""
          }
        },
        "73523098ceea4cde9c1fb00a4a3691bf": {
          "model_module": "@jupyter-widgets/base",
          "model_name": "LayoutModel",
          "model_module_version": "1.2.0",
          "state": {
            "_model_module": "@jupyter-widgets/base",
            "_model_module_version": "1.2.0",
            "_model_name": "LayoutModel",
            "_view_count": null,
            "_view_module": "@jupyter-widgets/base",
            "_view_module_version": "1.2.0",
            "_view_name": "LayoutView",
            "align_content": null,
            "align_items": null,
            "align_self": null,
            "border": null,
            "bottom": null,
            "display": null,
            "flex": null,
            "flex_flow": null,
            "grid_area": null,
            "grid_auto_columns": null,
            "grid_auto_flow": null,
            "grid_auto_rows": null,
            "grid_column": null,
            "grid_gap": null,
            "grid_row": null,
            "grid_template_areas": null,
            "grid_template_columns": null,
            "grid_template_rows": null,
            "height": null,
            "justify_content": null,
            "justify_items": null,
            "left": null,
            "margin": null,
            "max_height": null,
            "max_width": null,
            "min_height": null,
            "min_width": null,
            "object_fit": null,
            "object_position": null,
            "order": null,
            "overflow": null,
            "overflow_x": null,
            "overflow_y": null,
            "padding": null,
            "right": null,
            "top": null,
            "visibility": null,
            "width": null
          }
        },
        "938b0f6a922b4ee09f76c05af50595a5": {
          "model_module": "@jupyter-widgets/controls",
          "model_name": "ProgressStyleModel",
          "model_module_version": "1.5.0",
          "state": {
            "_model_module": "@jupyter-widgets/controls",
            "_model_module_version": "1.5.0",
            "_model_name": "ProgressStyleModel",
            "_view_count": null,
            "_view_module": "@jupyter-widgets/base",
            "_view_module_version": "1.2.0",
            "_view_name": "StyleView",
            "bar_color": null,
            "description_width": ""
          }
        },
        "d6a23db60f504f819cd837688aa5b308": {
          "model_module": "@jupyter-widgets/base",
          "model_name": "LayoutModel",
          "model_module_version": "1.2.0",
          "state": {
            "_model_module": "@jupyter-widgets/base",
            "_model_module_version": "1.2.0",
            "_model_name": "LayoutModel",
            "_view_count": null,
            "_view_module": "@jupyter-widgets/base",
            "_view_module_version": "1.2.0",
            "_view_name": "LayoutView",
            "align_content": null,
            "align_items": null,
            "align_self": null,
            "border": null,
            "bottom": null,
            "display": null,
            "flex": null,
            "flex_flow": null,
            "grid_area": null,
            "grid_auto_columns": null,
            "grid_auto_flow": null,
            "grid_auto_rows": null,
            "grid_column": null,
            "grid_gap": null,
            "grid_row": null,
            "grid_template_areas": null,
            "grid_template_columns": null,
            "grid_template_rows": null,
            "height": null,
            "justify_content": null,
            "justify_items": null,
            "left": null,
            "margin": null,
            "max_height": null,
            "max_width": null,
            "min_height": null,
            "min_width": null,
            "object_fit": null,
            "object_position": null,
            "order": null,
            "overflow": null,
            "overflow_x": null,
            "overflow_y": null,
            "padding": null,
            "right": null,
            "top": null,
            "visibility": null,
            "width": null
          }
        },
        "6c97a2b52a66416c9dfdc7b27c4da1f4": {
          "model_module": "@jupyter-widgets/controls",
          "model_name": "DescriptionStyleModel",
          "model_module_version": "1.5.0",
          "state": {
            "_model_module": "@jupyter-widgets/controls",
            "_model_module_version": "1.5.0",
            "_model_name": "DescriptionStyleModel",
            "_view_count": null,
            "_view_module": "@jupyter-widgets/base",
            "_view_module_version": "1.2.0",
            "_view_name": "StyleView",
            "description_width": ""
          }
        }
      }
    }
  },
  "cells": [
    {
      "cell_type": "markdown",
      "metadata": {
        "id": "view-in-github",
        "colab_type": "text"
      },
      "source": [
        "<a href=\"https://colab.research.google.com/github/DonghaeSuh/NLP_Pytorch/blob/main/Model/BERT/BERT_STS.ipynb\" target=\"_parent\"><img src=\"https://colab.research.google.com/assets/colab-badge.svg\" alt=\"Open In Colab\"/></a>"
      ]
    },
    {
      "cell_type": "markdown",
      "source": [
        "# 데이터 분석"
      ],
      "metadata": {
        "id": "zTIjMlry7AY2"
      }
    },
    {
      "cell_type": "markdown",
      "source": [
        "## 데이터 불러오기"
      ],
      "metadata": {
        "id": "FchYsaKq7D2E"
      }
    },
    {
      "cell_type": "code",
      "source": [
        "ls"
      ],
      "metadata": {
        "colab": {
          "base_uri": "https://localhost:8080/"
        },
        "id": "iRDj58dj1Ju3",
        "outputId": "b82db3ea-e022-4c8d-9a8f-6c46a08a635f"
      },
      "execution_count": null,
      "outputs": [
        {
          "output_type": "stream",
          "name": "stdout",
          "text": [
            "\u001b[0m\u001b[01;34mdrive\u001b[0m/  \u001b[01;34msample_data\u001b[0m/\n"
          ]
        }
      ]
    },
    {
      "cell_type": "code",
      "execution_count": null,
      "metadata": {
        "colab": {
          "base_uri": "https://localhost:8080/"
        },
        "id": "U6duH1PI0dQh",
        "outputId": "ddb5b69e-a335-4ba3-a814-7f198b886570"
      },
      "outputs": [
        {
          "output_type": "stream",
          "name": "stdout",
          "text": [
            "/content/drive/MyDrive/Pytorch NLP/BERT/data_in/KorNLUDatasets/KorSTS\n"
          ]
        }
      ],
      "source": [
        "cd drive/MyDrive/Pytorch \\NLP/BERT/data_in/KorNLUDatasets/KorSTS"
      ]
    },
    {
      "cell_type": "code",
      "source": [
        "ls"
      ],
      "metadata": {
        "colab": {
          "base_uri": "https://localhost:8080/"
        },
        "id": "LVZzSiUk1Su2",
        "outputId": "b764b3ce-9ab9-46e0-c449-7ae17209d7b4"
      },
      "execution_count": null,
      "outputs": [
        {
          "output_type": "stream",
          "name": "stdout",
          "text": [
            "sts-dev.tsv  sts-test.tsv  sts-train.tsv\n"
          ]
        }
      ]
    },
    {
      "cell_type": "code",
      "source": [
        "import pandas as pd"
      ],
      "metadata": {
        "id": "wnPPNJQY5OrL"
      },
      "execution_count": null,
      "outputs": []
    },
    {
      "cell_type": "code",
      "source": [
        "train_df = pd.read_csv('sts-train.tsv',sep='\\t',quoting=3)\n",
        "train_df"
      ],
      "metadata": {
        "colab": {
          "base_uri": "https://localhost:8080/",
          "height": 419
        },
        "id": "ZhkM6VJ36RX0",
        "outputId": "ae9755e6-d3eb-4ee2-c2eb-4b310e7004f1"
      },
      "execution_count": null,
      "outputs": [
        {
          "output_type": "execute_result",
          "data": {
            "text/plain": [
              "              genre   filename      year    id  score  \\\n",
              "0     main-captions     MSRvid  2012test     1   5.00   \n",
              "1     main-captions     MSRvid  2012test     4   3.80   \n",
              "2     main-captions     MSRvid  2012test     5   3.80   \n",
              "3     main-captions     MSRvid  2012test     6   2.60   \n",
              "4     main-captions     MSRvid  2012test     9   4.25   \n",
              "...             ...        ...       ...   ...    ...   \n",
              "5744      main-news  headlines      2016  1456   0.00   \n",
              "5745      main-news  headlines      2016  1465   0.00   \n",
              "5746      main-news  headlines      2016  1466   0.00   \n",
              "5747      main-news  headlines      2016  1470   0.00   \n",
              "5748      main-news  headlines      2016  1492   0.00   \n",
              "\n",
              "                                    sentence1  \\\n",
              "0                               비행기가 이륙하고 있다.   \n",
              "1                       한 남자가 큰 플루트를 연주하고 있다.   \n",
              "2                      한 남자가 피자에 치즈를 뿌려놓고 있다.   \n",
              "3                            세 남자가 체스를 하고 있다.   \n",
              "4                          한 남자가 첼로를 연주하고 있다.   \n",
              "...                                       ...   \n",
              "5744                폭풍우 클로다흐가 영국을 강타하면서 심한 강풍   \n",
              "5745  리비아 테러리스트들이 공습에 대한 복수로 찍은 수십 명의 이집트 인질들   \n",
              "5746                            바레인으로 향하는 대통령   \n",
              "5747              중국, 인도는 양국 관계를 증진시키겠다고 맹세한다   \n",
              "5748           푸틴 대변인 : 도핑 혐의는 근거 없는 것으로 보인다.   \n",
              "\n",
              "                                           sentence2  \n",
              "0                                      비행기가 이륙하고 있다.  \n",
              "1                                  남자가 플루트를 연주하고 있다.  \n",
              "2                       한 남자가 구운 피자에 치즈 조각을 뿌려놓고 있다.  \n",
              "3                                   두 남자가 체스를 하고 있다.  \n",
              "4                            자리에 앉은 남자가 첼로를 연주하고 있다.  \n",
              "...                                              ...  \n",
              "5744                        메르켈은 나토와 라트비아의 연대를 약속한다.  \n",
              "5745  나일강에서 더 많은 시체가 발견되면서 이집트 보트 충돌 사고 사망자 수가 증가한다.  \n",
              "5746                      시 주석 : 에볼라 퇴치를 계속 돕기 위한 중국  \n",
              "5747             중국은 불안한 주식 거래자들을 안심시키기 위해 뒤뚱거리고 있다.  \n",
              "5748               가장 최근의 심한 날씨 : 토네이도 후 텍사스에서 1명 사망  \n",
              "\n",
              "[5749 rows x 7 columns]"
            ],
            "text/html": [
              "\n",
              "  <div id=\"df-7d421705-29f0-4902-b31c-a5a671ba1b32\">\n",
              "    <div class=\"colab-df-container\">\n",
              "      <div>\n",
              "<style scoped>\n",
              "    .dataframe tbody tr th:only-of-type {\n",
              "        vertical-align: middle;\n",
              "    }\n",
              "\n",
              "    .dataframe tbody tr th {\n",
              "        vertical-align: top;\n",
              "    }\n",
              "\n",
              "    .dataframe thead th {\n",
              "        text-align: right;\n",
              "    }\n",
              "</style>\n",
              "<table border=\"1\" class=\"dataframe\">\n",
              "  <thead>\n",
              "    <tr style=\"text-align: right;\">\n",
              "      <th></th>\n",
              "      <th>genre</th>\n",
              "      <th>filename</th>\n",
              "      <th>year</th>\n",
              "      <th>id</th>\n",
              "      <th>score</th>\n",
              "      <th>sentence1</th>\n",
              "      <th>sentence2</th>\n",
              "    </tr>\n",
              "  </thead>\n",
              "  <tbody>\n",
              "    <tr>\n",
              "      <th>0</th>\n",
              "      <td>main-captions</td>\n",
              "      <td>MSRvid</td>\n",
              "      <td>2012test</td>\n",
              "      <td>1</td>\n",
              "      <td>5.00</td>\n",
              "      <td>비행기가 이륙하고 있다.</td>\n",
              "      <td>비행기가 이륙하고 있다.</td>\n",
              "    </tr>\n",
              "    <tr>\n",
              "      <th>1</th>\n",
              "      <td>main-captions</td>\n",
              "      <td>MSRvid</td>\n",
              "      <td>2012test</td>\n",
              "      <td>4</td>\n",
              "      <td>3.80</td>\n",
              "      <td>한 남자가 큰 플루트를 연주하고 있다.</td>\n",
              "      <td>남자가 플루트를 연주하고 있다.</td>\n",
              "    </tr>\n",
              "    <tr>\n",
              "      <th>2</th>\n",
              "      <td>main-captions</td>\n",
              "      <td>MSRvid</td>\n",
              "      <td>2012test</td>\n",
              "      <td>5</td>\n",
              "      <td>3.80</td>\n",
              "      <td>한 남자가 피자에 치즈를 뿌려놓고 있다.</td>\n",
              "      <td>한 남자가 구운 피자에 치즈 조각을 뿌려놓고 있다.</td>\n",
              "    </tr>\n",
              "    <tr>\n",
              "      <th>3</th>\n",
              "      <td>main-captions</td>\n",
              "      <td>MSRvid</td>\n",
              "      <td>2012test</td>\n",
              "      <td>6</td>\n",
              "      <td>2.60</td>\n",
              "      <td>세 남자가 체스를 하고 있다.</td>\n",
              "      <td>두 남자가 체스를 하고 있다.</td>\n",
              "    </tr>\n",
              "    <tr>\n",
              "      <th>4</th>\n",
              "      <td>main-captions</td>\n",
              "      <td>MSRvid</td>\n",
              "      <td>2012test</td>\n",
              "      <td>9</td>\n",
              "      <td>4.25</td>\n",
              "      <td>한 남자가 첼로를 연주하고 있다.</td>\n",
              "      <td>자리에 앉은 남자가 첼로를 연주하고 있다.</td>\n",
              "    </tr>\n",
              "    <tr>\n",
              "      <th>...</th>\n",
              "      <td>...</td>\n",
              "      <td>...</td>\n",
              "      <td>...</td>\n",
              "      <td>...</td>\n",
              "      <td>...</td>\n",
              "      <td>...</td>\n",
              "      <td>...</td>\n",
              "    </tr>\n",
              "    <tr>\n",
              "      <th>5744</th>\n",
              "      <td>main-news</td>\n",
              "      <td>headlines</td>\n",
              "      <td>2016</td>\n",
              "      <td>1456</td>\n",
              "      <td>0.00</td>\n",
              "      <td>폭풍우 클로다흐가 영국을 강타하면서 심한 강풍</td>\n",
              "      <td>메르켈은 나토와 라트비아의 연대를 약속한다.</td>\n",
              "    </tr>\n",
              "    <tr>\n",
              "      <th>5745</th>\n",
              "      <td>main-news</td>\n",
              "      <td>headlines</td>\n",
              "      <td>2016</td>\n",
              "      <td>1465</td>\n",
              "      <td>0.00</td>\n",
              "      <td>리비아 테러리스트들이 공습에 대한 복수로 찍은 수십 명의 이집트 인질들</td>\n",
              "      <td>나일강에서 더 많은 시체가 발견되면서 이집트 보트 충돌 사고 사망자 수가 증가한다.</td>\n",
              "    </tr>\n",
              "    <tr>\n",
              "      <th>5746</th>\n",
              "      <td>main-news</td>\n",
              "      <td>headlines</td>\n",
              "      <td>2016</td>\n",
              "      <td>1466</td>\n",
              "      <td>0.00</td>\n",
              "      <td>바레인으로 향하는 대통령</td>\n",
              "      <td>시 주석 : 에볼라 퇴치를 계속 돕기 위한 중국</td>\n",
              "    </tr>\n",
              "    <tr>\n",
              "      <th>5747</th>\n",
              "      <td>main-news</td>\n",
              "      <td>headlines</td>\n",
              "      <td>2016</td>\n",
              "      <td>1470</td>\n",
              "      <td>0.00</td>\n",
              "      <td>중국, 인도는 양국 관계를 증진시키겠다고 맹세한다</td>\n",
              "      <td>중국은 불안한 주식 거래자들을 안심시키기 위해 뒤뚱거리고 있다.</td>\n",
              "    </tr>\n",
              "    <tr>\n",
              "      <th>5748</th>\n",
              "      <td>main-news</td>\n",
              "      <td>headlines</td>\n",
              "      <td>2016</td>\n",
              "      <td>1492</td>\n",
              "      <td>0.00</td>\n",
              "      <td>푸틴 대변인 : 도핑 혐의는 근거 없는 것으로 보인다.</td>\n",
              "      <td>가장 최근의 심한 날씨 : 토네이도 후 텍사스에서 1명 사망</td>\n",
              "    </tr>\n",
              "  </tbody>\n",
              "</table>\n",
              "<p>5749 rows × 7 columns</p>\n",
              "</div>\n",
              "      <button class=\"colab-df-convert\" onclick=\"convertToInteractive('df-7d421705-29f0-4902-b31c-a5a671ba1b32')\"\n",
              "              title=\"Convert this dataframe to an interactive table.\"\n",
              "              style=\"display:none;\">\n",
              "        \n",
              "  <svg xmlns=\"http://www.w3.org/2000/svg\" height=\"24px\"viewBox=\"0 0 24 24\"\n",
              "       width=\"24px\">\n",
              "    <path d=\"M0 0h24v24H0V0z\" fill=\"none\"/>\n",
              "    <path d=\"M18.56 5.44l.94 2.06.94-2.06 2.06-.94-2.06-.94-.94-2.06-.94 2.06-2.06.94zm-11 1L8.5 8.5l.94-2.06 2.06-.94-2.06-.94L8.5 2.5l-.94 2.06-2.06.94zm10 10l.94 2.06.94-2.06 2.06-.94-2.06-.94-.94-2.06-.94 2.06-2.06.94z\"/><path d=\"M17.41 7.96l-1.37-1.37c-.4-.4-.92-.59-1.43-.59-.52 0-1.04.2-1.43.59L10.3 9.45l-7.72 7.72c-.78.78-.78 2.05 0 2.83L4 21.41c.39.39.9.59 1.41.59.51 0 1.02-.2 1.41-.59l7.78-7.78 2.81-2.81c.8-.78.8-2.07 0-2.86zM5.41 20L4 18.59l7.72-7.72 1.47 1.35L5.41 20z\"/>\n",
              "  </svg>\n",
              "      </button>\n",
              "      \n",
              "  <style>\n",
              "    .colab-df-container {\n",
              "      display:flex;\n",
              "      flex-wrap:wrap;\n",
              "      gap: 12px;\n",
              "    }\n",
              "\n",
              "    .colab-df-convert {\n",
              "      background-color: #E8F0FE;\n",
              "      border: none;\n",
              "      border-radius: 50%;\n",
              "      cursor: pointer;\n",
              "      display: none;\n",
              "      fill: #1967D2;\n",
              "      height: 32px;\n",
              "      padding: 0 0 0 0;\n",
              "      width: 32px;\n",
              "    }\n",
              "\n",
              "    .colab-df-convert:hover {\n",
              "      background-color: #E2EBFA;\n",
              "      box-shadow: 0px 1px 2px rgba(60, 64, 67, 0.3), 0px 1px 3px 1px rgba(60, 64, 67, 0.15);\n",
              "      fill: #174EA6;\n",
              "    }\n",
              "\n",
              "    [theme=dark] .colab-df-convert {\n",
              "      background-color: #3B4455;\n",
              "      fill: #D2E3FC;\n",
              "    }\n",
              "\n",
              "    [theme=dark] .colab-df-convert:hover {\n",
              "      background-color: #434B5C;\n",
              "      box-shadow: 0px 1px 3px 1px rgba(0, 0, 0, 0.15);\n",
              "      filter: drop-shadow(0px 1px 2px rgba(0, 0, 0, 0.3));\n",
              "      fill: #FFFFFF;\n",
              "    }\n",
              "  </style>\n",
              "\n",
              "      <script>\n",
              "        const buttonEl =\n",
              "          document.querySelector('#df-7d421705-29f0-4902-b31c-a5a671ba1b32 button.colab-df-convert');\n",
              "        buttonEl.style.display =\n",
              "          google.colab.kernel.accessAllowed ? 'block' : 'none';\n",
              "\n",
              "        async function convertToInteractive(key) {\n",
              "          const element = document.querySelector('#df-7d421705-29f0-4902-b31c-a5a671ba1b32');\n",
              "          const dataTable =\n",
              "            await google.colab.kernel.invokeFunction('convertToInteractive',\n",
              "                                                     [key], {});\n",
              "          if (!dataTable) return;\n",
              "\n",
              "          const docLinkHtml = 'Like what you see? Visit the ' +\n",
              "            '<a target=\"_blank\" href=https://colab.research.google.com/notebooks/data_table.ipynb>data table notebook</a>'\n",
              "            + ' to learn more about interactive tables.';\n",
              "          element.innerHTML = '';\n",
              "          dataTable['output_type'] = 'display_data';\n",
              "          await google.colab.output.renderOutput(dataTable, element);\n",
              "          const docLink = document.createElement('div');\n",
              "          docLink.innerHTML = docLinkHtml;\n",
              "          element.appendChild(docLink);\n",
              "        }\n",
              "      </script>\n",
              "    </div>\n",
              "  </div>\n",
              "  "
            ]
          },
          "metadata": {},
          "execution_count": 5
        }
      ]
    },
    {
      "cell_type": "markdown",
      "source": [
        "## Transformers의 BertTokenizer 불러오기"
      ],
      "metadata": {
        "id": "SwTWiS3Y6_61"
      }
    },
    {
      "cell_type": "code",
      "source": [
        "!pip install transformers"
      ],
      "metadata": {
        "colab": {
          "base_uri": "https://localhost:8080/"
        },
        "id": "gynLWg6y69VM",
        "outputId": "319a1feb-0753-4815-edb6-e2ff9220c1ed"
      },
      "execution_count": null,
      "outputs": [
        {
          "output_type": "stream",
          "name": "stdout",
          "text": [
            "Collecting transformers\n",
            "  Downloading transformers-4.30.2-py3-none-any.whl (7.2 MB)\n",
            "\u001b[2K     \u001b[90m━━━━━━━━━━━━━━━━━━━━━━━━━━━━━━━━━━━━━━━━\u001b[0m \u001b[32m7.2/7.2 MB\u001b[0m \u001b[31m60.6 MB/s\u001b[0m eta \u001b[36m0:00:00\u001b[0m\n",
            "\u001b[?25hRequirement already satisfied: filelock in /usr/local/lib/python3.10/dist-packages (from transformers) (3.12.2)\n",
            "Collecting huggingface-hub<1.0,>=0.14.1 (from transformers)\n",
            "  Downloading huggingface_hub-0.16.3-py3-none-any.whl (268 kB)\n",
            "\u001b[2K     \u001b[90m━━━━━━━━━━━━━━━━━━━━━━━━━━━━━━━━━━━━━━\u001b[0m \u001b[32m268.8/268.8 kB\u001b[0m \u001b[31m26.6 MB/s\u001b[0m eta \u001b[36m0:00:00\u001b[0m\n",
            "\u001b[?25hRequirement already satisfied: numpy>=1.17 in /usr/local/lib/python3.10/dist-packages (from transformers) (1.22.4)\n",
            "Requirement already satisfied: packaging>=20.0 in /usr/local/lib/python3.10/dist-packages (from transformers) (23.1)\n",
            "Requirement already satisfied: pyyaml>=5.1 in /usr/local/lib/python3.10/dist-packages (from transformers) (6.0)\n",
            "Requirement already satisfied: regex!=2019.12.17 in /usr/local/lib/python3.10/dist-packages (from transformers) (2022.10.31)\n",
            "Requirement already satisfied: requests in /usr/local/lib/python3.10/dist-packages (from transformers) (2.27.1)\n",
            "Collecting tokenizers!=0.11.3,<0.14,>=0.11.1 (from transformers)\n",
            "  Downloading tokenizers-0.13.3-cp310-cp310-manylinux_2_17_x86_64.manylinux2014_x86_64.whl (7.8 MB)\n",
            "\u001b[2K     \u001b[90m━━━━━━━━━━━━━━━━━━━━━━━━━━━━━━━━━━━━━━━━\u001b[0m \u001b[32m7.8/7.8 MB\u001b[0m \u001b[31m88.5 MB/s\u001b[0m eta \u001b[36m0:00:00\u001b[0m\n",
            "\u001b[?25hCollecting safetensors>=0.3.1 (from transformers)\n",
            "  Downloading safetensors-0.3.1-cp310-cp310-manylinux_2_17_x86_64.manylinux2014_x86_64.whl (1.3 MB)\n",
            "\u001b[2K     \u001b[90m━━━━━━━━━━━━━━━━━━━━━━━━━━━━━━━━━━━━━━━━\u001b[0m \u001b[32m1.3/1.3 MB\u001b[0m \u001b[31m76.0 MB/s\u001b[0m eta \u001b[36m0:00:00\u001b[0m\n",
            "\u001b[?25hRequirement already satisfied: tqdm>=4.27 in /usr/local/lib/python3.10/dist-packages (from transformers) (4.65.0)\n",
            "Requirement already satisfied: fsspec in /usr/local/lib/python3.10/dist-packages (from huggingface-hub<1.0,>=0.14.1->transformers) (2023.6.0)\n",
            "Requirement already satisfied: typing-extensions>=3.7.4.3 in /usr/local/lib/python3.10/dist-packages (from huggingface-hub<1.0,>=0.14.1->transformers) (4.6.3)\n",
            "Requirement already satisfied: urllib3<1.27,>=1.21.1 in /usr/local/lib/python3.10/dist-packages (from requests->transformers) (1.26.16)\n",
            "Requirement already satisfied: certifi>=2017.4.17 in /usr/local/lib/python3.10/dist-packages (from requests->transformers) (2023.5.7)\n",
            "Requirement already satisfied: charset-normalizer~=2.0.0 in /usr/local/lib/python3.10/dist-packages (from requests->transformers) (2.0.12)\n",
            "Requirement already satisfied: idna<4,>=2.5 in /usr/local/lib/python3.10/dist-packages (from requests->transformers) (3.4)\n",
            "Installing collected packages: tokenizers, safetensors, huggingface-hub, transformers\n",
            "Successfully installed huggingface-hub-0.16.3 safetensors-0.3.1 tokenizers-0.13.3 transformers-4.30.2\n"
          ]
        }
      ]
    },
    {
      "cell_type": "code",
      "source": [
        "from transformers import *"
      ],
      "metadata": {
        "colab": {
          "base_uri": "https://localhost:8080/"
        },
        "id": "L73H3RHZ7M4b",
        "outputId": "0b0cde32-51fb-4e4b-f186-1fdd7391191f"
      },
      "execution_count": null,
      "outputs": [
        {
          "output_type": "stream",
          "name": "stderr",
          "text": [
            "WARNING:jax._src.xla_bridge:No GPU/TPU found, falling back to CPU. (Set TF_CPP_MIN_LOG_LEVEL=0 and rerun for more info.)\n",
            "/usr/local/lib/python3.10/dist-packages/transformers/generation_utils.py:24: FutureWarning: Importing `GenerationMixin` from `src/transformers/generation_utils.py` is deprecated and will be removed in Transformers v5. Import as `from transformers import GenerationMixin` instead.\n",
            "  warnings.warn(\n",
            "/usr/local/lib/python3.10/dist-packages/transformers/generation_tf_utils.py:24: FutureWarning: Importing `TFGenerationMixin` from `src/transformers/generation_tf_utils.py` is deprecated and will be removed in Transformers v5. Import as `from transformers import TFGenerationMixin` instead.\n",
            "  warnings.warn(\n",
            "/usr/local/lib/python3.10/dist-packages/transformers/generation_flax_utils.py:24: FutureWarning: Importing `FlaxGenerationMixin` from `src/transformers/generation_flax_utils.py` is deprecated and will be removed in Transformers v5. Import as `from transformers import FlaxGenerationMixin` instead.\n",
            "  warnings.warn(\n",
            "Xformers is not installed correctly. If you want to use memory_efficient_attention to accelerate training use the following command to install Xformers\n",
            "pip install xformers.\n"
          ]
        }
      ]
    },
    {
      "cell_type": "code",
      "source": [
        "tokenizer=BertTokenizer.from_pretrained('bert-base-multilingual-cased')"
      ],
      "metadata": {
        "colab": {
          "base_uri": "https://localhost:8080/",
          "height": 761,
          "referenced_widgets": [
            "e994b261655c4cbba040ad3452471812",
            "28534e4adaa649cb81f3297bcb5a77e5",
            "aea4b9f492304a2f826734bea55b999a",
            "bdadf08a8f1148b2a1c067e32f83d66b",
            "789f23731b0b4191b25170a93c0d71d6",
            "8af53fbc018b4f1ab1c1612b3345e76c",
            "38689063c25c4b6f99f03ae6e33fd8fe",
            "8b28451a3aef4ba9a1500f08187afcd4",
            "7f6469f8a5824c19a44b1f25f2531c0c",
            "ed0161d869a34d89b44c471a8d593380",
            "c99ac3e642c8404aa0db58c228838c6c",
            "4666157ba9e84c13ac73a0ff5c9d82ed",
            "b303867ed733430b88c55fa85cc446c8",
            "5fad32e898004ee0bf42664144fd7eda",
            "14c3d4d7d52048efb1ae2558b3ae9c32",
            "7ad6a2ea16974626b344567ec580ba26",
            "d14044afcda64affad8c59a0688ed2a1",
            "4cc24a399fc34e95ac2d9bab9a85a494",
            "fcf2925f2f434f92adc96dbb3d269e1d",
            "775d7b5b05cc491cb3484f1d295ccfb3",
            "321c685172384b27ae1ee54518fcd4c3",
            "995d0a1bb2fa4586b85a8146ba0c3bac",
            "ce9f4e6808ed4e0bb064092c068b7fe4",
            "e5b1aab0e85b46f4bb6f88bdaf9757a9",
            "dea6ab6fd08f4dac85de490fd4568fc0",
            "73ffd5a967a44d4eb9ac77d35bb87692",
            "3910582f9cab4ab89f8fb9a838abebd0",
            "98472f605ca04cbe8df83886aaa6a601",
            "18505e8bb56047f8afdf4d7747306dc1",
            "76ef0c7b59d245c3ac802686106c70ee",
            "837bef5b3aa24771bb468b4ac0747d7c",
            "08f95a243d9e4b66b1e91cfb01b2a632",
            "71c2b5cba9a5449285c5f29ae2a85292"
          ]
        },
        "id": "bK5I6x4W7SjM",
        "outputId": "0841b004-d674-4223-f34d-52640f605090"
      },
      "execution_count": null,
      "outputs": [
        {
          "output_type": "display_data",
          "data": {
            "text/plain": [
              "Downloading (…)solve/main/vocab.txt:   0%|          | 0.00/996k [00:00<?, ?B/s]"
            ],
            "application/vnd.jupyter.widget-view+json": {
              "version_major": 2,
              "version_minor": 0,
              "model_id": "e994b261655c4cbba040ad3452471812"
            }
          },
          "metadata": {}
        },
        {
          "output_type": "display_data",
          "data": {
            "text/plain": [
              "Downloading (…)okenizer_config.json:   0%|          | 0.00/29.0 [00:00<?, ?B/s]"
            ],
            "application/vnd.jupyter.widget-view+json": {
              "version_major": 2,
              "version_minor": 0,
              "model_id": "4666157ba9e84c13ac73a0ff5c9d82ed"
            }
          },
          "metadata": {}
        },
        {
          "output_type": "stream",
          "name": "stderr",
          "text": [
            "loading file vocab.txt from cache at /root/.cache/huggingface/hub/models--bert-base-multilingual-cased/snapshots/fdfce55e83dbed325647a63e7e1f5de19f0382ba/vocab.txt\n",
            "loading file added_tokens.json from cache at None\n",
            "loading file special_tokens_map.json from cache at None\n",
            "loading file tokenizer_config.json from cache at /root/.cache/huggingface/hub/models--bert-base-multilingual-cased/snapshots/fdfce55e83dbed325647a63e7e1f5de19f0382ba/tokenizer_config.json\n"
          ]
        },
        {
          "output_type": "display_data",
          "data": {
            "text/plain": [
              "Downloading (…)lve/main/config.json:   0%|          | 0.00/625 [00:00<?, ?B/s]"
            ],
            "application/vnd.jupyter.widget-view+json": {
              "version_major": 2,
              "version_minor": 0,
              "model_id": "ce9f4e6808ed4e0bb064092c068b7fe4"
            }
          },
          "metadata": {}
        },
        {
          "output_type": "stream",
          "name": "stderr",
          "text": [
            "loading configuration file config.json from cache at /root/.cache/huggingface/hub/models--bert-base-multilingual-cased/snapshots/fdfce55e83dbed325647a63e7e1f5de19f0382ba/config.json\n",
            "Model config BertConfig {\n",
            "  \"_name_or_path\": \"bert-base-multilingual-cased\",\n",
            "  \"architectures\": [\n",
            "    \"BertForMaskedLM\"\n",
            "  ],\n",
            "  \"attention_probs_dropout_prob\": 0.1,\n",
            "  \"classifier_dropout\": null,\n",
            "  \"directionality\": \"bidi\",\n",
            "  \"hidden_act\": \"gelu\",\n",
            "  \"hidden_dropout_prob\": 0.1,\n",
            "  \"hidden_size\": 768,\n",
            "  \"initializer_range\": 0.02,\n",
            "  \"intermediate_size\": 3072,\n",
            "  \"layer_norm_eps\": 1e-12,\n",
            "  \"max_position_embeddings\": 512,\n",
            "  \"model_type\": \"bert\",\n",
            "  \"num_attention_heads\": 12,\n",
            "  \"num_hidden_layers\": 12,\n",
            "  \"pad_token_id\": 0,\n",
            "  \"pooler_fc_size\": 768,\n",
            "  \"pooler_num_attention_heads\": 12,\n",
            "  \"pooler_num_fc_layers\": 3,\n",
            "  \"pooler_size_per_head\": 128,\n",
            "  \"pooler_type\": \"first_token_transform\",\n",
            "  \"position_embedding_type\": \"absolute\",\n",
            "  \"transformers_version\": \"4.30.2\",\n",
            "  \"type_vocab_size\": 2,\n",
            "  \"use_cache\": true,\n",
            "  \"vocab_size\": 119547\n",
            "}\n",
            "\n"
          ]
        }
      ]
    },
    {
      "cell_type": "code",
      "source": [
        "cache_dir = '.cache/huggingface/hub/models--bert-base-multilingual-cased/snapshots/fdfce55e83dbed325647a63e7e1f5de19f0382ba'"
      ],
      "metadata": {
        "id": "lF8rq-LC7idD"
      },
      "execution_count": null,
      "outputs": []
    },
    {
      "cell_type": "markdown",
      "source": [
        "## 문장 길이 분석"
      ],
      "metadata": {
        "id": "pXh3ENIH8DTQ"
      }
    },
    {
      "cell_type": "code",
      "source": [
        "# 두 sentence 합치기\n",
        "\n",
        "sentence = pd.Series(train_df.sentence1.astype(str).tolist()+ train_df.sentence2.astype(str).tolist())\n",
        "sentence"
      ],
      "metadata": {
        "colab": {
          "base_uri": "https://localhost:8080/"
        },
        "id": "TyRl6UwP7ord",
        "outputId": "690c42be-689b-4e0d-c979-f96d5606a7b1"
      },
      "execution_count": null,
      "outputs": [
        {
          "output_type": "execute_result",
          "data": {
            "text/plain": [
              "0                                         비행기가 이륙하고 있다.\n",
              "1                                 한 남자가 큰 플루트를 연주하고 있다.\n",
              "2                                한 남자가 피자에 치즈를 뿌려놓고 있다.\n",
              "3                                      세 남자가 체스를 하고 있다.\n",
              "4                                    한 남자가 첼로를 연주하고 있다.\n",
              "                              ...                      \n",
              "11493                          메르켈은 나토와 라트비아의 연대를 약속한다.\n",
              "11494    나일강에서 더 많은 시체가 발견되면서 이집트 보트 충돌 사고 사망자 수가 증가한다.\n",
              "11495                        시 주석 : 에볼라 퇴치를 계속 돕기 위한 중국\n",
              "11496               중국은 불안한 주식 거래자들을 안심시키기 위해 뒤뚱거리고 있다.\n",
              "11497                 가장 최근의 심한 날씨 : 토네이도 후 텍사스에서 1명 사망\n",
              "Length: 11498, dtype: object"
            ]
          },
          "metadata": {},
          "execution_count": 10
        }
      ]
    },
    {
      "cell_type": "code",
      "source": [
        "sen_len = sentence.apply(lambda x : len(tokenizer.tokenize(x)))\n",
        "sen_len"
      ],
      "metadata": {
        "colab": {
          "base_uri": "https://localhost:8080/"
        },
        "id": "md6xNQmg8fM4",
        "outputId": "6ea3ed7c-fd71-4b79-bdf9-4330a865be80"
      },
      "execution_count": null,
      "outputs": [
        {
          "output_type": "execute_result",
          "data": {
            "text/plain": [
              "0         8\n",
              "1        12\n",
              "2        15\n",
              "3         8\n",
              "4        11\n",
              "         ..\n",
              "11493    17\n",
              "11494    29\n",
              "11495    14\n",
              "11496    23\n",
              "11497    22\n",
              "Length: 11498, dtype: int64"
            ]
          },
          "metadata": {},
          "execution_count": 11
        }
      ]
    },
    {
      "cell_type": "code",
      "source": [
        "import matplotlib.pyplot as plt"
      ],
      "metadata": {
        "id": "hT6NG9OI8r3H"
      },
      "execution_count": null,
      "outputs": []
    },
    {
      "cell_type": "code",
      "source": [
        "# histogram\n",
        "\n",
        "plt.figure(figsize=(10,5))\n",
        "\n",
        "plt.hist(sen_len, bins=100,color='r')\n",
        "\n",
        "plt.title('Number of tokens of sentences')\n",
        "plt.xlabel('Numver of tokens')\n",
        "plt.ylabel('Number of sentences')\n",
        "plt.show()"
      ],
      "metadata": {
        "colab": {
          "base_uri": "https://localhost:8080/",
          "height": 487
        },
        "id": "z5-qSxAE8xSe",
        "outputId": "569ce6ad-f770-45fe-e3df-7ccfc1d569cb"
      },
      "execution_count": null,
      "outputs": [
        {
          "output_type": "display_data",
          "data": {
            "text/plain": [
              "<Figure size 1000x500 with 1 Axes>"
            ],
            "image/png": "[encoded data removed]"
          },
          "metadata": {}
        }
      ]
    },
    {
      "cell_type": "code",
      "source": [
        "# boxplot\n",
        "\n",
        "plt.boxplot(sen_len,labels=['tokens'],showmeans=True)\n",
        "plt.show()"
      ],
      "metadata": {
        "colab": {
          "base_uri": "https://localhost:8080/",
          "height": 430
        },
        "id": "teayBxrZ9OaO",
        "outputId": "dd36864e-c918-467a-da10-b8a807b96929"
      },
      "execution_count": null,
      "outputs": [
        {
          "output_type": "display_data",
          "data": {
            "text/plain": [
              "<Figure size 640x480 with 1 Axes>"
            ],
            "image/png": "[encoded data removed]"
          },
          "metadata": {}
        }
      ]
    },
    {
      "cell_type": "code",
      "source": [
        "import numpy as np"
      ],
      "metadata": {
        "id": "BSihyapr00Bi"
      },
      "execution_count": null,
      "outputs": []
    },
    {
      "cell_type": "code",
      "source": [
        "# statistic\n",
        "print('최대 길이 : {}'.format(np.max(sen_len)))\n",
        "print('최소 길이 : {}'.format(np.min(sen_len)))\n",
        "print('평균 길이 : {:.2f}'.format(np.mean(sen_len)))\n",
        "print('중간 길이 : {:.2f}'.format(np.median(sen_len)))\n",
        "print('1 사분위 길이 : {}'.format(np.percentile(sen_len,25)))\n",
        "print('3 사분위 길이 : {}'.format(np.percentile(sen_len,75))) # => 채택"
      ],
      "metadata": {
        "id": "1uXvAzqn9owL",
        "colab": {
          "base_uri": "https://localhost:8080/"
        },
        "outputId": "f2a2013e-9bd4-48fa-a90a-bdb3f72180de"
      },
      "execution_count": null,
      "outputs": [
        {
          "output_type": "stream",
          "name": "stdout",
          "text": [
            "최대 길이 : 102\n",
            "최소 길이 : 2\n",
            "평균 길이 : 18.74\n",
            "중간 길이 : 16.00\n",
            "1 사분위 길이 : 12.0\n",
            "3 사분위 길이 : 22.0\n"
          ]
        }
      ]
    },
    {
      "cell_type": "markdown",
      "source": [
        "MAX_LEN = 22*2 = 44"
      ],
      "metadata": {
        "id": "drQaRkLN38yP"
      }
    },
    {
      "cell_type": "markdown",
      "source": [
        "## LABEL"
      ],
      "metadata": {
        "id": "zGBhc9iD4J3H"
      }
    },
    {
      "cell_type": "code",
      "source": [
        "train_df.genre.value_counts().plot(kind='bar')"
      ],
      "metadata": {
        "colab": {
          "base_uri": "https://localhost:8080/",
          "height": 532
        },
        "id": "RAq764DM3w_Z",
        "outputId": "2020bab1-b489-4c41-c6f7-7e3f6cebfba5"
      },
      "execution_count": null,
      "outputs": [
        {
          "output_type": "execute_result",
          "data": {
            "text/plain": [
              "<Axes: >"
            ]
          },
          "metadata": {},
          "execution_count": 23
        },
        {
          "output_type": "display_data",
          "data": {
            "text/plain": [
              "<Figure size 640x480 with 1 Axes>"
            ],
            "image/png": "[encoded data removed]"
          },
          "metadata": {}
        }
      ]
    },
    {
      "cell_type": "code",
      "source": [
        "train_df.score.plot(kind='hist')"
      ],
      "metadata": {
        "colab": {
          "base_uri": "https://localhost:8080/",
          "height": 448
        },
        "id": "umaOpvwY4JqI",
        "outputId": "7bc607c4-5daf-43ff-a2b2-844a9dfe0c7f"
      },
      "execution_count": null,
      "outputs": [
        {
          "output_type": "execute_result",
          "data": {
            "text/plain": [
              "<Axes: ylabel='Frequency'>"
            ]
          },
          "metadata": {},
          "execution_count": 28
        },
        {
          "output_type": "display_data",
          "data": {
            "text/plain": [
              "<Figure size 640x480 with 1 Axes>"
            ],
            "image/png": "[encoded data removed]"
          },
          "metadata": {}
        }
      ]
    },
    {
      "cell_type": "markdown",
      "source": [
        "살짝 불균형이 있기는 하지만 심하지 않다"
      ],
      "metadata": {
        "id": "2Meyd6TM44FS"
      }
    },
    {
      "cell_type": "markdown",
      "source": [
        "# 데이터 전처리"
      ],
      "metadata": {
        "id": "slWKstq548zj"
      }
    },
    {
      "cell_type": "markdown",
      "source": [
        "## Transformers의 BertTokenizer 불러오기"
      ],
      "metadata": {
        "id": "khIGDfks5dfi"
      }
    },
    {
      "cell_type": "code",
      "source": [
        "!pip install transformers"
      ],
      "metadata": {
        "colab": {
          "base_uri": "https://localhost:8080/"
        },
        "outputId": "a3ac8576-248f-42a9-9cb7-65e0f0afc35e",
        "id": "rq3HI-3R5dfi"
      },
      "execution_count": 5,
      "outputs": [
        {
          "output_type": "stream",
          "name": "stdout",
          "text": [
            "Requirement already satisfied: transformers in /usr/local/lib/python3.10/dist-packages (4.30.2)\n",
            "Requirement already satisfied: filelock in /usr/local/lib/python3.10/dist-packages (from transformers) (3.12.2)\n",
            "Requirement already satisfied: huggingface-hub<1.0,>=0.14.1 in /usr/local/lib/python3.10/dist-packages (from transformers) (0.16.4)\n",
            "Requirement already satisfied: numpy>=1.17 in /usr/local/lib/python3.10/dist-packages (from transformers) (1.22.4)\n",
            "Requirement already satisfied: packaging>=20.0 in /usr/local/lib/python3.10/dist-packages (from transformers) (23.1)\n",
            "Requirement already satisfied: pyyaml>=5.1 in /usr/local/lib/python3.10/dist-packages (from transformers) (6.0)\n",
            "Requirement already satisfied: regex!=2019.12.17 in /usr/local/lib/python3.10/dist-packages (from transformers) (2022.10.31)\n",
            "Requirement already satisfied: requests in /usr/local/lib/python3.10/dist-packages (from transformers) (2.27.1)\n",
            "Requirement already satisfied: tokenizers!=0.11.3,<0.14,>=0.11.1 in /usr/local/lib/python3.10/dist-packages (from transformers) (0.13.3)\n",
            "Requirement already satisfied: safetensors>=0.3.1 in /usr/local/lib/python3.10/dist-packages (from transformers) (0.3.1)\n",
            "Requirement already satisfied: tqdm>=4.27 in /usr/local/lib/python3.10/dist-packages (from transformers) (4.65.0)\n",
            "Requirement already satisfied: fsspec in /usr/local/lib/python3.10/dist-packages (from huggingface-hub<1.0,>=0.14.1->transformers) (2023.6.0)\n",
            "Requirement already satisfied: typing-extensions>=3.7.4.3 in /usr/local/lib/python3.10/dist-packages (from huggingface-hub<1.0,>=0.14.1->transformers) (4.6.3)\n",
            "Requirement already satisfied: urllib3<1.27,>=1.21.1 in /usr/local/lib/python3.10/dist-packages (from requests->transformers) (1.26.16)\n",
            "Requirement already satisfied: certifi>=2017.4.17 in /usr/local/lib/python3.10/dist-packages (from requests->transformers) (2023.5.7)\n",
            "Requirement already satisfied: charset-normalizer~=2.0.0 in /usr/local/lib/python3.10/dist-packages (from requests->transformers) (2.0.12)\n",
            "Requirement already satisfied: idna<4,>=2.5 in /usr/local/lib/python3.10/dist-packages (from requests->transformers) (3.4)\n"
          ]
        }
      ]
    },
    {
      "cell_type": "code",
      "source": [
        "from transformers import *"
      ],
      "metadata": {
        "id": "DHQyY1Wh5dfj"
      },
      "execution_count": 6,
      "outputs": []
    },
    {
      "cell_type": "code",
      "source": [
        "tokenizer=BertTokenizer.from_pretrained('bert-base-multilingual-cased')"
      ],
      "metadata": {
        "colab": {
          "base_uri": "https://localhost:8080/"
        },
        "outputId": "698bf931-fdf4-4368-9b36-9b4b1c191eb1",
        "id": "8bYwR6FX5dfj"
      },
      "execution_count": 7,
      "outputs": [
        {
          "output_type": "stream",
          "name": "stderr",
          "text": [
            "loading file vocab.txt from cache at /root/.cache/huggingface/hub/models--bert-base-multilingual-cased/snapshots/fdfce55e83dbed325647a63e7e1f5de19f0382ba/vocab.txt\n",
            "loading file added_tokens.json from cache at None\n",
            "loading file special_tokens_map.json from cache at None\n",
            "loading file tokenizer_config.json from cache at /root/.cache/huggingface/hub/models--bert-base-multilingual-cased/snapshots/fdfce55e83dbed325647a63e7e1f5de19f0382ba/tokenizer_config.json\n",
            "loading configuration file config.json from cache at /root/.cache/huggingface/hub/models--bert-base-multilingual-cased/snapshots/fdfce55e83dbed325647a63e7e1f5de19f0382ba/config.json\n",
            "Model config BertConfig {\n",
            "  \"_name_or_path\": \"bert-base-multilingual-cased\",\n",
            "  \"architectures\": [\n",
            "    \"BertForMaskedLM\"\n",
            "  ],\n",
            "  \"attention_probs_dropout_prob\": 0.1,\n",
            "  \"classifier_dropout\": null,\n",
            "  \"directionality\": \"bidi\",\n",
            "  \"hidden_act\": \"gelu\",\n",
            "  \"hidden_dropout_prob\": 0.1,\n",
            "  \"hidden_size\": 768,\n",
            "  \"initializer_range\": 0.02,\n",
            "  \"intermediate_size\": 3072,\n",
            "  \"layer_norm_eps\": 1e-12,\n",
            "  \"max_position_embeddings\": 512,\n",
            "  \"model_type\": \"bert\",\n",
            "  \"num_attention_heads\": 12,\n",
            "  \"num_hidden_layers\": 12,\n",
            "  \"pad_token_id\": 0,\n",
            "  \"pooler_fc_size\": 768,\n",
            "  \"pooler_num_attention_heads\": 12,\n",
            "  \"pooler_num_fc_layers\": 3,\n",
            "  \"pooler_size_per_head\": 128,\n",
            "  \"pooler_type\": \"first_token_transform\",\n",
            "  \"position_embedding_type\": \"absolute\",\n",
            "  \"transformers_version\": \"4.30.2\",\n",
            "  \"type_vocab_size\": 2,\n",
            "  \"use_cache\": true,\n",
            "  \"vocab_size\": 119547\n",
            "}\n",
            "\n"
          ]
        }
      ]
    },
    {
      "cell_type": "code",
      "source": [
        "cache_dir = '.cache/huggingface/hub/models--bert-base-multilingual-cased/snapshots/fdfce55e83dbed325647a63e7e1f5de19f0382ba'"
      ],
      "metadata": {
        "id": "fakRqPn25dfj"
      },
      "execution_count": 8,
      "outputs": []
    },
    {
      "cell_type": "markdown",
      "source": [
        "## 전처리"
      ],
      "metadata": {
        "id": "Ml3J9G0q5gQQ"
      }
    },
    {
      "cell_type": "code",
      "source": [
        "import pandas as pd"
      ],
      "metadata": {
        "id": "soQhxwnimbcA"
      },
      "execution_count": 9,
      "outputs": []
    },
    {
      "cell_type": "code",
      "source": [
        "cd drive/MyDrive/Pytorch \\NLP/BERT/data_in/KorNLUDatasets/KorSTS"
      ],
      "metadata": {
        "colab": {
          "base_uri": "https://localhost:8080/"
        },
        "id": "RnDSW7MzmeUY",
        "outputId": "dc01052d-0155-4639-b060-c2531067093c"
      },
      "execution_count": 10,
      "outputs": [
        {
          "output_type": "stream",
          "name": "stdout",
          "text": [
            "/content/drive/MyDrive/Pytorch NLP/BERT/data_in/KorNLUDatasets/KorSTS\n"
          ]
        }
      ]
    },
    {
      "cell_type": "code",
      "source": [
        "ls"
      ],
      "metadata": {
        "colab": {
          "base_uri": "https://localhost:8080/"
        },
        "id": "73saCmGT51aV",
        "outputId": "fb3bb8b5-ed47-4a21-c1e4-a2721b5eb673"
      },
      "execution_count": 11,
      "outputs": [
        {
          "output_type": "stream",
          "name": "stdout",
          "text": [
            "sts-dev.tsv  sts-test.tsv  sts-train.tsv\n"
          ]
        }
      ]
    },
    {
      "cell_type": "code",
      "source": [
        "train_df = pd.read_csv('sts-train.tsv',sep='\\t',quoting=3)"
      ],
      "metadata": {
        "id": "Nl-NTggb52KN"
      },
      "execution_count": 12,
      "outputs": []
    },
    {
      "cell_type": "code",
      "source": [
        "val_df = pd.read_csv('sts-dev.tsv',sep='\\t',quoting=3)"
      ],
      "metadata": {
        "id": "4cZu1axk522O"
      },
      "execution_count": 13,
      "outputs": []
    },
    {
      "cell_type": "code",
      "source": [
        "test_df = pd.read_csv('sts-test.tsv',sep='\\t',quoting=3)"
      ],
      "metadata": {
        "id": "Ib0iFGkL57bV"
      },
      "execution_count": 14,
      "outputs": []
    },
    {
      "cell_type": "code",
      "source": [
        "print('train : {} | val : {} | test : {}'.format(len(train_df),len(val_df),len(test_df)))"
      ],
      "metadata": {
        "colab": {
          "base_uri": "https://localhost:8080/"
        },
        "id": "Bt0uZ_tW6DZ4",
        "outputId": "eada8e3b-5a45-403b-f03a-4031ae98d882"
      },
      "execution_count": null,
      "outputs": [
        {
          "output_type": "stream",
          "name": "stdout",
          "text": [
            "train : 5749 | val : 1500 | test : 1379\n"
          ]
        }
      ]
    },
    {
      "cell_type": "code",
      "source": [
        "import torch"
      ],
      "metadata": {
        "id": "xURUIaQz5SnJ"
      },
      "execution_count": 15,
      "outputs": []
    },
    {
      "cell_type": "code",
      "source": [
        "# hyperparameters\n",
        "\n",
        "MAX_LEN = 22*2\n",
        "BATCH_SIZE = 32\n",
        "VALID_SPLIT = 0.2\n",
        "EPOCH = 3\n",
        "\n",
        "device = 'cuda' if torch.cuda.is_available() else 'cpu'"
      ],
      "metadata": {
        "id": "jaabbttt48eL"
      },
      "execution_count": 16,
      "outputs": []
    },
    {
      "cell_type": "markdown",
      "source": [
        "### 특수문자 제거"
      ],
      "metadata": {
        "id": "1EDGTInP6Py-"
      }
    },
    {
      "cell_type": "code",
      "source": [
        "train_df.head()"
      ],
      "metadata": {
        "colab": {
          "base_uri": "https://localhost:8080/",
          "height": 204
        },
        "id": "ClCa2Qkw68MB",
        "outputId": "8d2ec852-afea-450e-aa8a-41b734b175aa"
      },
      "execution_count": null,
      "outputs": [
        {
          "output_type": "execute_result",
          "data": {
            "text/plain": [
              "           genre filename      year  id  score               sentence1  \\\n",
              "0  main-captions   MSRvid  2012test   1   5.00           비행기가 이륙하고 있다.   \n",
              "1  main-captions   MSRvid  2012test   4   3.80   한 남자가 큰 플루트를 연주하고 있다.   \n",
              "2  main-captions   MSRvid  2012test   5   3.80  한 남자가 피자에 치즈를 뿌려놓고 있다.   \n",
              "3  main-captions   MSRvid  2012test   6   2.60        세 남자가 체스를 하고 있다.   \n",
              "4  main-captions   MSRvid  2012test   9   4.25      한 남자가 첼로를 연주하고 있다.   \n",
              "\n",
              "                      sentence2  \n",
              "0                 비행기가 이륙하고 있다.  \n",
              "1             남자가 플루트를 연주하고 있다.  \n",
              "2  한 남자가 구운 피자에 치즈 조각을 뿌려놓고 있다.  \n",
              "3              두 남자가 체스를 하고 있다.  \n",
              "4       자리에 앉은 남자가 첼로를 연주하고 있다.  "
            ],
            "text/html": [
              "\n",
              "  <div id=\"df-7ba504c3-0083-4070-9635-42c1cb0a1129\">\n",
              "    <div class=\"colab-df-container\">\n",
              "      <div>\n",
              "<style scoped>\n",
              "    .dataframe tbody tr th:only-of-type {\n",
              "        vertical-align: middle;\n",
              "    }\n",
              "\n",
              "    .dataframe tbody tr th {\n",
              "        vertical-align: top;\n",
              "    }\n",
              "\n",
              "    .dataframe thead th {\n",
              "        text-align: right;\n",
              "    }\n",
              "</style>\n",
              "<table border=\"1\" class=\"dataframe\">\n",
              "  <thead>\n",
              "    <tr style=\"text-align: right;\">\n",
              "      <th></th>\n",
              "      <th>genre</th>\n",
              "      <th>filename</th>\n",
              "      <th>year</th>\n",
              "      <th>id</th>\n",
              "      <th>score</th>\n",
              "      <th>sentence1</th>\n",
              "      <th>sentence2</th>\n",
              "    </tr>\n",
              "  </thead>\n",
              "  <tbody>\n",
              "    <tr>\n",
              "      <th>0</th>\n",
              "      <td>main-captions</td>\n",
              "      <td>MSRvid</td>\n",
              "      <td>2012test</td>\n",
              "      <td>1</td>\n",
              "      <td>5.00</td>\n",
              "      <td>비행기가 이륙하고 있다.</td>\n",
              "      <td>비행기가 이륙하고 있다.</td>\n",
              "    </tr>\n",
              "    <tr>\n",
              "      <th>1</th>\n",
              "      <td>main-captions</td>\n",
              "      <td>MSRvid</td>\n",
              "      <td>2012test</td>\n",
              "      <td>4</td>\n",
              "      <td>3.80</td>\n",
              "      <td>한 남자가 큰 플루트를 연주하고 있다.</td>\n",
              "      <td>남자가 플루트를 연주하고 있다.</td>\n",
              "    </tr>\n",
              "    <tr>\n",
              "      <th>2</th>\n",
              "      <td>main-captions</td>\n",
              "      <td>MSRvid</td>\n",
              "      <td>2012test</td>\n",
              "      <td>5</td>\n",
              "      <td>3.80</td>\n",
              "      <td>한 남자가 피자에 치즈를 뿌려놓고 있다.</td>\n",
              "      <td>한 남자가 구운 피자에 치즈 조각을 뿌려놓고 있다.</td>\n",
              "    </tr>\n",
              "    <tr>\n",
              "      <th>3</th>\n",
              "      <td>main-captions</td>\n",
              "      <td>MSRvid</td>\n",
              "      <td>2012test</td>\n",
              "      <td>6</td>\n",
              "      <td>2.60</td>\n",
              "      <td>세 남자가 체스를 하고 있다.</td>\n",
              "      <td>두 남자가 체스를 하고 있다.</td>\n",
              "    </tr>\n",
              "    <tr>\n",
              "      <th>4</th>\n",
              "      <td>main-captions</td>\n",
              "      <td>MSRvid</td>\n",
              "      <td>2012test</td>\n",
              "      <td>9</td>\n",
              "      <td>4.25</td>\n",
              "      <td>한 남자가 첼로를 연주하고 있다.</td>\n",
              "      <td>자리에 앉은 남자가 첼로를 연주하고 있다.</td>\n",
              "    </tr>\n",
              "  </tbody>\n",
              "</table>\n",
              "</div>\n",
              "      <button class=\"colab-df-convert\" onclick=\"convertToInteractive('df-7ba504c3-0083-4070-9635-42c1cb0a1129')\"\n",
              "              title=\"Convert this dataframe to an interactive table.\"\n",
              "              style=\"display:none;\">\n",
              "        \n",
              "  <svg xmlns=\"http://www.w3.org/2000/svg\" height=\"24px\"viewBox=\"0 0 24 24\"\n",
              "       width=\"24px\">\n",
              "    <path d=\"M0 0h24v24H0V0z\" fill=\"none\"/>\n",
              "    <path d=\"M18.56 5.44l.94 2.06.94-2.06 2.06-.94-2.06-.94-.94-2.06-.94 2.06-2.06.94zm-11 1L8.5 8.5l.94-2.06 2.06-.94-2.06-.94L8.5 2.5l-.94 2.06-2.06.94zm10 10l.94 2.06.94-2.06 2.06-.94-2.06-.94-.94-2.06-.94 2.06-2.06.94z\"/><path d=\"M17.41 7.96l-1.37-1.37c-.4-.4-.92-.59-1.43-.59-.52 0-1.04.2-1.43.59L10.3 9.45l-7.72 7.72c-.78.78-.78 2.05 0 2.83L4 21.41c.39.39.9.59 1.41.59.51 0 1.02-.2 1.41-.59l7.78-7.78 2.81-2.81c.8-.78.8-2.07 0-2.86zM5.41 20L4 18.59l7.72-7.72 1.47 1.35L5.41 20z\"/>\n",
              "  </svg>\n",
              "      </button>\n",
              "      \n",
              "  <style>\n",
              "    .colab-df-container {\n",
              "      display:flex;\n",
              "      flex-wrap:wrap;\n",
              "      gap: 12px;\n",
              "    }\n",
              "\n",
              "    .colab-df-convert {\n",
              "      background-color: #E8F0FE;\n",
              "      border: none;\n",
              "      border-radius: 50%;\n",
              "      cursor: pointer;\n",
              "      display: none;\n",
              "      fill: #1967D2;\n",
              "      height: 32px;\n",
              "      padding: 0 0 0 0;\n",
              "      width: 32px;\n",
              "    }\n",
              "\n",
              "    .colab-df-convert:hover {\n",
              "      background-color: #E2EBFA;\n",
              "      box-shadow: 0px 1px 2px rgba(60, 64, 67, 0.3), 0px 1px 3px 1px rgba(60, 64, 67, 0.15);\n",
              "      fill: #174EA6;\n",
              "    }\n",
              "\n",
              "    [theme=dark] .colab-df-convert {\n",
              "      background-color: #3B4455;\n",
              "      fill: #D2E3FC;\n",
              "    }\n",
              "\n",
              "    [theme=dark] .colab-df-convert:hover {\n",
              "      background-color: #434B5C;\n",
              "      box-shadow: 0px 1px 3px 1px rgba(0, 0, 0, 0.15);\n",
              "      filter: drop-shadow(0px 1px 2px rgba(0, 0, 0, 0.3));\n",
              "      fill: #FFFFFF;\n",
              "    }\n",
              "  </style>\n",
              "\n",
              "      <script>\n",
              "        const buttonEl =\n",
              "          document.querySelector('#df-7ba504c3-0083-4070-9635-42c1cb0a1129 button.colab-df-convert');\n",
              "        buttonEl.style.display =\n",
              "          google.colab.kernel.accessAllowed ? 'block' : 'none';\n",
              "\n",
              "        async function convertToInteractive(key) {\n",
              "          const element = document.querySelector('#df-7ba504c3-0083-4070-9635-42c1cb0a1129');\n",
              "          const dataTable =\n",
              "            await google.colab.kernel.invokeFunction('convertToInteractive',\n",
              "                                                     [key], {});\n",
              "          if (!dataTable) return;\n",
              "\n",
              "          const docLinkHtml = 'Like what you see? Visit the ' +\n",
              "            '<a target=\"_blank\" href=https://colab.research.google.com/notebooks/data_table.ipynb>data table notebook</a>'\n",
              "            + ' to learn more about interactive tables.';\n",
              "          element.innerHTML = '';\n",
              "          dataTable['output_type'] = 'display_data';\n",
              "          await google.colab.output.renderOutput(dataTable, element);\n",
              "          const docLink = document.createElement('div');\n",
              "          docLink.innerHTML = docLinkHtml;\n",
              "          element.appendChild(docLink);\n",
              "        }\n",
              "      </script>\n",
              "    </div>\n",
              "  </div>\n",
              "  "
            ]
          },
          "metadata": {},
          "execution_count": 38
        }
      ]
    },
    {
      "cell_type": "code",
      "source": [
        "train_df['sentence1']=train_df['sentence1'].astype(str).str.replace('[^a-zA-Z0-9ㄱ-ㅣ가-힣\\\\s]',' ')\n",
        "train_df['sentence2']=train_df['sentence2'].astype(str).str.replace('[^a-zA-Z0-9ㄱ-ㅣ가-힣\\\\s]',' ')"
      ],
      "metadata": {
        "colab": {
          "base_uri": "https://localhost:8080/"
        },
        "id": "X07HMosa5o98",
        "outputId": "6447ace5-a249-4d20-ef5b-b116fd045880"
      },
      "execution_count": 17,
      "outputs": [
        {
          "output_type": "stream",
          "name": "stderr",
          "text": [
            "<ipython-input-17-d28615a25845>:1: FutureWarning: The default value of regex will change from True to False in a future version.\n",
            "  train_df['sentence1']=train_df['sentence1'].astype(str).str.replace('[^a-zA-Z0-9ㄱ-ㅣ가-힣\\\\s]',' ')\n",
            "<ipython-input-17-d28615a25845>:2: FutureWarning: The default value of regex will change from True to False in a future version.\n",
            "  train_df['sentence2']=train_df['sentence2'].astype(str).str.replace('[^a-zA-Z0-9ㄱ-ㅣ가-힣\\\\s]',' ')\n"
          ]
        }
      ]
    },
    {
      "cell_type": "code",
      "source": [
        "train_df.head()"
      ],
      "metadata": {
        "colab": {
          "base_uri": "https://localhost:8080/",
          "height": 204
        },
        "id": "LUPXELJb7gbh",
        "outputId": "ba6a7eb5-094c-4e71-ba06-f33653bf3458"
      },
      "execution_count": null,
      "outputs": [
        {
          "output_type": "execute_result",
          "data": {
            "text/plain": [
              "           genre filename      year  id  score               sentence1  \\\n",
              "0  main-captions   MSRvid  2012test   1   5.00           비행기가 이륙하고 있다    \n",
              "1  main-captions   MSRvid  2012test   4   3.80   한 남자가 큰 플루트를 연주하고 있다    \n",
              "2  main-captions   MSRvid  2012test   5   3.80  한 남자가 피자에 치즈를 뿌려놓고 있다    \n",
              "3  main-captions   MSRvid  2012test   6   2.60        세 남자가 체스를 하고 있다    \n",
              "4  main-captions   MSRvid  2012test   9   4.25      한 남자가 첼로를 연주하고 있다    \n",
              "\n",
              "                      sentence2  \n",
              "0                 비행기가 이륙하고 있다   \n",
              "1             남자가 플루트를 연주하고 있다   \n",
              "2  한 남자가 구운 피자에 치즈 조각을 뿌려놓고 있다   \n",
              "3              두 남자가 체스를 하고 있다   \n",
              "4       자리에 앉은 남자가 첼로를 연주하고 있다   "
            ],
            "text/html": [
              "\n",
              "  <div id=\"df-00df7c6c-0384-4dfd-9ee1-e027fd5112e7\">\n",
              "    <div class=\"colab-df-container\">\n",
              "      <div>\n",
              "<style scoped>\n",
              "    .dataframe tbody tr th:only-of-type {\n",
              "        vertical-align: middle;\n",
              "    }\n",
              "\n",
              "    .dataframe tbody tr th {\n",
              "        vertical-align: top;\n",
              "    }\n",
              "\n",
              "    .dataframe thead th {\n",
              "        text-align: right;\n",
              "    }\n",
              "</style>\n",
              "<table border=\"1\" class=\"dataframe\">\n",
              "  <thead>\n",
              "    <tr style=\"text-align: right;\">\n",
              "      <th></th>\n",
              "      <th>genre</th>\n",
              "      <th>filename</th>\n",
              "      <th>year</th>\n",
              "      <th>id</th>\n",
              "      <th>score</th>\n",
              "      <th>sentence1</th>\n",
              "      <th>sentence2</th>\n",
              "    </tr>\n",
              "  </thead>\n",
              "  <tbody>\n",
              "    <tr>\n",
              "      <th>0</th>\n",
              "      <td>main-captions</td>\n",
              "      <td>MSRvid</td>\n",
              "      <td>2012test</td>\n",
              "      <td>1</td>\n",
              "      <td>5.00</td>\n",
              "      <td>비행기가 이륙하고 있다</td>\n",
              "      <td>비행기가 이륙하고 있다</td>\n",
              "    </tr>\n",
              "    <tr>\n",
              "      <th>1</th>\n",
              "      <td>main-captions</td>\n",
              "      <td>MSRvid</td>\n",
              "      <td>2012test</td>\n",
              "      <td>4</td>\n",
              "      <td>3.80</td>\n",
              "      <td>한 남자가 큰 플루트를 연주하고 있다</td>\n",
              "      <td>남자가 플루트를 연주하고 있다</td>\n",
              "    </tr>\n",
              "    <tr>\n",
              "      <th>2</th>\n",
              "      <td>main-captions</td>\n",
              "      <td>MSRvid</td>\n",
              "      <td>2012test</td>\n",
              "      <td>5</td>\n",
              "      <td>3.80</td>\n",
              "      <td>한 남자가 피자에 치즈를 뿌려놓고 있다</td>\n",
              "      <td>한 남자가 구운 피자에 치즈 조각을 뿌려놓고 있다</td>\n",
              "    </tr>\n",
              "    <tr>\n",
              "      <th>3</th>\n",
              "      <td>main-captions</td>\n",
              "      <td>MSRvid</td>\n",
              "      <td>2012test</td>\n",
              "      <td>6</td>\n",
              "      <td>2.60</td>\n",
              "      <td>세 남자가 체스를 하고 있다</td>\n",
              "      <td>두 남자가 체스를 하고 있다</td>\n",
              "    </tr>\n",
              "    <tr>\n",
              "      <th>4</th>\n",
              "      <td>main-captions</td>\n",
              "      <td>MSRvid</td>\n",
              "      <td>2012test</td>\n",
              "      <td>9</td>\n",
              "      <td>4.25</td>\n",
              "      <td>한 남자가 첼로를 연주하고 있다</td>\n",
              "      <td>자리에 앉은 남자가 첼로를 연주하고 있다</td>\n",
              "    </tr>\n",
              "  </tbody>\n",
              "</table>\n",
              "</div>\n",
              "      <button class=\"colab-df-convert\" onclick=\"convertToInteractive('df-00df7c6c-0384-4dfd-9ee1-e027fd5112e7')\"\n",
              "              title=\"Convert this dataframe to an interactive table.\"\n",
              "              style=\"display:none;\">\n",
              "        \n",
              "  <svg xmlns=\"http://www.w3.org/2000/svg\" height=\"24px\"viewBox=\"0 0 24 24\"\n",
              "       width=\"24px\">\n",
              "    <path d=\"M0 0h24v24H0V0z\" fill=\"none\"/>\n",
              "    <path d=\"M18.56 5.44l.94 2.06.94-2.06 2.06-.94-2.06-.94-.94-2.06-.94 2.06-2.06.94zm-11 1L8.5 8.5l.94-2.06 2.06-.94-2.06-.94L8.5 2.5l-.94 2.06-2.06.94zm10 10l.94 2.06.94-2.06 2.06-.94-2.06-.94-.94-2.06-.94 2.06-2.06.94z\"/><path d=\"M17.41 7.96l-1.37-1.37c-.4-.4-.92-.59-1.43-.59-.52 0-1.04.2-1.43.59L10.3 9.45l-7.72 7.72c-.78.78-.78 2.05 0 2.83L4 21.41c.39.39.9.59 1.41.59.51 0 1.02-.2 1.41-.59l7.78-7.78 2.81-2.81c.8-.78.8-2.07 0-2.86zM5.41 20L4 18.59l7.72-7.72 1.47 1.35L5.41 20z\"/>\n",
              "  </svg>\n",
              "      </button>\n",
              "      \n",
              "  <style>\n",
              "    .colab-df-container {\n",
              "      display:flex;\n",
              "      flex-wrap:wrap;\n",
              "      gap: 12px;\n",
              "    }\n",
              "\n",
              "    .colab-df-convert {\n",
              "      background-color: #E8F0FE;\n",
              "      border: none;\n",
              "      border-radius: 50%;\n",
              "      cursor: pointer;\n",
              "      display: none;\n",
              "      fill: #1967D2;\n",
              "      height: 32px;\n",
              "      padding: 0 0 0 0;\n",
              "      width: 32px;\n",
              "    }\n",
              "\n",
              "    .colab-df-convert:hover {\n",
              "      background-color: #E2EBFA;\n",
              "      box-shadow: 0px 1px 2px rgba(60, 64, 67, 0.3), 0px 1px 3px 1px rgba(60, 64, 67, 0.15);\n",
              "      fill: #174EA6;\n",
              "    }\n",
              "\n",
              "    [theme=dark] .colab-df-convert {\n",
              "      background-color: #3B4455;\n",
              "      fill: #D2E3FC;\n",
              "    }\n",
              "\n",
              "    [theme=dark] .colab-df-convert:hover {\n",
              "      background-color: #434B5C;\n",
              "      box-shadow: 0px 1px 3px 1px rgba(0, 0, 0, 0.15);\n",
              "      filter: drop-shadow(0px 1px 2px rgba(0, 0, 0, 0.3));\n",
              "      fill: #FFFFFF;\n",
              "    }\n",
              "  </style>\n",
              "\n",
              "      <script>\n",
              "        const buttonEl =\n",
              "          document.querySelector('#df-00df7c6c-0384-4dfd-9ee1-e027fd5112e7 button.colab-df-convert');\n",
              "        buttonEl.style.display =\n",
              "          google.colab.kernel.accessAllowed ? 'block' : 'none';\n",
              "\n",
              "        async function convertToInteractive(key) {\n",
              "          const element = document.querySelector('#df-00df7c6c-0384-4dfd-9ee1-e027fd5112e7');\n",
              "          const dataTable =\n",
              "            await google.colab.kernel.invokeFunction('convertToInteractive',\n",
              "                                                     [key], {});\n",
              "          if (!dataTable) return;\n",
              "\n",
              "          const docLinkHtml = 'Like what you see? Visit the ' +\n",
              "            '<a target=\"_blank\" href=https://colab.research.google.com/notebooks/data_table.ipynb>data table notebook</a>'\n",
              "            + ' to learn more about interactive tables.';\n",
              "          element.innerHTML = '';\n",
              "          dataTable['output_type'] = 'display_data';\n",
              "          await google.colab.output.renderOutput(dataTable, element);\n",
              "          const docLink = document.createElement('div');\n",
              "          docLink.innerHTML = docLinkHtml;\n",
              "          element.appendChild(docLink);\n",
              "        }\n",
              "      </script>\n",
              "    </div>\n",
              "  </div>\n",
              "  "
            ]
          },
          "metadata": {},
          "execution_count": 42
        }
      ]
    },
    {
      "cell_type": "code",
      "source": [
        "val_df['sentence1']=val_df['sentence1'].astype(str).str.replace('[^a-zA-Z0-9ㄱ-ㅣ가-힣\\\\s]',' ')\n",
        "val_df['sentence2']=val_df['sentence2'].astype(str).str.replace('[^a-zA-Z0-9ㄱ-ㅣ가-힣\\\\s]',' ')"
      ],
      "metadata": {
        "colab": {
          "base_uri": "https://localhost:8080/"
        },
        "id": "1GsIPQm17pQR",
        "outputId": "8b45ef1e-be00-458d-930b-f5c98e3b6ee9"
      },
      "execution_count": 18,
      "outputs": [
        {
          "output_type": "stream",
          "name": "stderr",
          "text": [
            "<ipython-input-18-2376c19bb5de>:1: FutureWarning: The default value of regex will change from True to False in a future version.\n",
            "  val_df['sentence1']=val_df['sentence1'].astype(str).str.replace('[^a-zA-Z0-9ㄱ-ㅣ가-힣\\\\s]',' ')\n",
            "<ipython-input-18-2376c19bb5de>:2: FutureWarning: The default value of regex will change from True to False in a future version.\n",
            "  val_df['sentence2']=val_df['sentence2'].astype(str).str.replace('[^a-zA-Z0-9ㄱ-ㅣ가-힣\\\\s]',' ')\n"
          ]
        }
      ]
    },
    {
      "cell_type": "code",
      "source": [
        "test_df['sentence1']=test_df['sentence1'].astype(str).str.replace('[^a-zA-Z0-9ㄱ-ㅣ가-힣\\\\s]',' ')\n",
        "test_df['sentence2']=test_df['sentence2'].astype(str).str.replace('[^a-zA-Z0-9ㄱ-ㅣ가-힣\\\\s]',' ')"
      ],
      "metadata": {
        "colab": {
          "base_uri": "https://localhost:8080/"
        },
        "id": "4rYfmL-p7xyJ",
        "outputId": "f9ca5c46-4cf5-4a53-9b83-0f82f7222a2c"
      },
      "execution_count": 19,
      "outputs": [
        {
          "output_type": "stream",
          "name": "stderr",
          "text": [
            "<ipython-input-19-be3a4d42127e>:1: FutureWarning: The default value of regex will change from True to False in a future version.\n",
            "  test_df['sentence1']=test_df['sentence1'].astype(str).str.replace('[^a-zA-Z0-9ㄱ-ㅣ가-힣\\\\s]',' ')\n",
            "<ipython-input-19-be3a4d42127e>:2: FutureWarning: The default value of regex will change from True to False in a future version.\n",
            "  test_df['sentence2']=test_df['sentence2'].astype(str).str.replace('[^a-zA-Z0-9ㄱ-ㅣ가-힣\\\\s]',' ')\n"
          ]
        }
      ]
    },
    {
      "cell_type": "code",
      "source": [
        "test_df.head()"
      ],
      "metadata": {
        "colab": {
          "base_uri": "https://localhost:8080/",
          "height": 333
        },
        "id": "_9sOebnLwYia",
        "outputId": "c4176fdb-d2d7-4827-ea5f-aaf47f489207"
      },
      "execution_count": null,
      "outputs": [
        {
          "output_type": "execute_result",
          "data": {
            "text/plain": [
              "           genre filename      year  id  score                sentence1  \\\n",
              "0  main-captions   MSRvid  2012test  24    2.5     한 소녀가 머리를 스타일링하고 있다    \n",
              "1  main-captions   MSRvid  2012test  33    3.6  한 무리의 남자들이 해변에서 축구를 한다    \n",
              "2  main-captions   MSRvid  2012test  45    5.0  한 여성이 다른 여성의 발목을 재고 있다    \n",
              "3  main-captions   MSRvid  2012test  63    4.2        한 남자가 오이를 자르고 있다    \n",
              "4  main-captions   MSRvid  2012test  66    1.5       한 남자가 하프를 연주하고 있다    \n",
              "\n",
              "                    sentence2  \n",
              "0            한 소녀가 머리를 빗고 있다   \n",
              "1  한 무리의 소년들이 해변에서 축구를 하고 있다   \n",
              "2      한 여자는 다른 여자의 발목을 측정한다   \n",
              "3           한 남자가 오이를 자르고 있다   \n",
              "4         한 남자가 키보드를 연주하고 있다   "
            ],
            "text/html": [
              "\n",
              "  <div id=\"df-56aa626c-24da-4854-b9d4-b8f71bd5df0e\">\n",
              "    <div class=\"colab-df-container\">\n",
              "      <div>\n",
              "<style scoped>\n",
              "    .dataframe tbody tr th:only-of-type {\n",
              "        vertical-align: middle;\n",
              "    }\n",
              "\n",
              "    .dataframe tbody tr th {\n",
              "        vertical-align: top;\n",
              "    }\n",
              "\n",
              "    .dataframe thead th {\n",
              "        text-align: right;\n",
              "    }\n",
              "</style>\n",
              "<table border=\"1\" class=\"dataframe\">\n",
              "  <thead>\n",
              "    <tr style=\"text-align: right;\">\n",
              "      <th></th>\n",
              "      <th>genre</th>\n",
              "      <th>filename</th>\n",
              "      <th>year</th>\n",
              "      <th>id</th>\n",
              "      <th>score</th>\n",
              "      <th>sentence1</th>\n",
              "      <th>sentence2</th>\n",
              "    </tr>\n",
              "  </thead>\n",
              "  <tbody>\n",
              "    <tr>\n",
              "      <th>0</th>\n",
              "      <td>main-captions</td>\n",
              "      <td>MSRvid</td>\n",
              "      <td>2012test</td>\n",
              "      <td>24</td>\n",
              "      <td>2.5</td>\n",
              "      <td>한 소녀가 머리를 스타일링하고 있다</td>\n",
              "      <td>한 소녀가 머리를 빗고 있다</td>\n",
              "    </tr>\n",
              "    <tr>\n",
              "      <th>1</th>\n",
              "      <td>main-captions</td>\n",
              "      <td>MSRvid</td>\n",
              "      <td>2012test</td>\n",
              "      <td>33</td>\n",
              "      <td>3.6</td>\n",
              "      <td>한 무리의 남자들이 해변에서 축구를 한다</td>\n",
              "      <td>한 무리의 소년들이 해변에서 축구를 하고 있다</td>\n",
              "    </tr>\n",
              "    <tr>\n",
              "      <th>2</th>\n",
              "      <td>main-captions</td>\n",
              "      <td>MSRvid</td>\n",
              "      <td>2012test</td>\n",
              "      <td>45</td>\n",
              "      <td>5.0</td>\n",
              "      <td>한 여성이 다른 여성의 발목을 재고 있다</td>\n",
              "      <td>한 여자는 다른 여자의 발목을 측정한다</td>\n",
              "    </tr>\n",
              "    <tr>\n",
              "      <th>3</th>\n",
              "      <td>main-captions</td>\n",
              "      <td>MSRvid</td>\n",
              "      <td>2012test</td>\n",
              "      <td>63</td>\n",
              "      <td>4.2</td>\n",
              "      <td>한 남자가 오이를 자르고 있다</td>\n",
              "      <td>한 남자가 오이를 자르고 있다</td>\n",
              "    </tr>\n",
              "    <tr>\n",
              "      <th>4</th>\n",
              "      <td>main-captions</td>\n",
              "      <td>MSRvid</td>\n",
              "      <td>2012test</td>\n",
              "      <td>66</td>\n",
              "      <td>1.5</td>\n",
              "      <td>한 남자가 하프를 연주하고 있다</td>\n",
              "      <td>한 남자가 키보드를 연주하고 있다</td>\n",
              "    </tr>\n",
              "  </tbody>\n",
              "</table>\n",
              "</div>\n",
              "      <button class=\"colab-df-convert\" onclick=\"convertToInteractive('df-56aa626c-24da-4854-b9d4-b8f71bd5df0e')\"\n",
              "              title=\"Convert this dataframe to an interactive table.\"\n",
              "              style=\"display:none;\">\n",
              "        \n",
              "  <svg xmlns=\"http://www.w3.org/2000/svg\" height=\"24px\"viewBox=\"0 0 24 24\"\n",
              "       width=\"24px\">\n",
              "    <path d=\"M0 0h24v24H0V0z\" fill=\"none\"/>\n",
              "    <path d=\"M18.56 5.44l.94 2.06.94-2.06 2.06-.94-2.06-.94-.94-2.06-.94 2.06-2.06.94zm-11 1L8.5 8.5l.94-2.06 2.06-.94-2.06-.94L8.5 2.5l-.94 2.06-2.06.94zm10 10l.94 2.06.94-2.06 2.06-.94-2.06-.94-.94-2.06-.94 2.06-2.06.94z\"/><path d=\"M17.41 7.96l-1.37-1.37c-.4-.4-.92-.59-1.43-.59-.52 0-1.04.2-1.43.59L10.3 9.45l-7.72 7.72c-.78.78-.78 2.05 0 2.83L4 21.41c.39.39.9.59 1.41.59.51 0 1.02-.2 1.41-.59l7.78-7.78 2.81-2.81c.8-.78.8-2.07 0-2.86zM5.41 20L4 18.59l7.72-7.72 1.47 1.35L5.41 20z\"/>\n",
              "  </svg>\n",
              "      </button>\n",
              "      \n",
              "  <style>\n",
              "    .colab-df-container {\n",
              "      display:flex;\n",
              "      flex-wrap:wrap;\n",
              "      gap: 12px;\n",
              "    }\n",
              "\n",
              "    .colab-df-convert {\n",
              "      background-color: #E8F0FE;\n",
              "      border: none;\n",
              "      border-radius: 50%;\n",
              "      cursor: pointer;\n",
              "      display: none;\n",
              "      fill: #1967D2;\n",
              "      height: 32px;\n",
              "      padding: 0 0 0 0;\n",
              "      width: 32px;\n",
              "    }\n",
              "\n",
              "    .colab-df-convert:hover {\n",
              "      background-color: #E2EBFA;\n",
              "      box-shadow: 0px 1px 2px rgba(60, 64, 67, 0.3), 0px 1px 3px 1px rgba(60, 64, 67, 0.15);\n",
              "      fill: #174EA6;\n",
              "    }\n",
              "\n",
              "    [theme=dark] .colab-df-convert {\n",
              "      background-color: #3B4455;\n",
              "      fill: #D2E3FC;\n",
              "    }\n",
              "\n",
              "    [theme=dark] .colab-df-convert:hover {\n",
              "      background-color: #434B5C;\n",
              "      box-shadow: 0px 1px 3px 1px rgba(0, 0, 0, 0.15);\n",
              "      filter: drop-shadow(0px 1px 2px rgba(0, 0, 0, 0.3));\n",
              "      fill: #FFFFFF;\n",
              "    }\n",
              "  </style>\n",
              "\n",
              "      <script>\n",
              "        const buttonEl =\n",
              "          document.querySelector('#df-56aa626c-24da-4854-b9d4-b8f71bd5df0e button.colab-df-convert');\n",
              "        buttonEl.style.display =\n",
              "          google.colab.kernel.accessAllowed ? 'block' : 'none';\n",
              "\n",
              "        async function convertToInteractive(key) {\n",
              "          const element = document.querySelector('#df-56aa626c-24da-4854-b9d4-b8f71bd5df0e');\n",
              "          const dataTable =\n",
              "            await google.colab.kernel.invokeFunction('convertToInteractive',\n",
              "                                                     [key], {});\n",
              "          if (!dataTable) return;\n",
              "\n",
              "          const docLinkHtml = 'Like what you see? Visit the ' +\n",
              "            '<a target=\"_blank\" href=https://colab.research.google.com/notebooks/data_table.ipynb>data table notebook</a>'\n",
              "            + ' to learn more about interactive tables.';\n",
              "          element.innerHTML = '';\n",
              "          dataTable['output_type'] = 'display_data';\n",
              "          await google.colab.output.renderOutput(dataTable, element);\n",
              "          const docLink = document.createElement('div');\n",
              "          docLink.innerHTML = docLinkHtml;\n",
              "          element.appendChild(docLink);\n",
              "        }\n",
              "      </script>\n",
              "    </div>\n",
              "  </div>\n",
              "  "
            ]
          },
          "metadata": {},
          "execution_count": 18
        }
      ]
    },
    {
      "cell_type": "markdown",
      "source": [
        "### Tokenizer를 이용한 BERT INPUT 생성"
      ],
      "metadata": {
        "id": "t3Ae_aas75Fe"
      }
    },
    {
      "cell_type": "markdown",
      "source": [
        "https://huggingface.co/docs/transformers/v4.30.0/en/internal/tokenization_utils#transformers.PreTrainedTokenizerBase.from_pretrained"
      ],
      "metadata": {
        "id": "lgRFq1AI8NvN"
      }
    },
    {
      "cell_type": "code",
      "source": [
        "def bert_tokenizer(sent1,sent2,MAX_LEN):\n",
        "\n",
        "  encoded_dict = tokenizer.encode_plus(sent1,\n",
        "                                       sent2,\n",
        "                                       add_special_tokens=True,\n",
        "                                       padding ='max_length',\n",
        "                                       truncation=True,\n",
        "                                       max_length =MAX_LEN,\n",
        "                                       return_attention_mask=True,\n",
        "                                       return_token_type_ids=True)\n",
        "\n",
        "  return encoded_dict['input_ids'], encoded_dict['attention_mask'], encoded_dict['token_type_ids']"
      ],
      "metadata": {
        "id": "EKLbQERf737v"
      },
      "execution_count": 20,
      "outputs": []
    },
    {
      "cell_type": "code",
      "source": [
        "# BERT input 생성 함수\n",
        "\n",
        "\n",
        "def Bert_input(df):\n",
        "\n",
        "  input_ids=[]\n",
        "  attention_mask=[]\n",
        "  token_type_ids=[]\n",
        "  labels=[]\n",
        "\n",
        "  for sent1, sent2, label in zip(df['sentence1'],df['sentence2'],df['score']):\n",
        "\n",
        "    i_ids, attn_m, t_t_ids = bert_tokenizer(sent1,sent2,MAX_LEN)\n",
        "    input_ids.append(i_ids)\n",
        "    attention_mask.append(attn_m)\n",
        "    token_type_ids.append(t_t_ids)\n",
        "\n",
        "    labels.append(label)\n",
        "\n",
        "  input_ids=torch.LongTensor(input_ids)\n",
        "  attention_mask=torch.LongTensor(attention_mask)\n",
        "  token_type_ids=torch.LongTensor(token_type_ids)\n",
        "  labels=torch.Tensor(labels)\n",
        "\n",
        "  bert_input=(input_ids, attention_mask, token_type_ids)\n",
        "\n",
        "  return bert_input,labels"
      ],
      "metadata": {
        "id": "XyyK8-NJ8Ful"
      },
      "execution_count": 21,
      "outputs": []
    },
    {
      "cell_type": "code",
      "source": [
        "import transformers\n",
        "transformers.logging.set_verbosity_error()"
      ],
      "metadata": {
        "id": "Og4ONd1mAAvZ"
      },
      "execution_count": 22,
      "outputs": []
    },
    {
      "cell_type": "code",
      "source": [
        "train_inputs, train_labels = Bert_input(train_df)\n",
        "val_inputs, val_labels = Bert_input(val_df)\n",
        "test_inputs, test_labels = Bert_input(test_df)"
      ],
      "metadata": {
        "id": "gJY55VAkwRRM"
      },
      "execution_count": 23,
      "outputs": []
    },
    {
      "cell_type": "code",
      "source": [
        "train_inputs, train_labels"
      ],
      "metadata": {
        "colab": {
          "base_uri": "https://localhost:8080/"
        },
        "id": "2B8g9b5S2uzD",
        "outputId": "1f1c134d-a454-494e-bcd1-0c69e239d83a"
      },
      "execution_count": 23,
      "outputs": [
        {
          "output_type": "execute_result",
          "data": {
            "text/plain": [
              "((tensor([[  101,  9379, 25549,  ...,     0,     0,     0],\n",
              "          [  101,  9954, 76854,  ...,     0,     0,     0],\n",
              "          [  101,  9954, 76854,  ...,     0,     0,     0],\n",
              "          ...,\n",
              "          [  101,  9318, 56645,  ...,     0,     0,     0],\n",
              "          [  101, 45397,  9640,  ...,     0,     0,     0],\n",
              "          [  101,  9935, 90833,  ...,     0,     0,     0]]),\n",
              "  tensor([[1, 1, 1,  ..., 0, 0, 0],\n",
              "          [1, 1, 1,  ..., 0, 0, 0],\n",
              "          [1, 1, 1,  ..., 0, 0, 0],\n",
              "          ...,\n",
              "          [1, 1, 1,  ..., 0, 0, 0],\n",
              "          [1, 1, 1,  ..., 0, 0, 0],\n",
              "          [1, 1, 1,  ..., 0, 0, 0]]),\n",
              "  tensor([[0, 0, 0,  ..., 0, 0, 0],\n",
              "          [0, 0, 0,  ..., 0, 0, 0],\n",
              "          [0, 0, 0,  ..., 0, 0, 0],\n",
              "          ...,\n",
              "          [0, 0, 0,  ..., 0, 0, 0],\n",
              "          [0, 0, 0,  ..., 0, 0, 0],\n",
              "          [0, 0, 0,  ..., 0, 0, 0]])),\n",
              " tensor([5.0000, 3.8000, 3.8000,  ..., 0.0000, 0.0000, 0.0000]))"
            ]
          },
          "metadata": {},
          "execution_count": 23
        }
      ]
    },
    {
      "cell_type": "code",
      "source": [
        "val_inputs, val_labels"
      ],
      "metadata": {
        "colab": {
          "base_uri": "https://localhost:8080/"
        },
        "id": "d9uLDHqf2v6L",
        "outputId": "b4718a90-6bb0-4f5c-9653-a8c2cafe66b1"
      },
      "execution_count": null,
      "outputs": [
        {
          "output_type": "execute_result",
          "data": {
            "text/plain": [
              "((tensor([[   101,   9521,  16617,  ...,      0,      0,      0],\n",
              "          [   101, 106320,  16985,  ...,      0,      0,      0],\n",
              "          [   101,   9954,  76854,  ...,      0,      0,      0],\n",
              "          ...,\n",
              "          [   101,   9580, 119144,  ...,    102,      0,      0],\n",
              "          [   101,   9580,  42144,  ...,    102,      0,      0],\n",
              "          [   101,  39773,   9379,  ...,  20595,    102,      0]]),\n",
              "  tensor([[1, 1, 1,  ..., 0, 0, 0],\n",
              "          [1, 1, 1,  ..., 0, 0, 0],\n",
              "          [1, 1, 1,  ..., 0, 0, 0],\n",
              "          ...,\n",
              "          [1, 1, 1,  ..., 1, 0, 0],\n",
              "          [1, 1, 1,  ..., 1, 0, 0],\n",
              "          [1, 1, 1,  ..., 1, 1, 0]]),\n",
              "  tensor([[0, 0, 0,  ..., 0, 0, 0],\n",
              "          [0, 0, 0,  ..., 0, 0, 0],\n",
              "          [0, 0, 0,  ..., 0, 0, 0],\n",
              "          ...,\n",
              "          [0, 0, 0,  ..., 1, 0, 0],\n",
              "          [0, 0, 0,  ..., 1, 0, 0],\n",
              "          [0, 0, 0,  ..., 1, 1, 0]])),\n",
              " tensor([5.0000, 4.7500, 5.0000,  ..., 2.0000, 0.0000, 0.0000]))"
            ]
          },
          "metadata": {},
          "execution_count": 91
        }
      ]
    },
    {
      "cell_type": "code",
      "source": [
        "test_inputs, test_labels"
      ],
      "metadata": {
        "colab": {
          "base_uri": "https://localhost:8080/"
        },
        "id": "mIczb0ln27Ja",
        "outputId": "59a35477-f8f9-4732-ffcf-3f07eaa12d1e"
      },
      "execution_count": null,
      "outputs": [
        {
          "output_type": "execute_result",
          "data": {
            "text/plain": [
              "((tensor([[   101,   9954,   9448,  ...,      0,      0,      0],\n",
              "          [   101,   9954,   9294,  ...,      0,      0,      0],\n",
              "          [   101,   9954, 100006,  ...,      0,      0,      0],\n",
              "          ...,\n",
              "          [   101,   9379, 118958,  ...,      0,      0,      0],\n",
              "          [   101, 103596,   9998,  ...,  22440,  19905,    102],\n",
              "          [   101,  48556,  10892,  ...,      0,      0,      0]]),\n",
              "  tensor([[1, 1, 1,  ..., 0, 0, 0],\n",
              "          [1, 1, 1,  ..., 0, 0, 0],\n",
              "          [1, 1, 1,  ..., 0, 0, 0],\n",
              "          ...,\n",
              "          [1, 1, 1,  ..., 0, 0, 0],\n",
              "          [1, 1, 1,  ..., 1, 1, 1],\n",
              "          [1, 1, 1,  ..., 0, 0, 0]]),\n",
              "  tensor([[0, 0, 0,  ..., 0, 0, 0],\n",
              "          [0, 0, 0,  ..., 0, 0, 0],\n",
              "          [0, 0, 0,  ..., 0, 0, 0],\n",
              "          ...,\n",
              "          [0, 0, 0,  ..., 0, 0, 0],\n",
              "          [0, 0, 0,  ..., 1, 1, 1],\n",
              "          [0, 0, 0,  ..., 0, 0, 0]])),\n",
              " tensor([2.5000, 3.6000, 5.0000,  ..., 1.0000, 0.0000, 0.0000]))"
            ]
          },
          "metadata": {},
          "execution_count": 92
        }
      ]
    },
    {
      "cell_type": "markdown",
      "source": [
        "## Dataset, DataLoader"
      ],
      "metadata": {
        "id": "jAAiVKS53MlX"
      }
    },
    {
      "cell_type": "code",
      "source": [
        "from torch.utils.data import Dataset,DataLoader"
      ],
      "metadata": {
        "id": "wWElHmzn28QJ"
      },
      "execution_count": 24,
      "outputs": []
    },
    {
      "cell_type": "code",
      "source": [
        "class Custom_dataset(Dataset):\n",
        "\n",
        "  def __init__(self,x,y):\n",
        "    self.x = x\n",
        "    self.y = y\n",
        "\n",
        "  def __getitem__(self, index) :\n",
        "    return {'input_ids':self.x[0][index], 'attention_mask':self.x[1][index], 'token_type_ids':self.x[2][index], 'labels':self.y[index]}\n",
        "\n",
        "  def __len__(self):\n",
        "    return self.y.size()[0]"
      ],
      "metadata": {
        "id": "VQj6ZNgZ3ZX_"
      },
      "execution_count": 25,
      "outputs": []
    },
    {
      "cell_type": "code",
      "source": [
        "train_dataset=Custom_dataset(train_inputs,train_labels)\n",
        "val_dataset=Custom_dataset(val_inputs,val_labels)\n",
        "test_dataset=Custom_dataset(test_inputs,test_labels)"
      ],
      "metadata": {
        "id": "r6ExVdES6_a8"
      },
      "execution_count": 26,
      "outputs": []
    },
    {
      "cell_type": "code",
      "source": [
        "train_dataset.__getitem__(1)"
      ],
      "metadata": {
        "colab": {
          "base_uri": "https://localhost:8080/"
        },
        "id": "HVn6_hEW7QNX",
        "outputId": "6876f652-afea-4926-fa63-46e103ed44a0"
      },
      "execution_count": null,
      "outputs": [
        {
          "output_type": "execute_result",
          "data": {
            "text/plain": [
              "{'input_ids': tensor([   101,   9954,  76854,  11287,   9835,   9944,  35866, 101825,   9568,\n",
              "          16323,  12453,  11506,    102,  76854,  11287,   9944,  35866, 101825,\n",
              "           9568,  16323,  12453,  11506,    102,      0,      0,      0,      0,\n",
              "              0,      0,      0,      0,      0,      0,      0,      0,      0,\n",
              "              0,      0,      0,      0,      0,      0,      0,      0]),\n",
              " 'attention_mask': tensor([1, 1, 1, 1, 1, 1, 1, 1, 1, 1, 1, 1, 1, 1, 1, 1, 1, 1, 1, 1, 1, 1, 1, 0,\n",
              "         0, 0, 0, 0, 0, 0, 0, 0, 0, 0, 0, 0, 0, 0, 0, 0, 0, 0, 0, 0]),\n",
              " 'token_type_ids': tensor([0, 0, 0, 0, 0, 0, 0, 0, 0, 0, 0, 0, 0, 1, 1, 1, 1, 1, 1, 1, 1, 1, 1, 0,\n",
              "         0, 0, 0, 0, 0, 0, 0, 0, 0, 0, 0, 0, 0, 0, 0, 0, 0, 0, 0, 0]),\n",
              " 'labels': tensor(3.8000)}"
            ]
          },
          "metadata": {},
          "execution_count": 102
        }
      ]
    },
    {
      "cell_type": "code",
      "source": [
        "# hyperparameters\n",
        "\n",
        "MAX_LEN = 22*2\n",
        "BATCH_SIZE = 32\n",
        "VALID_SPLIT = 0.2\n",
        "EPOCH = 3\n",
        "\n",
        "device = 'cuda' if torch.cuda.is_available() else 'cpu'"
      ],
      "metadata": {
        "id": "rsVS7gXY7R6d"
      },
      "execution_count": 27,
      "outputs": []
    },
    {
      "cell_type": "code",
      "source": [
        "train_iter = DataLoader(train_dataset,BATCH_SIZE)\n",
        "val_iter = DataLoader(val_dataset,BATCH_SIZE)\n",
        "test_iter = DataLoader(test_dataset,BATCH_SIZE)"
      ],
      "metadata": {
        "id": "Cx_5IYs17pii"
      },
      "execution_count": 27,
      "outputs": []
    },
    {
      "cell_type": "code",
      "source": [
        "batch=next(iter(train_iter))\n",
        "batch"
      ],
      "metadata": {
        "colab": {
          "base_uri": "https://localhost:8080/"
        },
        "id": "C2tA5iNi71SZ",
        "outputId": "e64154a0-38a8-4ed4-cca0-36bacdfd00e4"
      },
      "execution_count": 32,
      "outputs": [
        {
          "output_type": "execute_result",
          "data": {
            "text/plain": [
              "{'input_ids': tensor([[  101,  9379, 25549,  ...,     0,     0,     0],\n",
              "         [  101,  9954, 76854,  ...,     0,     0,     0],\n",
              "         [  101,  9954, 76854,  ...,     0,     0,     0],\n",
              "         ...,\n",
              "         [  101,  9954,  9448,  ...,     0,     0,     0],\n",
              "         [  101,  9954, 76854,  ...,     0,     0,     0],\n",
              "         [  101, 76854, 11287,  ...,     0,     0,     0]]),\n",
              " 'attention_mask': tensor([[1, 1, 1,  ..., 0, 0, 0],\n",
              "         [1, 1, 1,  ..., 0, 0, 0],\n",
              "         [1, 1, 1,  ..., 0, 0, 0],\n",
              "         ...,\n",
              "         [1, 1, 1,  ..., 0, 0, 0],\n",
              "         [1, 1, 1,  ..., 0, 0, 0],\n",
              "         [1, 1, 1,  ..., 0, 0, 0]]),\n",
              " 'token_type_ids': tensor([[0, 0, 0,  ..., 0, 0, 0],\n",
              "         [0, 0, 0,  ..., 0, 0, 0],\n",
              "         [0, 0, 0,  ..., 0, 0, 0],\n",
              "         ...,\n",
              "         [0, 0, 0,  ..., 0, 0, 0],\n",
              "         [0, 0, 0,  ..., 0, 0, 0],\n",
              "         [0, 0, 0,  ..., 0, 0, 0]]),\n",
              " 'labels': tensor([5.0000, 3.8000, 3.8000, 2.6000, 4.2500, 4.2500, 0.5000, 1.6000, 2.2000,\n",
              "         5.0000, 4.2000, 4.6000, 3.8670, 4.6670, 1.6670, 3.7500, 5.0000, 0.5000,\n",
              "         3.8000, 5.0000, 3.2000, 2.8000, 4.6000, 3.0000, 5.0000, 4.8000, 5.0000,\n",
              "         4.2000, 4.2000, 4.0000, 4.0000, 4.9090])}"
            ]
          },
          "metadata": {},
          "execution_count": 32
        }
      ]
    },
    {
      "cell_type": "markdown",
      "source": [
        "# 모델 구현"
      ],
      "metadata": {
        "id": "sJDlBQbX67Jo"
      }
    },
    {
      "cell_type": "code",
      "source": [
        "import torch\n",
        "import torch.nn as nn"
      ],
      "metadata": {
        "id": "MWVgaorl73BB"
      },
      "execution_count": 28,
      "outputs": []
    },
    {
      "cell_type": "code",
      "source": [
        "class Bert_sts(nn.Module):\n",
        "\n",
        "  def __init__(self,cache_dir,num_class):\n",
        "    super(Bert_sts,self).__init__()\n",
        "\n",
        "    self.bert = BertModel.from_pretrained('bert-base-multilingual-cased',cache_dir)\n",
        "    self.dropout = nn.Dropout(self.bert.config.hidden_dropout_prob) # 0.1\n",
        "    self.dense = nn.Linear(self.bert.config.hidden_size, num_class) # 768 -> 1\n",
        "    nn.init.trunc_normal_(self.dense.weight.data, std=self.bert.config.initializer_range) # 0.01\n",
        "\n",
        "  def forward(self,input_ids,attention_mask,token_type_ids):\n",
        "\n",
        "    outputs = self.bert(input_ids,attention_mask,token_type_ids) # ( batch_size, max_len, hidden_dim )\n",
        "    droped = self.dropout(outputs[1]) # ( batch_size, hidden_dim )\n",
        "    predict = self.dense(droped) # ( batch_size, 1)\n",
        "    predict = predict.squeeze(-1)  # ( batch_size )\n",
        "\n",
        "    return predict # ( batch_size )"
      ],
      "metadata": {
        "id": "KS-KhFgQ6_cJ"
      },
      "execution_count": 29,
      "outputs": []
    },
    {
      "cell_type": "code",
      "source": [
        "# compile\n",
        "\n",
        "model = Bert_sts(cache_dir,1)\n",
        "optimizer = torch.optim.Adam(model.parameters(), lr=3e-5)\n",
        "criterion = nn.MSELoss()"
      ],
      "metadata": {
        "colab": {
          "base_uri": "https://localhost:8080/",
          "height": 49,
          "referenced_widgets": [
            "6f1ca1564bd44c2cbffc69fad29fb07c",
            "1cbbf6cc5be847f687cac76cb56e395d",
            "21ed0ee145a44dd6bfc47c484491cc52",
            "56a2c5bb0b65446e979dcf7fa071024c",
            "f647c00dddbc4fc1b75d083308733184",
            "b624d11108fd410f9f43f146f0f816ce",
            "e1a1cc872ee6405791273500f11db239",
            "73523098ceea4cde9c1fb00a4a3691bf",
            "938b0f6a922b4ee09f76c05af50595a5",
            "d6a23db60f504f819cd837688aa5b308",
            "6c97a2b52a66416c9dfdc7b27c4da1f4"
          ]
        },
        "id": "-tmqSDsD_yD9",
        "outputId": "ac53c43d-cd0e-46b3-b8c8-1ae135f21566"
      },
      "execution_count": 30,
      "outputs": [
        {
          "output_type": "display_data",
          "data": {
            "text/plain": [
              "Downloading model.safetensors:   0%|          | 0.00/714M [00:00<?, ?B/s]"
            ],
            "application/vnd.jupyter.widget-view+json": {
              "version_major": 2,
              "version_minor": 0,
              "model_id": "6f1ca1564bd44c2cbffc69fad29fb07c"
            }
          },
          "metadata": {}
        }
      ]
    },
    {
      "cell_type": "code",
      "source": [
        "model(batch['input_ids'],batch['attention_mask'],batch['token_type_ids'])"
      ],
      "metadata": {
        "colab": {
          "base_uri": "https://localhost:8080/"
        },
        "id": "Fw55QwWJMmHE",
        "outputId": "0497c32a-821a-4453-dc23-7f4fdd54c3dc"
      },
      "execution_count": 34,
      "outputs": [
        {
          "output_type": "execute_result",
          "data": {
            "text/plain": [
              "tensor([-0.0142, -0.2512, -0.4446, -0.3342, -0.4386, -0.2674, -0.4999, -0.3548,\n",
              "        -0.4706, -0.2862,  0.0762, -0.6181, -0.4140, -0.5018, -0.4853, -0.2898,\n",
              "        -0.4078, -0.4074, -0.4025,  0.2907, -0.3947, -0.3634, -0.2522, -0.4257,\n",
              "        -0.4512, -0.2907, -0.5035, -0.2648, -0.5415, -0.4768, -0.2767, -0.3018],\n",
              "       grad_fn=<SqueezeBackward1>)"
            ]
          },
          "metadata": {},
          "execution_count": 34
        }
      ]
    },
    {
      "cell_type": "markdown",
      "source": [
        "# 학습 - 검증 - 학습완료 - 테스트"
      ],
      "metadata": {
        "id": "zhA4hiXF_ovO"
      }
    },
    {
      "cell_type": "markdown",
      "source": [
        "## 학습"
      ],
      "metadata": {
        "id": "iABib_Bj_sBD"
      }
    },
    {
      "cell_type": "code",
      "source": [
        "from tqdm import tqdm"
      ],
      "metadata": {
        "id": "B_iajN9FAtHj"
      },
      "execution_count": 35,
      "outputs": []
    },
    {
      "cell_type": "code",
      "source": [
        "def train(model,optimizer,criterion,train_iter):\n",
        "  model.train()\n",
        "\n",
        "  for batch in tqdm(train_iter, desc = 'training'):\n",
        "    x0 = batch['input_ids'].to(device) # ( batch_size, max_len)\n",
        "    x1 = batch['attention_mask'].to(device) # ( batch_size, max_len)\n",
        "    x2 = batch['token_type_ids'].to(device) # ( batch_size, max_len)\n",
        "    y = batch['labels'].to(device) # ( batch_size )\n",
        "\n",
        "    predict = model(x0,x1,x2) # ( batch_size )\n",
        "    loss = criterion(predict,y)\n",
        "\n",
        "    optimizer.zero_grad()\n",
        "    loss.backward()\n",
        "    optimizer.step()"
      ],
      "metadata": {
        "id": "XVc72VvH_nes"
      },
      "execution_count": 36,
      "outputs": []
    },
    {
      "cell_type": "markdown",
      "source": [
        "## 검증"
      ],
      "metadata": {
        "id": "VoP3JGOxLJSZ"
      }
    },
    {
      "cell_type": "markdown",
      "source": [
        "피어슨 상관계수\n",
        "![image.png](data:image/png;base64,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)"
      ],
      "metadata": {
        "id": "Arcz8SYPDDUB"
      }
    },
    {
      "cell_type": "code",
      "source": [
        "def Pearson_correlation(x,y):\n",
        "  x_ = x-x.mean()\n",
        "  y_ = y-y.mean()\n",
        "\n",
        "  cov = (x_ * y_).sum()\n",
        "  stds = (x_.square().sum() * y_.square().sum()).sqrt() + 1e-12\n",
        "\n",
        "  return cov / stds"
      ],
      "metadata": {
        "id": "V_k656bYDDHp"
      },
      "execution_count": 37,
      "outputs": []
    },
    {
      "cell_type": "code",
      "source": [
        "a= torch.Tensor([1,2,3,4,5,6,7])\n",
        "b= torch.Tensor([2,2,3,4,5,6,7])\n",
        "\n",
        "Pearson_correlation(a,b)"
      ],
      "metadata": {
        "colab": {
          "base_uri": "https://localhost:8080/"
        },
        "id": "cGjLeRQkFijo",
        "outputId": "e105ec8b-b34e-452a-ab2e-089bbf5bfc5f"
      },
      "execution_count": 51,
      "outputs": [
        {
          "output_type": "execute_result",
          "data": {
            "text/plain": [
              "tensor(0.9882)"
            ]
          },
          "metadata": {},
          "execution_count": 51
        }
      ]
    },
    {
      "cell_type": "code",
      "source": [
        "def evaluation(model,criterion,val_iter):\n",
        "  model.eval()\n",
        "\n",
        "  total_loss = 0\n",
        "  pred = []\n",
        "  tar = []\n",
        "\n",
        "  for batch in tqdm(val_iter, desc='evaluation'):\n",
        "    x0 = batch['input_ids'].to(device) # ( batch_size, max_len)\n",
        "    x1 = batch['attention_mask'].to(device) # ( batch_size, max_len)\n",
        "    x2 = batch['token_type_ids'].to(device) # ( batch_size, max_len)\n",
        "    y = batch['labels'].to(device) # ( batch_size )\n",
        "\n",
        "    predict = model(x0,x1,x2) # ( batch_size )\n",
        "    loss = criterion(predict,y)\n",
        "    total_loss+=loss\n",
        "\n",
        "    pred.extend(predict.tolist())\n",
        "    tar.extend(y.tolist())\n",
        "\n",
        "  pearson_score = Pearson_correlation(torch.Tensor(pred),torch.Tensor(tar))\n",
        "  avg_loss = loss / len(val_iter)\n",
        "\n",
        "  return avg_loss, pearson_score"
      ],
      "metadata": {
        "id": "C6nuwwYoCwqN"
      },
      "execution_count": 39,
      "outputs": []
    },
    {
      "cell_type": "markdown",
      "source": [
        "## 학습 완료"
      ],
      "metadata": {
        "id": "nUatDTkrLHx9"
      }
    },
    {
      "cell_type": "code",
      "source": [
        "# hyperparameters\n",
        "\n",
        "MAX_LEN = 22*2\n",
        "BATCH_SIZE = 32\n",
        "VALID_SPLIT = 0.2\n",
        "EPOCH = 3\n",
        "\n",
        "device = 'cuda' if torch.cuda.is_available() else 'cpu'"
      ],
      "metadata": {
        "id": "Yytu0LP_LbQ5"
      },
      "execution_count": 40,
      "outputs": []
    },
    {
      "cell_type": "code",
      "source": [
        "import os"
      ],
      "metadata": {
        "id": "aVR3IQckLbxj"
      },
      "execution_count": 41,
      "outputs": []
    },
    {
      "cell_type": "code",
      "source": [
        "best_pearson_correlation = None\n",
        "\n",
        "for e in range(EPOCH):\n",
        "  train(model,optimizer,criterion,train_iter)\n",
        "  avg_loss, pearson_score = evaluation(model,criterion,val_iter)\n",
        "\n",
        "  print(f' avg_loss : {avg_loss} | pearon_correlation : {pearon_score}')\n",
        "\n",
        "  if not best_pearson_correlation or pearson_score > best_pearson_correlation:\n",
        "    os.makedirs('best_weight',exist_ok=True)\n",
        "    torch.save(model.state_dict(),'./best_weight/bert_sts_best_weight.pt')\n",
        "    best_pearson_correlation = pearson_score"
      ],
      "metadata": {
        "colab": {
          "base_uri": "https://localhost:8080/",
          "height": 412
        },
        "id": "ZglTRlO3LGHK",
        "outputId": "0d8da28c-9bea-465b-b99c-99ee9fa2ea25"
      },
      "execution_count": 42,
      "outputs": [
        {
          "output_type": "stream",
          "name": "stderr",
          "text": [
            "training:   3%|▎         | 5/180 [01:43<1:00:05, 20.60s/it]\n"
          ]
        },
        {
          "output_type": "error",
          "ename": "KeyboardInterrupt",
          "evalue": "ignored",
          "traceback": [
            "\u001b[0;31m---------------------------------------------------------------------------\u001b[0m",
            "\u001b[0;31mKeyboardInterrupt\u001b[0m                         Traceback (most recent call last)",
            "\u001b[0;32m<ipython-input-42-3952641b9943>\u001b[0m in \u001b[0;36m<cell line: 3>\u001b[0;34m()\u001b[0m\n\u001b[1;32m      2\u001b[0m \u001b[0;34m\u001b[0m\u001b[0m\n\u001b[1;32m      3\u001b[0m \u001b[0;32mfor\u001b[0m \u001b[0me\u001b[0m \u001b[0;32min\u001b[0m \u001b[0mrange\u001b[0m\u001b[0;34m(\u001b[0m\u001b[0mEPOCH\u001b[0m\u001b[0;34m)\u001b[0m\u001b[0;34m:\u001b[0m\u001b[0;34m\u001b[0m\u001b[0;34m\u001b[0m\u001b[0m\n\u001b[0;32m----> 4\u001b[0;31m   \u001b[0mtrain\u001b[0m\u001b[0;34m(\u001b[0m\u001b[0mmodel\u001b[0m\u001b[0;34m,\u001b[0m\u001b[0moptimizer\u001b[0m\u001b[0;34m,\u001b[0m\u001b[0mcriterion\u001b[0m\u001b[0;34m,\u001b[0m\u001b[0mtrain_iter\u001b[0m\u001b[0;34m)\u001b[0m\u001b[0;34m\u001b[0m\u001b[0;34m\u001b[0m\u001b[0m\n\u001b[0m\u001b[1;32m      5\u001b[0m   \u001b[0mavg_loss\u001b[0m\u001b[0;34m,\u001b[0m \u001b[0mpearson_score\u001b[0m \u001b[0;34m=\u001b[0m \u001b[0mevaluation\u001b[0m\u001b[0;34m(\u001b[0m\u001b[0mmodel\u001b[0m\u001b[0;34m,\u001b[0m\u001b[0mcriterion\u001b[0m\u001b[0;34m,\u001b[0m\u001b[0mval_iter\u001b[0m\u001b[0;34m)\u001b[0m\u001b[0;34m\u001b[0m\u001b[0;34m\u001b[0m\u001b[0m\n\u001b[1;32m      6\u001b[0m \u001b[0;34m\u001b[0m\u001b[0m\n",
            "\u001b[0;32m<ipython-input-36-fbab8d0d3f79>\u001b[0m in \u001b[0;36mtrain\u001b[0;34m(model, optimizer, criterion, train_iter)\u001b[0m\n\u001b[1;32m      8\u001b[0m     \u001b[0my\u001b[0m \u001b[0;34m=\u001b[0m \u001b[0mbatch\u001b[0m\u001b[0;34m[\u001b[0m\u001b[0;34m'labels'\u001b[0m\u001b[0;34m]\u001b[0m\u001b[0;34m.\u001b[0m\u001b[0mto\u001b[0m\u001b[0;34m(\u001b[0m\u001b[0mdevice\u001b[0m\u001b[0;34m)\u001b[0m \u001b[0;31m# ( batch_size )\u001b[0m\u001b[0;34m\u001b[0m\u001b[0;34m\u001b[0m\u001b[0m\n\u001b[1;32m      9\u001b[0m \u001b[0;34m\u001b[0m\u001b[0m\n\u001b[0;32m---> 10\u001b[0;31m     \u001b[0mpredict\u001b[0m \u001b[0;34m=\u001b[0m \u001b[0mmodel\u001b[0m\u001b[0;34m(\u001b[0m\u001b[0mx0\u001b[0m\u001b[0;34m,\u001b[0m\u001b[0mx1\u001b[0m\u001b[0;34m,\u001b[0m\u001b[0mx2\u001b[0m\u001b[0;34m)\u001b[0m \u001b[0;31m# ( batch_size )\u001b[0m\u001b[0;34m\u001b[0m\u001b[0;34m\u001b[0m\u001b[0m\n\u001b[0m\u001b[1;32m     11\u001b[0m     \u001b[0mloss\u001b[0m \u001b[0;34m=\u001b[0m \u001b[0mcriterion\u001b[0m\u001b[0;34m(\u001b[0m\u001b[0mpredict\u001b[0m\u001b[0;34m,\u001b[0m\u001b[0my\u001b[0m\u001b[0;34m)\u001b[0m\u001b[0;34m\u001b[0m\u001b[0;34m\u001b[0m\u001b[0m\n\u001b[1;32m     12\u001b[0m \u001b[0;34m\u001b[0m\u001b[0m\n",
            "\u001b[0;32m/usr/local/lib/python3.10/dist-packages/torch/nn/modules/module.py\u001b[0m in \u001b[0;36m_call_impl\u001b[0;34m(self, *args, **kwargs)\u001b[0m\n\u001b[1;32m   1499\u001b[0m                 \u001b[0;32mor\u001b[0m \u001b[0m_global_backward_pre_hooks\u001b[0m \u001b[0;32mor\u001b[0m \u001b[0m_global_backward_hooks\u001b[0m\u001b[0;34m\u001b[0m\u001b[0;34m\u001b[0m\u001b[0m\n\u001b[1;32m   1500\u001b[0m                 or _global_forward_hooks or _global_forward_pre_hooks):\n\u001b[0;32m-> 1501\u001b[0;31m             \u001b[0;32mreturn\u001b[0m \u001b[0mforward_call\u001b[0m\u001b[0;34m(\u001b[0m\u001b[0;34m*\u001b[0m\u001b[0margs\u001b[0m\u001b[0;34m,\u001b[0m \u001b[0;34m**\u001b[0m\u001b[0mkwargs\u001b[0m\u001b[0;34m)\u001b[0m\u001b[0;34m\u001b[0m\u001b[0;34m\u001b[0m\u001b[0m\n\u001b[0m\u001b[1;32m   1502\u001b[0m         \u001b[0;31m# Do not call functions when jit is used\u001b[0m\u001b[0;34m\u001b[0m\u001b[0;34m\u001b[0m\u001b[0m\n\u001b[1;32m   1503\u001b[0m         \u001b[0mfull_backward_hooks\u001b[0m\u001b[0;34m,\u001b[0m \u001b[0mnon_full_backward_hooks\u001b[0m \u001b[0;34m=\u001b[0m \u001b[0;34m[\u001b[0m\u001b[0;34m]\u001b[0m\u001b[0;34m,\u001b[0m \u001b[0;34m[\u001b[0m\u001b[0;34m]\u001b[0m\u001b[0;34m\u001b[0m\u001b[0;34m\u001b[0m\u001b[0m\n",
            "\u001b[0;32m<ipython-input-29-ca7b3d9a04bb>\u001b[0m in \u001b[0;36mforward\u001b[0;34m(self, input_ids, attention_mask, token_type_ids)\u001b[0m\n\u001b[1;32m     11\u001b[0m   \u001b[0;32mdef\u001b[0m \u001b[0mforward\u001b[0m\u001b[0;34m(\u001b[0m\u001b[0mself\u001b[0m\u001b[0;34m,\u001b[0m\u001b[0minput_ids\u001b[0m\u001b[0;34m,\u001b[0m\u001b[0mattention_mask\u001b[0m\u001b[0;34m,\u001b[0m\u001b[0mtoken_type_ids\u001b[0m\u001b[0;34m)\u001b[0m\u001b[0;34m:\u001b[0m\u001b[0;34m\u001b[0m\u001b[0;34m\u001b[0m\u001b[0m\n\u001b[1;32m     12\u001b[0m \u001b[0;34m\u001b[0m\u001b[0m\n\u001b[0;32m---> 13\u001b[0;31m     \u001b[0moutputs\u001b[0m \u001b[0;34m=\u001b[0m \u001b[0mself\u001b[0m\u001b[0;34m.\u001b[0m\u001b[0mbert\u001b[0m\u001b[0;34m(\u001b[0m\u001b[0minput_ids\u001b[0m\u001b[0;34m,\u001b[0m\u001b[0mattention_mask\u001b[0m\u001b[0;34m,\u001b[0m\u001b[0mtoken_type_ids\u001b[0m\u001b[0;34m)\u001b[0m \u001b[0;31m# ( batch_size, max_len, hidden_dim )\u001b[0m\u001b[0;34m\u001b[0m\u001b[0;34m\u001b[0m\u001b[0m\n\u001b[0m\u001b[1;32m     14\u001b[0m     \u001b[0mdroped\u001b[0m \u001b[0;34m=\u001b[0m \u001b[0mself\u001b[0m\u001b[0;34m.\u001b[0m\u001b[0mdropout\u001b[0m\u001b[0;34m(\u001b[0m\u001b[0moutputs\u001b[0m\u001b[0;34m[\u001b[0m\u001b[0;36m1\u001b[0m\u001b[0;34m]\u001b[0m\u001b[0;34m)\u001b[0m \u001b[0;31m# ( batch_size, hidden_dim )\u001b[0m\u001b[0;34m\u001b[0m\u001b[0;34m\u001b[0m\u001b[0m\n\u001b[1;32m     15\u001b[0m     \u001b[0mpredict\u001b[0m \u001b[0;34m=\u001b[0m \u001b[0mself\u001b[0m\u001b[0;34m.\u001b[0m\u001b[0mdense\u001b[0m\u001b[0;34m(\u001b[0m\u001b[0mdroped\u001b[0m\u001b[0;34m)\u001b[0m \u001b[0;31m# ( batch_size, 1)\u001b[0m\u001b[0;34m\u001b[0m\u001b[0;34m\u001b[0m\u001b[0m\n",
            "\u001b[0;32m/usr/local/lib/python3.10/dist-packages/torch/nn/modules/module.py\u001b[0m in \u001b[0;36m_call_impl\u001b[0;34m(self, *args, **kwargs)\u001b[0m\n\u001b[1;32m   1499\u001b[0m                 \u001b[0;32mor\u001b[0m \u001b[0m_global_backward_pre_hooks\u001b[0m \u001b[0;32mor\u001b[0m \u001b[0m_global_backward_hooks\u001b[0m\u001b[0;34m\u001b[0m\u001b[0;34m\u001b[0m\u001b[0m\n\u001b[1;32m   1500\u001b[0m                 or _global_forward_hooks or _global_forward_pre_hooks):\n\u001b[0;32m-> 1501\u001b[0;31m             \u001b[0;32mreturn\u001b[0m \u001b[0mforward_call\u001b[0m\u001b[0;34m(\u001b[0m\u001b[0;34m*\u001b[0m\u001b[0margs\u001b[0m\u001b[0;34m,\u001b[0m \u001b[0;34m**\u001b[0m\u001b[0mkwargs\u001b[0m\u001b[0;34m)\u001b[0m\u001b[0;34m\u001b[0m\u001b[0;34m\u001b[0m\u001b[0m\n\u001b[0m\u001b[1;32m   1502\u001b[0m         \u001b[0;31m# Do not call functions when jit is used\u001b[0m\u001b[0;34m\u001b[0m\u001b[0;34m\u001b[0m\u001b[0m\n\u001b[1;32m   1503\u001b[0m         \u001b[0mfull_backward_hooks\u001b[0m\u001b[0;34m,\u001b[0m \u001b[0mnon_full_backward_hooks\u001b[0m \u001b[0;34m=\u001b[0m \u001b[0;34m[\u001b[0m\u001b[0;34m]\u001b[0m\u001b[0;34m,\u001b[0m \u001b[0;34m[\u001b[0m\u001b[0;34m]\u001b[0m\u001b[0;34m\u001b[0m\u001b[0;34m\u001b[0m\u001b[0m\n",
            "\u001b[0;32m/usr/local/lib/python3.10/dist-packages/transformers/models/bert/modeling_bert.py\u001b[0m in \u001b[0;36mforward\u001b[0;34m(self, input_ids, attention_mask, token_type_ids, position_ids, head_mask, inputs_embeds, encoder_hidden_states, encoder_attention_mask, past_key_values, use_cache, output_attentions, output_hidden_states, return_dict)\u001b[0m\n\u001b[1;32m   1018\u001b[0m             \u001b[0mpast_key_values_length\u001b[0m\u001b[0;34m=\u001b[0m\u001b[0mpast_key_values_length\u001b[0m\u001b[0;34m,\u001b[0m\u001b[0;34m\u001b[0m\u001b[0;34m\u001b[0m\u001b[0m\n\u001b[1;32m   1019\u001b[0m         )\n\u001b[0;32m-> 1020\u001b[0;31m         encoder_outputs = self.encoder(\n\u001b[0m\u001b[1;32m   1021\u001b[0m             \u001b[0membedding_output\u001b[0m\u001b[0;34m,\u001b[0m\u001b[0;34m\u001b[0m\u001b[0;34m\u001b[0m\u001b[0m\n\u001b[1;32m   1022\u001b[0m             \u001b[0mattention_mask\u001b[0m\u001b[0;34m=\u001b[0m\u001b[0mextended_attention_mask\u001b[0m\u001b[0;34m,\u001b[0m\u001b[0;34m\u001b[0m\u001b[0;34m\u001b[0m\u001b[0m\n",
            "\u001b[0;32m/usr/local/lib/python3.10/dist-packages/torch/nn/modules/module.py\u001b[0m in \u001b[0;36m_call_impl\u001b[0;34m(self, *args, **kwargs)\u001b[0m\n\u001b[1;32m   1499\u001b[0m                 \u001b[0;32mor\u001b[0m \u001b[0m_global_backward_pre_hooks\u001b[0m \u001b[0;32mor\u001b[0m \u001b[0m_global_backward_hooks\u001b[0m\u001b[0;34m\u001b[0m\u001b[0;34m\u001b[0m\u001b[0m\n\u001b[1;32m   1500\u001b[0m                 or _global_forward_hooks or _global_forward_pre_hooks):\n\u001b[0;32m-> 1501\u001b[0;31m             \u001b[0;32mreturn\u001b[0m \u001b[0mforward_call\u001b[0m\u001b[0;34m(\u001b[0m\u001b[0;34m*\u001b[0m\u001b[0margs\u001b[0m\u001b[0;34m,\u001b[0m \u001b[0;34m**\u001b[0m\u001b[0mkwargs\u001b[0m\u001b[0;34m)\u001b[0m\u001b[0;34m\u001b[0m\u001b[0;34m\u001b[0m\u001b[0m\n\u001b[0m\u001b[1;32m   1502\u001b[0m         \u001b[0;31m# Do not call functions when jit is used\u001b[0m\u001b[0;34m\u001b[0m\u001b[0;34m\u001b[0m\u001b[0m\n\u001b[1;32m   1503\u001b[0m         \u001b[0mfull_backward_hooks\u001b[0m\u001b[0;34m,\u001b[0m \u001b[0mnon_full_backward_hooks\u001b[0m \u001b[0;34m=\u001b[0m \u001b[0;34m[\u001b[0m\u001b[0;34m]\u001b[0m\u001b[0;34m,\u001b[0m \u001b[0;34m[\u001b[0m\u001b[0;34m]\u001b[0m\u001b[0;34m\u001b[0m\u001b[0;34m\u001b[0m\u001b[0m\n",
            "\u001b[0;32m/usr/local/lib/python3.10/dist-packages/transformers/models/bert/modeling_bert.py\u001b[0m in \u001b[0;36mforward\u001b[0;34m(self, hidden_states, attention_mask, head_mask, encoder_hidden_states, encoder_attention_mask, past_key_values, use_cache, output_attentions, output_hidden_states, return_dict)\u001b[0m\n\u001b[1;32m    608\u001b[0m                 )\n\u001b[1;32m    609\u001b[0m             \u001b[0;32melse\u001b[0m\u001b[0;34m:\u001b[0m\u001b[0;34m\u001b[0m\u001b[0;34m\u001b[0m\u001b[0m\n\u001b[0;32m--> 610\u001b[0;31m                 layer_outputs = layer_module(\n\u001b[0m\u001b[1;32m    611\u001b[0m                     \u001b[0mhidden_states\u001b[0m\u001b[0;34m,\u001b[0m\u001b[0;34m\u001b[0m\u001b[0;34m\u001b[0m\u001b[0m\n\u001b[1;32m    612\u001b[0m                     \u001b[0mattention_mask\u001b[0m\u001b[0;34m,\u001b[0m\u001b[0;34m\u001b[0m\u001b[0;34m\u001b[0m\u001b[0m\n",
            "\u001b[0;32m/usr/local/lib/python3.10/dist-packages/torch/nn/modules/module.py\u001b[0m in \u001b[0;36m_call_impl\u001b[0;34m(self, *args, **kwargs)\u001b[0m\n\u001b[1;32m   1499\u001b[0m                 \u001b[0;32mor\u001b[0m \u001b[0m_global_backward_pre_hooks\u001b[0m \u001b[0;32mor\u001b[0m \u001b[0m_global_backward_hooks\u001b[0m\u001b[0;34m\u001b[0m\u001b[0;34m\u001b[0m\u001b[0m\n\u001b[1;32m   1500\u001b[0m                 or _global_forward_hooks or _global_forward_pre_hooks):\n\u001b[0;32m-> 1501\u001b[0;31m             \u001b[0;32mreturn\u001b[0m \u001b[0mforward_call\u001b[0m\u001b[0;34m(\u001b[0m\u001b[0;34m*\u001b[0m\u001b[0margs\u001b[0m\u001b[0;34m,\u001b[0m \u001b[0;34m**\u001b[0m\u001b[0mkwargs\u001b[0m\u001b[0;34m)\u001b[0m\u001b[0;34m\u001b[0m\u001b[0;34m\u001b[0m\u001b[0m\n\u001b[0m\u001b[1;32m   1502\u001b[0m         \u001b[0;31m# Do not call functions when jit is used\u001b[0m\u001b[0;34m\u001b[0m\u001b[0;34m\u001b[0m\u001b[0m\n\u001b[1;32m   1503\u001b[0m         \u001b[0mfull_backward_hooks\u001b[0m\u001b[0;34m,\u001b[0m \u001b[0mnon_full_backward_hooks\u001b[0m \u001b[0;34m=\u001b[0m \u001b[0;34m[\u001b[0m\u001b[0;34m]\u001b[0m\u001b[0;34m,\u001b[0m \u001b[0;34m[\u001b[0m\u001b[0;34m]\u001b[0m\u001b[0;34m\u001b[0m\u001b[0;34m\u001b[0m\u001b[0m\n",
            "\u001b[0;32m/usr/local/lib/python3.10/dist-packages/transformers/models/bert/modeling_bert.py\u001b[0m in \u001b[0;36mforward\u001b[0;34m(self, hidden_states, attention_mask, head_mask, encoder_hidden_states, encoder_attention_mask, past_key_value, output_attentions)\u001b[0m\n\u001b[1;32m    535\u001b[0m             \u001b[0mpresent_key_value\u001b[0m \u001b[0;34m=\u001b[0m \u001b[0mpresent_key_value\u001b[0m \u001b[0;34m+\u001b[0m \u001b[0mcross_attn_present_key_value\u001b[0m\u001b[0;34m\u001b[0m\u001b[0;34m\u001b[0m\u001b[0m\n\u001b[1;32m    536\u001b[0m \u001b[0;34m\u001b[0m\u001b[0m\n\u001b[0;32m--> 537\u001b[0;31m         layer_output = apply_chunking_to_forward(\n\u001b[0m\u001b[1;32m    538\u001b[0m             \u001b[0mself\u001b[0m\u001b[0;34m.\u001b[0m\u001b[0mfeed_forward_chunk\u001b[0m\u001b[0;34m,\u001b[0m \u001b[0mself\u001b[0m\u001b[0;34m.\u001b[0m\u001b[0mchunk_size_feed_forward\u001b[0m\u001b[0;34m,\u001b[0m \u001b[0mself\u001b[0m\u001b[0;34m.\u001b[0m\u001b[0mseq_len_dim\u001b[0m\u001b[0;34m,\u001b[0m \u001b[0mattention_output\u001b[0m\u001b[0;34m\u001b[0m\u001b[0;34m\u001b[0m\u001b[0m\n\u001b[1;32m    539\u001b[0m         )\n",
            "\u001b[0;32m/usr/local/lib/python3.10/dist-packages/transformers/pytorch_utils.py\u001b[0m in \u001b[0;36mapply_chunking_to_forward\u001b[0;34m(forward_fn, chunk_size, chunk_dim, *input_tensors)\u001b[0m\n\u001b[1;32m    235\u001b[0m         \u001b[0;32mreturn\u001b[0m \u001b[0mtorch\u001b[0m\u001b[0;34m.\u001b[0m\u001b[0mcat\u001b[0m\u001b[0;34m(\u001b[0m\u001b[0moutput_chunks\u001b[0m\u001b[0;34m,\u001b[0m \u001b[0mdim\u001b[0m\u001b[0;34m=\u001b[0m\u001b[0mchunk_dim\u001b[0m\u001b[0;34m)\u001b[0m\u001b[0;34m\u001b[0m\u001b[0;34m\u001b[0m\u001b[0m\n\u001b[1;32m    236\u001b[0m \u001b[0;34m\u001b[0m\u001b[0m\n\u001b[0;32m--> 237\u001b[0;31m     \u001b[0;32mreturn\u001b[0m \u001b[0mforward_fn\u001b[0m\u001b[0;34m(\u001b[0m\u001b[0;34m*\u001b[0m\u001b[0minput_tensors\u001b[0m\u001b[0;34m)\u001b[0m\u001b[0;34m\u001b[0m\u001b[0;34m\u001b[0m\u001b[0m\n\u001b[0m\u001b[1;32m    238\u001b[0m \u001b[0;34m\u001b[0m\u001b[0m\n\u001b[1;32m    239\u001b[0m \u001b[0;34m\u001b[0m\u001b[0m\n",
            "\u001b[0;32m/usr/local/lib/python3.10/dist-packages/transformers/models/bert/modeling_bert.py\u001b[0m in \u001b[0;36mfeed_forward_chunk\u001b[0;34m(self, attention_output)\u001b[0m\n\u001b[1;32m    547\u001b[0m \u001b[0;34m\u001b[0m\u001b[0m\n\u001b[1;32m    548\u001b[0m     \u001b[0;32mdef\u001b[0m \u001b[0mfeed_forward_chunk\u001b[0m\u001b[0;34m(\u001b[0m\u001b[0mself\u001b[0m\u001b[0;34m,\u001b[0m \u001b[0mattention_output\u001b[0m\u001b[0;34m)\u001b[0m\u001b[0;34m:\u001b[0m\u001b[0;34m\u001b[0m\u001b[0;34m\u001b[0m\u001b[0m\n\u001b[0;32m--> 549\u001b[0;31m         \u001b[0mintermediate_output\u001b[0m \u001b[0;34m=\u001b[0m \u001b[0mself\u001b[0m\u001b[0;34m.\u001b[0m\u001b[0mintermediate\u001b[0m\u001b[0;34m(\u001b[0m\u001b[0mattention_output\u001b[0m\u001b[0;34m)\u001b[0m\u001b[0;34m\u001b[0m\u001b[0;34m\u001b[0m\u001b[0m\n\u001b[0m\u001b[1;32m    550\u001b[0m         \u001b[0mlayer_output\u001b[0m \u001b[0;34m=\u001b[0m \u001b[0mself\u001b[0m\u001b[0;34m.\u001b[0m\u001b[0moutput\u001b[0m\u001b[0;34m(\u001b[0m\u001b[0mintermediate_output\u001b[0m\u001b[0;34m,\u001b[0m \u001b[0mattention_output\u001b[0m\u001b[0;34m)\u001b[0m\u001b[0;34m\u001b[0m\u001b[0;34m\u001b[0m\u001b[0m\n\u001b[1;32m    551\u001b[0m         \u001b[0;32mreturn\u001b[0m \u001b[0mlayer_output\u001b[0m\u001b[0;34m\u001b[0m\u001b[0;34m\u001b[0m\u001b[0m\n",
            "\u001b[0;32m/usr/local/lib/python3.10/dist-packages/torch/nn/modules/module.py\u001b[0m in \u001b[0;36m_call_impl\u001b[0;34m(self, *args, **kwargs)\u001b[0m\n\u001b[1;32m   1499\u001b[0m                 \u001b[0;32mor\u001b[0m \u001b[0m_global_backward_pre_hooks\u001b[0m \u001b[0;32mor\u001b[0m \u001b[0m_global_backward_hooks\u001b[0m\u001b[0;34m\u001b[0m\u001b[0;34m\u001b[0m\u001b[0m\n\u001b[1;32m   1500\u001b[0m                 or _global_forward_hooks or _global_forward_pre_hooks):\n\u001b[0;32m-> 1501\u001b[0;31m             \u001b[0;32mreturn\u001b[0m \u001b[0mforward_call\u001b[0m\u001b[0;34m(\u001b[0m\u001b[0;34m*\u001b[0m\u001b[0margs\u001b[0m\u001b[0;34m,\u001b[0m \u001b[0;34m**\u001b[0m\u001b[0mkwargs\u001b[0m\u001b[0;34m)\u001b[0m\u001b[0;34m\u001b[0m\u001b[0;34m\u001b[0m\u001b[0m\n\u001b[0m\u001b[1;32m   1502\u001b[0m         \u001b[0;31m# Do not call functions when jit is used\u001b[0m\u001b[0;34m\u001b[0m\u001b[0;34m\u001b[0m\u001b[0m\n\u001b[1;32m   1503\u001b[0m         \u001b[0mfull_backward_hooks\u001b[0m\u001b[0;34m,\u001b[0m \u001b[0mnon_full_backward_hooks\u001b[0m \u001b[0;34m=\u001b[0m \u001b[0;34m[\u001b[0m\u001b[0;34m]\u001b[0m\u001b[0;34m,\u001b[0m \u001b[0;34m[\u001b[0m\u001b[0;34m]\u001b[0m\u001b[0;34m\u001b[0m\u001b[0;34m\u001b[0m\u001b[0m\n",
            "\u001b[0;32m/usr/local/lib/python3.10/dist-packages/transformers/models/bert/modeling_bert.py\u001b[0m in \u001b[0;36mforward\u001b[0;34m(self, hidden_states)\u001b[0m\n\u001b[1;32m    447\u001b[0m \u001b[0;34m\u001b[0m\u001b[0m\n\u001b[1;32m    448\u001b[0m     \u001b[0;32mdef\u001b[0m \u001b[0mforward\u001b[0m\u001b[0;34m(\u001b[0m\u001b[0mself\u001b[0m\u001b[0;34m,\u001b[0m \u001b[0mhidden_states\u001b[0m\u001b[0;34m:\u001b[0m \u001b[0mtorch\u001b[0m\u001b[0;34m.\u001b[0m\u001b[0mTensor\u001b[0m\u001b[0;34m)\u001b[0m \u001b[0;34m->\u001b[0m \u001b[0mtorch\u001b[0m\u001b[0;34m.\u001b[0m\u001b[0mTensor\u001b[0m\u001b[0;34m:\u001b[0m\u001b[0;34m\u001b[0m\u001b[0;34m\u001b[0m\u001b[0m\n\u001b[0;32m--> 449\u001b[0;31m         \u001b[0mhidden_states\u001b[0m \u001b[0;34m=\u001b[0m \u001b[0mself\u001b[0m\u001b[0;34m.\u001b[0m\u001b[0mdense\u001b[0m\u001b[0;34m(\u001b[0m\u001b[0mhidden_states\u001b[0m\u001b[0;34m)\u001b[0m\u001b[0;34m\u001b[0m\u001b[0;34m\u001b[0m\u001b[0m\n\u001b[0m\u001b[1;32m    450\u001b[0m         \u001b[0mhidden_states\u001b[0m \u001b[0;34m=\u001b[0m \u001b[0mself\u001b[0m\u001b[0;34m.\u001b[0m\u001b[0mintermediate_act_fn\u001b[0m\u001b[0;34m(\u001b[0m\u001b[0mhidden_states\u001b[0m\u001b[0;34m)\u001b[0m\u001b[0;34m\u001b[0m\u001b[0;34m\u001b[0m\u001b[0m\n\u001b[1;32m    451\u001b[0m         \u001b[0;32mreturn\u001b[0m \u001b[0mhidden_states\u001b[0m\u001b[0;34m\u001b[0m\u001b[0;34m\u001b[0m\u001b[0m\n",
            "\u001b[0;32m/usr/local/lib/python3.10/dist-packages/torch/nn/modules/module.py\u001b[0m in \u001b[0;36m_call_impl\u001b[0;34m(self, *args, **kwargs)\u001b[0m\n\u001b[1;32m   1499\u001b[0m                 \u001b[0;32mor\u001b[0m \u001b[0m_global_backward_pre_hooks\u001b[0m \u001b[0;32mor\u001b[0m \u001b[0m_global_backward_hooks\u001b[0m\u001b[0;34m\u001b[0m\u001b[0;34m\u001b[0m\u001b[0m\n\u001b[1;32m   1500\u001b[0m                 or _global_forward_hooks or _global_forward_pre_hooks):\n\u001b[0;32m-> 1501\u001b[0;31m             \u001b[0;32mreturn\u001b[0m \u001b[0mforward_call\u001b[0m\u001b[0;34m(\u001b[0m\u001b[0;34m*\u001b[0m\u001b[0margs\u001b[0m\u001b[0;34m,\u001b[0m \u001b[0;34m**\u001b[0m\u001b[0mkwargs\u001b[0m\u001b[0;34m)\u001b[0m\u001b[0;34m\u001b[0m\u001b[0;34m\u001b[0m\u001b[0m\n\u001b[0m\u001b[1;32m   1502\u001b[0m         \u001b[0;31m# Do not call functions when jit is used\u001b[0m\u001b[0;34m\u001b[0m\u001b[0;34m\u001b[0m\u001b[0m\n\u001b[1;32m   1503\u001b[0m         \u001b[0mfull_backward_hooks\u001b[0m\u001b[0;34m,\u001b[0m \u001b[0mnon_full_backward_hooks\u001b[0m \u001b[0;34m=\u001b[0m \u001b[0;34m[\u001b[0m\u001b[0;34m]\u001b[0m\u001b[0;34m,\u001b[0m \u001b[0;34m[\u001b[0m\u001b[0;34m]\u001b[0m\u001b[0;34m\u001b[0m\u001b[0;34m\u001b[0m\u001b[0m\n",
            "\u001b[0;32m/usr/local/lib/python3.10/dist-packages/torch/nn/modules/linear.py\u001b[0m in \u001b[0;36mforward\u001b[0;34m(self, input)\u001b[0m\n\u001b[1;32m    112\u001b[0m \u001b[0;34m\u001b[0m\u001b[0m\n\u001b[1;32m    113\u001b[0m     \u001b[0;32mdef\u001b[0m \u001b[0mforward\u001b[0m\u001b[0;34m(\u001b[0m\u001b[0mself\u001b[0m\u001b[0;34m,\u001b[0m \u001b[0minput\u001b[0m\u001b[0;34m:\u001b[0m \u001b[0mTensor\u001b[0m\u001b[0;34m)\u001b[0m \u001b[0;34m->\u001b[0m \u001b[0mTensor\u001b[0m\u001b[0;34m:\u001b[0m\u001b[0;34m\u001b[0m\u001b[0;34m\u001b[0m\u001b[0m\n\u001b[0;32m--> 114\u001b[0;31m         \u001b[0;32mreturn\u001b[0m \u001b[0mF\u001b[0m\u001b[0;34m.\u001b[0m\u001b[0mlinear\u001b[0m\u001b[0;34m(\u001b[0m\u001b[0minput\u001b[0m\u001b[0;34m,\u001b[0m \u001b[0mself\u001b[0m\u001b[0;34m.\u001b[0m\u001b[0mweight\u001b[0m\u001b[0;34m,\u001b[0m \u001b[0mself\u001b[0m\u001b[0;34m.\u001b[0m\u001b[0mbias\u001b[0m\u001b[0;34m)\u001b[0m\u001b[0;34m\u001b[0m\u001b[0;34m\u001b[0m\u001b[0m\n\u001b[0m\u001b[1;32m    115\u001b[0m \u001b[0;34m\u001b[0m\u001b[0m\n\u001b[1;32m    116\u001b[0m     \u001b[0;32mdef\u001b[0m \u001b[0mextra_repr\u001b[0m\u001b[0;34m(\u001b[0m\u001b[0mself\u001b[0m\u001b[0;34m)\u001b[0m \u001b[0;34m->\u001b[0m \u001b[0mstr\u001b[0m\u001b[0;34m:\u001b[0m\u001b[0;34m\u001b[0m\u001b[0;34m\u001b[0m\u001b[0m\n",
            "\u001b[0;31mKeyboardInterrupt\u001b[0m: "
          ]
        }
      ]
    },
    {
      "cell_type": "markdown",
      "source": [
        "## 테스트"
      ],
      "metadata": {
        "id": "sdD8aQ65PKW_"
      }
    },
    {
      "cell_type": "code",
      "source": [
        "model.load_state_dict(torch.load('./best_weight/bert_sts_best_weight.pt'))\n",
        "avg_loss, pearson_score = evaluation(model,criterion,test_iter)\n",
        "print(f' avg_loss : {avg_loss} | pearon_correlation : {pearon_score}')"
      ],
      "metadata": {
        "id": "zMYToj9dO7Xr"
      },
      "execution_count": null,
      "outputs": []
    }
  ]
}