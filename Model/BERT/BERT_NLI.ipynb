{
  "nbformat": 4,
  "nbformat_minor": 0,
  "metadata": {
    "colab": {
      "provenance": [],
      "gpuType": "T4",
      "mount_file_id": "1nANssL_Ulw7y9naXzfTIzUvxFWgQ9w-q",
      "authorship_tag": "ABX9TyOBDBTcU0yTxV3Iwcdy+q8/",
      "include_colab_link": true
    },
    "kernelspec": {
      "name": "python3",
      "display_name": "Python 3"
    },
    "language_info": {
      "name": "python"
    },
    "widgets": {
      "application/vnd.jupyter.widget-state+json": {
        "f1bbe1032e3b49cd996e31ee5374294a": {
          "model_module": "@jupyter-widgets/controls",
          "model_name": "HBoxModel",
          "model_module_version": "1.5.0",
          "state": {
            "_dom_classes": [],
            "_model_module": "@jupyter-widgets/controls",
            "_model_module_version": "1.5.0",
            "_model_name": "HBoxModel",
            "_view_count": null,
            "_view_module": "@jupyter-widgets/controls",
            "_view_module_version": "1.5.0",
            "_view_name": "HBoxView",
            "box_style": "",
            "children": [
              "IPY_MODEL_2e7a2b075543455f922ac5201cf026ca",
              "IPY_MODEL_8c83c8a709ed4b1c952e0fbd7ae16913",
              "IPY_MODEL_f9d4b9d496504daf8223ed8052625ad7"
            ],
            "layout": "IPY_MODEL_102844ca01994bebb54a028c2f9a7954"
          }
        },
        "2e7a2b075543455f922ac5201cf026ca": {
          "model_module": "@jupyter-widgets/controls",
          "model_name": "HTMLModel",
          "model_module_version": "1.5.0",
          "state": {
            "_dom_classes": [],
            "_model_module": "@jupyter-widgets/controls",
            "_model_module_version": "1.5.0",
            "_model_name": "HTMLModel",
            "_view_count": null,
            "_view_module": "@jupyter-widgets/controls",
            "_view_module_version": "1.5.0",
            "_view_name": "HTMLView",
            "description": "",
            "description_tooltip": null,
            "layout": "IPY_MODEL_daf6c1ff58ab41dc983599ea1be23d79",
            "placeholder": "​",
            "style": "IPY_MODEL_1049a4bf24d04714b3ef223ffce1ecdf",
            "value": "Downloading (…)solve/main/vocab.txt: "
          }
        },
        "8c83c8a709ed4b1c952e0fbd7ae16913": {
          "model_module": "@jupyter-widgets/controls",
          "model_name": "FloatProgressModel",
          "model_module_version": "1.5.0",
          "state": {
            "_dom_classes": [],
            "_model_module": "@jupyter-widgets/controls",
            "_model_module_version": "1.5.0",
            "_model_name": "FloatProgressModel",
            "_view_count": null,
            "_view_module": "@jupyter-widgets/controls",
            "_view_module_version": "1.5.0",
            "_view_name": "ProgressView",
            "bar_style": "success",
            "description": "",
            "description_tooltip": null,
            "layout": "IPY_MODEL_d3d6d3b8626743dfac3c3f40472e4033",
            "max": 1,
            "min": 0,
            "orientation": "horizontal",
            "style": "IPY_MODEL_1ffcd914e8df4eb189a14f79a976f6b9",
            "value": 1
          }
        },
        "f9d4b9d496504daf8223ed8052625ad7": {
          "model_module": "@jupyter-widgets/controls",
          "model_name": "HTMLModel",
          "model_module_version": "1.5.0",
          "state": {
            "_dom_classes": [],
            "_model_module": "@jupyter-widgets/controls",
            "_model_module_version": "1.5.0",
            "_model_name": "HTMLModel",
            "_view_count": null,
            "_view_module": "@jupyter-widgets/controls",
            "_view_module_version": "1.5.0",
            "_view_name": "HTMLView",
            "description": "",
            "description_tooltip": null,
            "layout": "IPY_MODEL_7996d0ac4c6c4ee59554622369935375",
            "placeholder": "​",
            "style": "IPY_MODEL_2c4eefc4b1fc45f3bd84ecbef1b11a6f",
            "value": " 996k/? [00:00&lt;00:00, 12.4MB/s]"
          }
        },
        "102844ca01994bebb54a028c2f9a7954": {
          "model_module": "@jupyter-widgets/base",
          "model_name": "LayoutModel",
          "model_module_version": "1.2.0",
          "state": {
            "_model_module": "@jupyter-widgets/base",
            "_model_module_version": "1.2.0",
            "_model_name": "LayoutModel",
            "_view_count": null,
            "_view_module": "@jupyter-widgets/base",
            "_view_module_version": "1.2.0",
            "_view_name": "LayoutView",
            "align_content": null,
            "align_items": null,
            "align_self": null,
            "border": null,
            "bottom": null,
            "display": null,
            "flex": null,
            "flex_flow": null,
            "grid_area": null,
            "grid_auto_columns": null,
            "grid_auto_flow": null,
            "grid_auto_rows": null,
            "grid_column": null,
            "grid_gap": null,
            "grid_row": null,
            "grid_template_areas": null,
            "grid_template_columns": null,
            "grid_template_rows": null,
            "height": null,
            "justify_content": null,
            "justify_items": null,
            "left": null,
            "margin": null,
            "max_height": null,
            "max_width": null,
            "min_height": null,
            "min_width": null,
            "object_fit": null,
            "object_position": null,
            "order": null,
            "overflow": null,
            "overflow_x": null,
            "overflow_y": null,
            "padding": null,
            "right": null,
            "top": null,
            "visibility": null,
            "width": null
          }
        },
        "daf6c1ff58ab41dc983599ea1be23d79": {
          "model_module": "@jupyter-widgets/base",
          "model_name": "LayoutModel",
          "model_module_version": "1.2.0",
          "state": {
            "_model_module": "@jupyter-widgets/base",
            "_model_module_version": "1.2.0",
            "_model_name": "LayoutModel",
            "_view_count": null,
            "_view_module": "@jupyter-widgets/base",
            "_view_module_version": "1.2.0",
            "_view_name": "LayoutView",
            "align_content": null,
            "align_items": null,
            "align_self": null,
            "border": null,
            "bottom": null,
            "display": null,
            "flex": null,
            "flex_flow": null,
            "grid_area": null,
            "grid_auto_columns": null,
            "grid_auto_flow": null,
            "grid_auto_rows": null,
            "grid_column": null,
            "grid_gap": null,
            "grid_row": null,
            "grid_template_areas": null,
            "grid_template_columns": null,
            "grid_template_rows": null,
            "height": null,
            "justify_content": null,
            "justify_items": null,
            "left": null,
            "margin": null,
            "max_height": null,
            "max_width": null,
            "min_height": null,
            "min_width": null,
            "object_fit": null,
            "object_position": null,
            "order": null,
            "overflow": null,
            "overflow_x": null,
            "overflow_y": null,
            "padding": null,
            "right": null,
            "top": null,
            "visibility": null,
            "width": null
          }
        },
        "1049a4bf24d04714b3ef223ffce1ecdf": {
          "model_module": "@jupyter-widgets/controls",
          "model_name": "DescriptionStyleModel",
          "model_module_version": "1.5.0",
          "state": {
            "_model_module": "@jupyter-widgets/controls",
            "_model_module_version": "1.5.0",
            "_model_name": "DescriptionStyleModel",
            "_view_count": null,
            "_view_module": "@jupyter-widgets/base",
            "_view_module_version": "1.2.0",
            "_view_name": "StyleView",
            "description_width": ""
          }
        },
        "d3d6d3b8626743dfac3c3f40472e4033": {
          "model_module": "@jupyter-widgets/base",
          "model_name": "LayoutModel",
          "model_module_version": "1.2.0",
          "state": {
            "_model_module": "@jupyter-widgets/base",
            "_model_module_version": "1.2.0",
            "_model_name": "LayoutModel",
            "_view_count": null,
            "_view_module": "@jupyter-widgets/base",
            "_view_module_version": "1.2.0",
            "_view_name": "LayoutView",
            "align_content": null,
            "align_items": null,
            "align_self": null,
            "border": null,
            "bottom": null,
            "display": null,
            "flex": null,
            "flex_flow": null,
            "grid_area": null,
            "grid_auto_columns": null,
            "grid_auto_flow": null,
            "grid_auto_rows": null,
            "grid_column": null,
            "grid_gap": null,
            "grid_row": null,
            "grid_template_areas": null,
            "grid_template_columns": null,
            "grid_template_rows": null,
            "height": null,
            "justify_content": null,
            "justify_items": null,
            "left": null,
            "margin": null,
            "max_height": null,
            "max_width": null,
            "min_height": null,
            "min_width": null,
            "object_fit": null,
            "object_position": null,
            "order": null,
            "overflow": null,
            "overflow_x": null,
            "overflow_y": null,
            "padding": null,
            "right": null,
            "top": null,
            "visibility": null,
            "width": "20px"
          }
        },
        "1ffcd914e8df4eb189a14f79a976f6b9": {
          "model_module": "@jupyter-widgets/controls",
          "model_name": "ProgressStyleModel",
          "model_module_version": "1.5.0",
          "state": {
            "_model_module": "@jupyter-widgets/controls",
            "_model_module_version": "1.5.0",
            "_model_name": "ProgressStyleModel",
            "_view_count": null,
            "_view_module": "@jupyter-widgets/base",
            "_view_module_version": "1.2.0",
            "_view_name": "StyleView",
            "bar_color": null,
            "description_width": ""
          }
        },
        "7996d0ac4c6c4ee59554622369935375": {
          "model_module": "@jupyter-widgets/base",
          "model_name": "LayoutModel",
          "model_module_version": "1.2.0",
          "state": {
            "_model_module": "@jupyter-widgets/base",
            "_model_module_version": "1.2.0",
            "_model_name": "LayoutModel",
            "_view_count": null,
            "_view_module": "@jupyter-widgets/base",
            "_view_module_version": "1.2.0",
            "_view_name": "LayoutView",
            "align_content": null,
            "align_items": null,
            "align_self": null,
            "border": null,
            "bottom": null,
            "display": null,
            "flex": null,
            "flex_flow": null,
            "grid_area": null,
            "grid_auto_columns": null,
            "grid_auto_flow": null,
            "grid_auto_rows": null,
            "grid_column": null,
            "grid_gap": null,
            "grid_row": null,
            "grid_template_areas": null,
            "grid_template_columns": null,
            "grid_template_rows": null,
            "height": null,
            "justify_content": null,
            "justify_items": null,
            "left": null,
            "margin": null,
            "max_height": null,
            "max_width": null,
            "min_height": null,
            "min_width": null,
            "object_fit": null,
            "object_position": null,
            "order": null,
            "overflow": null,
            "overflow_x": null,
            "overflow_y": null,
            "padding": null,
            "right": null,
            "top": null,
            "visibility": null,
            "width": null
          }
        },
        "2c4eefc4b1fc45f3bd84ecbef1b11a6f": {
          "model_module": "@jupyter-widgets/controls",
          "model_name": "DescriptionStyleModel",
          "model_module_version": "1.5.0",
          "state": {
            "_model_module": "@jupyter-widgets/controls",
            "_model_module_version": "1.5.0",
            "_model_name": "DescriptionStyleModel",
            "_view_count": null,
            "_view_module": "@jupyter-widgets/base",
            "_view_module_version": "1.2.0",
            "_view_name": "StyleView",
            "description_width": ""
          }
        },
        "6bd76147b1394949bdc50760620def8d": {
          "model_module": "@jupyter-widgets/controls",
          "model_name": "HBoxModel",
          "model_module_version": "1.5.0",
          "state": {
            "_dom_classes": [],
            "_model_module": "@jupyter-widgets/controls",
            "_model_module_version": "1.5.0",
            "_model_name": "HBoxModel",
            "_view_count": null,
            "_view_module": "@jupyter-widgets/controls",
            "_view_module_version": "1.5.0",
            "_view_name": "HBoxView",
            "box_style": "",
            "children": [
              "IPY_MODEL_ea58ff300c154a848fca00e0dedaffe4",
              "IPY_MODEL_d1b1d67a0a2e40e5b4aae577cccb131c",
              "IPY_MODEL_1cb3514a1d11433288d5989b51f67659"
            ],
            "layout": "IPY_MODEL_6dc00d8720f3468488b291891bad70d7"
          }
        },
        "ea58ff300c154a848fca00e0dedaffe4": {
          "model_module": "@jupyter-widgets/controls",
          "model_name": "HTMLModel",
          "model_module_version": "1.5.0",
          "state": {
            "_dom_classes": [],
            "_model_module": "@jupyter-widgets/controls",
            "_model_module_version": "1.5.0",
            "_model_name": "HTMLModel",
            "_view_count": null,
            "_view_module": "@jupyter-widgets/controls",
            "_view_module_version": "1.5.0",
            "_view_name": "HTMLView",
            "description": "",
            "description_tooltip": null,
            "layout": "IPY_MODEL_34405fb5f92f436fb272c259e0462686",
            "placeholder": "​",
            "style": "IPY_MODEL_57397713259f4a16bcf7776c7aa84b7b",
            "value": "Downloading (…)okenizer_config.json: 100%"
          }
        },
        "d1b1d67a0a2e40e5b4aae577cccb131c": {
          "model_module": "@jupyter-widgets/controls",
          "model_name": "FloatProgressModel",
          "model_module_version": "1.5.0",
          "state": {
            "_dom_classes": [],
            "_model_module": "@jupyter-widgets/controls",
            "_model_module_version": "1.5.0",
            "_model_name": "FloatProgressModel",
            "_view_count": null,
            "_view_module": "@jupyter-widgets/controls",
            "_view_module_version": "1.5.0",
            "_view_name": "ProgressView",
            "bar_style": "success",
            "description": "",
            "description_tooltip": null,
            "layout": "IPY_MODEL_487cbc48c6e14cfe93427a78ccea9064",
            "max": 29,
            "min": 0,
            "orientation": "horizontal",
            "style": "IPY_MODEL_d25aaa7825ba47858694470bd652d06f",
            "value": 29
          }
        },
        "1cb3514a1d11433288d5989b51f67659": {
          "model_module": "@jupyter-widgets/controls",
          "model_name": "HTMLModel",
          "model_module_version": "1.5.0",
          "state": {
            "_dom_classes": [],
            "_model_module": "@jupyter-widgets/controls",
            "_model_module_version": "1.5.0",
            "_model_name": "HTMLModel",
            "_view_count": null,
            "_view_module": "@jupyter-widgets/controls",
            "_view_module_version": "1.5.0",
            "_view_name": "HTMLView",
            "description": "",
            "description_tooltip": null,
            "layout": "IPY_MODEL_c916b790f6a94bf68a93a3ca529afb92",
            "placeholder": "​",
            "style": "IPY_MODEL_b5f4806c3eca441dbd1e80683f5dec74",
            "value": " 29.0/29.0 [00:00&lt;00:00, 1.52kB/s]"
          }
        },
        "6dc00d8720f3468488b291891bad70d7": {
          "model_module": "@jupyter-widgets/base",
          "model_name": "LayoutModel",
          "model_module_version": "1.2.0",
          "state": {
            "_model_module": "@jupyter-widgets/base",
            "_model_module_version": "1.2.0",
            "_model_name": "LayoutModel",
            "_view_count": null,
            "_view_module": "@jupyter-widgets/base",
            "_view_module_version": "1.2.0",
            "_view_name": "LayoutView",
            "align_content": null,
            "align_items": null,
            "align_self": null,
            "border": null,
            "bottom": null,
            "display": null,
            "flex": null,
            "flex_flow": null,
            "grid_area": null,
            "grid_auto_columns": null,
            "grid_auto_flow": null,
            "grid_auto_rows": null,
            "grid_column": null,
            "grid_gap": null,
            "grid_row": null,
            "grid_template_areas": null,
            "grid_template_columns": null,
            "grid_template_rows": null,
            "height": null,
            "justify_content": null,
            "justify_items": null,
            "left": null,
            "margin": null,
            "max_height": null,
            "max_width": null,
            "min_height": null,
            "min_width": null,
            "object_fit": null,
            "object_position": null,
            "order": null,
            "overflow": null,
            "overflow_x": null,
            "overflow_y": null,
            "padding": null,
            "right": null,
            "top": null,
            "visibility": null,
            "width": null
          }
        },
        "34405fb5f92f436fb272c259e0462686": {
          "model_module": "@jupyter-widgets/base",
          "model_name": "LayoutModel",
          "model_module_version": "1.2.0",
          "state": {
            "_model_module": "@jupyter-widgets/base",
            "_model_module_version": "1.2.0",
            "_model_name": "LayoutModel",
            "_view_count": null,
            "_view_module": "@jupyter-widgets/base",
            "_view_module_version": "1.2.0",
            "_view_name": "LayoutView",
            "align_content": null,
            "align_items": null,
            "align_self": null,
            "border": null,
            "bottom": null,
            "display": null,
            "flex": null,
            "flex_flow": null,
            "grid_area": null,
            "grid_auto_columns": null,
            "grid_auto_flow": null,
            "grid_auto_rows": null,
            "grid_column": null,
            "grid_gap": null,
            "grid_row": null,
            "grid_template_areas": null,
            "grid_template_columns": null,
            "grid_template_rows": null,
            "height": null,
            "justify_content": null,
            "justify_items": null,
            "left": null,
            "margin": null,
            "max_height": null,
            "max_width": null,
            "min_height": null,
            "min_width": null,
            "object_fit": null,
            "object_position": null,
            "order": null,
            "overflow": null,
            "overflow_x": null,
            "overflow_y": null,
            "padding": null,
            "right": null,
            "top": null,
            "visibility": null,
            "width": null
          }
        },
        "57397713259f4a16bcf7776c7aa84b7b": {
          "model_module": "@jupyter-widgets/controls",
          "model_name": "DescriptionStyleModel",
          "model_module_version": "1.5.0",
          "state": {
            "_model_module": "@jupyter-widgets/controls",
            "_model_module_version": "1.5.0",
            "_model_name": "DescriptionStyleModel",
            "_view_count": null,
            "_view_module": "@jupyter-widgets/base",
            "_view_module_version": "1.2.0",
            "_view_name": "StyleView",
            "description_width": ""
          }
        },
        "487cbc48c6e14cfe93427a78ccea9064": {
          "model_module": "@jupyter-widgets/base",
          "model_name": "LayoutModel",
          "model_module_version": "1.2.0",
          "state": {
            "_model_module": "@jupyter-widgets/base",
            "_model_module_version": "1.2.0",
            "_model_name": "LayoutModel",
            "_view_count": null,
            "_view_module": "@jupyter-widgets/base",
            "_view_module_version": "1.2.0",
            "_view_name": "LayoutView",
            "align_content": null,
            "align_items": null,
            "align_self": null,
            "border": null,
            "bottom": null,
            "display": null,
            "flex": null,
            "flex_flow": null,
            "grid_area": null,
            "grid_auto_columns": null,
            "grid_auto_flow": null,
            "grid_auto_rows": null,
            "grid_column": null,
            "grid_gap": null,
            "grid_row": null,
            "grid_template_areas": null,
            "grid_template_columns": null,
            "grid_template_rows": null,
            "height": null,
            "justify_content": null,
            "justify_items": null,
            "left": null,
            "margin": null,
            "max_height": null,
            "max_width": null,
            "min_height": null,
            "min_width": null,
            "object_fit": null,
            "object_position": null,
            "order": null,
            "overflow": null,
            "overflow_x": null,
            "overflow_y": null,
            "padding": null,
            "right": null,
            "top": null,
            "visibility": null,
            "width": null
          }
        },
        "d25aaa7825ba47858694470bd652d06f": {
          "model_module": "@jupyter-widgets/controls",
          "model_name": "ProgressStyleModel",
          "model_module_version": "1.5.0",
          "state": {
            "_model_module": "@jupyter-widgets/controls",
            "_model_module_version": "1.5.0",
            "_model_name": "ProgressStyleModel",
            "_view_count": null,
            "_view_module": "@jupyter-widgets/base",
            "_view_module_version": "1.2.0",
            "_view_name": "StyleView",
            "bar_color": null,
            "description_width": ""
          }
        },
        "c916b790f6a94bf68a93a3ca529afb92": {
          "model_module": "@jupyter-widgets/base",
          "model_name": "LayoutModel",
          "model_module_version": "1.2.0",
          "state": {
            "_model_module": "@jupyter-widgets/base",
            "_model_module_version": "1.2.0",
            "_model_name": "LayoutModel",
            "_view_count": null,
            "_view_module": "@jupyter-widgets/base",
            "_view_module_version": "1.2.0",
            "_view_name": "LayoutView",
            "align_content": null,
            "align_items": null,
            "align_self": null,
            "border": null,
            "bottom": null,
            "display": null,
            "flex": null,
            "flex_flow": null,
            "grid_area": null,
            "grid_auto_columns": null,
            "grid_auto_flow": null,
            "grid_auto_rows": null,
            "grid_column": null,
            "grid_gap": null,
            "grid_row": null,
            "grid_template_areas": null,
            "grid_template_columns": null,
            "grid_template_rows": null,
            "height": null,
            "justify_content": null,
            "justify_items": null,
            "left": null,
            "margin": null,
            "max_height": null,
            "max_width": null,
            "min_height": null,
            "min_width": null,
            "object_fit": null,
            "object_position": null,
            "order": null,
            "overflow": null,
            "overflow_x": null,
            "overflow_y": null,
            "padding": null,
            "right": null,
            "top": null,
            "visibility": null,
            "width": null
          }
        },
        "b5f4806c3eca441dbd1e80683f5dec74": {
          "model_module": "@jupyter-widgets/controls",
          "model_name": "DescriptionStyleModel",
          "model_module_version": "1.5.0",
          "state": {
            "_model_module": "@jupyter-widgets/controls",
            "_model_module_version": "1.5.0",
            "_model_name": "DescriptionStyleModel",
            "_view_count": null,
            "_view_module": "@jupyter-widgets/base",
            "_view_module_version": "1.2.0",
            "_view_name": "StyleView",
            "description_width": ""
          }
        },
        "60da1e701ac746e584d2aa7c94faf183": {
          "model_module": "@jupyter-widgets/controls",
          "model_name": "HBoxModel",
          "model_module_version": "1.5.0",
          "state": {
            "_dom_classes": [],
            "_model_module": "@jupyter-widgets/controls",
            "_model_module_version": "1.5.0",
            "_model_name": "HBoxModel",
            "_view_count": null,
            "_view_module": "@jupyter-widgets/controls",
            "_view_module_version": "1.5.0",
            "_view_name": "HBoxView",
            "box_style": "",
            "children": [
              "IPY_MODEL_792748781d5349a9b47e49adfe2c1968",
              "IPY_MODEL_0aa1300696044d5e9c2f5611044b46b2",
              "IPY_MODEL_acca4dbeab8d4d82a272cb73ddb9199c"
            ],
            "layout": "IPY_MODEL_7e2be1defd794dc79c1747b1caf4f11b"
          }
        },
        "792748781d5349a9b47e49adfe2c1968": {
          "model_module": "@jupyter-widgets/controls",
          "model_name": "HTMLModel",
          "model_module_version": "1.5.0",
          "state": {
            "_dom_classes": [],
            "_model_module": "@jupyter-widgets/controls",
            "_model_module_version": "1.5.0",
            "_model_name": "HTMLModel",
            "_view_count": null,
            "_view_module": "@jupyter-widgets/controls",
            "_view_module_version": "1.5.0",
            "_view_name": "HTMLView",
            "description": "",
            "description_tooltip": null,
            "layout": "IPY_MODEL_cc71e65026c0480782ef971eb0aa3a73",
            "placeholder": "​",
            "style": "IPY_MODEL_3a1dc63a4aa24db893d8e98aaab7d334",
            "value": "Downloading (…)lve/main/config.json: 100%"
          }
        },
        "0aa1300696044d5e9c2f5611044b46b2": {
          "model_module": "@jupyter-widgets/controls",
          "model_name": "FloatProgressModel",
          "model_module_version": "1.5.0",
          "state": {
            "_dom_classes": [],
            "_model_module": "@jupyter-widgets/controls",
            "_model_module_version": "1.5.0",
            "_model_name": "FloatProgressModel",
            "_view_count": null,
            "_view_module": "@jupyter-widgets/controls",
            "_view_module_version": "1.5.0",
            "_view_name": "ProgressView",
            "bar_style": "success",
            "description": "",
            "description_tooltip": null,
            "layout": "IPY_MODEL_7f8a7ad336a640df9b066c95c1152967",
            "max": 625,
            "min": 0,
            "orientation": "horizontal",
            "style": "IPY_MODEL_99c9943f166e4680a31f5daf0ea2b17d",
            "value": 625
          }
        },
        "acca4dbeab8d4d82a272cb73ddb9199c": {
          "model_module": "@jupyter-widgets/controls",
          "model_name": "HTMLModel",
          "model_module_version": "1.5.0",
          "state": {
            "_dom_classes": [],
            "_model_module": "@jupyter-widgets/controls",
            "_model_module_version": "1.5.0",
            "_model_name": "HTMLModel",
            "_view_count": null,
            "_view_module": "@jupyter-widgets/controls",
            "_view_module_version": "1.5.0",
            "_view_name": "HTMLView",
            "description": "",
            "description_tooltip": null,
            "layout": "IPY_MODEL_e474ed09e88545d59220b396765dfafc",
            "placeholder": "​",
            "style": "IPY_MODEL_c24bbd8484dc4307bd01d40e2a415d00",
            "value": " 625/625 [00:00&lt;00:00, 36.3kB/s]"
          }
        },
        "7e2be1defd794dc79c1747b1caf4f11b": {
          "model_module": "@jupyter-widgets/base",
          "model_name": "LayoutModel",
          "model_module_version": "1.2.0",
          "state": {
            "_model_module": "@jupyter-widgets/base",
            "_model_module_version": "1.2.0",
            "_model_name": "LayoutModel",
            "_view_count": null,
            "_view_module": "@jupyter-widgets/base",
            "_view_module_version": "1.2.0",
            "_view_name": "LayoutView",
            "align_content": null,
            "align_items": null,
            "align_self": null,
            "border": null,
            "bottom": null,
            "display": null,
            "flex": null,
            "flex_flow": null,
            "grid_area": null,
            "grid_auto_columns": null,
            "grid_auto_flow": null,
            "grid_auto_rows": null,
            "grid_column": null,
            "grid_gap": null,
            "grid_row": null,
            "grid_template_areas": null,
            "grid_template_columns": null,
            "grid_template_rows": null,
            "height": null,
            "justify_content": null,
            "justify_items": null,
            "left": null,
            "margin": null,
            "max_height": null,
            "max_width": null,
            "min_height": null,
            "min_width": null,
            "object_fit": null,
            "object_position": null,
            "order": null,
            "overflow": null,
            "overflow_x": null,
            "overflow_y": null,
            "padding": null,
            "right": null,
            "top": null,
            "visibility": null,
            "width": null
          }
        },
        "cc71e65026c0480782ef971eb0aa3a73": {
          "model_module": "@jupyter-widgets/base",
          "model_name": "LayoutModel",
          "model_module_version": "1.2.0",
          "state": {
            "_model_module": "@jupyter-widgets/base",
            "_model_module_version": "1.2.0",
            "_model_name": "LayoutModel",
            "_view_count": null,
            "_view_module": "@jupyter-widgets/base",
            "_view_module_version": "1.2.0",
            "_view_name": "LayoutView",
            "align_content": null,
            "align_items": null,
            "align_self": null,
            "border": null,
            "bottom": null,
            "display": null,
            "flex": null,
            "flex_flow": null,
            "grid_area": null,
            "grid_auto_columns": null,
            "grid_auto_flow": null,
            "grid_auto_rows": null,
            "grid_column": null,
            "grid_gap": null,
            "grid_row": null,
            "grid_template_areas": null,
            "grid_template_columns": null,
            "grid_template_rows": null,
            "height": null,
            "justify_content": null,
            "justify_items": null,
            "left": null,
            "margin": null,
            "max_height": null,
            "max_width": null,
            "min_height": null,
            "min_width": null,
            "object_fit": null,
            "object_position": null,
            "order": null,
            "overflow": null,
            "overflow_x": null,
            "overflow_y": null,
            "padding": null,
            "right": null,
            "top": null,
            "visibility": null,
            "width": null
          }
        },
        "3a1dc63a4aa24db893d8e98aaab7d334": {
          "model_module": "@jupyter-widgets/controls",
          "model_name": "DescriptionStyleModel",
          "model_module_version": "1.5.0",
          "state": {
            "_model_module": "@jupyter-widgets/controls",
            "_model_module_version": "1.5.0",
            "_model_name": "DescriptionStyleModel",
            "_view_count": null,
            "_view_module": "@jupyter-widgets/base",
            "_view_module_version": "1.2.0",
            "_view_name": "StyleView",
            "description_width": ""
          }
        },
        "7f8a7ad336a640df9b066c95c1152967": {
          "model_module": "@jupyter-widgets/base",
          "model_name": "LayoutModel",
          "model_module_version": "1.2.0",
          "state": {
            "_model_module": "@jupyter-widgets/base",
            "_model_module_version": "1.2.0",
            "_model_name": "LayoutModel",
            "_view_count": null,
            "_view_module": "@jupyter-widgets/base",
            "_view_module_version": "1.2.0",
            "_view_name": "LayoutView",
            "align_content": null,
            "align_items": null,
            "align_self": null,
            "border": null,
            "bottom": null,
            "display": null,
            "flex": null,
            "flex_flow": null,
            "grid_area": null,
            "grid_auto_columns": null,
            "grid_auto_flow": null,
            "grid_auto_rows": null,
            "grid_column": null,
            "grid_gap": null,
            "grid_row": null,
            "grid_template_areas": null,
            "grid_template_columns": null,
            "grid_template_rows": null,
            "height": null,
            "justify_content": null,
            "justify_items": null,
            "left": null,
            "margin": null,
            "max_height": null,
            "max_width": null,
            "min_height": null,
            "min_width": null,
            "object_fit": null,
            "object_position": null,
            "order": null,
            "overflow": null,
            "overflow_x": null,
            "overflow_y": null,
            "padding": null,
            "right": null,
            "top": null,
            "visibility": null,
            "width": null
          }
        },
        "99c9943f166e4680a31f5daf0ea2b17d": {
          "model_module": "@jupyter-widgets/controls",
          "model_name": "ProgressStyleModel",
          "model_module_version": "1.5.0",
          "state": {
            "_model_module": "@jupyter-widgets/controls",
            "_model_module_version": "1.5.0",
            "_model_name": "ProgressStyleModel",
            "_view_count": null,
            "_view_module": "@jupyter-widgets/base",
            "_view_module_version": "1.2.0",
            "_view_name": "StyleView",
            "bar_color": null,
            "description_width": ""
          }
        },
        "e474ed09e88545d59220b396765dfafc": {
          "model_module": "@jupyter-widgets/base",
          "model_name": "LayoutModel",
          "model_module_version": "1.2.0",
          "state": {
            "_model_module": "@jupyter-widgets/base",
            "_model_module_version": "1.2.0",
            "_model_name": "LayoutModel",
            "_view_count": null,
            "_view_module": "@jupyter-widgets/base",
            "_view_module_version": "1.2.0",
            "_view_name": "LayoutView",
            "align_content": null,
            "align_items": null,
            "align_self": null,
            "border": null,
            "bottom": null,
            "display": null,
            "flex": null,
            "flex_flow": null,
            "grid_area": null,
            "grid_auto_columns": null,
            "grid_auto_flow": null,
            "grid_auto_rows": null,
            "grid_column": null,
            "grid_gap": null,
            "grid_row": null,
            "grid_template_areas": null,
            "grid_template_columns": null,
            "grid_template_rows": null,
            "height": null,
            "justify_content": null,
            "justify_items": null,
            "left": null,
            "margin": null,
            "max_height": null,
            "max_width": null,
            "min_height": null,
            "min_width": null,
            "object_fit": null,
            "object_position": null,
            "order": null,
            "overflow": null,
            "overflow_x": null,
            "overflow_y": null,
            "padding": null,
            "right": null,
            "top": null,
            "visibility": null,
            "width": null
          }
        },
        "c24bbd8484dc4307bd01d40e2a415d00": {
          "model_module": "@jupyter-widgets/controls",
          "model_name": "DescriptionStyleModel",
          "model_module_version": "1.5.0",
          "state": {
            "_model_module": "@jupyter-widgets/controls",
            "_model_module_version": "1.5.0",
            "_model_name": "DescriptionStyleModel",
            "_view_count": null,
            "_view_module": "@jupyter-widgets/base",
            "_view_module_version": "1.2.0",
            "_view_name": "StyleView",
            "description_width": ""
          }
        },
        "f9ab49b1096f45ff9bf424848924163c": {
          "model_module": "@jupyter-widgets/controls",
          "model_name": "HBoxModel",
          "model_module_version": "1.5.0",
          "state": {
            "_dom_classes": [],
            "_model_module": "@jupyter-widgets/controls",
            "_model_module_version": "1.5.0",
            "_model_name": "HBoxModel",
            "_view_count": null,
            "_view_module": "@jupyter-widgets/controls",
            "_view_module_version": "1.5.0",
            "_view_name": "HBoxView",
            "box_style": "",
            "children": [
              "IPY_MODEL_4497a157dca6431793254e3f58a550d4",
              "IPY_MODEL_8bf8c050ceaf46f4b3c4d2282e656cd4",
              "IPY_MODEL_2cf7dfc91be642139133d83333202d1a"
            ],
            "layout": "IPY_MODEL_5ee0480ed27a416c9cee0daa9b33534e"
          }
        },
        "4497a157dca6431793254e3f58a550d4": {
          "model_module": "@jupyter-widgets/controls",
          "model_name": "HTMLModel",
          "model_module_version": "1.5.0",
          "state": {
            "_dom_classes": [],
            "_model_module": "@jupyter-widgets/controls",
            "_model_module_version": "1.5.0",
            "_model_name": "HTMLModel",
            "_view_count": null,
            "_view_module": "@jupyter-widgets/controls",
            "_view_module_version": "1.5.0",
            "_view_name": "HTMLView",
            "description": "",
            "description_tooltip": null,
            "layout": "IPY_MODEL_38a3f73606c049d6a2de92757f31c16c",
            "placeholder": "​",
            "style": "IPY_MODEL_fc8eb8405e61493683735d816fbac7dc",
            "value": "Downloading (…)solve/main/vocab.txt: "
          }
        },
        "8bf8c050ceaf46f4b3c4d2282e656cd4": {
          "model_module": "@jupyter-widgets/controls",
          "model_name": "FloatProgressModel",
          "model_module_version": "1.5.0",
          "state": {
            "_dom_classes": [],
            "_model_module": "@jupyter-widgets/controls",
            "_model_module_version": "1.5.0",
            "_model_name": "FloatProgressModel",
            "_view_count": null,
            "_view_module": "@jupyter-widgets/controls",
            "_view_module_version": "1.5.0",
            "_view_name": "ProgressView",
            "bar_style": "success",
            "description": "",
            "description_tooltip": null,
            "layout": "IPY_MODEL_02de298151fe4136b0fbdb64f16cc29b",
            "max": 1,
            "min": 0,
            "orientation": "horizontal",
            "style": "IPY_MODEL_543b0ae0002c42e2a839ade9e59a657c",
            "value": 1
          }
        },
        "2cf7dfc91be642139133d83333202d1a": {
          "model_module": "@jupyter-widgets/controls",
          "model_name": "HTMLModel",
          "model_module_version": "1.5.0",
          "state": {
            "_dom_classes": [],
            "_model_module": "@jupyter-widgets/controls",
            "_model_module_version": "1.5.0",
            "_model_name": "HTMLModel",
            "_view_count": null,
            "_view_module": "@jupyter-widgets/controls",
            "_view_module_version": "1.5.0",
            "_view_name": "HTMLView",
            "description": "",
            "description_tooltip": null,
            "layout": "IPY_MODEL_237b7663f5dc418280ac45502912e477",
            "placeholder": "​",
            "style": "IPY_MODEL_7d6a5db9d4c3435b8c609bcfcf8e6424",
            "value": " 996k/? [00:00&lt;00:00, 10.0MB/s]"
          }
        },
        "5ee0480ed27a416c9cee0daa9b33534e": {
          "model_module": "@jupyter-widgets/base",
          "model_name": "LayoutModel",
          "model_module_version": "1.2.0",
          "state": {
            "_model_module": "@jupyter-widgets/base",
            "_model_module_version": "1.2.0",
            "_model_name": "LayoutModel",
            "_view_count": null,
            "_view_module": "@jupyter-widgets/base",
            "_view_module_version": "1.2.0",
            "_view_name": "LayoutView",
            "align_content": null,
            "align_items": null,
            "align_self": null,
            "border": null,
            "bottom": null,
            "display": null,
            "flex": null,
            "flex_flow": null,
            "grid_area": null,
            "grid_auto_columns": null,
            "grid_auto_flow": null,
            "grid_auto_rows": null,
            "grid_column": null,
            "grid_gap": null,
            "grid_row": null,
            "grid_template_areas": null,
            "grid_template_columns": null,
            "grid_template_rows": null,
            "height": null,
            "justify_content": null,
            "justify_items": null,
            "left": null,
            "margin": null,
            "max_height": null,
            "max_width": null,
            "min_height": null,
            "min_width": null,
            "object_fit": null,
            "object_position": null,
            "order": null,
            "overflow": null,
            "overflow_x": null,
            "overflow_y": null,
            "padding": null,
            "right": null,
            "top": null,
            "visibility": null,
            "width": null
          }
        },
        "38a3f73606c049d6a2de92757f31c16c": {
          "model_module": "@jupyter-widgets/base",
          "model_name": "LayoutModel",
          "model_module_version": "1.2.0",
          "state": {
            "_model_module": "@jupyter-widgets/base",
            "_model_module_version": "1.2.0",
            "_model_name": "LayoutModel",
            "_view_count": null,
            "_view_module": "@jupyter-widgets/base",
            "_view_module_version": "1.2.0",
            "_view_name": "LayoutView",
            "align_content": null,
            "align_items": null,
            "align_self": null,
            "border": null,
            "bottom": null,
            "display": null,
            "flex": null,
            "flex_flow": null,
            "grid_area": null,
            "grid_auto_columns": null,
            "grid_auto_flow": null,
            "grid_auto_rows": null,
            "grid_column": null,
            "grid_gap": null,
            "grid_row": null,
            "grid_template_areas": null,
            "grid_template_columns": null,
            "grid_template_rows": null,
            "height": null,
            "justify_content": null,
            "justify_items": null,
            "left": null,
            "margin": null,
            "max_height": null,
            "max_width": null,
            "min_height": null,
            "min_width": null,
            "object_fit": null,
            "object_position": null,
            "order": null,
            "overflow": null,
            "overflow_x": null,
            "overflow_y": null,
            "padding": null,
            "right": null,
            "top": null,
            "visibility": null,
            "width": null
          }
        },
        "fc8eb8405e61493683735d816fbac7dc": {
          "model_module": "@jupyter-widgets/controls",
          "model_name": "DescriptionStyleModel",
          "model_module_version": "1.5.0",
          "state": {
            "_model_module": "@jupyter-widgets/controls",
            "_model_module_version": "1.5.0",
            "_model_name": "DescriptionStyleModel",
            "_view_count": null,
            "_view_module": "@jupyter-widgets/base",
            "_view_module_version": "1.2.0",
            "_view_name": "StyleView",
            "description_width": ""
          }
        },
        "02de298151fe4136b0fbdb64f16cc29b": {
          "model_module": "@jupyter-widgets/base",
          "model_name": "LayoutModel",
          "model_module_version": "1.2.0",
          "state": {
            "_model_module": "@jupyter-widgets/base",
            "_model_module_version": "1.2.0",
            "_model_name": "LayoutModel",
            "_view_count": null,
            "_view_module": "@jupyter-widgets/base",
            "_view_module_version": "1.2.0",
            "_view_name": "LayoutView",
            "align_content": null,
            "align_items": null,
            "align_self": null,
            "border": null,
            "bottom": null,
            "display": null,
            "flex": null,
            "flex_flow": null,
            "grid_area": null,
            "grid_auto_columns": null,
            "grid_auto_flow": null,
            "grid_auto_rows": null,
            "grid_column": null,
            "grid_gap": null,
            "grid_row": null,
            "grid_template_areas": null,
            "grid_template_columns": null,
            "grid_template_rows": null,
            "height": null,
            "justify_content": null,
            "justify_items": null,
            "left": null,
            "margin": null,
            "max_height": null,
            "max_width": null,
            "min_height": null,
            "min_width": null,
            "object_fit": null,
            "object_position": null,
            "order": null,
            "overflow": null,
            "overflow_x": null,
            "overflow_y": null,
            "padding": null,
            "right": null,
            "top": null,
            "visibility": null,
            "width": "20px"
          }
        },
        "543b0ae0002c42e2a839ade9e59a657c": {
          "model_module": "@jupyter-widgets/controls",
          "model_name": "ProgressStyleModel",
          "model_module_version": "1.5.0",
          "state": {
            "_model_module": "@jupyter-widgets/controls",
            "_model_module_version": "1.5.0",
            "_model_name": "ProgressStyleModel",
            "_view_count": null,
            "_view_module": "@jupyter-widgets/base",
            "_view_module_version": "1.2.0",
            "_view_name": "StyleView",
            "bar_color": null,
            "description_width": ""
          }
        },
        "237b7663f5dc418280ac45502912e477": {
          "model_module": "@jupyter-widgets/base",
          "model_name": "LayoutModel",
          "model_module_version": "1.2.0",
          "state": {
            "_model_module": "@jupyter-widgets/base",
            "_model_module_version": "1.2.0",
            "_model_name": "LayoutModel",
            "_view_count": null,
            "_view_module": "@jupyter-widgets/base",
            "_view_module_version": "1.2.0",
            "_view_name": "LayoutView",
            "align_content": null,
            "align_items": null,
            "align_self": null,
            "border": null,
            "bottom": null,
            "display": null,
            "flex": null,
            "flex_flow": null,
            "grid_area": null,
            "grid_auto_columns": null,
            "grid_auto_flow": null,
            "grid_auto_rows": null,
            "grid_column": null,
            "grid_gap": null,
            "grid_row": null,
            "grid_template_areas": null,
            "grid_template_columns": null,
            "grid_template_rows": null,
            "height": null,
            "justify_content": null,
            "justify_items": null,
            "left": null,
            "margin": null,
            "max_height": null,
            "max_width": null,
            "min_height": null,
            "min_width": null,
            "object_fit": null,
            "object_position": null,
            "order": null,
            "overflow": null,
            "overflow_x": null,
            "overflow_y": null,
            "padding": null,
            "right": null,
            "top": null,
            "visibility": null,
            "width": null
          }
        },
        "7d6a5db9d4c3435b8c609bcfcf8e6424": {
          "model_module": "@jupyter-widgets/controls",
          "model_name": "DescriptionStyleModel",
          "model_module_version": "1.5.0",
          "state": {
            "_model_module": "@jupyter-widgets/controls",
            "_model_module_version": "1.5.0",
            "_model_name": "DescriptionStyleModel",
            "_view_count": null,
            "_view_module": "@jupyter-widgets/base",
            "_view_module_version": "1.2.0",
            "_view_name": "StyleView",
            "description_width": ""
          }
        },
        "68dbc8517b8045c3877ba73dfed8598e": {
          "model_module": "@jupyter-widgets/controls",
          "model_name": "HBoxModel",
          "model_module_version": "1.5.0",
          "state": {
            "_dom_classes": [],
            "_model_module": "@jupyter-widgets/controls",
            "_model_module_version": "1.5.0",
            "_model_name": "HBoxModel",
            "_view_count": null,
            "_view_module": "@jupyter-widgets/controls",
            "_view_module_version": "1.5.0",
            "_view_name": "HBoxView",
            "box_style": "",
            "children": [
              "IPY_MODEL_c94fd56a4ce942aeaeaa62fe9d099b10",
              "IPY_MODEL_3a55269da8164b0ca6b45ccea45471b5",
              "IPY_MODEL_fa30711dbadd4d72b967569e1719d020"
            ],
            "layout": "IPY_MODEL_3d8234c61d204cca819b1d1f0466b8cd"
          }
        },
        "c94fd56a4ce942aeaeaa62fe9d099b10": {
          "model_module": "@jupyter-widgets/controls",
          "model_name": "HTMLModel",
          "model_module_version": "1.5.0",
          "state": {
            "_dom_classes": [],
            "_model_module": "@jupyter-widgets/controls",
            "_model_module_version": "1.5.0",
            "_model_name": "HTMLModel",
            "_view_count": null,
            "_view_module": "@jupyter-widgets/controls",
            "_view_module_version": "1.5.0",
            "_view_name": "HTMLView",
            "description": "",
            "description_tooltip": null,
            "layout": "IPY_MODEL_8ab9c3e2dd7d4142bb053b39d296070a",
            "placeholder": "​",
            "style": "IPY_MODEL_2d098b1752164e02b0a45c720b1e15a2",
            "value": "Downloading (…)okenizer_config.json: 100%"
          }
        },
        "3a55269da8164b0ca6b45ccea45471b5": {
          "model_module": "@jupyter-widgets/controls",
          "model_name": "FloatProgressModel",
          "model_module_version": "1.5.0",
          "state": {
            "_dom_classes": [],
            "_model_module": "@jupyter-widgets/controls",
            "_model_module_version": "1.5.0",
            "_model_name": "FloatProgressModel",
            "_view_count": null,
            "_view_module": "@jupyter-widgets/controls",
            "_view_module_version": "1.5.0",
            "_view_name": "ProgressView",
            "bar_style": "success",
            "description": "",
            "description_tooltip": null,
            "layout": "IPY_MODEL_99df2e00be954d2ab53b2b52d3a4ec9a",
            "max": 29,
            "min": 0,
            "orientation": "horizontal",
            "style": "IPY_MODEL_49f1173595d4495d940c929ab6bca86f",
            "value": 29
          }
        },
        "fa30711dbadd4d72b967569e1719d020": {
          "model_module": "@jupyter-widgets/controls",
          "model_name": "HTMLModel",
          "model_module_version": "1.5.0",
          "state": {
            "_dom_classes": [],
            "_model_module": "@jupyter-widgets/controls",
            "_model_module_version": "1.5.0",
            "_model_name": "HTMLModel",
            "_view_count": null,
            "_view_module": "@jupyter-widgets/controls",
            "_view_module_version": "1.5.0",
            "_view_name": "HTMLView",
            "description": "",
            "description_tooltip": null,
            "layout": "IPY_MODEL_37152fa5a1de48799c735c25de513a8b",
            "placeholder": "​",
            "style": "IPY_MODEL_6fda848aa63e46e29f26b469cbc7a544",
            "value": " 29.0/29.0 [00:00&lt;00:00, 418B/s]"
          }
        },
        "3d8234c61d204cca819b1d1f0466b8cd": {
          "model_module": "@jupyter-widgets/base",
          "model_name": "LayoutModel",
          "model_module_version": "1.2.0",
          "state": {
            "_model_module": "@jupyter-widgets/base",
            "_model_module_version": "1.2.0",
            "_model_name": "LayoutModel",
            "_view_count": null,
            "_view_module": "@jupyter-widgets/base",
            "_view_module_version": "1.2.0",
            "_view_name": "LayoutView",
            "align_content": null,
            "align_items": null,
            "align_self": null,
            "border": null,
            "bottom": null,
            "display": null,
            "flex": null,
            "flex_flow": null,
            "grid_area": null,
            "grid_auto_columns": null,
            "grid_auto_flow": null,
            "grid_auto_rows": null,
            "grid_column": null,
            "grid_gap": null,
            "grid_row": null,
            "grid_template_areas": null,
            "grid_template_columns": null,
            "grid_template_rows": null,
            "height": null,
            "justify_content": null,
            "justify_items": null,
            "left": null,
            "margin": null,
            "max_height": null,
            "max_width": null,
            "min_height": null,
            "min_width": null,
            "object_fit": null,
            "object_position": null,
            "order": null,
            "overflow": null,
            "overflow_x": null,
            "overflow_y": null,
            "padding": null,
            "right": null,
            "top": null,
            "visibility": null,
            "width": null
          }
        },
        "8ab9c3e2dd7d4142bb053b39d296070a": {
          "model_module": "@jupyter-widgets/base",
          "model_name": "LayoutModel",
          "model_module_version": "1.2.0",
          "state": {
            "_model_module": "@jupyter-widgets/base",
            "_model_module_version": "1.2.0",
            "_model_name": "LayoutModel",
            "_view_count": null,
            "_view_module": "@jupyter-widgets/base",
            "_view_module_version": "1.2.0",
            "_view_name": "LayoutView",
            "align_content": null,
            "align_items": null,
            "align_self": null,
            "border": null,
            "bottom": null,
            "display": null,
            "flex": null,
            "flex_flow": null,
            "grid_area": null,
            "grid_auto_columns": null,
            "grid_auto_flow": null,
            "grid_auto_rows": null,
            "grid_column": null,
            "grid_gap": null,
            "grid_row": null,
            "grid_template_areas": null,
            "grid_template_columns": null,
            "grid_template_rows": null,
            "height": null,
            "justify_content": null,
            "justify_items": null,
            "left": null,
            "margin": null,
            "max_height": null,
            "max_width": null,
            "min_height": null,
            "min_width": null,
            "object_fit": null,
            "object_position": null,
            "order": null,
            "overflow": null,
            "overflow_x": null,
            "overflow_y": null,
            "padding": null,
            "right": null,
            "top": null,
            "visibility": null,
            "width": null
          }
        },
        "2d098b1752164e02b0a45c720b1e15a2": {
          "model_module": "@jupyter-widgets/controls",
          "model_name": "DescriptionStyleModel",
          "model_module_version": "1.5.0",
          "state": {
            "_model_module": "@jupyter-widgets/controls",
            "_model_module_version": "1.5.0",
            "_model_name": "DescriptionStyleModel",
            "_view_count": null,
            "_view_module": "@jupyter-widgets/base",
            "_view_module_version": "1.2.0",
            "_view_name": "StyleView",
            "description_width": ""
          }
        },
        "99df2e00be954d2ab53b2b52d3a4ec9a": {
          "model_module": "@jupyter-widgets/base",
          "model_name": "LayoutModel",
          "model_module_version": "1.2.0",
          "state": {
            "_model_module": "@jupyter-widgets/base",
            "_model_module_version": "1.2.0",
            "_model_name": "LayoutModel",
            "_view_count": null,
            "_view_module": "@jupyter-widgets/base",
            "_view_module_version": "1.2.0",
            "_view_name": "LayoutView",
            "align_content": null,
            "align_items": null,
            "align_self": null,
            "border": null,
            "bottom": null,
            "display": null,
            "flex": null,
            "flex_flow": null,
            "grid_area": null,
            "grid_auto_columns": null,
            "grid_auto_flow": null,
            "grid_auto_rows": null,
            "grid_column": null,
            "grid_gap": null,
            "grid_row": null,
            "grid_template_areas": null,
            "grid_template_columns": null,
            "grid_template_rows": null,
            "height": null,
            "justify_content": null,
            "justify_items": null,
            "left": null,
            "margin": null,
            "max_height": null,
            "max_width": null,
            "min_height": null,
            "min_width": null,
            "object_fit": null,
            "object_position": null,
            "order": null,
            "overflow": null,
            "overflow_x": null,
            "overflow_y": null,
            "padding": null,
            "right": null,
            "top": null,
            "visibility": null,
            "width": null
          }
        },
        "49f1173595d4495d940c929ab6bca86f": {
          "model_module": "@jupyter-widgets/controls",
          "model_name": "ProgressStyleModel",
          "model_module_version": "1.5.0",
          "state": {
            "_model_module": "@jupyter-widgets/controls",
            "_model_module_version": "1.5.0",
            "_model_name": "ProgressStyleModel",
            "_view_count": null,
            "_view_module": "@jupyter-widgets/base",
            "_view_module_version": "1.2.0",
            "_view_name": "StyleView",
            "bar_color": null,
            "description_width": ""
          }
        },
        "37152fa5a1de48799c735c25de513a8b": {
          "model_module": "@jupyter-widgets/base",
          "model_name": "LayoutModel",
          "model_module_version": "1.2.0",
          "state": {
            "_model_module": "@jupyter-widgets/base",
            "_model_module_version": "1.2.0",
            "_model_name": "LayoutModel",
            "_view_count": null,
            "_view_module": "@jupyter-widgets/base",
            "_view_module_version": "1.2.0",
            "_view_name": "LayoutView",
            "align_content": null,
            "align_items": null,
            "align_self": null,
            "border": null,
            "bottom": null,
            "display": null,
            "flex": null,
            "flex_flow": null,
            "grid_area": null,
            "grid_auto_columns": null,
            "grid_auto_flow": null,
            "grid_auto_rows": null,
            "grid_column": null,
            "grid_gap": null,
            "grid_row": null,
            "grid_template_areas": null,
            "grid_template_columns": null,
            "grid_template_rows": null,
            "height": null,
            "justify_content": null,
            "justify_items": null,
            "left": null,
            "margin": null,
            "max_height": null,
            "max_width": null,
            "min_height": null,
            "min_width": null,
            "object_fit": null,
            "object_position": null,
            "order": null,
            "overflow": null,
            "overflow_x": null,
            "overflow_y": null,
            "padding": null,
            "right": null,
            "top": null,
            "visibility": null,
            "width": null
          }
        },
        "6fda848aa63e46e29f26b469cbc7a544": {
          "model_module": "@jupyter-widgets/controls",
          "model_name": "DescriptionStyleModel",
          "model_module_version": "1.5.0",
          "state": {
            "_model_module": "@jupyter-widgets/controls",
            "_model_module_version": "1.5.0",
            "_model_name": "DescriptionStyleModel",
            "_view_count": null,
            "_view_module": "@jupyter-widgets/base",
            "_view_module_version": "1.2.0",
            "_view_name": "StyleView",
            "description_width": ""
          }
        },
        "401ea460ab5547a19e7d055cf2d1ca70": {
          "model_module": "@jupyter-widgets/controls",
          "model_name": "HBoxModel",
          "model_module_version": "1.5.0",
          "state": {
            "_dom_classes": [],
            "_model_module": "@jupyter-widgets/controls",
            "_model_module_version": "1.5.0",
            "_model_name": "HBoxModel",
            "_view_count": null,
            "_view_module": "@jupyter-widgets/controls",
            "_view_module_version": "1.5.0",
            "_view_name": "HBoxView",
            "box_style": "",
            "children": [
              "IPY_MODEL_9b5a2255e78045b8a3cbeb136be2fd37",
              "IPY_MODEL_e55f3fccc65244c5bba5efea01ae802b",
              "IPY_MODEL_e8049a4c998647c299dca27b00758d41"
            ],
            "layout": "IPY_MODEL_5648e7eb52da456fb25860bfaab1a3ff"
          }
        },
        "9b5a2255e78045b8a3cbeb136be2fd37": {
          "model_module": "@jupyter-widgets/controls",
          "model_name": "HTMLModel",
          "model_module_version": "1.5.0",
          "state": {
            "_dom_classes": [],
            "_model_module": "@jupyter-widgets/controls",
            "_model_module_version": "1.5.0",
            "_model_name": "HTMLModel",
            "_view_count": null,
            "_view_module": "@jupyter-widgets/controls",
            "_view_module_version": "1.5.0",
            "_view_name": "HTMLView",
            "description": "",
            "description_tooltip": null,
            "layout": "IPY_MODEL_d050cd1685bc41729f28e04477c4f8a5",
            "placeholder": "​",
            "style": "IPY_MODEL_91272755b749489ea5847c428cc92651",
            "value": "Downloading (…)lve/main/config.json: 100%"
          }
        },
        "e55f3fccc65244c5bba5efea01ae802b": {
          "model_module": "@jupyter-widgets/controls",
          "model_name": "FloatProgressModel",
          "model_module_version": "1.5.0",
          "state": {
            "_dom_classes": [],
            "_model_module": "@jupyter-widgets/controls",
            "_model_module_version": "1.5.0",
            "_model_name": "FloatProgressModel",
            "_view_count": null,
            "_view_module": "@jupyter-widgets/controls",
            "_view_module_version": "1.5.0",
            "_view_name": "ProgressView",
            "bar_style": "success",
            "description": "",
            "description_tooltip": null,
            "layout": "IPY_MODEL_5ce25ec06f904226a2e20657ca9046c2",
            "max": 625,
            "min": 0,
            "orientation": "horizontal",
            "style": "IPY_MODEL_7487ea0908bd4969a89aa55923afaad8",
            "value": 625
          }
        },
        "e8049a4c998647c299dca27b00758d41": {
          "model_module": "@jupyter-widgets/controls",
          "model_name": "HTMLModel",
          "model_module_version": "1.5.0",
          "state": {
            "_dom_classes": [],
            "_model_module": "@jupyter-widgets/controls",
            "_model_module_version": "1.5.0",
            "_model_name": "HTMLModel",
            "_view_count": null,
            "_view_module": "@jupyter-widgets/controls",
            "_view_module_version": "1.5.0",
            "_view_name": "HTMLView",
            "description": "",
            "description_tooltip": null,
            "layout": "IPY_MODEL_fdf9c8d29aa342a380dfe995c79969b7",
            "placeholder": "​",
            "style": "IPY_MODEL_f6707eb15c4448209ef669b906cb82c0",
            "value": " 625/625 [00:00&lt;00:00, 11.5kB/s]"
          }
        },
        "5648e7eb52da456fb25860bfaab1a3ff": {
          "model_module": "@jupyter-widgets/base",
          "model_name": "LayoutModel",
          "model_module_version": "1.2.0",
          "state": {
            "_model_module": "@jupyter-widgets/base",
            "_model_module_version": "1.2.0",
            "_model_name": "LayoutModel",
            "_view_count": null,
            "_view_module": "@jupyter-widgets/base",
            "_view_module_version": "1.2.0",
            "_view_name": "LayoutView",
            "align_content": null,
            "align_items": null,
            "align_self": null,
            "border": null,
            "bottom": null,
            "display": null,
            "flex": null,
            "flex_flow": null,
            "grid_area": null,
            "grid_auto_columns": null,
            "grid_auto_flow": null,
            "grid_auto_rows": null,
            "grid_column": null,
            "grid_gap": null,
            "grid_row": null,
            "grid_template_areas": null,
            "grid_template_columns": null,
            "grid_template_rows": null,
            "height": null,
            "justify_content": null,
            "justify_items": null,
            "left": null,
            "margin": null,
            "max_height": null,
            "max_width": null,
            "min_height": null,
            "min_width": null,
            "object_fit": null,
            "object_position": null,
            "order": null,
            "overflow": null,
            "overflow_x": null,
            "overflow_y": null,
            "padding": null,
            "right": null,
            "top": null,
            "visibility": null,
            "width": null
          }
        },
        "d050cd1685bc41729f28e04477c4f8a5": {
          "model_module": "@jupyter-widgets/base",
          "model_name": "LayoutModel",
          "model_module_version": "1.2.0",
          "state": {
            "_model_module": "@jupyter-widgets/base",
            "_model_module_version": "1.2.0",
            "_model_name": "LayoutModel",
            "_view_count": null,
            "_view_module": "@jupyter-widgets/base",
            "_view_module_version": "1.2.0",
            "_view_name": "LayoutView",
            "align_content": null,
            "align_items": null,
            "align_self": null,
            "border": null,
            "bottom": null,
            "display": null,
            "flex": null,
            "flex_flow": null,
            "grid_area": null,
            "grid_auto_columns": null,
            "grid_auto_flow": null,
            "grid_auto_rows": null,
            "grid_column": null,
            "grid_gap": null,
            "grid_row": null,
            "grid_template_areas": null,
            "grid_template_columns": null,
            "grid_template_rows": null,
            "height": null,
            "justify_content": null,
            "justify_items": null,
            "left": null,
            "margin": null,
            "max_height": null,
            "max_width": null,
            "min_height": null,
            "min_width": null,
            "object_fit": null,
            "object_position": null,
            "order": null,
            "overflow": null,
            "overflow_x": null,
            "overflow_y": null,
            "padding": null,
            "right": null,
            "top": null,
            "visibility": null,
            "width": null
          }
        },
        "91272755b749489ea5847c428cc92651": {
          "model_module": "@jupyter-widgets/controls",
          "model_name": "DescriptionStyleModel",
          "model_module_version": "1.5.0",
          "state": {
            "_model_module": "@jupyter-widgets/controls",
            "_model_module_version": "1.5.0",
            "_model_name": "DescriptionStyleModel",
            "_view_count": null,
            "_view_module": "@jupyter-widgets/base",
            "_view_module_version": "1.2.0",
            "_view_name": "StyleView",
            "description_width": ""
          }
        },
        "5ce25ec06f904226a2e20657ca9046c2": {
          "model_module": "@jupyter-widgets/base",
          "model_name": "LayoutModel",
          "model_module_version": "1.2.0",
          "state": {
            "_model_module": "@jupyter-widgets/base",
            "_model_module_version": "1.2.0",
            "_model_name": "LayoutModel",
            "_view_count": null,
            "_view_module": "@jupyter-widgets/base",
            "_view_module_version": "1.2.0",
            "_view_name": "LayoutView",
            "align_content": null,
            "align_items": null,
            "align_self": null,
            "border": null,
            "bottom": null,
            "display": null,
            "flex": null,
            "flex_flow": null,
            "grid_area": null,
            "grid_auto_columns": null,
            "grid_auto_flow": null,
            "grid_auto_rows": null,
            "grid_column": null,
            "grid_gap": null,
            "grid_row": null,
            "grid_template_areas": null,
            "grid_template_columns": null,
            "grid_template_rows": null,
            "height": null,
            "justify_content": null,
            "justify_items": null,
            "left": null,
            "margin": null,
            "max_height": null,
            "max_width": null,
            "min_height": null,
            "min_width": null,
            "object_fit": null,
            "object_position": null,
            "order": null,
            "overflow": null,
            "overflow_x": null,
            "overflow_y": null,
            "padding": null,
            "right": null,
            "top": null,
            "visibility": null,
            "width": null
          }
        },
        "7487ea0908bd4969a89aa55923afaad8": {
          "model_module": "@jupyter-widgets/controls",
          "model_name": "ProgressStyleModel",
          "model_module_version": "1.5.0",
          "state": {
            "_model_module": "@jupyter-widgets/controls",
            "_model_module_version": "1.5.0",
            "_model_name": "ProgressStyleModel",
            "_view_count": null,
            "_view_module": "@jupyter-widgets/base",
            "_view_module_version": "1.2.0",
            "_view_name": "StyleView",
            "bar_color": null,
            "description_width": ""
          }
        },
        "fdf9c8d29aa342a380dfe995c79969b7": {
          "model_module": "@jupyter-widgets/base",
          "model_name": "LayoutModel",
          "model_module_version": "1.2.0",
          "state": {
            "_model_module": "@jupyter-widgets/base",
            "_model_module_version": "1.2.0",
            "_model_name": "LayoutModel",
            "_view_count": null,
            "_view_module": "@jupyter-widgets/base",
            "_view_module_version": "1.2.0",
            "_view_name": "LayoutView",
            "align_content": null,
            "align_items": null,
            "align_self": null,
            "border": null,
            "bottom": null,
            "display": null,
            "flex": null,
            "flex_flow": null,
            "grid_area": null,
            "grid_auto_columns": null,
            "grid_auto_flow": null,
            "grid_auto_rows": null,
            "grid_column": null,
            "grid_gap": null,
            "grid_row": null,
            "grid_template_areas": null,
            "grid_template_columns": null,
            "grid_template_rows": null,
            "height": null,
            "justify_content": null,
            "justify_items": null,
            "left": null,
            "margin": null,
            "max_height": null,
            "max_width": null,
            "min_height": null,
            "min_width": null,
            "object_fit": null,
            "object_position": null,
            "order": null,
            "overflow": null,
            "overflow_x": null,
            "overflow_y": null,
            "padding": null,
            "right": null,
            "top": null,
            "visibility": null,
            "width": null
          }
        },
        "f6707eb15c4448209ef669b906cb82c0": {
          "model_module": "@jupyter-widgets/controls",
          "model_name": "DescriptionStyleModel",
          "model_module_version": "1.5.0",
          "state": {
            "_model_module": "@jupyter-widgets/controls",
            "_model_module_version": "1.5.0",
            "_model_name": "DescriptionStyleModel",
            "_view_count": null,
            "_view_module": "@jupyter-widgets/base",
            "_view_module_version": "1.2.0",
            "_view_name": "StyleView",
            "description_width": ""
          }
        }
      }
    },
    "accelerator": "GPU"
  },
  "cells": [
    {
      "cell_type": "markdown",
      "metadata": {
        "id": "view-in-github",
        "colab_type": "text"
      },
      "source": [
        "<a href=\"https://colab.research.google.com/github/DonghaeSuh/NLP_Pytorch/blob/main/Model/BERT/BERT_NLI.ipynb\" target=\"_parent\"><img src=\"https://colab.research.google.com/assets/colab-badge.svg\" alt=\"Open In Colab\"/></a>"
      ]
    },
    {
      "cell_type": "markdown",
      "source": [
        "## Git Clone"
      ],
      "metadata": {
        "id": "w03HpcHthotN"
      }
    },
    {
      "cell_type": "code",
      "execution_count": null,
      "metadata": {
        "colab": {
          "base_uri": "https://localhost:8080/"
        },
        "id": "RYOvMsXqcYFi",
        "outputId": "b47a3eb7-ef5d-446f-ec0a-56b1cf883050"
      },
      "outputs": [
        {
          "output_type": "stream",
          "name": "stdout",
          "text": [
            "\u001b[0m\u001b[01;34mdrive\u001b[0m/  \u001b[01;34msample_data\u001b[0m/\n"
          ]
        }
      ],
      "source": [
        "ls"
      ]
    },
    {
      "cell_type": "code",
      "source": [
        "cd drive/MyDrive/Pytorch\\ NLP/BERT/data_in"
      ],
      "metadata": {
        "colab": {
          "base_uri": "https://localhost:8080/"
        },
        "id": "bYPQ6nGhgkyg",
        "outputId": "44485ca9-08b2-4591-b25f-bb54ee40cdcf"
      },
      "execution_count": null,
      "outputs": [
        {
          "output_type": "stream",
          "name": "stdout",
          "text": [
            "/content/drive/MyDrive/Pytorch NLP/BERT/data_in\n"
          ]
        }
      ]
    },
    {
      "cell_type": "code",
      "source": [
        "ls"
      ],
      "metadata": {
        "colab": {
          "base_uri": "https://localhost:8080/"
        },
        "id": "O81h3EvNhHZM",
        "outputId": "f359de5e-0827-4ac0-f88d-630f9b5a40f9"
      },
      "execution_count": null,
      "outputs": [
        {
          "output_type": "stream",
          "name": "stdout",
          "text": [
            "\u001b[0m\u001b[01;34mKorNLUDatasets\u001b[0m/  \u001b[01;34mnsmc\u001b[0m/\n"
          ]
        }
      ]
    },
    {
      "cell_type": "code",
      "source": [
        "!git clone 'https://github.com/kakaobrain/KorNLUDatasets.git'"
      ],
      "metadata": {
        "colab": {
          "base_uri": "https://localhost:8080/"
        },
        "id": "Y_8m3r_FhKIJ",
        "outputId": "98aaa027-eaf0-41cb-8e86-86e84731a365"
      },
      "execution_count": null,
      "outputs": [
        {
          "output_type": "stream",
          "name": "stdout",
          "text": [
            "Cloning into 'KorNLUDatasets'...\n",
            "remote: Enumerating objects: 16, done.\u001b[K\n",
            "remote: Counting objects: 100% (2/2), done.\u001b[K\n",
            "remote: Total 16 (delta 1), reused 1 (delta 1), pack-reused 14\u001b[K\n",
            "Unpacking objects: 100% (16/16), 46.67 MiB | 5.05 MiB/s, done.\n",
            "Updating files: 100% (9/9), done.\n"
          ]
        }
      ]
    },
    {
      "cell_type": "code",
      "source": [
        "ls"
      ],
      "metadata": {
        "colab": {
          "base_uri": "https://localhost:8080/"
        },
        "id": "pIsLEPyRh08I",
        "outputId": "bdf4bbac-9bfb-477c-9b56-a572f014d2ce"
      },
      "execution_count": null,
      "outputs": [
        {
          "output_type": "stream",
          "name": "stdout",
          "text": [
            "\u001b[0m\u001b[01;34mKorNLUDatasets\u001b[0m/  \u001b[01;34mnsmc\u001b[0m/\n"
          ]
        }
      ]
    },
    {
      "cell_type": "markdown",
      "source": [
        "## Huggingface Transformers 라이브러리"
      ],
      "metadata": {
        "id": "2KomLVVchn7G"
      }
    },
    {
      "cell_type": "code",
      "source": [
        "cd .."
      ],
      "metadata": {
        "colab": {
          "base_uri": "https://localhost:8080/"
        },
        "id": "AjxvlRiZhMDK",
        "outputId": "1244e88f-7bb5-4336-ede9-97a72784a0a5"
      },
      "execution_count": null,
      "outputs": [
        {
          "output_type": "stream",
          "name": "stdout",
          "text": [
            "/content/drive/MyDrive/Pytorch NLP/BERT\n"
          ]
        }
      ]
    },
    {
      "cell_type": "code",
      "source": [
        "ls"
      ],
      "metadata": {
        "colab": {
          "base_uri": "https://localhost:8080/"
        },
        "id": "WosLpbPTh8JV",
        "outputId": "faaf5b1a-b897-4722-d550-a62adf4db44c"
      },
      "execution_count": null,
      "outputs": [
        {
          "output_type": "stream",
          "name": "stdout",
          "text": [
            "BERT_NLI.ipynb                  \u001b[0m\u001b[01;34mdata_in\u001b[0m/   \u001b[01;34mtransformers\u001b[0m/\n",
            "BERT_Text_Classification.ipynb  \u001b[01;34mdata_out\u001b[0m/\n"
          ]
        }
      ]
    },
    {
      "cell_type": "code",
      "source": [
        "pip install transformers"
      ],
      "metadata": {
        "colab": {
          "base_uri": "https://localhost:8080/"
        },
        "id": "SHIyJZQrh9EF",
        "outputId": "2b464cdc-9f6f-4b2d-f151-006d39295e5f"
      },
      "execution_count": null,
      "outputs": [
        {
          "output_type": "stream",
          "name": "stdout",
          "text": [
            "Looking in indexes: https://pypi.org/simple, https://us-python.pkg.dev/colab-wheels/public/simple/\n",
            "Collecting transformers\n",
            "  Downloading transformers-4.30.2-py3-none-any.whl (7.2 MB)\n",
            "\u001b[2K     \u001b[90m━━━━━━━━━━━━━━━━━━━━━━━━━━━━━━━━━━━━━━━━\u001b[0m \u001b[32m7.2/7.2 MB\u001b[0m \u001b[31m65.5 MB/s\u001b[0m eta \u001b[36m0:00:00\u001b[0m\n",
            "\u001b[?25hRequirement already satisfied: filelock in /usr/local/lib/python3.10/dist-packages (from transformers) (3.12.0)\n",
            "Collecting huggingface-hub<1.0,>=0.14.1 (from transformers)\n",
            "  Downloading huggingface_hub-0.15.1-py3-none-any.whl (236 kB)\n",
            "\u001b[2K     \u001b[90m━━━━━━━━━━━━━━━━━━━━━━━━━━━━━━━━━━━━━━\u001b[0m \u001b[32m236.8/236.8 kB\u001b[0m \u001b[31m23.3 MB/s\u001b[0m eta \u001b[36m0:00:00\u001b[0m\n",
            "\u001b[?25hRequirement already satisfied: numpy>=1.17 in /usr/local/lib/python3.10/dist-packages (from transformers) (1.22.4)\n",
            "Requirement already satisfied: packaging>=20.0 in /usr/local/lib/python3.10/dist-packages (from transformers) (23.1)\n",
            "Requirement already satisfied: pyyaml>=5.1 in /usr/local/lib/python3.10/dist-packages (from transformers) (6.0)\n",
            "Requirement already satisfied: regex!=2019.12.17 in /usr/local/lib/python3.10/dist-packages (from transformers) (2022.10.31)\n",
            "Requirement already satisfied: requests in /usr/local/lib/python3.10/dist-packages (from transformers) (2.27.1)\n",
            "Collecting tokenizers!=0.11.3,<0.14,>=0.11.1 (from transformers)\n",
            "  Downloading tokenizers-0.13.3-cp310-cp310-manylinux_2_17_x86_64.manylinux2014_x86_64.whl (7.8 MB)\n",
            "\u001b[2K     \u001b[90m━━━━━━━━━━━━━━━━━━━━━━━━━━━━━━━━━━━━━━━━\u001b[0m \u001b[32m7.8/7.8 MB\u001b[0m \u001b[31m97.6 MB/s\u001b[0m eta \u001b[36m0:00:00\u001b[0m\n",
            "\u001b[?25hCollecting safetensors>=0.3.1 (from transformers)\n",
            "  Downloading safetensors-0.3.1-cp310-cp310-manylinux_2_17_x86_64.manylinux2014_x86_64.whl (1.3 MB)\n",
            "\u001b[2K     \u001b[90m━━━━━━━━━━━━━━━━━━━━━━━━━━━━━━━━━━━━━━━━\u001b[0m \u001b[32m1.3/1.3 MB\u001b[0m \u001b[31m60.4 MB/s\u001b[0m eta \u001b[36m0:00:00\u001b[0m\n",
            "\u001b[?25hRequirement already satisfied: tqdm>=4.27 in /usr/local/lib/python3.10/dist-packages (from transformers) (4.65.0)\n",
            "Requirement already satisfied: fsspec in /usr/local/lib/python3.10/dist-packages (from huggingface-hub<1.0,>=0.14.1->transformers) (2023.4.0)\n",
            "Requirement already satisfied: typing-extensions>=3.7.4.3 in /usr/local/lib/python3.10/dist-packages (from huggingface-hub<1.0,>=0.14.1->transformers) (4.5.0)\n",
            "Requirement already satisfied: urllib3<1.27,>=1.21.1 in /usr/local/lib/python3.10/dist-packages (from requests->transformers) (1.26.15)\n",
            "Requirement already satisfied: certifi>=2017.4.17 in /usr/local/lib/python3.10/dist-packages (from requests->transformers) (2022.12.7)\n",
            "Requirement already satisfied: charset-normalizer~=2.0.0 in /usr/local/lib/python3.10/dist-packages (from requests->transformers) (2.0.12)\n",
            "Requirement already satisfied: idna<4,>=2.5 in /usr/local/lib/python3.10/dist-packages (from requests->transformers) (3.4)\n",
            "Installing collected packages: tokenizers, safetensors, huggingface-hub, transformers\n",
            "Successfully installed huggingface-hub-0.15.1 safetensors-0.3.1 tokenizers-0.13.3 transformers-4.30.2\n"
          ]
        }
      ]
    },
    {
      "cell_type": "markdown",
      "source": [
        "# 데이터 분석"
      ],
      "metadata": {
        "id": "jzBbq9dZid-O"
      }
    },
    {
      "cell_type": "code",
      "source": [
        "import numpy as np\n",
        "import pandas as pd\n",
        "from transformers import *"
      ],
      "metadata": {
        "colab": {
          "base_uri": "https://localhost:8080/"
        },
        "id": "tlSezwwyima_",
        "outputId": "fb1bb80a-b69b-4949-a2d6-0f87a586614b"
      },
      "execution_count": null,
      "outputs": [
        {
          "output_type": "stream",
          "name": "stderr",
          "text": [
            "WARNING:jax._src.xla_bridge:No GPU/TPU found, falling back to CPU. (Set TF_CPP_MIN_LOG_LEVEL=0 and rerun for more info.)\n",
            "/usr/local/lib/python3.10/dist-packages/transformers/generation_utils.py:24: FutureWarning: Importing `GenerationMixin` from `src/transformers/generation_utils.py` is deprecated and will be removed in Transformers v5. Import as `from transformers import GenerationMixin` instead.\n",
            "  warnings.warn(\n",
            "/usr/local/lib/python3.10/dist-packages/transformers/generation_tf_utils.py:24: FutureWarning: Importing `TFGenerationMixin` from `src/transformers/generation_tf_utils.py` is deprecated and will be removed in Transformers v5. Import as `from transformers import TFGenerationMixin` instead.\n",
            "  warnings.warn(\n",
            "/usr/local/lib/python3.10/dist-packages/transformers/generation_flax_utils.py:24: FutureWarning: Importing `FlaxGenerationMixin` from `src/transformers/generation_flax_utils.py` is deprecated and will be removed in Transformers v5. Import as `from transformers import FlaxGenerationMixin` instead.\n",
            "  warnings.warn(\n",
            "Xformers is not installed correctly. If you want to use memory_efficient_attention to accelerate training use the following command to install Xformers\n",
            "pip install xformers.\n"
          ]
        }
      ]
    },
    {
      "cell_type": "markdown",
      "source": [
        "## BertTokenizer 기반 문장 길이 분석"
      ],
      "metadata": {
        "id": "U3gquU49ig-f"
      }
    },
    {
      "cell_type": "markdown",
      "source": [
        "### 데이터 마련"
      ],
      "metadata": {
        "id": "0ZOaO7B5rxnV"
      }
    },
    {
      "cell_type": "code",
      "source": [
        "multinli_df= pd.read_csv('data_in/KorNLUDatasets/KorNLI/multinli.train.ko.tsv',sep='\\t',error_bad_lines=False)\n",
        "multinli_df.head()"
      ],
      "metadata": {
        "colab": {
          "base_uri": "https://localhost:8080/",
          "height": 588
        },
        "id": "KueJz6w9ku8T",
        "outputId": "aff602ec-4d61-4eb2-d1ad-d65593344d51"
      },
      "execution_count": null,
      "outputs": [
        {
          "output_type": "stream",
          "name": "stderr",
          "text": [
            "<ipython-input-9-5126d32c1d53>:1: FutureWarning: The error_bad_lines argument has been deprecated and will be removed in a future version. Use on_bad_lines in the future.\n",
            "\n",
            "\n",
            "  multinli_df= pd.read_csv('data_in/KorNLUDatasets/KorNLI/multinli.train.ko.tsv',sep='\\t',error_bad_lines=False)\n",
            "Skipping line 24426: expected 3 fields, saw 4\n",
            "Skipping line 156343: expected 3 fields, saw 4\n",
            "Skipping line 218766: expected 3 fields, saw 4\n",
            "Skipping line 232318: expected 3 fields, saw 4\n",
            "Skipping line 253493: expected 3 fields, saw 4\n",
            "\n",
            "Skipping line 265734: expected 3 fields, saw 4\n",
            "Skipping line 282588: expected 3 fields, saw 4\n",
            "Skipping line 350969: expected 3 fields, saw 4\n",
            "\n"
          ]
        },
        {
          "output_type": "execute_result",
          "data": {
            "text/plain": [
              "                                           sentence1  \\\n",
              "0         개념적으로 크림 스키밍은 제품과 지리라는 두 가지 기본 차원을 가지고 있다.   \n",
              "1  시즌 중에 알고 있는 거 알아? 네 레벨에서 다음 레벨로 잃어버리는 거야 브레이브스...   \n",
              "2                  우리 번호 중 하나가 당신의 지시를 세밀하게 수행할 것이다.   \n",
              "3                       어떻게 아세요? 이 모든 것이 다시 그들의 정보다.   \n",
              "4  그래, 만약 네가 테니스화 몇 개를 사러 간다면, 나는 왜 그들이 100달러대에서 ...   \n",
              "\n",
              "                              sentence2  gold_label  \n",
              "0           제품과 지리학은 크림 스키밍을 작동시키는 것이다.     neutral  \n",
              "1            사람들이 기억하면 다음 수준으로 물건을 잃는다.  entailment  \n",
              "2  우리 팀의 일원이 당신의 명령을 엄청나게 정확하게 실행할 것이다.  entailment  \n",
              "3                        이 정보는 그들의 것이다.  entailment  \n",
              "4                       테니스화의 가격은 다양하다.     neutral  "
            ],
            "text/html": [
              "\n",
              "  <div id=\"df-ed15d630-3d33-426e-a660-ff2ffb72c9cd\">\n",
              "    <div class=\"colab-df-container\">\n",
              "      <div>\n",
              "<style scoped>\n",
              "    .dataframe tbody tr th:only-of-type {\n",
              "        vertical-align: middle;\n",
              "    }\n",
              "\n",
              "    .dataframe tbody tr th {\n",
              "        vertical-align: top;\n",
              "    }\n",
              "\n",
              "    .dataframe thead th {\n",
              "        text-align: right;\n",
              "    }\n",
              "</style>\n",
              "<table border=\"1\" class=\"dataframe\">\n",
              "  <thead>\n",
              "    <tr style=\"text-align: right;\">\n",
              "      <th></th>\n",
              "      <th>sentence1</th>\n",
              "      <th>sentence2</th>\n",
              "      <th>gold_label</th>\n",
              "    </tr>\n",
              "  </thead>\n",
              "  <tbody>\n",
              "    <tr>\n",
              "      <th>0</th>\n",
              "      <td>개념적으로 크림 스키밍은 제품과 지리라는 두 가지 기본 차원을 가지고 있다.</td>\n",
              "      <td>제품과 지리학은 크림 스키밍을 작동시키는 것이다.</td>\n",
              "      <td>neutral</td>\n",
              "    </tr>\n",
              "    <tr>\n",
              "      <th>1</th>\n",
              "      <td>시즌 중에 알고 있는 거 알아? 네 레벨에서 다음 레벨로 잃어버리는 거야 브레이브스...</td>\n",
              "      <td>사람들이 기억하면 다음 수준으로 물건을 잃는다.</td>\n",
              "      <td>entailment</td>\n",
              "    </tr>\n",
              "    <tr>\n",
              "      <th>2</th>\n",
              "      <td>우리 번호 중 하나가 당신의 지시를 세밀하게 수행할 것이다.</td>\n",
              "      <td>우리 팀의 일원이 당신의 명령을 엄청나게 정확하게 실행할 것이다.</td>\n",
              "      <td>entailment</td>\n",
              "    </tr>\n",
              "    <tr>\n",
              "      <th>3</th>\n",
              "      <td>어떻게 아세요? 이 모든 것이 다시 그들의 정보다.</td>\n",
              "      <td>이 정보는 그들의 것이다.</td>\n",
              "      <td>entailment</td>\n",
              "    </tr>\n",
              "    <tr>\n",
              "      <th>4</th>\n",
              "      <td>그래, 만약 네가 테니스화 몇 개를 사러 간다면, 나는 왜 그들이 100달러대에서 ...</td>\n",
              "      <td>테니스화의 가격은 다양하다.</td>\n",
              "      <td>neutral</td>\n",
              "    </tr>\n",
              "  </tbody>\n",
              "</table>\n",
              "</div>\n",
              "      <button class=\"colab-df-convert\" onclick=\"convertToInteractive('df-ed15d630-3d33-426e-a660-ff2ffb72c9cd')\"\n",
              "              title=\"Convert this dataframe to an interactive table.\"\n",
              "              style=\"display:none;\">\n",
              "        \n",
              "  <svg xmlns=\"http://www.w3.org/2000/svg\" height=\"24px\"viewBox=\"0 0 24 24\"\n",
              "       width=\"24px\">\n",
              "    <path d=\"M0 0h24v24H0V0z\" fill=\"none\"/>\n",
              "    <path d=\"M18.56 5.44l.94 2.06.94-2.06 2.06-.94-2.06-.94-.94-2.06-.94 2.06-2.06.94zm-11 1L8.5 8.5l.94-2.06 2.06-.94-2.06-.94L8.5 2.5l-.94 2.06-2.06.94zm10 10l.94 2.06.94-2.06 2.06-.94-2.06-.94-.94-2.06-.94 2.06-2.06.94z\"/><path d=\"M17.41 7.96l-1.37-1.37c-.4-.4-.92-.59-1.43-.59-.52 0-1.04.2-1.43.59L10.3 9.45l-7.72 7.72c-.78.78-.78 2.05 0 2.83L4 21.41c.39.39.9.59 1.41.59.51 0 1.02-.2 1.41-.59l7.78-7.78 2.81-2.81c.8-.78.8-2.07 0-2.86zM5.41 20L4 18.59l7.72-7.72 1.47 1.35L5.41 20z\"/>\n",
              "  </svg>\n",
              "      </button>\n",
              "      \n",
              "  <style>\n",
              "    .colab-df-container {\n",
              "      display:flex;\n",
              "      flex-wrap:wrap;\n",
              "      gap: 12px;\n",
              "    }\n",
              "\n",
              "    .colab-df-convert {\n",
              "      background-color: #E8F0FE;\n",
              "      border: none;\n",
              "      border-radius: 50%;\n",
              "      cursor: pointer;\n",
              "      display: none;\n",
              "      fill: #1967D2;\n",
              "      height: 32px;\n",
              "      padding: 0 0 0 0;\n",
              "      width: 32px;\n",
              "    }\n",
              "\n",
              "    .colab-df-convert:hover {\n",
              "      background-color: #E2EBFA;\n",
              "      box-shadow: 0px 1px 2px rgba(60, 64, 67, 0.3), 0px 1px 3px 1px rgba(60, 64, 67, 0.15);\n",
              "      fill: #174EA6;\n",
              "    }\n",
              "\n",
              "    [theme=dark] .colab-df-convert {\n",
              "      background-color: #3B4455;\n",
              "      fill: #D2E3FC;\n",
              "    }\n",
              "\n",
              "    [theme=dark] .colab-df-convert:hover {\n",
              "      background-color: #434B5C;\n",
              "      box-shadow: 0px 1px 3px 1px rgba(0, 0, 0, 0.15);\n",
              "      filter: drop-shadow(0px 1px 2px rgba(0, 0, 0, 0.3));\n",
              "      fill: #FFFFFF;\n",
              "    }\n",
              "  </style>\n",
              "\n",
              "      <script>\n",
              "        const buttonEl =\n",
              "          document.querySelector('#df-ed15d630-3d33-426e-a660-ff2ffb72c9cd button.colab-df-convert');\n",
              "        buttonEl.style.display =\n",
              "          google.colab.kernel.accessAllowed ? 'block' : 'none';\n",
              "\n",
              "        async function convertToInteractive(key) {\n",
              "          const element = document.querySelector('#df-ed15d630-3d33-426e-a660-ff2ffb72c9cd');\n",
              "          const dataTable =\n",
              "            await google.colab.kernel.invokeFunction('convertToInteractive',\n",
              "                                                     [key], {});\n",
              "          if (!dataTable) return;\n",
              "\n",
              "          const docLinkHtml = 'Like what you see? Visit the ' +\n",
              "            '<a target=\"_blank\" href=https://colab.research.google.com/notebooks/data_table.ipynb>data table notebook</a>'\n",
              "            + ' to learn more about interactive tables.';\n",
              "          element.innerHTML = '';\n",
              "          dataTable['output_type'] = 'display_data';\n",
              "          await google.colab.output.renderOutput(dataTable, element);\n",
              "          const docLink = document.createElement('div');\n",
              "          docLink.innerHTML = docLinkHtml;\n",
              "          element.appendChild(docLink);\n",
              "        }\n",
              "      </script>\n",
              "    </div>\n",
              "  </div>\n",
              "  "
            ]
          },
          "metadata": {},
          "execution_count": 9
        }
      ]
    },
    {
      "cell_type": "code",
      "source": [
        "len(multinli_df)"
      ],
      "metadata": {
        "colab": {
          "base_uri": "https://localhost:8080/"
        },
        "id": "xfCY3DkGqL3s",
        "outputId": "4e952d2d-2965-453c-83e5-2b0cbcd4340c"
      },
      "execution_count": null,
      "outputs": [
        {
          "output_type": "execute_result",
          "data": {
            "text/plain": [
              "385494"
            ]
          },
          "metadata": {},
          "execution_count": 9
        }
      ]
    },
    {
      "cell_type": "code",
      "source": [
        "snli_df=pd.read_csv('data_in/KorNLUDatasets/KorNLI/snli_1.0_train.ko.tsv',sep='\\t',error_bad_lines=False)\n",
        "snli_df.head()"
      ],
      "metadata": {
        "colab": {
          "base_uri": "https://localhost:8080/",
          "height": 296
        },
        "id": "Vi6OUiaAqvXD",
        "outputId": "086516c3-2f77-49bc-a60a-18f201d93923"
      },
      "execution_count": null,
      "outputs": [
        {
          "output_type": "stream",
          "name": "stderr",
          "text": [
            "<ipython-input-10-b96cd5b7fc92>:1: FutureWarning: The error_bad_lines argument has been deprecated and will be removed in a future version. Use on_bad_lines in the future.\n",
            "\n",
            "\n",
            "  snli_df=pd.read_csv('data_in/KorNLUDatasets/KorNLI/snli_1.0_train.ko.tsv',sep='\\t',error_bad_lines=False)\n"
          ]
        },
        {
          "output_type": "execute_result",
          "data": {
            "text/plain": [
              "                    sentence1                  sentence2     gold_label\n",
              "0  말을 탄 사람이 고장난 비행기 위로 뛰어오른다.  한 사람이 경쟁을 위해 말을 훈련시키고 있다.        neutral\n",
              "1  말을 탄 사람이 고장난 비행기 위로 뛰어오른다.   한 사람이 식당에서 오믈렛을 주문하고 있다.  contradiction\n",
              "2  말을 탄 사람이 고장난 비행기 위로 뛰어오른다.         사람은 야외에서 말을 타고 있다.     entailment\n",
              "3          카메라에 웃고 손을 흔드는 아이들          그들은 부모님을 보고 웃고 있다        neutral\n",
              "4          카메라에 웃고 손을 흔드는 아이들                    아이들이 있다     entailment"
            ],
            "text/html": [
              "\n",
              "  <div id=\"df-f89c8c08-bddc-4147-965f-46fcd2ee6e7e\">\n",
              "    <div class=\"colab-df-container\">\n",
              "      <div>\n",
              "<style scoped>\n",
              "    .dataframe tbody tr th:only-of-type {\n",
              "        vertical-align: middle;\n",
              "    }\n",
              "\n",
              "    .dataframe tbody tr th {\n",
              "        vertical-align: top;\n",
              "    }\n",
              "\n",
              "    .dataframe thead th {\n",
              "        text-align: right;\n",
              "    }\n",
              "</style>\n",
              "<table border=\"1\" class=\"dataframe\">\n",
              "  <thead>\n",
              "    <tr style=\"text-align: right;\">\n",
              "      <th></th>\n",
              "      <th>sentence1</th>\n",
              "      <th>sentence2</th>\n",
              "      <th>gold_label</th>\n",
              "    </tr>\n",
              "  </thead>\n",
              "  <tbody>\n",
              "    <tr>\n",
              "      <th>0</th>\n",
              "      <td>말을 탄 사람이 고장난 비행기 위로 뛰어오른다.</td>\n",
              "      <td>한 사람이 경쟁을 위해 말을 훈련시키고 있다.</td>\n",
              "      <td>neutral</td>\n",
              "    </tr>\n",
              "    <tr>\n",
              "      <th>1</th>\n",
              "      <td>말을 탄 사람이 고장난 비행기 위로 뛰어오른다.</td>\n",
              "      <td>한 사람이 식당에서 오믈렛을 주문하고 있다.</td>\n",
              "      <td>contradiction</td>\n",
              "    </tr>\n",
              "    <tr>\n",
              "      <th>2</th>\n",
              "      <td>말을 탄 사람이 고장난 비행기 위로 뛰어오른다.</td>\n",
              "      <td>사람은 야외에서 말을 타고 있다.</td>\n",
              "      <td>entailment</td>\n",
              "    </tr>\n",
              "    <tr>\n",
              "      <th>3</th>\n",
              "      <td>카메라에 웃고 손을 흔드는 아이들</td>\n",
              "      <td>그들은 부모님을 보고 웃고 있다</td>\n",
              "      <td>neutral</td>\n",
              "    </tr>\n",
              "    <tr>\n",
              "      <th>4</th>\n",
              "      <td>카메라에 웃고 손을 흔드는 아이들</td>\n",
              "      <td>아이들이 있다</td>\n",
              "      <td>entailment</td>\n",
              "    </tr>\n",
              "  </tbody>\n",
              "</table>\n",
              "</div>\n",
              "      <button class=\"colab-df-convert\" onclick=\"convertToInteractive('df-f89c8c08-bddc-4147-965f-46fcd2ee6e7e')\"\n",
              "              title=\"Convert this dataframe to an interactive table.\"\n",
              "              style=\"display:none;\">\n",
              "        \n",
              "  <svg xmlns=\"http://www.w3.org/2000/svg\" height=\"24px\"viewBox=\"0 0 24 24\"\n",
              "       width=\"24px\">\n",
              "    <path d=\"M0 0h24v24H0V0z\" fill=\"none\"/>\n",
              "    <path d=\"M18.56 5.44l.94 2.06.94-2.06 2.06-.94-2.06-.94-.94-2.06-.94 2.06-2.06.94zm-11 1L8.5 8.5l.94-2.06 2.06-.94-2.06-.94L8.5 2.5l-.94 2.06-2.06.94zm10 10l.94 2.06.94-2.06 2.06-.94-2.06-.94-.94-2.06-.94 2.06-2.06.94z\"/><path d=\"M17.41 7.96l-1.37-1.37c-.4-.4-.92-.59-1.43-.59-.52 0-1.04.2-1.43.59L10.3 9.45l-7.72 7.72c-.78.78-.78 2.05 0 2.83L4 21.41c.39.39.9.59 1.41.59.51 0 1.02-.2 1.41-.59l7.78-7.78 2.81-2.81c.8-.78.8-2.07 0-2.86zM5.41 20L4 18.59l7.72-7.72 1.47 1.35L5.41 20z\"/>\n",
              "  </svg>\n",
              "      </button>\n",
              "      \n",
              "  <style>\n",
              "    .colab-df-container {\n",
              "      display:flex;\n",
              "      flex-wrap:wrap;\n",
              "      gap: 12px;\n",
              "    }\n",
              "\n",
              "    .colab-df-convert {\n",
              "      background-color: #E8F0FE;\n",
              "      border: none;\n",
              "      border-radius: 50%;\n",
              "      cursor: pointer;\n",
              "      display: none;\n",
              "      fill: #1967D2;\n",
              "      height: 32px;\n",
              "      padding: 0 0 0 0;\n",
              "      width: 32px;\n",
              "    }\n",
              "\n",
              "    .colab-df-convert:hover {\n",
              "      background-color: #E2EBFA;\n",
              "      box-shadow: 0px 1px 2px rgba(60, 64, 67, 0.3), 0px 1px 3px 1px rgba(60, 64, 67, 0.15);\n",
              "      fill: #174EA6;\n",
              "    }\n",
              "\n",
              "    [theme=dark] .colab-df-convert {\n",
              "      background-color: #3B4455;\n",
              "      fill: #D2E3FC;\n",
              "    }\n",
              "\n",
              "    [theme=dark] .colab-df-convert:hover {\n",
              "      background-color: #434B5C;\n",
              "      box-shadow: 0px 1px 3px 1px rgba(0, 0, 0, 0.15);\n",
              "      filter: drop-shadow(0px 1px 2px rgba(0, 0, 0, 0.3));\n",
              "      fill: #FFFFFF;\n",
              "    }\n",
              "  </style>\n",
              "\n",
              "      <script>\n",
              "        const buttonEl =\n",
              "          document.querySelector('#df-f89c8c08-bddc-4147-965f-46fcd2ee6e7e button.colab-df-convert');\n",
              "        buttonEl.style.display =\n",
              "          google.colab.kernel.accessAllowed ? 'block' : 'none';\n",
              "\n",
              "        async function convertToInteractive(key) {\n",
              "          const element = document.querySelector('#df-f89c8c08-bddc-4147-965f-46fcd2ee6e7e');\n",
              "          const dataTable =\n",
              "            await google.colab.kernel.invokeFunction('convertToInteractive',\n",
              "                                                     [key], {});\n",
              "          if (!dataTable) return;\n",
              "\n",
              "          const docLinkHtml = 'Like what you see? Visit the ' +\n",
              "            '<a target=\"_blank\" href=https://colab.research.google.com/notebooks/data_table.ipynb>data table notebook</a>'\n",
              "            + ' to learn more about interactive tables.';\n",
              "          element.innerHTML = '';\n",
              "          dataTable['output_type'] = 'display_data';\n",
              "          await google.colab.output.renderOutput(dataTable, element);\n",
              "          const docLink = document.createElement('div');\n",
              "          docLink.innerHTML = docLinkHtml;\n",
              "          element.appendChild(docLink);\n",
              "        }\n",
              "      </script>\n",
              "    </div>\n",
              "  </div>\n",
              "  "
            ]
          },
          "metadata": {},
          "execution_count": 10
        }
      ]
    },
    {
      "cell_type": "code",
      "source": [
        "len(snli_df)"
      ],
      "metadata": {
        "colab": {
          "base_uri": "https://localhost:8080/"
        },
        "id": "NNM1gv76qJTr",
        "outputId": "d65c29a4-39ac-4e9f-a25e-713809ef3743"
      },
      "execution_count": null,
      "outputs": [
        {
          "output_type": "execute_result",
          "data": {
            "text/plain": [
              "550152"
            ]
          },
          "metadata": {},
          "execution_count": 11
        }
      ]
    },
    {
      "cell_type": "code",
      "source": [
        "train_df=pd.concat([multinli_df,snli_df],axis=0)\n",
        "train_df.head()"
      ],
      "metadata": {
        "colab": {
          "base_uri": "https://localhost:8080/",
          "height": 316
        },
        "id": "0v_AQQrAmEWX",
        "outputId": "274356e5-68d0-4484-8fb4-90f1b0130f3f"
      },
      "execution_count": null,
      "outputs": [
        {
          "output_type": "execute_result",
          "data": {
            "text/plain": [
              "                                           sentence1  \\\n",
              "0         개념적으로 크림 스키밍은 제품과 지리라는 두 가지 기본 차원을 가지고 있다.   \n",
              "1  시즌 중에 알고 있는 거 알아? 네 레벨에서 다음 레벨로 잃어버리는 거야 브레이브스...   \n",
              "2                  우리 번호 중 하나가 당신의 지시를 세밀하게 수행할 것이다.   \n",
              "3                       어떻게 아세요? 이 모든 것이 다시 그들의 정보다.   \n",
              "4  그래, 만약 네가 테니스화 몇 개를 사러 간다면, 나는 왜 그들이 100달러대에서 ...   \n",
              "\n",
              "                              sentence2  gold_label  \n",
              "0           제품과 지리학은 크림 스키밍을 작동시키는 것이다.     neutral  \n",
              "1            사람들이 기억하면 다음 수준으로 물건을 잃는다.  entailment  \n",
              "2  우리 팀의 일원이 당신의 명령을 엄청나게 정확하게 실행할 것이다.  entailment  \n",
              "3                        이 정보는 그들의 것이다.  entailment  \n",
              "4                       테니스화의 가격은 다양하다.     neutral  "
            ],
            "text/html": [
              "\n",
              "  <div id=\"df-c00b161d-1535-44b5-af61-67e0054260e4\">\n",
              "    <div class=\"colab-df-container\">\n",
              "      <div>\n",
              "<style scoped>\n",
              "    .dataframe tbody tr th:only-of-type {\n",
              "        vertical-align: middle;\n",
              "    }\n",
              "\n",
              "    .dataframe tbody tr th {\n",
              "        vertical-align: top;\n",
              "    }\n",
              "\n",
              "    .dataframe thead th {\n",
              "        text-align: right;\n",
              "    }\n",
              "</style>\n",
              "<table border=\"1\" class=\"dataframe\">\n",
              "  <thead>\n",
              "    <tr style=\"text-align: right;\">\n",
              "      <th></th>\n",
              "      <th>sentence1</th>\n",
              "      <th>sentence2</th>\n",
              "      <th>gold_label</th>\n",
              "    </tr>\n",
              "  </thead>\n",
              "  <tbody>\n",
              "    <tr>\n",
              "      <th>0</th>\n",
              "      <td>개념적으로 크림 스키밍은 제품과 지리라는 두 가지 기본 차원을 가지고 있다.</td>\n",
              "      <td>제품과 지리학은 크림 스키밍을 작동시키는 것이다.</td>\n",
              "      <td>neutral</td>\n",
              "    </tr>\n",
              "    <tr>\n",
              "      <th>1</th>\n",
              "      <td>시즌 중에 알고 있는 거 알아? 네 레벨에서 다음 레벨로 잃어버리는 거야 브레이브스...</td>\n",
              "      <td>사람들이 기억하면 다음 수준으로 물건을 잃는다.</td>\n",
              "      <td>entailment</td>\n",
              "    </tr>\n",
              "    <tr>\n",
              "      <th>2</th>\n",
              "      <td>우리 번호 중 하나가 당신의 지시를 세밀하게 수행할 것이다.</td>\n",
              "      <td>우리 팀의 일원이 당신의 명령을 엄청나게 정확하게 실행할 것이다.</td>\n",
              "      <td>entailment</td>\n",
              "    </tr>\n",
              "    <tr>\n",
              "      <th>3</th>\n",
              "      <td>어떻게 아세요? 이 모든 것이 다시 그들의 정보다.</td>\n",
              "      <td>이 정보는 그들의 것이다.</td>\n",
              "      <td>entailment</td>\n",
              "    </tr>\n",
              "    <tr>\n",
              "      <th>4</th>\n",
              "      <td>그래, 만약 네가 테니스화 몇 개를 사러 간다면, 나는 왜 그들이 100달러대에서 ...</td>\n",
              "      <td>테니스화의 가격은 다양하다.</td>\n",
              "      <td>neutral</td>\n",
              "    </tr>\n",
              "  </tbody>\n",
              "</table>\n",
              "</div>\n",
              "      <button class=\"colab-df-convert\" onclick=\"convertToInteractive('df-c00b161d-1535-44b5-af61-67e0054260e4')\"\n",
              "              title=\"Convert this dataframe to an interactive table.\"\n",
              "              style=\"display:none;\">\n",
              "        \n",
              "  <svg xmlns=\"http://www.w3.org/2000/svg\" height=\"24px\"viewBox=\"0 0 24 24\"\n",
              "       width=\"24px\">\n",
              "    <path d=\"M0 0h24v24H0V0z\" fill=\"none\"/>\n",
              "    <path d=\"M18.56 5.44l.94 2.06.94-2.06 2.06-.94-2.06-.94-.94-2.06-.94 2.06-2.06.94zm-11 1L8.5 8.5l.94-2.06 2.06-.94-2.06-.94L8.5 2.5l-.94 2.06-2.06.94zm10 10l.94 2.06.94-2.06 2.06-.94-2.06-.94-.94-2.06-.94 2.06-2.06.94z\"/><path d=\"M17.41 7.96l-1.37-1.37c-.4-.4-.92-.59-1.43-.59-.52 0-1.04.2-1.43.59L10.3 9.45l-7.72 7.72c-.78.78-.78 2.05 0 2.83L4 21.41c.39.39.9.59 1.41.59.51 0 1.02-.2 1.41-.59l7.78-7.78 2.81-2.81c.8-.78.8-2.07 0-2.86zM5.41 20L4 18.59l7.72-7.72 1.47 1.35L5.41 20z\"/>\n",
              "  </svg>\n",
              "      </button>\n",
              "      \n",
              "  <style>\n",
              "    .colab-df-container {\n",
              "      display:flex;\n",
              "      flex-wrap:wrap;\n",
              "      gap: 12px;\n",
              "    }\n",
              "\n",
              "    .colab-df-convert {\n",
              "      background-color: #E8F0FE;\n",
              "      border: none;\n",
              "      border-radius: 50%;\n",
              "      cursor: pointer;\n",
              "      display: none;\n",
              "      fill: #1967D2;\n",
              "      height: 32px;\n",
              "      padding: 0 0 0 0;\n",
              "      width: 32px;\n",
              "    }\n",
              "\n",
              "    .colab-df-convert:hover {\n",
              "      background-color: #E2EBFA;\n",
              "      box-shadow: 0px 1px 2px rgba(60, 64, 67, 0.3), 0px 1px 3px 1px rgba(60, 64, 67, 0.15);\n",
              "      fill: #174EA6;\n",
              "    }\n",
              "\n",
              "    [theme=dark] .colab-df-convert {\n",
              "      background-color: #3B4455;\n",
              "      fill: #D2E3FC;\n",
              "    }\n",
              "\n",
              "    [theme=dark] .colab-df-convert:hover {\n",
              "      background-color: #434B5C;\n",
              "      box-shadow: 0px 1px 3px 1px rgba(0, 0, 0, 0.15);\n",
              "      filter: drop-shadow(0px 1px 2px rgba(0, 0, 0, 0.3));\n",
              "      fill: #FFFFFF;\n",
              "    }\n",
              "  </style>\n",
              "\n",
              "      <script>\n",
              "        const buttonEl =\n",
              "          document.querySelector('#df-c00b161d-1535-44b5-af61-67e0054260e4 button.colab-df-convert');\n",
              "        buttonEl.style.display =\n",
              "          google.colab.kernel.accessAllowed ? 'block' : 'none';\n",
              "\n",
              "        async function convertToInteractive(key) {\n",
              "          const element = document.querySelector('#df-c00b161d-1535-44b5-af61-67e0054260e4');\n",
              "          const dataTable =\n",
              "            await google.colab.kernel.invokeFunction('convertToInteractive',\n",
              "                                                     [key], {});\n",
              "          if (!dataTable) return;\n",
              "\n",
              "          const docLinkHtml = 'Like what you see? Visit the ' +\n",
              "            '<a target=\"_blank\" href=https://colab.research.google.com/notebooks/data_table.ipynb>data table notebook</a>'\n",
              "            + ' to learn more about interactive tables.';\n",
              "          element.innerHTML = '';\n",
              "          dataTable['output_type'] = 'display_data';\n",
              "          await google.colab.output.renderOutput(dataTable, element);\n",
              "          const docLink = document.createElement('div');\n",
              "          docLink.innerHTML = docLinkHtml;\n",
              "          element.appendChild(docLink);\n",
              "        }\n",
              "      </script>\n",
              "    </div>\n",
              "  </div>\n",
              "  "
            ]
          },
          "metadata": {},
          "execution_count": 11
        }
      ]
    },
    {
      "cell_type": "code",
      "source": [
        "len(train_df)"
      ],
      "metadata": {
        "colab": {
          "base_uri": "https://localhost:8080/"
        },
        "id": "JXynLin5rW1P",
        "outputId": "dd4da2c3-1bcc-4768-a7d7-8e835e382a3f"
      },
      "execution_count": null,
      "outputs": [
        {
          "output_type": "execute_result",
          "data": {
            "text/plain": [
              "935646"
            ]
          },
          "metadata": {},
          "execution_count": 13
        }
      ]
    },
    {
      "cell_type": "code",
      "source": [
        "sentences=pd.Series(train_df['sentence1'].tolist()+train_df['sentence2'].tolist())\n",
        "sentences.head()"
      ],
      "metadata": {
        "colab": {
          "base_uri": "https://localhost:8080/"
        },
        "id": "7HUxJ_kqrbpG",
        "outputId": "270266ad-752b-4e79-dc21-e1b06f1cb2eb"
      },
      "execution_count": null,
      "outputs": [
        {
          "output_type": "execute_result",
          "data": {
            "text/plain": [
              "0            개념적으로 크림 스키밍은 제품과 지리라는 두 가지 기본 차원을 가지고 있다\n",
              "1    시즌 중에 알고 있는 거 알아 네 레벨에서 다음 레벨로 잃어버리는 거야 브레이브스가...\n",
              "2                     우리 번호 중 하나가 당신의 지시를 세밀하게 수행할 것이다\n",
              "3                           어떻게 아세요 이 모든 것이 다시 그들의 정보다\n",
              "4    그래 만약 네가 테니스화 몇 개를 사러 간다면 나는 왜 그들이 100달러대에서 오르...\n",
              "dtype: object"
            ]
          },
          "metadata": {},
          "execution_count": 55
        }
      ]
    },
    {
      "cell_type": "code",
      "source": [
        "len(sentences)"
      ],
      "metadata": {
        "colab": {
          "base_uri": "https://localhost:8080/"
        },
        "id": "GgFNz3m_rryy",
        "outputId": "fc7e3944-6863-487c-82e9-70a147e63c43"
      },
      "execution_count": null,
      "outputs": [
        {
          "output_type": "execute_result",
          "data": {
            "text/plain": [
              "1871292"
            ]
          },
          "metadata": {},
          "execution_count": 15
        }
      ]
    },
    {
      "cell_type": "markdown",
      "source": [
        "### BertTokenizer 불러오기"
      ],
      "metadata": {
        "id": "xMkk81OJrzJ7"
      }
    },
    {
      "cell_type": "code",
      "source": [
        "tokenizer=BertTokenizer.from_pretrained('bert-base-multilingual-cased')"
      ],
      "metadata": {
        "id": "bvHDTSIMh_lF",
        "colab": {
          "base_uri": "https://localhost:8080/",
          "height": 837,
          "referenced_widgets": [
            "f1bbe1032e3b49cd996e31ee5374294a",
            "2e7a2b075543455f922ac5201cf026ca",
            "8c83c8a709ed4b1c952e0fbd7ae16913",
            "f9d4b9d496504daf8223ed8052625ad7",
            "102844ca01994bebb54a028c2f9a7954",
            "daf6c1ff58ab41dc983599ea1be23d79",
            "1049a4bf24d04714b3ef223ffce1ecdf",
            "d3d6d3b8626743dfac3c3f40472e4033",
            "1ffcd914e8df4eb189a14f79a976f6b9",
            "7996d0ac4c6c4ee59554622369935375",
            "2c4eefc4b1fc45f3bd84ecbef1b11a6f",
            "6bd76147b1394949bdc50760620def8d",
            "ea58ff300c154a848fca00e0dedaffe4",
            "d1b1d67a0a2e40e5b4aae577cccb131c",
            "1cb3514a1d11433288d5989b51f67659",
            "6dc00d8720f3468488b291891bad70d7",
            "34405fb5f92f436fb272c259e0462686",
            "57397713259f4a16bcf7776c7aa84b7b",
            "487cbc48c6e14cfe93427a78ccea9064",
            "d25aaa7825ba47858694470bd652d06f",
            "c916b790f6a94bf68a93a3ca529afb92",
            "b5f4806c3eca441dbd1e80683f5dec74",
            "60da1e701ac746e584d2aa7c94faf183",
            "792748781d5349a9b47e49adfe2c1968",
            "0aa1300696044d5e9c2f5611044b46b2",
            "acca4dbeab8d4d82a272cb73ddb9199c",
            "7e2be1defd794dc79c1747b1caf4f11b",
            "cc71e65026c0480782ef971eb0aa3a73",
            "3a1dc63a4aa24db893d8e98aaab7d334",
            "7f8a7ad336a640df9b066c95c1152967",
            "99c9943f166e4680a31f5daf0ea2b17d",
            "e474ed09e88545d59220b396765dfafc",
            "c24bbd8484dc4307bd01d40e2a415d00"
          ]
        },
        "outputId": "7e1cd294-1acb-4d6a-a5d6-8fa820e5cbc9"
      },
      "execution_count": null,
      "outputs": [
        {
          "output_type": "display_data",
          "data": {
            "text/plain": [
              "Downloading (…)solve/main/vocab.txt: 0.00B [00:00, ?B/s]"
            ],
            "application/vnd.jupyter.widget-view+json": {
              "version_major": 2,
              "version_minor": 0,
              "model_id": "f1bbe1032e3b49cd996e31ee5374294a"
            }
          },
          "metadata": {}
        },
        {
          "output_type": "display_data",
          "data": {
            "text/plain": [
              "Downloading (…)okenizer_config.json:   0%|          | 0.00/29.0 [00:00<?, ?B/s]"
            ],
            "application/vnd.jupyter.widget-view+json": {
              "version_major": 2,
              "version_minor": 0,
              "model_id": "6bd76147b1394949bdc50760620def8d"
            }
          },
          "metadata": {}
        },
        {
          "output_type": "stream",
          "name": "stderr",
          "text": [
            "loading file vocab.txt from cache at /root/.cache/huggingface/hub/models--bert-base-multilingual-cased/snapshots/fdfce55e83dbed325647a63e7e1f5de19f0382ba/vocab.txt\n",
            "loading file added_tokens.json from cache at None\n",
            "loading file special_tokens_map.json from cache at None\n",
            "loading file tokenizer_config.json from cache at /root/.cache/huggingface/hub/models--bert-base-multilingual-cased/snapshots/fdfce55e83dbed325647a63e7e1f5de19f0382ba/tokenizer_config.json\n"
          ]
        },
        {
          "output_type": "display_data",
          "data": {
            "text/plain": [
              "Downloading (…)lve/main/config.json:   0%|          | 0.00/625 [00:00<?, ?B/s]"
            ],
            "application/vnd.jupyter.widget-view+json": {
              "version_major": 2,
              "version_minor": 0,
              "model_id": "60da1e701ac746e584d2aa7c94faf183"
            }
          },
          "metadata": {}
        },
        {
          "output_type": "stream",
          "name": "stderr",
          "text": [
            "loading configuration file config.json from cache at /root/.cache/huggingface/hub/models--bert-base-multilingual-cased/snapshots/fdfce55e83dbed325647a63e7e1f5de19f0382ba/config.json\n",
            "Model config BertConfig {\n",
            "  \"_name_or_path\": \"bert-base-multilingual-cased\",\n",
            "  \"architectures\": [\n",
            "    \"BertForMaskedLM\"\n",
            "  ],\n",
            "  \"attention_probs_dropout_prob\": 0.1,\n",
            "  \"classifier_dropout\": null,\n",
            "  \"directionality\": \"bidi\",\n",
            "  \"hidden_act\": \"gelu\",\n",
            "  \"hidden_dropout_prob\": 0.1,\n",
            "  \"hidden_size\": 768,\n",
            "  \"initializer_range\": 0.02,\n",
            "  \"intermediate_size\": 3072,\n",
            "  \"layer_norm_eps\": 1e-12,\n",
            "  \"max_position_embeddings\": 512,\n",
            "  \"model_type\": \"bert\",\n",
            "  \"num_attention_heads\": 12,\n",
            "  \"num_hidden_layers\": 12,\n",
            "  \"pad_token_id\": 0,\n",
            "  \"pooler_fc_size\": 768,\n",
            "  \"pooler_num_attention_heads\": 12,\n",
            "  \"pooler_num_fc_layers\": 3,\n",
            "  \"pooler_size_per_head\": 128,\n",
            "  \"pooler_type\": \"first_token_transform\",\n",
            "  \"position_embedding_type\": \"absolute\",\n",
            "  \"transformers_version\": \"4.30.2\",\n",
            "  \"type_vocab_size\": 2,\n",
            "  \"use_cache\": true,\n",
            "  \"vocab_size\": 119547\n",
            "}\n",
            "\n"
          ]
        }
      ]
    },
    {
      "cell_type": "code",
      "source": [
        "cache_dir='.cache/huggingface/hub/models--bert-base-multilingual-cased/snapshots/fdfce55e83dbed325647a63e7e1f5de19f0382ba' # root 폴더 내에서"
      ],
      "metadata": {
        "id": "G8i0KsA3jf2L"
      },
      "execution_count": null,
      "outputs": []
    },
    {
      "cell_type": "code",
      "source": [
        "tokenizer.tokenize('안녕 나는 사람이야')"
      ],
      "metadata": {
        "colab": {
          "base_uri": "https://localhost:8080/"
        },
        "id": "toekfpkukQd7",
        "outputId": "113bbdef-8d77-48ac-b04d-28499fca6732"
      },
      "execution_count": null,
      "outputs": [
        {
          "output_type": "execute_result",
          "data": {
            "text/plain": [
              "['안', '##녕', '나는', '사람이', '##야']"
            ]
          },
          "metadata": {},
          "execution_count": 21
        }
      ]
    },
    {
      "cell_type": "code",
      "source": [
        "from tqdm import tqdm\n",
        "tqdm.pandas()"
      ],
      "metadata": {
        "id": "ANLj9Bd2k1WR"
      },
      "execution_count": null,
      "outputs": []
    },
    {
      "cell_type": "code",
      "source": [
        "sent_len = sentences.astype(str).progress_apply(lambda x : len(tokenizer.tokenize(x)))\n",
        "sent_len"
      ],
      "metadata": {
        "colab": {
          "base_uri": "https://localhost:8080/"
        },
        "id": "fiQZFIJGjsUE",
        "outputId": "c18343b8-cd68-4af4-93d2-e6d56eb8ee0a"
      },
      "execution_count": null,
      "outputs": [
        {
          "output_type": "stream",
          "name": "stderr",
          "text": [
            "100%|██████████| 1871292/1871292 [06:19<00:00, 4930.27it/s]\n"
          ]
        },
        {
          "output_type": "execute_result",
          "data": {
            "text/plain": [
              "0          24\n",
              "1          83\n",
              "2          21\n",
              "3          15\n",
              "4          41\n",
              "           ..\n",
              "1871287    16\n",
              "1871288    24\n",
              "1871289    17\n",
              "1871290    18\n",
              "1871291    23\n",
              "Length: 1871292, dtype: int64"
            ]
          },
          "metadata": {},
          "execution_count": 25
        }
      ]
    },
    {
      "cell_type": "code",
      "source": [
        "import matplotlib.pyplot as plt"
      ],
      "metadata": {
        "id": "kkV-zBHhkEsZ"
      },
      "execution_count": null,
      "outputs": []
    },
    {
      "cell_type": "code",
      "source": [
        "plt.figure(figsize=(10,5))\n",
        "\n",
        "plt.hist(sent_len,bins=200,range=[0,200],color='r',density=True,label='train')\n",
        "plt.title('Distribution of tokens count in sentence')\n",
        "plt.xlabel('Number of tokens')\n",
        "plt.ylabel('Probability')\n",
        "plt.show()"
      ],
      "metadata": {
        "colab": {
          "base_uri": "https://localhost:8080/",
          "height": 362
        },
        "id": "V2K9P48Kp_Vg",
        "outputId": "c6bea62b-3adf-40dd-f890-5175eff76e22"
      },
      "execution_count": null,
      "outputs": [
        {
          "output_type": "display_data",
          "data": {
            "text/plain": [
              "<Figure size 1000x500 with 1 Axes>"
            ],
            "image/png": "[encoded data removed]"
          },
          "metadata": {}
        }
      ]
    },
    {
      "cell_type": "code",
      "source": [
        "print('문장 tokens 개수 최대 값: {}'.format(np.max(sent_len)))\n",
        "print('문장 tokens 개수 평균 값: {:.2f}'.format(np.mean(sent_len)))\n",
        "print('문장 tokens 개수 표준편차: {:.2f}'.format(np.std(sent_len)))\n",
        "print('문장 tokens 개수 중간 값: {}'.format(np.median(sent_len)))\n",
        "print('문장 tokens 개수 제 1 사분위: {}'.format(np.percentile(sent_len, 25)))\n",
        "print('문장 tokens 개수 제 3 사분위: {}'.format(np.percentile(sent_len, 75)))\n",
        "print('문장 tokens 개수 99 퍼센트: {}'.format(np.percentile(sent_len, 99)))"
      ],
      "metadata": {
        "colab": {
          "base_uri": "https://localhost:8080/"
        },
        "id": "iC8zkK51qRfN",
        "outputId": "25b5e526-3a7c-4c78-9c1f-d06af0a07cfe"
      },
      "execution_count": null,
      "outputs": [
        {
          "output_type": "stream",
          "name": "stdout",
          "text": [
            "문장 tokens 개수 최대 값: 9006\n",
            "문장 tokens 개수 평균 값: 20.24\n",
            "문장 tokens 개수 표준편차: 26.77\n",
            "문장 tokens 개수 중간 값: 16.0\n",
            "문장 tokens 개수 제 1 사분위: 11.0\n",
            "문장 tokens 개수 제 3 사분위: 24.0\n",
            "문장 tokens 개수 99 퍼센트: 72.0\n"
          ]
        }
      ]
    },
    {
      "cell_type": "markdown",
      "source": [
        "- 3사분위에 해당하는 24를 사용.\n",
        "- 2개의 문장이 합쳐짐으로 인해 48을 MAX_LEN으로 사용"
      ],
      "metadata": {
        "id": "fNwhm95PzQs0"
      }
    },
    {
      "cell_type": "code",
      "source": [
        "plt.boxplot(sent_len,labels=['length'],showmeans=True)\n",
        "plt.show()"
      ],
      "metadata": {
        "colab": {
          "base_uri": "https://localhost:8080/",
          "height": 430
        },
        "id": "fWU2bafVufmH",
        "outputId": "4d72ff07-1aea-4b63-d980-148ac383ca4b"
      },
      "execution_count": null,
      "outputs": [
        {
          "output_type": "display_data",
          "data": {
            "text/plain": [
              "<Figure size 640x480 with 1 Axes>"
            ],
            "image/png": "[encoded data removed]"
          },
          "metadata": {}
        }
      ]
    },
    {
      "cell_type": "markdown",
      "source": [
        "## 라벨 데이터 분포 확인"
      ],
      "metadata": {
        "id": "6iZkNhnfupeY"
      }
    },
    {
      "cell_type": "code",
      "source": [
        "import seaborn as sns\n",
        "\n",
        "sns.set(rc={'figure.figsize':(10,5)})\n",
        "sns.countplot(data=train_df,x=train_df['gold_label'])"
      ],
      "metadata": {
        "colab": {
          "base_uri": "https://localhost:8080/",
          "height": 358
        },
        "id": "alEPiYAwumZR",
        "outputId": "25c5bed8-36ae-4a93-b5f6-889e1d90d5d8"
      },
      "execution_count": null,
      "outputs": [
        {
          "output_type": "execute_result",
          "data": {
            "text/plain": [
              "<Axes: xlabel='gold_label', ylabel='count'>"
            ]
          },
          "metadata": {},
          "execution_count": 48
        },
        {
          "output_type": "display_data",
          "data": {
            "text/plain": [
              "<Figure size 1000x500 with 1 Axes>"
            ],
            "image/png": "[encoded data removed]"
          },
          "metadata": {}
        }
      ]
    },
    {
      "cell_type": "markdown",
      "source": [
        "## 특수 문자 확인"
      ],
      "metadata": {
        "id": "NyAJOGTV11p1"
      }
    },
    {
      "cell_type": "code",
      "source": [
        "print('구두점 포함 문장 비율 : {:.2f}'.format(np.mean(sentences.astype(str).progress_apply(lambda x : '.' in x))))"
      ],
      "metadata": {
        "colab": {
          "base_uri": "https://localhost:8080/"
        },
        "id": "Va1uVnEJ11Ed",
        "outputId": "982962af-55b7-4a54-abde-4a710611eb70"
      },
      "execution_count": null,
      "outputs": [
        {
          "output_type": "stream",
          "name": "stderr",
          "text": [
            "100%|██████████| 1871292/1871292 [00:03<00:00, 561170.67it/s]"
          ]
        },
        {
          "output_type": "stream",
          "name": "stdout",
          "text": [
            "구두점 포함 문장 비율 : 0.00\n"
          ]
        },
        {
          "output_type": "stream",
          "name": "stderr",
          "text": [
            "\n"
          ]
        }
      ]
    },
    {
      "cell_type": "markdown",
      "source": [
        "# 전처리"
      ],
      "metadata": {
        "id": "0HePpo22vrz0"
      }
    },
    {
      "cell_type": "code",
      "source": [
        "ls"
      ],
      "metadata": {
        "colab": {
          "base_uri": "https://localhost:8080/"
        },
        "id": "mJfPWvt3qWB2",
        "outputId": "737d0303-ae34-4df8-8a6c-dc3297283ae6"
      },
      "execution_count": null,
      "outputs": [
        {
          "output_type": "stream",
          "name": "stdout",
          "text": [
            "BERT_NLI.ipynb                  \u001b[0m\u001b[01;34mdata_in\u001b[0m/   \u001b[01;34mtransformers\u001b[0m/\n",
            "BERT_Text_Classification.ipynb  \u001b[01;34mdata_out\u001b[0m/\n"
          ]
        }
      ]
    },
    {
      "cell_type": "code",
      "source": [
        "cd data_in/KorNLUDatasets/KorNLI"
      ],
      "metadata": {
        "colab": {
          "base_uri": "https://localhost:8080/"
        },
        "id": "gn7QheaPqZdV",
        "outputId": "359f9922-3a1f-4ee1-e9aa-240eb8d47525"
      },
      "execution_count": null,
      "outputs": [
        {
          "output_type": "stream",
          "name": "stdout",
          "text": [
            "/content/drive/MyDrive/Pytorch NLP/BERT/data_in/KorNLUDatasets/KorNLI\n"
          ]
        }
      ]
    },
    {
      "cell_type": "code",
      "source": [
        "train_df['sentence1']=train_df['sentence1'].str.replace('[^ a-zA-Z0-9가-힣]',\"\")\n",
        "train_df['sentence2']=train_df['sentence2'].str.replace('[^ a-zA-Z0-9가-힣]',\"\")\n",
        "train_df.dropna()\n",
        "train_df"
      ],
      "metadata": {
        "colab": {
          "base_uri": "https://localhost:8080/",
          "height": 708
        },
        "id": "5eVl4zryvZQp",
        "outputId": "0b9f25d6-b740-4bc0-9775-d583853d5781"
      },
      "execution_count": null,
      "outputs": [
        {
          "output_type": "stream",
          "name": "stderr",
          "text": [
            "<ipython-input-12-46595627b075>:1: FutureWarning: The default value of regex will change from True to False in a future version.\n",
            "  train_df['sentence1']=train_df['sentence1'].str.replace('[^ a-zA-Z0-9가-힣]',\"\")\n",
            "<ipython-input-12-46595627b075>:2: FutureWarning: The default value of regex will change from True to False in a future version.\n",
            "  train_df['sentence2']=train_df['sentence2'].str.replace('[^ a-zA-Z0-9가-힣]',\"\")\n"
          ]
        },
        {
          "output_type": "execute_result",
          "data": {
            "text/plain": [
              "                                                sentence1  \\\n",
              "0               개념적으로 크림 스키밍은 제품과 지리라는 두 가지 기본 차원을 가지고 있다   \n",
              "1       시즌 중에 알고 있는 거 알아 네 레벨에서 다음 레벨로 잃어버리는 거야 브레이브스가...   \n",
              "2                        우리 번호 중 하나가 당신의 지시를 세밀하게 수행할 것이다   \n",
              "3                              어떻게 아세요 이 모든 것이 다시 그들의 정보다   \n",
              "4       그래 만약 네가 테니스화 몇 개를 사러 간다면 나는 왜 그들이 100달러대에서 오르...   \n",
              "...                                                   ...   \n",
              "550147                                   네 명의 더러운 맨발의 아이들   \n",
              "550148                                   네 명의 더러운 맨발의 아이들   \n",
              "550149               한 남자가 아름다운 푸른 물에서 바디슈트를 입고 서핑을 하고 있다   \n",
              "550150               한 남자가 아름다운 푸른 물에서 바디슈트를 입고 서핑을 하고 있다   \n",
              "550151               한 남자가 아름다운 푸른 물에서 바디슈트를 입고 서핑을 하고 있다   \n",
              "\n",
              "                                   sentence2     gold_label  \n",
              "0                 제품과 지리학은 크림 스키밍을 작동시키는 것이다        neutral  \n",
              "1                  사람들이 기억하면 다음 수준으로 물건을 잃는다     entailment  \n",
              "2        우리 팀의 일원이 당신의 명령을 엄청나게 정확하게 실행할 것이다     entailment  \n",
              "3                              이 정보는 그들의 것이다     entailment  \n",
              "4                             테니스화의 가격은 다양하다        neutral  \n",
              "...                                      ...            ...  \n",
              "550147             4명의 아이들이 가장 깨끗한 발로 상을 받았다  contradiction  \n",
              "550148  네 명의 노숙자 아이들이 신발을 도둑맞아서 그들의 발이 더러워졌다        neutral  \n",
              "550149           바디슈트를 입은 남자가 서핑 대회에 참가하고 있다        neutral  \n",
              "550150           비즈니스 슈트를 입은 남자가 이사회로 향하고 있다  contradiction  \n",
              "550151  아름다운 푸른 물 위에는 바디슈트를 입은 남자가 서핑을 하고 있다     entailment  \n",
              "\n",
              "[935646 rows x 3 columns]"
            ],
            "text/html": [
              "\n",
              "  <div id=\"df-e238076e-81dc-438d-b8c9-95d0eec857e9\">\n",
              "    <div class=\"colab-df-container\">\n",
              "      <div>\n",
              "<style scoped>\n",
              "    .dataframe tbody tr th:only-of-type {\n",
              "        vertical-align: middle;\n",
              "    }\n",
              "\n",
              "    .dataframe tbody tr th {\n",
              "        vertical-align: top;\n",
              "    }\n",
              "\n",
              "    .dataframe thead th {\n",
              "        text-align: right;\n",
              "    }\n",
              "</style>\n",
              "<table border=\"1\" class=\"dataframe\">\n",
              "  <thead>\n",
              "    <tr style=\"text-align: right;\">\n",
              "      <th></th>\n",
              "      <th>sentence1</th>\n",
              "      <th>sentence2</th>\n",
              "      <th>gold_label</th>\n",
              "    </tr>\n",
              "  </thead>\n",
              "  <tbody>\n",
              "    <tr>\n",
              "      <th>0</th>\n",
              "      <td>개념적으로 크림 스키밍은 제품과 지리라는 두 가지 기본 차원을 가지고 있다</td>\n",
              "      <td>제품과 지리학은 크림 스키밍을 작동시키는 것이다</td>\n",
              "      <td>neutral</td>\n",
              "    </tr>\n",
              "    <tr>\n",
              "      <th>1</th>\n",
              "      <td>시즌 중에 알고 있는 거 알아 네 레벨에서 다음 레벨로 잃어버리는 거야 브레이브스가...</td>\n",
              "      <td>사람들이 기억하면 다음 수준으로 물건을 잃는다</td>\n",
              "      <td>entailment</td>\n",
              "    </tr>\n",
              "    <tr>\n",
              "      <th>2</th>\n",
              "      <td>우리 번호 중 하나가 당신의 지시를 세밀하게 수행할 것이다</td>\n",
              "      <td>우리 팀의 일원이 당신의 명령을 엄청나게 정확하게 실행할 것이다</td>\n",
              "      <td>entailment</td>\n",
              "    </tr>\n",
              "    <tr>\n",
              "      <th>3</th>\n",
              "      <td>어떻게 아세요 이 모든 것이 다시 그들의 정보다</td>\n",
              "      <td>이 정보는 그들의 것이다</td>\n",
              "      <td>entailment</td>\n",
              "    </tr>\n",
              "    <tr>\n",
              "      <th>4</th>\n",
              "      <td>그래 만약 네가 테니스화 몇 개를 사러 간다면 나는 왜 그들이 100달러대에서 오르...</td>\n",
              "      <td>테니스화의 가격은 다양하다</td>\n",
              "      <td>neutral</td>\n",
              "    </tr>\n",
              "    <tr>\n",
              "      <th>...</th>\n",
              "      <td>...</td>\n",
              "      <td>...</td>\n",
              "      <td>...</td>\n",
              "    </tr>\n",
              "    <tr>\n",
              "      <th>550147</th>\n",
              "      <td>네 명의 더러운 맨발의 아이들</td>\n",
              "      <td>4명의 아이들이 가장 깨끗한 발로 상을 받았다</td>\n",
              "      <td>contradiction</td>\n",
              "    </tr>\n",
              "    <tr>\n",
              "      <th>550148</th>\n",
              "      <td>네 명의 더러운 맨발의 아이들</td>\n",
              "      <td>네 명의 노숙자 아이들이 신발을 도둑맞아서 그들의 발이 더러워졌다</td>\n",
              "      <td>neutral</td>\n",
              "    </tr>\n",
              "    <tr>\n",
              "      <th>550149</th>\n",
              "      <td>한 남자가 아름다운 푸른 물에서 바디슈트를 입고 서핑을 하고 있다</td>\n",
              "      <td>바디슈트를 입은 남자가 서핑 대회에 참가하고 있다</td>\n",
              "      <td>neutral</td>\n",
              "    </tr>\n",
              "    <tr>\n",
              "      <th>550150</th>\n",
              "      <td>한 남자가 아름다운 푸른 물에서 바디슈트를 입고 서핑을 하고 있다</td>\n",
              "      <td>비즈니스 슈트를 입은 남자가 이사회로 향하고 있다</td>\n",
              "      <td>contradiction</td>\n",
              "    </tr>\n",
              "    <tr>\n",
              "      <th>550151</th>\n",
              "      <td>한 남자가 아름다운 푸른 물에서 바디슈트를 입고 서핑을 하고 있다</td>\n",
              "      <td>아름다운 푸른 물 위에는 바디슈트를 입은 남자가 서핑을 하고 있다</td>\n",
              "      <td>entailment</td>\n",
              "    </tr>\n",
              "  </tbody>\n",
              "</table>\n",
              "<p>935646 rows × 3 columns</p>\n",
              "</div>\n",
              "      <button class=\"colab-df-convert\" onclick=\"convertToInteractive('df-e238076e-81dc-438d-b8c9-95d0eec857e9')\"\n",
              "              title=\"Convert this dataframe to an interactive table.\"\n",
              "              style=\"display:none;\">\n",
              "        \n",
              "  <svg xmlns=\"http://www.w3.org/2000/svg\" height=\"24px\"viewBox=\"0 0 24 24\"\n",
              "       width=\"24px\">\n",
              "    <path d=\"M0 0h24v24H0V0z\" fill=\"none\"/>\n",
              "    <path d=\"M18.56 5.44l.94 2.06.94-2.06 2.06-.94-2.06-.94-.94-2.06-.94 2.06-2.06.94zm-11 1L8.5 8.5l.94-2.06 2.06-.94-2.06-.94L8.5 2.5l-.94 2.06-2.06.94zm10 10l.94 2.06.94-2.06 2.06-.94-2.06-.94-.94-2.06-.94 2.06-2.06.94z\"/><path d=\"M17.41 7.96l-1.37-1.37c-.4-.4-.92-.59-1.43-.59-.52 0-1.04.2-1.43.59L10.3 9.45l-7.72 7.72c-.78.78-.78 2.05 0 2.83L4 21.41c.39.39.9.59 1.41.59.51 0 1.02-.2 1.41-.59l7.78-7.78 2.81-2.81c.8-.78.8-2.07 0-2.86zM5.41 20L4 18.59l7.72-7.72 1.47 1.35L5.41 20z\"/>\n",
              "  </svg>\n",
              "      </button>\n",
              "      \n",
              "  <style>\n",
              "    .colab-df-container {\n",
              "      display:flex;\n",
              "      flex-wrap:wrap;\n",
              "      gap: 12px;\n",
              "    }\n",
              "\n",
              "    .colab-df-convert {\n",
              "      background-color: #E8F0FE;\n",
              "      border: none;\n",
              "      border-radius: 50%;\n",
              "      cursor: pointer;\n",
              "      display: none;\n",
              "      fill: #1967D2;\n",
              "      height: 32px;\n",
              "      padding: 0 0 0 0;\n",
              "      width: 32px;\n",
              "    }\n",
              "\n",
              "    .colab-df-convert:hover {\n",
              "      background-color: #E2EBFA;\n",
              "      box-shadow: 0px 1px 2px rgba(60, 64, 67, 0.3), 0px 1px 3px 1px rgba(60, 64, 67, 0.15);\n",
              "      fill: #174EA6;\n",
              "    }\n",
              "\n",
              "    [theme=dark] .colab-df-convert {\n",
              "      background-color: #3B4455;\n",
              "      fill: #D2E3FC;\n",
              "    }\n",
              "\n",
              "    [theme=dark] .colab-df-convert:hover {\n",
              "      background-color: #434B5C;\n",
              "      box-shadow: 0px 1px 3px 1px rgba(0, 0, 0, 0.15);\n",
              "      filter: drop-shadow(0px 1px 2px rgba(0, 0, 0, 0.3));\n",
              "      fill: #FFFFFF;\n",
              "    }\n",
              "  </style>\n",
              "\n",
              "      <script>\n",
              "        const buttonEl =\n",
              "          document.querySelector('#df-e238076e-81dc-438d-b8c9-95d0eec857e9 button.colab-df-convert');\n",
              "        buttonEl.style.display =\n",
              "          google.colab.kernel.accessAllowed ? 'block' : 'none';\n",
              "\n",
              "        async function convertToInteractive(key) {\n",
              "          const element = document.querySelector('#df-e238076e-81dc-438d-b8c9-95d0eec857e9');\n",
              "          const dataTable =\n",
              "            await google.colab.kernel.invokeFunction('convertToInteractive',\n",
              "                                                     [key], {});\n",
              "          if (!dataTable) return;\n",
              "\n",
              "          const docLinkHtml = 'Like what you see? Visit the ' +\n",
              "            '<a target=\"_blank\" href=https://colab.research.google.com/notebooks/data_table.ipynb>data table notebook</a>'\n",
              "            + ' to learn more about interactive tables.';\n",
              "          element.innerHTML = '';\n",
              "          dataTable['output_type'] = 'display_data';\n",
              "          await google.colab.output.renderOutput(dataTable, element);\n",
              "          const docLink = document.createElement('div');\n",
              "          docLink.innerHTML = docLinkHtml;\n",
              "          element.appendChild(docLink);\n",
              "        }\n",
              "      </script>\n",
              "    </div>\n",
              "  </div>\n",
              "  "
            ]
          },
          "metadata": {},
          "execution_count": 12
        }
      ]
    },
    {
      "cell_type": "code",
      "source": [
        "train_df.to_csv('train_df.csv',index=False)"
      ],
      "metadata": {
        "id": "OK7VYjEVpoCO"
      },
      "execution_count": null,
      "outputs": []
    },
    {
      "cell_type": "code",
      "source": [
        "test_df=pd.read_csv('data_in/KorNLUDatasets/KorNLI/xnli.dev.ko.tsv',sep='\\t',error_bad_lines=False)\n",
        "test_df"
      ],
      "metadata": {
        "colab": {
          "base_uri": "https://localhost:8080/",
          "height": 691
        },
        "id": "W7Hy6Vpcz3fY",
        "outputId": "e9a7e5f6-ea31-49aa-94a5-2d4d8f995d7c"
      },
      "execution_count": null,
      "outputs": [
        {
          "output_type": "stream",
          "name": "stderr",
          "text": [
            "<ipython-input-13-b7bf7ea79b21>:1: FutureWarning: The error_bad_lines argument has been deprecated and will be removed in a future version. Use on_bad_lines in the future.\n",
            "\n",
            "\n",
            "  test_df=pd.read_csv('data_in/KorNLUDatasets/KorNLI/xnli.dev.ko.tsv',sep='\\t',error_bad_lines=False)\n"
          ]
        },
        {
          "output_type": "execute_result",
          "data": {
            "text/plain": [
              "                                              sentence1  \\\n",
              "0                              그리고 그가 말했다, \"엄마, 저 왔어요.\"   \n",
              "1                              그리고 그가 말했다, \"엄마, 저 왔어요.\"   \n",
              "2                              그리고 그가 말했다, \"엄마, 저 왔어요.\"   \n",
              "3     내가 무엇을 위해 가고 있는지 또는 어떤 것을 위해 있는지 몰랐기 때문에 워싱턴의 ...   \n",
              "4     내가 무엇을 위해 가고 있는지 또는 어떤 것을 위해 있는지 몰랐기 때문에 워싱턴의 ...   \n",
              "...                                                 ...   \n",
              "1566     피스티는 피즐처럼 중간 영어의 피스틴으로 시작되어 방귀를 뀌기 위해 주먹을 쥐었다.   \n",
              "1567     피스티는 피즐처럼 중간 영어의 피스틴으로 시작되어 방귀를 뀌기 위해 주먹을 쥐었다.   \n",
              "1568                   진술이 더 나은 반면, 대답은 완성의 정신적 그림을 준다.   \n",
              "1569                   진술이 더 나은 반면, 대답은 완성의 정신적 그림을 준다.   \n",
              "1570                   진술이 더 나은 반면, 대답은 완성의 정신적 그림을 준다.   \n",
              "\n",
              "                                              sentence2     gold_label  \n",
              "0                     그는 학교 버스가 그를 내려주자마자 엄마에게 전화를 걸었다.        neutral  \n",
              "1                                       그는 한마디도 하지 않았다.  contradiction  \n",
              "2                                   그는 엄마에게 집에 갔다고 말했다.     entailment  \n",
              "3     나는 워싱턴에 가본 적이 없어서 거기 배정을 받았을 때 그 장소를 찾으려다가 길을 ...        neutral  \n",
              "4                  워싱턴으로 진군하면서 해야 할 일이 무엇인지 정확히 알고 있었다.  contradiction  \n",
              "...                                                 ...            ...  \n",
              "1566                            Fiesty는 100년 동안 존재해 왔다.        neutral  \n",
              "1567                                Fiesty는 주먹질과는 무관하다.  contradiction  \n",
              "1568                                진술은 더 자세한 내용을 알려준다.        neutral  \n",
              "1569                                   진술이 더 나은 것은 아니다.  contradiction  \n",
              "1570                                          진술이 더 좋다.     entailment  \n",
              "\n",
              "[1571 rows x 3 columns]"
            ],
            "text/html": [
              "\n",
              "  <div id=\"df-6372e7f6-4d10-4527-94aa-5806f74187e1\">\n",
              "    <div class=\"colab-df-container\">\n",
              "      <div>\n",
              "<style scoped>\n",
              "    .dataframe tbody tr th:only-of-type {\n",
              "        vertical-align: middle;\n",
              "    }\n",
              "\n",
              "    .dataframe tbody tr th {\n",
              "        vertical-align: top;\n",
              "    }\n",
              "\n",
              "    .dataframe thead th {\n",
              "        text-align: right;\n",
              "    }\n",
              "</style>\n",
              "<table border=\"1\" class=\"dataframe\">\n",
              "  <thead>\n",
              "    <tr style=\"text-align: right;\">\n",
              "      <th></th>\n",
              "      <th>sentence1</th>\n",
              "      <th>sentence2</th>\n",
              "      <th>gold_label</th>\n",
              "    </tr>\n",
              "  </thead>\n",
              "  <tbody>\n",
              "    <tr>\n",
              "      <th>0</th>\n",
              "      <td>그리고 그가 말했다, \"엄마, 저 왔어요.\"</td>\n",
              "      <td>그는 학교 버스가 그를 내려주자마자 엄마에게 전화를 걸었다.</td>\n",
              "      <td>neutral</td>\n",
              "    </tr>\n",
              "    <tr>\n",
              "      <th>1</th>\n",
              "      <td>그리고 그가 말했다, \"엄마, 저 왔어요.\"</td>\n",
              "      <td>그는 한마디도 하지 않았다.</td>\n",
              "      <td>contradiction</td>\n",
              "    </tr>\n",
              "    <tr>\n",
              "      <th>2</th>\n",
              "      <td>그리고 그가 말했다, \"엄마, 저 왔어요.\"</td>\n",
              "      <td>그는 엄마에게 집에 갔다고 말했다.</td>\n",
              "      <td>entailment</td>\n",
              "    </tr>\n",
              "    <tr>\n",
              "      <th>3</th>\n",
              "      <td>내가 무엇을 위해 가고 있는지 또는 어떤 것을 위해 있는지 몰랐기 때문에 워싱턴의 ...</td>\n",
              "      <td>나는 워싱턴에 가본 적이 없어서 거기 배정을 받았을 때 그 장소를 찾으려다가 길을 ...</td>\n",
              "      <td>neutral</td>\n",
              "    </tr>\n",
              "    <tr>\n",
              "      <th>4</th>\n",
              "      <td>내가 무엇을 위해 가고 있는지 또는 어떤 것을 위해 있는지 몰랐기 때문에 워싱턴의 ...</td>\n",
              "      <td>워싱턴으로 진군하면서 해야 할 일이 무엇인지 정확히 알고 있었다.</td>\n",
              "      <td>contradiction</td>\n",
              "    </tr>\n",
              "    <tr>\n",
              "      <th>...</th>\n",
              "      <td>...</td>\n",
              "      <td>...</td>\n",
              "      <td>...</td>\n",
              "    </tr>\n",
              "    <tr>\n",
              "      <th>1566</th>\n",
              "      <td>피스티는 피즐처럼 중간 영어의 피스틴으로 시작되어 방귀를 뀌기 위해 주먹을 쥐었다.</td>\n",
              "      <td>Fiesty는 100년 동안 존재해 왔다.</td>\n",
              "      <td>neutral</td>\n",
              "    </tr>\n",
              "    <tr>\n",
              "      <th>1567</th>\n",
              "      <td>피스티는 피즐처럼 중간 영어의 피스틴으로 시작되어 방귀를 뀌기 위해 주먹을 쥐었다.</td>\n",
              "      <td>Fiesty는 주먹질과는 무관하다.</td>\n",
              "      <td>contradiction</td>\n",
              "    </tr>\n",
              "    <tr>\n",
              "      <th>1568</th>\n",
              "      <td>진술이 더 나은 반면, 대답은 완성의 정신적 그림을 준다.</td>\n",
              "      <td>진술은 더 자세한 내용을 알려준다.</td>\n",
              "      <td>neutral</td>\n",
              "    </tr>\n",
              "    <tr>\n",
              "      <th>1569</th>\n",
              "      <td>진술이 더 나은 반면, 대답은 완성의 정신적 그림을 준다.</td>\n",
              "      <td>진술이 더 나은 것은 아니다.</td>\n",
              "      <td>contradiction</td>\n",
              "    </tr>\n",
              "    <tr>\n",
              "      <th>1570</th>\n",
              "      <td>진술이 더 나은 반면, 대답은 완성의 정신적 그림을 준다.</td>\n",
              "      <td>진술이 더 좋다.</td>\n",
              "      <td>entailment</td>\n",
              "    </tr>\n",
              "  </tbody>\n",
              "</table>\n",
              "<p>1571 rows × 3 columns</p>\n",
              "</div>\n",
              "      <button class=\"colab-df-convert\" onclick=\"convertToInteractive('df-6372e7f6-4d10-4527-94aa-5806f74187e1')\"\n",
              "              title=\"Convert this dataframe to an interactive table.\"\n",
              "              style=\"display:none;\">\n",
              "        \n",
              "  <svg xmlns=\"http://www.w3.org/2000/svg\" height=\"24px\"viewBox=\"0 0 24 24\"\n",
              "       width=\"24px\">\n",
              "    <path d=\"M0 0h24v24H0V0z\" fill=\"none\"/>\n",
              "    <path d=\"M18.56 5.44l.94 2.06.94-2.06 2.06-.94-2.06-.94-.94-2.06-.94 2.06-2.06.94zm-11 1L8.5 8.5l.94-2.06 2.06-.94-2.06-.94L8.5 2.5l-.94 2.06-2.06.94zm10 10l.94 2.06.94-2.06 2.06-.94-2.06-.94-.94-2.06-.94 2.06-2.06.94z\"/><path d=\"M17.41 7.96l-1.37-1.37c-.4-.4-.92-.59-1.43-.59-.52 0-1.04.2-1.43.59L10.3 9.45l-7.72 7.72c-.78.78-.78 2.05 0 2.83L4 21.41c.39.39.9.59 1.41.59.51 0 1.02-.2 1.41-.59l7.78-7.78 2.81-2.81c.8-.78.8-2.07 0-2.86zM5.41 20L4 18.59l7.72-7.72 1.47 1.35L5.41 20z\"/>\n",
              "  </svg>\n",
              "      </button>\n",
              "      \n",
              "  <style>\n",
              "    .colab-df-container {\n",
              "      display:flex;\n",
              "      flex-wrap:wrap;\n",
              "      gap: 12px;\n",
              "    }\n",
              "\n",
              "    .colab-df-convert {\n",
              "      background-color: #E8F0FE;\n",
              "      border: none;\n",
              "      border-radius: 50%;\n",
              "      cursor: pointer;\n",
              "      display: none;\n",
              "      fill: #1967D2;\n",
              "      height: 32px;\n",
              "      padding: 0 0 0 0;\n",
              "      width: 32px;\n",
              "    }\n",
              "\n",
              "    .colab-df-convert:hover {\n",
              "      background-color: #E2EBFA;\n",
              "      box-shadow: 0px 1px 2px rgba(60, 64, 67, 0.3), 0px 1px 3px 1px rgba(60, 64, 67, 0.15);\n",
              "      fill: #174EA6;\n",
              "    }\n",
              "\n",
              "    [theme=dark] .colab-df-convert {\n",
              "      background-color: #3B4455;\n",
              "      fill: #D2E3FC;\n",
              "    }\n",
              "\n",
              "    [theme=dark] .colab-df-convert:hover {\n",
              "      background-color: #434B5C;\n",
              "      box-shadow: 0px 1px 3px 1px rgba(0, 0, 0, 0.15);\n",
              "      filter: drop-shadow(0px 1px 2px rgba(0, 0, 0, 0.3));\n",
              "      fill: #FFFFFF;\n",
              "    }\n",
              "  </style>\n",
              "\n",
              "      <script>\n",
              "        const buttonEl =\n",
              "          document.querySelector('#df-6372e7f6-4d10-4527-94aa-5806f74187e1 button.colab-df-convert');\n",
              "        buttonEl.style.display =\n",
              "          google.colab.kernel.accessAllowed ? 'block' : 'none';\n",
              "\n",
              "        async function convertToInteractive(key) {\n",
              "          const element = document.querySelector('#df-6372e7f6-4d10-4527-94aa-5806f74187e1');\n",
              "          const dataTable =\n",
              "            await google.colab.kernel.invokeFunction('convertToInteractive',\n",
              "                                                     [key], {});\n",
              "          if (!dataTable) return;\n",
              "\n",
              "          const docLinkHtml = 'Like what you see? Visit the ' +\n",
              "            '<a target=\"_blank\" href=https://colab.research.google.com/notebooks/data_table.ipynb>data table notebook</a>'\n",
              "            + ' to learn more about interactive tables.';\n",
              "          element.innerHTML = '';\n",
              "          dataTable['output_type'] = 'display_data';\n",
              "          await google.colab.output.renderOutput(dataTable, element);\n",
              "          const docLink = document.createElement('div');\n",
              "          docLink.innerHTML = docLinkHtml;\n",
              "          element.appendChild(docLink);\n",
              "        }\n",
              "      </script>\n",
              "    </div>\n",
              "  </div>\n",
              "  "
            ]
          },
          "metadata": {},
          "execution_count": 13
        }
      ]
    },
    {
      "cell_type": "code",
      "source": [
        "test_df.to_csv('test_df.csv',index=False)"
      ],
      "metadata": {
        "id": "hgYiN9sP0_fp"
      },
      "execution_count": null,
      "outputs": []
    },
    {
      "cell_type": "markdown",
      "source": [
        "# BERT 입력 데이터 준비"
      ],
      "metadata": {
        "id": "I9fMQliwq_5M"
      }
    },
    {
      "cell_type": "markdown",
      "source": [
        "- BertTokenizer를 이용하여 3개의 입력 준비\n",
        "1. input_ids / 2. padding_masks / 3. token_type_ids\n",
        "- 동시에 label도 같이 저장하여\n",
        "- torch.Tensor 형태로 저장"
      ],
      "metadata": {
        "id": "cTZ0PwPnraG_"
      }
    },
    {
      "cell_type": "markdown",
      "source": [
        "### Transformers 라이브러리 불러오기"
      ],
      "metadata": {
        "id": "SI6Ch2_Mt_BX"
      }
    },
    {
      "cell_type": "code",
      "source": [
        "ls"
      ],
      "metadata": {
        "colab": {
          "base_uri": "https://localhost:8080/"
        },
        "id": "Zu7sIo2Bp-5L",
        "outputId": "4979bb74-f085-4ab6-e406-1f05aa5a1742"
      },
      "execution_count": 1,
      "outputs": [
        {
          "output_type": "stream",
          "name": "stdout",
          "text": [
            "\u001b[0m\u001b[01;34mdrive\u001b[0m/  \u001b[01;34msample_data\u001b[0m/\n"
          ]
        }
      ]
    },
    {
      "cell_type": "code",
      "source": [
        "pip install transformers"
      ],
      "metadata": {
        "id": "dc9J4ZEttY81",
        "colab": {
          "base_uri": "https://localhost:8080/"
        },
        "outputId": "8527a72e-082e-4465-e9ea-0cace808645e"
      },
      "execution_count": 2,
      "outputs": [
        {
          "output_type": "stream",
          "name": "stdout",
          "text": [
            "Looking in indexes: https://pypi.org/simple, https://us-python.pkg.dev/colab-wheels/public/simple/\n",
            "Collecting transformers\n",
            "  Downloading transformers-4.30.2-py3-none-any.whl (7.2 MB)\n",
            "\u001b[2K     \u001b[90m━━━━━━━━━━━━━━━━━━━━━━━━━━━━━━━━━━━━━━━━\u001b[0m \u001b[32m7.2/7.2 MB\u001b[0m \u001b[31m57.2 MB/s\u001b[0m eta \u001b[36m0:00:00\u001b[0m\n",
            "\u001b[?25hRequirement already satisfied: filelock in /usr/local/lib/python3.10/dist-packages (from transformers) (3.12.2)\n",
            "Collecting huggingface-hub<1.0,>=0.14.1 (from transformers)\n",
            "  Downloading huggingface_hub-0.15.1-py3-none-any.whl (236 kB)\n",
            "\u001b[2K     \u001b[90m━━━━━━━━━━━━━━━━━━━━━━━━━━━━━━━━━━━━━━\u001b[0m \u001b[32m236.8/236.8 kB\u001b[0m \u001b[31m29.8 MB/s\u001b[0m eta \u001b[36m0:00:00\u001b[0m\n",
            "\u001b[?25hRequirement already satisfied: numpy>=1.17 in /usr/local/lib/python3.10/dist-packages (from transformers) (1.22.4)\n",
            "Requirement already satisfied: packaging>=20.0 in /usr/local/lib/python3.10/dist-packages (from transformers) (23.1)\n",
            "Requirement already satisfied: pyyaml>=5.1 in /usr/local/lib/python3.10/dist-packages (from transformers) (6.0)\n",
            "Requirement already satisfied: regex!=2019.12.17 in /usr/local/lib/python3.10/dist-packages (from transformers) (2022.10.31)\n",
            "Requirement already satisfied: requests in /usr/local/lib/python3.10/dist-packages (from transformers) (2.27.1)\n",
            "Collecting tokenizers!=0.11.3,<0.14,>=0.11.1 (from transformers)\n",
            "  Downloading tokenizers-0.13.3-cp310-cp310-manylinux_2_17_x86_64.manylinux2014_x86_64.whl (7.8 MB)\n",
            "\u001b[2K     \u001b[90m━━━━━━━━━━━━━━━━━━━━━━━━━━━━━━━━━━━━━━━━\u001b[0m \u001b[32m7.8/7.8 MB\u001b[0m \u001b[31m98.8 MB/s\u001b[0m eta \u001b[36m0:00:00\u001b[0m\n",
            "\u001b[?25hCollecting safetensors>=0.3.1 (from transformers)\n",
            "  Downloading safetensors-0.3.1-cp310-cp310-manylinux_2_17_x86_64.manylinux2014_x86_64.whl (1.3 MB)\n",
            "\u001b[2K     \u001b[90m━━━━━━━━━━━━━━━━━━━━━━━━━━━━━━━━━━━━━━━━\u001b[0m \u001b[32m1.3/1.3 MB\u001b[0m \u001b[31m79.5 MB/s\u001b[0m eta \u001b[36m0:00:00\u001b[0m\n",
            "\u001b[?25hRequirement already satisfied: tqdm>=4.27 in /usr/local/lib/python3.10/dist-packages (from transformers) (4.65.0)\n",
            "Requirement already satisfied: fsspec in /usr/local/lib/python3.10/dist-packages (from huggingface-hub<1.0,>=0.14.1->transformers) (2023.6.0)\n",
            "Requirement already satisfied: typing-extensions>=3.7.4.3 in /usr/local/lib/python3.10/dist-packages (from huggingface-hub<1.0,>=0.14.1->transformers) (4.6.3)\n",
            "Requirement already satisfied: urllib3<1.27,>=1.21.1 in /usr/local/lib/python3.10/dist-packages (from requests->transformers) (1.26.16)\n",
            "Requirement already satisfied: certifi>=2017.4.17 in /usr/local/lib/python3.10/dist-packages (from requests->transformers) (2023.5.7)\n",
            "Requirement already satisfied: charset-normalizer~=2.0.0 in /usr/local/lib/python3.10/dist-packages (from requests->transformers) (2.0.12)\n",
            "Requirement already satisfied: idna<4,>=2.5 in /usr/local/lib/python3.10/dist-packages (from requests->transformers) (3.4)\n",
            "Installing collected packages: tokenizers, safetensors, huggingface-hub, transformers\n",
            "Successfully installed huggingface-hub-0.15.1 safetensors-0.3.1 tokenizers-0.13.3 transformers-4.30.2\n"
          ]
        }
      ]
    },
    {
      "cell_type": "code",
      "source": [
        "import transformers"
      ],
      "metadata": {
        "id": "63HRWeLx3Mbb"
      },
      "execution_count": 3,
      "outputs": []
    },
    {
      "cell_type": "code",
      "source": [
        "import numpy as np\n",
        "import pandas as pd\n",
        "from transformers import *"
      ],
      "metadata": {
        "id": "DpFxew7Jtx2z",
        "colab": {
          "base_uri": "https://localhost:8080/"
        },
        "outputId": "1671d7d6-c5d7-4e53-d375-a1135332aaee"
      },
      "execution_count": 4,
      "outputs": [
        {
          "output_type": "stream",
          "name": "stderr",
          "text": [
            "/usr/local/lib/python3.10/dist-packages/transformers/generation_utils.py:24: FutureWarning: Importing `GenerationMixin` from `src/transformers/generation_utils.py` is deprecated and will be removed in Transformers v5. Import as `from transformers import GenerationMixin` instead.\n",
            "  warnings.warn(\n",
            "/usr/local/lib/python3.10/dist-packages/transformers/generation_tf_utils.py:24: FutureWarning: Importing `TFGenerationMixin` from `src/transformers/generation_tf_utils.py` is deprecated and will be removed in Transformers v5. Import as `from transformers import TFGenerationMixin` instead.\n",
            "  warnings.warn(\n",
            "/usr/local/lib/python3.10/dist-packages/transformers/generation_flax_utils.py:24: FutureWarning: Importing `FlaxGenerationMixin` from `src/transformers/generation_flax_utils.py` is deprecated and will be removed in Transformers v5. Import as `from transformers import FlaxGenerationMixin` instead.\n",
            "  warnings.warn(\n",
            "Xformers is not installed correctly. If you want to use memory_efficient_attention to accelerate training use the following command to install Xformers\n",
            "pip install xformers.\n"
          ]
        }
      ]
    },
    {
      "cell_type": "code",
      "source": [
        "tokenizer=BertTokenizer.from_pretrained('bert-base-multilingual-cased')"
      ],
      "metadata": {
        "colab": {
          "base_uri": "https://localhost:8080/",
          "height": 781,
          "referenced_widgets": [
            "f9ab49b1096f45ff9bf424848924163c",
            "4497a157dca6431793254e3f58a550d4",
            "8bf8c050ceaf46f4b3c4d2282e656cd4",
            "2cf7dfc91be642139133d83333202d1a",
            "5ee0480ed27a416c9cee0daa9b33534e",
            "38a3f73606c049d6a2de92757f31c16c",
            "fc8eb8405e61493683735d816fbac7dc",
            "02de298151fe4136b0fbdb64f16cc29b",
            "543b0ae0002c42e2a839ade9e59a657c",
            "237b7663f5dc418280ac45502912e477",
            "7d6a5db9d4c3435b8c609bcfcf8e6424",
            "68dbc8517b8045c3877ba73dfed8598e",
            "c94fd56a4ce942aeaeaa62fe9d099b10",
            "3a55269da8164b0ca6b45ccea45471b5",
            "fa30711dbadd4d72b967569e1719d020",
            "3d8234c61d204cca819b1d1f0466b8cd",
            "8ab9c3e2dd7d4142bb053b39d296070a",
            "2d098b1752164e02b0a45c720b1e15a2",
            "99df2e00be954d2ab53b2b52d3a4ec9a",
            "49f1173595d4495d940c929ab6bca86f",
            "37152fa5a1de48799c735c25de513a8b",
            "6fda848aa63e46e29f26b469cbc7a544",
            "401ea460ab5547a19e7d055cf2d1ca70",
            "9b5a2255e78045b8a3cbeb136be2fd37",
            "e55f3fccc65244c5bba5efea01ae802b",
            "e8049a4c998647c299dca27b00758d41",
            "5648e7eb52da456fb25860bfaab1a3ff",
            "d050cd1685bc41729f28e04477c4f8a5",
            "91272755b749489ea5847c428cc92651",
            "5ce25ec06f904226a2e20657ca9046c2",
            "7487ea0908bd4969a89aa55923afaad8",
            "fdf9c8d29aa342a380dfe995c79969b7",
            "f6707eb15c4448209ef669b906cb82c0"
          ]
        },
        "id": "6WL9avUit-gp",
        "outputId": "4160c572-4902-4c5e-d915-bbf4b8792142"
      },
      "execution_count": 5,
      "outputs": [
        {
          "output_type": "display_data",
          "data": {
            "text/plain": [
              "Downloading (…)solve/main/vocab.txt: 0.00B [00:00, ?B/s]"
            ],
            "application/vnd.jupyter.widget-view+json": {
              "version_major": 2,
              "version_minor": 0,
              "model_id": "f9ab49b1096f45ff9bf424848924163c"
            }
          },
          "metadata": {}
        },
        {
          "output_type": "display_data",
          "data": {
            "text/plain": [
              "Downloading (…)okenizer_config.json:   0%|          | 0.00/29.0 [00:00<?, ?B/s]"
            ],
            "application/vnd.jupyter.widget-view+json": {
              "version_major": 2,
              "version_minor": 0,
              "model_id": "68dbc8517b8045c3877ba73dfed8598e"
            }
          },
          "metadata": {}
        },
        {
          "output_type": "stream",
          "name": "stderr",
          "text": [
            "loading file vocab.txt from cache at /root/.cache/huggingface/hub/models--bert-base-multilingual-cased/snapshots/fdfce55e83dbed325647a63e7e1f5de19f0382ba/vocab.txt\n",
            "loading file added_tokens.json from cache at None\n",
            "loading file special_tokens_map.json from cache at None\n",
            "loading file tokenizer_config.json from cache at /root/.cache/huggingface/hub/models--bert-base-multilingual-cased/snapshots/fdfce55e83dbed325647a63e7e1f5de19f0382ba/tokenizer_config.json\n"
          ]
        },
        {
          "output_type": "display_data",
          "data": {
            "text/plain": [
              "Downloading (…)lve/main/config.json:   0%|          | 0.00/625 [00:00<?, ?B/s]"
            ],
            "application/vnd.jupyter.widget-view+json": {
              "version_major": 2,
              "version_minor": 0,
              "model_id": "401ea460ab5547a19e7d055cf2d1ca70"
            }
          },
          "metadata": {}
        },
        {
          "output_type": "stream",
          "name": "stderr",
          "text": [
            "loading configuration file config.json from cache at /root/.cache/huggingface/hub/models--bert-base-multilingual-cased/snapshots/fdfce55e83dbed325647a63e7e1f5de19f0382ba/config.json\n",
            "Model config BertConfig {\n",
            "  \"_name_or_path\": \"bert-base-multilingual-cased\",\n",
            "  \"architectures\": [\n",
            "    \"BertForMaskedLM\"\n",
            "  ],\n",
            "  \"attention_probs_dropout_prob\": 0.1,\n",
            "  \"classifier_dropout\": null,\n",
            "  \"directionality\": \"bidi\",\n",
            "  \"hidden_act\": \"gelu\",\n",
            "  \"hidden_dropout_prob\": 0.1,\n",
            "  \"hidden_size\": 768,\n",
            "  \"initializer_range\": 0.02,\n",
            "  \"intermediate_size\": 3072,\n",
            "  \"layer_norm_eps\": 1e-12,\n",
            "  \"max_position_embeddings\": 512,\n",
            "  \"model_type\": \"bert\",\n",
            "  \"num_attention_heads\": 12,\n",
            "  \"num_hidden_layers\": 12,\n",
            "  \"pad_token_id\": 0,\n",
            "  \"pooler_fc_size\": 768,\n",
            "  \"pooler_num_attention_heads\": 12,\n",
            "  \"pooler_num_fc_layers\": 3,\n",
            "  \"pooler_size_per_head\": 128,\n",
            "  \"pooler_type\": \"first_token_transform\",\n",
            "  \"position_embedding_type\": \"absolute\",\n",
            "  \"transformers_version\": \"4.30.2\",\n",
            "  \"type_vocab_size\": 2,\n",
            "  \"use_cache\": true,\n",
            "  \"vocab_size\": 119547\n",
            "}\n",
            "\n"
          ]
        }
      ]
    },
    {
      "cell_type": "code",
      "source": [
        "cache_dir = '.cache/huggingface/hub/models--bert-base-multilingual-cased/snapshots/fdfce55e83dbed325647a63e7e1f5de19f0382ba'"
      ],
      "metadata": {
        "id": "s_sKLH1n-D7M"
      },
      "execution_count": 6,
      "outputs": []
    },
    {
      "cell_type": "markdown",
      "source": [
        "### BertTokenizer 사용"
      ],
      "metadata": {
        "id": "mIgnrswkuC8L"
      }
    },
    {
      "cell_type": "code",
      "source": [
        "import torch"
      ],
      "metadata": {
        "id": "Wq5sqsK3PXJx"
      },
      "execution_count": 8,
      "outputs": []
    },
    {
      "cell_type": "code",
      "source": [
        "# hyperparameter\n",
        "\n",
        "MAX_LEN = 24*2 # 3사분위 값인 24가 두개 연결되기에 2배 해줌\n",
        "VALID_SPLIT = 0.2\n",
        "BATCH_SIZE = 32\n",
        "EPOCH = 10\n",
        "\n",
        "device = 'cuda' if torch.cuda.is_available() else 'cpu'"
      ],
      "metadata": {
        "id": "SEVckb10sxeX"
      },
      "execution_count": 9,
      "outputs": []
    },
    {
      "cell_type": "code",
      "source": [
        "ls"
      ],
      "metadata": {
        "colab": {
          "base_uri": "https://localhost:8080/"
        },
        "id": "hkyAZA1mtraJ",
        "outputId": "f757dc8d-78c8-4713-f284-2f63c7a941db"
      },
      "execution_count": 10,
      "outputs": [
        {
          "output_type": "stream",
          "name": "stdout",
          "text": [
            "\u001b[0m\u001b[01;34mdrive\u001b[0m/  \u001b[01;34msample_data\u001b[0m/\n"
          ]
        }
      ]
    },
    {
      "cell_type": "code",
      "source": [
        "cd drive/MyDrive/Pytorch\\ NLP/BERT/data_in"
      ],
      "metadata": {
        "colab": {
          "base_uri": "https://localhost:8080/"
        },
        "id": "UJqk_Uspts6K",
        "outputId": "0b2afd9a-e50a-4928-fd4f-49a55734f22c"
      },
      "execution_count": 11,
      "outputs": [
        {
          "output_type": "stream",
          "name": "stdout",
          "text": [
            "/content/drive/MyDrive/Pytorch NLP/BERT/data_in\n"
          ]
        }
      ]
    },
    {
      "cell_type": "code",
      "source": [
        "cd KorNLUDatasets/KorNLI"
      ],
      "metadata": {
        "colab": {
          "base_uri": "https://localhost:8080/"
        },
        "id": "zcPpmzvWtwv4",
        "outputId": "4149b56d-0095-4c6e-b1a1-647e214b072a"
      },
      "execution_count": 12,
      "outputs": [
        {
          "output_type": "stream",
          "name": "stdout",
          "text": [
            "/content/drive/MyDrive/Pytorch NLP/BERT/data_in/KorNLUDatasets/KorNLI\n"
          ]
        }
      ]
    },
    {
      "cell_type": "code",
      "source": [
        "train_df=pd.read_csv('train_df.csv')\n",
        "test_df=pd.read_csv('test_df.csv')"
      ],
      "metadata": {
        "id": "YdgtcgMzrHfQ"
      },
      "execution_count": 13,
      "outputs": []
    },
    {
      "cell_type": "code",
      "source": [
        "def bert_tokenizer(text1,text2,MAX_LEN):\n",
        "\n",
        "  encoded_dict=tokenizer.encode_plus(text1,\n",
        "                                     text2,\n",
        "                                     max_length=MAX_LEN,\n",
        "                                     padding='max_length',\n",
        "                                     truncation=True,\n",
        "                                     return_attention_mask=True,\n",
        "                                     return_token_type_ids=True)\n",
        "\n",
        "  return encoded_dict['input_ids'],encoded_dict['attention_mask'],encoded_dict['token_type_ids']"
      ],
      "metadata": {
        "id": "FTypCKy6rU8Y"
      },
      "execution_count": 14,
      "outputs": []
    },
    {
      "cell_type": "code",
      "source": [
        "bert_tokenizer('안녕 나는 사람이야','그래 너는 사람이야',15)"
      ],
      "metadata": {
        "colab": {
          "base_uri": "https://localhost:8080/"
        },
        "id": "VECjJ5dAvvkl",
        "outputId": "a1703ae3-233b-4c1b-f272-cc257cdf4eb9"
      },
      "execution_count": null,
      "outputs": [
        {
          "output_type": "execute_result",
          "data": {
            "text/plain": [
              "([101,\n",
              "  9521,\n",
              "  118741,\n",
              "  100585,\n",
              "  97802,\n",
              "  21711,\n",
              "  102,\n",
              "  8924,\n",
              "  37388,\n",
              "  9004,\n",
              "  11018,\n",
              "  97802,\n",
              "  21711,\n",
              "  102,\n",
              "  0],\n",
              " [1, 1, 1, 1, 1, 1, 1, 1, 1, 1, 1, 1, 1, 1, 0],\n",
              " [0, 0, 0, 0, 0, 0, 0, 1, 1, 1, 1, 1, 1, 1, 0])"
            ]
          },
          "metadata": {},
          "execution_count": 31
        }
      ]
    },
    {
      "cell_type": "code",
      "source": [
        "tokenizer.decode(bert_tokenizer('안녕 나는 사람이야','그래 너는 사람이야',15)[0])"
      ],
      "metadata": {
        "colab": {
          "base_uri": "https://localhost:8080/",
          "height": 35
        },
        "id": "CJSxk1wN1dar",
        "outputId": "a0370bdd-6869-4d67-cff7-92d5f4494de2"
      },
      "execution_count": null,
      "outputs": [
        {
          "output_type": "execute_result",
          "data": {
            "text/plain": [
              "'[CLS] 안녕 나는 사람이야 [SEP] 그래 너는 사람이야 [SEP] [PAD]'"
            ],
            "application/vnd.google.colaboratory.intrinsic+json": {
              "type": "string"
            }
          },
          "metadata": {},
          "execution_count": 39
        }
      ]
    },
    {
      "cell_type": "code",
      "source": [
        "from tqdm import tqdm"
      ],
      "metadata": {
        "id": "awX9yslvwdmA"
      },
      "execution_count": 15,
      "outputs": []
    },
    {
      "cell_type": "code",
      "source": [
        "# 라벨 정수 변환 처리\n",
        "txt2id={'neutral':0, 'contradiction':1, 'entailment':2}"
      ],
      "metadata": {
        "id": "7mb0qdSgx2j6"
      },
      "execution_count": 16,
      "outputs": []
    },
    {
      "cell_type": "code",
      "source": [
        "transformers.logging.set_verbosity_error()"
      ],
      "metadata": {
        "id": "Wd9JxemM3IlI"
      },
      "execution_count": 17,
      "outputs": []
    },
    {
      "cell_type": "markdown",
      "source": [
        "### Train dataset"
      ],
      "metadata": {
        "id": "m65bGyd45B6d"
      }
    },
    {
      "cell_type": "code",
      "source": [
        "train_input_ids=[]\n",
        "train_attention_masks=[]\n",
        "train_token_type_ids=[]\n",
        "train_label=[]\n",
        "\n",
        "for text1,text2,label in tqdm(zip(train_df['sentence1'],train_df['sentence2'],train_df['gold_label']),total=len(train_df)):\n",
        "\n",
        "  try:\n",
        "    input_ids,attention_mask,token_type_ids=bert_tokenizer(text1,text2,MAX_LEN)\n",
        "\n",
        "    train_input_ids.append(input_ids)\n",
        "    train_attention_masks.append(attention_mask)\n",
        "    train_token_type_ids.append(token_type_ids)\n",
        "\n",
        "    train_label.append(txt2id[label])\n",
        "  except Exception as e:\n",
        "    print(e)\n",
        "    print(text1,text2)\n",
        "    pass\n",
        "\n",
        "train_input_ids=torch.LongTensor(train_input_ids)\n",
        "train_attention_masks=torch.LongTensor(train_attention_masks)\n",
        "train_token_type_ids=torch.LongTensor(train_token_type_ids)\n",
        "train_label=torch.LongTensor(train_label)"
      ],
      "metadata": {
        "colab": {
          "base_uri": "https://localhost:8080/"
        },
        "id": "PbVi9rWnv069",
        "outputId": "182f7dd9-1ede-419f-9afe-c9171c633a75"
      },
      "execution_count": 18,
      "outputs": [
        {
          "output_type": "stream",
          "name": "stderr",
          "text": [
            "  0%|          | 257/935646 [00:00<12:08, 1283.18it/s]"
          ]
        },
        {
          "output_type": "stream",
          "name": "stdout",
          "text": [
            "Input nan is not valid. Should be a string, a list/tuple of strings or a list/tuple of integers.\n",
            "원주민 내가 이기고 나는 큰 법을 어기고 nan\n"
          ]
        },
        {
          "output_type": "stream",
          "name": "stderr",
          "text": [
            "  0%|          | 3613/935646 [00:02<06:52, 2258.47it/s]"
          ]
        },
        {
          "output_type": "stream",
          "name": "stdout",
          "text": [
            "Input nan is not valid. Should be a string, a list/tuple of strings or a list/tuple of integers.\n",
            "생제르맹 nan\n"
          ]
        },
        {
          "output_type": "stream",
          "name": "stderr",
          "text": [
            "  1%|          | 10907/935646 [00:07<07:27, 2065.45it/s]"
          ]
        },
        {
          "output_type": "stream",
          "name": "stdout",
          "text": [
            "Input nan is not valid. Should be a string, a list/tuple of strings or a list/tuple of integers.\n",
            "날씨에 따라서든 그렇지 않든 nan\n"
          ]
        },
        {
          "output_type": "stream",
          "name": "stderr",
          "text": [
            "  2%|▏         | 17048/935646 [00:11<12:56, 1183.62it/s]"
          ]
        },
        {
          "output_type": "stream",
          "name": "stdout",
          "text": [
            "nan\n",
            "그는 전쟁 전에 가벼운 벅스킨 암말을 가지고 달리기 위해 우유처럼 하얀 스터드를 넣었다전쟁 전에 다인종 여성들과 함께 있는 백인 남자가 있었다entailment슬림은 재빨리 옷을 입었고 순간적으로 미지근한 물을 뿌릴 수 있는 아침 세탁물을 기꺼이 가두었다슬림은 직장에 늦었다neutral뉴욕에서 그 식사를 해봤는데 거기서 소고기의 멋진 소고기 부분을 요리하고 바베큐로 만든 널빤지 같은 걸 가져왔는데 정말 대단해그들이 거기서 요리하는 쇠고기는 역겹다 거기서 절대 먹지 마라contradiction판매원의 죽음에서 브라이언 데네히 크리스 켈리크리스 켈리는 세일즈맨의 죽음을 언급하지 않는다contradiction그러는 동안 요리사는 그냥 화가 났어스튜가 끓는 동안 요리사는 화가 났다neutral마지막 로마의 맹공격 전날 밤 900명 이상의 유대인 수비수들이 로마인들에게 그들을 사로잡는 승리를 주기 보다는 대량 자살을 저질렀다로마인들이 그들의 포획에 승리하도록 내버려두기 보다는 900명의 유대인 수비수들이 자살했다entailment앞으로 발사하라발사neutral그리고 당신은 우리 땅이 에이커에 있다는 것을 알고 있다 우리 사람들은 어떤 것이 얼마나 많은지 이해하지 못할 것이다모든 사람들은 우리의 측정 시스템이 어떻게 작동하는지 알고 이해합니다contradiction주미게스Jumiyges는 도시의 이름이다neutral사람은 자기 민족을 돌봐야 한다사람은 조국에 공감해야 한다entailment또한 PDD 63은 정부와 업계가 컴퓨터 기반 공격에 대해 경고하고 방어할 준비를 더 잘할 수 있도록 시스템 취약성 위협 침입 및 이상에 대한 정보를 공유하는 메커니즘을 수립하는 것이 중요하다는 것을 인식했습니다정보 전송 프로토콜을 만드는 것은 중요하다entailment카페 링 피아자 델라 레퓌블리카 바로 남쪽에는 피렌체가 알려진 짚 제품 때문에 한때 스트로 마켓이라고 불렸던 16세기 로지아인 메르카토 누오보Mercato Nuovo가 있다피아자 델라 레퓌블리카에는 카페가 많이 있다entailment우리가 여기 있는 한 트린판이 뭘 주웠는지 살펴봐야겠어우리는 트린판이 무엇을 주웠는지 보는 데 시간을 낭비하지 않을 것이다contradiction그러나 켈트족의 문화적 기반을 가진 아일랜드 교회는 유럽의 신흥 기독교 세계와는 다르게 발전했고 결국 로마와 중앙집권적 행정으로 대체되었다아일랜드 교회에는 켈트족의 기지가 있었다entailment글쎄 넌 선택의 여지가 없어글쎄 너에겐 많은 선택권이 있어contradiction사실 공식적인 보장은 없다내가 산 물건에 대한 보증이 없었다neutral덜 활기차긴 하지만 안시와 르 부르젯의 사랑스러운 호수에서도 삶은 똑같이 상쾌하다안시와 르 부르겟에서는 호수에서의 활동이 서두르고 바쁜 분위기를 연출한다contradiction그의 여행 소식이 이미 퍼졌다면 공격 소식도 퍼졌을 테지만 마을에서는 전혀 공황의 기미가 보이지 않았다그는 왜 마을이 당황하지 않았는지 알 수 없었다neutral과거에는 죽음의 위협이 토지의 판매를 막는 데 거의 도움이 되지 않았다토지 판매는 어떠한 위협도 교환하지 않고 이루어진다contradiction어느 시점에 이르러 나는 지금 다가오는 새로운 것들과 나오는 많은 새로운 것들이 내가 늙어가고 있다고 말하는 시대로 접어들고 있다나는 여전히 내가 보는 모든 새로운 것을 사랑한다contradiction뉴스위크는 물리학자들이 경기장 행사에서 고속도로의 자동차 교통과 보행자 교통을 개선하기 위해 새떼의 움직임을 연구하고 있다고 말한다고속도로의 자동차 교통 흐름을 개선하는 것은 물리학자들이 새떼를 연구하는 이유 중 하나이다entailment얼마나 다른가 그는 잠시 말을 멈추었다가 말을 이었다그는 그 소녀가 어디에 있는지 알고 싶었다entailment글쎄 그에게 너무 많은 것을 주지마그는 훨씬 더 많은 것을 요구할 것이다neutral아무리 그의 창작물이 완벽해 보인다고 해도 그들을 믿는 것은 아마도 좋은 생각이 아닐 것이다도자기를 잘 만든다고 해서 누군가를 믿는 것은 아마 좋지 않을 것이다neutral버스틀링 그란 비아Bustling Gran Via는 호텔 상점 극장 나이트클럽 카페 등이 어우러져 산책과 창가를 볼 수 있다Gran Via는 호텔 상점 극장 나이트클럽 카페의 번화한 조합이다entailment정부 인쇄소그 사무실은 워싱턴에 위치해 있다neutral실제 문화 전쟁이 어디 있는지 알고 싶다면 학원을 잊어버리고 실리콘 밸리와 레드몬드를 생각해 보라실제 문화 전쟁은 레드몬드에서 일어난다entailment그리고 페니실린을 주지 않기 위해 침대 위에 올려놨어그녀의 방에는 페니실린이 없다는 징후가 전혀 없었다contradictionLA의 야외 시장을 활보하는 것은 맛있고 저렴한 그루브를 잡고 끝이 없는 햇빛을 즐기고 신선한 농산물 꽃 향 그리고 가젯 갈로어를 구입하면서 현지인들과 어울릴 수 있는 훌륭한 방법이다LA의 야외 시장을 돌아다니는 것은 시간 낭비다contradiction안나는 밖으로 나와 안도의 한숨을 내쉬었다 단 한 번 그리고 마리후아쉬 맛의 술로 끝내자는 결심이 뒤섞여 있었다안나는 안심하고 마리후아쉬 맛의 술을 다 마시기로 결심했다entailment5 월에 Vajpayee는 핵 실험의 성공적인 완료를 발표했는데 인도인들은 주권의 표시로 선전했지만 이웃 국가와 서구와의 인도 관계를 복잡하게 만들 수 있습니다인도는 성공적인 핵실험을 한 적이 없다contradiction플라노 원에서 보통 얼마나 많은 것을 가지고 있는가저 사람들 중에 플라노 원에 가본 사람 있어contradiction그것의 전체적인 형태의 우아함은 운하 건너편에서 가장 잘 볼 수 있다 왜냐하면 로마에 있는 성 베드로처럼 돔은 길쭉한 본당 뒤로 더 가까운 곳에 사라지기 때문이다성 베드로의 길쭉한 본당은 돔을 가린다entailment당신은 수틴이 살에 강박적인 기쁨을 가지고 누드를 그릴 것이라고 생각하겠지만 아니오 그는 그의 모든 경력에서 단 한 점만을 그렸고 그것은 사소한 그림이다그는 그것이 그를 불편하게 만들었기 때문에 하나만 그렸다neutral이 인상적인 풍경은 원래 나포 레온이 루브르 박물관의 침실에서 볼 수 있도록 계획되었는데 그 당시 궁전이었습니다나폴레옹은 그의 모든 궁전에 있는 그의 침실에서 보는 경치에 많은 관심을 가졌다neutral그는 우리에게 문 열쇠를 건네주고는 급히 떠났다그는 긴장해서 우리에게 열쇠를 빨리 주었다neutral위원회는 또한 최종 규칙을 OMB에 제출했다위원회는 또한 이 규칙을 다른 그룹에 제출했지만 최종 규칙은 OMB가 평가하기 위한 것이 었습니다neutral정원가게에 가보면 올리비아의 복제 화합물 같은 유쾌한 이름을 가진 제품들을 찾을 수 있을 겁니다이 제품이 뿌리를 내리도록 돕기 위해 촬영의 절단된 끝에 덩크슛을 하는 호르몬의 혼합물이죠정원 가꾸기 가게의 제품들은 종종 그들의 목적을 설명하기 위해 기술적으로나 과학적으로 파생된 이름올리비아의 복제 화합물처럼을 부여받는다neutral스타는 스틸 자신이나 왜 그녀의 이야기를 바꾸었는지에 훨씬 더 관심이 있을 것이다스틸의 이야기는 조금도 변하지 않았다contradiction남편과의 마지막 대결로 맥티어는 노라의 변신을 너무나 능숙하게 예고해 왔기 때문에 그녀에게는 당황스러울 정도로 갑작스러운 것처럼 보이지만 우리에게는 감정적으로 불가피해 보인다노라의 변신은 분명하고 필연적이었다contradiction이집트 최남단 도시인 아스완은 오랜 역사를 통해 중요한 역할을 해왔다아스완은 이집트 국경 바로 위에 위치해 있습니다neutral그러나 훨씬 더 우아한 건축적 터치는 신성한 춤인 Bharatanatyam에서 수행된 108 가지 기본 포즈를 시바 패널에서 볼 수 있습니다패널에 대한 시바의 묘사는 일반적인 모티브다neutral호화롭게 심어진 계단식 정원은 이탈리아 형식의 가장 훌륭한 앙상블 중 하나입니다아름다운 정원과 희귀한 꽃꽂이 모두 이탈리아의 형식적인 스타일을 보여준다neutral음 그랬으면 좋았을 텐데나는 그것을 다르게 할 기회를 몹시 갈망한다entailment폐허가 된 성의 기슭에 자리잡고 있는 예쁜 중세 도시 케이서스버그는 노벨 평화상 수상자 알버트 슈바이처1875년의 출생지로 널리 알려져 있다알버트 슈바이처는 둘 다 케이서스버그 마을에 있었다entailment고감도는 문제가 있는 대부분의 환자들이 발견될 것을 보장한다장비 민감도는 문제 탐지와 관련이 없습니다contradiction오늘은 확실히 반바지 같은 날이었어오늘 사무실에 있는 모든 사람들은 반바지를 입었다neutral못생긴 턱시도를 입고그것은 분홍색과 주황색입니다neutral이주 노동 수용소 오 마이 갓 그들은 판지 상자에 산다노동 수용소에는 판지 상자에 사는 이주 노동자들의 사진이 있다neutral그래 그가 전 세계를 여행한 후에 그런 거야그것은 사람들의 세계 여행을 따른다entailment건너편에 크고 큰 참나무 몇 그루가 있다우리는 여기 오크나 어떤 종류의 미국 나무도 없다contradictionFortdeFrance에서 출발하는 자동차나 여객선으로 당신은 안세  바다 포도가 그늘을 제공하는 쾌적한 갈색 모래 해변과 피크닉 테이블 어린이 미끄럼틀 식당이 있는 안느에 도착할 수 있다프랑스 요새에서 자동차나 페리를 타고 안세로 갈 수 있다entailment그리고 그것은 앨라배마주가 예상했던 대로 예산에서 50만 달러를 삭감하지 않을 것이라는 것을 의미한다앨라배마 주는 예산 삭감을 하지 않았다 왜냐하면 그렇게 하는 것에 대한 초기 정당성이 정밀 조사에 맞서지 않았기 때문이다neutral알았어 먼저 어  어  노인이나 가족을 요양원에 보내는 것에 대해 어떻게 생각하니가족을 요양원에 보내서 사는 것에 대해 어떻게 생각하는지 알 필요가 없다contradiction나머지는 너에게 달렸어나머지는 너에게 달렸지만 시간이 많지 않다neutral음흠 3월에 햇볕에 타는 것에 대해 걱정하면 안 된다는 것을 알고 있는 3월이야3월은 그렇게 덥지 않다neutral그리고 어 그런 작은 것들로 다시 시작해봐 아직 훨씬 싸 어 그 특별한 모델 차는 150달러야그 모형차는 4천 달러가 든다contradiction내일 돌아가야 한다면 칼이 말했다돌아갈 수 없어 오늘은 안 돼 내일은 안 돼 절대 안 돼 칼이 말했다 contradiction\n"
          ]
        },
        {
          "output_type": "stream",
          "name": "stderr",
          "text": [
            "  2%|▏         | 19995/935646 [00:13<06:49, 2234.65it/s]"
          ]
        },
        {
          "output_type": "stream",
          "name": "stdout",
          "text": [
            "Input nan is not valid. Should be a string, a list/tuple of strings or a list/tuple of integers.\n",
            "AICPA 미국 공인 회계사 APB 회계 원칙 이사회 ARB 회계 연구 게시판 COSO 트레드 웨이위원회 조직위원회 FAS 재무 회계 기준 FASB 재무 회계 기준위원회 FASAB 연방 회계 기준 자문위원회 FIN FASB Interpertation Form amp Content OMB Bulletin 9701  1996 년 10 월 16 일 발행 GAO 일반 회계 사무소 NAA 전국 회계사 협회 OMB 관리 및 예산 사무국 SEC 증권 거래위원회 SFFAC 연방 재무 회계 개념 명세서 SFFAS 연방 재무 회계 표준 명세서 SOP 포지션 명세서 nan\n"
          ]
        },
        {
          "output_type": "stream",
          "name": "stderr",
          "text": [
            "  3%|▎         | 30206/935646 [00:18<06:32, 2308.42it/s]"
          ]
        },
        {
          "output_type": "stream",
          "name": "stdout",
          "text": [
            "nan\n",
            "안세는안세에게 무슨 일이 일어날까 entailment\n"
          ]
        },
        {
          "output_type": "stream",
          "name": "stderr",
          "text": [
            "  4%|▎         | 33745/935646 [00:19<06:33, 2293.22it/s]"
          ]
        },
        {
          "output_type": "stream",
          "name": "stdout",
          "text": [
            "nan\n",
            "어떻게 해서든 그를 없애라 트린판우리를 내버려둘 수 있도록 네 칼로 그를 죽여라 트린판 neutral\n"
          ]
        },
        {
          "output_type": "stream",
          "name": "stderr",
          "text": [
            "  4%|▎         | 34458/935646 [00:20<06:40, 2248.15it/s]"
          ]
        },
        {
          "output_type": "stream",
          "name": "stdout",
          "text": [
            "Input nan is not valid. Should be a string, a list/tuple of strings or a list/tuple of integers.\n",
            "토니 슈즈그래서 클린턴은 슈즈와 양말을 갖게 될 것이다 nan\n"
          ]
        },
        {
          "output_type": "stream",
          "name": "stderr",
          "text": [
            "  4%|▍         | 38073/935646 [00:21<06:27, 2316.14it/s]"
          ]
        },
        {
          "output_type": "stream",
          "name": "stdout",
          "text": [
            "nan\n",
            "하늘이 무너지고 있어 데이브 핸슨하늘이 우리 쪽으로 내려오고 있어 데이브 핸슨 entailment\n",
            "nan\n",
            "하늘이 무너지고 있어 데이브 핸슨하늘이 우리에게 착륙해서 우리를 짓뭉개버릴 거야 데이브 핸슨 neutral\n"
          ]
        },
        {
          "output_type": "stream",
          "name": "stderr",
          "text": [
            "  5%|▌         | 46901/935646 [00:27<11:20, 1305.77it/s]"
          ]
        },
        {
          "output_type": "stream",
          "name": "stdout",
          "text": [
            "Input nan is not valid. Should be a string, a list/tuple of strings or a list/tuple of integers.\n",
            "불륜을 저지르지 마라 nan\n",
            "nan\n",
            "나는 당신의 큰 비밀에 대해 모두 알고 있소뭔가 비밀로 하고 있는 거야 contradiction\n"
          ]
        },
        {
          "output_type": "stream",
          "name": "stderr",
          "text": [
            "  5%|▌         | 48878/935646 [00:29<08:09, 1813.37it/s]"
          ]
        },
        {
          "output_type": "stream",
          "name": "stdout",
          "text": [
            "nan\n",
            "그들은 섞여 있고 일부는 스크럽 근친 교배 가난한 것들입니다그들은 모두 똑같다contradiction마찬가지로 내가 전에 말했듯이 카터가 너희 둘을 이런 일에 끌어들인 것은 유감스러운 일이다카터는 분명히 너희 둘을 이 일에 끌어들였어야 했어contradiction그리고 플라노와 캠벨이 애완견이라고 하셨잖아요플라노와 캠벨에 대해 애완견은 없다고 대답하셨잖아요contradiction납세자 반환 정보 보호된 은행 정보 대배심 정보 및 여행 상품권에 나열된 신용카드 계정여행 상품권에는 민감한 정보가 많이 들어 있다entailment나는 당신이 많은 사람들이 가지고 있는 그 원한한 태도를 지나쳐야 한다는 것을 알지만 그것은 아마도 결코 봉사하지 않을 어른들에게 그것을 지역사회에 파는 것의 일부분이 될 것이고 후손 세대들에게는 각 카운티마다 각 지역사회에서 주요 홍보 캠페인이 있어야 할 것이다나는 네가 너의 옛 상사를 원망하지 말아야 한다는 것을 안다neutral이 뛰어난 살롱 드 가스파리니는 석공 조각가 유리꽃 시계제작자 실버스미스 캐비닛 제작자 수놓는 사람을 동원하여 이 놀라운 로코코의 예를 만들어 낸 예술가나폴리의 마티아스 가스파리니의 이름을 따서 지어졌다살롱 드 가스파리니는 마티아스 가스파리니의 이름을 딴 유일한 건물이었다neutral사용된 접근법의 차이는 아마도 투자에 대한 재정적 수익보다는 비재무적 프로그램 혜택에 초점을 맞추는 것을 포함하여 연방 CIO 환경의 특정 제약에서 비롯되었을 것이다비금융 프로그램 혜택은 연방 CIO 환경에 구속되지 않는다contradiction그래 100도 10도섭씨 2도contradiction부록 J 표 3 대기질 계획 및 표준 사무소 연구 삼각 공원 NC대기질 계획 및 표준 사무소는 뉴욕에 있다contradiction해가 지고 하늘이 완전히 갈기갈기 찢어지면서 이 세상은 확실히 망했다하늘이 산산조각이 나고 있다entailment프론티어 에티켓은 켄터키 관습과 달랐다 확실하지 않을 때 조용히 하는 것이 더 안전했다켄터키 관습은 국경 예절과 같았다contradiction그것은 아래의 America Large의 규모에 미치지 못하지만 Large는 대부분 인공 유전이다대형에는 많은 기름을 퍼내는 유전이 있다neutral양당의 정치인들은 워싱턴 DC에 있는 새로운 로널드 레이건 빌딩과 국제 무역 센터를 세례했다워싱턴 DC에 새로운 레건 빌딩이 있습니다entailment그것은 2세기 이상 전이었고 놀랍게도 경제학자가 잘못된 예측을 한 것은 이번이 마지막이다경제학자가 예측을 망친 가장 최근의 사례가 있은 지 5년이 되었다contradiction그래서 계속 올라가는 게 아니야 응 또 다른 주제야그것이 최근 그것이 떨어진 이유입니다contradiction정말로 그랬다그곳은 완벽한 장소였다neutral나는 그렇지 않다난 몰라entailment에타츠 세대는 175년 만에 처음으로 소집되었다그는 300년 더 소집하지 않았다contradiction재산이 압류 될 때 재산은 추정된 순 현금 흐름의 순 현재 가치로 자산으로 인식됩니다그 재산은 압류될 때 자산으로 간주된다entailment프로토타이핑 초기 제조 및 공급자 참여 중요한 설계 검토를 통해 엔지니어링 도면의 90 완료 제품 신뢰성 입증 생산에 의한 중요한 제조 공정의 통계적 제어 달성과 같은 관행이 채택된다초기 제조는 성공을 달성하는 데 도움이 될 수 있는 관행 중 하나이다entailment그리고 그들이 정확히 무엇을 할 것인가그들은 아침으로 무엇을 먹고 있나요contradiction방문에 최소 2시간을 허용하십시오 종합 투어는 서너 시간이 걸릴 것이다포괄적인 투어는 8시간까지 지속될 수 있다neutral그냥그럴 필요 없어요contradiction잉글소프 씨였다잉글소프 씨가 거기 있었어요entailment캘리포니아 상원 선거에서 맷 퐁의 패배와 같은 이론에 맞지 않는 결과는 공화당이 양원 모두에서 그들의 전공을 유지했다는 사실과 마찬가지로 무시되었다민주당원인 맷 퐁은 캘리포니아 상원 경선에서 패배하여 공화당의 침묵적인 다수를 보여주었다 neutral\n",
            "Input nan is not valid. Should be a string, a list/tuple of strings or a list/tuple of integers.\n",
            "토니 슈즈그래서 클린턴은 슈즈와 양말을 갖게 될 것이다 nan\n"
          ]
        },
        {
          "output_type": "stream",
          "name": "stderr",
          "text": [
            "  5%|▌         | 50303/935646 [00:30<06:20, 2326.39it/s]"
          ]
        },
        {
          "output_type": "stream",
          "name": "stdout",
          "text": [
            "Input nan is not valid. Should be a string, a list/tuple of strings or a list/tuple of integers.\n",
            "웨스 위드마이어 nan\n"
          ]
        },
        {
          "output_type": "stream",
          "name": "stderr",
          "text": [
            "  6%|▌         | 51895/935646 [00:30<06:36, 2226.59it/s]"
          ]
        },
        {
          "output_type": "stream",
          "name": "stdout",
          "text": [
            "nan\n",
            "Yankees th brand at just at home 다른 사람들이 촬영이 끝나면 진짜 싸울 준비를 하도록 내버려둬라양키들도 전쟁 중이었다entailment팀 카벨의 랩업팀 카벨은 공인이다entailment나는 그것이 싫었던 것을 가지고 있었다 어 특별한 저녁식사를 위해 어떤 식사를 요리하겠는가 내 말은 그것이 좋았지만 그 한 끼는 얼마나 멀리 갈 수 있는가 하는 것이다모든 질문들은 정말 나빴다contradiction그녀는 점심 메뉴를 바꿔야 했고 그것은 그녀가 일주일 동안 함께 살 가치가 없다는 것을 의미한다그녀는 점심 메뉴가 바뀌어서 다음 주에 살 가치가 없을 것이다entailment그리고 그들은 우리가 가지고 다녀야 할 한 명의 의붓자식으로서 매우 빠르게 큰 재정적 부담이 될 수 있다한 명의 의붓자식은 재정적인 부담이 될 수 있다entailment오 미안 잘못된 웹 페이지야오 잘못된 웹 페이지야 미안entailment켄투키아인이 어린 시절부터 자라기 시작한 자급자족의 지각을 깨뜨린 사람은 거의 없었다켄투키아인들은 자급자족한다 왜냐하면 그것이 그들의 상태로 만들기 위해 필요한 것이기 때문이다neutral2000년 희년을 위한 관대하게 연장된 시간이 효력을 유지할지는 누구나 추측할 수 있다우리는 희년 200년에서 연장된 시간이 계속될 것이라는 것을 알고 있다contradiction그러나 몇몇 보안 관리자는 자동화된 모니터링 도구의 개발이 새로운 컴퓨터 및 네트워크 기술의 도입에 뒤쳐지고 있으며 이는 사고 특히 허가되지 않은 침입을 탐지하려는 노력을 손상시켰다고 말했다자동화된 탐지 도구가 새로운 기술을 따라잡고 있다contradiction브래들리가 고어만큼 선거운동원이라는 것이 몇 번이고 지적될 것이다고어는 역대 최고의 운동가였다contradiction오늘날 마드리드는 그 응집력 있는 센터 그 이상이다마드리드는 좋은 위치에 있다neutral베네치아 성벽은 여전히 역사적인 도시 알타언덕 위의 도시 유괴로 도시 바사와 연결된 마을의 오래된 지역를 보호한다베네치아 성벽이 파괴되었다contradiction그리고 지난 2년 동안 인적자원에 있었고 그 9년 동안 같이 일했던 사람들과 함께 일했기 때문에 직원들의 일부가 된 것 같다나는 9년 동안 같은 사람들과 함께 일해왔고 그들에게 편안함을 느낀다entailment빠르게 발생하는 한 가지 패턴은 분명히 끝이 없는 일련의 모순이다끝없는 일련의 모순은 천천히 발생하는 경향이 있는 패턴이다contradiction유나봄버 티모시 맥베이가 손상된 평판을 구할 수 있을 거야티모시 맥베이는 유나봄버로 알려진 남자의 본명이다entailment어쨌든 누가 그 협정을 제안했든 간에 토빈은 적어도 하루 동안은 그것을 고려하는 것을 부인하지 않는다토빈은 5분 동안 그것을 고려할 것이다contradiction난 그를 좋아하지 않았어 줄리어스가 말했다나는 그를 만난 순간 그를 좋아하지 않았다고 줄리어스는 말했다 neutral\n"
          ]
        },
        {
          "output_type": "stream",
          "name": "stderr",
          "text": [
            "  6%|▌         | 55842/935646 [00:32<07:04, 2073.45it/s]"
          ]
        },
        {
          "output_type": "stream",
          "name": "stdout",
          "text": [
            "nan\n",
            "그런 것들은그는 그런 것에 전혀 관심을 보이지 않았다contradiction그래서 그들은 세계적인 관점을 취하고 있습니다그들은 마음을 바꾸고 세계관을 취하고 있다neutral3과 어 4와 26번과 어 7번과 5번contradiction그러므로 구약성서 전체가 외계인의 작품이라고 추론하는 것은 완벽하게 논리적이다오직 외계인만이 구약성서에 있는 것을 읽을 수 있었다neutral이곳은 5월의 국제 영화제와 1월에 녹음된 음악 축제MIDEM의 장소다이곳은 국제 영화와 녹음된 음악 축제가 열린 가장 큰 장소다neutral나는 우리가 그녀의 불안을 덜어줄 수 있다고 생각한다나는 우리가 그녀를 도울 수 있다고 생각하지 않아contradiction새로운 두려움이 그의 마음을 사로잡았다그는 공포에 사로잡혔다entailment그래 맞아 그래서 이건 나한테 경험이었어 그리고 어 하지만 난 우리가 앞마당에 나갈 시간이 좀 더 있을 때까지 기다릴 수 없어 그리고 정말 많은 조경을 알고 있지나는 꽤 큰 마당을 가지고 있는데 그 중 일부를 정원으로 바꿀 것 같다neutral나폴레옹의 매장은 1840년 12월 15일에 이루어졌다그의 매장은 12월에 열렸다entailment그리고 다시 한 번 데리는 내가 아침의 바보 같은 시간에 그녀의 문을 쾅쾅 두드리는 것을 발견했다아침에 데리의 문을 두드린 것은 이번이 처음이었다contradiction하지만 어떤 것들은 진지하다는 것을 알고 있고 어떤 것들은 진지하다는 것을 알고 있지만 음 모든 재미는 그들이 가득 찬 것을 보는 것이다 그들은 어른들을 위한 것이라는 것을 알고 있다 그들은 단지 어린 만화가 아니다 그들은 진정한 이야기들이다그것들은 오직 아이들을 위한 것이고 어른들의 이야기는 없다contradiction데이브가 무엇을 멈출 것인지 묻기도 전에 네마가 서둘러 방으로 들어왔다데이브가 무엇을 막아야 하는지 물었을 때 네마는 어디에도 보이지 않았다contradiction산 가브리엘포모나 밸리 프로그램의 전무인 로라레아 사딕은 자신의 이사회가 사회 정책에 영향을 미치고 빈곤 관련 문제에 대한 세간의 이목을 끄는 소송에 참여하는 데 돈을 쓰고자 하는 두도비츠의 열망을 공유하지 않았다고 말했다그녀의 이사회는 두도비츠의 견해를 공유하지 않았다entailment우체국 배달 수익성은 배달된 모든 메일의 수익에 달려 있으며 크림 스키머가 모든 범주의 메일을 캡처할 수는 없습니다우체국 수익성은 일부 메일 유형에만 의존한다contradiction그래 난 뉴욕 주 북부 북부 뉴욕에 있어 그래 그리고 어 먼 길을 말이야집은 그 나라 반대편에 있다neutral하지만 우리는 그것을 시험하지 않고 나는 우리가 그렇게 하지 않는지 궁금하다 왜냐하면 그것은 매우 널리 퍼져있고 아마도 여기 있는 우리 인구의 4분의 1을 잃게 될 것이기 때문이다여기 있는 누구도 그걸 가지고 있지 않아 그래서 그들은 그것을 시험하지 않는 거야contradiction더 극적으로 높고 뱀 같은 길에서 필립스버그에서 오이스터 연못까지 당신은 대서양의 생바르텔레미 아크로세아 왕실의 푸른색 스와스의 아름다움에 경악할 것이다구불구불한 길에서 오이스터 연못까지 대서양을 볼 수 있다entailment이 모든 일은 에스플라네이드에 세워진 경기장에 있는 웅장한 홍수 성을 배경으로 밤마다일요일 제외 일어난다밤에 우리는 에펠탑 앞에서 이런 일이 일어나는 것을 본다contradiction그래서 너는 버클리에 어디로 가니난 버클리에 가 그렇지neutral이것은 그의 지도력과 함께 그의 입후보에 대한 나의 지지와 많은 관련이 있었다나는 버니의 입후보를 지지한다 왜냐하면 버니는 훌륭한 지도자일 뿐만 아니라 영혼도 있기 때문이다neutral주요 결론은 고객들이 행복하기를 원하지 않는다는 것이었다고객들은 행복하기를 원하지 않는다고 결론지었다entailment긴 무덤 갱도는 이집트인들이 사후세계에 도달하기 위해 행해야 할 의식을 죽은 자의 책의 장을 묘사한 훌륭한 그림들로 장식되어 있다죽은 사람에게 행해지는 의식은 없다contradiction그 변화가 시행되면 그들은 어떤 새로운 기회를 가질 것인가그들은 변화가 시행되면 새로운 기회를 갖게 될 것이다entailment그가 일어섰을 때 그것은 회사 전체에 전화를 걸었던 그의 다음 데스크 이웃 아니 오히려 저녁에 여전히 그곳에 남겨진 사람으로부터 코드의 퇴장을 보기 위해 방으로 고약한 발언을 야기시켰다그의 옆집 이웃이 아침에 회사에 전화를 걸었다contradiction우편 서비스가 거리 차등이 없고 관련 드롭 라인 할인이 없는 1000 마일 요금만 부과하면 우편 서비스는 불리하고 효과적으로 경쟁하지 않을 수 있습니다우편 서비스가 1000 마일에 요금을 부과하면 우편 서비스가 불리하게 됩니다entailment1996년 뉴햄프셔 예비선거에서 라마르만 3500표를 더 득표했더라면 밥 돌을 2위로 밀어내고 돌을 경선에서 몰아내고 후보로 순항했을 것이다밥 돌은 지명을 받지 못했다contradiction오 그래 사실 나랑 같이 있어 어 이건 별로 얘기할 게 없어 난 그것에 대해 별로 언급할 게 없어 어 그들이 몇 번이나 전화했거나 이 어에 참여했거나 하는 흥미로운 주제들이 있었어관심을 가질 만한 주제는 단 한 가지도 없었다contradiction불행하게도 옐친은 늙은 경비원과 너무 많은 연줄을 가지고 있어 고르바초프가 시도했던 모든 것에서 내가 볼 수 있는 유일한 단점이고 그는 늙은 경비원 몇 명과 문제가 있었어그 제도는 그가 바꾸기 어려울 것이다neutral문 근처의 쿠션에 다리를 꼬고 앉아 있는 네마는 손에 뭔가를 쥐어짜고 있었다네마는 쿠션 위에 다리를 꼬고 앉아 있었다entailment집에서 그리고 나는 그것에 정말 만족한다나는 그것에 정말 만족한다entailment그들은 기업과 정보 기술 및 경영진이 서로의 문제를 이해하고 소통할 수 있는 능력을 촉진하고 공유된 비즈니스 비전을 달성하기 위해 함께 일하는 공식적인 메커니즘과 구조를 채택합니다그들은 기업들이 함께 프로젝트를 진행하기 위해 의사소통을 할 수 있게 하는 메커니즘을 채택한다neutral사실 최근의 용량 확장은 이것에 대한 강력한 증거를 제공한다새로운 용량 증가에 대한 증거가 있다entailment그것 없이는 트립의 주장을 뒷받침하는 설득력 있는 증거가 있다고 쓸 수 없다면 이건 네 면전에서 폭발할 거야 트립의 면전에서 말이야혐의를 뒷받침하는 증거가 없다면 네 면전에서 폭발할 거야entailment맹그로브 나무와 관목은 바다와 담수 사이의 고사리 지대의 해안 습지대에서 자랍니다망그로브 나무는 해안에서 자란다entailment단독 실무자나 중견기업과 중소기업의 프로 보노 기여는 계산되지 않는다아무도 무료 기부를 추적하지 않는다entailment두 개의 식물이 긴 여행 중에 죽었고 세 번째 식물은 자메이카로 가는 길을 정확히 찾았다두 개의 식물은 자메이카에서 끝났고 다른 하나는 죽었다contradiction8 국세청의 시스템 현대화 과제는 미래의 현대화 노력을 정의 지시 및 제어하기 위한 현대화 청사진을 완성하고 현대화된 시스템을 구축하고 획득하기 위한 관리 및 엔지니어링 능력을 확립하는 것입니다국세청은 아무런 문제 없이 현대화되었다contradiction이것은 특히 지금 팔리고 있는 모든 아이들의 양털과 관련이 있다 타이크들은 카펫이 떨어지는 경향이 있다비록 폭군이 쓰러지기 쉬우나 그것은 지금 아이들의 양털이 팔리는 것과는 관련이 없다contradiction예를 들어한 기관 대표는 DOT의 도켓 관리 시스템이 관리 중앙 집중화 정도와 독립성의 차이로 인해 단순히 HHS 또는 USDA에서 복제 될 수는 없다고 부서의 구성 기관에 제공했습니다DOT HHS 및 USDA는 모두 구성 기관에서 동일한 수준의 관리 중앙 집중화를 가지고 있습니다contradiction내 권리와 이것저것에 대한 위반이고 시험은 정확하지 않다고 말하면서 나는 그들이 실제로 그들이 알지 못한다는 것을 알고 있는 진짜 과학으로 시험을 치렀다고 생각한다 나는 당신이 그들이 시험을 어떻게 하는지에 대한 비디오를 봤다고 확신한다 그리고 나는 그들이 실수를 하는 것이 거의 불가능하다고 생각한다시험에서 실수를 하는 것은 거의 불가능하다고 생각한다entailment진짜 일을 어떻게 해야 할지 끝이 없었다나는 그 물건이 나를 물지 않을까 걱정했다neutral음흠흠흠은 그래 우리 작은 타비 고양이가 내가 본 유일한 고양이라는 것일 수도 있고 그녀가 데리러 가는 것을 정말 싫어한다는 것일 수도 있어 그녀는 그냥 어떤 것이든 할 거야 네가 가끔 고양이를 데리러 갈 수 있다는 것을 알잖아 어쨌든 그녀는 정말 싫어해우리 고양이는 픽업되는 것을 좋아한다contradiction요새의 다른 끝에는 로지스 로얄로얄 로지의 테라스가 마을과 인드레 계곡을 즐겁게 볼 수 있다Logis Royal의 테라스에서 마을과 Indre Valley를 볼 수 있습니다entailment나는 그것이 사실이라고 확신한다그것이 사실인 것 외에도 그것은 또한 원인일 수도 있다neutral중재 시기의 제약은 무엇인가개입 시기는 계획대로 진행한다contradiction팀들 그들의 지식을 넓히기 위해그들의 지식 기반을 넓히기 위해서입니다entailment에 비엔비엔 에entailment우리가 보고한 바와 같이 현재의 메디케어 프로그램은 개선 없이 미래 세대의 미국인들에게 봉사하기에 적합하지 않다구조의 일부 변화로 메디케어는 아직 미국인들에게 더 잘 봉사할 수 있을 것이다neutral하지만 이 공식의 이점은 구덩이를 넘어 확장된다공식의 이점은 구덩이의 경계에서 멈춘다contradiction그게 바로 내가 기억하려고 했던 방식이야 내가 그 물건들을 어디로 갔는지 떼어냈을 때 그리고 내가 그것을 다시 조립했을 때 너무 많은 견과류와 볼트가 남아있지 않았다고 생각해나는 단지 물건을 벗으면서 기억하려고 했을 뿐이고 일을 끝냈을 때 나는 너무 많은 견과류와 볼트가 남아 있지 않았다entailment하지만 포 잭은 꽤 좋은 식사를 제공하고 하룻밤 묵을 침대를 두어 개 보관한다포 잭스에 사람들이 하룻밤을 묵을 수 있는 침대가 있다entailment그러나 일부 매디슨 애비뉴 회사들과 광택 잡지의 반노미안적 익살스러움은 반항적인 청소년 문화가 기업 순간의 문화적 모드라는 것을 거의 입증하지 못한다사회 계층은 반항적인 젊은이들의 수에 영향을 미치는 경향이 있다neutral내 말은 네가 경찰과 말썽을 부리면 공식적으로 도와줄 수 없다는 거야경찰과 무슨 문제가 생기면 내가 도와줄게contradiction그냥 그래 10분 전쯤에 끝난 것 같아 좋은 경기였던 것 같아 8점 정도 이겼어그것은 여전히 진행 중이고 끔찍한 블로아웃 게임이다contradiction그래 내 생각엔 여자로서 남자가 보는 것보다 더 많은 사생활 침해를 볼 수 있을 것 같아남자들은 당신이 여성들보다 그들의 사생활을 더 자주 침해하고 있다고 생각한다contradiction만약 그들이 들어가서 그를 잡았다면 그는 순교자가 되지 않았을 것이다 순교자 순교자라는 단어는 무엇인가그는 적어도 좋은 순교자는 아닐 것이다 좋은 사람은 영광의 불길에 휩싸여 죽는다neutral1946년 영국 위임 인원이 점령한 남쪽 날개는 폭탄으로 파괴되었습니다 91명이 지하 유대인 테러 단체인 Irgun의 공격으로 사망했다이르군은 폭탄으로 탑을 공격해 수십 명을 죽였다entailment개인 거주지와 비슷한 이 시설을 방문하기 위해서입니다부자들의 사저처럼 보이는 이 시설을 방문하기 위해서입니다neutral갤러리는 William Chambers 경이 Charlemont 경을 위해 지은 18세기 Charlemont House에 세워졌습니다그 화랑에는 가장 유명한 그림들이 몇 점 있다neutral도움이 되는 가이드들은 당신을 긴 복도와 가장 흥미로운 방을 통해 안내한다그 투어는 자기 주도적이다contradiction한꺼번에 들어오실 수 있나요원하면 바로 들어갈 수 있어 entailment\n",
            "nan\n",
            "나는 즉시 그렇게 해오늘은 그럴 계획이 없어 contradiction\n"
          ]
        },
        {
          "output_type": "stream",
          "name": "stderr",
          "text": [
            "  6%|▌         | 56769/935646 [00:32<06:35, 2220.79it/s]"
          ]
        },
        {
          "output_type": "stream",
          "name": "stdout",
          "text": [
            "Input nan is not valid. Should be a string, a list/tuple of strings or a list/tuple of integers.\n",
            "그래 아니 네가 아는 그 지역은 아니야 네가 아는 TI 공장이야 네가 아는 한 그들이 무엇을 만들고 날씨를 제외한 모든 것을 nan\n"
          ]
        },
        {
          "output_type": "stream",
          "name": "stderr",
          "text": [
            "  6%|▋         | 59450/935646 [00:34<07:16, 2005.77it/s]"
          ]
        },
        {
          "output_type": "stream",
          "name": "stdout",
          "text": [
            "nan\n",
            "그의 나라에서 가장 런닝한 말 캘리그 말은 칭찬을 받았고 캘리에게 언급되었다entailment영국인들은 병사들과 동인도 회사 직원들이 평원의 병폐로부터 회복하기에 건강한 장소가 될 것이라고 믿었지만 무엇보다도 그들은 이 지역이 많은 논란이 되고 있는 네팔로의 통행권을 통제하는 데 전략적으로 유용하다는 것을 발견했다영국인들은 그 장소가 즐겁지만 어떤 식으로든 전략적으로 유용하지는 않다고 생각했다contradiction코즈웨이 로드에 있는 빅토리아 공원의 동쪽에는 틴 하우 사원이 있는데 틴 하우 천상의 도교 여왕 선원들의 후견인이다코즈웨이 도로는 공원의 서쪽에 있다contradiction코헨 1993 이 문제에 대해 우려하는 한 가지 이유는 사설 익스프레스 법령이 완화된다면 경쟁자들은 수익성 있는 노선을 택하여 현 정부를 수익성이 없는 노선으로 떠날 가능성이 있기 때문이다프라이빗 익스프레스 법령의 요건이 완화되면 행정부는 수익성을 유지하기 위해 고군분투할 것이다entailment좋은 게임으로 밝혀졌네나는 그들이 잘 할 것이라고 예측했다neutral두오모의 테라코타 큐폴라가 지배하는 도시의 마지막 전경을 보려면 버스나 택시를 타고 광대한 피아잘 미켈란젤로그의 데이빗의 두 번째 사본으로 장식로 가십시오피아잘 미켈란젤로는 캣의 사본에 의해 정박되어 있다 contradiction\n"
          ]
        },
        {
          "output_type": "stream",
          "name": "stderr",
          "text": [
            "  7%|▋         | 65751/935646 [00:37<08:52, 1632.81it/s]"
          ]
        },
        {
          "output_type": "stream",
          "name": "stdout",
          "text": [
            "Input nan is not valid. Should be a string, a list/tuple of strings or a list/tuple of integers.\n",
            "7 Soderstrom CA Smith GS Dischinger PC McDuff DR Hebel JR Gorelick DA 등 nan\n"
          ]
        },
        {
          "output_type": "stream",
          "name": "stderr",
          "text": [
            "  7%|▋         | 68073/935646 [00:38<06:17, 2296.52it/s]"
          ]
        },
        {
          "output_type": "stream",
          "name": "stdout",
          "text": [
            "Input nan is not valid. Should be a string, a list/tuple of strings or a list/tuple of integers.\n",
            "Vendme Opra Madeleine nan\n"
          ]
        },
        {
          "output_type": "stream",
          "name": "stderr",
          "text": [
            "  8%|▊         | 73918/935646 [00:42<11:13, 1279.57it/s]"
          ]
        },
        {
          "output_type": "stream",
          "name": "stdout",
          "text": [
            "nan\n",
            "데이브 핸슨 당신네 세계에서는 공학 예술에 정통했군 대부분의 사람들보다데이브 핸슨 당신은 당신 세계의 대부분의 사람들보다 공학에 대해 훨씬 더 많이 알고 있었소 entailment\n"
          ]
        },
        {
          "output_type": "stream",
          "name": "stderr",
          "text": [
            "  8%|▊         | 76122/935646 [00:44<07:45, 1845.13it/s]"
          ]
        },
        {
          "output_type": "stream",
          "name": "stdout",
          "text": [
            "Input nan is not valid. Should be a string, a list/tuple of strings or a list/tuple of integers.\n",
            "웨스 위드마이어 nan\n",
            "nan\n",
            "캘리포니아에 대해 생각해 본 적 있어 안세어린 소녀가 물었다 안세 캘리포니아에 대해 생각해 본 적 있니 neutral\n"
          ]
        },
        {
          "output_type": "stream",
          "name": "stderr",
          "text": [
            "  9%|▊         | 81073/935646 [00:46<06:12, 2295.63it/s]"
          ]
        },
        {
          "output_type": "stream",
          "name": "stdout",
          "text": [
            "nan\n",
            "드류가 왜 시작됐는지 모르겠어나는 정확히 이유를 알 수 있다 드류는 끝을 맺었다 contradiction\n"
          ]
        },
        {
          "output_type": "stream",
          "name": "stderr",
          "text": [
            "  9%|▉         | 82981/935646 [00:47<05:54, 2407.16it/s]"
          ]
        },
        {
          "output_type": "stream",
          "name": "stdout",
          "text": [
            "Input nan is not valid. Should be a string, a list/tuple of strings or a list/tuple of integers.\n",
            "비엔나 소음 합창단 nan\n"
          ]
        },
        {
          "output_type": "stream",
          "name": "stderr",
          "text": [
            "  9%|▉         | 85143/935646 [00:48<05:59, 2367.30it/s]"
          ]
        },
        {
          "output_type": "stream",
          "name": "stdout",
          "text": [
            "Input nan is not valid. Should be a string, a list/tuple of strings or a list/tuple of integers.\n",
            "AICPA 미국 공인 회계사 APB 회계 원칙 이사회 ARB 회계 연구 게시판 COSO 트레드 웨이위원회 조직위원회 FAS 재무 회계 기준 FASB 재무 회계 기준위원회 FASAB 연방 회계 기준 자문위원회 FIN FASB Interpertation Form amp Content OMB Bulletin 9701  1996 년 10 월 16 일 발행 GAO 일반 회계 사무소 NAA 전국 회계사 협회 OMB 관리 및 예산 사무국 SEC 증권 거래위원회 SFFAC 연방 재무 회계 개념 명세서 SFFAS 연방 재무 회계 표준 명세서 SOP 포지션 명세서 nan\n"
          ]
        },
        {
          "output_type": "stream",
          "name": "stderr",
          "text": [
            " 10%|▉         | 92726/935646 [00:51<06:04, 2310.29it/s]"
          ]
        },
        {
          "output_type": "stream",
          "name": "stdout",
          "text": [
            "nan\n",
            "조니는 글로리에타에서 유일한 소년이 아니었다조니는 글로리에타에 있었다entailment이런 뱀들 그가 사정했다이런 뱀들아 믿을 수가 없군 그가 소리쳤다 neutral\n"
          ]
        },
        {
          "output_type": "stream",
          "name": "stderr",
          "text": [
            " 10%|█         | 96010/935646 [00:53<06:17, 2222.03it/s]"
          ]
        },
        {
          "output_type": "stream",
          "name": "stdout",
          "text": [
            "nan\n",
            "우리 불쌍한 렙스 나머지 사람들은 전쟁에서 철수하는 게 좋을 거야당신은 우리 렙스의 나머지 사람들보다 전쟁에서 더 잘 벗어났음에 틀림없다 entailment\n",
            "Input nan is not valid. Should be a string, a list/tuple of strings or a list/tuple of integers.\n",
            "Vendme Opra Madeleine nan\n"
          ]
        },
        {
          "output_type": "stream",
          "name": "stderr",
          "text": [
            " 10%|█         | 96698/935646 [00:53<06:37, 2109.41it/s]"
          ]
        },
        {
          "output_type": "stream",
          "name": "stdout",
          "text": [
            "nan\n",
            "안세는안세에게 무슨 일이 일어나든 별로 신경 안 써 contradiction\n"
          ]
        },
        {
          "output_type": "stream",
          "name": "stderr",
          "text": [
            " 11%|█         | 98292/935646 [00:54<07:26, 1874.16it/s]"
          ]
        },
        {
          "output_type": "stream",
          "name": "stdout",
          "text": [
            "nan\n",
            "어떻게 해서든 그를 없애라 트린판트린판 그를 여기서 꺼내야 해 entailment\n"
          ]
        },
        {
          "output_type": "stream",
          "name": "stderr",
          "text": [
            " 11%|█         | 98827/935646 [00:54<09:18, 1498.16it/s]"
          ]
        },
        {
          "output_type": "stream",
          "name": "stdout",
          "text": [
            "nan\n",
            "나는 즉시 그렇게 해당장 그렇게 하겠어 entailment\n"
          ]
        },
        {
          "output_type": "stream",
          "name": "stderr",
          "text": [
            " 11%|█         | 102940/935646 [00:57<11:25, 1214.51it/s]"
          ]
        },
        {
          "output_type": "stream",
          "name": "stdout",
          "text": [
            "nan\n",
            "내가 여기저기 물어볼게내가 가서 질문할게entailment그래 내가 그들이 할 수 있는 또 다른 것은 내가 학교에 갔을 때 우리는 사회학에서 우리가 5 6주 동안의 세션처럼 모든 성적표 기간에 나누어서 우리가 원하는 것을 고를 수 있다는 거야나의 고등학교 사회과 과정은 6주에 너무 짧았다neutral이것은 라스베가스를 지도에 올렸고 그 역사의 중요한 전환점 중 하나였다이 행사가 끝난 후 주요 카지노가 건설되기 시작했다neutral합동 참모 총장 국방부 군사 및 관련 용어 사전 공동 간행물 102 1994년 3월 23일공동 출판물은 매년 개정되고 업데이트된다neutral뉴 마카오  타이파 다리 건설로 공항에 쉽게 접근할 수 있게 되었기 때문에 산업 개발 새로운 아파트 블록 및 고급 리조트 호텔과 함께 인구는 3만 명 이상으로 증가했습니다새로운 다리는 관광의 약간의 증가 외에 도시에 거의 영향을 미치지 않았습니다contradiction그는 침대에 주저앉아 생각에 잠겼다그는 침대에 누워 재빨리 깊이 잠들었다contradiction이 길은 당신을 모른 루즈와 아주파 부일론을 통과하게 한다모른 루즈까지 데려다 줄 수 있는 길은 없다contradiction1994년 연방작물보험개혁 및 농업재편법Pub연방작물보험개혁법은 1938년에 제정되었다contradiction결국 그걸 넣지 않을 거야그거 가지고 있을 거야neutral그것은 마을의 화제가 될 것이다아무도 그것에 대해 말하지 않을 것이다contradiction왼쪽 transept에는 아들 Giovanni와 Arnolfo di Cambio의 도움으로 Nicola Pisano가 조각한 웅장한 팔각형 13세기 강단이 있습니다아르놀포 디 캄비오는 공을 받은 니콜라 피사노보다 더 많은 일을 했다고 한다neutral보제스 산맥의 춥고 축축하고 북서쪽 바람으로부터 격리된 알자스의 포도원은 부르고뉴와 보르도의 더 유명한 와인에 대해 자신 있게 자신의 와인을 생산하는 이상적인 미기후를 즐긴다알자스의 포도원은 축축하고 차가운 북서풍에 끊임없이 노출된다contradiction제도적 단위적 팀 및 개별 성과 측정 및 보상 시스템을 부서의 전략적 계획 핵심 가치 및 원하는 결과에 연결하는 신뢰할 수 있고 효과적이며 공평한 성과 관리 시스템을 구현하는 것을 포함한 현대 인적 자본 전략은 성공에 매우 중요할 것이다현대 인적 자본 전략은 성공에 매우 중요할 것 같다고 나는 신문에서 읽었다 neutral\n"
          ]
        },
        {
          "output_type": "stream",
          "name": "stderr",
          "text": [
            " 11%|█         | 104131/935646 [00:58<10:49, 1280.89it/s]"
          ]
        },
        {
          "output_type": "stream",
          "name": "stdout",
          "text": [
            "Input nan is not valid. Should be a string, a list/tuple of strings or a list/tuple of integers.\n",
            "그래 아니 네가 아는 그 지역은 아니야 네가 아는 TI 공장이야 네가 아는 한 그들이 무엇을 만들고 날씨를 제외한 모든 것을 nan\n"
          ]
        },
        {
          "output_type": "stream",
          "name": "stderr",
          "text": [
            " 12%|█▏        | 108281/935646 [01:01<06:26, 2141.40it/s]"
          ]
        },
        {
          "output_type": "stream",
          "name": "stdout",
          "text": [
            "nan\n",
            "입구 근처에 빗자루가 있을 거야 여동생앞문 옆에 빗자루를 구할 수 있어 여동생 neutral\n"
          ]
        },
        {
          "output_type": "stream",
          "name": "stderr",
          "text": [
            " 12%|█▏        | 109677/935646 [01:01<05:54, 2327.11it/s]"
          ]
        },
        {
          "output_type": "stream",
          "name": "stdout",
          "text": [
            "Input nan is not valid. Should be a string, a list/tuple of strings or a list/tuple of integers.\n",
            "우편요금은 개인용 컴퓨터를 소유하고 있는지 여부입니다 nan\n"
          ]
        },
        {
          "output_type": "stream",
          "name": "stderr",
          "text": [
            " 12%|█▏        | 112944/935646 [01:03<06:11, 2211.96it/s]"
          ]
        },
        {
          "output_type": "stream",
          "name": "stdout",
          "text": [
            "nan\n",
            "나는 당신의 큰 비밀에 대해 모두 알고 있소네가 숨기고 있던 것을 발견했어 entailment\n"
          ]
        },
        {
          "output_type": "stream",
          "name": "stderr",
          "text": [
            " 13%|█▎        | 122880/935646 [01:07<06:03, 2237.52it/s]"
          ]
        },
        {
          "output_type": "stream",
          "name": "stdout",
          "text": [
            "nan\n",
            "하늘이 무너지고 있어 데이브 핸슨하늘은 항상 있던 곳에 그대로 있어 데이브 핸슨 contradiction\n"
          ]
        },
        {
          "output_type": "stream",
          "name": "stderr",
          "text": [
            " 13%|█▎        | 123826/935646 [01:07<06:07, 2210.94it/s]"
          ]
        },
        {
          "output_type": "stream",
          "name": "stdout",
          "text": [
            "Input nan is not valid. Should be a string, a list/tuple of strings or a list/tuple of integers.\n",
            "말도 안 되는 소리야 nan\n"
          ]
        },
        {
          "output_type": "stream",
          "name": "stderr",
          "text": [
            " 14%|█▍        | 129040/935646 [01:10<10:16, 1307.83it/s]"
          ]
        },
        {
          "output_type": "stream",
          "name": "stdout",
          "text": [
            "nan\n",
            "자연스럽게분명히 거짓이야 neutral\n"
          ]
        },
        {
          "output_type": "stream",
          "name": "stderr",
          "text": [
            " 14%|█▍        | 132515/935646 [01:13<10:13, 1309.05it/s]"
          ]
        },
        {
          "output_type": "stream",
          "name": "stdout",
          "text": [
            "nan\n",
            "명령이 아니라 아니주문이 아니라 판매입니다neutral노숙자들은 어떤가요부자들에 대해 어떻게 생각하세요contradiction1998 회계연도에 텍사스는 약 7달러를 썼다텍사스는 1998년에 거의 7달러를 썼다entailment주요 명소를 볼 수 있는 몇 가지 다른 명소는 Altinkum과 Ilca의 황금 모래 해변과 온천입니다알틴쿰의 해변은 붐비지 않고 일년 내내 따뜻하다neutralFGD 설치에서 크레인을 사용하는 것의 유용성과 적절성은 크레인을 현장에 물리적으로 배치하거나 부지에 인접한 기능예을 포함한 몇 가지 요인에 따라 달라진다FGD 설치 중 크레인 사용의 효율성에 영향을 미치는 몇 가지 요인entailment블루 마운틴과 커피 콩 사이의 자연 친화력은 놀라운데 첫 번째 식물은 우연히 자메이카에 도착했다고 합니다커피콩은 다른 작물과 함께 블루 마운틴에서 재배된다neutral과학은 종종 치명적인 아동학대조차 증명할 수 없지만 그 힘이 없는 것은 아니다치명적인 아동학대는 사실 매번 과학에 의해 증명될 수 있다contradiction안녕히 계세요난 네가 싫어 가버려contradiction택시가 멈췄다택시가 속도를 높였다contradiction작은 남자가 카다안의 창문 옆에 서서 서쪽의 들판과 산 너머를 내다보고 있었다한 남자가 들판을 내다보았다entailment그들은 정부가 그 조치를 승인한 것에 대해 처벌하기를 원한다고 의심했다그들은 정부가 그들을 처벌하고 싶어한다고 생각하지 않았고 그들에게 보상하고 싶어했다contradiction제노아 태생의 주세페 마찌니의 조빈 이탈리아젊은 이탈리아 운동은 대중에 기반을 둔 반란으로 국민통합을 추구했다조빈 이탈리아 운동은 이탈리아를 통일시키려고 노력했다entailment그것은 도망친 신의 그림자 대담하고 젊고 아무것도 두려워하지 않을 때 그들이 몰고 간 신에 대한 복종일 뿐이다그들이 젊고 겁이 없을 때 그들은 신을 사랑스럽게 환영했다contradiction그러나 현재 시설은 NOX SIP 콜에 응답하고 있으며 NOX SIP 콜 마감일이 도래한 2004년에 궁극적으로 얼마나 많은 시설이 SCR을 장착할 지 정확히 불확실합니다우리는 총 30개의 시설에 SCR이 장착될 것으로 예상하지만 그것은 변경될 수 있다neutral그녀는 아마 우리 중 어느 누구보다 똑똑할 것이다우리는 아마도 그녀만큼 똑똑하지 않을 것이다entailment그 점에 대해서는 결론을 내릴 수 없었다그는 재빨리 그 점에 대해 결론을 내렸다contradiction음 어린 소녀가 노래하는 연습이 완벽해갈색 머리와 보라색 눈을 가진 작은 소녀가 Practice Makes Perfect를 부른다neutral그러나 대중에게 공개되는 최고의 지하실은 Clos de Vougeot의 샤또에있는 사람들이며 혁명 전까지 Cisterterian 승려가 소유하고 있으며 현재 Chevaliers du Tastevin 와인 테 이스터의 형제의 재산입니다Chevaliers du Tastevin은 지하실을 가지고 있지 않다contradiction울프의 중간의 혼란에 대한 초상화는 이데올로기의 진부하고 독단적인 선원들에게만 충격적일 것이라는 주장이 제기될 수도 있다울프의 초상화는 독단적인 경향의 누구에게도 충격적이지 않았다contradiction그 밑에는 신분증이 있었다그 밑에는 누군가의 신용카드가 있었다contradiction사실 그가 옳을지도 모른다는 옹졸한 의심으로 후원을 받는 것에 대한 분노를 해소하기는 어렵다그의 의견은 인기가 없다neutral그래 그 부분은 20년 동안 사회보장에 지불하고 있는 작은 것 외에는 좋은 부분이라는 것을 알고 있고 언제 시작하느냐는 것을 제외하고는 말이다당신은 사회보장제도에 돈을 주지 않는다contradiction반면에 시나리오 B는 표와 같이 전기 분야에 영향을 미칠 기술 특성화의 변화를 예상한다기술 특성화는 변화하고 있으며 전기 분야에 영향을 미칠 것이다entailment왜냐하면 지난 여름에 당신이 정원을 계속 기르는 유일한 방법은 매일 하루 종일 물을 주는 것이었고 그것은 단지 바삭바삭하게 타버릴 것이기 때문이다당신의 정원은 어제 돌보지 않아도 되었다contradiction허버트 스타인의 커플들이 지나가는 것을 지켜보는 것에 대한 가란스 프란케루타의 반응은 재미있지만 우스꽝스럽다FrankeRuta는 커플들이 지나가는 것을 보는 것을 좋아하지 않았다 neutral\n"
          ]
        },
        {
          "output_type": "stream",
          "name": "stderr",
          "text": [
            " 15%|█▌        | 143552/935646 [01:24<05:46, 2288.40it/s]"
          ]
        },
        {
          "output_type": "stream",
          "name": "stdout",
          "text": [
            "nan\n",
            "나는 즉시 그렇게 해점심 먹고 바로 할게 neutral\n"
          ]
        },
        {
          "output_type": "stream",
          "name": "stderr",
          "text": [
            " 16%|█▌        | 148515/935646 [01:28<10:13, 1282.34it/s]"
          ]
        },
        {
          "output_type": "stream",
          "name": "stdout",
          "text": [
            "nan\n",
            "유사 컴퓨터는 하는 기계다유사 컴퓨터는 entailment\n"
          ]
        },
        {
          "output_type": "stream",
          "name": "stderr",
          "text": [
            " 16%|█▋        | 154326/935646 [01:31<05:54, 2202.63it/s]"
          ]
        },
        {
          "output_type": "stream",
          "name": "stdout",
          "text": [
            "Input nan is not valid. Should be a string, a list/tuple of strings or a list/tuple of integers.\n",
            "날씨에 따라서든 그렇지 않든 nan\n"
          ]
        },
        {
          "output_type": "stream",
          "name": "stderr",
          "text": [
            " 17%|█▋        | 159576/935646 [01:34<05:44, 2253.33it/s]"
          ]
        },
        {
          "output_type": "stream",
          "name": "stdout",
          "text": [
            "Input nan is not valid. Should be a string, a list/tuple of strings or a list/tuple of integers.\n",
            "그래 아니 네가 아는 그 지역은 아니야 네가 아는 TI 공장이야 네가 아는 한 그들이 무엇을 만들고 날씨를 제외한 모든 것을 nan\n"
          ]
        },
        {
          "output_type": "stream",
          "name": "stderr",
          "text": [
            " 17%|█▋        | 161184/935646 [01:35<05:44, 2246.52it/s]"
          ]
        },
        {
          "output_type": "stream",
          "name": "stdout",
          "text": [
            "Input nan is not valid. Should be a string, a list/tuple of strings or a list/tuple of integers.\n",
            "생제르맹 nan\n"
          ]
        },
        {
          "output_type": "stream",
          "name": "stderr",
          "text": [
            " 18%|█▊        | 164477/935646 [01:36<05:32, 2319.11it/s]"
          ]
        },
        {
          "output_type": "stream",
          "name": "stdout",
          "text": [
            "Input nan is not valid. Should be a string, a list/tuple of strings or a list/tuple of integers.\n",
            "불륜을 저지르지 마라 nan\n"
          ]
        },
        {
          "output_type": "stream",
          "name": "stderr",
          "text": [
            " 18%|█▊        | 169937/935646 [01:38<05:44, 2220.90it/s]"
          ]
        },
        {
          "output_type": "stream",
          "name": "stdout",
          "text": [
            "Input nan is not valid. Should be a string, a list/tuple of strings or a list/tuple of integers.\n",
            "웨스 위드마이어 nan\n",
            "nan\n",
            "데이브 핸슨 당신네 세계에서는 공학 예술에 정통했군 대부분의 사람들보다데이브 핸슨 넌 여기나 네 세상에서 공학에 대해 아무것도 몰라 contradiction\n"
          ]
        },
        {
          "output_type": "stream",
          "name": "stderr",
          "text": [
            " 18%|█▊        | 170848/935646 [01:39<05:40, 2248.89it/s]"
          ]
        },
        {
          "output_type": "stream",
          "name": "stdout",
          "text": [
            "nan\n",
            "어떻게 해서든 그를 없애라 트린판트린판 그를 곁에 두어 주시오 contradiction\n",
            "nan\n",
            "마을로 돌아가 레니 닥네레니 시내에 있는 의사당에서 entailment\n"
          ]
        },
        {
          "output_type": "stream",
          "name": "stderr",
          "text": [
            " 18%|█▊        | 171305/935646 [01:39<05:38, 2257.93it/s]"
          ]
        },
        {
          "output_type": "stream",
          "name": "stdout",
          "text": [
            "nan\n",
            "M모자를 손에 들고 가라 음 파 여기 네 방랑자야라고내가 그에게 한 모든 일이 있은 후에도 나는 여전히 모자를 손에 들고 아버지에게 다가가 용서를 구해야 할까 neutral\n"
          ]
        },
        {
          "output_type": "stream",
          "name": "stderr",
          "text": [
            " 19%|█▉        | 181478/935646 [01:46<05:42, 2204.84it/s]"
          ]
        },
        {
          "output_type": "stream",
          "name": "stdout",
          "text": [
            "nan\n",
            "그건 다 잘된 일이지만 무엇이 중요한지 무엇이 중요하지 않은지 어떻게 결정할 것인가나는 무엇이 중요한지 무엇이 중요하지 않은지 어떻게 결정할 것인가라고 반대할 생각 없이 물었다 contradiction\n"
          ]
        },
        {
          "output_type": "stream",
          "name": "stderr",
          "text": [
            " 20%|██        | 188257/935646 [01:49<05:26, 2290.05it/s]"
          ]
        },
        {
          "output_type": "stream",
          "name": "stdout",
          "text": [
            "nan\n",
            "Dratted sylphs실프가 존재하지 않았다면 모든 사람들에게 더 쉬웠을 것이다neutral내 생각엔 브라운 씨가 비웃듯 말했다줄리어스는 정중하게 말했다contradiction버닝 부시의 작은 교회가 덤불이 서 있던 곳을 표시하는 단지 안에 자리잡고 있다그 단지에는 불타는 부시의 작은 교회가 없다contradiction음흠 음 그들은 은색이거나그것들은 파랗다contradiction광고는 믿을 수 없을 정도로 믿을 수 없는 것이었습니다 아마 80대 4가 정말로 내리막길을 걷기 시작했을 때였을 겁니다 하지만 당신은 내가 항상 자라서 카우보이 카우보이 카우보이와 이 모든 것들을 듣는 것에 익숙하다는 것을 알고 있기 때문에 나는 그들이 몇 년 동안 나쁜 시간을 보내고 있다는 것을 결정할 수 없다는 것을 알 수 없을 겁니다 그리고 그들이 다시 좋은 성적을 낼 것이라는 것을 알고 있을 겁니다 그리고 그들이 다시 좋은 성적을 낼 것이라는 것을 알 겁니다티켓 가격이 하락했다contradiction원숭이가 할 수 있다는 거 알잖아그렇게 간단합니다neutral여기 소가 별로 없어서 리바스가 돌아왔다리바스는 여기는 소가 많지 않다고 대답했다 entailment\n"
          ]
        },
        {
          "output_type": "stream",
          "name": "stderr",
          "text": [
            " 20%|██        | 191075/935646 [01:50<05:31, 2242.71it/s]"
          ]
        },
        {
          "output_type": "stream",
          "name": "stdout",
          "text": [
            "Input nan is not valid. Should be a string, a list/tuple of strings or a list/tuple of integers.\n",
            "국제통제연방정부GAOAIMD99의 표준 nan\n"
          ]
        },
        {
          "output_type": "stream",
          "name": "stderr",
          "text": [
            " 21%|██        | 192718/935646 [01:51<05:22, 2303.29it/s]"
          ]
        },
        {
          "output_type": "stream",
          "name": "stdout",
          "text": [
            "Input nan is not valid. Should be a string, a list/tuple of strings or a list/tuple of integers.\n",
            "AICPA 미국 공인 회계사 APB 회계 원칙 이사회 ARB 회계 연구 게시판 COSO 트레드 웨이위원회 조직위원회 FAS 재무 회계 기준 FASB 재무 회계 기준위원회 FASAB 연방 회계 기준 자문위원회 FIN FASB Interpertation Form amp Content OMB Bulletin 9701  1996 년 10 월 16 일 발행 GAO 일반 회계 사무소 NAA 전국 회계사 협회 OMB 관리 및 예산 사무국 SEC 증권 거래위원회 SFFAC 연방 재무 회계 개념 명세서 SFFAS 연방 재무 회계 표준 명세서 SOP 포지션 명세서 nan\n"
          ]
        },
        {
          "output_type": "stream",
          "name": "stderr",
          "text": [
            " 21%|██        | 196668/935646 [01:53<05:28, 2252.73it/s]"
          ]
        },
        {
          "output_type": "stream",
          "name": "stdout",
          "text": [
            "Input nan is not valid. Should be a string, a list/tuple of strings or a list/tuple of integers.\n",
            "7 Soderstrom CA Smith GS Dischinger PC McDuff DR Hebel JR Gorelick DA 등 nan\n"
          ]
        },
        {
          "output_type": "stream",
          "name": "stderr",
          "text": [
            " 22%|██▏       | 202030/935646 [01:55<05:58, 2046.34it/s]"
          ]
        },
        {
          "output_type": "stream",
          "name": "stdout",
          "text": [
            "Input nan is not valid. Should be a string, a list/tuple of strings or a list/tuple of integers.\n",
            "날씨에 따라서든 그렇지 않든 nan\n"
          ]
        },
        {
          "output_type": "stream",
          "name": "stderr",
          "text": [
            " 22%|██▏       | 209307/935646 [02:01<09:34, 1264.98it/s]"
          ]
        },
        {
          "output_type": "stream",
          "name": "stdout",
          "text": [
            "Input nan is not valid. Should be a string, a list/tuple of strings or a list/tuple of integers.\n",
            "우편요금은 개인용 컴퓨터를 소유하고 있는지 여부입니다 nan\n"
          ]
        },
        {
          "output_type": "stream",
          "name": "stderr",
          "text": [
            " 23%|██▎       | 211406/935646 [02:02<05:23, 2236.49it/s]"
          ]
        },
        {
          "output_type": "stream",
          "name": "stdout",
          "text": [
            "nan\n",
            "그에게 자기 혈육을 가진 아이가 없다는 것은 매우 유감스러운 일이다그의 입양된 아이가 진정으로 그의 피가 아니라는 것은 슬픈 일이다neutral팔레르모에 있는 자신의 궁정에서 국어를 위한 운동을 시작한 것은 외국인 독일 황제 프레데릭 2세였지만 플로렌타인 태생의 단테 알리기에리1265 1321년는 그것을 결실을 맺기 위한 열정 도덕적 리더십 문학적 예를 제공했다독일 황제는 국가를 위해 하나의 언어를 가지려는 노력을 시작했다entailment내가 회의 내내 천장을 보고 가끔 눈길을 훔치거나 아니면 그냥 90년대 일이라고 가정해야 하는 거야내가 이 상황을 어떻게 처리해야 하는지는 나에게 매우 분명하다contradiction어디서 찾았어요어디서 찾았습니까entailment2년 전 우리는 Seder를 가지고 있었다 우리는 매일 밤 16명의 사람들이 있었다 16은 우리에게 마법의 숫자처럼 보인다16명이면 충분히 성공한 세더였다neutral그건 그렇겠지만 아버지는 마음이 상하셨다아버지는 무슨 일이 일어났는지 듣고 기뻐하셨다contradiction음 그리고 나는 그것이 아마도 내가 그것에 대해 좋아하는 것이라고 생각한다 왜냐하면 그들 중 많은 것들이 완전히 동봉되어 있기 때문이다나도 여러 가지 다른 이유 때문에 좋아neutral하지만 난 우리가 항상 더 잘 하고 있다고 생각해 난 여전히 그렇지 않아나는 우리가 점점 더 나빠지고 있다고 믿는다 contradiction\n"
          ]
        },
        {
          "output_type": "stream",
          "name": "stderr",
          "text": [
            " 23%|██▎       | 212594/935646 [02:02<05:10, 2328.75it/s]"
          ]
        },
        {
          "output_type": "stream",
          "name": "stdout",
          "text": [
            "Input nan is not valid. Should be a string, a list/tuple of strings or a list/tuple of integers.\n",
            "비엔나 소음 합창단 nan\n"
          ]
        },
        {
          "output_type": "stream",
          "name": "stderr",
          "text": [
            " 23%|██▎       | 215375/935646 [02:03<05:20, 2245.02it/s]"
          ]
        },
        {
          "output_type": "stream",
          "name": "stdout",
          "text": [
            "Input nan is not valid. Should be a string, a list/tuple of strings or a list/tuple of integers.\n",
            "7 Soderstrom CA Smith GS Dischinger PC McDuff DR Hebel JR Gorelick DA 등 nan\n"
          ]
        },
        {
          "output_type": "stream",
          "name": "stderr",
          "text": [
            " 24%|██▍       | 223966/935646 [02:07<05:18, 2231.30it/s]"
          ]
        },
        {
          "output_type": "stream",
          "name": "stdout",
          "text": [
            "nan\n",
            "드류가 왜 시작됐는지 모르겠어드류는 왜 그런지 알 수 없다고 말했다 entailment\n"
          ]
        },
        {
          "output_type": "stream",
          "name": "stderr",
          "text": [
            " 25%|██▌       | 237924/935646 [02:19<05:18, 2192.15it/s]"
          ]
        },
        {
          "output_type": "stream",
          "name": "stdout",
          "text": [
            "Input nan is not valid. Should be a string, a list/tuple of strings or a list/tuple of integers.\n",
            "불륜을 저지르지 마라 nan\n"
          ]
        },
        {
          "output_type": "stream",
          "name": "stderr",
          "text": [
            " 26%|██▌       | 240285/935646 [02:20<05:04, 2280.44it/s]"
          ]
        },
        {
          "output_type": "stream",
          "name": "stdout",
          "text": [
            "Input nan is not valid. Should be a string, a list/tuple of strings or a list/tuple of integers.\n",
            "국제통제연방정부GAOAIMD99의 표준 nan\n",
            "Input nan is not valid. Should be a string, a list/tuple of strings or a list/tuple of integers.\n",
            "원주민 내가 이기고 나는 큰 법을 어기고 nan\n"
          ]
        },
        {
          "output_type": "stream",
          "name": "stderr",
          "text": [
            " 26%|██▌       | 243520/935646 [02:21<05:02, 2287.36it/s]"
          ]
        },
        {
          "output_type": "stream",
          "name": "stdout",
          "text": [
            "nan\n",
            "마을로 돌아가 레니 닥네레니 그는 시내에 있는 의사실에 있어 neutral\n"
          ]
        },
        {
          "output_type": "stream",
          "name": "stderr",
          "text": [
            " 26%|██▋       | 247909/935646 [02:23<05:40, 2020.72it/s]"
          ]
        },
        {
          "output_type": "stream",
          "name": "stdout",
          "text": [
            "nan\n",
            "그건 내가 말하려던 게 아니야 세노르 리바스당신은 일을 너무 빨리 가정한다neutral헐리우드 특수효과의 마법이야 이 영화 F X 파트 2가 나온다고 들었어난 정말 다음 영화를 보고 싶어neutral이제 훈련용 선박으로 안내된 투어를 통해 방문객들에게 개방된다방문객들은 배에서 안내 투어를 할 수 있다entailment반면에 입찰 제안이 구조화되는 방식은 그들이 받아들여질 것이라는 것을 거의 보장한다입찰 제안은 보통 받아들여진다entailment불특정 장기적으로 경제를 완전고용으로 내몰고 있는 보이지 않는 손 대신 우리는 연준이 2 3년 동안 비인플레이션 실업률을 추정하는 쪽으로 우리를 밀어붙이는 가시적인 손을 가지고 있다연방준비제도이사회Fed는 완전고용을 위해 일하는 대신 실업률 목표를 향해 우리를 밀어붙이고 있다entailment그가 56세에 입학했다는 사실만으로도 충분할까그가 집에 침입했다는 사실은 무시될까contradiction존 갈리아노는 보석으로 장식된 스프레이와 별들로 덮인 검은 면사틴 모래시계 코르셋으로 2만 5천 달러에 당첨되었고 제인 러셀을 희미하게 암시했다 전적으로 검은 코크 깃털로 만든 2000달러의 요시비 이시누마 비키니가 그 뒤를 이었다 그리고 완전히 창백한 밍크로 만든 로버트 볼리외 비키니는 750달러에 구입할 수 있었다2만 5천 달러로 이긴 것은 존 갈리아노였다entailment외국의 습관을 존중하여 대부분의 호텔과 일부 카페는 이제 계란이 있든 없든 오렌지 주스 토스트 커피로 구성된 데사유노 컴플레토를 제공한다대부분의 호텔은 외국 호텔과는 달리 아침 식사를 가득 채운다entailment네 마리의 활기찬 사자가 말 코끼리 황소 그리고 작은 사자로 이루어진 동물들의 프리즈 위에 뒤로 물러서는데 그들 각각은 법의 수레바퀴로 분리되어 한때 기둥과 연결되었던 역연꽃 위에 놓여 있다각각의 동물은 서로 바로 위에 서 있다contradiction수당 할당이 업데이트되어야 하며 그렇다면 얼마나 자주 업데이트되어야 하는가수당 배분을 얼마나 자주 업데이트해야 하는가entailment2주간의 유람선 여행과 필라델피아에서의 2 3일간의 평일나는 내 애인과 함께 유람선을 타기를 고대하고 있다neutral채플 힐  전 조지아 주지사들에는 뭔가 다른 점이 있을 것이다조지아 주지사들은 다소 독특하다entailment 지역 공장의 폐쇄 혜택은 멀리 있거나 확산되기 때문에 보이지 않는 경향이 있다예이점은 상당히 확산되는 경향이 있다entailment국가기후변화기술구상National Climate Change Technology Initiative은 장기적으로 기후변화를 해결하는 실질적인 해답이 금세기 그러한 기술의 개발과 글로벌 도입에 있다는 것을 인식하면서 우선순위 연구와 첨단 에너지 및 격리 기술의 적용을 가속화할 것이다국가기후변화기술 이니셔티브는 화석연료회사에 대한 보조금이다contradiction그러자 한 손이 그의 어깨에 떨어졌다그의 여자친구가 그의 어깨를 두드렸다neutral플림튼은 어느 순간 리스트에서 길을 잃었지만 세실 디온으로 디스플레이의 사운드트랙에 기여한 사람 중 한 명을 언급했음에도 불구하고 그는 이 행사에 그의 귀족적 음색과 불꽃놀이에 대한 전설적인 친숙함을 가져왔다플림튼은 불꽃놀이에 익숙하다entailment그 후 그들은 다른 모든 전문가들을 위해 데이브의 세계로 돌아가기 시작했다그들이 데이브의 세계로 돌아가기 시작한 후였다entailment좋은 혜택 패키지를 제공하고 핵심 역량을 구축하는 것은 특히 오늘날의 자기보존 성향의 세대Xers 사이에서 IT 근로자들을 끌어들이고 자극하고 유지시키는 다른 방법이다좋은 혜택을 제공하면 근로자들이 일자리를 유지할 수 있다entailment인프라 교육 및 R  ampD에 대한 연방 지출과 민간 저축 및 투자에 대한 세금 인센티브에 대한 선택은 미래의 경제 성장에 영향을 미칩니다교육비 지출은 대부분 교사와 학생들을 위해 더 나은 책상을 구입하는 데 들어간다neutral손은 별로 신경 쓰지 않는다손은 싸움을 별로 신경 쓰지 않는다neutral글쎄 너는 아침에 신문을 읽을 시간이 있니아침에 신문을 읽을 시간이 없다는 거 알아contradiction한 유물은 운전자들이 Geewhiz GTI를 위해 원했던 것을 되찾는다 그리고 그것은 그들을 얻을지도 모른다한 유물은 괴짜들을 위해 가고 싶어하는 운전자들을 되찾는다entailment이것은 자유주의가 증가하는 것처럼 보이지만 그것은 단지 상업을 잠식하고 7월 4일 재미난 재미를 위해 종이 접시 컵 냅킨을 팔겠다는 결심보다 언론의 자유에 대한 헌신이 덜하다이것은 상업을 잠식하는 것처럼 보이지만 실제로는 자유주의가 증가하고 있다contradiction봉우리의 북쪽을 중심으로 초승달을 이루는 후지 오호는 낚시 보트 타기 등산을 위한 즐거운 기회를 제공한다낚시와 하이킹을 할 수 있는 기회가 많다entailment예 시에라는 아직 그런 성숙함을 보여주지 않았다시에라는 결국 성숙도를 보여줄지도 모른다neutral동미 말의 번식은 아마도 국경 남쪽에 등록되지 않았을 것이다동미 말 사육은 국경 남쪽에 큰 영향을 미쳤다contradiction그는 좋은 사람이야그는 나쁜 사람이다contradiction힐러리가 매우 심각한 범죄가 될 것이라고 말하는 비디오가 그의 얼굴에 몇 번이고 다시 던져질 것이라는 것을 알고 대통령이 미아 과실을 저지를 수 있을까대통령은 저 밖에 있는 모든 비디오들을 정말 싫어한다neutral음흠 그래 맞아 그래 내 생각엔 이게 아주 흥미로운 주제였던 것 같아나는 이것이 흥미로운 주제였다고 생각한다entailment아니 그가 추구하는 것은 배심원들의 마음속에 그런 혼란을 일으키는 것인데 그들은 어느 형이 그랬는지에 대해 의견이 분분하다배심원단은 두 형제 모두 유죄라고 믿었다neutral포브스의 슬로건입니다포브스의 슬로건은 매우 매력적이다neutral몸매가 안 좋아 뚱뚱한 소년너는 운동할 필요가 있어neutral광고주들은 또한 AIB를 사용하여 그들이 입장을 취하고 있는 최근의 뉴스 이벤트나 다른 신속한 대응을 위해 대응할 수도 있다AIB는 또한 새로운 뉴스 기사에 답하기 위해 광고주들에 의해 이용될 수 있다entailment그는 고운 기어들이 뒤엉켜 있는 것을 응시하다가 열린 앞쪽 즉 하늘을 향해 건물을 내다보았다그 건물은 탁 트인 앞쪽에 하늘이 보였다entailment제 4 왕조의 Djoser 왕은 그의 치명적인 유적을 보관하고 다음 생을 위해 그와 함께 묻힌 부를 보호하기 위해 큰 장례 기념비를 세우려고 시도한 최초의 사람이었다여섯 번째 왕조 이전에 큰 장례 기념물을 세우려는 시도에 대한 기록은 없습니다contradiction오 이런 그래서 그것은 당신이 그것을 볼 수 있는 많은 의미를 가지고 있다나는 그것이 너에게 중요하지 않다는 것을 안다contradiction칠해진 조끼를 입은 남자는 테이블에 앉아 솔리테어 게임의 복잡한 패턴으로 카드를 펼쳐놓고 있었다그 남자는 카드를 뒤척이며 포커를 치기 위해 그것들을 나눠주었다contradiction기능 영향 결정 및 효과에 대한 강력한 추론그 효과는 상황에 따라 다르다neutral그리고 그것은 돌연변이 고양이고 그들은 꽤 비싸다 우리는 우리가 약 천 달러를 벌 수 있을 것이다 음 그들은 매우 얇고 길고 날씬하고 깡마른 머리를 가지고 있다 사실 그것은 곱슬곱슬한 머리카락이다이 돌연변이 고양이들은 얇고 나른하며 그것의 결정적인 특징이다entailment그는 오직 그 자신처럼 그 누구에게도 뒤지지 않았다그의 죽음은 비록 삶이지만 우리는 슬프고 그르고 모두 헛되이 신음한다그들의 손실은 그가 아니라 세상을 가득 메우는 그들을 울부짖는다죽음은 그가 아니라 그는 하늘을 향해 죽음을 만들었다그는 아직 살아 있다contradiction이들은 각 기관이 자신들의 특정 상황에 맞는 시스템을 개발할 필요가 있으며 현재의 표준화 부족이 문제였거나 표준화가 규칙 제정 과정에서 기관이 받는 참여의 양이나 질을 향상시킬 것이라는 자료가 없다고 말했다이들 기관의 시스템은 모두 IT 기반이었습니다neutral그는 그녀가 아무런 흔적도 보이지 않았지만 그의 시선을 알고 있다는 것을 알고 있었다그녀는 그의 시선을 의식하고 있다는 기미를 보이지 않았다entailment그리고 어쨌든 척추 스트레칭 운동에 필요하지 않았던 축구장 대신 클로저 전투 4  궁극적인 폭발의 페인트볼 버전의 팬들을 위한 오마하 해변의 복제품이 있을 예정이었다척추 스트레칭 운동을 하려면 축구장이 있어야 한다contradiction급류가 서쪽으로 다시 흘러간 지 3개월이 걸릴지도 모르지만 그들은 올 것이다그들은 결국 도착할 것이다entailment감사인은 비용 모델을 사용하여 정확한 수치가 아닌 일반적인 추정치를 제공해야 한다정확한 수치를 주는 감사자들은 그들이 제공하는 많은 정보를 쓸모가 없다는 것을 알게 된다neutral그렇습니다 ii가 대화 중 하나를 보았을 때이 여성 판사가 플로리다에서 믿는다는 것을 보여 주면 그녀는 단지 뻣뻣한 처벌을 받았으며 판사 손에서 실제로 양심적이며 실제로 당신이 고통을 겪는 것을 보았습니다 당신이 정말로 좋은 영향을 줄 수있는 판사를 가질 수있는 것과 같은 것에 대한 문장을 제시하십시오 마찬가지로 당신은 반대편을 가질 수 있고 판결을받은 판사를 가질 수 있습니다 당신이 정치를 아는 이유는 모든 종류의 사람들을 통해 그에게 도덕적이거나 잘못 사용 된 경우에 당신이 알고있는 많은 힘을 가지고있을 것입니다 어쨌든 그것을 막을 지 모르겠지만 배심원 시스템이 장점을 가지고있는 것처럼 보이지만 또한 그들은 때로는 그들이 생각하는 배심원을 선택하기 전에 300 명의 배심원처럼 겪는 재판에서 들었습니다 에있을거야 당신이 아는 가장 관대하게 될 것입니다 그리고 난 그들이 동료의 배심원을 얼마나 많이 받고 있는지 모르겠습니다우리는 직원 휴게실에서 라운지가 쉬는 동안 그 쇼를 보았다neutral남자들은 종종 셔츠를 입고 넥타이를 매야 한다 정확히 맞더라도 일년 중 몇 시에 맞는지남자들은 복장 규정이 있어서 아무리 따뜻해도 셔츠와 넥타이를 매야 한다neutral할당은 연료 중립이어야 하는가할당이 연료 중립적이어야 하는지에 대한 질문을 받았다entailment어느 쪽이든 YS폭포는 한 시간 혹은 하루 종일 즐거운 시간을 보낼 수 있는 아름다운 매력을 만들어낸다관광객들은 YS폭포의 아름다움을 보기 위해 많은 수수료를 받는다neutral그리고 그렇지 않을 수도 있다확실히 그렇지 않을 것이다contradiction위험한 저류에 대해 경고하는 붉은 깃발을 조심하고 해변이 구조대원들에 의해 순찰되고 있는지 확인하라저류는 수영하는 사람들이 걱정할 필요가 없는 것이다contradiction죽어도 투드만은 실용적인 악당에 대한 재능을 증명하고 있다Tudjman은 실용적인 악행의 가장 좋은 예이다neutral브렌나는 미소를 지으며 몸을 뒤척였다브렌나는 화가 나서 달아났다contradiction그것은 리틀의 중심부까지 여행하고 승객들을 연어 회사의 문간에 예치한 다음 다시 아래로 바람을 쐬고 있다그 기차는 연어회사에서 많이 이용하고 있다neutral우리 둘 다 큰 와인 드링크가 아니야 그래 오늘 밤에 나가서 내가 맥주를 마셨다는 거 알잖아 그리고 너도 알다시피 그녀가 우리가 아니라는 걸 알고 있기 때문에 우리는 그녀가 기대한 이후로 술을 끊고 있었어그녀는 임신했고 그래서 우리는 술을 더 피했다entailment새로운 가격 수준에서 기본 메일의 평균 가격에 대한 후보 메일 가격의 비율은 동일하게 유지됩니다새로운 가격 수준은 후보 메일의 비율과 기본 메일 가격에 거의 영향을 미치지 않습니다neutral식물의 간격 또한 완벽하다식물의 간격은 완벽했다entailment나는 다음 튜브를 바라보았다나는 다음 튜브에 누가 있는지 보고 싶어 안달이 났다neutral번화한 마을에서는 등산이 좋지만 프랑스 쪽에서는 긴 하드 드라이브다운전해도 괜찮다면 시골에는 좋은 등산로가 몇 군데 있다entailment더 좁게 보면 그것은 고용주 기업이 향후 직원에게 연금이나 기타 퇴직 수당을 제공하는 대가로 지불하는 것이다정부는 고용주들이 그럴 필요가 없도록 모든 시민들에게 연금과 퇴직 수당을 제공할 것이다contradiction이 부서는 5500명 이상의 직원과 연간 약 6달러의 세출을 가지고 있다연간 약 6달러의 세출은 이 부서에 충분하지 않다neutral나는 그 도시를 모른다나는 작년에 그 도시에 갔다contradiction자유방임주의 철학은 페이서스에게 놀라운 작용을 했다자유방임주의 철학은 누구에게도 효과가 없었다contradiction기준은 미국과 국제 안보 절차가 상당히 요구된다기준은 미국과 국제 안보 절차가 상당히 요구되지 않는다contradiction일반적으로 무슨 일이 일어나고 있는지 알아보려면 금요일 텔아비브의 이번 주 특히 좋은 무료 월간지인 텔아비브 투데이의 타임아웃 보충본을 참조하십시오일반적으로 무엇이 진행되고 있는지 나열하는 이스라엘 출판물이 있다entailment국제 산업 부문과 소매 부문은 특정 산업을 기반으로한 공통 요구 사항을 가지고 있습니다국제 산업 부문과 소매 부문은 일반적으로 공통적인 요건이 없다contradiction여기 Patan s Durbar Square에는 계곡의 가장 큰 주요 사원과 역사적인 건물이 있습니다여기 Patan s Durbar Square에는 작은 지역에 많은 양의 사원이 있습니다entailment냄새가 난다냄새가 아주 나빴다entailment그래 그래 그래 그래 예전에는 네가 몇 개 알고 있었지만 지금은 아메리칸 익스프레스에서 어느 정도 알고 있어 그리고 그렇게 하면 우리가 계속해서 그것이 들어오면 갚을 수 있어예전에는 몇 개 있었는데 지금은 대부분 아메리칸 익스프레스를 사용하고 매달 지불하는데 이것은 어렵다neutral하지만 그건 사실이 아니야그들이 그렇지 않다는 것은 사실이다entailment도전이지만 많은 사람들은 당신이 이 길을 여행하지 않는 한 호수를 보지 못했다고 말한다당신은 50유로를 여행할 수 있습니다neutral1992년 그 신문은 마셔 센의 노출을 연기했다그 신문은 그 보고서를 3개월 연기했다neutral장황한 전략일지 모르지만 돌은 훨씬 뒤쳐져 있다전략은 확실한 것이다contradiction내게 무슨 일이 일어날 수 있을까중요한 일은 일어나지 않을 것이다neutral불행하게도 대중은 열광하지 않았고 자금은 바닥났고 그 프로젝트는 포기되었고 이 기념비는 다른 스코틀랜드의 불명예를 안겨주었다대중은 의기양양했고 그것에 많은 돈을 던졌다contradiction그리고 나는 그것을 좋아한다나는 그것을 좋아한다entailment학교에서 뭘 하고 있는 거야 난 너한테 물어보지 않았어학교에서 뭘 받는지 물어보지 않은 것 같아entailment케이블 같은 걸 보내야 할지도 몰라그는 전보를 보낼 것이다neutral그는 나와 결혼하고 싶지 않다 그는 정말로 나에게 친절을 베풀어 달라고 부탁했을 뿐이다그는 나와 결혼하고 싶어하는 척하고 있다entailment대부분은 매카트니가 음악 표기법을 읽을 수 없고 전문 작곡가들의 도움을 받았다고 지적한다매카트니는 표기법적으로 문맹이었다neutral스페인에 도착한 직후 청년은 찰스 5세처럼 신성로마제국의 칭호를 물려받았다 왕관의 책임은 그를 톨레도 세고비아 발라돌리드 마드리드의 왕실 거주지로부터 멀리 떨어뜨렸다그가 스페인에 도착했을 때 그 젊은이는 사형에 처해졌고 그의 형은 왕위에 올랐다contradiction두 성 건너편 오도엔의 두 개의 흥미로운 거리가 하이 스트리트에서 흘러나온다이 거리들 중 하나는 해리포터의 다이건 앨리다neutralSylvia Nasar Simon  amp Schuster의 아름다운 마음실비아 나사는 아름다운 마음의 저자이다 entailment\n"
          ]
        },
        {
          "output_type": "stream",
          "name": "stderr",
          "text": [
            " 27%|██▋       | 249233/935646 [02:24<05:15, 2178.09it/s]"
          ]
        },
        {
          "output_type": "stream",
          "name": "stdout",
          "text": [
            "nan\n",
            "내가 하는 일의 아주 큰 비율은 프로 보노나 낮은 보노다나는 내가 하는 모든 일에 대해 엄청난 지불이 필요하다contradiction증명 계약은 광범위한 재무 또는 비재무 목표를 포함할 수 있으며 재무 감사 또는 기타 유형의 감사의 일부가 될 수 있습니다다양한 항목에 대해 인증을 기대할 수 있습니다entailment수화로수화로는 없습니다contradictionHHS는 분석에서 규칙의 비용과 이점을 정량화하는 데 어려움을 인식합니다HHS는 비용을 정량화하는 것은 어렵다고 말한다entailment개정안은 전체 법안과 마찬가지로 실패했다 올해 법안이 다시 표결에 부쳐 졌을 때 비슷한 개정안은 제공되지 않았다그 개정안은 그 법안으로 실패했다 올해 다시 도입되었을 때 그 개정안은 재제안되지 않았다entailment남자는 갑자기 포장도로 위에 앉았다남자는 거리 근처에 예고도 없이 앉았다entailment그러나 이 편지는 형식에 비해 너무 길기 때문에 다음 편지로 요약하려는 레만의 시도에 대한 논의는 남겨두겠다나는 다음 편지에 레만의 토론을 올릴 것이다entailment그래 허리에 문제가 좀 있는지 아니면 그 자리에 앉아서 꿈틀거리고 꿈틀거리고 보통 허리를 다친 채 나와야 하는지 아는 것은 충분히 나쁘다좌석이 편안하다contradiction스페인의 보물과는 별개로 그것은 수백 개의 유명한 외국 작품 특히 이탈리아와 플랑드르 학교의 방문객 의제에 높은 우선순위를 둘 자격이 있다스페인 보물이 부족한 것은 어떤 방문객의 의제에서도 높은 우선순위를 가질 자격이 없다contradiction그리고 모든 비용은 지불되었다모든 비용이 충족되었습니다entailment안녕 댈러스에 있는 짐이야 어떻게 지내니안녕하세요 댈러스에 있는 짐입니다entailment2000 회계연도에 DC 터미널 회비에 대한 75의 추가요금이 발효되었더라면 현재의 터미널 회비 제도에 따른 기여도는 백만 달러 더 낮았을 것이고 국내 우표 기반 시스템으로의 전환으로부터의 기여도 감소는 위의 5천9백만 달러에 비해 백만 달러가 될 것이라는 점에 유의해야 한다2000 회계 연도에 DC 터미널 회비에 대한 75의 추가 요금이 부과되었습니다  entailment\n"
          ]
        },
        {
          "output_type": "stream",
          "name": "stderr",
          "text": [
            " 27%|██▋       | 251428/935646 [02:26<10:21, 1100.33it/s]"
          ]
        },
        {
          "output_type": "stream",
          "name": "stdout",
          "text": [
            "nan\n",
            "하늘을 되돌릴 수 있으니까왜냐하면 아무도 너조차도 하늘을 되돌릴 수 없기 때문이다contradiction하버드 대학의 메리 워터스 교수가 제안했듯이 백인의 대열은 단순히 다인종의 가볍고 문화적으로 더 하얀 것을 집어삼키기 위해 확장될 가능성이 있다메리 워터스는 현재 다민족 시민으로 구성되어 있는 더 많은 미국 유권자들의 인구통계학적 변화는 전통적으로 백인 투표 블록이 정치적 지불능력을 위해 당을 재창조하기 위한 방법으로 백인 문화와 유사한 믿음을 가진 소수민족들로부터 지지를 얻도록 강요할 것이라고 믿고 있다neutral그러고 나서 기다리자 존이 말했다존은 우리가 기다리지 말아야 한다고 말했다contradiction15 VA는 이러한 네트워크에 상당한 운영 자율성과 기본 의사 결정 및 예산 업무를 수행할 수 있는 능력을 부여했습니다이것은 네트워크가 다른 네트워크의 기본적인 결정을 요구할 수 있는 힘을 주었다contradiction생산으로 이전되기 전에 사용 및 내부 개발 소프트웨어로 간주되고 있던 상업적으로 개발된 소프트웨어의 보안 기능을 검토하고 테스트합니다소프트웨어는 생산에 투입되기 전에 보안 기능을 검토하고 테스트합니다entailment그것은 많은 우려를 낳는다고칠 수 없는 것들에 대한 우려가 있다neutral그는 주위의 공기를 빨아들였고 그의 폐에서 숨결이 타올랐다그는 폐에 화상을 입지 않도록 숨을 참았다contradiction 왜냐하면 UHaul 정책은 주말 하루 이상 트럭을 빌리지 않는 것이기 때문이다UHaul은 주말에 하루 이상 트럭을 빌리지 않는다entailment이것은 사전 선별 및 바코딩에 사용할 수 있는 다양한 할인의 가중 평균입니다이것은 이용 가능한 다양한 할인의 가중 평균이다entailment아니 나는 그것에 대해 들어봤지만 반드시 그것이 매우 논란이 된다고 들은 것은 아니다나는 그것이 논란의 여지가 있다는 것을 형으로부터 들었다neutral무모한 의회가 쓸모없는 항공모함이나 쓸모없는 사회 프로그램에 자금을 대기 위해 1만 달러를 지출하기로 결정한다고 가정해 보자그들이 가치가 없는 프로그램에 수천 달러를 낭비하고 싶어한다고 상상해보라entailment정말 들어오려고 한 것은 아니었지만 잉글소프 씨는 주장했다잉글소프 씨가 고집을 부려서 들어왔어요entailment그것은 나를 혼란스럽게 한다나는 그것에 어떤 문제도 없다고 본다contradiction그리고 나서 부속 케이스와 무선 전화가 있고 그리고 카드 테이블에는 카드 테이블만 있는 의자가 없다 오 보석 여행가방 몇 개 더 있고 작은 공들이 돌아다니는 대학 기념식 램프를 본 적이 있는가보석 여행가방과 카드 테이블과 무선 전화가 있다entailment플로리다 주지사의 부인인 콜럼바 부시는 파리 휴가를 마치고 돌아오자마자 500달러 상당의 상품만을 선언했지만 요원들은 그녀의 여권에서 19000달러의 영수증을 발견하고 그 자리에서 4100달러의 벌금을 부과했다칼럼바 부시는 파리에서 휴가를 보내는 동안 쓴 돈에 대해 거짓말을 했다 그들은 훨씬 적었다contradiction그들은 보수적 저널리즘의 세계로 내 진입을 거부당했다어쨌든 나는 그들 없이 더 잘 살 생각이었다neutral1965년에 흑인 가정의 상태에 대한 유명한 모이니한 보고서가 나왔다그 보고서는 민권을 논의할 때 흔히 인용되었다neutral로마네스크와 고딕 양식의 혼합물로 약 1000년경의 시계탑과 12세기 문기둥을 보호하는 17세기 현관이 있다1000년경부터 시작된 시계탑과 12세기 문기둥을 보호하는 17세기 현관으로 고딕과 로마네스크가 혼합된 것이다entailment그만해 그는 정말 괜찮은 것 같아그는 여전히 건강하지 않다contradiction음 문제는 음 무슨 일이 일어나는가 하는 겁니다 당신이 나라에서 도시 범죄로 갈 때 항상 옳게 증가한다는 겁니다 왜냐하면 시골 사람들은 여전히 다른 사람들의 재산을 존중하기 때문이지요그 도시의 범죄율은 항상 한 나라보다 더 많다entailment그리고 만약 비가 많이 온다면 어 하지만비가 많이 오면 홍수가 날 것이다neutral그러나 우리는 이러한 단점들이 연방 직원들과 정부에 대한 변화의 장점보다 훨씬 더 클 것이라고 믿는다연방 직원들은 변화를 만드는 데 필요한 노력에 대해 대체로 불만이다neutral이 행동이 여전히 적절하고 유용한가이런 행동은 가치가 있을까entailment나무도 없고 관목도 없고 고대 이끼로 장식된 15개의 삭막한 바위만이 완벽하게 라키아 흰 자갈 속에 군집 속에 서 있다나무도 많고 관목도 더 많다contradiction홉킨스가 이 위대한 미국 소설을 결코 쓰지 않을 것이라는 비참한 깨달음을 없애기 위해 이 과대지급 서기관들 중 한 명조차도 생각해 본 적이 없는 것 같다 농담이 아니다홉킨스는 일반적으로 매우 공격적인 웨일스 억양을 가진 것으로 알려져 있었다entailment여름 성당에서 독일어와 프랑스어로 소리와 빛아들 등 루미에르 쇼가 열리며 도시 역사의 2000년을 재조명한다도시의 역사를 알리기 위해 성당에서 소리와 빛의 쇼가 열린다entailment방문객들은 기원전 3세기부터 5세기까지 거슬러 올라가는 뛰어난 초기 인도 조각품의 보물창고인 박물관을 기뻐할 것이다그 박물관에는 기원전 3세기 초의 조각품들이 있다entailment정말 남자다나는 그렇게 생각하지 않는다entailment도시의 번잡함에서 벗어나 13 세기 타일 작업의 이름을 딴 자르 딘 데 ile 르리 Jardin des Tuileries를 산책하며 지금은 동쪽에있는 미술관 뒤 루브르 박물관의 개조 계획의 일부로 아름답게 재 조경되었습니다Jardin des Tuileries는 아름답게 다시 그려졌다entailment네가 내려가는 걸 봤어 민달팽이가 널 배관 센터로 데려갔어 텍사스인이 튀었다텍사스 사람이 말하길 총에 맞는 걸 봤어 entailment\n"
          ]
        },
        {
          "output_type": "stream",
          "name": "stderr",
          "text": [
            " 27%|██▋       | 252324/935646 [02:26<06:20, 1793.88it/s]"
          ]
        },
        {
          "output_type": "stream",
          "name": "stdout",
          "text": [
            "nan\n",
            "드류가 왜 시작됐는지 모르겠어왜 그런지 이해할 수 없어 드류는 호전적이 되기 시작했다 neutral\n"
          ]
        },
        {
          "output_type": "stream",
          "name": "stderr",
          "text": [
            " 27%|██▋       | 256686/935646 [02:28<05:02, 2241.96it/s]"
          ]
        },
        {
          "output_type": "stream",
          "name": "stdout",
          "text": [
            "nan\n",
            "입구 근처에 빗자루가 있을 거야 여동생이 집에는 빗자루가 없어 contradiction\n"
          ]
        },
        {
          "output_type": "stream",
          "name": "stderr",
          "text": [
            " 28%|██▊       | 263081/935646 [02:34<07:10, 1561.67it/s]"
          ]
        },
        {
          "output_type": "stream",
          "name": "stdout",
          "text": [
            "nan\n",
            "당신은 말을 일했고 그들은 레인지에서 또 다른 싸움꾼을 이용할 수 있소레인지는 또 다른 싸움꾼이 필요하다entailment뜰 안에서 라나스 통치 기간 동안 이곳에 놓여진 전통적인 그리스 동상을 발견하게 될 것이다라나스 통치 기간 동안 뜰에 놓여진 전통적인 그리스 동상을 발견하게 될 것이다entailment난 그게 싫어그 사람은 그것이 좋지 않기 때문에 그것을 좋아하지 않는다neutral당시 이곳에 살고 있던 카리브 인디언들에게는 아름다운 물의 섬인 카루케라였다카리브 인디언들은 이 섬을 아름다운 물의 섬이라는 뜻의 카루케라라고 부르곤 했다 entailment\n"
          ]
        },
        {
          "output_type": "stream",
          "name": "stderr",
          "text": [
            " 29%|██▊       | 268299/935646 [02:36<04:37, 2403.75it/s]"
          ]
        },
        {
          "output_type": "stream",
          "name": "stdout",
          "text": [
            "nan\n",
            "고객을 위해 하밀카하밀카에게 손님이 있었다entailment많은 유대인들이 살해될 것이라는 것은 사실이다많은 유대인들은 그들의 삶을 단축시킬 것이다entailment보이즈가 문맹을 패션으로 만들면 무슨 뜻일까문맹을 유행으로 보는 많은 소년들은 학교를 중퇴했다neutral나는 여전히 빅토리아 시대 사람이고 내 남편은 그 점에서 약간 남성 우월주의자인 것 같다나는 빅토리아 시대 사람이지만 내 남편은 그런 점에서 기사도적이다entailment구불구불한 와인 경로는 잘 표시되어 있다 HautKoenigsbourg와 Kaysersberg와 같은 매력적인 중세 및 16세기 마을과 성은 10월 와인 수확 기간 중 가장 예쁜 포도원 투어로 만든다구불구불한 와인 경로에는 표지판이 전혀 없다contradiction이탈리아가 주요 국제 축구 경기에 참가하는 날 전국의 거리는 광란의 승리 퍼레이드를 위해 경적을 울리거나 남자들이 페널티킥 후 찬사와 반격을 위해 피아자 델 듀오모로 걸어갈 때까지 인적이 끊긴다이탈리아에서 경기하는 날 거리는 완전히 붐비거나 비어 있다entailment매우 호화롭고 패딩이 되어 있었다 그것은 단지 내가 그 차를 많이 좋아했을 뿐이고 당신이 문을 닫았을 때 그것은 정말 견고한 소리를 냈다그것은 풍부한 직물을 가지고 있었고 매우 편안했다neutral이제 그는 그것을 해냈다몇 년이 걸렸지만 마침내 해냈다neutral단순히 삶의 심각한 측면은 재미가 시작되기 전에 적절한 대가를 받는다는 것이다너는 책임보다 재미를 우선시해야 한다contradiction아프지 않다시도해도 아프지 않다neutral이러한 단계는 데이터 1 관련 정보에 대한 검토 및 2 초기 테스트를 위한 예비 평가를 위한 기초를 제공한다그림 4 참조이 단계들은 집에서 돈을 벌 수 있는 기초를 제공한다neutral이탈리아의 순수하고 타의 추종을 불허하는 풍요로움을 감안할 때 그 다섯 지역 내의 장소 선정은 어떤 식으로든 철저하지 않다또한 같은 토큰으로 지치지 않는다이 5개 지역에서 선정된 장소는 이탈리아에서 유일하게 매력적인 목적지와는 거리가 멀다entailment자 이제확실히 그렇다entailmentCrew 1995 그러한 조정 후에 그것은 지속 가능한 독점이 될 수도 있다예산 조정이 이루어진 후에 그것은 독점이 될 수도 있다neutral한 사람에게 사례 연구는 개별 사람들을 보는 것을 포함한다사례 연구는 개인을 보는 것을 포함할 수 있다entailment11시 정각에 그녀는 건물의 틈새로 뛰어들었다그녀는 그리니치 표준시 11시에 그 건물에 들어갔다neutral경제 및 통계 검토2000년 5월그것은 5월호였다entailment주요 조직의 임원은 더 이상 기술 관리를 별도의 지원 기능으로 간주하지 않고 대신 정보 자원에 대한 투자가 어떻게 이루어지고 다른 투자 및 전반적인 비즈니스 비전과 통합되는지 이해하려고 노력합니다대기업 임원들은 더 이상 기술관리를 자체 기능으로 보지 않고 대신 IT가 비즈니스 프로세스를 통해 어떻게 흘러가는지 그리고 IT를 비즈니스 계획의 일부로 통합하는 방법을 이해하려고 한다entailment계획에서 정의된 전략적 목표에 대해CEO는 기술된 활동이 회사 계획에 명시된 전략적 목표를 충족시키지 못한다고 우려했다neutral그러나 나는 그 회의론을 바꾸려고 할 권리가 있다그 회의론을 바꾸려고 하는 것은 내 권리에 있지 않다contradiction우리의 구체적인 목표는 1 정보 공유 관계와 2 관련 도전을 구축하는 데 있어 중요한 성공 요인과 이를 어떻게 해결할 것인가를 확인하는 것이었다우리의 목표는 정보 공유 관계와 관련 도전을 구축하는 데 성공 요인을 식별하는 것이 었습니다entailment그리고 그냥 내 생각엔 그들이 사법 절차 전체를 묶고 있는 것 같아 음 그들이 일을 더 쉽게 하기 위해 할 수 있는 많은 일들이 있어 그리고 어 판사가 배심원보다는 형량을 결정하는 사람이어야 한다는 제안처럼 말이야배심원들이 형량을 결정해서는 안 된다는 제안이 있었다entailment그리고 나서 그들은 그 주제에 대해 쓸 자격이 있는 사람을 찾지만 편견은 없다그들은 편견을 가지고 그 주제에 대해 쓸 수 있는 사람을 찾는다contradiction개별 평가의 범위와 빈도는 주로 위험 평가와 지속적인 모니터링 절차의 효과에 따라 달라져야 한다평가의 범위와 빈도는 대부분 엄격한 일정에 따라 달라져야 한다contradiction그러나 컴퓨터 처리된 데이터를 평가할 때 타당성과 신뢰성을 포함하는 증거 표준 능력의 한 테스트에 초점을 맞추고 있다능력 테스트는 시간이 많이 걸린다neutral그가 떠난 이후로 괭이로 가는 험난한 길이었다 나는 왜 요즘 좋은 쿼터백을 찾는 것이 그렇게 어려운지 모르겠다좋은 쿼터백 없이 힘든 시간이었다entailment매직 데이브가 말했다데이브는 매직 neutral\n"
          ]
        },
        {
          "output_type": "stream",
          "name": "stderr",
          "text": [
            " 29%|██▉       | 275600/935646 [02:40<05:08, 2140.60it/s]"
          ]
        },
        {
          "output_type": "stream",
          "name": "stdout",
          "text": [
            "nan\n",
            "나는 당신의 큰 비밀에 대해 모두 알고 있소그걸 피해가지 못할 거야 neutral\n"
          ]
        },
        {
          "output_type": "stream",
          "name": "stderr",
          "text": [
            " 30%|██▉       | 276279/935646 [02:40<04:58, 2207.09it/s]"
          ]
        },
        {
          "output_type": "stream",
          "name": "stdout",
          "text": [
            "nan\n",
            " 시간당 38시간 초과근무와 스윙 시프트의 두 배 시간스윙 시프트는 두 배로 지급되었다entailment네 그렇습니다나는 확실히 그렇다entailment세 명이 억지로 문을 열었고 한 명은 창문을 통해 불쑥 들어왔다개 세 마리가 문을 통과했고 한 마리는 열린 창문을 통해 뛰어내렸다neutral각각 7 81CEF 2010 참조 사례와 비교CEF가 참조에 적합하지 않습니다contradiction그 수업은 25분이었고 더 이상 아이들은 끊임없는 스트레스를 견딜 수 없을 것이다아이들은 25분간의 긴 수업을 감당할 수 없을 것이다entailmentGazu Kadem과 Fena Rait로 알려진 서쪽 사막 사이에 작은 마을이 있습니다페나 레이트는 산과 바다 사이에 위치해 있다contradiction이 분석은 제607조에 따라 요구되는 소규모 기업과 제609조에 따라 요구되는 다수의 소규모 기업에 대한 규칙의 영향에 대한 계량화 및 일반 설명을 사용하여 제안된 규칙에 대한 의견을 제출하고 1995년 8월 공개 공개 회의와 1995년 9월 Good Manufacturing Practice Advisory Committee 회의에 참석함으로써 제609조에 따라 요구되는 규칙 제정에 참여하였다규칙이 작은 도면요소에 어떻게 영향을 미치는지에 대한 일반적인 설명은 분석에 의해 사용되지만 정량화할 수 있는 설명은 그렇지 않다contradiction응 그래 난 괌에 있을 때 어 난 밖에 나가서 해변에서 밤을 보내고 스쿠버에 가서 밤에 스쿠버 다이빙을 하고 주위를 둘러보곤 했어 정말 재미있었어나는 미국에 올 때까지 해변에 간 적이 없다contradiction집에서 마당에서 많은 시간을 보내지만 음 나는 너무 최신 정보를 유지하는 것을 좋아해집과 마당을 만지는 데 많은 시간이 걸렸다entailment보훈처VA는 행정명령 12866의 이행의 일환으로 비용과 예산 분석을 준비했다비용과 예산에 대한 분석은 VA에 의해 수행되었다entailment무슨 말인지 알겠어요이해가 안 돼요contradiction전쟁에서 정복당하거나 길에서 붙잡히지 않는다면어떤 사람들은 길에서 붙잡힌다entailment우리는 이 일을 처리할 것이다그 일은 간단했다neutral독일 양치기는 잘 뛰는 친구처럼러닝 파트너는 독일 양치기들에게 높이 평가된다entailment사물을 생각하고 나서 정말 그런 일이 일어나다니 정말 사랑스럽다 터펜스는 열렬히 소리쳤다그들을 생각할 때 정말 일이 일어나기 위해서 entailment\n"
          ]
        },
        {
          "output_type": "stream",
          "name": "stderr",
          "text": [
            " 30%|███       | 284832/935646 [02:44<04:52, 2226.79it/s]"
          ]
        },
        {
          "output_type": "stream",
          "name": "stdout",
          "text": [
            "Input nan is not valid. Should be a string, a list/tuple of strings or a list/tuple of integers.\n",
            "원주민 내가 이기고 나는 큰 법을 어기고 nan\n"
          ]
        },
        {
          "output_type": "stream",
          "name": "stderr",
          "text": [
            " 31%|███       | 288716/935646 [02:47<08:47, 1227.13it/s]"
          ]
        },
        {
          "output_type": "stream",
          "name": "stdout",
          "text": [
            "nan\n",
            "노래는 부엌에 있어노래는 부엌에 있다entailment위에서 제시한 모델은 이러한 목적을 위해 일반적인 탄성 및 교차 탄성을 갖는보다 전통적인 모델로 변환할 수 있으며 현재 위치에서 동일한 특성을 갖습니다여기에 제시된 모델들은 단순히 전통적인 모델로 변형될 수 없다contradiction디나르에서 서쪽으로 약 160km100마일 떨어진 모라익스에서 아침 투어를 할 때 당신은 엔클로스 파로이시아우스 서킷Circuit des Enclos Paroissiaux으로 표기된 노선에서 가장 중요한 것 중 3개를 탈 수 있다Enclos Paroissiaux 회로는 많은 흥미로운 볼거리를 가지고 있다neutral그래 그것도 잘 안 되네그것은 실행 가능한 계획이 아니다entailment아니 나는 아마 10년 전에 그 모든 락앤롤에서 벗어나서 막 그 나라의 말을 듣기 시작했다그것은 나에게 너무 화가 났고 나라는 더 가족 친화적이다neutral대화형 사이트에는 프로 보노 자원과 지역사회 법률 교육 자료뿐만 아니라 제공자 정보와 지원 자원도 포함될 것이다프로 보노 리소스는 포함되지 않습니다contradiction두 사람 모두 주 전체의 다른 이니셔티브에 적극적으로 참여하고 있다그들은 종종 주 전역에서 같은 이니셔티브에 적극적으로 참여하는 것을 볼 수 있다neutral충분히 괜찮다고 컨소시엄은 말한다컨소시엄이 항상 공정한 것은 아니었다neutral그의 옷은 완전히 찢어졌다그의 옷차림은 깔끔하고 재치가 있었다contradiction1948년에 심하게 손상된 그것의 내부는 1967년 이후 이스라엘로 이주한 이탈리아 회당의 물건들로 개조되었다이민 온 이탈리아인들은 호화로운 재료와 막대한 부를 가지고 왔다neutral검은 옷을 입은 악당들은 너무나 격렬하게 싸웠다검은 옷을 입은 악당들은 소심한 쥐처럼 싸웠다contradiction그가 얻은 모든 것은 적당한 크기로 판명되었지만 그는 호버크와 기름진 옷을 입고 있는 자신을 볼 수도 필름 같은 잠옷을 입고 있는 자신을 볼 수도 없었다비록 그 안에서 자신을 볼 수는 없었지만 그가 얻은 모든 것은 적당한 크기였다entailment하워드 양 하워드 양은 17일 저녁 잉글소프 부인이 그녀에게 쓴 편지를 제작했다하워드 양은 잉글소프 부인으로부터 17일자 편지를 받지 못했다contradiction음흠 난 그게 그렇게 어려울 거라고 생각하지 않아그것은 하기 매우 어려워 보인다contradiction대체 배달은 특히 어려운데 이는 우편함법이라고 불리는 것 때문에 우편함법 이외의 것을 금지하기 때문이다모든 배달은 단순하고 접근 용이성 때문에 대체 배달 시스템을 통해 이루어져야 한다contradictionDSMIIIR의 구조화된 임상 인터뷰에 대한 사용자 안내서구조화된 임상 인터뷰는 DSMIIIR의 일부가 아니다contradiction그리고 그건 네가 잘 갈 때마다 한 시간씩이야 그게 좋아그 쇼는 네가 갈 때마다 한 시간씩 계속된다neutralMileHigh 군사 전통은 축구 축하로 바뀌었다그 전통은 축구와 아무런 관계도 없이 몇 년 동안 변하지 않았다contradiction우리가 물건을 놓을 장소를 찾기 시작해야 할 때 엉망진창모든 것을 놓을 장소를 찾아야 할 때는 너무 어렵다entailment아니 터펜스는 생각에 잠긴 채 말했다터펜스는 그렇다고 말했다 그는 그 모든 말을 믿었다 contradiction\n"
          ]
        },
        {
          "output_type": "stream",
          "name": "stderr",
          "text": [
            " 31%|███       | 289239/935646 [02:47<08:22, 1285.41it/s]"
          ]
        },
        {
          "output_type": "stream",
          "name": "stdout",
          "text": [
            "Input nan is not valid. Should be a string, a list/tuple of strings or a list/tuple of integers.\n",
            "생제르맹 nan\n"
          ]
        },
        {
          "output_type": "stream",
          "name": "stderr",
          "text": [
            " 32%|███▏      | 295173/935646 [02:51<04:52, 2193.04it/s]"
          ]
        },
        {
          "output_type": "stream",
          "name": "stdout",
          "text": [
            "nan\n",
            "보게 될 거야당신은 내가 내내 옳다는 것을 깨닫게 될 것이다neutral남쪽 끝에 있는 96m315ft 케곤노타키는 이 나라에서 가장 유명한 폭포다케곤노타키 폭포의 높이는 50미터입니다contradiction그리고 그들그리고 그 일곱 사람neutral산마커스가 저기서확실히 샌마커스 주변은 아니야contradiction물론 여름 축제 동안 에든버러에 가서 예술 공연을 볼 필요는 없다단순한 여름 축제 이상의 것들이 있다neutral심비듐은 영국 왕립 원예학회로부터 많은 상을 받았다영국 왕립 원예학회는 심비듐을 수여했다entailment다중 오염 제어 시나리오 하에서 수은 배출은 다른 오염 물질의 배출을 감소시키는 장비에 의해 석탄 화력 발전소로부터 제어될 것이다다중 오염 제어 시나리오는 다른 오염물질의 배출을 감소시킬 것이다entailment여러분은 성게 물고기 떼 그리고 심지어 해안에서 바로 떨어진 바위 틈에 집을 만드는 작은 문어들을 볼 수 있을 것이다오염 때문에 아무것도 볼 수 없을 것이다contradiction그러나 적절한 인스턴스 선택을 통해 관리 가능한 인스턴스 수로 적절한 일반화 가능성을 얻을 수 있습니다관리 가능한 수의 인스턴스로 적절한 일반화 가능성을 얻을 수 없다contradiction오부치는 일본 국민들이 경기 침체를 보고자 하는 열망이 강하지만 손쉬운 해결책을 기다리고 있지 않다는 것을 기억해야 한다고 이 신문은 사설에서 말했다삼키기 쉬운 해결책을 제시해야 합니다contradictionGAO는 현재 행정부가 직면하고 있는 동일한 어려운 인사 문제에 직면해 있다GAO는 행정부보다 인사 문제가 훨씬 적다contradiction이제 토미가 빵을 크게 한 입 먹으며 말했다토미는 이야기하는 동안 빵의 일부를 먹었다entailment이 정보는 다음과 같다이 정보는 독자가 가질 수 있는 모든 질문에 답할 것이다neutral그리고 하나는이것만neutral적어도 세 가지 가능성이 있다세 가지 이상의 가능성은 있을 수 없다contradiction나는 할 수 있는 한 오래 어울렸다나는 더 오래 머물 수 있다contradiction커틀러가 일명 미지의 포메란츠가 아마도 현재 신공화국의 편집장인 마틴 페레츠였을 것이고 그 당시 좌익 하버드 교수이자 관대한 맥거번 기부자였을 것이라고 지적한 것은 독자들에게 최소한의 노력이 필요했을 것이고 유용했을 것이다커틀러는 포메란츠가 아마도 마틴 페레츠일 것이라고 지적하지 않았다entailment호화로운 그랜드 호텔 프랑스가 궁전이라고 부르는 것에서 샤토와 수도원을 간단한 시골 여관 auberges과 g로 변환 할 수있는 곳은 매우 다양합니다 당신의 식사를 요리합니다농부의 아내가 요리사라면 돈이 많이 든다neutral나는 앨런 시나이의 다우 운동에 대한 일상적인 예측을 따라가는 것이 이 문제에 대한 어느 정도 권위를 준다고 생각한다 그러나 나에게는 여전히 이 주제에 대한 생각예를 들어 고체 물리학에 관한 생각처럼이 출판될 경우 이 문제에 대해 약간의 훈련을 받은 개인에게 배정되어야 한다고 생각한다앨런 시나이는 DOW에 대해 아무것도 모르고 그것에 전혀 주의를 기울이지 않는다contradiction정부의 중요한 인프라 보호 전략이 발전함에 따라 공공 및 민간 부문 모두 다음과 같은 관행을 채택할 수 있습니다공공부문과 민간부문 모두 어떠한 관행도 채택하지 않기로 선택할 수 있다neutral그래 맞아 하지만 같은 곳에 있는 것도 가져갈 수 있는 곳이 있다는 걸 알잖아 그냥 다른 어 컨테이너에 넣어그걸 어떻게 해야 할지 어디로 가져가야 할지 모르겠어contradiction응 그래 난 항상 월마트에 가서 내가 리스트에 없는 모든 것을 가지고 나오는 거야 우리가 했던 것보다 더 많은 것을 얻고 있는 거야나는 항상 월마트에서 의도했던 것보다 더 많은 돈을 쓴다 나는 결코 그 리스트를 고수하지 않는 것 같다entailment각 원칙의 결론에서 우리는 우리가 방문한 조직 중 하나에서 실제 원칙을 설명하는 사례 연구와 원칙을 실행할 때 고려해야할 전략을 제공합니다그들은 그들에게 어떤 사례 연구도 제공할 시간이 없었다contradiction부분적으로 성공한다어느 정도 성공한다entailment그와 그의 당은 자메이카 사람들에게 긍정적인 길을 개척한 혐의로 기소되었다자메이카 사람들은 그와 그의 일행을 지지했다neutral언덕의 비탈에서 당신은 코르스토핀 병원 바로 뒤에 위치한 에든버러 동물원을 발견할 것이다에딘부르크 동물원은 작기 때문에 많은 사람들이 방문하지 않습니다neutral톰 행크스의 크리스마스 카드 리스트에서 제외됐죠톰 행크스는 지금 그들을 싫어하고 그들과 아무 관계도 원하지 않는다neutral그리고 그들은 서로에 대해 정말 행복하고 그녀는 그가 집에 오면 정말 기쁘고 저녁에 그와 함께 보낼 시간이 충분하지 않다는 것과 같은 말을 한다그리고 내 친구는 그녀의 남편이 걸스 스카우트와 긴 여행을 마치고 집에 오면 항상 행복하다고 말한다entailmentGAO는 기관 지정 연락 또는 기관 지정 연락 지점에 보고서 초안을 제공할 것이다기관 지정 연락관은 GAO의 보고서 초안과 그 안에 있는 모든 증거 사본을 제공할 것이다neutral보스턴이나 애틀랜타 같은 곳에 익숙해진 후 당신은 여기에 와서 사람들이 샬롯이 당신이 알고 있는 큰 마을이라고 생각하는 것을 안다샬롯 사람들은 이곳이 큰 도시라고 생각하지만 보스턴과 같은 실제 큰 도시에 살고 나서 이곳에 온다면 그들은 모두 정말 기이하고 순진해 보인다neutral그는 연구의 엄격함과 일어나야 할 응용 과정 사이의 균형을 권고했다그는 그들이 마감일을 맞추는 한 균형을 잃지 않았다contradiction그러나 이것이 불균형에 대한 유일한 해석은 아니다불균형에 대한 해석이 두 가지 이상 있다entailment캠퍼스가 성장하여 현재 도시 전역의 부지를 차지하고 있지만 이곳의 거리에는 값싼 식당 다양한 옷을 파는 상점 서점이 있다 사우스 브리지의 제임스 틴은 이 도시에서 가장 큰 서점이다이 도시에서 가장 큰 서점은 제임스 씬입니다entailment위대한 여호사파트맙소사neutral백인  히스패닉 출신 38가 아닌38의 사람들이 백인이다neutral그래 그 혜택들은 이상해 그들은 매일 변하고 어 넌 정말 많은 선택을 할 수 없어이점은 항상 일관되고 보수적이다contradiction끈이 반짝였다줄이 반짝였다entailment우리는 그 찬장에 온갖 비밀스러운 이야기를 가지고 있다우리는 많은 비밀을 가지고 있다entailment음 그건 내가 그것에 대해 생각해 본 적이 없다는 흥미로운 점이야 내가 이 질문에 대해 생각해 본 적이 없다는 걸 스스로에게 물어본 적이 있어 내 질문에 대답하기 위해 연구를 하기 전에 말이야 하지만 적어도 배심원들의 심의 중에 말이야나는 전에 스스로에게 그런 질문을 한 적이 있지만 답을 찾는 데 시간을 들이지 않았다entailment경련은 특이한 폭력이었습니다 박사님그 남자는 병원 침대에 묶여 있는 동안 심한 경련을 일으키고 있었다neutral이 검토에서 우리가 접촉한 몇몇 개인과 조직은 규칙 제정에 대한 대중의 참여를 용이하게 하기 위해 IT의 혁신적인 사용을 표준화하는 것이 현재의 단편화된 시스템과 비교했을 때 이점을 가질 수 있다고 지적했다몇몇 사람들과 단체들이 그 검토를 위해 연락을 받았다entailment그래 내 말은 네가 영원히 수업을 받을 수 있다는 거야 내 생각엔가능한 한 많은 레슨을 받을 수 있을 거야entailment이러한 생산성 문제에도 불구하고 그 프로그램은 생산에 들어갔다매니저들은 제품을 시장에 급히 내놓고 싶었다neutral핫라인이 없는 주에 거주하더라도 노화에 관한 지역 기관들은 인근 변호사들에게 의뢰를 제공할 것이다핫라인이 없는 주에 살아도 지역 노령화 기관은 지역 변호사를 추천할 수 있다entailment장기 예측을 둘러싼 내재적 불확실성 때문에 신탁관리자의 보고서에는 또한 두 가지 다른 가정 즉 고비용과 저비용 대안도 포함되어 있다신탁관리인의 보고서에는 두 가지 가정이 포함되어 있다entailment그래 이건 확실히 야외 고양이였어 왜냐면 난 항상 그를 봤고 누군가 그를 데리고 이사간 것 같거든이 고양이는 확실히 바깥의 삶을 위한 것이 아니다contradiction그들은 이 단체가 라디오와 텔레비전 광고 캠페인에만 3천 5백만 달러를 썼다고 주장하는 AFLCIO 관계자들을 인용한다그들은 AFLCIO 관계자들이 그 조직이 얼마나 많은 일을 했는지에 대해 믿지 않는다contradiction내가 그걸 알 것 같아나는 그것을 알고 있다고 생각한다entailment그리고 네가 땅바닥으로 걸어나간다는 건 내 말은 그게 끔찍하다는 거야 그냥 너무 축축해땅이 부드럽고 습하다entailment그러나 베르사유는 비용이 들지 않았다베르살리스는 세계에서 가장 비싼 건물 중 하나이다neutral그래 그리고 많은 거물급 선수들 없이 그들은 공격과 수비에 대한 닻을 몇 개 가지고 있고 그들이 그 남자들과 함께 해냈다는 것을 알고 있고 나는 모른다거물급 선수는 많지 않지만 공격과 수비에 중요한 선수가 몇 명 있다entailment자연 항구를 형성하고 있으며 오스만 시대에는 120척의 배를 보유할 수 있는 제국 테르샤인나발 아스널의 터였다그 항구는 한 번에 120척의 배를 수용할 수 있다entailment그는 전문 사회가 자금 지원 기회에 대해 명확해야 한다는 브라운의 의견에 동의했다브라운은 전문 사회가 자금 조달 기회를 논의해서는 안 된다고 생각했다contradiction검토는 오류와 그 원인을 확인하고 IDPA에 부정확한 지불의 5와 이러한 지불의 정확성을 향상시키기 위한 목표 전략에주의를 기울일 수 있는 정보를 제공했습니다검토 결과 오류가 없습니다contradiction제미마 푸들덕 이야기에 등장한 펍인 타워 뱅크 암스는 오두막집과 매우 가깝고 다과를 위해 멈추기에 좋은 곳이다타워 뱅크 암스는 오두막에서 2마일 떨어져 있다contradiction그의 약점은 세계사그레시아인 코소비아인 등에 무지하고 나쁘고 무관심한 학생으로서 전과가 있다는 것이다그는 세계 문제에 깊은 관심을 가진 밝고 빠른 학생이다contradiction1600명 이상의 사람들이 그렇다고 대답했는데 아직도 아래에서 그 문구를 들으면 킥킥거린다사람들이 아래라는 말을 들을 때 그것은 그들에게 영향을 미치지 않는다 contradiction\n"
          ]
        },
        {
          "output_type": "stream",
          "name": "stderr",
          "text": [
            " 33%|███▎      | 309779/935646 [02:57<04:39, 2241.99it/s]"
          ]
        },
        {
          "output_type": "stream",
          "name": "stdout",
          "text": [
            "nan\n",
            "그건 좀 달랐을 뿐이야 여기선 개인적인 게 아니라그것이 좀 달랐다는 것만 빼면 여기선 별로 개인적인 것이 아니었다 entailment\n"
          ]
        },
        {
          "output_type": "stream",
          "name": "stderr",
          "text": [
            " 34%|███▎      | 314606/935646 [03:00<06:07, 1691.13it/s]"
          ]
        },
        {
          "output_type": "stream",
          "name": "stdout",
          "text": [
            "Input nan is not valid. Should be a string, a list/tuple of strings or a list/tuple of integers.\n",
            "우편요금은 개인용 컴퓨터를 소유하고 있는지 여부입니다 nan\n"
          ]
        },
        {
          "output_type": "stream",
          "name": "stderr",
          "text": [
            " 34%|███▍      | 316314/935646 [03:01<07:59, 1292.07it/s]"
          ]
        },
        {
          "output_type": "stream",
          "name": "stdout",
          "text": [
            "nan\n",
            "입구 근처에 빗자루가 있을 거야 여동생입구 근처에 빗자루를 얻을 수 있어 여동생 entailment\n"
          ]
        },
        {
          "output_type": "stream",
          "name": "stderr",
          "text": [
            " 34%|███▍      | 321337/935646 [03:05<07:42, 1327.25it/s]"
          ]
        },
        {
          "output_type": "stream",
          "name": "stdout",
          "text": [
            "nan\n",
            "그것들을 더해라그것들은 합계를 찾고 있었기 때문에 추가되어야 한다neutral그래서 분명히 시스템은 작동하지 않아 그리고 난 그걸 작동시키기 위해 어떻게 해야 할지 몰라 그래서 너도 알잖아어떤 사람들은 시스템을 작동시키는 방법을 알고 있다neutral대부분의 프루디는 미터기가 어떻든 간에 택시 운전사들에게 몇 달러를 지불하는 것을 관찰했다택시 운전사들은 작은 판매를 많이 하는 경향이 있기 때문에 이런 스타일의 팁을 선호한다neutral나는 존 클레즈가 갑자기 나타나서 죽은 앵무새 일상의 높은 덤불 속에서 그들은 죽었어존 클레즈가 죽었다고 말했으면 좋았을 텐데 entailment\n"
          ]
        },
        {
          "output_type": "stream",
          "name": "stderr",
          "text": [
            " 35%|███▍      | 323512/935646 [03:06<05:07, 1990.81it/s]"
          ]
        },
        {
          "output_type": "stream",
          "name": "stdout",
          "text": [
            "nan\n",
            "주스의 고약한 비열함 경고하지 않나그것은 단지 성미가 나쁜 비열함인 것 같았지 않은가entailment모토마치 이 끝에 있는 언덕 바로 위쪽에는 야마시타 공원과 항구가 투광되는 밤의 경치가 특히 좋은 하버 뷰 공원이 있다하버 뷰 공원의 야간 경치는 매우 좋다entailment네가 테일러의 질문을 좋아하는지 스스로 결정할 수 있어 그게 요점이야테일러에게 질문이 있다entailment광장의 동쪽에는 한때 올리버 골드스미스의 방이 있었다빅토리아 시대에 개조된 18세기 건물 중 거의 남아 있지 않다올리버 골드스미스의 방은 완벽하게 보존되어 있다contradiction1948년에 심하게 손상된 그것의 내부는 1967년 이후 이스라엘로 이주한 이탈리아 회당의 물건들로 개조되었다이 사원은 1896년에 소멸되었고 100년 후에야 재건을 시작했다contradiction일본의 크고 가장 잘 알려진 치오닌지의 종소리는 상주 승려들이 새해를 맞이할 때 전국적으로 방영된다수도승들은 새해를 축하할 때 치오닌지 종을 울린다entailment재고에는 적용되지 않으며 몰수된 재산에도 적용되지 않는다비환수입에 관한 이전 섹션에서 설명한 바와 같이몰수된 재산과 재고는 다른 규칙에 따라 적용된다neutral화학 제조업체 협회에 따르면 이 금지를 비준하지 않으면 미국 생산자들은 독일 일본 인도와 같은 나라들에 대한 매출 손실로 매년 6억 달러의 손실을 입게 될 것이라고 한다화학 제조업체에 따르면 만약 이 금지가 비준되지 않는다면 미국 생산자들은 그들을 능가할 수 있는 외국 기업들에게 매년 6억 달러의 손실을 입힐 것이라고 한다neutral그는 다음 날 저녁의 세심한 계획을 자세히 설명했다그는 다음날 밤 자발적으로 일이 일어나도록 허락하기로 결심했다contradiction우체국은 이 20의 수치가 어디서 왔는지 위원회에 말하지 않았다USPS는 교활하다neutral깅리치는 악랄한 당파였을지 모르지만 기질도 화창하고 협조적이며 낙관적이다깅리치는 위대한 당파였다 결코 악랄하지 않았다contradiction이러한 프로토콜은 GAO의 작업과 관련된 명확하고 투명한 정책 및 관행을 제공하기 위한 것입니다이러한 프로토콜은 성공적이고 GAO의 작업에 도움이 되는 것으로 나타났다neutralFThe Justices는 부분적인 위헌성을 발견하는 것이 이 문제를 해결하는 데 필요하다고 생각했다정의가 부분적인 위헌성을 발견하기 때문에 이 규칙을 다룰 필요가 있게 되었다entailment윈드서프보드세일를 배우려면 얕은 물메노르카의 세스 살린 등이 많은 곳을 선택하십시오윈드서핑은 판자를 잡고 물속으로 들어가는 것 외에는 어떤 기술도 필요로 하지 않는다contradiction그래 비록 많은 식료품점들이 일반적으로 지불되는 시간 때문에 그렇게 하지는 않지만 내가 바로 다음날 예금된 수표를 보았기 때문에 내 아내가 식료품 수표를 쓸 것이라는 것을 거의 잘 알고 있다 그리고 그들은 거의 이틀 후라고 생각한다 그리고 그들은 그 수표를 가지고 은행으로 그것을 다시 가져갔고 은행은 그것을 내 계좌로 가지고 갔고 당신은 단지 약간의 부동이 있을 것이라고 생각했지만 분명히 그들이 왜 그들의 큰 돈을 가지고 있는지 그들은 매우 꺼려하기 때문이다나는 수표 현금화 장소를 몇 군데 보았다neutral그는 결국에 있다시간이 지나면 그는 절대 그러지 않을 것이다contradiction그는 토론을 거의 허락하지 않는다 그는 그것이 누구의 마음을 바꾸고 투표를 통해 경주를 한다고 생각하지 않는다그는 우리가 그 문제들에 대해 이야기하면 싸움이 일어날 것이라고 생각한다neutral아니 그게 다 지워졌으니까아니 모든 게 사라지니까entailment내가 그랬다고 생각해야 해나는 내가 그것을 했다고 생각해야 한다entailment오 그녀는 뭔가를 하지 않았어그녀는 뭔가를 했다contradiction이 점에 만족한 그녀는 리츠로 향했다그녀는 리츠에 가고 있었고 가는 동안 그 점에 꽤 만족했다entailment그 사람 책을 오래 읽으셨나요너는 항상 그의 말을 듣고 있었니contradiction당신이 가장 좋아하는 사진은나의 멋진 사진은 어린 시절의 사진이다neutral자 터펜스 양 제 충고는 가서 맛있는 저녁을 먹으라는 겁니다 정말 좋은 저녁이요터펜스는 집에 가서 아무것도 먹지 말라는 충고를 받았다contradiction기계 바퀴가 저 안에 늪에 빠져서 밀 수 없다는 걸 말이야잔디 깎는 기계는 밀기가 매우 쉽다contradiction위의 이름 외에도 Francine M Delvecchio Marshall L Hamlett 및 Elizabeth M Mixon은 이 보고서에 주요 공헌을 했습니다Francine M Delvecchio는 그녀의 동료들보다 더 많은 보고서를 작성했다neutral맞아 맞아 하지만 내가 알아차린 것보다 더 많은 여성들이 그들 자신의 사업을 시작하고 있어점점 더 많은 여성들이 식품 산업에 사업을 시작하고 있다neutral분석 결과 EPA는 분석에 포함된 비용 수치를 자신하고 있지만 EPA가 모든 인간 및 생태계 혜택을 정량적으로 평가하고 표준 비용 편익 프레임워크에서 비교하기 위해 이러한 편익에 금전적 가치를 할당할 수 없기 때문에 편익 추정이 더 어렵다EPA는 비용 수치가 옳다고 생각한다 왜냐하면 그들은 수백 명의 보험회사들이 그 보험회사에서 일하고 있었기 때문이다neutral그런 힘 그리고는 핸슨을 쳐다보며 멈췄고 그의 얼굴에 경외심 같은 것이 퍼졌다그는 실망스러운 표정으로 핸슨을 응시하며 말을 이었다contradiction네 도커스가 물러났습니다도커스는 물러났다entailment또는 에어로졸 캔이나 그런 것들을 위해 그들은 그런 것들을 일반 쓰레기통에 버리는 것이 안전하지 않다고 말한다그들은 에어로졸 캔과 비슷한 것들을 일반 쓰레기통에 넣는 것은 위험하다고 말한다entailment또한 이 가이드에 설명된 구체적인 핵심 조건과 전략은 향후 연구 분야를 고려할 때 통찰력을 제공할 것이다이 가이드는 자격을 갖춘 과학자 그룹에 의해 편집되었다neutral좋아 너 캠핑 많이 가야영을 많이 하세요entailment그리고 10개의 섹션 편집자들도 마찬가지다섹션 독자가 아닙니다contradiction토미에게 무슨 일이 일어났을지 생각해 봅시다토미에게 무슨 일이 일어날 수 있었는지 모두 걱정하자contradiction내 추측으로는 공식적으로공식적으로 이것이 나의 마지막 추측이다neutral심지어 아드린의 확고한 자신감도 흔들리는 것 같았다아드린의 자신감은 덧없었다entailment나는 머리가 부풀어오르도록 하면서 꽤 많은 시간을 보냈다나는 돌아다닐 때 머리가 커지게 했다entailment그때 그녀에게 보여줘그녀를 들여보내라entailment놀랍게도 그리고 행복하게 마을들은 그들의 성격이 희석되어 하나의 동질적인 교외로 삼켜지는 것을 허락하지 않았다슬프게도 그 마을들은 교외에 삼켜졌다contradiction고위 임원은 CIO의 비즈니스 컨텍스트를 설정하고 정보 기술 및 관리를 비즈니스 운영에 통합하기 위한 전략을 수립하는 데 주된 책임이 있습니다CIO를 제외한 고위 간부들은 일반적으로 IT 관리에 대한 책임이 없으며 운영에 대한 통합에 대한 책임이 없습니다contradiction당신이 그들을 먹으며 태어나지 않는 한 당신은 결코 그렇게 하지 않을 것이다너는 그것들을 기르지 않으면 먹지 않을 것이다entailment SO2 배출량 73 감소 현재 배출량 1100만t에서 상한선 45SO2 배출량을 줄이는 것이 2019년의 목표다neutral그래 나는 내 아내를 얻으려고 노력했어 4년 전에 클럽 세트를 사줬는데 그녀는 심지어 그것들을 휘두르지도 않았지만 내가 집에 와서 요전 날 토너먼트에서 우승한 후에 지금 그 클럽에 들어가고 싶어해요전 날 나는 골프 토너먼트에서 우승했고 그것은 내 아내가 골프에 들어가도록 격려했다entailment맞아 소련의 뉴스 매체가 그들을 믿지 않을 거라는 걸 알잖아 너도 알다시피 나는 그들이 미국에 대한 이야기를 그들의 사람들에게 정확하게 보내도록 믿지 않을 거야나는 일반적으로 언론을 믿지 않는다neutral나는 돈을 벌었는데 그 충격은 나에게 너무 벅찼어돈을 벌게 된 것은 충격이었다entailment가정폭력에 대한 주정부는 이번 판결로 학대받는 여성들이 곤경에 처할 것을 우려해 법원에 그들의 곤경을 가져오는 것을 주저하게 될 수 있다고 경고하면서 이에 대해 지적했다그 규칙은 여성들이 그들의 사건을 법정에 세우도록 장려하기 위해 정해졌다contradiction그리고 우리는 결국 캔탈루프 덩굴에 있는 것과 같은 것들을 갖게 되었는데 그것은 마치 둥글고 큰 둥근 오이처럼 보였다우리는 결국 벌들의 교차 수분 때문에 칸탈루프 덩굴에 거대한 둥근 오이를 낳았다neutral마지막 궁둥이는 1453년 5월 29일 오스만 군대가 성벽의 균열을 뚫고 돌진했을 때 나왔다1453년 5월 29일 오스만 군대는 성벽의 균열을 통해 급증하지 못했습니다contradiction7월 17일 오후 아들과의 싸움 직후 Inglethorp 부인은 새로운 유언장을 만들었습니다변호사는 아들과 싸운 후 잉글소프 부인이 새로운 유언장을 만들었다고 말했다entailment살라 델 마파몬도암브로지오 로렌제티가 도시의 국제 은행 이익을 추적하기 위해 그린 시에네 세계의 잃어버린 지도의 이름을 따서 명명됨는 시에나 태생의 주인 시몬 마르티니에 의해 두 개의 위대한 프레스코화를 가지고 있다살라 델 마파몬도는 주인 시몬 마르티니의 작품을 담을 수 있는 유일한 곳이다neutral양적 방법에서 규칙성은 숫자를 조작하여 패턴에 대한 합리적인 설명으로 합의된 지표를 생성함으로써 식별된다규칙성은 패턴을 보여주기 위해 숫자를 조작하여 식별된다entailment그리고 가끔 제지공장의 바람을 쐬게 된다때때로 제지 공장은 바람이 불 것이다entailment나는 그렇게 하지 않았다 카터 씨가 안타깝게 끼어들었다나는 분명히 그렇게 했다 카터 씨가 기뻐서 말했다contradiction음 나는 정말 멋진 삶이 부럽다나는 멋진 삶을 사는 것에 신경쓰지 않는다contradiction또한 규칙에 의해 영향을 받는 작은 엔티티의 수에 대한 설명 기록 보관보고 및 기타 준수 요구 사항에 대한 토론 및 작은 엔티티에 대한 부담을 최소화하기 위해 취한 단계를 포함합니다중소기업은 법적 허점 때문에 일반적으로 모든 부담을 대기업에 이전할 수 있다contradiction백인 인종 의식의 두 번째 다양성인 부담으로서의 백인 의식은 위선에 못지 않게 뒤엉키고 있다백인의식은 그 의도에서 매우 순수하다contradiction그들이 단서를 잡았을까 아니면 103이 모든 것이 발견되지 않은 범죄의 범주에 남아 있을까그들은 정말로 그것이 비밀에 부쳐질 것이라고 생각했을까entailment외국 관리자들은 이제 죽은 나무를 베는 것에 대해 비난을 받을 것이다다듬을 데드우드는 없다 외국 경영자들은 그 개선으로 칭찬을 받는다contradiction그들의 광범위한 군사 캠페인은 후에 호머에 의해 그의 서사시인 오디세이와 일리아드에서 만성화되었다호머는 전쟁에 대한 상세한 묘사를 쓴 것으로 기억된다neutral시티 메일의 존재는 이미 스웨덴 포스트가 경쟁사가 제공하는 지역에서 대규모 메일러의 가격을 낮추도록 자극했다는 점에 유의해야 한다경쟁으로 스웨덴 포스트는 전반적으로 가격을 인상했다contradiction사실 이러한 수신자 중 많은 수가 분류기에 고유한 ZIP 코드와 자체 분류 빈을 가지고 있다많은 수신자들은 우편번호가 없다contradiction실제로 IE를 데스크톱에서 떼어내려고 했던 컴퓨터 회사들은 아마도 넷스케이프 네비게이터에게 데스크톱에서 독점적인 위치를 부여하기 위한 의도였을 것이다인터넷 탐험가의 컴퓨터를 없애고 싶었던 같은 회사들이 넷스케이프 네비게이터를 지키려고 했을 가능성이 높다entailment분석은 평균 임금 특정 처리 장비 비용 및 특정 실험실 분석을 수행하는 비용에 대한 데이터를 고려합니다그 분석은 단지 직원 채용을 본다contradiction그녀는 죽을 수 없어요그녀가 죽은 것은 불가능하다entailment오 이런 그들은 매우 활동적인 두 나이다저 아이들은 설탕 때문에 정말 과민하게 행동하고 있다neutral가끔 나는 밖에 있는 파티오에 식물들을 앉히곤 했고 나는 그것들을 잊곤 했다 그리고 그것은 너무 더워지고 그들은 불타는 것을 알고 있다 그리고 그들은 내 식물들 중 꽤 많은 사람들에게 일어났다비록 내 식물들이 파티오에서 타버렸지만 나는 그 피해가 그리 나쁘지 않았기 때문에 그것들을 구할 수 있었다neutral연구에 따르면 의사는 환자에게 행동 변화의 필요성을 납득시키기 위해 응급 치료가 필요한 급성 부상이나 의료 조건의 동기 부여 효과를 기회 적으로 활용할 수 있다고 합니다부상과 의학적 조건이 동기부여에 영향을 미친다는 증거는 없다contradiction그러나 신중함은 그의 안에서 느껴지는 작은 분노의 불꽃을 조절했다그는 신중함 때문에 화를 참을 수 있었다entailment이 책의 뒷면에 있는 핸디 트래블 팁 섹션215에는 프랑스 여행의 기술에 대한 자세한 실질적인 지침이 포함되어 있지만 여기 여행 계획을 세우는 데 도움이 되는 몇 가지 일반적인 생각이 있다이 책의 시작 부분에는 프랑스 여행을 계획하는 데 도움을 받을 수 있는 핸디 트래블 팁 섹션이 있다contradiction홀로그래픽 프로젝션 기술을 사용하여 프로젝트 설계의 3차원 및 4차원 모델을 만드는 것과 같은 신흥 기술은 향후 개선의 지속적인 흐름을 보장합니다신흥 기술은 앞으로 지속적인 개선의 흐름이 없을 것이라는 것을 의미한다contradiction그 금액은 시장에서의 판매로 벌어들여서 환수입이다구매는 환수 수입으로 간주된다contradiction다시 푸아로가 말을 이었다 처음에는 잉글소프 씨가 체포되는 걸 원치 않는다는 말을 여러 번 되풀이하지 않았습니까푸아로는 잉글소프 씨가 나중에 체포되기를 바랐다neutral브렌나는 부드럽고 아름다웠다브렌나는 잘생겼다entailment의회의 권한은 전체 의회 또는 하나 이상의 위원회에 의해 수립되기 때문에 의회의 권한에 대응하여 준비된 제품이 아무런 제한 없이 발행되는 것은 GAO의 정책이다의회 전체가 의회의 권한을 확립할 수 있는 능력을 가지고 있다entailment이 고용에는 손가락의 정밀도가 필요하다이것은 타이핑 작업입니다neutral사업 단위에 부여된 위도는 다양했지만 정책과 지침을 모두 제공함으로써 사업 단위는 지침을 개별 단위의 정보 보호 요구에 맞게 조정할 수 있었습니다정책 및 지침이 제공되는 비즈니스 단위는 해당 지침을 자신의 정보 보호 요구에 맞게 조정할 수 있습니다entailment술탄들은 그들의 위신 번영 안보에 만족하면서 지역 및 종교 업무를 담당하게 되었다술탄들은 단순히 종교와 지역 문제를 통제하는 것에 만족했다entailment그래 그게 바로 친척이 즐기는 거야나는 남자들이 무엇을 즐기는지 모른다contradiction또한 그 소년이 메타코리아인들에 의해 아버지 없이 잉태되었다는 효과에 대한 준종교적이고 준과학적인 허풍도 있다 만약 당신이 당신의 마음을 잠재우면 당신에게 말할 수 있는 심비언트 현미경적인 생명체비평가들은 이 바보 같은 줄거리에 감명을 받지 않았다neutral그리고 그것은 엄청난 세계였다세상은 나에게 매우 즐거웠다neutral서쪽16km10마일에는 그림 같은 산골 마을인 동쪽 콘프리데스에 알코이30페이지 참조가 있다알코이는 남쪽에 있고 분주한 대도시인 콘프리데스는 북쪽에 있다contradiction가장 독특한 예로 근처의 카사 데 로스 피코스는 뾰족한 돌출부가 있는 털이다카사 데 로스 피코스는 흩어져 있다neutral하지만 인종차별 혐의는 기이하거나 엉뚱하지 않다 그것은 선동적이다그 장교에 대한 인종차별적인 혐의는 기이하거나 엉뚱하지 않다neutral아 여자가 웃었다여자는 웃지 않았다contradiction우리는 심지어 SLATE의 하이라이트를 매달 편찬한 SLATE on Paper를 미국을 통해 보낼 것이다당신은 캐나다에서 당신에게 SLATE on Paper를 보낼 수 있다neutral일출에 정자와 일몰에 모스크를 먹어 보라일출에 정자와 일몰에 모스크를 방문하라entailment청동 공작은 이 두 인물을 동반한다이 두 인물은 청동 공작을 동반한다entailment그러나 무엇보다도 그들은 인구 통계를 잊어버리고 대신 실험실을 본다고 말한다그들은 실험실을 버리고 인구 통계를 확인해라라고 말한다 contradiction\n"
          ]
        },
        {
          "output_type": "stream",
          "name": "stderr",
          "text": [
            " 35%|███▌      | 328677/935646 [03:08<04:28, 2263.38it/s]"
          ]
        },
        {
          "output_type": "stream",
          "name": "stdout",
          "text": [
            "nan\n",
            "M모자를 손에 들고 가라 음 파 여기 네 방랑자야라고아버지 앞에서는 결코 겸손하지 않겠다 contradiction\n"
          ]
        },
        {
          "output_type": "stream",
          "name": "stderr",
          "text": [
            " 35%|███▌      | 330726/935646 [03:09<04:53, 2058.21it/s]"
          ]
        },
        {
          "output_type": "stream",
          "name": "stdout",
          "text": [
            "nan\n",
            "Messenger 라인의 S아니 그레이 이글아리엘 라인에서contradiction이것이 고고학자들이 일차적인 중기라고 부르는 것이다공교롭게도 고고학자들은 이것을 마지막 중간 기간이라고 부른다neutralHEI Peer Review Panel의 사전 검토 및 수정 분석의 주요 요점예비 검토는 보통 다른 검토가 이루어지기 전에 실시되는 검토다neutral그들은 다르지 않다거의 똑같아요entailment가입자에게 19달러를 청구하려는 인터넷 사이트인터넷 사이트들은 19달러를 청구하려고 시도하고 있다entailment그는 마조히즘적으로 신경질적이거나 자신을 탈출시키는 방법을 알아내고 있다편집증적일 수도 있지만 나는 그가 자신을 제거하려고 하는지 확신할 수 없다neutral토미는 손을 들어 혐오의 소란을 잠재웠다토미는 손으로 못마땅한 방을 조용하게 만들었다entailment1999년 연말에 미국의 국제투자지위 현업조사 경제분석국 80 No이것은 81권이었고 1998년에 출판되었다contradiction디아즈는 또한 그가 원시 인터뷰 녹취록에서 말했듯이 엘리스가 유죄를 인정한 덜한 범죄는 중죄라고 말하지 않는다엘리스는 무죄를 주장했다contradiction그러나 네덜란드 인은 개신교 신자가 아닌 것으로 일본의 수세기 동안 고립된 상태로 머물 수 있었습니다네덜란드인들은 개신교 신자들을 개종시키지 않고 있음에도 불구하고 일본을 떠나도록 만들어졌다contradiction정부의 큰 부담은 그것이 당신의 돈을 쓴다는 것이다정부가 당신의 돈을 쓰는 것이 큰 부담이다entailment하지만 그 중 하나는 위험 없는 부라고 불리는 책 몇 권을 가지고 있어나는 그것이 그의 유일한 책이라고 생각한다contradiction오늘날의 환경에서는 산업 국가의 모든 직책이 운영 비용 데이터의 대부분을 상업적으로 민감하다고 간주하고 공유하지 않기 때문에 불가능합니다운영 비용 데이터가 민감합니다neutral식품 안전을 강화하기 위해 필요한 통합 위험 기반 안전 시스템이것은 위험 벡터로부터 예측보호된다neutral그의 아들을 추모하기 위해 수비아는 그의 예술가 친구 펠리페 아다메에게 그의 집에서 벽화를 그려달라고 부탁했다벽화를 완성하는 데 6개월이 걸렸다neutral안녕 늙은이 두 젊은이는 반대 방향으로 떠났다두 젊은이는 함께 떠나기로 했다contradiction그들을 보기 위해서는 지역 보트 여행이 필요하다그들을 보기 위해서는 지역 보트 여행이 필요하지 않다contradiction우리 할머니들이 제안이라고 부르는 것은 아니다우리 할머니들은 이 제안에 매우 감명을 받았다contradiction제임스 경은 동정적으로 뭐라고 중얼거렸다제임스 경은 내가 겪은 일을 이해했고 그는 동정했다neutral코멘트 기간이 끝난 후 기록에 추가된 이러한 유형과 코멘트 기간을 재개할 필요성은 시에라 클럽 v에서 논의됩니다시에라 클럽은 논평 기간을 재개할 필요성을 검토한다entailment맞아 난 잔디밭 서비스를 즐겼다는 것에 대해 좀 나쁘긴 하지만 지금은 시간이 있고 정말 모르겠어 돈을 쓰고 싶지 않아 그래 맞아나는 그것에 대해 잘 알고 있다contradiction그의 가슴 중앙에는 넓고 별 모양의 회색 흉터가 있었다그의 흉터는 삼각형 모양이다contradiction크고 작은 몇몇 집들은 그들의 목록을 축소하고 무엇이 상업적인지 결정하기 위해 체인점들과 긴밀히 상의했고 그들의 이익과 판매가 증가하는 것을 보았다일부 주택들은 체인점들과 상의한 후에도 수익이 급감했다contradiction오 난 딸기를 길러본 적이 없어나는 딸기를 재배해 본 적이 없지만 정말 먹고 싶다neutral반스는 고틀리브가 참석한 기자회견에서 그의 최우선 과제는 항상 그루지야인들의 이익을 돌보는 것이라고 말했다고틀리브의 최우선 과제는 그루지야의 이익을 돌보는 것이었지만 실제로는 자신의 주머니를 정리하는 것이었다neutral변호사들이 해야 할 모든 BS를 참을 필요는 없어 그래서 지금 내가 쫓고 있는 거야나는 변호사들이 용인해야 할 것과 같은 헛소리를 경험할 것이다contradiction어느 정도는 그렇다 하지만 어 종교는 저쪽에 있는 요소지만 가장 강한 요소는 가족의 부족이라고 생각해종교는 여전히 중요한 역할을 한다neutral표 1에서 도시 배달 경로에 대한 가능한 배달 하루표 1에는 농촌 농업 데이터가 포함되어 있습니다contradiction그러나 특검 임명 기준이 그렇게 넓을 수는 없다임명기준과 특검이 더 넓어져야 한다contradiction이 섬에서 쾌활한 조기 출발을 하는 것이 얼마나 쉬운지 곧 알게 될 것이다이 섬들에서 매우 나쁜 기분으로 하루를 시작하는 것은 쉽다contradiction새로운 부서가 직면하고 있는 도전의 범위와 성격을 고려할 때 중요한 질문은 필수적인 혁신과 관리 문제가 그들이 요구하는 지속적이고 최상위 수준의 관심을 받도록 어떻게 보장할 수 있는가 하는 것이다새 부서는 전에 없던 도전에 직면해 있다entailment약간 따뜻하고 약간은 바람이 많이 부는 것 같아지금 밖은 눈이 꽤 세게 내리고 있다contradiction텍사스 동부 텍사스와 텍사스 북부 애틀랜타 댈러스의 두 지역은 날씨와 모든 면에서 거의 동일하다댈러스와 애틀랜타에서 모두 살았던 두 도시는 더 다를 수 없었다contradiction여기 1월의 전형적인 게시물이 있다얀은 자주 글을 올린다neutral사람들이 저축으로 경쟁할 때 부자들은 유리한 출발을 한다가난한 사람들은 저축할 충분한 돈이 없다neutral나는 몇몇 사람들을 보았고 거기서 그들은 꽤 간단하다고 의심한다 왜냐하면 내가 본 한 여성은 내가 그녀에게 어떤 질문도 한 적이 없지만 그녀는 6살 이하의 세 명의 아이들이 있기 때문이다그 일을 하는 여자는 가족이 없다contradiction첫 번째이자 가장 오래된 피라미드를 보려면 카이로에서 사카라로 남쪽으로 한 시간 동안 여행을 해야 하고 이어서 이집트 멤피스의 고대 수도로 가야 한다처음이자 가장 오래된 피라미드는 카이로에서 북쪽으로 20분 정도 떨어진 곳에서 발견될 수 있다contradiction암기 학습 교육 시스템은 여전히 정보화 시대에 필요한 개별적인 분석 및 문제 해결 기술을 개발하는 데 도움이 되지 못하고 있습니다원격 학습은 학생들이 문제 해결 능력을 개발하는 데 도움이 되지 않습니다entailment하지만 만약 그렇다면 1달러밖에 안 들 거야 오 젠장 1달러로 만들어1달러밖에 안 들 거야entailment프랑스 건축가 오귀스트 마리엣이 전 세계 박물관에 유물의 흐름을 막기 위해 설립한 이 작품은 고대 이집트 문명의 가장 훌륭한 보물 중 일부를 소장하고 있는 세계 주요 소장품 중 하나로 성장했다이집트 유물은 모두 원래 위치에 보존되어 있다contradiction마치 그을음 폭풍을 겪은 것처럼요그는 그을음으로 가득 차 있었다entailment반란과 독립광범위한 반란과 독립을 위한 계급이죠neutralJim Crace Farrar Straus  Giroux의 검역짐 크레이스는 검역이라는 소설을 썼다neutral늦여름에 마을을 방문하여 민속춤 축제를 하거나 2월의 무어인과 기독교인의 피에스타를 방문하십시오늦여름에는 민속춤 축제가 있고 2월에는 무어와 기독교인들의 축제가 있다entailmentMaidan의 가장자리에 있는 열린 땅은 Mahatma Gandhi가 대규모기도 회의를 개최한 곳입니다마하트마 간디는 종교적이지 않았고 기도하지도 않았다contradiction그리고 그들은 컴퓨터의 모든 조작을 통해 그것을 할 수 있다그들은 컴퓨터로 그것을 조작할 수 있다entailment그린스펀이 말하는 비이성적인 활기를 실제로 겪고 있다면만약 그것이 일어나지 않는다면contradiction그는 아마 네 발만큼 나쁘지 않을 거라고 나에게 말했다 하지만 그는 단지 나에게 네가 자전거를 타야 할지도 모른다고 말했다그는 나에게 자전거를 타라고 권했다entailment어 그래 너도 알다시피 그것은 사람들이 서로를 알 수 있는 충분히 작은 학교야 그리고 그들은 네가 3 4천 명의 학생들을 알고 있을 때 문제를 막기 위해 함께 일할 수 있어그 학교는 지금 완벽한 규모이다neutral그들은 곧 끝날 것이다그들은 곧 저녁 식사를 끝낼 것이다neutral그러나 그는 어느 정도 동등한 기회였다 그는 또한 코소보를 정착시키기 위한 세르비아의 노력을 중단시켰다어느 정도 그는 코소보 정착을 위한 세르비아의 노력을 중단했기 때문에 동등한 기회주의자였다entailment에비 존이 소리쳤다에비 존이 소리쳤다entailment그들은 그들이 가진 것에 대해 정말로 신경쓰지 않는다그들은 그들이 가진 것에 대해 걱정하지 않는다entailment그래서 내 말은 너는 그것을 보는 것을 좋아하니나는 네가 그것을 좋아하는 것을 알지만 너는 그것을 TV나 직접 보는 것을 싫어한다contradiction카사블랑카를 본 적도 없고 바람과 함께 사라지는 것도 본 적도 없어나는 카사블랑카와 바람과 함께 사라지는 것을 여러 번 지켜보았다contradiction두 가지 질문 음주 검사의 민감성 부족 문제를 식별한다세 가지 질문 음주 검사는 많은 민감성을 가지고 있다contradiction그러나 공기 덮개가 없으면 쿠안탄 해안에서 발견되어 일본 폭격기에 의해 침몰되었다그들은 여행 초기에 목격되었다neutralFFC 연구는 프로젝트의 궁극적인 기능과 비용에 영향을 미칠 수 있는 능력이 가장 큰 개념 계획 및 설계 단계에서 설계 검토에주의를 기울여야 한다고 지적합니다독자들은 그들이 올바른 것에 충분한 관심을 기울이지 않은 것에 대해 당황했다neutral따라서 총 생산량이 영향을 받지 않는 위기 후 상황을 시각화할 수 있습니다 투자는 더 작았고 자본 유입은 더 작거나 부정적이었다 원화는 위기 이전보다 낮은 평형 수준에 도달할 것입니다위기 이후의 결과는 단 한 가지뿐이었다contradiction미국의 임무는 세기가 바뀔 무렵 이곳에 기반을 두고 있었다미국 임무는 서기 700년경에 여기에 기반을 두고 있었다contradiction대안적인 관점은 나토가 무엇을 해야 하고 잔학행위는 평결이라기 보다는 도전이며 나토가 계속하기 때문에 정확하게 인내해야 한다는 것이다나토가 존재한다면 의도와 상관없이 가능한 모든 자원을 활용해야 한다contradiction알다시피 나는 ACMAX 무선 연결 시스템을 가지고 있어ACMAX는 최고의 무선 연결 시스템이다neutral캘리포니아에서 모든 사람들은 그들이 궁극적인 시트콤을 쓰고 그들만의 낙원을 사는 다음 사람이 될 수도 있다고 생각한다캘리포니아의 대부분의 사람들은 시트콤을 쓰거나 땅을 사는 것에 관심이 없다contradiction거대한 문 널빤지 블라인드 새겨진 철창살레자 반달색 스테인드글라스 창문메디오푼토스 뒤에는 페넘브랄 빛으로 목욕한 숨겨진 안뜰이 숨어 있었다반달색 스테인드글라스 창문 뒤에는 빛으로 목욕한 숨겨진 안뜰이 있고 그것은 저녁 식사를 위한 고요한 환경을 제공했다neutral다양한 탑들은 마을과 항구를 가로질러 멋진 경치를 제공한다그 탑들은 마을과 항구를 내다보기에 좋은 장소를 제공한다entailment간단히 말해서 용돈 시장은 배출되지 않는 SO2의 각 톤에 가격이나 가치를 둔다SO2는 경우에 따라 제한된다entailment블랙스가 투표하는 걸 허락하지 않았고 내가 여자들에게 올해가 어땠는지조차 모를 때까지 여자들이 투표하는 걸 허락하지 않았어나는 여성들이 투표할 수 있는 해가 1919년이었다고 생각한다neutral하지만 그런 일들이 있었다상황은 이런 식이었다entailment아마도 그들이 그런 정보를 알고 있다면 나는 알려지지 않기를 원한다 그리고 나는 당신이 CIA 음모론이나 당신의 지식 없이 그것을 하려고 하는 그런 정당들을 알고 있다는 것을 알고 있다 그래서 당신이 그들에 대해 알고 있는 두 번째 유형의 프라이버시와 그것에 대해 알지 못하는 두 번째 유형의 프라이버시를 침해하는 것들이 있고 나는 그것에 대해 말할 수 없다 그리고 나는 적어도 이 나라에서는 그것이 매우 낮다고 생각하고 싶다나는 음모론에 대해 읽는 것을 정말 좋아한다neutral그리고 아무도 우리에게 보여주지 않았고 그래서 나는 투표하지 않았다 왜냐하면 그곳에 들어가 다른 아이들은 모두 그들을 비웃었고 그들은 그것이 재미있다고 생각했기 때문이다 오 그녀는 어떻게 하는지도 모른다나는 그것에 대해 아무것도 이해하지 못했기 때문에 투표하지 않았고 나도 별로 관심이 없었다neutral나는 아직 그들에게 말하지 않았어 그녀가 말했다나는 아직 그들에게 말하지 않았다 그들은 내일 저녁까지 도착하지 않을 것이다라고 그녀가 말했다 neutral\n"
          ]
        },
        {
          "output_type": "stream",
          "name": "stderr",
          "text": [
            " 36%|███▌      | 332681/935646 [03:10<04:40, 2148.18it/s]"
          ]
        },
        {
          "output_type": "stream",
          "name": "stdout",
          "text": [
            "nan\n",
            "이 빌어먹을 렙스들이 그를 계속 가게 할 거야우리도 그를 막으려면 렙스를 막아야 해neutral당신의 감정이 50년 전에 들었던 노래들에 의해 형성된다는 것을 아는 것은 약간 골치 아픈 일이다그 사람은 적어도 99살이다contradiction하지만 당신이 죄를 지은 아버지 콤플렉스를 할 때 그가 우리가 자라는 것을 보기 위해 그곳에 없기 때문에 당신은 당신이 알고 있는 모든 종류의 것들을 얻을 수 있다죄 많은 아버지 콤플렉스로 당신은 그들이 자라는 것을 보지 않을 것이라는 것을 안다entailment물론 이런 종류의 수요측 사고는 극도로 유행에 뒤떨어져 있다수요측 사고는 매우 인기가 있고 모든 사람들은 그것을 사용하는 것을 좋아한다contradiction유엔에 있는 커트 발드하임의 옛 사무실을 확인해 보십시오유엔에 있는 커트 발드하임의 사무실은 또 다른 다가오는 오피칼로 다시 꾸며지고 있다neutral그럼 농장이 좀 있을 거야그것은 당신이 방대한 낙농장을 가지고 있다는 것을 의미한다contradictionNYT는 작가 Janna Malamud Smith의 오피니언을 운영하고 있는데 만약 우리가 진실을 말하는 것에 대해 단순화된 규칙을 만들려면 내 것이 Ms를 시작할 것이라고 말한다Janna Malamud Smith는 전에 NYT를 위해 글을 쓴 적이 있다entailment어린이들에게 어필할 박물관은 말라히데 성 에스테이트에 있는 프라이 모델 철도 박물관75페이지 참조 국립 왁스 박물관그랜비 로우 더블린 1 텔 872 6340은 유명한 동화 캐릭터를 묘사한 특별한 어린이 세계 테이블라우와 팝 음악가들을 위한 메가스타 홀을 가지고 있다말라히데 성 에스테이트와 국립 왁스 박물관은 성인 전용 명소다contradiction마찬가지로 매혹적인 두 개의 평행한 부분적으로 주거용 거리인 오라일리와 오브라파는 신고전주의와 식민지의 거대한 건물들이 노쇠한 건물들과 뒤섞여 있다OReilly와 Obrapaa는 쿠바의 광대한 분열을 강조하는 주택과 식민지 건물을 모두 발견할 수 있는 주거용 거리입니다neutral하지만 그때 나는 당신이 매력이 육체적이라는 것을 의미하는지 아니면 완성된 관계가 육체적이고 성적이라는 것을 의미하는지 모르겠다그 관계는 결코 공식적으로 완성되지 않았다contradiction그래 그래 그래 우리가 정말 흥분했어우리는 그 해 크리스마스 선물에 정말 신이 났어요neutral보는 것이 훨씬 더 재미있었을 것이고 그를 조금 비웃을 수도 있었을 것이고 프로그래머의 상사가 그에게 준 별명은 완전히 새로운 의미를 얻었을 것이다그 따분한 책을 읽는 대신에 당신은 그 프로그램을 보면서 그에 대해 뭔가를 배울 수 있었을 것이다neutral음 바람이 많이 불었고 아마 지금 시간적으로 때아닌 날씨일 거야지금은 유난히 따뜻하다entailment이비자는 현재 스페인인 나머지 지역과 함께 섬을 점령하고 신속하게 문화를 강요한 반달 족의 게르만 부족에 의해 침략 당하고 해고 당했다현재 스페인에 대한 게르만의 영향은 부분적으로 그들의 침략 때문이었다entailment금고가 있는 르네상스 천장은 신대륙의 첫 선적품의 금으로 반짝인다천장에는 신대륙의 금 은 백금이 있다neutral그렇다 하지만 나는 로비스트가 예산에서 그들이 가지고 있는 것을 너무 보호해서 모든 사람들이 자신의 공정한 몫을 지불해야 하는 것 같지 않다고 생각한다 그리고 그것이 아마도 기업 미국이 리베이트와 기타 때문에 그들이 하고 있는 일을 회피하는 이유일 것이다 나는 내 인생의 변화를 보지 못하는 비관론자다 나는 네가 더 젊을 것이라고 생각한다기업 미국은 모든 사람이 공정한 몫을 지불해야 하기 때문에 그들이 하는 일을 회피한다entailmentBayostigres 줄무늬 3개바요스 티그레스는 줄무늬가 3개야entailment이는 부분적으로 미국 국내 금리에 비해 양국의 국내 금리가 상대적으로 높았고 부분적으로는 미국과 이 두 나라 사이에 교환된 우편물량 차이가 있기 때문이다이 두 나라는 미국에 비해 국내 금리가 상대적으로 낮다contradiction1920년대 칼레오니아 놀이공원의 레크리에이션인 보드워크는 페니 아케이드를 특징으로 한다보드워크는 1980년에 설계되고 만들어졌다neutral방문객 친화적인 일을 한 후 그녀는 1998년 10월에 갱도를 대중에게 낮췄다여왕은 그 배의 공개 개항식에 참석했다neutral그것은 어린이들을 위한 자연의 시작의 중심이 되도록 고안되었다고 이 신문은 말했다아이들은 여기서 자연에 대한 소개를 받는다entailment바로 그 모든 걸 덮어서제대로 가려져 있어요entailment주로 독일어를 사용하는 알토 아디게Austrian South Tyrol 1918년까지의 여름 하이킹은 기쁨이다오스트리아인들은 여전히 알토 아디게가 그들에게 돌아오기를 원한다neutral디오라마는 밀랍 인형들로 가득 차 있다그 인형들은 실물 같지 않았다neutral그는 자신의 삶을 상업에 얽매인 예술가의 이야기인 성취되지 않은 약속의 이야기로 본다그는 자신의 예술적 비전이 수요 부족으로 인해 좌절되었다고 믿고 있으며 저평가되어 있다고 느낀다entailmentWillie Nelson은 그들의 새로운 Talking Talmud의 목소리를 낼 예정이다윌리 넬슨은 Talking Talmud의 목소리를 내기 위한 최고의 선택이었다 neutral\n",
            "Input nan is not valid. Should be a string, a list/tuple of strings or a list/tuple of integers.\n",
            "토니 슈즈그래서 클린턴은 슈즈와 양말을 갖게 될 것이다 nan\n"
          ]
        },
        {
          "output_type": "stream",
          "name": "stderr",
          "text": [
            " 36%|███▌      | 333818/935646 [03:11<04:27, 2249.23it/s]"
          ]
        },
        {
          "output_type": "stream",
          "name": "stdout",
          "text": [
            "nan\n",
            "M모자를 손에 들고 가라 음 파 여기 네 방랑자야라고내 손에 모자를 들고 아버지를 찬양하고 내 모습을 보여 entailment\n"
          ]
        },
        {
          "output_type": "stream",
          "name": "stderr",
          "text": [
            " 36%|███▌      | 337289/935646 [03:12<04:52, 2043.15it/s]"
          ]
        },
        {
          "output_type": "stream",
          "name": "stdout",
          "text": [
            "Input nan is not valid. Should be a string, a list/tuple of strings or a list/tuple of integers.\n",
            "비엔나 소음 합창단 nan\n"
          ]
        },
        {
          "output_type": "stream",
          "name": "stderr",
          "text": [
            " 38%|███▊      | 351863/935646 [03:21<04:25, 2201.79it/s]"
          ]
        },
        {
          "output_type": "stream",
          "name": "stdout",
          "text": [
            "nan\n",
            "하지만 넌 재능이 있어당신은 재능이 있지 않습니까entailment잔인함이 더해져 닭에 앉아서 닭을 먹는다약간의 잔인함도 없이 닭에 앉아 있다contradiction무한한 불가능의 땅만큼 녹는 냄비가 아닌 이스라엘은 많은 광경과 생활 방식을 작은 지역으로 압축하여 방문객들에게 코누코피아의 경험을 제공한다이스라엘은 방문객들이 할 일을 찾기에는 너무 크다contradiction나일강에서 펠루카를 타면 아이들과 어른들을 위해 물 위에 있는 것이 재미있다어른들과 아이들은 나일강에 나가는 것을 즐긴다entailment일종의 억제 억제력이나 눈 타입 같은 것에 대한 안목을 알고 있는 겁니다그것은 눈의 일종으로 묘사될 수 있다entailment그래 만약 네가 정말 나쁜 상태가 아니라면 은퇴하는 것은 그런 사람에게 좋은 생각이라는 것을 알고 있지만 만약 네가 많은 건강상의 문제를 가지고 있다면만약 당신이 자신을 잘 돌봤다면 은퇴 주택은 좋은 생각이다neutral그리고 동독을 위한 유일한 저축은 서독이 많은 돈을 가지고 있다는 것이다동독을 구하는 유일한 것은 서부 반쪽이 돈을 가지고 있다는 것이다entailment그가 알고 있는 모든 것을 녹일 만큼 뜨겁다난로는 그가 전에 본 그 어떤 것보다 더 뜨거웠다neutral이탈리아 방을 지나는 길에 프라 안젤리코의 빛나고 엄청난 선언과 안토넬로 다 메시나의 현실적으로 세밀하고 극심하게 비극적인 그리스도 그리고 산드로 보티첼리의 나스타지오 데글리 오네스티 이야기에 대해 반드시 주시하라이탈리아 방들은 그곳에 저장된 모든 귀중한 예술 때문에 통과하기에 꽤 피곤할 수 있다neutral그것은 곧 번성했다 배를 끌어들이는 자연 항구와 함께 홍콩은 무역의 기지로서 최전선으로 뛰어올랐다홍콩은 무역 도시로 발전하는데 오랜 시간이 걸렸다contradiction통계 수명의 가치에 관한 26개의 연구가 대기 오염 감소에 의해 저장된 통계 수명의 가치에 대한 적절한 추정치를 제공하는지에 대해서는 상당한 불확실성이 있습니다26개 연구는 통계적 수명의 가치와 대기 오염 감소에 의해 절약된 그 가치에 대한 추정치에 관한 것이다entailment그래 가끔은 효과가 있고 가끔은 내가 트림을 할 때 내가 자유로워지는 곳에 도달했어 40년 후에 이 집에 페인트 층이 너무 많아서 더 이상 가장자리가 어디 있는지 구별하기가 너무 힘들어서그림 그리는 것은 최악의 직업이다contradiction따라서 이 규칙은 제안된 규칙이 아니라 임시 규칙으로 발표되었다그들은 결코 제안된 규칙을 의도하지 않았고 대신 임시 규칙으로 출판되었다neutral그들은 진짜를 놓쳤다 부시가 그를 비열하게 보이게 할지도 모르는 오래된 도덕적 문제들에 대해 말할 필요가 없는 이유는 부시가 그를 따뜻하고 배려하는 것처럼 보이게 하는 새로운 도덕적 문제들을 소개하고 있기 때문이다그는 계획된 부모를 줄이는 것에 대한 오래된 도덕적 문제들을 무시하고 있다neutral닉 네임은 광고 배경을 가진 폴란드 부조리주의 작가의 영어 펜 이름입니다광고 경력을 가진 폴란드 작가는 닉 네임이라는 필명을 가지고 있다 entailment\n"
          ]
        },
        {
          "output_type": "stream",
          "name": "stderr",
          "text": [
            " 38%|███▊      | 354812/935646 [03:23<04:35, 2111.70it/s]"
          ]
        },
        {
          "output_type": "stream",
          "name": "stdout",
          "text": [
            "nan\n",
            "그래 그렇다고 그들이 그를 못살게 굴겠다는 뜻은 아니야그들은 그를 못살게 굴지 못할지도 모른다neutral그래 나는 내가 747호 비행기에서 우연히 자격이라기 보다는 올바른 성별을 알고 있기 때문에 비행 프로그램에 참가한 여자와 함께 비행기를 타고 있을지도 모른다고 생각하니 더듬거린다나는 그들의 섹스를 바탕으로 비행 프로그램에 들어간 조종사와 함께 비행하는 것에 대해 기분이 좋지 않을 것이다entailment임금 프리미엄 지급예을 포함한다임금을 포함하지 않음contradiction음 내가 이사 왔을 때 나는 내 차고를 짓지 않았고 내 미풍로와 계단 위층의 콘크리트 계단은 나무로 만들어졌고 내가 그렇게 한 이유는 11월에 늦고 겨울이 오고 있었기 때문이다내가 처음 이사 왔을 때 아직 차고가 건설되지 않았다entailment아니 그가 추구하는 것은 배심원들의 마음속에 그런 혼란을 일으키는 것인데 그들은 어느 형이 그랬는지에 대해 의견이 분분하다그는 어떤 형이 유죄인지 배심원들을 혼란스럽게 하려고 하고 있다entailment그러나 그들은 이러한 사실들이 요구조건을 충족시킨다고 말하는 방식으로 신청서를 작성하고 신청서가 법원에 도달할 때쯤이면 법원은 정말로 결함을 알아차리지 못할 것 같다그 사실들은 충족시킬 필요가 없다contradiction적용 가능한 수익 기준에 따라 수익을 성격에 따라 비교환 또는 교환 수익으로 인식한다미교환 또는 교환수입인 수익을 인식한다entailment무솔리니와 그의 정부 처형무솔리니는 살았다contradiction공교롭게도 나오미 울프가 앨 고어에게 한 달에 1만 5천 달러를 지불하고 있다는 충고를 한 것이 바로 이것이다앨 고어는 나오미 울프의 조언에 15달러를 지불했다contradiction워싱턴포스트WP는 10년 만에 최고의 비밀 작전 중 하나라고 평가했다 케네디는 많은 친구들과 친척들그의 사촌인 의원에게 알리지 않았다워싱턴 포스트는 그들의 1면에 그 이야기를 실었다neutral따라서 사실상 사제 교회는 폐쇄된 종교 질서에 의해 보살핌을 받았음에도 불구하고 교구 교회가 되었습니다교구 교회는 전리품에서 자랐다entailment첫째 두 명의 학생이 모텔 방에서 아기를 죽이고 쓰레기통에 버린 혐의로 기소되었다부모는 고의로 외동딸을 죽였다neutral좀 더 효과적이고 유용하게 만들려고실용성을 강조하는 관점은 모든 사람의 이익에 있다neutral스코틀랜드의 문제는 1660년 찰스 2세가 왕위에 오른 후에도 계속되었다찰스 2세의 왕위 계승은 스코틀랜드의 문제를 끝내지 못했다entailment그리고 최근 IPO 시장의 부활을 고려할 때 다가오는 공모도 그랬다고 말할지도 모른다IPO 시장은 죽었고 오랫동안 죽었다contradiction우리는 합리적으로 높은 권위에 대해 진정한 자선단체는 그 자체가 아니라는 말을 들었다진정한 자선단체는 그 자체로 자랑하지 않는다고 우리는 들었다 neutral\n"
          ]
        },
        {
          "output_type": "stream",
          "name": "stderr",
          "text": [
            " 38%|███▊      | 355758/935646 [03:23<04:14, 2276.60it/s]"
          ]
        },
        {
          "output_type": "stream",
          "name": "stdout",
          "text": [
            "Input nan is not valid. Should be a string, a list/tuple of strings or a list/tuple of integers.\n",
            "국제통제연방정부GAOAIMD99의 표준 nan\n"
          ]
        },
        {
          "output_type": "stream",
          "name": "stderr",
          "text": [
            " 38%|███▊      | 358732/935646 [03:24<04:16, 2251.61it/s]"
          ]
        },
        {
          "output_type": "stream",
          "name": "stdout",
          "text": [
            "nan\n",
            "마을로 돌아가 레니 닥네레니 그는 의사로부터 도망쳤어 contradiction\n",
            "nan\n",
            "자연스럽게보통 entailment\n"
          ]
        },
        {
          "output_type": "stream",
          "name": "stderr",
          "text": [
            " 39%|███▊      | 362336/935646 [03:26<04:23, 2171.96it/s]"
          ]
        },
        {
          "output_type": "stream",
          "name": "stdout",
          "text": [
            "nan\n",
            "닥 매튜스를 데려오는 게 좋을 거야매튜스 박사님 가서 가져오세요entailment그녀의 눈에 경고가 들어왔다그녀의 눈이 경고를 보냈다entailment그들은 크론을 벌거벗고 그녀의 발 옆에 있는 판잣집 빔에 매달려 있었다벌거벗은 마녀는 판잣집에 발을 매달고 있었다entailment남쪽 끝에는 에드워드의 우아했던 시절로 거슬러 올라가는 올드 카타락트 호텔이 있을 것이다올드 캐터랙트 호텔은 북쪽 끝에 있습니다contradiction그들은 전투기 시바지1627 1680년 도적 용감한 군 사령관 그리고 진정한 힌두 민속 영웅이 이끌었다그들은 1627년부터 1680년까지 시바지라는 용감한 지휘관이 이끌었다entailment제안된 규칙 제정 단계에서 잠재적 대안이 고려되고 논의되었으며 최종 규칙 제정은 채택된 표준에 대한 대안이 없다는 NHTSA의 결정을 설명합니다한 가지 잠재적인 대안은 모든 고양이를 슬리퍼에 넣는 것이었다neutral너는 그의 도움을 요청해야 할 것이다당신은 그가 당신을 도울 필요가 있을 것이다entailment그리고 그는 지루해하고 분명히 카풀은 그를 위한 것이 아니었고 그래서 그는 더 많은 것을 위해 돌아왔다카풀은 그를 지루하게 한다entailment그의 작품은 현대 미술의 가혹함에 대한 반발인 친근한 예술로 묘사된다친절한 예술이라는 용어는 현대 미술의 가혹함을 묘사하는 데 사용될 수 있다 contradiction\n"
          ]
        },
        {
          "output_type": "stream",
          "name": "stderr",
          "text": [
            " 39%|███▉      | 363906/935646 [03:27<04:17, 2221.79it/s]"
          ]
        },
        {
          "output_type": "stream",
          "name": "stdout",
          "text": [
            "Input nan is not valid. Should be a string, a list/tuple of strings or a list/tuple of integers.\n",
            "Vendme Opra Madeleine nan\n"
          ]
        },
        {
          "output_type": "stream",
          "name": "stderr",
          "text": [
            " 39%|███▉      | 367549/935646 [03:29<04:14, 2228.02it/s]"
          ]
        },
        {
          "output_type": "stream",
          "name": "stdout",
          "text": [
            "nan\n",
            "자연스럽게자연스럽지 않게 contradiction\n"
          ]
        },
        {
          "output_type": "stream",
          "name": "stderr",
          "text": [
            " 40%|████      | 378925/935646 [03:36<07:53, 1176.51it/s]"
          ]
        },
        {
          "output_type": "stream",
          "name": "stdout",
          "text": [
            "nan\n",
            "내가 하는 일의 아주 큰 비율은 프로 보노나 낮은 보노다내 일의 대부분은 공짜이거나 비용이 거의 들지 않는다entailment연구 대상 고용주의 약 3분의 1이 적어도 하나의 직업 범주에서 여성이나 소수민족을 차별한 것으로 보인다고 저자들은 말했다이러한 차별은 대부분의 경우 의도하지 않은 것으로 의심되지만 여전히 널리 퍼져 있습니다neutral매일 일하는 것이 행복할 수 있도록 우정을 위해서 그리고 오 나는 정말로 이 사람들을 참을 수 없다 하지만 그것은 그에게 중요한 것이다그가 첫 주 안에 친구를 사귈 수 있다는 것은 그에게 의미 있는 일이었다neutral물론 일부 ED 환자들은 자발적으로 음주에 대한 정보를 자원할 수도 있다사람들은 그들의 알코올 중독에 대해 정직하고 개방적이어야 한다neutral레스토랑과 유쾌한 앞 테라스가 있다아름다운 앞 테라스가 있습니다entailment헤드라인에는 꽤 무서운 것이 묘사되어 있는 것 같지만 처음 세 가지 특성 즉 거대하고 강력하며 빠른 특성은 실제로 네 번째 특성이 나타날 때까지 꽤 매력적으로 들린다네 번째 품질인 위험은 테러가 들어오는 곳이다 neutral\n"
          ]
        },
        {
          "output_type": "stream",
          "name": "stderr",
          "text": [
            " 41%|████      | 379834/935646 [03:38<08:42, 1063.26it/s]"
          ]
        },
        {
          "output_type": "stream",
          "name": "stdout",
          "text": [
            "nan\n",
            "데이브 핸슨 당신네 세계에서는 공학 예술에 정통했군 대부분의 사람들보다데이브 핸슨 넌 네 세상에서 엔지니어로 일했어 neutral\n"
          ]
        },
        {
          "output_type": "stream",
          "name": "stderr",
          "text": [
            " 51%|█████     | 477454/935646 [04:15<02:24, 3174.95it/s]"
          ]
        },
        {
          "output_type": "stream",
          "name": "stdout",
          "text": [
            "Input nan is not valid. Should be a string, a list/tuple of strings or a list/tuple of integers.\n",
            "두 사람이 무대 위에 있는데 한 사람은 마이크를 들고 있고 다른 한 사람은 전기 기타를 들고 있다 nan\n",
            "Input nan is not valid. Should be a string, a list/tuple of strings or a list/tuple of integers.\n",
            "설명할 그림을 볼 수 없습니다 nan\n",
            "Input nan is not valid. Should be a string, a list/tuple of strings or a list/tuple of integers.\n",
            "설명할 그림을 볼 수 없습니다 nan\n",
            "Input nan is not valid. Should be a string, a list/tuple of strings or a list/tuple of integers.\n",
            "설명할 그림을 볼 수 없습니다 nan\n"
          ]
        },
        {
          "output_type": "stream",
          "name": "stderr",
          "text": [
            " 62%|██████▏   | 582221/935646 [04:57<01:56, 3044.97it/s]"
          ]
        },
        {
          "output_type": "stream",
          "name": "stdout",
          "text": [
            "Input nan is not valid. Should be a string, a list/tuple of strings or a list/tuple of integers.\n",
            "나팔을 연주하는 밴드에서 행진하는 파란 셔츠를 입은 어린 소녀 nan\n"
          ]
        },
        {
          "output_type": "stream",
          "name": "stderr",
          "text": [
            " 74%|███████▍  | 696978/935646 [05:44<01:43, 2314.30it/s]"
          ]
        },
        {
          "output_type": "stream",
          "name": "stdout",
          "text": [
            "Input nan is not valid. Should be a string, a list/tuple of strings or a list/tuple of integers.\n",
            "보라색 공으로 점프하는 것은 정말 재미있어요 nan\n",
            "Input nan is not valid. Should be a string, a list/tuple of strings or a list/tuple of integers.\n",
            "보라색 공으로 점프하는 것은 정말 재미있어요 nan\n",
            "Input nan is not valid. Should be a string, a list/tuple of strings or a list/tuple of integers.\n",
            "보라색 공으로 점프하는 것은 정말 재미있어요 nan\n"
          ]
        },
        {
          "output_type": "stream",
          "name": "stderr",
          "text": [
            "100%|██████████| 935646/935646 [07:17<00:00, 2136.41it/s]\n"
          ]
        }
      ]
    },
    {
      "cell_type": "code",
      "source": [
        "print(train_input_ids[0],\n",
        "      train_attention_masks[0],\n",
        "      train_token_type_ids[0],\n",
        "      train_label[0],sep='\\n')"
      ],
      "metadata": {
        "colab": {
          "base_uri": "https://localhost:8080/"
        },
        "id": "vgh-W1Bp2JdT",
        "outputId": "35e858c8-a083-4b7b-d9b7-79d0fdfe5de6"
      },
      "execution_count": null,
      "outputs": [
        {
          "output_type": "stream",
          "name": "stdout",
          "text": [
            "tensor([   101,   8857, 118739,  17022,   9834,  67527,   9477,  21039, 118960,\n",
            "         10892,   9672,  52951,  11882,   9706,  12692,  60362,   9102,  69164,\n",
            "          8932,  40419,   9730,  51684,  44270,  11506,    102,   9672,  52951,\n",
            "         11882,   9706,  12692,  23321,  10892,   9834,  67527,   9477,  21039,\n",
            "        118960,  10622,   9652,  18778,  14040,  66815,  24190,    102,      0,\n",
            "             0,      0,      0])\n",
            "tensor([1, 1, 1, 1, 1, 1, 1, 1, 1, 1, 1, 1, 1, 1, 1, 1, 1, 1, 1, 1, 1, 1, 1, 1,\n",
            "        1, 1, 1, 1, 1, 1, 1, 1, 1, 1, 1, 1, 1, 1, 1, 1, 1, 1, 1, 1, 0, 0, 0, 0])\n",
            "tensor([0, 0, 0, 0, 0, 0, 0, 0, 0, 0, 0, 0, 0, 0, 0, 0, 0, 0, 0, 0, 0, 0, 0, 0,\n",
            "        0, 1, 1, 1, 1, 1, 1, 1, 1, 1, 1, 1, 1, 1, 1, 1, 1, 1, 1, 1, 0, 0, 0, 0])\n",
            "tensor(0)\n"
          ]
        }
      ]
    },
    {
      "cell_type": "code",
      "source": [
        "train_input=(train_input_ids,train_attention_masks,train_token_type_ids)"
      ],
      "metadata": {
        "id": "rgO_Ktnl4wuF"
      },
      "execution_count": 19,
      "outputs": []
    },
    {
      "cell_type": "code",
      "source": [
        "ls"
      ],
      "metadata": {
        "colab": {
          "base_uri": "https://localhost:8080/"
        },
        "id": "Qkw2I-_c67is",
        "outputId": "54546581-bd91-4691-e0e2-0db40de5fd91"
      },
      "execution_count": 19,
      "outputs": [
        {
          "output_type": "stream",
          "name": "stdout",
          "text": [
            "multinli.train.ko.tsv  test_df.csv   xnli.dev.ko.tsv\n",
            "snli_1.0_train.ko.tsv  train_df.csv  xnli.test.ko.tsv\n"
          ]
        }
      ]
    },
    {
      "cell_type": "code",
      "source": [
        "# ndarray로 저장하고 싶은 경우\n",
        "\n",
        "np.save('train_input_ids',train_input_ids.numpy())\n",
        "np.save('train_attention_masks',train_attention_masks.numpy())\n",
        "np.save('train_token_type_ids',train_token_type_ids.numpy())\n",
        "np.save('train_label',train_label.numpy())"
      ],
      "metadata": {
        "id": "fnPzqlCu6c_F"
      },
      "execution_count": null,
      "outputs": []
    },
    {
      "cell_type": "markdown",
      "source": [
        "### Test dataset"
      ],
      "metadata": {
        "id": "mWFPqpjF4-z0"
      }
    },
    {
      "cell_type": "code",
      "source": [
        "test_input_ids=[]\n",
        "test_attention_masks=[]\n",
        "test_token_type_ids=[]\n",
        "test_label=[]\n",
        "\n",
        "for text1,text2,label in tqdm(zip(test_df['sentence1'],test_df['sentence2'],test_df['gold_label']),total=len(test_df)):\n",
        "\n",
        "  try:\n",
        "    input_ids,attention_mask,token_type_ids=bert_tokenizer(text1,text2,MAX_LEN)\n",
        "\n",
        "    test_input_ids.append(input_ids)\n",
        "    test_attention_masks.append(attention_mask)\n",
        "    test_token_type_ids.append(token_type_ids)\n",
        "\n",
        "    test_label.append(txt2id[label])\n",
        "  except Exception as e:\n",
        "    print(e)\n",
        "    print(text1,text2)\n",
        "    pass\n",
        "\n",
        "test_input_ids=torch.LongTensor(test_input_ids)\n",
        "test_attention_masks=torch.LongTensor(test_attention_masks)\n",
        "test_token_type_ids=torch.LongTensor(test_token_type_ids)\n",
        "test_label=torch.LongTensor(test_label)"
      ],
      "metadata": {
        "colab": {
          "base_uri": "https://localhost:8080/"
        },
        "id": "Bwg_Nzpd46hM",
        "outputId": "7ec0d0bd-8467-4400-a8dc-f878b404ad96"
      },
      "execution_count": 20,
      "outputs": [
        {
          "output_type": "stream",
          "name": "stderr",
          "text": [
            " 77%|███████▋  | 1205/1571 [00:05<00:02, 161.60it/s]"
          ]
        },
        {
          "output_type": "stream",
          "name": "stdout",
          "text": [
            "nan\n",
            "상처! 스스로 설명해 주실 수 있겠습니까? 휘더가 울버스톤을 떠나 보냈나요?\t너는 분명히 설명해야 해! 울버스톤은 어떻게 된 거야?\tentailment\n",
            "언제부터 메인 갑판에서 명령한 거야, 오글? 나는 함장으로부터 명령을 받아.\t오글은 마치 선장이라도 되는 양 명령을 내리려 했다.\tentailment\n",
            "언제부터 메인 갑판에서 명령한 거야, 오글? 나는 함장으로부터 명령을 받아.\t배의 선장은 몸이 좀 안 좋다고 했다.\tneutral\n",
            "언제부터 메인 갑판에서 명령한 거야, 오글? 나는 함장으로부터 명령을 받아.\t배에는 명령을 내릴 사람이 아무도 없었다.\tcontradiction\n",
            "우리의 침몰하는 것을 확실히 해두고 싶지 않다면, 그런 문제와 같은 것들에 관해서는 한숨 쉴 일은 없다.\t승무원이 빨리 움직이지 않으면 배가 가라앉을 것이다.\tneutral\n",
            "우리의 침몰하는 것을 확실히 해두고 싶지 않다면, 그런 문제와 같은 것들에 관해서는 한숨 쉴 일은 없다.\t그들이 가라앉을 방법이 있다.\tentailment\n",
            "우리의 침몰하는 것을 확실히 해두고 싶지 않다면, 그런 문제와 같은 것들에 관해서는 한숨 쉴 일은 없다.\t그들은 어떤 상황에서도 가라앉을 수 없다.\tcontradiction\n",
            "하지만 울버스톤은 멈추지 않을 것이다.\t울버스톤은 완전히 멈췄다.\tcontradiction\n",
            "하지만 울버스톤은 멈추지 않을 것이다.\t울버스톤은 끝이 나지 않았다.\tentailment\n",
            "하지만 울버스톤은 멈추지 않을 것이다.\t울버스톤은 정교한 계략의 일부였다.\tneutral\n",
            "그는 그 실체를 떨어뜨려서 망설이는 그림자를 잡아채려는 우화 속의 개처럼 자신을 보살폈다.\t그는 그 우화에 나오는 개처럼 되고 싶지 않았다.\tcontradiction\n",
            "그는 그 실체를 떨어뜨려서 망설이는 그림자를 잡아채려는 우화 속의 개처럼 자신을 보살폈다.\t우화는 아주 오래되었다.\tneutral\n",
            "그는 그 실체를 떨어뜨려서 망설이는 그림자를 잡아채려는 우화 속의 개처럼 자신을 보살폈다.\t한때는 개와 현혹하는 그림자에 관한 이야기가 있었다.\tentailment\n",
            "블러드 대위에게 수수료를 주는 것이 실수라면, 그 실수는 내 것이 아니다.\t블러드 대위에게 수수료를 주는데 오류가 있었을 수도 있습니다.\tentailment\n",
            "블러드 대위에게 수수료를 주는 것이 실수라면, 그 실수는 내 것이 아니다.\t블러드 대위에게 수수료를 제공한 것에는 실수가 없었다.\tcontradiction\n",
            "블러드 대위에게 수수료를 주는 것이 실수라면, 그 실수는 내 것이 아니다.\t회계사가 최근 해고되면서 오류가 발생할 가능성이 있었다.\tneutral\n",
            "게다가, 그들의 체류가 어떻게 나를 도왔을 수 있었는가? 피트가 대답하지 않자, 알겠나? 하고 움츠러 들었다.\t그는 승낙의 표시로 어깨를 움직였다.\tentailment\n",
            "게다가, 그들의 체류가 어떻게 나를 도왔을 수 있었는가? 피트가 대답하지 않자, 알겠나? 하고 움츠러 들었다.\t그는 그들에게 그가 그것을 볼 수 있다고 말했지만, 그것은 결국 큰 문제는 아니었다.\tneutral\n",
            "게다가, 그들의 체류가 어떻게 나를 도왔을 수 있었는가? 피트가 대답하지 않자, 알겠나? 하고 움츠러 들었다.\t체류하는 것이 나에게 도움이 될 수 있다는 것이 분명했기 때문에 어떤 의문도 제기되지 않았다.\tcontradiction\n",
            "하지만 널 보고 싶어하는 건 올드 울프에 관한 걸 거야.\t그는 올드 울프에 대해서가 아니라 올드 베어에 대해서 널 보고 싶어해.\tcontradiction\n",
            "하지만 널 보고 싶어하는 건 올드 울프에 관한 걸 거야.\t그는 올드 울프에 대해 널 보고 싶어해.\tentailment\n",
            "하지만 널 보고 싶어하는 건 올드 울프에 관한 걸 거야.\t그는 오늘 올드 울프에 대해 너를 보고 싶어해.\tneutral\n",
            "만약 그가 그렇게 했다면 그것이 최소한의 차이가 될 것이라고는 생각하지 못하겠습니다,라고 경은 진지하게 말했다.\t그의 선택권은 12마리의 닭을 사는 것과 3마리의 소를 사는 것 중 하나였다.\tneutral\n",
            "만약 그가 그렇게 했다면 그것이 최소한의 차이가 될 것이라고는 생각하지 못하겠습니다,라고 경은 진지하게 말했다.\t영주는 어느 선택이든 상당한 영향을 미쳤을 것이라고 믿었다.\tcontradiction\n",
            "만약 그가 그렇게 했다면 그것이 최소한의 차이가 될 것이라고는 생각하지 못하겠습니다,라고 경은 진지하게 말했다.\t그가 행동하기로 선택했든 아니든, 영주는 그것이 어떤 것을 바꾸었을 것이라고 믿지 않았다.\tentailment\n",
            "당신의 말이 그와 엇갈렸다.\t그는 당신이 말한 것을 좋아하지 않았다.\tentailment\n",
            "당신의 말이 그와 엇갈렸다.\t그 말에 대해 그는 당신에게 벌을 줄 것입니다.\tneutral\n",
            "당신의 말이 그와 엇갈렸다.\t그는 정말 당신이 말한 것을 즐거워했다.\tcontradiction\n",
            "영국의, 그녀는 그를 책망하며 교정했다.\t그는 틀렸고 그녀는 아무 말도 하지 않았다.\tcontradiction\n",
            "영국의, 그녀는 그를 책망하며 교정했다.\t그녀는 그의 문제를 해결했다.\tentailment\n",
            "영국의, 그녀는 그를 책망하며 교정했다.\t그녀는 항상 그를 바로잡는 임무를 맡았다.\tneutral\n",
            "하지만, 나는 쥴리언 경이 은밀하게 재미있어 하던 마스크 아래 무게를 의심한다.\t줄리안은 진지한 표정이었지만 사실 즐거워했다.\tentailment\n",
            "하지만, 나는 쥴리언 경이 은밀하게 재미있어 하던 마스크 아래 무게를 의심한다.\t줄리안은 상황이 재미있다고 생각했다.\tneutral\n",
            "하지만, 나는 쥴리언 경이 은밀하게 재미있어 하던 마스크 아래 무게를 의심한다.\t줄리안은 자신의 감정에 대해 분명히 했다.\tcontradiction\n",
            "마침내 폐하께서는 저의 모든 조언에 반하는 이런 사람에게 왕의 임무를 부여하는 어리석음을 받아들이시길 바랍니다.\t주군께서는 제 충고를 받아들이고 그에 따라 행동하셨습니다.\tcontradiction\n",
            "마침내 폐하께서는 저의 모든 조언에 반하는 이런 사람에게 왕의 임무를 부여하는 어리석음을 받아들이시길 바랍니다.\t주군께서는 매우 똑똑하셨지만, 내 조언을 듣지 않는 그의 중대한 실수는 왕국의 종말을 가져올 것이다.\tneutral\n",
            "마침내 폐하께서는 저의 모든 조언에 반하는 이런 사람에게 왕의 임무를 부여하는 어리석음을 받아들이시길 바랍니다.\t전하께서는 제 충고에 반하는 행동을 하기로 하셨습니다.\tentailment\n",
            "아, 지금, 정말 그럴 수는 없겠지? 그는 울었다.\t그는 이 모든 상황에 대해 다소 충격을 받았기 때문에 물었다.\tneutral\n",
            "아, 지금, 정말 그럴 수는 없겠지? 그는 울었다.\t그는 질문을 외쳤다.\tentailment\n",
            "아, 지금, 정말 그럴 수는 없겠지? 그는 울었다.\t그는 침묵을 지키면서 질문을 한 적이 없었다.\tcontradiction\n",
            "저기 몇 어리석은 이들은 그 이야기를 믿을지도 모른다. 그는 그 사람의 허리를 향해 경멸스러운 엄지를 흔들었다, 그의 계급은 선실에 새로운 이들의 출현 탓에 꾸준히 올라가고 있었다.\t선실에서 나온 사람들이 중간에 있는 남자들과 합류하고 있었다.\tentailment\n",
            "저기 몇 어리석은 이들은 그 이야기를 믿을지도 모른다. 그는 그 사람의 허리를 향해 경멸스러운 엄지를 흔들었다, 그의 계급은 선실에 새로운 이들의 출현 탓에 꾸준히 올라가고 있었다.\t어떤 사람들은 공주가 용에게 먹혔다는 이야기를 믿었다.\tneutral\n",
            "저기 몇 어리석은 이들은 그 이야기를 믿을지도 모른다. 그는 그 사람의 허리를 향해 경멸스러운 엄지를 흔들었다, 그의 계급은 선실에 새로운 이들의 출현 탓에 꾸준히 올라가고 있었다.\t모두가 저녁 식사를 위해 선실을 향하자 사람들의 대열이 줄어들고 있었다.\tcontradiction\n",
            "만약 어떤 것이든 그의 흥분을 증가시켰다면.\t그것은 그의 흥분을 가라앉혔다.\tcontradiction\n",
            "만약 어떤 것이든 그의 흥분을 증가시켰다면.\t그것 때문에 그는 그 어느 때보다 더 흥분했다.\tneutral\n",
            "만약 어떤 것이든 그의 흥분을 증가시켰다면.\t그것은 그를 더욱 흥분하게 했다.\tentailment\n",
            "그들이 우리의 항해를 방해하려고 한다면, 우리는 먼저 독시를 걸고 그 후에 그것을 위해 싸울 것이라고 그 후 그들에게 알릴 것이다.\t보트가 여전히 앞으로 나아갈지 알 길이 없었다.\tneutral\n",
            "그들이 우리의 항해를 방해하려고 한다면, 우리는 먼저 독시를 걸고 그 후에 그것을 위해 싸울 것이라고 그 후 그들에게 알릴 것이다.\t배를 늦출 수 있는 것은 아무것도 없었다.\tcontradiction\n",
            "그들이 우리의 항해를 방해하려고 한다면, 우리는 먼저 독시를 걸고 그 후에 그것을 위해 싸울 것이라고 그 후 그들에게 알릴 것이다.\t우리가 일단 항해를 시작하면, 우리는 그것을 위해 싸우려고 시도할 것이다.\tentailment\n",
            "좋은 하루 되십시오, 선생님. 블러드가 그에게 기분 좋게 인사했습니다.\t블러드는 그가 만난 남자에게 아무 말도 하지 않았다.\tcontradiction\n",
            "좋은 하루 되십시오, 선생님. 블러드가 그에게 기분 좋게 인사했습니다.\t블러드는 그 남자에게 좋은 하루를 바랐습니다.\tentailment\n",
            "좋은 하루 되십시오, 선생님. 블러드가 그에게 기분 좋게 인사했습니다.\t그 남자는 늙었었다.\tneutral\n",
            "안 그래, 신이시여! 또 이것을 뭐라고 부르죠? 하지만 폐하의 부총재로서, 저의 방식으로 당신의 실수를 고치기 위해 떠나겠습니다.\t고함을 지르는 사람은 다른 사람의 실수를 고치기로 결심한다.\tentailment\n",
            "안 그래, 신이시여! 또 이것을 뭐라고 부르죠? 하지만 폐하의 부총재로서, 저의 방식으로 당신의 실수를 고치기 위해 떠나겠습니다.\t폐하의 자메이카의 부지사는 이미 죽었습니다.\tneutral\n",
            "안 그래, 신이시여! 또 이것을 뭐라고 부르죠? 하지만 폐하의 부총재로서, 저의 방식으로 당신의 실수를 고치기 위해 떠나겠습니다.\t한 남자는 다른 사람에게 그가 완벽하게 그의 일을 했고 어떤 실수도 자신의 잘못이라고 말했다.\tcontradiction\n",
            "그래서 당신이 왔으니, 부총독이 그를 환영했고, 연이어 흐릿하지만, 분명히 불쾌한 수입품들이 투덜거리며 인사했다.\t나는 당신의 도착을 기대하고 있었다. 라고 부지사가 말했다.\tcontradiction\n",
            "그래서 당신이 왔으니, 부총독이 그를 환영했고, 연이어 흐릿하지만, 분명히 불쾌한 수입품들이 투덜거리며 인사했다.\t부지사는 그를 꼭 기대하지는 않았지만 어쨌든 그에게 인사를 했다.\tentailment\n",
            "그래서 당신이 왔으니, 부총독이 그를 환영했고, 연이어 흐릿하지만, 분명히 불쾌한 수입품들이 투덜거리며 인사했다.\t부지사가 손을 흔들어 인사했을 때 약간의 후회가 있었다.\tneutral\n",
            "저기 저 소녀요, 그는 맨팔을 벌려 그녀를 가리켰다.\t그는 팔이 없어서 다른 사람에게 여자를 가리키라고 했어요.\tcontradiction\n",
            "저기 저 소녀요, 그는 맨팔을 벌려 그녀를 가리켰다.\t그는 소녀를 가리켰다.\tentailment\n",
            "저기 저 소녀요, 그는 맨팔을 벌려 그녀를 가리켰다.\t그 소녀는 금발이었다.\tneutral\n",
            "그래, 오글이 말했다, 그건 사실이야. 하지만 여전히 과정에 관해 열리고 솔직히 반항적인 사람들이 몇몇 있었다.\t오글은 현재의 과정을 싫어한 사람은 언급하지 않았다.\tcontradiction\n",
            "그래, 오글이 말했다, 그건 사실이야. 하지만 여전히 과정에 관해 열리고 솔직히 반항적인 사람들이 몇몇 있었다.\t어떤 사람들은 현재의 과정에 대한 생각을 좋아하지 않았고 명백히 반박했다.\tentailment\n",
            "그래, 오글이 말했다, 그건 사실이야. 하지만 여전히 과정에 관해 열리고 솔직히 반항적인 사람들이 몇몇 있었다.\t그 코스는 탐험 되지 않은 채 남겨진 영역으로 가득 차 있었기 때문에 매우 위험했다.\tneutral\n",
            "제가 선생님을 어떻게 생각하는지는 당신에게 매우 작은 문제가 아닙니다. 이건 무장해제 타격입니다.\t내가 널 어떻게 생각하든 상관없어.\tentailment\n",
            "제가 선생님을 어떻게 생각하는지는 당신에게 매우 작은 문제가 아닙니다. 이건 무장해제 타격입니다.\t내가 널 어떻게 생각하는지 넌 아마 신경 쓸지도 몰라.\tneutral\n",
            "제가 선생님을 어떻게 생각하는지는 당신에게 매우 작은 문제가 아닙니다. 이건 무장해제 타격입니다.\t내가 널 어떻게 생각하는지 넌 확실히 신경 써야 해.\tcontradiction\n",
            "울버스톤이 한 말에 나는 당황하지 않을 것이다.\t많은 사람이 말했던 것처럼 울버스톤은 말수가 적은 단순한 사람이었다.\tneutral\n",
            "울버스톤이 한 말에 나는 당황하지 않을 것이다.\t울버스톤의 말에 나는 매우 부글거렸다.\tcontradiction\n",
            "울버스톤이 한 말에 나는 당황하지 않을 것이다.\t울버스톤은 누군가를 부글거리지 않게 하는 말을 했다.\tentailment\n",
            "내내 평화로웠던 어젯밤에 허리에 있던 그의 모습은 60세 남자 몇 명이 미친 듯이 광적이고 분주하게 움직이고 있었다.\t그날 밤은 평화로운 것으로 여겨졌지만, 나중에는 많은 소란이 있었다.\tentailment\n",
            "내내 평화로웠던 어젯밤에 허리에 있던 그의 모습은 60세 남자 몇 명이 미친 듯이 광적이고 분주하게 움직이고 있었다.\t거리는 사람들로 가득 차 있었기 때문에 그 밤은 극도로 바빴다.\tcontradiction\n",
            "내내 평화로웠던 어젯밤에 허리에 있던 그의 모습은 60세 남자 몇 명이 미친 듯이 광적이고 분주하게 움직이고 있었다.\t오늘 저녁은 주최된 행사 때문에 평소보다 더 바빴다.\tneutral\n",
            "왜 자신을 변호하는 데 어려움을 겪어야 하는지 모르겠다고 그녀는 그를 만류했다.\t이것을 장려하면서 그녀는 왜 당신을 변호하기 위해 누군가 그들 자신을 어려움에 빠지게 할지에 대한 많은 이유를 발견했습니다.\tcontradiction\n",
            "왜 자신을 변호하는 데 어려움을 겪어야 하는지 모르겠다고 그녀는 그를 만류했다.\t그녀는 당신에게 적용 가능한 어떤 방어책도 좌절시켰다.\tentailment\n",
            "왜 자신을 변호하는 데 어려움을 겪어야 하는지 모르겠다고 그녀는 그를 만류했다.\t그녀가 내세운 방어력은 부족했다.\tneutral\n",
            "제레미, 저들이 배를 타게 해, 그가 조용히 말했다.\t그는 부드러운 어조로 말했다.\tentailment\n",
            "제레미, 저들이 배를 타게 해, 그가 조용히 말했다.\t제레미는 그들의 관심을 끌기 위해 큰 소리로 외쳤다.\tcontradiction\n",
            "제레미, 저들이 배를 타게 해, 그가 조용히 말했다.\t제레미는 평생 해적이었다.\tneutral\n",
            "안 갈 거야? 라고 그는 질문과 주장 사이에서 말했다.\t안 가? 그가 물었다.\tentailment\n",
            "안 갈 거야? 라고 그는 질문과 주장 사이에서 말했다.\t제발 가지 마세요! 그가 간청했다.\tcontradiction\n",
            "안 갈 거야? 라고 그는 질문과 주장 사이에서 말했다.\t왜 지금 당장 떠나지 않는 거야? 그가 툴툴거렸다.\tneutral\n",
            "그는 앞에 펼쳐진 페이지 내 한 문장에서 위로를 찾았다. 레비우스는 인내심이 강하고 quicquid corrigere est nefas에 걸맞았다. 찾았고, 하지만 겨우 찾았다.\t그는 페이지의 구절을 읽음으로써 안전성을 거의 얻지 못했다.\tcontradiction\n",
            "그는 앞에 펼쳐진 페이지 내 한 문장에서 위로를 찾았다. 레비우스는 인내심이 강하고 quicquid corrigere est nefas에 걸맞았다. 찾았고, 하지만 겨우 찾았다.\t페이지들에 기술된 언어는 그 지역의 원어민 언어다.\tneutral\n",
            "그는 앞에 펼쳐진 페이지 내 한 문장에서 위로를 찾았다. 레비우스는 인내심이 강하고 quicquid corrigere est nefas에 걸맞았다. 찾았고, 하지만 겨우 찾았다.\t그의 앞에 책 속에 약간의 외국어가 있었다.\tentailment\n",
            "나로서는 전적으로 울버스톤의 의견이다.\t나는 전에 울버스톤과 의견이 달랐다는 것을 인정한다.\tneutral\n",
            "나로서는 전적으로 울버스톤의 의견이다.\t나는 이 문제에 대해서 전적으로 울버스톤 편이다.\tentailment\n",
            "나로서는 전적으로 울버스톤의 의견이다.\t나는 울버스톤이라는 사람에 대해 들어본 적이 없다.\tcontradiction\n",
            "나를 위해 사람이 있도록 해라.\t이것은 누군가에 의해 통제되어야 한다.\tentailment\n",
            "나를 위해 사람이 있도록 해라.\t아무도 날 위해 그것을 하려고 하지 않는다.\tcontradiction\n",
            "나를 위해 사람이 있도록 해라.\t그 배의 대포들은 현재 사람이 없었다.\tneutral\n",
            "그는 블러드 대위를 보고는 잠시 멈춰 서서 경례했지만, 장교의 뻣뻣한 모스타치오를 들어 올린 미소는 음울하게 냉소적이었다.\t블러드 대위는 어디에도 없었다.\tcontradiction\n",
            "그는 블러드 대위를 보고는 잠시 멈춰 서서 경례했지만, 장교의 뻣뻣한 모스타치오를 들어 올린 미소는 음울하게 냉소적이었다.\t그는 블러드 대위를 볼 수 있었다.\tneutral\n",
            "그는 블러드 대위를 보고는 잠시 멈춰 서서 경례했지만, 장교의 뻣뻣한 모스타치오를 들어 올린 미소는 음울하게 냉소적이었다.\t경찰관은 콧수염을 가지고 있었다.\tentailment\n",
            "울버스톤이 비웃는 듯한 환희의 사정을 내뿜었다.\t울버스톤은 웃지 않았다.\tcontradiction\n",
            "울버스톤이 비웃는 듯한 환희의 사정을 내뿜었다.\t울버스톤이 웃었다.\tentailment\n",
            "울버스톤이 비웃는 듯한 환희의 사정을 내뿜었다.\t울버스톤은 그게 재미있다고 생각했다.\tneutral\n",
            "이 컬렉션을 둘러본 후 언덕을 올라가 주변 해안선과 조선소 단지의 나머지 부분을 자세히 볼 수 있는 위원의 집으로 갔습니다.\t당신은 언덕 꼭대기에서 보트들을 볼 수 있다.\tneutral\n",
            "이 컬렉션을 둘러본 후 언덕을 올라가 주변 해안선과 조선소 단지의 나머지 부분을 자세히 볼 수 있는 위원의 집으로 갔습니다.\t당신은 언덕 꼭대기에서 해안선의 전망을 볼 수 있다.\tentailment\n",
            "이 컬렉션을 둘러본 후 언덕을 올라가 주변 해안선과 조선소 단지의 나머지 부분을 자세히 볼 수 있는 위원의 집으로 갔습니다.\t당신은 언덕 꼭대기에서 해안을 볼 수 없다.\tcontradiction\n",
            "샌프란시스코 발레단은 봄 오페라 하우스에서 메인 시즌을 보내고 있지만 12월에도 공연을 합니다.\t가을과 여름에는 샌프란시스코 발레단이 쉬는 기간이다.\tneutral\n",
            "샌프란시스코 발레단은 봄 오페라 하우스에서 메인 시즌을 보내고 있지만 12월에도 공연을 합니다.\t뉴욕 발레단은 6월에 공연을 한다.\tcontradiction\n",
            "샌프란시스코 발레단은 봄 오페라 하우스에서 메인 시즌을 보내고 있지만 12월에도 공연을 합니다.\t샌프란시스코 발레단은 한 시즌 이상 공연을 한다.\tentailment\n",
            "남미 지역 뒤에서 당신은 향수 공장을 찾을 수 있습니다. 향수 공장은 개인 향기를 만들어 낼 수 있습니다.\t향수 공장은 1954년부터 생산을 했다.\tneutral\n",
            "남미 지역 뒤에서 당신은 향수 공장을 찾을 수 있습니다. 향수 공장은 개인 향기를 만들어 낼 수 있습니다.\t향수 공장은 남아프리카 지역 뒤에 있다.\tentailment\n",
            "남미 지역 뒤에서 당신은 향수 공장을 찾을 수 있습니다. 향수 공장은 개인 향기를 만들어 낼 수 있습니다.\t향수 공장은 남아프리카 지역 앞에 있다.\tcontradiction\n",
            "바하마 감귤류와 파인애플 위에 희망이 솟아오르고, 또한 삐걱거렸다.\t파인애플은 맛이 매우 좋았지만, 시장에 출시하기에는 운송 비용이 너무 많이 들었다.\tneutral\n",
            "바하마 감귤류와 파인애플 위에 희망이 솟아오르고, 또한 삐걱거렸다.\t바하마 감귤류는 모든 사람이 예상했던 것처럼 큰 성공을 거두었다.\tcontradiction\n",
            "바하마 감귤류와 파인애플 위에 희망이 솟아오르고, 또한 삐걱거렸다.\t바하마 감귤류는 모든 사람이 기대했던 것만큼 훌륭하지 않았다.\tentailment\n",
            "이 광경을 넘어 나다니엘 호손의 일곱 게이블의 집까지.\t세븐 게이블은 최고의 볼거리이다.\tneutral\n",
            "이 광경을 넘어 나다니엘 호손의 일곱 게이블의 집까지.\t볼거리가 더 있다.\tentailment\n",
            "이 광경을 넘어 나다니엘 호손의 일곱 게이블의 집까지.\t당신은 이 시야 밖으로 넘어서서는 안 된다.\tcontradiction\n",
            "지름이 약 3km(2마일)인 이 소리는 강력한 화산 폭발 후 형성된 거대한 칼데라로 생각된다.\t2 마일의 소리는 화산 폭발을 포함하여 많은 것들에 의해 야기 될 수 있었습니다.\tneutral\n",
            "지름이 약 3km(2마일)인 이 소리는 강력한 화산 폭발 후 형성된 거대한 칼데라로 생각된다.\t2마일의 소리는 절대로 화산 폭발로 인한 것이 아니다.\tcontradiction\n",
            "지름이 약 3km(2마일)인 이 소리는 강력한 화산 폭발 후 형성된 거대한 칼데라로 생각된다.\t2마일의 소리는 아마도 화산 폭발로 인한 것일 것이다.\tentailment\n",
            "그 장면은 덜 편안하고 언어 문제가 당신을 힘들게 할 수도 있지만, 적어도 당신은 중국 소비 사회를 엿볼 수 있을 것이다.\t당신이 통역사를 갖는 것은 좋은 생각이다.\tneutral\n",
            "그 장면은 덜 편안하고 언어 문제가 당신을 힘들게 할 수도 있지만, 적어도 당신은 중국 소비 사회를 엿볼 수 있을 것이다.\t당신을 위협할 수 있는 언어 문제가 있다.\tentailment\n",
            "그 장면은 덜 편안하고 언어 문제가 당신을 힘들게 할 수도 있지만, 적어도 당신은 중국 소비 사회를 엿볼 수 있을 것이다.\t모든 사람이 영어를 할 수 있기 때문에, 여러분은 그곳에서 언어 문제에 대해 걱정할 필요가 없습니다.\tcontradiction\n",
            "왕자의 정원의 다른 곳에서는 선원의 집(카사 드 마리노스)이라고 불리는 현대 건물에서 왕 함대의 기묘한 타거스 비행 중대가 어떻게 되었는지 알 수 있다.\t선원의 집은 왕자의 정원에서 발견된 고대 건물이다.\tcontradiction\n",
            "왕자의 정원의 다른 곳에서는 선원의 집(카사 드 마리노스)이라고 불리는 현대 건물에서 왕 함대의 기묘한 타거스 비행 중대가 어떻게 되었는지 알 수 있다.\t선원의 집은 유명한 이탈리아 건축가에 의해 디자인되었다.\tneutral\n",
            "왕자의 정원의 다른 곳에서는 선원의 집(카사 드 마리노스)이라고 불리는 현대 건물에서 왕 함대의 기묘한 타거스 비행 중대가 어떻게 되었는지 알 수 있다.\t왕자의 정원은 선원의 집이라고 불리는 건물의 본거지다.\tentailment\n",
            "1936년에서 1940년 사이에 그리스는 1940년에 항복하기 위해 무솔리니의 최후통첩에 대한 답변으로 그가 준 울부짖는 에치(아니오)로 기억되는 이오아니스 메탁사스의 군사 독재 정권하에 있었다.\t그리스는 군사 독재자의 지배를 받아본 적이 없다.\tcontradiction\n",
            "1936년에서 1940년 사이에 그리스는 1940년에 항복하기 위해 무솔리니의 최후통첩에 대한 답변으로 그가 준 울부짖는 에치(아니오)로 기억되는 이오아니스 메탁사스의 군사 독재 정권하에 있었다.\t그리스는 독재자를 가진 세계 국가 중 하나이다.\tentailment\n",
            "1936년에서 1940년 사이에 그리스는 1940년에 항복하기 위해 무솔리니의 최후통첩에 대한 답변으로 그가 준 울부짖는 에치(아니오)로 기억되는 이오아니스 메탁사스의 군사 독재 정권하에 있었다.\t그리스의 경제는 메타사스 군사독재하에서 그렇게 좋지 않았다.\tneutral\n",
            "산트 파우의 로마네스크 양식 선의 단순성은 바르셀로나의 모더니즘과 고딕 건축의 복잡성의 사치에서 온 동의할 만한 변화입니다.\t산트 파우는 로마네스크 양식의 선이 있지 않다.\tcontradiction\n",
            "산트 파우의 로마네스크 양식 선의 단순성은 바르셀로나의 모더니즘과 고딕 건축의 복잡성의 사치에서 온 동의할 만한 변화입니다.\t산트 파우는 로마네스크 양식의 선이 있다.\tentailment\n",
            "산트 파우의 로마네스크 양식 선의 단순성은 바르셀로나의 모더니즘과 고딕 건축의 복잡성의 사치에서 온 동의할 만한 변화입니다.\t산트 파우에는 교회가 있다.\tneutral\n",
            "꼬리를 한번 튕기는 사이에 혹은 순간에 없어졌어요.\t그것은 어떤 갑작스러운 움직임에도 쉽게 위협받는다.\tneutral\n",
            "꼬리를 한번 튕기는 사이에 혹은 순간에 없어졌어요.\t그것은 두려움이 없고, 어떤 것에도 움직이지 않을 것이다.\tcontradiction\n",
            "꼬리를 한번 튕기는 사이에 혹은 순간에 없어졌어요.\t아주 작은 움직임 그리고 그게 전부다, 그것은 사라졌다.\tentailment\n",
            "광범위한 보수 프로그램은 2001년 말까지 완료될 예정이다.\t이 보수 프로그램은 2001년이 시작되기 전에 완료될 것이다.\tcontradiction\n",
            "광범위한 보수 프로그램은 2001년 말까지 완료될 예정이다.\t2000년이 끝난 훨씬 후에도 보수 프로그램은 완료되지 않을 것이다.\tentailment\n",
            "광범위한 보수 프로그램은 2001년 말까지 완료될 예정이다.\t보수 프로그램이 완료되면 5년 동안 지속할 것이다.\tneutral\n",
            "직원들은 미국령 버진 아일랜드의 플라밍고 수를 늘리기 위한 프로그램을 개발하고 있으며, 매년 이곳에서 작은 무리가 성공적으로 번식하는 것을 발견할 수 있을 것이다.\t직원들은 홍학을 제거하기 위해 일한다.\tcontradiction\n",
            "직원들은 미국령 버진 아일랜드의 플라밍고 수를 늘리기 위한 프로그램을 개발하고 있으며, 매년 이곳에서 작은 무리가 성공적으로 번식하는 것을 발견할 수 있을 것이다.\t직원들은 섬에 있는 홍학의 수를 증가시켜 멸종 위기에서 회복할 수 있도록 일한다.\tneutral\n",
            "직원들은 미국령 버진 아일랜드의 플라밍고 수를 늘리기 위한 프로그램을 개발하고 있으며, 매년 이곳에서 작은 무리가 성공적으로 번식하는 것을 발견할 수 있을 것이다.\t직원들은 섬에 있는 홍학의 수를 증가시키기 위해 일한다.\tentailment\n",
            "싱겔은 한때 중세 도시의 외부 장벽이었지만, 도시가 확장되면서 헤렌그라흐트(신사의 운하), 키이저스그라흐트(황제의 운하), 프린센그라흐트(왕자의 운하)가 망을 확대했다.\t싱글은 관광지였다.\tneutral\n",
            "싱겔은 한때 중세 도시의 외부 장벽이었지만, 도시가 확장되면서 헤렌그라흐트(신사의 운하), 키이저스그라흐트(황제의 운하), 프린센그라흐트(왕자의 운하)가 망을 확대했다.\t싱겔은 도심이었다.\tcontradiction\n",
            "싱겔은 한때 중세 도시의 외부 장벽이었지만, 도시가 확장되면서 헤렌그라흐트(신사의 운하), 키이저스그라흐트(황제의 운하), 프린센그라흐트(왕자의 운하)가 망을 확대했다.\t싱글은 외부 장벽이었다.\tentailment\n",
            "세라 드 트라문타나의 울퉁불퉁한 산들은 이곳 바다로 너무 가파르게 쓸려 내려가서 접근 지점이 거의 없고 해안을 따라 어떤 크기의 항구와 항구도 단 한 개뿐이다.\t그 산들은 항구가 그곳에 쉽게 지어지지 않기 때문에 산사태가 끊임없이 일어나고 있다.\tneutral\n",
            "세라 드 트라문타나의 울퉁불퉁한 산들은 이곳 바다로 너무 가파르게 쓸려 내려가서 접근 지점이 거의 없고 해안을 따라 어떤 크기의 항구와 항구도 단 한 개뿐이다.\t산은 항구를 짓기 어렵게 만든다.\tentailment\n",
            "세라 드 트라문타나의 울퉁불퉁한 산들은 이곳 바다로 너무 가파르게 쓸려 내려가서 접근 지점이 거의 없고 해안을 따라 어떤 크기의 항구와 항구도 단 한 개뿐이다.\t산을 따라 27개의 항구가 있다\tcontradiction\n",
            "아파트, 호텔 및 흥정 지하 상점의 무너지는 페이드는 알렉스에서 남동쪽으로 이어지는 Karl-Marx-Allee를 연결합니다.\t칼-마르크스-알리는 좋았던 시절도 있었다.\tneutral\n",
            "아파트, 호텔 및 흥정 지하 상점의 무너지는 페이드는 알렉스에서 남동쪽으로 이어지는 Karl-Marx-Allee를 연결합니다.\t칼-마르스-알리는 무너지고 있다.\tentailment\n",
            "아파트, 호텔 및 흥정 지하 상점의 무너지는 페이드는 알렉스에서 남동쪽으로 이어지는 Karl-Marx-Allee를 연결합니다.\t칼-마르크스-알리는 예전 그대로의 몸매를 가지고 있다.\tcontradiction\n",
            "Culebra는 미국이 미국령 버진 아일랜드의 푸에르토 리코와 세인트 토마스 사이의 중간에 점령할 때까지 스페인령 버진 아일랜드로 알려져 있었습니다.\t쿨레브라는 미국령 버진 아일랜드의 푸에르토리코와 세인트 토마스 사이의 중간 지점에 있다.\tentailment\n",
            "Culebra는 미국이 미국령 버진 아일랜드의 푸에르토 리코와 세인트 토마스 사이의 중간에 점령할 때까지 스페인령 버진 아일랜드로 알려져 있었습니다.\t쿨레브라는 미국령 버진 아일랜드의 푸에르토리코와 세인트 토마스에 가깝지 않게 있습니다.\tcontradiction\n",
            "Culebra는 미국이 미국령 버진 아일랜드의 푸에르토 리코와 세인트 토마스 사이의 중간에 점령할 때까지 스페인령 버진 아일랜드로 알려져 있었습니다.\t쿨레브라는 미국령 버진 아일랜드의 푸에르토리코와 세인트 토마스 사이쯤에 있다.\tneutral\n",
            "우메다는 키타(단순히 북쪽을 의미한다)로 널리 알려진 비즈니스 및 엔터테인먼트 지구의 북쪽 끝을 대표하며, 현대 오사카의 혼잡의 진수이다.\t우메다는 환락가의 일부가 아니다.\tcontradiction\n",
            "우메다는 키타(단순히 북쪽을 의미한다)로 널리 알려진 비즈니스 및 엔터테인먼트 지구의 북쪽 끝을 대표하며, 현대 오사카의 혼잡의 진수이다.\t우메다는 환락가에서 가장 큰 지역이다.\tneutral\n",
            "우메다는 키타(단순히 북쪽을 의미한다)로 널리 알려진 비즈니스 및 엔터테인먼트 지구의 북쪽 끝을 대표하며, 현대 오사카의 혼잡의 진수이다.\t우메다는 환락가의 북쪽 끝이다.\tentailment\n",
            "Cete de Charlevoix는 Laurentian 고지의 일부이며, Saguenay 강에 도달하여 coureurs de bois가 모피 탐색을 멈춘 곳입니다.\t사게네이 강은 석탄 시장의 일부였다.\tcontradiction\n",
            "Cete de Charlevoix는 Laurentian 고지의 일부이며, Saguenay 강에 도달하여 coureurs de bois가 모피 탐색을 멈춘 곳입니다.\t사게네이 강은 스페인인과 프랑스인의 모피 무역의 일부였습니다.\tneutral\n",
            "Cete de Charlevoix는 Laurentian 고지의 일부이며, Saguenay 강에 도달하여 coureurs de bois가 모피 탐색을 멈춘 곳입니다.\t사게네이 강은 모피 무역의 일부였다.\tentailment\n",
            "힌두교 삼위일체의 세 번째 구성원은 브라마입니다. 그의 유일한 임무는 세상을 창조하는 것이었습니다.\t브라마는 기독교 사도이다.\tcontradiction\n",
            "힌두교 삼위일체의 세 번째 구성원은 브라마입니다. 그의 유일한 임무는 세상을 창조하는 것이었습니다.\t브라마는 힌두교 삼위일체 중 일부다.\tentailment\n",
            "힌두교 삼위일체의 세 번째 구성원은 브라마입니다. 그의 유일한 임무는 세상을 창조하는 것이었습니다.\t브라마는 삼위일체에서 가장 중요한 부분이다.\tneutral\n",
            "무장 투쟁은 수개월 동안 계속되었고 그 후 오랫동안 계속되는 쓰라림은 계속되었지만 페드로는 왕좌를 차지했습니다.\t그 전쟁에서 10,000명의 사람이 죽었다.\tneutral\n",
            "무장 투쟁은 수개월 동안 계속되었고 그 후 오랫동안 계속되는 쓰라림은 계속되었지만 페드로는 왕좌를 차지했습니다.\t전쟁은 몇 달이 걸렸다.\tentailment\n",
            "무장 투쟁은 수개월 동안 계속되었고 그 후 오랫동안 계속되는 쓰라림은 계속되었지만 페드로는 왕좌를 차지했습니다.\t전쟁은 하루 만에 끝났다.\tcontradiction\n",
            "스파르타의 레오니다스 휘하의 수백 명의 영웅적인 군대는 아테네인들이 살라미스 섬으로 대피할 수 있을 만큼 오랫동안 거대한 페르시아 군대의 테르모필레의 통과를 지연시켰다.\t스파르타인들은 테르모필레에서 페르시아인들을 물리쳤다.\tcontradiction\n",
            "스파르타의 레오니다스 휘하의 수백 명의 영웅적인 군대는 아테네인들이 살라미스 섬으로 대피할 수 있을 만큼 오랫동안 거대한 페르시아 군대의 테르모필레의 통과를 지연시켰다.\t스파르타인들은 페르시아 군대를 테르모필레에서 지연시켰다.\tentailment\n",
            "스파르타의 레오니다스 휘하의 수백 명의 영웅적인 군대는 아테네인들이 살라미스 섬으로 대피할 수 있을 만큼 오랫동안 거대한 페르시아 군대의 테르모필레의 통과를 지연시켰다.\t스파르타인들은 테르모필레에서 페르시아군의 많은 사람을 죽였다.\tneutral\n",
            "용글의 매장실 위의 거대한 안뜰과 파빌리온이 복원되었으며, 황실 갑옷을 포함한 명나라 무덤의 발굴된 보물 중 일부를 보관하고 있습니다.\t골동품 중 일부가 보여진다.\tentailment\n",
            "용글의 매장실 위의 거대한 안뜰과 파빌리온이 복원되었으며, 황실 갑옷을 포함한 명나라 무덤의 발굴된 보물 중 일부를 보관하고 있습니다.\t당신은 황실 갑옷의 일부를 만져도 돼요.\tneutral\n",
            "용글의 매장실 위의 거대한 안뜰과 파빌리온이 복원되었으며, 황실 갑옷을 포함한 명나라 무덤의 발굴된 보물 중 일부를 보관하고 있습니다.\t당신은 진열된 것에서 오래된 것을 볼 수 없다.\tcontradiction\n",
            "광장 중앙에는 요아힘 슈메타우의 화강암 웰트쿠겔브룬넨(또는 세계의 분수)이 있는데, 이곳은 지역 주민이 수생 만두를 즐겁게 담갔다.\t웰트쿠겔브루넨은 알루미늄으로 만들어졌다.\tcontradiction\n",
            "광장 중앙에는 요아힘 슈메타우의 화강암 웰트쿠겔브룬넨(또는 세계의 분수)이 있는데, 이곳은 지역 주민이 수생 만두를 즐겁게 담갔다.\t웰트쿠겔브루넨은 매우 까맣고 반짝이는 화강암으로 만들어져 있다.\tneutral\n",
            "광장 중앙에는 요아힘 슈메타우의 화강암 웰트쿠겔브룬넨(또는 세계의 분수)이 있는데, 이곳은 지역 주민이 수생 만두를 즐겁게 담갔다.\t웰트쿠겔브루넨은 화강암으로 만들어졌다.\tentailment\n",
            "맞은편, Cite de la Musique에는 Musee de la Musique와 거대한 콘서트 홀인 Zenith가 있습니다.\t제니스는 일 년에 1,000회의 콘서트를 개최한다.\tneutral\n",
            "맞은편, Cite de la Musique에는 Musee de la Musique와 거대한 콘서트 홀인 Zenith가 있습니다.\t제니스는 큰 콘서트홀이다.\tentailment\n",
            "맞은편, Cite de la Musique에는 Musee de la Musique와 거대한 콘서트 홀인 Zenith가 있습니다.\t제니스는 기차역이다.\tcontradiction\n",
            "루이자 메이 알콧과 나다니엘 호손은 핑크니 가에 거주했고, 올리버 웬델 홈즈가 말하길 소수에게만 발견된 역사가 윌리엄 프레스콧을 자랑하며 화창한 거리를 거느린 곳을 비콘 가라고 불렀다.\t호손은 메인 가에 살았다.\tcontradiction\n",
            "루이자 메이 알콧과 나다니엘 호손은 핑크니 가에 거주했고, 올리버 웬델 홈즈가 말하길 소수에게만 발견된 역사가 윌리엄 프레스콧을 자랑하며 화창한 거리를 거느린 곳을 비콘 가라고 불렀다.\t호손은 7년 동안 핀크니 가에 살았다.\tneutral\n",
            "루이자 메이 알콧과 나다니엘 호손은 핑크니 가에 거주했고, 올리버 웬델 홈즈가 말하길 소수에게만 발견된 역사가 윌리엄 프레스콧을 자랑하며 화창한 거리를 거느린 곳을 비콘 가라고 불렀다.\t호손은 핀크니 가에 살았다.\tentailment\n",
            "부트에서 조금 더 가면 라벤글라스와 에스크데일 철도, 또는 정답게 알려진 라알 래티의 종착역이 있다.\t부트는 작은 도시입니다.\tneutral\n",
            "부트에서 조금 더 가면 라벤글라스와 에스크데일 철도, 또는 정답게 알려진 라알 래티의 종착역이 있다.\t부트는 라알 래티 근처에 있다.\tentailment\n",
            "부트에서 조금 더 가면 라벤글라스와 에스크데일 철도, 또는 정답게 알려진 라알 래티의 종착역이 있다.\t부트는 모든 철도에서 매우 멀리 떨어져 있다.\tcontradiction\n",
            "주 수도인 캥거 남쪽의 쿠알라 페리스는 랭카위까지 1시간도 안 되는 페리 여행을 위한 출발점이다.\t쿠알라 페리스는 남쪽으로 17마일 떨어져 있었다.\tneutral\n",
            "주 수도인 캥거 남쪽의 쿠알라 페리스는 랭카위까지 1시간도 안 되는 페리 여행을 위한 출발점이다.\t쿠알라 페리스는 캉가르의 정북 쪽에 있었다.\tcontradiction\n",
            "주 수도인 캥거 남쪽의 쿠알라 페리스는 랭카위까지 1시간도 안 되는 페리 여행을 위한 출발점이다.\t쿠알라 페리스는 남쪽이었다.\tentailment\n",
            "그 입구는, 마을의 요새화에서 남겨진 14세기 타워 두 개로부터 지켜지고 있다.\t두 개의 탑은 석회암으로 지어졌다.\tneutral\n",
            "그 입구는, 마을의 요새화에서 남겨진 14세기 타워 두 개로부터 지켜지고 있다.\t14세기에 지어진 두 개의 탑이 있다.\tentailment\n",
            "그 입구는, 마을의 요새화에서 남겨진 14세기 타워 두 개로부터 지켜지고 있다.\t탑은 하나뿐이고 새것이다.\tcontradiction\n",
            "702/369-1540)라스베이거스에서 가장 오래된 커피 하우스이며, 일부에 따르면, 여전히 보헤미안의 모든 영광 중에서 최고입니다.\t한 베가스 커피 하우스는 1940년에 지어졌다.\tneutral\n",
            "702/369-1540)라스베이거스에서 가장 오래된 커피 하우스이며, 일부에 따르면, 여전히 보헤미안의 모든 영광 중에서 최고입니다.\t베가스에 커피 하우스가 하나 있는데 나머지보다 오래되었다.\tentailment\n",
            "702/369-1540)라스베이거스에서 가장 오래된 커피 하우스이며, 일부에 따르면, 여전히 보헤미안의 모든 영광 중에서 최고입니다.\t베가스에는 커피 하우스가 없다.\tcontradiction\n",
            "이러한 테러는 세속적 오류에 노예가 된 이들을 두렵게 할지도 모른다, 이 이미지들의 공포들이 그들을 기다리고 있다 알려주기 때문이다.\t그 사람들에게 나쁜 일이 일어날 것이다.\tentailment\n",
            "이러한 테러는 세속적 오류에 노예가 된 이들을 두렵게 할지도 모른다, 이 이미지들의 공포들이 그들을 기다리고 있다 알려주기 때문이다.\t그 사진들은 그들에게 어떤 멋진 일이 일어날지 보여준다.\tcontradiction\n",
            "이러한 테러는 세속적 오류에 노예가 된 이들을 두렵게 할지도 모른다, 이 이미지들의 공포들이 그들을 기다리고 있다 알려주기 때문이다.\t그 사람들은 즉시 살해될 것이다.\tneutral\n",
            "하와이에 도착한 최초의 서양인은 대서양과 태평양을 연결하는 신화적인 북서 항로를 발견하는 임무를 맡은 영국 사령관 제임스 쿡 대위였다.\t제임스 쿡은 캘리포니아 서쪽에 가지 않았다.\tcontradiction\n",
            "하와이에 도착한 최초의 서양인은 대서양과 태평양을 연결하는 신화적인 북서 항로를 발견하는 임무를 맡은 영국 사령관 제임스 쿡 대위였다.\t제임스 쿡은 하와이로 여행을 갔다.\tentailment\n",
            "하와이에 도착한 최초의 서양인은 대서양과 태평양을 연결하는 신화적인 북서 항로를 발견하는 임무를 맡은 영국 사령관 제임스 쿡 대위였다.\t제임스 쿡은 하와이 섬마다 다녔어요.\tneutral\n",
            "여기엔 작은 사원들이 몇 보일 수 있습니다.\t그 지역에는 사원이 없다.\tcontradiction\n",
            "여기엔 작은 사원들이 몇 보일 수 있습니다.\t몇몇 작은 사원들이 있어요.\tentailment\n",
            "여기엔 작은 사원들이 몇 보일 수 있습니다.\t딱 한 사람만 들어갈 수 있는 작은 사원들이 몇몇 있다.\tneutral\n",
            "그 길을 지나갈 때 나무 선 위로 오래된 굴뚝이 부서지는 것을 볼 수 있는데, 그것은 마을이 한때 목장의 일부였다는 확실한 증거입니다.\t굴뚝은 마을이 대농장의 일부였음을 나타내는 지표가 아닙니다.\tcontradiction\n",
            "그 길을 지나갈 때 나무 선 위로 오래된 굴뚝이 부서지는 것을 볼 수 있는데, 그것은 마을이 한때 목장의 일부였다는 확실한 증거입니다.\t굴뚝은 무엇보다도 마을이 대농장의 일부였음을 보여준다.\tneutral\n",
            "그 길을 지나갈 때 나무 선 위로 오래된 굴뚝이 부서지는 것을 볼 수 있는데, 그것은 마을이 한때 목장의 일부였다는 확실한 증거입니다.\t굴뚝들은 그 마을이 대농장의 일부였다는 것을 보여준다.\tentailment\n",
            "당시 영국 이야기들 사이에서 경악을 불러일으킨 1887 a5 동전을 반드시 보십시오.\tA5 동전은 믿을 수 없을 정도로 희귀하다.\tneutral\n",
            "당시 영국 이야기들 사이에서 경악을 불러일으킨 1887 a5 동전을 반드시 보십시오.\tA5 동전은 영국산이었다.\tentailment\n",
            "당시 영국 이야기들 사이에서 경악을 불러일으킨 1887 a5 동전을 반드시 보십시오.\tA5 동전은 중국에서 왔다.\tcontradiction\n",
            "무덤 안의 소리는 매우 정확하며, 다가오는 동료 방문객들의 소리를 과장한다.\t음향 시설은 노래하기에 좋다.\tneutral\n",
            "무덤 안의 소리는 매우 정확하며, 다가오는 동료 방문객들의 소리를 과장한다.\t그곳에서는 음향 시설이 엉망이다.\tcontradiction\n",
            "무덤 안의 소리는 매우 정확하며, 다가오는 동료 방문객들의 소리를 과장한다.\t음향 시설은 소리를 크게 만든다.\tentailment\n",
            "이 함께 연주되는 악기들은 여러 인기 있는 음악 장르의 기본 오케스트라를 형성한다.\t악기는 바이올린, 베이스, 색소폰이다.\tneutral\n",
            "이 함께 연주되는 악기들은 여러 인기 있는 음악 장르의 기본 오케스트라를 형성한다.\t오케스트라는 전에 언급된 악기들로 구성되어 있다.\tentailment\n",
            "이 함께 연주되는 악기들은 여러 인기 있는 음악 장르의 기본 오케스트라를 형성한다.\t오케스트라는 악기를 전혀 사용하지 않는다.\tcontradiction\n",
            "람세스 2세의 성전의 페이드는 이집트의 가장 영속적인 이미지 중 하나이며 사진에서 보았을지 모르지만 실제로는 진정으로 숨이 막힐 정도입니다.\t그 페이드는 투탕카멘 왕의 무덤에 있었다.\tcontradiction\n",
            "람세스 2세의 성전의 페이드는 이집트의 가장 영속적인 이미지 중 하나이며 사진에서 보았을지 모르지만 실제로는 진정으로 숨이 막힐 정도입니다.\t그 페이드는 람세스 2세의 사원에 있었고 순금으로 만들어졌습니다.\tneutral\n",
            "람세스 2세의 성전의 페이드는 이집트의 가장 영속적인 이미지 중 하나이며 사진에서 보았을지 모르지만 실제로는 진정으로 숨이 막힐 정도입니다.\t그 페이드는 람세스 2세의 사원에 있었다.\tentailment\n",
            "발포하지 않으면 발포하지 마라!\t당신이 필요하다고 생각하면 언제든지 발사하세요.\tcontradiction\n",
            "발포하지 않으면 발포하지 마라!\t근처에 있는 사람이 총을 가지고 네 머리에 총을 쏘는 경우에만 발사하세요.\tneutral\n",
            "발포하지 않으면 발포하지 마라!\t필요한 경우에만 발사하세요.\tentailment\n",
            "어업 대회는 낮에는 낚시를 하기 위해 내려와 밤이 오면 활기찬 사회 장면을 즐기는 부유하고 밝고 아름다운 사람들을 위한 시즌을 구성하고 있다.\t사람들은 낚시 후에 파티하는 것을 좋아한다.\tentailment\n",
            "어업 대회는 낮에는 낚시를 하기 위해 내려와 밤이 오면 활기찬 사회 장면을 즐기는 부유하고 밝고 아름다운 사람들을 위한 시즌을 구성하고 있다.\t사람들은 낚시를 갔다가 바로 잠을 잔다.\tcontradiction\n",
            "어업 대회는 낮에는 낚시를 하기 위해 내려와 밤이 오면 활기찬 사회 장면을 즐기는 부유하고 밝고 아름다운 사람들을 위한 시즌을 구성하고 있다.\t사람들은 낚시를 갔다가 술집에서 맥주를 많이 마시는 것을 좋아한다.\tneutral\n",
            "Koloktroni Square의 Syntagma 근처에는 고전 이후의 유물 모음집이 있는 국립 역사 박물관이 있습니다.\t국립역사박물관은 고전 시대 이후의 많은 인공 유물들을 가지고 있다.\tentailment\n",
            "Koloktroni Square의 Syntagma 근처에는 고전 이후의 유물 모음집이 있는 국립 역사 박물관이 있습니다.\t국립역사박물관에는 오래된 농기구가 있다.\tneutral\n",
            "Koloktroni Square의 Syntagma 근처에는 고전 이후의 유물 모음집이 있는 국립 역사 박물관이 있습니다.\t국립역사박물관은 최근의 것들만 가지고 있다.\tcontradiction\n",
            "전쟁이 발발하자 전 세계에서 온 이민자와 난민을 환영하는 캐나다의 명성은 히틀러의 독일에서 공산주의자와 유대인을 차단함으로써 퇴색되었습니다.\t캐나다는 난민을 환영한 적이 없다.\tcontradiction\n",
            "전쟁이 발발하자 전 세계에서 온 이민자와 난민을 환영하는 캐나다의 명성은 히틀러의 독일에서 공산주의자와 유대인을 차단함으로써 퇴색되었습니다.\t캐나다는 이민자들과 난민들을 환영하는 것으로 유명했다.\tentailment\n",
            "전쟁이 발발하자 전 세계에서 온 이민자와 난민을 환영하는 캐나다의 명성은 히틀러의 독일에서 공산주의자와 유대인을 차단함으로써 퇴색되었습니다.\t캐나다는 아프리카 국가들의 난민들을 가장 환영했다.\tneutral\n",
            "스타 페리 터미널 근처의 스타 하우스에 있는 스타 컴퓨터 시티도 확인하십시오.\t컴퓨터 시티는 스타 하우스에 있지 않다.\tcontradiction\n",
            "스타 페리 터미널 근처의 스타 하우스에 있는 스타 컴퓨터 시티도 확인하십시오.\t컴퓨터 시티는 스타 하우스에 있다.\tentailment\n",
            "스타 페리 터미널 근처의 스타 하우스에 있는 스타 컴퓨터 시티도 확인하십시오.\t컴퓨터 시티는 스타 하우스에서 가장 인상적이다.\tneutral\n",
            "그것을 평평하게 하면, 동쪽의 현대 팔각형 교회와 서쪽의 예배당과 육각형 탑은 전후 도시의 부활을 나타냅니다.\t교회, 예배당, 육각형 탑은 그 도시의 전후 부활을 나타낸다.\tentailment\n",
            "그것을 평평하게 하면, 동쪽의 현대 팔각형 교회와 서쪽의 예배당과 육각형 탑은 전후 도시의 부활을 나타냅니다.\t그 시장은 그 도시의 전후 부활을 나타낸다.\tcontradiction\n",
            "그것을 평평하게 하면, 동쪽의 현대 팔각형 교회와 서쪽의 예배당과 육각형 탑은 전후 도시의 부활을 나타냅니다.\t이 구조물들은 세계에서 가장 위대한 건축가에 의해 지어졌다.\tneutral\n",
            "개신교인으로서 피에르 뒤 칼벳은 영국의 평화 정의에 의해 임명되었지만 미국 침략자들에게 물자와 정보를 판매한 혐의로 감옥에 갇혔다.\t피에르는 임명되었지만, 미국인들에게 판매한 이유로 자신을 체포해야 했다.\tentailment\n",
            "개신교인으로서 피에르 뒤 칼벳은 영국의 평화 정의에 의해 임명되었지만 미국 침략자들에게 물자와 정보를 판매한 혐의로 감옥에 갇혔다.\t피에르는 다른 무엇보다도 미국인들에게 판매한 이유로 체포되었다.\tneutral\n",
            "개신교인으로서 피에르 뒤 칼벳은 영국의 평화 정의에 의해 임명되었지만 미국 침략자들에게 물자와 정보를 판매한 혐의로 감옥에 갇혔다.\t피에르는 체포된 적이 없다.\tcontradiction\n",
            "인근 거리인 말로르카, 발렌시아, 프로베나도 흥미로운 상점들로 넘쳐난다.\t그 가게들은 모두 이 도시에서 가장 좋은 음식을 제공한다.\tneutral\n",
            "인근 거리인 말로르카, 발렌시아, 프로베나도 흥미로운 상점들로 넘쳐난다.\t가까운 거리의 상점들은 흥미롭다.\tentailment\n",
            "인근 거리인 말로르카, 발렌시아, 프로베나도 흥미로운 상점들로 넘쳐난다.\t근처에 있는 가게들은 주변의 어떤 가게들보다 재미가 없다.\tcontradiction\n",
            "말레센의 뒤쪽에 있는 몇 블록 안에 더 도시적인 강렬함을 가진 독특한 클럽이 점점 늘어나고 있다.\t수집품은 늘어나고 있지만, 작년만큼 빠르지는 않다.\tneutral\n",
            "말레센의 뒤쪽에 있는 몇 블록 안에 더 도시적인 강렬함을 가진 독특한 클럽이 점점 늘어나고 있다.\t클럽의 수집품은 재미가 없고 다른 모든 클럽과 똑같이 보인다.\tcontradiction\n",
            "말레센의 뒤쪽에 있는 몇 블록 안에 더 도시적인 강렬함을 가진 독특한 클럽이 점점 늘어나고 있다.\t늘어나는 클럽 수집품은 독특하며 더 도시적인 가장자리를 가지고 있다.\tentailment\n",
            "맥킴 미드가 디자인한 저택을 보러 우회하다.\t맥킴 미드가 저택을 설계했어.\tentailment\n",
            "맥킴 미드가 디자인한 저택을 보러 우회하다.\t그 저택은 건설하는데 200만 달러가 들었다.\tneutral\n",
            "맥킴 미드가 디자인한 저택을 보러 우회하다.\t그 저택은 아담 샌들러에 의해 지어졌다.\tcontradiction\n",
            "이집트 박물관 맞은편에 있는 전 보병 막사에서 브레한 박물관(아트 데코와 아르누보에게 헌정됨)을 발견할 수 있을 것이다.\t그 박물관은 이집트 박물관 건너편에 있다.\tneutral\n",
            "이집트 박물관 맞은편에 있는 전 보병 막사에서 브레한 박물관(아트 데코와 아르누보에게 헌정됨)을 발견할 수 있을 것이다.\t그 박물관은 이집트 박물관 근처에 있다.\tentailment\n",
            "이집트 박물관 맞은편에 있는 전 보병 막사에서 브레한 박물관(아트 데코와 아르누보에게 헌정됨)을 발견할 수 있을 것이다.\t그 박물관은 이집트에 관한 박물관과 매우 거리가 멀다.\tcontradiction\n",
            "주말에는 파르케 드 팔라파스의 지역 주민과 합류할 수 있는데, 그곳에서 록, 살사, 민속 음악의 변종들이 함께 섞여 당황스러운 불협화음으로 섞일 수 있다.\t파르케 드 팔라파스는 사람들이 항상 바비큐를 먹는 곳이다.\tneutral\n",
            "주말에는 파르케 드 팔라파스의 지역 주민과 합류할 수 있는데, 그곳에서 록, 살사, 민속 음악의 변종들이 함께 섞여 당황스러운 불협화음으로 섞일 수 있다.\t주민들이 파르케 드 팔라파스에서 주말 동안 합류할 수 있다.\tentailment\n",
            "주말에는 파르케 드 팔라파스의 지역 주민과 합류할 수 있는데, 그곳에서 록, 살사, 민속 음악의 변종들이 함께 섞여 당황스러운 불협화음으로 섞일 수 있다.\t당신은 파르크 드 팔라파스에는 절대 갈 수 없어요. 그것은 금지되어 있습니다.\tcontradiction\n",
            "전 세계의 상상력을 사로잡은 발견은 새크라멘토와 타호 호수 중간에 있는 콜로마의 아메리칸 강에 있는 존 서터의 제재소의 목수 제임스 윌슨 마샬이 한 것이다.\t제임스 윌슨 마샬은 특별한 일을 하지 않았다.\tcontradiction\n",
            "전 세계의 상상력을 사로잡은 발견은 새크라멘토와 타호 호수 중간에 있는 콜로마의 아메리칸 강에 있는 존 서터의 제재소의 목수 제임스 윌슨 마샬이 한 것이다.\t제임스 윌슨 마샬은 뭔가 특별한 일을 했다.\tentailment\n",
            "전 세계의 상상력을 사로잡은 발견은 새크라멘토와 타호 호수 중간에 있는 콜로마의 아메리칸 강에 있는 존 서터의 제재소의 목수 제임스 윌슨 마샬이 한 것이다.\t제임스 윌슨 마샬이 뭔가를 발명했다.\tneutral\n",
            "이후, 국가 단결은 항상 민족, 종교 및 무엇보다도 경제적 지역 이익에 두 번째 역할을 했습니다.\t국가 통합은 전혀 문제가 되지 않는다.\tcontradiction\n",
            "이후, 국가 단결은 항상 민족, 종교 및 무엇보다도 경제적 지역 이익에 두 번째 역할을 했습니다.\t국가 통합이 결합된 다른 모든 것보다 더 중요하다.\tneutral\n",
            "이후, 국가 단결은 항상 민족, 종교 및 무엇보다도 경제적 지역 이익에 두 번째 역할을 했습니다.\t국가 통합은 결코 최우선 사항이 아니다.\tentailment\n",
            "몬트세라트의 들쭉날쭉한 산등성이는 카탈로니아의 바로 중심부인 바르셀로나에서 북서쪽으로 62km(38마일) 떨어진 다소 특징 없는 로이드 레가트 평야에서 솟아 있다.\t몬테세란트는 강이다.\tcontradiction\n",
            "몬트세라트의 들쭉날쭉한 산등성이는 카탈로니아의 바로 중심부인 바르셀로나에서 북서쪽으로 62km(38마일) 떨어진 다소 특징 없는 로이드 레가트 평야에서 솟아 있다.\t몬테세라트는 산이다.\tentailment\n",
            "몬트세라트의 들쭉날쭉한 산등성이는 카탈로니아의 바로 중심부인 바르셀로나에서 북서쪽으로 62km(38마일) 떨어진 다소 특징 없는 로이드 레가트 평야에서 솟아 있다.\t몬테세라트 산들은 이 지역에서 가장 높다.\tneutral\n",
            "그날 밤 가장 큰 군중을 유혹하기 위해 낮에는 해변에서 특별 쿠폰이 공격적으로 전달됩니다.\t쿠폰은 다음날 고객을 기대하면서 밤에 해변에서 배포된다.\tcontradiction\n",
            "그날 밤 가장 큰 군중을 유혹하기 위해 낮에는 해변에서 특별 쿠폰이 공격적으로 전달됩니다.\t쿠폰은 장기 고객을 기대하며 해변에서 배포된다.\tneutral\n",
            "그날 밤 가장 큰 군중을 유혹하기 위해 낮에는 해변에서 특별 쿠폰이 공격적으로 전달됩니다.\t밤에 손님을 끌어들이기를 기대하며 해변에서 쿠폰이 배포된다.\tentailment\n",
            "동쪽으로 파세이그 드 그라시아, 특히 메르카트 드 라 콘셉시 시장까지의 카러 디푸타시, 콘셀 드 센트, 말로르카, 발란시아를 살펴봐라.\t그 시장은 메르카트 드 라 칸탈루프라고 불립니다.\tcontradiction\n",
            "동쪽으로 파세이그 드 그라시아, 특히 메르카트 드 라 콘셉시 시장까지의 카러 디푸타시, 콘셀 드 센트, 말로르카, 발란시아를 살펴봐라.\t그 시장은 과일과 채소를 많이 판다.\tneutral\n",
            "동쪽으로 파세이그 드 그라시아, 특히 메르카트 드 라 콘셉시 시장까지의 카러 디푸타시, 콘셀 드 센트, 말로르카, 발란시아를 살펴봐라.\t메르카트 드 라 콩셉시라는 시장이 있습니다.\tentailment\n",
            "섬과 본토 사이에는 수많은 야생 생물의 피난처인 맹그로브 늪으로 둘러싸인 거대한 바닷물 석호인 Laguna Nichupte가 있습니다.\t라군 니추프테는 사막입니다.\tcontradiction\n",
            "섬과 본토 사이에는 수많은 야생 생물의 피난처인 맹그로브 늪으로 둘러싸인 거대한 바닷물 석호인 Laguna Nichupte가 있습니다.\t라구나 니추프테는 10에이커의 물이다.\tneutral\n",
            "섬과 본토 사이에는 수많은 야생 생물의 피난처인 맹그로브 늪으로 둘러싸인 거대한 바닷물 석호인 Laguna Nichupte가 있습니다.\t라구나 니추프테는 수역이다.\tentailment\n",
            "낮은 언덕에 모여 있는 하얀 집들의 덩어리인 알레오르 마을은 아랍인이나 안달루시아인 마을처럼 먼 곳을 바라본다.\t앨라이어는 100채의 하얀 집을 가지고 있다.\tneutral\n",
            "낮은 언덕에 모여 있는 하얀 집들의 덩어리인 알레오르 마을은 아랍인이나 안달루시아인 마을처럼 먼 곳을 바라본다.\t앨라이어는 많은 하얀 집을 가지고 있다.\tentailment\n",
            "낮은 언덕에 모여 있는 하얀 집들의 덩어리인 알레오르 마을은 아랍인이나 안달루시아인 마을처럼 먼 곳을 바라본다.\t앨라이어에는 전부 작은 검은 집들이 있다.\tcontradiction\n",
            "방문객들에게 가장 큰 관심의 영역은 만이 내려다보이는 작은 언덕에 자리 잡고 있는 대성당을 둘러싸고 있는 작은 오래된 구역입니다.\t방문객들은 모두 대성당에서 멀리 떨어져 있다.\tcontradiction\n",
            "방문객들에게 가장 큰 관심의 영역은 만이 내려다보이는 작은 언덕에 자리 잡고 있는 대성당을 둘러싸고 있는 작은 오래된 구역입니다.\t방문객들은 대성당 주변 지역을 좋아한다.\tentailment\n",
            "방문객들에게 가장 큰 관심의 영역은 만이 내려다보이는 작은 언덕에 자리 잡고 있는 대성당을 둘러싸고 있는 작은 오래된 구역입니다.\t방문객들은 주교좌 주변의 꽃을 좋아한다.\tneutral\n",
            "고르게스 다프레아몽(Gorges d'Apreamont, 19세기 풍경 화가들의 출몰지로 유명한 바비 존의 작은 마을 근처)은 덜 붐비는 경향이 있다.\t바비존 주변의 마을들이 가장 인구가 많다.\tcontradiction\n",
            "고르게스 다프레아몽(Gorges d'Apreamont, 19세기 풍경 화가들의 출몰지로 유명한 바비 존의 작은 마을 근처)은 덜 붐비는 경향이 있다.\t고지스 다프레아몽에는 10명밖에 없다.\tneutral\n",
            "고르게스 다프레아몽(Gorges d'Apreamont, 19세기 풍경 화가들의 출몰지로 유명한 바비 존의 작은 마을 근처)은 덜 붐비는 경향이 있다.\t바비존 근처의 마을에는 사람들이 많지 않다.\tentailment\n",
            "순례자들은 이 뱀을 위해 꿀 케이크를 사서 뱀이 그것을 즐기게 하기 위해 사원 입구에 남겨 두었습니다.\t그 뱀은 결국 당뇨 합병증으로 죽었다.\tneutral\n",
            "순례자들은 이 뱀을 위해 꿀 케이크를 사서 뱀이 그것을 즐기게 하기 위해 사원 입구에 남겨 두었습니다.\t뱀은 사원 입구 근처에 살면서 벌꿀 케이크를 먹었다.\tentailment\n",
            "순례자들은 이 뱀을 위해 꿀 케이크를 사서 뱀이 그것을 즐기게 하기 위해 사원 입구에 남겨 두었습니다.\t그 뱀은 사원에 접근하려고 하는 순례자들만 먹곤 했다.\tcontradiction\n",
            "유럽의 남서 극단의 가장 초기 석기시대 주민에 관해서는 거의 알려져 있지 않다.\t석기시대에 유럽에서 10,000명의 사람이 살았다.\tneutral\n",
            "유럽의 남서 극단의 가장 초기 석기시대 주민에 관해서는 거의 알려져 있지 않다.\t사람들은 석기시대 이후 1000년 뒤까지 유럽으로 이주하지 않았다.\tcontradiction\n",
            "유럽의 남서 극단의 가장 초기 석기시대 주민에 관해서는 거의 알려져 있지 않다.\t사람들은 석기시대에 유럽에 살았다.\tentailment\n",
            "현지 열 살짜리 전문가들로부터 드러나는데 반대하지 않는 한은요.\t열 살짜리들은 바보야.\tcontradiction\n",
            "현지 열 살짜리 전문가들로부터 드러나는데 반대하지 않는 한은요.\t열 살짜리들은 과학에 대해 모든 것을 알고 있다.\tneutral\n",
            "현지 열 살짜리 전문가들로부터 드러나는데 반대하지 않는 한은요.\t열 살짜리들은 그들이 무슨 말을 하는지 알고 있다.\tentailment\n",
            "오늘날 이 장소는 천국의 사원(톈탄 곤규안)이라고 불린다.\t천국의 사원 공원은 새로운 곳이다.\tentailment\n",
            "오늘날 이 장소는 천국의 사원(톈탄 곤규안)이라고 불린다.\t천국의 사원 공원은 2010년에 그것에 이름이 붙여졌다.\tneutral\n",
            "오늘날 이 장소는 천국의 사원(톈탄 곤규안)이라고 불린다.\t천국의 사원 공원이 소실되었다.\tcontradiction\n",
            "영화광들의 경우, 가장 흥미로운 전시는 오래된 니켈로데온, 오토스코프, 최초의 동영상을 투사한 무비올라 기계들의 모음이 될 것이다.\t오래된 니켈로데온은 영화광들에게 지루하다.\tcontradiction\n",
            "영화광들의 경우, 가장 흥미로운 전시는 오래된 니켈로데온, 오토스코프, 최초의 동영상을 투사한 무비올라 기계들의 모음이 될 것이다.\t오래된 니켈로데온은 영화광들에게 흥미롭다.\tentailment\n",
            "영화광들의 경우, 가장 흥미로운 전시는 오래된 니켈로데온, 오토스코프, 최초의 동영상을 투사한 무비올라 기계들의 모음이 될 것이다.\t오래된 니켈로데온은 영화광이 소유해야 한다.\tneutral\n",
            "동쪽으로 계속 가면 베를린에서 가장 중요한 오페라 회사 중 하나인 코미쉬 오퍼의 매력 없는 현대적인 페이드를 지나갑니다.\t코미슈 오퍼는 호주에 있다.\tcontradiction\n",
            "동쪽으로 계속 가면 베를린에서 가장 중요한 오페라 회사 중 하나인 코미쉬 오퍼의 매력 없는 현대적인 페이드를 지나갑니다.\t코미슈 오퍼는 독일에 있다.\tentailment\n",
            "동쪽으로 계속 가면 베를린에서 가장 중요한 오페라 회사 중 하나인 코미쉬 오퍼의 매력 없는 현대적인 페이드를 지나갑니다.\t코미슈 오퍼는 독일에서 가장 유명합니다.\tneutral\n",
            "훌륭한 가정집이 있는 쾌적한 주거용 구역인 미라마르는 이슬라 그란데 통근 공항과 함께 그 위치에서 혜택을 받는다.\t미라마르는 집들이 예쁘다.\tentailment\n",
            "훌륭한 가정집이 있는 쾌적한 주거용 구역인 미라마르는 이슬라 그란데 통근 공항과 함께 그 위치에서 혜택을 받는다.\t미라마르는 쓰레기야.\tcontradiction\n",
            "훌륭한 가정집이 있는 쾌적한 주거용 구역인 미라마르는 이슬라 그란데 통근 공항과 함께 그 위치에서 혜택을 받는다.\t미라마르는 부유한 사람들이 사는 곳이다.\tneutral\n",
            "하버드 스퀘어의 저녁 대안을 찾고 있다면, 케임브리지 가에 위치한 히스패닉 맛의 인만 광장으로 가십시오.\t하버드 광장은 밤에 위험하다.\tneutral\n",
            "하버드 스퀘어의 저녁 대안을 찾고 있다면, 케임브리지 가에 위치한 히스패닉 맛의 인만 광장으로 가십시오.\t하버드 광장은 밤에 최고다.\tcontradiction\n",
            "하버드 스퀘어의 저녁 대안을 찾고 있다면, 케임브리지 가에 위치한 히스패닉 맛의 인만 광장으로 가십시오.\t하버드 광장은 밤에는 좋지 않다.\tentailment\n",
            "대공황은 캘리포니아를 강타했다.\t캘리포니아는 나쁜 경제로 인해 정말로 손해를 입었다.\tentailment\n",
            "대공황은 캘리포니아를 강타했다.\t캘리포니아의 경제는 항상 번창해 왔다.\tcontradiction\n",
            "대공황은 캘리포니아를 강타했다.\t캘리포니아에서는 아무도 직업이 없었다.\tneutral\n",
            "유럽에서 널리 퍼져 있는 자유주의 정신은 스페인에 도착하는 데 늦었다.\t자유주의는 1920년에 스페인에 왔다.\tneutral\n",
            "유럽에서 널리 퍼져 있는 자유주의 정신은 스페인에 도착하는 데 늦었다.\t자유주의는 그 뒤까지 스페인에 오지 않았다.\tentailment\n",
            "유럽에서 널리 퍼져 있는 자유주의 정신은 스페인에 도착하는 데 늦었다.\t스페인은 자유주의적이지 않았다.\tcontradiction\n",
            "냉소주의는 정교한 현대성의 편안함과 뒷문의 황야의 단순한 기쁨의 영리한 조합에 의해 만들어진 마을의 온화한 분위기에 대한 당신의 첫 맛과 함께 녹아든다.\t그 도시는 화나 있고 끔찍한 곳이다.\tcontradiction\n",
            "냉소주의는 정교한 현대성의 편안함과 뒷문의 황야의 단순한 기쁨의 영리한 조합에 의해 만들어진 마을의 온화한 분위기에 대한 당신의 첫 맛과 함께 녹아든다.\t그 마을은 친절하다.\tentailment\n",
            "냉소주의는 정교한 현대성의 편안함과 뒷문의 황야의 단순한 기쁨의 영리한 조합에 의해 만들어진 마을의 온화한 분위기에 대한 당신의 첫 맛과 함께 녹아든다.\t그 마을은 너무 쾌적해서 나는 떠나고 싶지 않다.\tneutral\n",
            "여전히 광장 한가운데에는 그늘과 꽃 정원이 있습니다. 현지인과 방문객이 점심이나 저녁 데이트를 위한 공간이기도 합니다.\t사람들은 정원에서 식사하는 것을 좋아한다.\tentailment\n",
            "여전히 광장 한가운데에는 그늘과 꽃 정원이 있습니다. 현지인과 방문객이 점심이나 저녁 데이트를 위한 공간이기도 합니다.\t사람들이 정원에서 먹으려고 줄을 선다.\tneutral\n",
            "여전히 광장 한가운데에는 그늘과 꽃 정원이 있습니다. 현지인과 방문객이 점심이나 저녁 데이트를 위한 공간이기도 합니다.\t정원에서 냄새가 나기 때문에 아무도 그 안에서 먹고 싶어하지 않는다.\tcontradiction\n",
            "밤에는 즐길 수 있는 좋은 레스토랑, 클럽 및 극장이 많이 있으며 낮에는 유원지, 골동품 회전목마 및 인근 쇼핑 아케이드가 완비된 영광스러운 해변이 있습니다.\t4성급 레스토랑이 많다.\tneutral\n",
            "밤에는 즐길 수 있는 좋은 레스토랑, 클럽 및 극장이 많이 있으며 낮에는 유원지, 골동품 회전목마 및 인근 쇼핑 아케이드가 완비된 영광스러운 해변이 있습니다.\t낮과 밤 모두 갈 곳이 많다.\tentailment\n",
            "밤에는 즐길 수 있는 좋은 레스토랑, 클럽 및 극장이 많이 있으며 낮에는 유원지, 골동품 회전목마 및 인근 쇼핑 아케이드가 완비된 영광스러운 해변이 있습니다.\t그곳에는 밤에 할 일이 없다.\tcontradiction\n",
            "유람선 항구 옆에는 해발 700피트(214m)의 플래그 힐이 있다.\t플래그 힐은 마을의 다른 지역에 비해 매우 높은 곳에 있다.\tneutral\n",
            "유람선 항구 옆에는 해발 700피트(214m)의 플래그 힐이 있다.\t플래그 힐은 해수면 위에 있다.\tentailment\n",
            "유람선 항구 옆에는 해발 700피트(214m)의 플래그 힐이 있다.\t플래그 힐은 해수면 아래에 있다.\tcontradiction\n",
            "1864년에 그곳의 수도인 샬롯타운이 연합된 지배권으로서 캐나다의 연방 지위를 만들어 가는 길을 기록하기 위해 해양지도자들과 온타리오와 퀘벡의 대표들과 함께 회의를 개최했을 때, 역사적인 순간이 왔다.\t샬롯타운은 해양산업을 변화시키고 있는 지도자들을 초대했다.\tneutral\n",
            "1864년에 그곳의 수도인 샬롯타운이 연합된 지배권으로서 캐나다의 연방 지위를 만들어 가는 길을 기록하기 위해 해양지도자들과 온타리오와 퀘벡의 대표들과 함께 회의를 개최했을 때, 역사적인 순간이 왔다.\t샬롯타운은 지도자들을 초대했다.\tentailment\n",
            "1864년에 그곳의 수도인 샬롯타운이 연합된 지배권으로서 캐나다의 연방 지위를 만들어 가는 길을 기록하기 위해 해양지도자들과 온타리오와 퀘벡의 대표들과 함께 회의를 개최했을 때, 역사적인 순간이 왔다.\t샬롯타운은 2019년에 가장 유명했다.\tcontradiction\n",
            "1643년 플랑드르의 로크로이에서 또 다른 중요한 패배가 일어났는데, 이때 스페인 군은 결코 옛 영광을 되찾지 못하고 프랑스군에 의해 패했다.\t로크로이는 스페인 사람들이 이긴 곳이다.\tcontradiction\n",
            "1643년 플랑드르의 로크로이에서 또 다른 중요한 패배가 일어났는데, 이때 스페인 군은 결코 옛 영광을 되찾지 못하고 프랑스군에 의해 패했다.\t로크로이는 1,000명의 스페인 군대가 살해되는 것을 보았다.\tneutral\n",
            "1643년 플랑드르의 로크로이에서 또 다른 중요한 패배가 일어났는데, 이때 스페인 군은 결코 옛 영광을 되찾지 못하고 프랑스군에 의해 패했다.\t로크로이는 스페인인들이 패배한 곳이었다.\tentailment\n",
            "교회 옆에는 벤치가 있는 발굴된 광장과 현장에서 발견된 작은 태블릿과 구호품이 있는 Contra-Aquincum의 잔해가 있습니다.\t그 광장에는 앉을 곳이 없었다.\tcontradiction\n",
            "교회 옆에는 벤치가 있는 발굴된 광장과 현장에서 발견된 작은 태블릿과 구호품이 있는 Contra-Aquincum의 잔해가 있습니다.\t교회 근처에 광장이 있어요.\tentailment\n",
            "교회 옆에는 벤치가 있는 발굴된 광장과 현장에서 발견된 작은 태블릿과 구호품이 있는 Contra-Aquincum의 잔해가 있습니다.\t10개의 벤치가 있는 광장이 있다.\tneutral\n",
            "또한 더 야하거나 전위적인 공연을 위한 장소도 많다.\t모든 장소에는 어린이 친화적인 행사가 있다.\tcontradiction\n",
            "또한 더 야하거나 전위적인 공연을 위한 장소도 많다.\t스트립쇼가 있는 곳이 있다.\tneutral\n",
            "또한 더 야하거나 전위적인 공연을 위한 장소도 많다.\t성인 공연이 있는 장소가 있다.\tentailment\n",
            "여행사나 베를린 관광사무소에 다가오는 프로그램에 대한 세부사항을 물어보고 가능한 곳은 미리 예약하십시오.\t방문을 6개월 앞두고 예약하는 것이 가장 좋습니다.\tneutral\n",
            "여행사나 베를린 관광사무소에 다가오는 프로그램에 대한 세부사항을 물어보고 가능한 곳은 미리 예약하십시오.\t일찍 예약하는 것이 가장 좋습니다.\tentailment\n",
            "여행사나 베를린 관광사무소에 다가오는 프로그램에 대한 세부사항을 물어보고 가능한 곳은 미리 예약하십시오.\t당신은 그곳에 있을 때 예약할 수 있습니다.\tcontradiction\n",
            "마을로 돌아오면, 해안가 산책은 당신을 잘란 반다르의 차이나타운을 통과하게 합니다.\t차이나타운은 샌디에이고의 물 위에 있다.\tneutral\n",
            "마을로 돌아오면, 해안가 산책은 당신을 잘란 반다르의 차이나타운을 통과하게 합니다.\t차이나타운이 물 위에 있다.\tentailment\n",
            "마을로 돌아오면, 해안가 산책은 당신을 잘란 반다르의 차이나타운을 통과하게 합니다.\t차이나타운은 물에서 매우 멀리 떨어져 있다.\tcontradiction\n",
            "나중에 그것은 법의 재판을 열었고, 정의는 여기서 분배되었다.\t그것은 단지 교회를 위한 것이었다.\tcontradiction\n",
            "나중에 그것은 법의 재판을 열었고, 정의는 여기서 분배되었다.\t이혼과 가족 문제를 위해 그곳에 재판이 열렸다.\tneutral\n",
            "나중에 그것은 법의 재판을 열었고, 정의는 여기서 분배되었다.\t그곳에 재판이 열렸다.\tentailment\n",
            "너는 스타 페리 터미널 동쪽에 있는 시청으로 오게 될 거야.\t시청은 터미널에서 동쪽으로 2블록 떨어져 있다.\tneutral\n",
            "너는 스타 페리 터미널 동쪽에 있는 시청으로 오게 될 거야.\t시청은 페리 터미널 근처에 있다.\tentailment\n",
            "너는 스타 페리 터미널 동쪽에 있는 시청으로 오게 될 거야.\t시청은 터미널에서 매우 멀리 떨어져 있다.\tcontradiction\n",
            "의심할 여지 없이, 그 도시의 초기 방문 매력 요소는 수많은 역사적인 건물들이다.\t그 도시에는 흥미로운 대학과 항구도 있다.\tneutral\n",
            "의심할 여지 없이, 그 도시의 초기 방문 매력 요소는 수많은 역사적인 건물들이다.\t그 도시는 몇 년 전에 건설되었고 많은 역사가 있지 않다.\tcontradiction\n",
            "의심할 여지 없이, 그 도시의 초기 방문 매력 요소는 수많은 역사적인 건물들이다.\t흥미로운 역사적인 건물들이 많이 있습니다.\tentailment\n",
            "주요 쇼핑과 산책로는 바르셀로나 버전의 샹 델리 제인 우아한 파세이그 드 그라시아와 라 람블라의 업타운 구간인 보행자 전용 람블라 드 카탈루냐가 있다.\t파세이그 드 그라시아에서는 상업 활동과 보행자가 금지되어 있다.\tcontradiction\n",
            "주요 쇼핑과 산책로는 바르셀로나 버전의 샹 델리 제인 우아한 파세이그 드 그라시아와 라 람블라의 업타운 구간인 보행자 전용 람블라 드 카탈루냐가 있다.\t이 지역의 쇼핑 가격은 다른 인근 지역보다 약간 높다.\tneutral\n",
            "주요 쇼핑과 산책로는 바르셀로나 버전의 샹 델리 제인 우아한 파세이그 드 그라시아와 라 람블라의 업타운 구간인 보행자 전용 람블라 드 카탈루냐가 있다.\t라 람블라의 시외 지역에는 상업지역이 있다.\tentailment\n",
            "인적 자원 시스템이 통합되었고 확장된 고객 기반에 대한 지속적인 지원을 보장하기 위해 새로운 기업 구조가 신속하게 정의되었습니다.\t인적자원 시스템을 통합함으로써 새로운 기업 구조를 위한 여지가 생겼다.\tneutral\n",
            "인적 자원 시스템이 통합되었고 확장된 고객 기반에 대한 지속적인 지원을 보장하기 위해 새로운 기업 구조가 신속하게 정의되었습니다.\t기업 구조가 만들어졌습니다.\tentailment\n",
            "인적 자원 시스템이 통합되었고 확장된 고객 기반에 대한 지속적인 지원을 보장하기 위해 새로운 기업 구조가 신속하게 정의되었습니다.\t인적자원 시스템은 이전 상태 이상으로 확장되었다.\tcontradiction\n",
            "자금 조달 전략이 개선될 수 있지만, 이 작업에는 자금이 이용 가능하다.\t이러한 작업에는 사용 가능한 자원이 있습니다.\tentailment\n",
            "자금 조달 전략이 개선될 수 있지만, 이 작업에는 자금이 이용 가능하다.\t그 일에 사용 가능한 자금이 없다.\tcontradiction\n",
            "자금 조달 전략이 개선될 수 있지만, 이 작업에는 자금이 이용 가능하다.\t그 일을 위한 자금이 충분하지 않다.\tneutral\n",
            "본 논문에서 제시한 농촌 노선에 대한 통계는 1989년 전국 우편 번호 데이터를 기반으로 합니다.\t본 논문의 통계는 2001년 보고서를 기반으로 한다.\tcontradiction\n",
            "본 논문에서 제시한 농촌 노선에 대한 통계는 1989년 전국 우편 번호 데이터를 기반으로 합니다.\t본 논문의 통계는 구식이다.\tneutral\n",
            "본 논문에서 제시한 농촌 노선에 대한 통계는 1989년 전국 우편 번호 데이터를 기반으로 합니다.\t본 논문은 지방 노선에 관한 자료를 포함한다.\tentailment\n",
            "임원은 또한 각 요소에 대한 임시 등급을 받거나 실패할 수 있다.\t임원이 시험을 받는 각 요소는 다른 순위로 나타날 수 있습니다.\tentailment\n",
            "임원은 또한 각 요소에 대한 임시 등급을 받거나 실패할 수 있다.\t임원은 실패하지 않을 것이다.\tcontradiction\n",
            "임원은 또한 각 요소에 대한 임시 등급을 받거나 실패할 수 있다.\t임원들은 계속하기 위해 잘 평가받아야 한다.\tneutral\n",
            "입사 면접에서 논의되는 주제는 광고 메일에 대한 가정의 반응입니다.\t입사 면접에 동의하지 않으면 당신은 일자리를 얻을 수 없다.\tneutral\n",
            "입사 면접에서 논의되는 주제는 광고 메일에 대한 가정의 반응입니다.\t입사 면접은 광고 메일에 대해 언급하지 않는다.\tcontradiction\n",
            "입사 면접에서 논의되는 주제는 광고 메일에 대한 가정의 반응입니다.\t이 입사 면접은 사람들이 광고 메일에 어떻게 반응하는지에 대한 약간의 내용이 포함되어 있다.\tentailment\n",
            "189와 사용자 비용은 같은 방식으로 추정된다.\t그들은 사용자 비용에 대해 추측했다.\tentailment\n",
            "189와 사용자 비용은 같은 방식으로 추정된다.\t그들은 사용자 비용이 1만 달러라고 추측했다.\tneutral\n",
            "189와 사용자 비용은 같은 방식으로 추정된다.\t그들은 정확한 사용자 비용을 알고 있었다.\tcontradiction\n",
            "예를 들어, GGD에서 디자인 연구는 별도의 작업으로 수행되어 최고조에 달했다.\t디자인 연구는 없었다.\tcontradiction\n",
            "예를 들어, GGD에서 디자인 연구는 별도의 작업으로 수행되어 최고조에 달했다.\t디자인 연구는 단독으로 수행되었다.\tentailment\n",
            "예를 들어, GGD에서 디자인 연구는 별도의 작업으로 수행되어 최고조에 달했다.\t디자인 연구는 성공적이지 못했다.\tneutral\n",
            "9개 대응 기관 모두는 ..에 참여를 보고한다.\t아홉 기관 중 단 두 기관만이 참여에 관한 우리의 질문에 답하려고 애썼다.\tcontradiction\n",
            "9개 대응 기관 모두는 ..에 참여를 보고한다.\t그들이 참여했다고 긍정적으로 응답한 기관은 9개였다.\tentailment\n",
            "9개 대응 기관 모두는 ..에 참여를 보고한다.\t이 9개 기관은 그들이 높은 참여도를 가지고 있다는 것에 기뻐한다.\tneutral\n",
            "1996년 이후 가구의 부의 소득 비율은 1999년 6.4로 급격히 증가했다.\t모든 가구는 작년에 1만 달러를 더 벌었다.\tneutral\n",
            "1996년 이후 가구의 부의 소득 비율은 1999년 6.4로 급격히 증가했다.\t가구들은 많은 재산을 잃어가고 있다.\tcontradiction\n",
            "1996년 이후 가구의 부의 소득 비율은 1999년 6.4로 급격히 증가했다.\t가구들은 훨씬 더 많은 재산/수입 비율을 얻었다.\tentailment\n",
            "하위 계층 접근법에서 기본 및 작업 공유 범주는 평균 비율을 얻기 위해 비용에 대한 백분율 가격 인상 비율을 받습니다.\t기본 카테고리는 비용만이 아니다.\tentailment\n",
            "하위 계층 접근법에서 기본 및 작업 공유 범주는 평균 비율을 얻기 위해 비용에 대한 백분율 가격 인상 비율을 받습니다.\t가격은 비용보다 10% 더 비싸다.\tneutral\n",
            "하위 계층 접근법에서 기본 및 작업 공유 범주는 평균 비율을 얻기 위해 비용에 대한 백분율 가격 인상 비율을 받습니다.\t가격은 항상 비용보다 적다.\tcontradiction\n",
            "CIO 조직의 모든 구성원이 자신의 책임을 명확하게 이해할 수 있도록 기대를 관리하고 도움을 주는 것이 CIO의 의무입니다.\tCIO는 예측 관리와 구성원이 그들의 책임을 이해하도록 하는 것을 포함하여 많은 임무가 있습니다.\tentailment\n",
            "CIO 조직의 모든 구성원이 자신의 책임을 명확하게 이해할 수 있도록 기대를 관리하고 도움을 주는 것이 CIO의 의무입니다.\tCIO는 구성원의 책임이 무엇인지 전혀 모르고 있으며, 그들에게 알리는 책임이 없습니다.\tcontradiction\n",
            "CIO 조직의 모든 구성원이 자신의 책임을 명확하게 이해할 수 있도록 기대를 관리하고 도움을 주는 것이 CIO의 의무입니다.\tCIO는 구성원들과 자주 의사소통을 하여 그들의 책임을 개략적으로 알려주어야 한다.\tneutral\n",
            "19 계약 상금 이전에 4개월의 일을 가정하면 이 675 MWe 보일러를 개조하기 위해 총 13개월의 경과 시간이 필요했을 것입니다.\t그것을 개조하는 데는 두 달 밖에 걸리지 않았다.\tcontradiction\n",
            "19 계약 상금 이전에 4개월의 일을 가정하면 이 675 MWe 보일러를 개조하기 위해 총 13개월의 경과 시간이 필요했을 것입니다.\t잠수함의 보일러를 새로 장착하는 데 13개월이 걸렸다.\tneutral\n",
            "19 계약 상금 이전에 4개월의 일을 가정하면 이 675 MWe 보일러를 개조하기 위해 총 13개월의 경과 시간이 필요했을 것입니다.\t보일러를 개조하는 데 총 13개월이 걸렸다.\tentailment\n",
            "현재 시장 환경에서 숙련된 IT 인력의 부족은 종종 선도적인 조직들이 위탁을 하는 주요 이유입니다.\tIT 인력이 너무 많습니다.\tcontradiction\n",
            "현재 시장 환경에서 숙련된 IT 인력의 부족은 종종 선도적인 조직들이 위탁을 하는 주요 이유입니다.\t그들이 모두 인도에 갔기 때문에 IT 인력이 충분하지 않습니다.\tneutral\n",
            "현재 시장 환경에서 숙련된 IT 인력의 부족은 종종 선도적인 조직들이 위탁을 하는 주요 이유입니다.\t그 일자리를 채울 IT 인력이 충분하지 않다.\tentailment\n",
            "모든 곳에서 단일 C-R 함수의 일반적인 적용에 기초하여 총 변화 발생률에서 바이어스의 규모 또는 방향을 알 수 없습니다.\t얼마나 많은 편견이 있는지 명백하다.\tcontradiction\n",
            "모든 곳에서 단일 C-R 함수의 일반적인 적용에 기초하여 총 변화 발생률에서 바이어스의 규모 또는 방향을 알 수 없습니다.\t다른 외부 영향과 분리하기가 어렵기 때문에 얼마나 많은 편견이 존재하는지 알 수 없습니다.\tneutral\n",
            "모든 곳에서 단일 C-R 함수의 일반적인 적용에 기초하여 총 변화 발생률에서 바이어스의 규모 또는 방향을 알 수 없습니다.\t얼마나 많은 편견이 있는지 알 수 없다.\tentailment\n",
            "기술 비용 효과는 더 높은 비용으로 수행할 수 있는 당사자가 수행한 작업으로 인해 이 또한 이전과 같은 방식으로 계산됩니다.\t기술적 비용 효과는 한 가지 방법으로 계산된다.\tentailment\n",
            "기술 비용 효과는 더 높은 비용으로 수행할 수 있는 당사자가 수행한 작업으로 인해 이 또한 이전과 같은 방식으로 계산됩니다.\t그들은 기술적 비용 효과를 계산하는 방법을 알아내지 못했다.\tcontradiction\n",
            "기술 비용 효과는 더 높은 비용으로 수행할 수 있는 당사자가 수행한 작업으로 인해 이 또한 이전과 같은 방식으로 계산됩니다.\t그들은 기술적 비용 효과를 계산하기 위해 과거 데이터를 사용한다.\tneutral\n",
            "연습 4 : 지속적인 기초에서 위험을 관리\t4장에는 리스크 관리에 대한 실습이 포함되어 있습니다.\tentailment\n",
            "연습 4 : 지속적인 기초에서 위험을 관리\t이 책에는 장기 위험 관리에 대한 정보가 들어 있지 않다.\tcontradiction\n",
            "연습 4 : 지속적인 기초에서 위험을 관리\t이 연습문제는 이번 주말까지 완료되고 제출되어야 한다.\tneutral\n",
            "Regional Haze RIA 및 NOx SIP Call RIA)의 최하 추정치는 15 : g / m3의 PM 건강 효과의 한계값을 가정했습니다.\t그들은 그 혜택을 추정했다.\tentailment\n",
            "Regional Haze RIA 및 NOx SIP Call RIA)의 최하 추정치는 15 : g / m3의 PM 건강 효과의 한계값을 가정했습니다.\t그들은 그 혜택에 대한 대략적인 추정을 했지만, 그것은 틀린 것 같았다.\tneutral\n",
            "Regional Haze RIA 및 NOx SIP Call RIA)의 최하 추정치는 15 : g / m3의 PM 건강 효과의 한계값을 가정했습니다.\t그들은 그 혜택을 어떻게 추정해야 할지 몰랐다.\tcontradiction\n",
            "일부 시설 소유주들은 시간을 줄이기 위해 건설 계획에 혁신적이었다.\t혁신적인 건설 계획을 이용하여 가동 중지 시간을 줄일 수 있다.\tentailment\n",
            "일부 시설 소유주들은 시간을 줄이기 위해 건설 계획에 혁신적이었다.\t시설 소유자들은 가동 중지 시간을 최소화하는 것에 관심이 없다.\tcontradiction\n",
            "일부 시설 소유주들은 시간을 줄이기 위해 건설 계획에 혁신적이었다.\t더욱 효율적인 재고 보관은 가동 중지 시간을 최소화하는 핵심 요소입니다.\tneutral\n",
            "또한, 프로그램 담당자는 다양한 워크샵과 이용할 수 있는 교육 자료들을 새로운 공급자들에게 실시한다.\t프로그램 인사부는 작년에 모든 워크숍을 중단했다.\tcontradiction\n",
            "또한, 프로그램 담당자는 다양한 워크샵과 이용할 수 있는 교육 자료들을 새로운 공급자들에게 실시한다.\t프로그램 인사부는 ELL 학생들을 위한 워크숍을 주최한다.\tneutral\n",
            "또한, 프로그램 담당자는 다양한 워크샵과 이용할 수 있는 교육 자료들을 새로운 공급자들에게 실시한다.\t프로그램 인사부는 워크숍을 주최한다.\tentailment\n",
            "49 임금 프리미엄은 크림 스키머가 단순히 지배적인 임금을 지불함으로써 효율성 / 비용 이점을 얻을 수 있게 합니다.\t소득을 숨기는 사람들은 보통 불법적인 일을 하지만 그들은 처벌을 면한다.\tneutral\n",
            "49 임금 프리미엄은 크림 스키머가 단순히 지배적인 임금을 지불함으로써 효율성 / 비용 이점을 얻을 수 있게 합니다.\t소득을 숨기는 사람들은 다른 모든 사람이 하는 지불을 함으로써 성공할 수 있다.\tentailment\n",
            "49 임금 프리미엄은 크림 스키머가 단순히 지배적인 임금을 지불함으로써 효율성 / 비용 이점을 얻을 수 있게 합니다.\t소득을 숨기는 사람들은 다른 사람들보다 훨씬 더 많은 돈을 지불한다.\tcontradiction\n",
            "예를 들어, 직원들은 호텔 및 기타 비용에 관해 대리점 지정 요금 카드를 사용해야 합니다.\t직원들은 사용할 후불카드가 없었다.\tcontradiction\n",
            "예를 들어, 직원들은 호텔 및 기타 비용에 관해 대리점 지정 요금 카드를 사용해야 합니다.\t직원들은 모든 음식을 카드에 달아놓아야 했다.\tneutral\n",
            "예를 들어, 직원들은 호텔 및 기타 비용에 관해 대리점 지정 요금 카드를 사용해야 합니다.\t직원들은 호텔에 후불카드를 사용해야 할 것이다.\tentailment\n",
            "LSC가 지원하는 변호사들은 고객의 움직임을 감시하고 미확인 고객이 미국을 떠날 때마다 사례에서 철수해야 합니다.\t변호사들은 테러리즘에 관해 일하는 경우 LSC로부터 돈을 받는다.\tneutral\n",
            "LSC가 지원하는 변호사들은 고객의 움직임을 감시하고 미확인 고객이 미국을 떠날 때마다 사례에서 철수해야 합니다.\tLSC에서 돈을 받는 몇몇 변호사가 있다.\tentailment\n",
            "LSC가 지원하는 변호사들은 고객의 움직임을 감시하고 미확인 고객이 미국을 떠날 때마다 사례에서 철수해야 합니다.\tLSC는 의대생들만 지원한다.\tcontradiction\n",
            "29 따라서 21개월은 합리적이어야 하며 경우에 따라 단일 유틸리티 보일러를 개조하는 데 필요한 총 시간을 보수적으로 추정합니다.\t최소 21개월보다 오래 걸릴 것이다.\tneutral\n",
            "29 따라서 21개월은 합리적이어야 하며 경우에 따라 단일 유틸리티 보일러를 개조하는 데 필요한 총 시간을 보수적으로 추정합니다.\t단일 유틸리티 보일러를 개조하는 데는 약 21개월이 걸릴 것이다.\tentailment\n",
            "29 따라서 21개월은 합리적이어야 하며 경우에 따라 단일 유틸리티 보일러를 개조하는 데 필요한 총 시간을 보수적으로 추정합니다.\t보일러를 개조하는 것은 며칠 안에 할 수 있다.\tcontradiction\n",
            "이것은 1차 진료 환경 설정에서도 마찬가지였다.\t그것도 1차 진료에서도 일어났어요.\tentailment\n",
            "이것은 1차 진료 환경 설정에서도 마찬가지였다.\t그건 전문가에게만 일어나는 일이야.\tcontradiction\n",
            "이것은 1차 진료 환경 설정에서도 마찬가지였다.\t1차 진료에도 미납 청구서가 있었다.\tneutral\n",
            "그러나 벤치에서의 그녀의 작업은 Zelon이 말한 것처럼, 소외된 사람들의 삶에 하나씩 영향을 줍니다.\t판사로서 그녀의 업무는 뉴욕의 가난한 소수집단을 도왔다.\tneutral\n",
            "그러나 벤치에서의 그녀의 작업은 Zelon이 말한 것처럼, 소외된 사람들의 삶에 하나씩 영향을 줍니다.\t판사로서 그녀의 업무는 가난한 사람들을 도왔다.\tentailment\n",
            "그러나 벤치에서의 그녀의 작업은 Zelon이 말한 것처럼, 소외된 사람들의 삶에 하나씩 영향을 줍니다.\t그녀의 업무는 부유한 사람들에게 집중되었다.\tcontradiction\n",
            "근무조 우편원에 대한 복지 효과는 위의 항목과 같은 방식으로 이익에 대해 계산됩니다.\t그들은 그들이 얼마나 많은 돈을 버는지를 계산하듯이 복지 효과를 계산한다.\tentailment\n",
            "근무조 우편원에 대한 복지 효과는 위의 항목과 같은 방식으로 이익에 대해 계산됩니다.\t그들은 계산기로 복지 효과를 빠르게 계산한다.\tneutral\n",
            "근무조 우편원에 대한 복지 효과는 위의 항목과 같은 방식으로 이익에 대해 계산됩니다.\t그들은 복지 효과를 계산하는 방법을 모른다.\tcontradiction\n",
            "예를 들어, 1983년 장애인 보험 및 병원 보험 신탁 기금에서 빌린 노인 및 생존자 보험 신탁 기금.\t신탁기금은 엄청난 적자를 내고 있었기 때문에 돈을 빌렸다.\tneutral\n",
            "예를 들어, 1983년 장애인 보험 및 병원 보험 신탁 기금에서 빌린 노인 및 생존자 보험 신탁 기금.\t신탁 기금은 빌릴 필요가 없었다.\tcontradiction\n",
            "예를 들어, 1983년 장애인 보험 및 병원 보험 신탁 기금에서 빌린 노인 및 생존자 보험 신탁 기금.\t신탁 기금은 돈을 빌릴 필요가 있었다.\tentailment\n",
            "1) 대체 통신 방식의 침투 증가\t대체 통신은 현재 통신의 60%를 차지한다.\tneutral\n",
            "1) 대체 통신 방식의 침투 증가\t다들 편지만 써요.\tcontradiction\n",
            "1) 대체 통신 방식의 침투 증가\t다른 통신 방식들이 더 인기를 끌고 있다.\tentailment\n",
            "기본 추정치의 이익의 주요 부분을 차지하는 장기간 노출 연구에서 파생된 추정치는 영향을 받지 않습니다.\t이 추정치들은 모두 한 번만 노출된 사람들을 본다.\tcontradiction\n",
            "기본 추정치의 이익의 주요 부분을 차지하는 장기간 노출 연구에서 파생된 추정치는 영향을 받지 않습니다.\t이 추정치들은 장기 노출을 다루기 때문에 단기 노출은 훨씬 적을 것이다.\tneutral\n",
            "기본 추정치의 이익의 주요 부분을 차지하는 장기간 노출 연구에서 파생된 추정치는 영향을 받지 않습니다.\t이 추정치들은 장기 노출을 다룬다.\tentailment\n",
            "효율성 시험은 첫 번째 단계이지만, 병원 및 지역 사회 기반 환경에서 입증된 알코올 선별 및 간단한 개입 시스템을 구현하는 것이 이 과정에서 가장 어려운 부분이었습니다.\t먼저 효능 시험을 해보시죠.\tentailment\n",
            "효율성 시험은 첫 번째 단계이지만, 병원 및 지역 사회 기반 환경에서 입증된 알코올 선별 및 간단한 개입 시스템을 구현하는 것이 이 과정에서 가장 어려운 부분이었습니다.\t먼저 중재의 효과를 시험해 봐야 할 것이다.\tneutral\n",
            "효율성 시험은 첫 번째 단계이지만, 병원 및 지역 사회 기반 환경에서 입증된 알코올 선별 및 간단한 개입 시스템을 구현하는 것이 이 과정에서 가장 어려운 부분이었습니다.\t효능 검사가 마지막 단계입니다.\tcontradiction\n",
            "둘째, ED는 제공자가 훈련, 기술 및 그렇게 하고 싶은 욕구와 능력이 있더라도 짧은 알코올 개입을 수행할 시간을 쉽게 찾을 수 없는 빠른 환경입니다.\tED는 여유롭고 편안하다.\tcontradiction\n",
            "둘째, ED는 제공자가 훈련, 기술 및 그렇게 하고 싶은 욕구와 능력이 있더라도 짧은 알코올 개입을 수행할 시간을 쉽게 찾을 수 없는 빠른 환경입니다.\tED에서는 일주일에 2,000명의 환자를 보기 때문에 일이 정말 빨리 진행된다.\tneutral\n",
            "둘째, ED는 제공자가 훈련, 기술 및 그렇게 하고 싶은 욕구와 능력이 있더라도 짧은 알코올 개입을 수행할 시간을 쉽게 찾을 수 없는 빠른 환경입니다.\tED에서는 일이 정말 빨리 진행된다.\tentailment\n",
            "이것은 하나의 개입 시스템에 대한 큰 도전이며 큰 기대입니다.\t모든 종류의 개입에는 어려움이 있지만, 어떤 것은 다른 것보다 훨씬 더 많은 어려움이 있다.\tneutral\n",
            "이것은 하나의 개입 시스템에 대한 큰 도전이며 큰 기대입니다.\t대부분의 개입은 완벽하다.\tcontradiction\n",
            "이것은 하나의 개입 시스템에 대한 큰 도전이며 큰 기대입니다.\t한 가지 개입은 그것이 무엇이든 간에 큰 어려움이 있다.\tentailment\n",
            "여행 바우처가 처리될 때, 자동화된 시스템은 요금 카드 회사가 처리한 실제 요금에 대한 정보와 바우처에 청구된 요금에 대한 정보를 비교할 수 있습니다.\t여행 상품권이 사용될 때, 시스템은 사기가 없는지 확인하기 위해 정보를 비교할 수 있다.\tneutral\n",
            "여행 바우처가 처리될 때, 자동화된 시스템은 요금 카드 회사가 처리한 실제 요금에 대한 정보와 바우처에 청구된 요금에 대한 정보를 비교할 수 있습니다.\t여행 상품권을 사용될 때, 시스템은 정보를 비교할 수 있다.\tentailment\n",
            "여행 바우처가 처리될 때, 자동화된 시스템은 요금 카드 회사가 처리한 실제 요금에 대한 정보와 바우처에 청구된 요금에 대한 정보를 비교할 수 있습니다.\t여행 상품권이 사용될 때, 그 시스템은 놀라서 작동하지 않을 것이다.\tcontradiction\n",
            "기술의 사용은 제공자와 직원이 개인적으로 직접 선별 및 개입 서비스를 제공하고 짧은 개입 메시지로부터 이익을 얻을 수 있는 환자를 대상으로 필요한 시간을 줄일 수 있습니다.\t기술은 제공자와 직원이 사람을 선별하는 데 필요한 시간을 80%까지 줄일 수 있다.\tneutral\n",
            "기술의 사용은 제공자와 직원이 개인적으로 직접 선별 및 개입 서비스를 제공하고 짧은 개입 메시지로부터 이익을 얻을 수 있는 환자를 대상으로 필요한 시간을 줄일 수 있습니다.\t기술은 제공자와 직원이 사람을 선별하는 데 필요한 시간을 줄일 수 있습니다.\tentailment\n",
            "기술의 사용은 제공자와 직원이 개인적으로 직접 선별 및 개입 서비스를 제공하고 짧은 개입 메시지로부터 이익을 얻을 수 있는 환자를 대상으로 필요한 시간을 줄일 수 있습니다.\t기술은 전혀 선별에 도움이 되지 않는다.\tcontradiction\n",
            "12HEI는 다도시의 국가 사망률, 사망률, 대기 오염 연구(NMMAPS)를 후원했다.\t12HEI는 번호판에 있다.\tcontradiction\n",
            "12HEI는 다도시의 국가 사망률, 사망률, 대기 오염 연구(NMMAPS)를 후원했다.\t12HEI는 대기 오염과 직접적인 관련이 있다.\tneutral\n",
            "12HEI는 다도시의 국가 사망률, 사망률, 대기 오염 연구(NMMAPS)를 후원했다.\t12HEI는 그 프로젝트의 후원자였다.\tentailment\n",
            "소위원회의 위원들이 가지고 있을 수 있는 어떤 질문에도 기꺼이 대답할 것이다.\t질문은 안 받아요.\tcontradiction\n",
            "소위원회의 위원들이 가지고 있을 수 있는 어떤 질문에도 기꺼이 대답할 것이다.\t나는 내 일에 관해 이야기하는 것을 좋아해서 질문에 답하고 싶습니다.\tneutral\n",
            "소위원회의 위원들이 가지고 있을 수 있는 어떤 질문에도 기꺼이 대답할 것이다.\t나는 질문에 대답하고 싶습니다.\tentailment\n",
            "2002 회계연도에 우리가 요청하고 있는 자원은 의회에 대한 우리의 높은 수준의 성과와 서비스를 유지하는 데 중요하다.\t우리는 우리에게 필요한 30억 달러를 요구하고 있다.\tneutral\n",
            "2002 회계연도에 우리가 요청하고 있는 자원은 의회에 대한 우리의 높은 수준의 성과와 서비스를 유지하는 데 중요하다.\t우리는 올해에 필요한 돈을 요청하고 있다.\tentailment\n",
            "2002 회계연도에 우리가 요청하고 있는 자원은 의회에 대한 우리의 높은 수준의 성과와 서비스를 유지하는 데 중요하다.\t우리는 올해 돈을 요구하지 않았다.\tcontradiction\n",
            "표 A.- 에구스에 허용 할당 또는 공시된 총 수은 량\t수은은 10ppm을 넘을 수 없습니다.\tneutral\n",
            "표 A.- 에구스에 허용 할당 또는 공시된 총 수은 량\t수은은 정해진 허용량을 가지고 있다.\tentailment\n",
            "표 A.- 에구스에 허용 할당 또는 공시된 총 수은 량\t수은에 관한 규칙은 없다.\tcontradiction\n",
            "그림 3은 두 모델의 기본 결과를 보여줍니다.\t그림 3은 모델들이 어떻게 수입을 계산하는지 보여준다.\tneutral\n",
            "그림 3은 두 모델의 기본 결과를 보여줍니다.\t그림 3은 도시의 성장률을 보여준다.\tcontradiction\n",
            "그림 3은 두 모델의 기본 결과를 보여줍니다.\t그림 3은 모델들이 무엇을 하는지 보여준다.\tentailment\n",
            "이 하이브리드에서 CEO는 기업 CIO에 중앙 통제권을 부여하고 CIO 조직을 지원하며 각 사업 부서에 고유한 정보 관리 요구 사항을 관리하기 위한 특정 권한을 위임합니다.\t보조 CIO와 기업 CIO는 일부 조직에서 회사의 통제권을 공유할 수 있습니다.\tentailment\n",
            "이 하이브리드에서 CEO는 기업 CIO에 중앙 통제권을 부여하고 CIO 조직을 지원하며 각 사업 부서에 고유한 정보 관리 요구 사항을 관리하기 위한 특정 권한을 위임합니다.\t기업 CIO는 일반적으로 CEO보다 적은 임금을 받는다.\tneutral\n",
            "이 하이브리드에서 CEO는 기업 CIO에 중앙 통제권을 부여하고 CIO 조직을 지원하며 각 사업 부서에 고유한 정보 관리 요구 사항을 관리하기 위한 특정 권한을 위임합니다.\t하이브리드 조직에서 CEO는 조직의 직접적인 중앙 통제를 유지한다.\tcontradiction\n",
            "C-R 함수는 분명한 임곗값과 함께 또는 없이 추정될 수도 있다.\tC-R 함수는 몇 가지 다른 방법으로 추정된 다음 독자가 결정할 수 있도록 게재되었습니다.\tneutral\n",
            "C-R 함수는 분명한 임곗값과 함께 또는 없이 추정될 수도 있다.\tC-R 기능은 몇 가지 다른 방법으로 추정할 수 있다.\tentailment\n",
            "C-R 함수는 분명한 임곗값과 함께 또는 없이 추정될 수도 있다.\tC-R 함수는 추정할 수 없습니다.\tcontradiction\n",
            "게다가, 소수의 우편 행정기관은 미국처럼 직원들에게 임금 프리미엄을 많이 지급한다.\t많은 나라에서 우편 직원은 하루에 5달러 미만을 번다.\tneutral\n",
            "게다가, 소수의 우편 행정기관은 미국처럼 직원들에게 임금 프리미엄을 많이 지급한다.\t미국의 우편 직원들은 다른 나라의 우편 노동자들보다 훨씬 적은 돈을 번다.\tcontradiction\n",
            "게다가, 소수의 우편 행정기관은 미국처럼 직원들에게 임금 프리미엄을 많이 지급한다.\t미국은 대부분의 국가보다 우편 직원에게 더 많은 돈을 지급한다.\tentailment\n",
            "우리는 이미 먼 길을 왔고, 할 일이 많이 남아 있다.\t모든 것이 마침내 끝났고 우리는 더는 할 일이 없다.\tcontradiction\n",
            "우리는 이미 먼 길을 왔고, 할 일이 많이 남아 있다.\t아직 수행해야 할 과제가 정확히 다섯 가지 더 있다.\tneutral\n",
            "우리는 이미 먼 길을 왔고, 할 일이 많이 남아 있다.\t우리가 여기까지 왔지만, 여전히 할 일이 남아 있다.\tentailment\n",
            "젠틸렐로 박사는 ED 알코올 연구 센터의 개발을 권고한다.\t일부 사람들은 ED 알코올 연구 센터를 추천한다.\tentailment\n",
            "젠틸렐로 박사는 ED 알코올 연구 센터의 개발을 권고한다.\t젠틸렐로 박사는 너무 많은 돈을 이미 연구에 쏟았다고 생각한다.\tcontradiction\n",
            "젠틸렐로 박사는 ED 알코올 연구 센터의 개발을 권고한다.\t이 연구 센터는 최대 10명을 고용할 것이다.\tneutral\n",
            "미국 인구 조사국은 5-Digit ZIP 코드를 사용하여 1990년 인구 및 주택 인구 조사 데이터를 그룹화했습니다.\t미국 인구조사국은 1960년대부터 우편 번호로 데이터를 정리했다.\tneutral\n",
            "미국 인구 조사국은 5-Digit ZIP 코드를 사용하여 1990년 인구 및 주택 인구 조사 데이터를 그룹화했습니다.\t1990년 인구 조사에 수집된 인구 및 주택에 관한 데이터는 우편 번호로 정리됩니다.\tentailment\n",
            "미국 인구 조사국은 5-Digit ZIP 코드를 사용하여 1990년 인구 및 주택 인구 조사 데이터를 그룹화했습니다.\t1990년에 시행된 미국 인구조사는 없었다.\tcontradiction\n",
            "그러나 중요한 차이점은 다음과 같이 명시되었다.\t그 차이는 너무 중요해서 기록되었다.\tneutral\n",
            "그러나 중요한 차이점은 다음과 같이 명시되었다.\t발견할 수 있는 차이는 전혀 없었다.\tcontradiction\n",
            "그러나 중요한 차이점은 다음과 같이 명시되었다.\t명백하고 눈에 띄는 차이점이 있었다.\tentailment\n",
            "철회가 허용되더라도, 이것은 변호사가 고객을 강력하게 대표하거나 과실의 주장으로부터 변호사를 보호하지 못할 수 있습니다.\t변호사가 사건을 철회하면 모든 의무와 책임에서 자유로워 질 것입니다.\tcontradiction\n",
            "철회가 허용되더라도, 이것은 변호사가 고객을 강력하게 대표하거나 과실의 주장으로부터 변호사를 보호하지 못할 수 있습니다.\t전국적으로 변호사들은 모든 사건의 5%에서만 철회한다.\tneutral\n",
            "철회가 허용되더라도, 이것은 변호사가 고객을 강력하게 대표하거나 과실의 주장으로부터 변호사를 보호하지 못할 수 있습니다.\t변호사는 그들이 사건에서 손을 떼더라도 책임을 질 수 있다.\tentailment\n",
            "우리는 당신의 지속적인 지원과 올해와 2002 회계연도에 당신과 당신의 직원들과 더욱 긴밀하게 일하기를 기대한다.\t우리는 당신의 조직과의 관계를 즉시 단절하려고 합니다.\tcontradiction\n",
            "우리는 당신의 지속적인 지원과 올해와 2002 회계연도에 당신과 당신의 직원들과 더욱 긴밀하게 일하기를 기대한다.\t올해 우리는 7명의 다른 직원들과 긴밀히 협력했다.\tneutral\n",
            "우리는 당신의 지속적인 지원과 올해와 2002 회계연도에 당신과 당신의 직원들과 더욱 긴밀하게 일하기를 기대한다.\t지난 1년 동안 당신은 우리를 지원하기 위해 무언가를 하셨습니다.\tentailment\n",
            "변호사가 연중 항상 적격 외지인의 움직임을 감시하도록 요구하는 것은 LSC 보조금 수령자에게 기념비적인 부담을 부과할 것입니다.\t이 요구 사항이 적용되면 LSC 수령자 수는 80% 감소할 것입니다.\tneutral\n",
            "변호사가 연중 항상 적격 외지인의 움직임을 감시하도록 요구하는 것은 LSC 보조금 수령자에게 기념비적인 부담을 부과할 것입니다.\t변호사가 자격을 갖춘 외국인을 항상 감시하는 것은 사소한 문제일 것이다.\tcontradiction\n",
            "변호사가 연중 항상 적격 외지인의 움직임을 감시하도록 요구하는 것은 LSC 보조금 수령자에게 기념비적인 부담을 부과할 것입니다.\t항상 한 무리의 사람들을 감시하는 것은 업무가 많을 것이다.\tentailment\n",
            "국가가 정보기술과 관리기능을 더 많이 축소함에 따라, 그것은 또한 좋은 계약 관리 전문성을 가지고 있는 것이 필수적이다.\t내년까지 주 정부는 연간 5백만 달러의 미결 계약을 맺을 것입니다.\tneutral\n",
            "국가가 정보기술과 관리기능을 더 많이 축소함에 따라, 그것은 또한 좋은 계약 관리 전문성을 가지고 있는 것이 필수적이다.\t더 많은 계약서에 서명할 때 계약을 잘 관리하는 것이 중요하다.\tentailment\n",
            "국가가 정보기술과 관리기능을 더 많이 축소함에 따라, 그것은 또한 좋은 계약 관리 전문성을 가지고 있는 것이 필수적이다.\t주 정부는 계약 관리에 대해 걱정할 필요가 없다.\tcontradiction\n",
            "이것은 할인율이 동일하다는 제약 조건에 따라 조건부인 수요 곡선이며, 그 조건 하에서 어떤 우편물 발송인도 작업 공유로 이동하지 않을 것입니다.\t수요 곡선은 할인율이 동일함에 따라 달라진다.\tentailment\n",
            "이것은 할인율이 동일하다는 제약 조건에 따라 조건부인 수요 곡선이며, 그 조건 하에서 어떤 우편물 발송인도 작업 공유로 이동하지 않을 것입니다.\t수요 곡선은 어떤 것에도 의존하지 않습니다.\tcontradiction\n",
            "이것은 할인율이 동일하다는 제약 조건에 따라 조건부인 수요 곡선이며, 그 조건 하에서 어떤 우편물 발송인도 작업 공유로 이동하지 않을 것입니다.\t수요 곡선은 이번 달에 변하지 않을 것이다.\tneutral\n",
            "공개 의견에 따라, Title V 운영 허가는 제어 장치에 대한 적합 시험이 완료될 때까지 최종적으로 이루어지지 않습니다.\t제어 장치를 먼저 완료해야 합니다.\tentailment\n",
            "공개 의견에 따라, Title V 운영 허가는 제어 장치에 대한 적합 시험이 완료될 때까지 최종적으로 이루어지지 않습니다.\t대중은 논평이 금지되었다.\tcontradiction\n",
            "공개 의견에 따라, Title V 운영 허가는 제어 장치에 대한 적합 시험이 완료될 때까지 최종적으로 이루어지지 않습니다.\t타이틀 V는 매우 중요한 문서입니다.\tneutral\n",
            "고용주는 사회보험 프로그램에 기여한다.\t고용주들은 식량 지원 프로그램에 기부한다.\tneutral\n",
            "고용주는 사회보험 프로그램에 기여한다.\t고용주들은 사회 프로그램에 기부한다.\tentailment\n",
            "고용주는 사회보험 프로그램에 기여한다.\t고용주들은 그들의 돈을 독점한다.\tcontradiction\n",
            "변경사항은 직원 감축, 계약 방법 변경 및 비즈니스입니다.\t그들은 직원들의 절반을 해고하고 있어요.\tneutral\n",
            "변경사항은 직원 감축, 계약 방법 변경 및 비즈니스입니다.\t그들은 몇 명을 해고하고 있어요.\tentailment\n",
            "변경사항은 직원 감축, 계약 방법 변경 및 비즈니스입니다.\t그들은 미친 듯이 고용하고 있어!\tcontradiction\n",
            "Title V 운영 허가도 공개 논평에 이용 가능해야 한다.\t모든 사람이 공개적인 논평을 허용하기를 원하는 것은 아니다.\tneutral\n",
            "Title V 운영 허가도 공개 논평에 이용 가능해야 한다.\t공개적인 논평은 허용되어야 한다.\tentailment\n",
            "Title V 운영 허가도 공개 논평에 이용 가능해야 한다.\t대중이 논평하도록 허락할 필요는 없다.\tcontradiction\n",
            "대조적으로, 미국이 우편 밀도가 낮고 부피가 더 많이 변하기 때문에 미국에서는 프랑스보다 부피의 영향이 더 큽니다.\t프랑스에서의 영향은 미국에서의 영향보다 크다.\tcontradiction\n",
            "대조적으로, 미국이 우편 밀도가 낮고 부피가 더 많이 변하기 때문에 미국에서는 프랑스보다 부피의 영향이 더 큽니다.\t프랑스에서의 영향은 증가하고 있다.\tneutral\n",
            "대조적으로, 미국이 우편 밀도가 낮고 부피가 더 많이 변하기 때문에 미국에서는 프랑스보다 부피의 영향이 더 큽니다.\t미국에서는 훨씬 더 큰 부피의 영향이 있다.\tentailment\n",
            "그리고 2나 6으로 내부 관리를 하는\t내부 제어 장치는 존재하지 않습니다.\tcontradiction\n",
            "그리고 2나 6으로 내부 관리를 하는\t일부 자동차는 내부 제어 장치를 가지고 있다.\tneutral\n",
            "그리고 2나 6으로 내부 관리를 하는\t어떤 것은 내부 제어 장치가 있다.\tentailment\n",
            "어떤 언어로든 문맹인 고객에게 자료는 신중하게 설명되어야 합니다.\t문맹자들은 매우 흔하며 우리는 그들을 대할 계획이 필요하다.\tneutral\n",
            "어떤 언어로든 문맹인 고객에게 자료는 신중하게 설명되어야 합니다.\t문맹자들은 스스로 그것을 알아낼 수 있다.\tcontradiction\n",
            "어떤 언어로든 문맹인 고객에게 자료는 신중하게 설명되어야 합니다.\t문맹자들은 그 자료들을 이해하지 못할 것이다.\tentailment\n",
            "프로그램과 공정성 부서 간의 협력은 떠오르는 문제들이 해결되는 수단입니다.\t그 단체들은 서로 말을 하지 않는다.\tcontradiction\n",
            "프로그램과 공정성 부서 간의 협력은 떠오르는 문제들이 해결되는 수단입니다.\t두 그룹은 중요한 부분을 놓치지 않도록 함께 일한다.\tneutral\n",
            "프로그램과 공정성 부서 간의 협력은 떠오르는 문제들이 해결되는 수단입니다.\t두 그룹은 함께 일한다.\tentailment\n",
            "우편 및 배달 산업의 변화 관리, 에드.\t우편 및 배달 산업의 변화를 관리해야 한다.\tentailment\n",
            "우편 및 배달 산업의 변화 관리, 에드.\t우편 및 배달 산업의 변화는 유기적으로 발생하며 관리할 필요가 없습니다.\tcontradiction\n",
            "우편 및 배달 산업의 변화 관리, 에드.\t우편 및 배달 산업의 변화를 관리하는 것이 유일한 직업인 사람들이 있습니다.\tneutral\n",
            "Babcock & Wilcox가 675 MWe AES Somerset 보일러를 개조했을 때, 정지는 5월 14일에 시작되었고 보일러는 6월 26일 약 6주간의 정지 후에 복귀했습니다.\t정전은 훨씬 더 빨리 끝났어야 했다.\tneutral\n",
            "Babcock & Wilcox가 675 MWe AES Somerset 보일러를 개조했을 때, 정지는 5월 14일에 시작되었고 보일러는 6월 26일 약 6주간의 정지 후에 복귀했습니다.\t6주간의 서비스 중단이 있었다.\tentailment\n",
            "Babcock & Wilcox가 675 MWe AES Somerset 보일러를 개조했을 때, 정지는 5월 14일에 시작되었고 보일러는 6월 26일 약 6주간의 정지 후에 복귀했습니다.\t보일러 가동 중단이 없었다.\tcontradiction\n",
            "우리는 GAO를 더욱 강화하기 위한 지속적인 노력으로, 전 세계의 나머지 연방 정부와 책임 기관을 위한 모델 조직이 되기 위해 이러한 추가 자원이 필요합니다.\t우리는 GAO를 무너뜨리고 싶다.\tcontradiction\n",
            "우리는 GAO를 더욱 강화하기 위한 지속적인 노력으로, 전 세계의 나머지 연방 정부와 책임 기관을 위한 모델 조직이 되기 위해 이러한 추가 자원이 필요합니다.\t지금 많은 문제가 있기 때문에 우리는 GAO를 더 강하게 만들고 싶습니다.\tneutral\n",
            "우리는 GAO를 더욱 강화하기 위한 지속적인 노력으로, 전 세계의 나머지 연방 정부와 책임 기관을 위한 모델 조직이 되기 위해 이러한 추가 자원이 필요합니다.\t우리는 GAO를 더 강하게 만들고 싶다.\tentailment\n",
            "행동 계획을 개발하기 위해서는 대개 추가시간이 필요하다.\t그들은 예상보다 더 빨리 계획을 개발할 수 있다.\tcontradiction\n",
            "행동 계획을 개발하기 위해서는 대개 추가시간이 필요하다.\t그들은 보통 그 계획을 실행하기 위해 1년이 더 필요하다.\tneutral\n",
            "행동 계획을 개발하기 위해서는 대개 추가시간이 필요하다.\t그들은 대개 실행 계획을 세우는 데 더 많은 시간이 필요하다.\tentailment\n",
            "대부분의 경우 농도 - 반응 관계는 과대평가될 수 있습니다. 다른 경우에는 과소평가될 수 있습니다.\t농도-반응 관계를 추정하는 새로운 방법이 필요하다.\tneutral\n",
            "대부분의 경우 농도 - 반응 관계는 과대평가될 수 있습니다. 다른 경우에는 과소평가될 수 있습니다.\t농도-반응 관계는 정확히 밝혀지지 않는다.\tentailment\n",
            "대부분의 경우 농도 - 반응 관계는 과대평가될 수 있습니다. 다른 경우에는 과소평가될 수 있습니다.\t농도-반응 관계의 효과는 거의 과대평가되지 않는다.\tcontradiction\n",
            "여기에는 안정적인 연방 예산 미래, 기술 혁신 및 정부 기관의 운영 및 서비스 제공 개선이 포함됩니다.\t정부 기관의 운영 개선이 포함되었다.\tentailment\n",
            "여기에는 안정적인 연방 예산 미래, 기술 혁신 및 정부 기관의 운영 및 서비스 제공 개선이 포함됩니다.\t더 많은 것들이 포함되었어야 했다.\tneutral\n",
            "여기에는 안정적인 연방 예산 미래, 기술 혁신 및 정부 기관의 운영 및 서비스 제공 개선이 포함됩니다.\t그들은 기술 혁신을 포함하지 않았다.\tcontradiction\n",
            "일반적인 임상 실습에서 작동하지 않는 것처럼 단순 개입에서는 한 사이즈가 모든 것에 맞는다는 것은 적용되지 않는다.\t모든 사건에는 그것을 담당하는 특정한 사람이 있어야 한다.\tneutral\n",
            "일반적인 임상 실습에서 작동하지 않는 것처럼 단순 개입에서는 한 사이즈가 모든 것에 맞는다는 것은 적용되지 않는다.\t두루 적용되는 것은 임상 실습에서 좋은 정책이 아니다.\tentailment\n",
            "일반적인 임상 실습에서 작동하지 않는 것처럼 단순 개입에서는 한 사이즈가 모든 것에 맞는다는 것은 적용되지 않는다.\t간단한 개입에 관해서는 두루 적용된다.\tcontradiction\n",
            "즉, 다른 말로는 기존 가계의 자산의 가치가 상승할 때 사람들은 현재의 소득에서 덜 저축하고도 여전히 부의 목표치를 달성할 수 있다.\t한 가구의 기존 자산은 저축해야 하는 소득에서 나오는 돈의 양과는 아무런 관련이 없다.\tcontradiction\n",
            "즉, 다른 말로는 기존 가계의 자산의 가치가 상승할 때 사람들은 현재의 소득에서 덜 저축하고도 여전히 부의 목표치를 달성할 수 있다.\t기존 자산의 가치 상승은 요구되는 소득에서의 저축 금액을 낮출 수 있습니다.\tentailment\n",
            "즉, 다른 말로는 기존 가계의 자산의 가치가 상승할 때 사람들은 현재의 소득에서 덜 저축하고도 여전히 부의 목표치를 달성할 수 있다.\t항상 같은 금액을 계속 저축하는 것이 현명하다.\tneutral\n",
            "또한 계획은 획득 방법, 키고/노고 포인트, 공식 훈련 계획, 손실을 최소화하기 위한 비상 계획을 규명해야 한다.\t손실을 최소화하기 위한 비상대책이 그 계획에 포함되어야 한다.\tentailment\n",
            "또한 계획은 획득 방법, 키고/노고 포인트, 공식 훈련 계획, 손실을 최소화하기 위한 비상 계획을 규명해야 한다.\t그 계획은 훈련 프로그램을 포함할 필요가 없다.\tcontradiction\n",
            "또한 계획은 획득 방법, 키고/노고 포인트, 공식 훈련 계획, 손실을 최소화하기 위한 비상 계획을 규명해야 한다.\t그 계획에는 예산도 포함되어야 한다.\tneutral\n",
            "그림 6은 USPS의 비용 함수로 생성된 평균 단위 비용을 표시합니다.\tUSPS의 평균 비용은 그림 6에 표시되어 모든 수익을 보여줍니다.\tneutral\n",
            "그림 6은 USPS의 비용 함수로 생성된 평균 단위 비용을 표시합니다.\tUSPS의 평균 비용은 그림 6에 나와 있다.\tentailment\n",
            "그림 6은 USPS의 비용 함수로 생성된 평균 단위 비용을 표시합니다.\tUSPS의 비용은 그림 9에 나와 있다.\tcontradiction\n",
            "주 정부가 헬프 데스크 및 메인 프레임 관리와 같은 전술적 기능을 위탁하는 것은 타당했습니다.\t주 정부는 어떤 기능도 위탁하지 않습니다.\tcontradiction\n",
            "주 정부가 헬프 데스크 및 메인 프레임 관리와 같은 전술적 기능을 위탁하는 것은 타당했습니다.\t주 정부는 헬프데스크나 메인프레임 관리와 같은 것들을 위탁했다.\tentailment\n",
            "주 정부가 헬프 데스크 및 메인 프레임 관리와 같은 전술적 기능을 위탁하는 것은 타당했습니다.\t주 정부가 위탁할 수 있었던 다른 기능들도 많이 있었다.\tneutral\n",
            "28 어떤 경우에는 더 긴 정전이 필요하다.\t정전이 있을 필요는 없다.\tcontradiction\n",
            "28 어떤 경우에는 더 긴 정전이 필요하다.\t때로는 더 긴 정전이 필요하다.\tentailment\n",
            "28 어떤 경우에는 더 긴 정전이 필요하다.\t가끔은 더 오래 전원을 꺼야 할 때도 있다.\tneutral\n",
            "Partners for Justice라고 불리는 이 프로젝트는 LATIS, Appleseed Justice Center, South Carolina Bar Pro Bono Program 및 46개의 인적 서비스 기관인 5개의 LSC 프로그램 중 협력 벤처입니다.\t정의를 위한 파트너들은 협력 프로젝트가 아니다.\tcontradiction\n",
            "Partners for Justice라고 불리는 이 프로젝트는 LATIS, Appleseed Justice Center, South Carolina Bar Pro Bono Program 및 46개의 인적 서비스 기관인 5개의 LSC 프로그램 중 협력 벤처입니다.\t이 프로젝트의 이름은 정의를 위한 파트너들이다.\tentailment\n",
            "Partners for Justice라고 불리는 이 프로젝트는 LATIS, Appleseed Justice Center, South Carolina Bar Pro Bono Program 및 46개의 인적 서비스 기관인 5개의 LSC 프로그램 중 협력 벤처입니다.\t이 프로젝트는 그다지 성공적이지 못했다.\tneutral\n",
            "연구된 각 건강 효과에 대한 임곗값 이하의 대기 오염 수준은 현상을 유발하지 않는다고 가정합니다.\t대기 오염은 수준과 관계없이 건강에 영향을 미치지 않는다.\tcontradiction\n",
            "연구된 각 건강 효과에 대한 임곗값 이하의 대기 오염 수준은 현상을 유발하지 않는다고 가정합니다.\t대기 오염 수준은 임계값에 따라 위험한 영향을 건강에 미칠 수 있다.\tneutral\n",
            "연구된 각 건강 효과에 대한 임곗값 이하의 대기 오염 수준은 현상을 유발하지 않는다고 가정합니다.\t각 연구에는 대기 오염의 영향을 결정하는 임계값이 있다.\tentailment\n",
            "제품 통합 단계가 끝날 때까지 제품의 디자인이 안정적이 되도록 각 회사에서 사용하는 핵심 도구는 설계가 요구 사항을 충족시킬 수 있다는 것을 보여주는 것이었습니다.\t회사들은 열쇠를 사용하지 않는다.\tcontradiction\n",
            "제품 통합 단계가 끝날 때까지 제품의 디자인이 안정적이 되도록 각 회사에서 사용하는 핵심 도구는 설계가 요구 사항을 충족시킬 수 있다는 것을 보여주는 것이었습니다.\t각 회사 키는 다릅니다.\tneutral\n",
            "제품 통합 단계가 끝날 때까지 제품의 디자인이 안정적이 되도록 각 회사에서 사용하는 핵심 도구는 설계가 요구 사항을 충족시킬 수 있다는 것을 보여주는 것이었습니다.\t각 회사는 키를 사용합니다.\tentailment\n",
            "브렌단 길 전 벡사 카운티 그룹 상무는 그 후 합병을 사우스 텍사스의 긍정적인 움직임으로 보고 있다고 말했다.\t브렌든 길은 합병을 싫어한다.\tcontradiction\n",
            "브렌단 길 전 벡사 카운티 그룹 상무는 그 후 합병을 사우스 텍사스의 긍정적인 움직임으로 보고 있다고 말했다.\t브렌든 길은 합병을 좋아한다.\tentailment\n",
            "브렌단 길 전 벡사 카운티 그룹 상무는 그 후 합병을 사우스 텍사스의 긍정적인 움직임으로 보고 있다고 말했다.\t브렌든 길은 합병으로 돈을 벌었다.\tneutral\n",
            "이 경우 비율 차이는 9a이며, 이는 50% 마크 업으로 팽창된 6a의 비용 차이와 같습니다.\t9a는 비율 차이가 아닙니다.\tcontradiction\n",
            "이 경우 비율 차이는 9a이며, 이는 50% 마크 업으로 팽창된 6a의 비용 차이와 같습니다.\t9a는 가장 중요한 측정 기준이다.\tneutral\n",
            "이 경우 비율 차이는 9a이며, 이는 50% 마크 업으로 팽창된 6a의 비용 차이와 같습니다.\t9a는 비율 차이이다.\tentailment\n",
            "케이스 파일은 복사되어 클라이언트에 제공되어야 할 겁니다.\t클라이언트에 사례 파일을 전송하는 절차입니다.\tneutral\n",
            "케이스 파일은 복사되어 클라이언트에 제공되어야 할 겁니다.\t클라이언트는 아무것도 모르게 될 것이다.\tcontradiction\n",
            "케이스 파일은 복사되어 클라이언트에 제공되어야 할 겁니다.\t클라이언트에 사례 파일이 제공됩니다.\tentailment\n",
            "가정의 기존 자산이 가치를 잃으면 사람들은 부의 목표 달성을 위해 더 많은 돈을 저축해야 한다.\t자산은 때때로 시장 때문에 가치가 떨어질 것이다.\tneutral\n",
            "가정의 기존 자산이 가치를 잃으면 사람들은 부의 목표 달성을 위해 더 많은 돈을 저축해야 한다.\t가계 자산이 가치를 잃으면 사람들은 저축을 덜 해야 할 것이다.\tcontradiction\n",
            "가정의 기존 자산이 가치를 잃으면 사람들은 부의 목표 달성을 위해 더 많은 돈을 저축해야 한다.\t사람들의 자산이 가치를 잃으면 결국 더 많은 돈을 저축해야 한다.\tentailment\n",
            "또한 호주에서 Centerlink는 예방할 수 없는 부정확한 지불의 65%가 고객이나 수혜자의 잘못된 소득 선언과 관련이 있다고 결정했습니다.\t센터링크는 고객에게 소득을 신고할 때 세부사항을 신중하게 입력하도록 요청한다.\tneutral\n",
            "또한 호주에서 Centerlink는 예방할 수 없는 부정확한 지불의 65%가 고객이나 수혜자의 잘못된 소득 선언과 관련이 있다고 결정했습니다.\t센터링크는 고객의 잘못된 소득 신고로 인한 잘못된 지급을 한 적이 없다.\tcontradiction\n",
            "또한 호주에서 Centerlink는 예방할 수 없는 부정확한 지불의 65%가 고객이나 수혜자의 잘못된 소득 선언과 관련이 있다고 결정했습니다.\t센터링크가 가지고 있는 잘못된 지급은 경우에 따라 예방할 수 있다.\tentailment\n",
            "축적된 자산은 이자와 배당금 형태로 소득을 창출할 수 있으며, 이는 차례로 절약될 수 있습니다.\t자산은 이자로 돈을 잃게 한다.\tcontradiction\n",
            "축적된 자산은 이자와 배당금 형태로 소득을 창출할 수 있으며, 이는 차례로 절약될 수 있습니다.\t이자와 배당금은 많은 돈이다.\tneutral\n",
            "축적된 자산은 이자와 배당금 형태로 소득을 창출할 수 있으며, 이는 차례로 절약될 수 있습니다.\t자산으로 소득을 창출할 수 있습니다.\tentailment\n",
            "법률 서비스 수령인이 미국에서 물리적으로 존재하는 동안만 외지인을 대표할 수 있다는 해석은 LSC 제공자에게 두 가지 옵션을 제시합니다.\t외국인은 미국에 있을 때 법적 대리인을 가질 수 있다.\tentailment\n",
            "법률 서비스 수령인이 미국에서 물리적으로 존재하는 동안만 외지인을 대표할 수 있다는 해석은 LSC 제공자에게 두 가지 옵션을 제시합니다.\t대부분의 외국인은 필요할 때 법률 서비스를 구하지 않는다.\tneutral\n",
            "법률 서비스 수령인이 미국에서 물리적으로 존재하는 동안만 외지인을 대표할 수 있다는 해석은 LSC 제공자에게 두 가지 옵션을 제시합니다.\t미국은 외국인이 어떤 주에도 들어오는 것을 허용하지 않는다.\tcontradiction\n",
            "요소에 대한 완전히 성공적인 표준을 충족하는 경우 통과 등급을 받습니다.\t성공적인 기준을 완전히 충족하면 통과할 수 있습니다.\tentailment\n",
            "요소에 대한 완전히 성공적인 표준을 충족하는 경우 통과 등급을 받습니다.\t그들이 기준을 충족시키지 못하면 그들은 실패할 것이다.\tneutral\n",
            "요소에 대한 완전히 성공적인 표준을 충족하는 경우 통과 등급을 받습니다.\t요소에 관한 기준을 완전히 충족하면 실패 등급이 표시됩니다.\tcontradiction\n",
            "예를 들어, 기존 자산에 대한 이익은 연금 부채를 충당하는 데 필요한 고용주의 기여를 줄입니다.\t모든 자산의 가치는 하루 단위로 하락한다.\tcontradiction\n",
            "예를 들어, 기존 자산에 대한 이익은 연금 부채를 충당하는 데 필요한 고용주의 기여를 줄입니다.\t부동산과 같은 자산은 연 단위로 가치를 얻는다.\tneutral\n",
            "예를 들어, 기존 자산에 대한 이익은 연금 부채를 충당하는 데 필요한 고용주의 기여를 줄입니다.\t기존 자산이 이득을 축적할 수 있습니다.\tentailment\n",
            "1940년경에 탄생한 이슬람 운동은 혁명적 조직에 대한 마르크스 - 레닌주의 개념의 영향을 받은 현대 세계의 산물이다.\t마르크스-레닌주의 개념은 이슬람 운동에 통합되었다.\tentailment\n",
            "1940년경에 탄생한 이슬람 운동은 혁명적 조직에 대한 마르크스 - 레닌주의 개념의 영향을 받은 현대 세계의 산물이다.\t이슬람 운동은 6세기에 시작되었다.\tcontradiction\n",
            "1940년경에 탄생한 이슬람 운동은 혁명적 조직에 대한 마르크스 - 레닌주의 개념의 영향을 받은 현대 세계의 산물이다.\t이슬람 운동은 원래 사회동원을 위한 조직으로 설립되었다.\tneutral\n",
            "다른 조언자들은 이 우려를 되풀이했다.\t모든 고문은 걱정할 것 없다는 것에 만장일치로 동의했다.\tcontradiction\n",
            "다른 조언자들은 이 우려를 되풀이했다.\t이 계획에 대해서 오직 한 명의 고문만 우려를 표명하지 않았다.\tneutral\n",
            "다른 조언자들은 이 우려를 되풀이했다.\t이 문제는 여러 다른 고문들과 함께 공유된다.\tentailment\n",
            "이 시스템은 또한 추가적인 보안 조사를 받기 위해 무작위로 승객을 선택했다.\t모든 승객은 아무 문제 없이 그냥 지나간다.\tcontradiction\n",
            "이 시스템은 또한 추가적인 보안 조사를 받기 위해 무작위로 승객을 선택했다.\t일부 승객들은 전신 스캔을 받는다.\tneutral\n",
            "이 시스템은 또한 추가적인 보안 조사를 받기 위해 무작위로 승객을 선택했다.\t일부 승객들은 보안에 의해 보다 철저히 검사를 받는다.\tentailment\n",
            "우리는 같은 경력 관리 팀이 두 행정부에 걸쳐 있었지만 그 아이디어가 새 행정부에 브리핑 되었거나 클라크가 그의 논문을 그들에게 전달했다는 징후를 발견하지 못했습니다.\t클라크가 누구에게도 자신의 논문을 주지 않았다고 100% 확신합니다.\tneutral\n",
            "우리는 같은 경력 관리 팀이 두 행정부에 걸쳐 있었지만 그 아이디어가 새 행정부에 브리핑 되었거나 클라크가 그의 논문을 그들에게 전달했다는 징후를 발견하지 못했습니다.\t클라크가 그에게 논문을 줬다는 증거를 찾을 수 없다.\tentailment\n",
            "우리는 같은 경력 관리 팀이 두 행정부에 걸쳐 있었지만 그 아이디어가 새 행정부에 브리핑 되었거나 클라크가 그의 논문을 그들에게 전달했다는 징후를 발견하지 못했습니다.\t우리는 클라크가 7월 2일에 그들에게 논문을 주었다는 것을 확실히 알고 있다.\tcontradiction\n",
            "2010년 이전에 시스템을 설치할 수 있는 것은 분명하지 않지만 가능한 보안 위험을 감안할 때, 이 시간표조차도 너무 느릴 수 있습니다.\t해커들이 매일 밤 공격하기 때문에 시스템을 설치하기가 어렵다.\tneutral\n",
            "2010년 이전에 시스템을 설치할 수 있는 것은 분명하지 않지만 가능한 보안 위험을 감안할 때, 이 시간표조차도 너무 느릴 수 있습니다.\t보안상의 위험 때문에 시스템을 설치하는 것은 쉽지 않습니다.\tentailment\n",
            "2010년 이전에 시스템을 설치할 수 있는 것은 분명하지 않지만 가능한 보안 위험을 감안할 때, 이 시간표조차도 너무 느릴 수 있습니다.\t보안 시스템은 6주 안에 설치될 거야, 약속해.\tcontradiction\n",
            "2003년 7월 30일, KSM의 심문에 대한 정보 보고서.\tKSM에 대한 심문은 2003년 7월에 수행되었다.\tentailment\n",
            "2003년 7월 30일, KSM의 심문에 대한 정보 보고서.\tKSM은 마침내 세부적으로 심문을 받은 2008년 말까지 붙잡히지 않았다.\tcontradiction\n",
            "2003년 7월 30일, KSM의 심문에 대한 정보 보고서.\t심문 결과 KSM이 가장 좋아하는 아이스크림은 초콜릿 아이스크림이었다.\tneutral\n",
            "그러므로, 미국 국민은 고국을 보호하는 한편, 중요한 개인적, 시민적 자유에 대한 위협을 염두에 두어야 한다.\t미국인들은 그들의 시민의 자유에 대해 걱정할 필요가 없다. 그들은 항상 보호될 것이다.\tcontradiction\n",
            "그러므로, 미국 국민은 고국을 보호하는 한편, 중요한 개인적, 시민적 자유에 대한 위협을 염두에 두어야 한다.\t미국인들은 그들의 총을 빼앗기지 않도록 확실히 해야 한다.\tneutral\n",
            "그러므로, 미국 국민은 고국을 보호하는 한편, 중요한 개인적, 시민적 자유에 대한 위협을 염두에 두어야 한다.\t미국인들은 우리의 자유에 대한 위협에 주의를 기울여야 한다.\tentailment\n",
            "반복적으로 배달하는 것은 그것을 더 효과적이게 하지 못했다.\t배달이 얼마나 효과적인지에 대해서는 개선되지 않았다.\tentailment\n",
            "반복적으로 배달하는 것은 그것을 더 효과적이게 하지 못했다.\t배달은 믿을 수 없을 만큼 효과적이었다.\tcontradiction\n",
            "반복적으로 배달하는 것은 그것을 더 효과적이게 하지 못했다.\t백악관에 전달했을 때 더는 효과적이지 않았다.\tneutral\n",
            "다음 단계인 CIA의 알 카에다 부장은 당시 무엇을 해야 하거나 해서는 안 되는지 지시하는 것이 자신의 일이 아니라고 생각했다고 회상했다.\t책임자는 거의 은퇴했기 때문에 연루되고 싶지 않았다.\tneutral\n",
            "다음 단계인 CIA의 알 카에다 부장은 당시 무엇을 해야 하거나 해서는 안 되는지 지시하는 것이 자신의 일이 아니라고 생각했다고 회상했다.\t이 부서의 책임자는 완료된 일에 대해 지시하는 데 관여하고 싶지 않았다.\tentailment\n",
            "다음 단계인 CIA의 알 카에다 부장은 당시 무엇을 해야 하거나 해서는 안 되는지 지시하는 것이 자신의 일이 아니라고 생각했다고 회상했다.\t책임자는 모든 것이 그에게 달려 있다고 생각했다.\tcontradiction\n",
            "Ramzi Yousef와 Khalid Sheikh Mohammed는 1995년 마닐라 항공 음모를 주도했으며 KSM은 1993년 Yousef가 세계 무역 센터를 폭파하려는 시도에 자금을 지원했습니다.\t1993년에 세계무역센터를 폭파하려는 시도가 있었다.\tentailment\n",
            "Ramzi Yousef와 Khalid Sheikh Mohammed는 1995년 마닐라 항공 음모를 주도했으며 KSM은 1993년 Yousef가 세계 무역 센터를 폭파하려는 시도에 자금을 지원했습니다.\t칼리드 셰이크 모하메드는 전 세계 테러리즘을 근절하려는 노력으로 잘 알려졌었다.\tcontradiction\n",
            "Ramzi Yousef와 Khalid Sheikh Mohammed는 1995년 마닐라 항공 음모를 주도했으며 KSM은 1993년 Yousef가 세계 무역 센터를 폭파하려는 시도에 자금을 지원했습니다.\t이러한 음모들은 모두 실패에 직면했고 더 이상의 노력은 중단되었다.\tneutral\n",
            "KSM과 Khallad에 따르면, Abu Bara는 미국 비자를 신청하지 않았습니다.\t아부 바라는 비자를 원하지 않았다.\tneutral\n",
            "KSM과 Khallad에 따르면, Abu Bara는 미국 비자를 신청하지 않았습니다.\t아부 바라는 비자 신청서를 작성하지 않았다.\tentailment\n",
            "KSM과 Khallad에 따르면, Abu Bara는 미국 비자를 신청하지 않았습니다.\t아부 바라는 2011년에 비자를 받았다.\tcontradiction\n",
            "피커드는 7월 12일 브리핑에서 제기된 진술을 회상한다.\t피커드는 그들이 한 말을 전혀 기억하지 못했다.\tcontradiction\n",
            "피커드는 7월 12일 브리핑에서 제기된 진술을 회상한다.\t피커드는 사고의 사실을 취재하는 브리핑을 기억했다.\tneutral\n",
            "피커드는 7월 12일 브리핑에서 제기된 진술을 회상한다.\t피커드는 브리핑에서 무슨 말을 했는지 기억했다.\tentailment\n",
            "그는 파키스탄으로 여행을 갔으나 파키스탄에 있는 동안 인근 국가를 여행했느냐는 질문에 동요하게 되었다(파키스탄은 아프가니스탄의 훈련 캠프로 가는 관례적인 경로였다).\t테러리스트들이 파키스탄을 거쳐 아프가니스탄으로 여행하는 것은 드문 일이 아니었다.\tentailment\n",
            "그는 파키스탄으로 여행을 갔으나 파키스탄에 있는 동안 인근 국가를 여행했느냐는 질문에 동요하게 되었다(파키스탄은 아프가니스탄의 훈련 캠프로 가는 관례적인 경로였다).\t파키스탄과 아프가니스탄은 서로 매우 멀리 떨어져 있다.\tcontradiction\n",
            "그는 파키스탄으로 여행을 갔으나 파키스탄에 있는 동안 인근 국가를 여행했느냐는 질문에 동요하게 되었다(파키스탄은 아프가니스탄의 훈련 캠프로 가는 관례적인 경로였다).\t아프가니스탄에서 제공되는 훈련에는 백병전이 포함되어 있다.\tneutral\n",
            "이러한 루틴과 요격이 제대로 소화되지 않은 이유에 대한 간단한 요약은 Graham Allison과 Philip Zelikow, Essence of Decision, 2d ed를 참조하십시오.\t요격은 완벽하게 처리되었다.\tcontradiction\n",
            "이러한 루틴과 요격이 제대로 소화되지 않은 이유에 대한 간단한 요약은 Graham Allison과 Philip Zelikow, Essence of Decision, 2d ed를 참조하십시오.\t요격은 분석을 위해 잘못된 사람에게 보내졌다.\tneutral\n",
            "이러한 루틴과 요격이 제대로 소화되지 않은 이유에 대한 간단한 요약은 Graham Allison과 Philip Zelikow, Essence of Decision, 2d ed를 참조하십시오.\t요격이 올바르게 처리되지 않았다.\tentailment\n",
            "그들은 목표물을 성공적으로 공격하기 어렵게 만들고, 포획 가능성을 높여 공격을 저지합니다.\t그들은 목표를 더 어렵게 만드는 것이 더 높은 포획률을 이끌어 낼 것 수 있다는 것을 알고 있었다.\tneutral\n",
            "그들은 목표물을 성공적으로 공격하기 어렵게 만들고, 포획 가능성을 높여 공격을 저지합니다.\t그들은 목표물을 너무 쉽게 만들어서 불과 몇 분 안에 포착하였다.\tcontradiction\n",
            "그들은 목표물을 성공적으로 공격하기 어렵게 만들고, 포획 가능성을 높여 공격을 저지합니다.\t그들은 목표물 자체를 더욱 도전적으로 하여 포획을 더 자주 일어나고 있다.\tentailment\n",
            "남동부 방공 부문은 28분 후 9시 55분에 이 상황을 통보받았다.\t동남 방공구역이 통보를 받은 지 28분 후에.\tentailment\n",
            "남동부 방공 부문은 28분 후 9시 55분에 이 상황을 통보받았다.\t섹터는 통신 지연으로 인해 제시간에 통보를 받지 못했습니다.\tneutral\n",
            "남동부 방공 부문은 28분 후 9시 55분에 이 상황을 통보받았다.\t동남 방공구역은 사건이 발생한 지 28초 만에 소식을 들었다.\tcontradiction\n",
            "우리는 우리가 추천한 것의 장점에 대한 전국적인 토론을 기대하며, 우리는 그 토론에 적극적으로 참여할 것이다.\t이 주제에 관해 토론할 필요가 없다.\tcontradiction\n",
            "우리는 우리가 추천한 것의 장점에 대한 전국적인 토론을 기대하며, 우리는 그 토론에 적극적으로 참여할 것이다.\t우리는 이러한 권장사항이 중요하다는 것을 알고 있기 때문에 토론하고 싶다.\tneutral\n",
            "우리는 우리가 추천한 것의 장점에 대한 전국적인 토론을 기대하며, 우리는 그 토론에 적극적으로 참여할 것이다.\t우리는 그 권장사항에 관해 토론하고 싶다.\tentailment\n",
            "미하르가 떠난 후, 다른 학생들은 집으로 이사했다.\t미하르는 학생들이 그가 떠나기를 기다리고 있다는 것을 알고 있었다.\tneutral\n",
            "미하르가 떠난 후, 다른 학생들은 집으로 이사했다.\t미하르가 떠난 후 학생들은 집으로 들어갔다.\tentailment\n",
            "미하르가 떠난 후, 다른 학생들은 집으로 이사했다.\t학생들은 미하르가 거주하는 집 밖에서 항의했다.\tcontradiction\n",
            "Binalshibh에 따르면, Bin Ladin과 KSM이 9/11 이전에 Moussaoui가 구금되었다는 것을 알게 되면, 그들은 작전을 취소했을 수도 있습니다.\t빈 라딘은 무사우이가 구금되었다는 것을 몰랐다.\tentailment\n",
            "Binalshibh에 따르면, Bin Ladin과 KSM이 9/11 이전에 Moussaoui가 구금되었다는 것을 알게 되면, 그들은 작전을 취소했을 수도 있습니다.\t빈 라딘은 FBI가 무사우이를 붙잡아두고 있는지 몰랐다.\tneutral\n",
            "Binalshibh에 따르면, Bin Ladin과 KSM이 9/11 이전에 Moussaoui가 구금되었다는 것을 알게 되면, 그들은 작전을 취소했을 수도 있습니다.\t빈 라딘은 무사우이가 심문 받는 것에 대해 걱정하지 않았다.\tcontradiction\n",
            "영공이 재개된 후, 대부분 사우디 국민인 160명이 탑승한 9대의 전세 항공편이 9월 14일과 24일 사이에 미국에서 출발했습니다.\t100명 이상의 사우디 국민이 미국을 떠났다.\tentailment\n",
            "영공이 재개된 후, 대부분 사우디 국민인 160명이 탑승한 9대의 전세 항공편이 9월 14일과 24일 사이에 미국에서 출발했습니다.\t영공은 10월 말까지 다시 열리지 않았다.\tcontradiction\n",
            "영공이 재개된 후, 대부분 사우디 국민인 160명이 탑승한 9대의 전세 항공편이 9월 14일과 24일 사이에 미국에서 출발했습니다.\t또한 수십 명의 영국 국민이 그 나라를 떠났다.\tneutral\n",
            "우리는 모든 국가에 우리와 함께 하라고 요구한다.\t우리는 적어도 우리와 함께할 10개국이 필요하다.\tneutral\n",
            "우리는 모든 국가에 우리와 함께 하라고 요구한다.\t우리는 전 세계의 도움이 필요하다.\tentailment\n",
            "우리는 모든 국가에 우리와 함께 하라고 요구한다.\t우리 스스로 할 것이다.\tcontradiction\n",
            "또한 Khallad와 Mihdhar 사이에 링크가 있다는 것을 의미했기 때문에, Mihdhar가 훨씬 의심스러워 보였습니다.\t칼라드는 중동에서 미하르의 교육자금을 지원했었다.\tneutral\n",
            "또한 Khallad와 Mihdhar 사이에 링크가 있다는 것을 의미했기 때문에, Mihdhar가 훨씬 의심스러워 보였습니다.\t칼라드는 미하르와 연관되어 있었다.\tentailment\n",
            "또한 Khallad와 Mihdhar 사이에 링크가 있다는 것을 의미했기 때문에, Mihdhar가 훨씬 의심스러워 보였습니다.\t아무도 칼라드와 미하르의 관계를 찾을 수 없었다.\tcontradiction\n",
            "제3자는 직원들이 이전에 911을 통해서만 올 수 있었던 FDNY로부터 반대의 조언을 받았다고 경찰청에 알렸다.\tFDNY와 경찰은 모두 대중과 의사소통하기 위해 동일한 시스템을 사용하고 있었다.\tcontradiction\n",
            "제3자는 직원들이 이전에 911을 통해서만 올 수 있었던 FDNY로부터 반대의 조언을 받았다고 경찰청에 알렸다.\tFDNY와 경찰국은 모두에게 같은 조언을 해주지 않았다.\tentailment\n",
            "제3자는 직원들이 이전에 911을 통해서만 올 수 있었던 FDNY로부터 반대의 조언을 받았다고 경찰청에 알렸다.\t경찰은 소방서가 구조 작업을 기다리라고 말하는 동안 민간인들에게 그 지역을 대피하라고 말하고 있었다.\tneutral\n",
            "터미널의 사람들은 대피되었고 경찰은 남자의 체크백에서 여러가지의 총기 부품, 권총 탄약 및 군사 장비들을 발견했습니다.\t경찰은 그 남자의 위탁 수하물에서 생수병을 발견했다.\tneutral\n",
            "터미널의 사람들은 대피되었고 경찰은 남자의 체크백에서 여러가지의 총기 부품, 권총 탄약 및 군사 장비들을 발견했습니다.\t경찰은 터미널을 폐쇄한 후 그 남자의 위탁 수하물에서 다양한 물건들을 발견했다.\tentailment\n",
            "터미널의 사람들은 대피되었고 경찰은 남자의 체크백에서 여러가지의 총기 부품, 권총 탄약 및 군사 장비들을 발견했습니다.\t그 남자의 위탁 수하물에는 옷만 들어 있었고 다른 것은 아무것도 없었다.\tcontradiction\n",
            "6시 45분에서 7시 40분 사이에 아타와 오마리는 사탐 알 수카미, 와일 알 셰리, 왈리드 알 셰리와 함께 로스앤젤레스행 아메리칸 항공 11편에 체크인하여 탑승했다.\t아타와 오마리는 창가 좌석에 앉아 있었고 다른 사람들은 복도 좌석에 앉아 있었다.\tneutral\n",
            "6시 45분에서 7시 40분 사이에 아타와 오마리는 사탐 알 수카미, 와일 알 셰리, 왈리드 알 셰리와 함께 로스앤젤레스행 아메리칸 항공 11편에 체크인하여 탑승했다.\t그들은 비행기에 탑승하려고 시도했지만 와일 알 쉐리는 보안에 의해 구금되었다.\tcontradiction\n",
            "6시 45분에서 7시 40분 사이에 아타와 오마리는 사탐 알 수카미, 와일 알 셰리, 왈리드 알 셰리와 함께 로스앤젤레스행 아메리칸 항공 11편에 체크인하여 탑승했다.\t그들은 8시 전에 LA 행 비행기를 탔다.\tentailment\n",
            "소련의 군사 위협이 끝난 후 국가 안보에 대한 미국의 지출이 삭감됨에 따라 미국 국민은 평화 배당을 즐기기를 희망했다.\t소련의 위협이 끝나자 미국은 대규모 군사력 증강에 착수했다.\tcontradiction\n",
            "소련의 군사 위협이 끝난 후 국가 안보에 대한 미국의 지출이 삭감됨에 따라 미국 국민은 평화 배당을 즐기기를 희망했다.\t국방 예산은 연간 500억 달러 이상 삭감되었다.\tneutral\n",
            "소련의 군사 위협이 끝난 후 국가 안보에 대한 미국의 지출이 삭감됨에 따라 미국 국민은 평화 배당을 즐기기를 희망했다.\t소련의 군사적 위협이 끝나자 미국은 국가 안보 지출을 줄였다.\tentailment\n",
            "물리적 검색을 위한 테스트 결과가 전국 평균을 초과했지만 금속 탐지기와 X 선 결과는 모두 평균 이하였습니다.\t물리적인 수색은 밀수품을 찾을 가능성이 더 높았다.\tneutral\n",
            "물리적 검색을 위한 테스트 결과가 전국 평균을 초과했지만 금속 탐지기와 X 선 결과는 모두 평균 이하였습니다.\t금속 탐지기 결과는 전국 평균보다 낮았다.\tentailment\n",
            "물리적 검색을 위한 테스트 결과가 전국 평균을 초과했지만 금속 탐지기와 X 선 결과는 모두 평균 이하였습니다.\t엑스레이 검사 결과는 전국 평균보다 훨씬 높았다.\tcontradiction\n",
            "지역 신문과 알 자지라와 같은 영향력 있는 몇몇 위성 방송사들은 미국을 반 무슬림으로 묘사하는 지하디스트 테마를 강화합니다.\t모든 미국 신문은 친이슬람처럼 들려야 한다.\tcontradiction\n",
            "지역 신문과 알 자지라와 같은 영향력 있는 몇몇 위성 방송사들은 미국을 반 무슬림으로 묘사하는 지하디스트 테마를 강화합니다.\t애리조나의 몇몇 신문들은 반이슬람처럼 들린다.\tneutral\n",
            "지역 신문과 알 자지라와 같은 영향력 있는 몇몇 위성 방송사들은 미국을 반 무슬림으로 묘사하는 지하디스트 테마를 강화합니다.\t일부 신문들은 반이슬람 미사여구를 퍼뜨렸다.\tentailment\n",
            "국경선 검열 시스템은 사람들을 효율적으로 점검하고 친구들을 환영해야 한다.\t국경에서의 심사 과정은 또한 생산적이면서도 환영받아야 한다.\tentailment\n",
            "국경선 검열 시스템은 사람들을 효율적으로 점검하고 친구들을 환영해야 한다.\t국경을 넘나드는 것에 대해 다루는 동안 우리는 즐거운 시간을 보낼 시간이 없다.\tcontradiction\n",
            "국경선 검열 시스템은 사람들을 효율적으로 점검하고 친구들을 환영해야 한다.\t우리는 모든 사람을 똑같이 심사해야 하고 따라서 그들이 마땅히 받아야 할 존중으로 모든 사람을 대해야 한다.\tneutral\n",
            "그 결과 미국이나 사우디 국민 모두 중동 평화 과정을 촉진하기 위한 미국의 전략에서 사우디의 역할을 포함하여 양국 관계의 모든 차원을 인정하지 않았다.\t사우디와 미국은 함께 일했다.\tentailment\n",
            "그 결과 미국이나 사우디 국민 모두 중동 평화 과정을 촉진하기 위한 미국의 전략에서 사우디의 역할을 포함하여 양국 관계의 모든 차원을 인정하지 않았다.\t사우디는 미국 특사를 초청하여 중동 평화 프로젝트에 참여하도록 했다.\tneutral\n",
            "그 결과 미국이나 사우디 국민 모두 중동 평화 과정을 촉진하기 위한 미국의 전략에서 사우디의 역할을 포함하여 양국 관계의 모든 차원을 인정하지 않았다.\t사우디는 미국과의 협력을 거부하고 대신 폭력을 가했다.\tcontradiction\n",
            "존 맥러플린 중앙정보국 부국장은 테넷이 브리핑을 받기 며칠 전에 무사우이에 관해 들었다고 증언했지만 브리핑의 구체적인 날짜는 기억하지 못했다.\t맥러플린은 27년 동안 중앙정보부 부국장을 지냈다.\tneutral\n",
            "존 맥러플린 중앙정보국 부국장은 테넷이 브리핑을 받기 며칠 전에 무사우이에 관해 들었다고 증언했지만 브리핑의 구체적인 날짜는 기억하지 못했다.\t맥러플린은 중앙정보부 부국장이다.\tentailment\n",
            "존 맥러플린 중앙정보국 부국장은 테넷이 브리핑을 받기 며칠 전에 무사우이에 관해 들었다고 증언했지만 브리핑의 구체적인 날짜는 기억하지 못했다.\t맥러플린은 FDA의 책임자다.\tcontradiction\n",
            "주요 대응 기관은 FDNY 였고 다른 대응 기관이 지역, 연방, 양주 및 주 기관이 지원 역할을 수행한 것은 분명했습니다.\t많은 기관들이 FDNY의 대응을 지지했다.\tentailment\n",
            "주요 대응 기관은 FDNY 였고 다른 대응 기관이 지역, 연방, 양주 및 주 기관이 지원 역할을 수행한 것은 분명했습니다.\tFDNY는 지역, 연방, 두 개의 주 및 주 기관들이 도움을 주기를 원하지 않았다.\tneutral\n",
            "주요 대응 기관은 FDNY 였고 다른 대응 기관이 지역, 연방, 양주 및 주 기관이 지원 역할을 수행한 것은 분명했습니다.\tFDNY가 유일한 책임자는 아니었습니다; 다른 사람들도 그 정도의 통제권을 가지고 있다.\tcontradiction\n",
            "Atta 또는 Shehhi가 6월에 추가 비행 훈련을 받았다는 징후는 없습니다.\t아타와 셰히는 5월에 비행 인증을 받았다.\tneutral\n",
            "Atta 또는 Shehhi가 6월에 추가 비행 훈련을 받았다는 징후는 없습니다.\t아타와 셰히가 6월에 더 나은 조종사가 되기 위해 열심히 노력했다는 증거가 있다.\tcontradiction\n",
            "Atta 또는 Shehhi가 6월에 추가 비행 훈련을 받았다는 징후는 없습니다.\t우리는 아타와 셰히가 6월에 비행 훈련을 계속했다고 의심하지 않는다.\tentailment\n",
            "브리핑을 작성한 CTC 분석가는 지난 4년 동안 보고서를 작성했습니다.\tCTC 분석가는 지난달에 밝혀진 정보에 대해서만 브리핑을 했다.\tcontradiction\n",
            "브리핑을 작성한 CTC 분석가는 지난 4년 동안 보고서를 작성했습니다.\t그 분석가는 CTC에서 10년 동안 일해 왔다.\tneutral\n",
            "브리핑을 작성한 CTC 분석가는 지난 4년 동안 보고서를 작성했습니다.\t분석가는 문서 초안을 만들기 위해 여러 보고서를 사용했다.\tentailment\n",
            "부시 대통령은 8월 4일 무샤라프 대통령에게 테러에 대한 지지를 요청하고 파키스탄이 알 카에다에 적극적으로 참여할 것을 촉구했다.\t부시 대통령은 무샤라프 대통령과 아무런 접촉도 없었다.\tcontradiction\n",
            "부시 대통령은 8월 4일 무샤라프 대통령에게 테러에 대한 지지를 요청하고 파키스탄이 알 카에다에 적극적으로 참여할 것을 촉구했다.\t부시 대통령은 8월에 무샤라프 대통령에게 편지를 썼다.\tentailment\n",
            "부시 대통령은 8월 4일 무샤라프 대통령에게 테러에 대한 지지를 요청하고 파키스탄이 알 카에다에 적극적으로 참여할 것을 촉구했다.\t무샤라프 대통령은 즉시 부시 대통령에게 대답했다.\tneutral\n",
            "Mihdhar는 뉴욕시의 메리어트 호텔로 의도된 주소를 주었지만 대신 다른 뉴욕 호텔에서 하룻밤을 보냈습니다.\t미하르는 그가 묵겠다고 이야기한 호텔에 머물지 않았다.\tentailment\n",
            "Mihdhar는 뉴욕시의 메리어트 호텔로 의도된 주소를 주었지만 대신 다른 뉴욕 호텔에서 하룻밤을 보냈습니다.\t미하르는 뉴욕의 메리어트 호텔에서 멋진 숙박을 했다.\tcontradiction\n",
            "Mihdhar는 뉴욕시의 메리어트 호텔로 의도된 주소를 주었지만 대신 다른 뉴욕 호텔에서 하룻밤을 보냈습니다.\t미하르는 원래 메리어트에 머물 생각이었지만, 막판에 도망쳐 연인과 함께 머물게 되었다.\tneutral\n",
            "다른 증거들은 그녀의 설명을 확증한다.\t그녀의 남편은 그녀의 이야기를 확증할 수 있다.\tneutral\n",
            "다른 증거들은 그녀의 설명을 확증한다.\t그녀가 한 말을 뒷받침하는 증거가 들어 있는 다른 정보가 있다.\tentailment\n",
            "다른 증거들은 그녀의 설명을 확증한다.\t우리는 그녀의 설명을 믿을 이유가 전혀 없다.\tcontradiction\n",
            "그는 당시 형사 영장에 대한 충분한 근거가 있다고 믿었습니다.\t그는 그 재산이 불법 폭탄 제조 작업을 은폐하기 위해 사용되고 있다고 의심했다.\tneutral\n",
            "그는 당시 형사 영장에 대한 충분한 근거가 있다고 믿었습니다.\t그는 의심스러운 일이 전혀 없다고 확신했다.\tcontradiction\n",
            "그는 당시 형사 영장에 대한 충분한 근거가 있다고 믿었습니다.\t범죄가 저질러지고 있다는 의심을 품을 만한 이유가 있었다.\tentailment\n",
            "그것은 국내 위협이 있다는 것을 암시하지 않았다.\t그것은 아일랜드에서 위협을 암시했지만, 미국에는 위협하지 않았다.\tneutral\n",
            "그것은 국내 위협이 있다는 것을 암시하지 않았다.\t국내 위협이 있었다고 믿을 이유가 없었다.\tentailment\n",
            "그것은 국내 위협이 있다는 것을 암시하지 않았다.\t우리는 곧 테러 경보가 발생될 것이라고 의심할 만한 충분한 이유가 있었다.\tcontradiction\n",
            "그러나 그의 시간은 새로운 공무원을 배치하고 새로운 국방 정책, 4년마다 열리는 국방 검토, 국방 계획 지침 및 기존 비상 계획의 기초 문서 작업을 하는 데 소비되었습니다.\t그는 이 프로젝트에 참여하면서 여러 번의 긴 휴가를 보낼 수 있는 많은 자유 시간을 가졌습니다.\tcontradiction\n",
            "그러나 그의 시간은 새로운 공무원을 배치하고 새로운 국방 정책, 4년마다 열리는 국방 검토, 국방 계획 지침 및 기존 비상 계획의 기초 문서 작업을 하는 데 소비되었습니다.\t새로운 공무원을 취임시키고 국방 정책을 연구하는 것은 시간이 오래 걸리는 프로젝트였습니다.\tentailment\n",
            "그러나 그의 시간은 새로운 공무원을 배치하고 새로운 국방 정책, 4년마다 열리는 국방 검토, 국방 계획 지침 및 기존 비상 계획의 기초 문서 작업을 하는 데 소비되었습니다.\t최종 국방 정책 문서는 500페이지가 넘었다.\tneutral\n",
            "미국에서 모금된 일부 자금이 알카에다 또는 그 계열 조직으로 옮겨졌을지라도 미국은 알카에다 자금의 주요 원천이 아니었다.\t영국도 알카에다에 돈을 주었다.\tneutral\n",
            "미국에서 모금된 일부 자금이 알카에다 또는 그 계열 조직으로 옮겨졌을지라도 미국은 알카에다 자금의 주요 원천이 아니었다.\t미국은 확실히 알카에다에게 돈을 주지 않았다.\tcontradiction\n",
            "미국에서 모금된 일부 자금이 알카에다 또는 그 계열 조직으로 옮겨졌을지라도 미국은 알카에다 자금의 주요 원천이 아니었다.\t미국은 알카에다에게 돈을 주었을지도 모른다.\tentailment\n",
            "현재 보안 요구 사항은 기관들 간의 과분류와 과도한 정보 구분을 촉진한다.\t보안 요구 사항은 이전보다 훨씬 더 엄격하다.\tneutral\n",
            "현재 보안 요구 사항은 기관들 간의 과분류와 과도한 정보 구분을 촉진한다.\t보안 요구 사항은 정보를 너무 많이 구분하지 않는다.\tcontradiction\n",
            "현재 보안 요구 사항은 기관들 간의 과분류와 과도한 정보 구분을 촉진한다.\t현재 사용 중인 보안 요구 사항으로 인해 정보가 과도하게 분류된다.\tentailment\n",
            "보스턴 두 번째가 방금 무역 센터에 충돌했다.\t무역 센터가 기차에 치였다.\tneutral\n",
            "보스턴 두 번째가 방금 무역 센터에 충돌했다.\t무역 센터가 타격을 입었습니다.\tentailment\n",
            "보스턴 두 번째가 방금 무역 센터에 충돌했다.\t무역 센터는 타격을 입지 않았다.\tcontradiction\n",
            "국방 정보부가 DIA 국장의 책임을 높이기 위해 재편된다면, 그 사람은 적절한 관리가 될 수 있다.\tDIA 국장은 책임과 관련하여 가장 낮은 직책이다.\tneutral\n",
            "국방 정보부가 DIA 국장의 책임을 높이기 위해 재편된다면, 그 사람은 적절한 관리가 될 수 있다.\tDIA 국장은 국방정보와 전혀 관련이 없다.\tcontradiction\n",
            "국방 정보부가 DIA 국장의 책임을 높이기 위해 재편된다면, 그 사람은 적절한 관리가 될 수 있다.\tDIA 국장는 국방정보에 관여하고 있다.\tentailment\n",
            "특히 헬파이어 미사일에는 수많은 기술적 문제가 있었다.\t헬파이어 미사일은 기술적 오류가 있었다.\tentailment\n",
            "특히 헬파이어 미사일에는 수많은 기술적 문제가 있었다.\t헬파이어 미사일은 완벽하게 작동했다.\tcontradiction\n",
            "특히 헬파이어 미사일에는 수많은 기술적 문제가 있었다.\t다른 종류의 미사일에도 기술적 오류가 있었다.\tneutral\n",
            "줄리아니 시장은 경찰 및 소방 위원 및 OEM 이사와 함께 북쪽으로 빠르게 이동하여 경찰 아카데미에 비상 작전 지휘부를 설립했습니다.\t경찰학교에 비상 지휘소가 설치되었다.\tentailment\n",
            "줄리아니 시장은 경찰 및 소방 위원 및 OEM 이사와 함께 북쪽으로 빠르게 이동하여 경찰 아카데미에 비상 작전 지휘부를 설립했습니다.\t결국 24명 이상의 사람들이 지휘소의 유인에 관여했다.\tneutral\n",
            "줄리아니 시장은 경찰 및 소방 위원 및 OEM 이사와 함께 북쪽으로 빠르게 이동하여 경찰 아카데미에 비상 작전 지휘부를 설립했습니다.\t시장은 즉시 OEM 국장의 권고에 따라 즉시 주를 대피시켰다.\tcontradiction\n",
            "마지막으로, 이전에 창문에서 사우스 타워가 무너지는 것을 본 소방관 한 명이 이 탑이 떨어질 수 있기 때문에 모두 떠날 수 있도록 권고했습니다.\t한 소방관은 이 탑이 무너질 수 있다고 느꼈다.\tentailment\n",
            "마지막으로, 이전에 창문에서 사우스 타워가 무너지는 것을 본 소방관 한 명이 이 탑이 떨어질 수 있기 때문에 모두 떠날 수 있도록 권고했습니다.\t소방관은 탑이 무너지고 있다는 소식을 상관에게 전했다.\tneutral\n",
            "마지막으로, 이전에 창문에서 사우스 타워가 무너지는 것을 본 소방관 한 명이 이 탑이 떨어질 수 있기 때문에 모두 떠날 수 있도록 권고했습니다.\t소방관은 그들이 있는 탑이 안전하다고 확신했다.\tcontradiction\n",
            "미국에서는 안전한 신원 확인이 시작되어야 한다.\t미국에서는 보안 ID를 사용하지 않아야 한다.\tcontradiction\n",
            "미국에서는 안전한 신원 확인이 시작되어야 한다.\t보안 ID는 미국에서 여러 가지를 더 안전하게 만들 것이다.\tneutral\n",
            "미국에서는 안전한 신원 확인이 시작되어야 한다.\t미국에서는 보안 ID가 있어야 한다.\tentailment\n",
            "빈 라덴이 공격을 지휘한 것에 대한 증거를 찾기가 어렵습니다.\t빈 라덴은 공격을 지휘하는 데 관여하지 않았다.\tneutral\n",
            "빈 라덴이 공격을 지휘한 것에 대한 증거를 찾기가 어렵습니다.\t빈 라덴이 책임이 있다는 것을 증명하기는 어려웠다.\tentailment\n",
            "빈 라덴이 공격을 지휘한 것에 대한 증거를 찾기가 어렵습니다.\t빈 라덴이 공격을 지휘했다는 확실한 증거가 있었다.\tcontradiction\n",
            "우리는 언론에서 제시된 바와 같이 유세프의 체포가 일어난 이슬라마바드의 게스트하우스에 KSM이 참석했다는 증거를 발견하지 못했다.\tKSM은 게스트하우스에 간 적이 없다.\tneutral\n",
            "우리는 언론에서 제시된 바와 같이 유세프의 체포가 일어난 이슬라마바드의 게스트하우스에 KSM이 참석했다는 증거를 발견하지 못했다.\t유세프는 체포되었다.\tentailment\n",
            "우리는 언론에서 제시된 바와 같이 유세프의 체포가 일어난 이슬라마바드의 게스트하우스에 KSM이 참석했다는 증거를 발견하지 못했다.\t유세프는 체포된 적이 없었다.\tcontradiction\n",
            "약 10시 15분에 주차장에서 웨스트 스트리트로 돌아온 FDNY 부서장과 안전 책임자는 사우스 타워가 무너졌음을 확인했습니다.\tFDNY 부서장은 사우스 타워가 붕괴되는 것을 보았다.\tneutral\n",
            "약 10시 15분에 주차장에서 웨스트 스트리트로 돌아온 FDNY 부서장과 안전 책임자는 사우스 타워가 무너졌음을 확인했습니다.\t사우스 타워는 10시 15분 전에 무너졌습니다.\tentailment\n",
            "약 10시 15분에 주차장에서 웨스트 스트리트로 돌아온 FDNY 부서장과 안전 책임자는 사우스 타워가 무너졌음을 확인했습니다.\t사우스 타워는 무너지지 않았다.\tcontradiction\n",
            "필립 젤리코우가 이끄는 헌신적인 전문 직원들은 이 보고서의 완성에 무수한 시간을 헌신했으며, 이 모든 것을 헌신하는 임무를 수행하기 위한 다른 중요한 노력을 제쳐놓았다.\t필립 젤리코와 그의 직원들은 보고서를 준비하는데 많은 시간을 보냈다.\tentailment\n",
            "필립 젤리코우가 이끄는 헌신적인 전문 직원들은 이 보고서의 완성에 무수한 시간을 헌신했으며, 이 모든 것을 헌신하는 임무를 수행하기 위한 다른 중요한 노력을 제쳐놓았다.\t팀은 보고서를 빨리 작성하기 위해 데이터를 신속하게 처리했다.\tcontradiction\n",
            "필립 젤리코우가 이끄는 헌신적인 전문 직원들은 이 보고서의 완성에 무수한 시간을 헌신했으며, 이 모든 것을 헌신하는 임무를 수행하기 위한 다른 중요한 노력을 제쳐놓았다.\t필립 젤리코의 직원은 20명이나 되었다.\tneutral\n",
            "그는 또한 럼즈펠드 장관에게 탈레반에 대한 군사 계획을 개발하라고 명령했다.\t탈레반에 대항하는 군사 계획이 필요했다.\tentailment\n",
            "그는 또한 럼즈펠드 장관에게 탈레반에 대한 군사 계획을 개발하라고 명령했다.\t아무도 군사 계획의 개발을 명령하지 않았다.\tcontradiction\n",
            "그는 또한 럼즈펠드 장관에게 탈레반에 대한 군사 계획을 개발하라고 명령했다.\t럼즈펠드 장관은 즉시 군사 계획을 개발했다.\tneutral\n",
            "정보 보고서, 수감자 심문 2001년 12월 2일.\t억류자가 심문을 받았다.\tentailment\n",
            "정보 보고서, 수감자 심문 2001년 12월 2일.\t억류자는 심문을 받지 않았다.\tcontradiction\n",
            "정보 보고서, 수감자 심문 2001년 12월 2일.\t정보 보고서는 2001년 12월 3일에 작성되었다.\tneutral\n",
            "앞서 논의했듯이 제인이 정보를 공유할 수 없다고 결정한 이유는 미하르에 대한 초기 정보가 NSA에 의해 분석되었기 때문입니다.\t제인은 정보를 공유하고 싶지 않았다.\tneutral\n",
            "앞서 논의했듯이 제인이 정보를 공유할 수 없다고 결정한 이유는 미하르에 대한 초기 정보가 NSA에 의해 분석되었기 때문입니다.\t제인은 즉시 정보를 공유했다.\tcontradiction\n",
            "앞서 논의했듯이 제인이 정보를 공유할 수 없다고 결정한 이유는 미하르에 대한 초기 정보가 NSA에 의해 분석되었기 때문입니다.\tNSA는 미하르에 대한 정보를 조사했다.\tentailment\n",
            "한자 지역 고등법원, 모타사데크 재판, 2월 19일, 2003, pp.10-11에 의한 판결 및 선고 명령 요약.\t선고 명령은 한자 지역의 고등 법원에 있는 7명의 판사가 내렸다.\tneutral\n",
            "한자 지역 고등법원, 모타사데크 재판, 2월 19일, 2003, pp.10-11에 의한 판결 및 선고 명령 요약.\t선고 명령은 2003년에 내려졌다.\tentailment\n",
            "한자 지역 고등법원, 모타사데크 재판, 2월 19일, 2003, pp.10-11에 의한 판결 및 선고 명령 요약.\t선고 명령은 내려지지 않았다.\tcontradiction\n",
            "FBI 요원은 외국 정부로부터 콜 폭탄 테러를 지시한 것으로 추정되는 사람의 사진을 얻었다.\t외국 정부에서 콜 폭탄 테러에 연루된 사람의 사진을 갖고 있었다.\tentailment\n",
            "FBI 요원은 외국 정부로부터 콜 폭탄 테러를 지시한 것으로 추정되는 사람의 사진을 얻었다.\t콜 폭탄 테러에 연루된 사람을 사진으로 찍은 사람은 아무도 없었다.\tcontradiction\n",
            "FBI 요원은 외국 정부로부터 콜 폭탄 테러를 지시한 것으로 추정되는 사람의 사진을 얻었다.\t사진은 약간 흐릿했지만, 그 사람의 얼굴은 알아볼 수 있었다.\tneutral\n",
            "애국자 법의 가장 논란이 되는 조항 중 일부는 2005년 말에 일몰을 맞이합니다.\t애국자 법의 일부 논란이 되는 조항은 만료되기 전에 의회에서 갱신될 가능성이 크다.\tneutral\n",
            "애국자 법의 가장 논란이 되는 조항 중 일부는 2005년 말에 일몰을 맞이합니다.\t애국자 법에는 몇 가지 논란이 되는 조항이 포함되어 있었다.\tentailment\n",
            "애국자 법의 가장 논란이 되는 조항 중 일부는 2005년 말에 일몰을 맞이합니다.\t애국자 법 전체가 적어도 2010년까지 유효할 것이다.\tcontradiction\n",
            "미국은 소말리아, 보스니아, 코소보, 아프가니스탄, 이라크에서 폭군과 범죄자들에 관해 이슬람교도들을 보호했고 여전히 보호하고 있다.\t소말리아의 이슬람교도들은 때때로 폭군들에게 위협을 받는다.\tentailment\n",
            "미국은 소말리아, 보스니아, 코소보, 아프가니스탄, 이라크에서 폭군과 범죄자들에 관해 이슬람교도들을 보호했고 여전히 보호하고 있다.\t미국은 보스니아를 지배하는 폭군을 전적으로 지지한다.\tcontradiction\n",
            "미국은 소말리아, 보스니아, 코소보, 아프가니스탄, 이라크에서 폭군과 범죄자들에 관해 이슬람교도들을 보호했고 여전히 보호하고 있다.\t이 폭군들은 보통 녹색 모자를 쓰는 것을 좋아한다.\tneutral\n",
            "그들은 세계 무역 센터, 미 국방부 예술, 국회 의사당 및 백악관 정치에 관한 다양한 건축 분야에 대해 토론하는 학생인 척하면서 코드 언어로 목표를 논의했습니다.\t그들은 밖으로 나와서 무슨 랜드마크에 대해 이야기하고 있는지 말했다.\tcontradiction\n",
            "그들은 세계 무역 센터, 미 국방부 예술, 국회 의사당 및 백악관 정치에 관한 다양한 건축 분야에 대해 토론하는 학생인 척하면서 코드 언어로 목표를 논의했습니다.\t그들은 랜드마크의 건축양식에 대해 이야기하고 그것을 코드 워드에 사용했다.\tentailment\n",
            "그들은 세계 무역 센터, 미 국방부 예술, 국회 의사당 및 백악관 정치에 관한 다양한 건축 분야에 대해 토론하는 학생인 척하면서 코드 언어로 목표를 논의했습니다.\t그들은 암호로 폭파하고 싶은 목표물에 대해 이야기했다.\tneutral\n",
            "그녀와의 관계는 미국에서 그의 시간 내내 가깝게 유지되었다.\t그는 미국 여성과 관계를 가지고 있었다.\tneutral\n",
            "그녀와의 관계는 미국에서 그의 시간 내내 가깝게 유지되었다.\t그는 미국에 가본 적이 없었다.\tcontradiction\n",
            "그녀와의 관계는 미국에서 그의 시간 내내 가깝게 유지되었다.\t그는 미국에서 시간을 보냈다.\tentailment\n",
            "5장에서는 2000년 1월 나와프 알 하즈미, 칼리드 알 미하르 등 동남아시아 여행에 관해 비행기 작전의 첫 번째 부분에 관해 기술했다.\t칼리드 알 미하르는 여행한 적이 없다.\tcontradiction\n",
            "5장에서는 2000년 1월 나와프 알 하즈미, 칼리드 알 미하르 등 동남아시아 여행에 관해 비행기 작전의 첫 번째 부분에 관해 기술했다.\t나와프 알 하즈미는 2000년 1월에 여행했다.\tentailment\n",
            "5장에서는 2000년 1월 나와프 알 하즈미, 칼리드 알 미하르 등 동남아시아 여행에 관해 비행기 작전의 첫 번째 부분에 관해 기술했다.\t나와프 알 하즈미는 다섯 개의 다른 나라로 여행을 갔다.\tneutral\n",
            "Hazmi의 동거인은 이 시간 경에 샌디에고 공항으로 설명할 수 없는 여행을 떠난 것을 기억합니다.\t하즈미의 친구는 기억력이 좋다.\tentailment\n",
            "Hazmi의 동거인은 이 시간 경에 샌디에고 공항으로 설명할 수 없는 여행을 떠난 것을 기억합니다.\t하즈미의 하우마트는 샌디에이고 공항에 대해 들어본 적이 없다.\tcontradiction\n",
            "Hazmi의 동거인은 이 시간 경에 샌디에고 공항으로 설명할 수 없는 여행을 떠난 것을 기억합니다.\t하즈미의 동거인은 수상했다.\tneutral\n",
            "여기서 간단히 요약해 보겠습니다.\t이제 전체 사건을 자세히 설명할 것이다.\tcontradiction\n",
            "여기서 간단히 요약해 보겠습니다.\t이 요약은 시간이 많이 걸리지 않을 것이다.\tentailment\n",
            "여기서 간단히 요약해 보겠습니다.\t우리는 월요일부터 수요일까지만 그 사건들을 요약할 것이다.\tneutral\n",
            "구조 작업은 FDNY 보고서, 부서장 보고, Anthony L. Fusco, in Manning, ed.\t안토니 L. 푸스코 부서장은 구조 노력에 대한 보고서를 작성했다.\tentailment\n",
            "구조 작업은 FDNY 보고서, 부서장 보고, Anthony L. Fusco, in Manning, ed.\t그 보고서에는 구조 노력에 대한 상세한 내용이 담겨 있었다.\tneutral\n",
            "구조 작업은 FDNY 보고서, 부서장 보고, Anthony L. Fusco, in Manning, ed.\t보고할만한 구조 노력은 없었다.\tcontradiction\n",
            "그 결과, 그의 급여는 인상되었고 그의 다른 수당은 약 465 달러에서 월 3,925 달러로 크게 증가하여 2000년 12월까지 그 수준에 머물렀다.\t그는 급여와 수당이 크게 올랐다.\tentailment\n",
            "그 결과, 그의 급여는 인상되었고 그의 다른 수당은 약 465 달러에서 월 3,925 달러로 크게 증가하여 2000년 12월까지 그 수준에 머물렀다.\t그는 여행을 하기 위해 더 많은 돈이 필요했다.\tneutral\n",
            "그 결과, 그의 급여는 인상되었고 그의 다른 수당은 약 465 달러에서 월 3,925 달러로 크게 증가하여 2000년 12월까지 그 수준에 머물렀다.\t그의 월 소득은 줄었다.\tcontradiction\n",
            "수단이 테러 단체 지원 중단을 반복적으로 요구한 후 1993년 미국 정부는 이 나라를 테러의 국가 후원자로 지정했다.\t수단은 현금 지급과 훈련으로 테러리스트들을 지원했다.\tneutral\n",
            "수단이 테러 단체 지원 중단을 반복적으로 요구한 후 1993년 미국 정부는 이 나라를 테러의 국가 후원자로 지정했다.\t수단은 1993년에 테러 지원국으로 임명되었다.\tentailment\n",
            "수단이 테러 단체 지원 중단을 반복적으로 요구한 후 1993년 미국 정부는 이 나라를 테러의 국가 후원자로 지정했다.\t수단은 90년대 내내 테러리스트와의 싸움에서 지도자로 알려져 있었다.\tcontradiction\n",
            "NYPD 녹음, 특수작전부 라디오 채널, 2001년 9월 11일.\t녹음은 9월에 일부 무선 전송으로 이루어졌다.\tentailment\n",
            "NYPD 녹음, 특수작전부 라디오 채널, 2001년 9월 11일.\tNYPD는 2004년까지 무선 통신을 사용하려고 시도하지 않았다.\tcontradiction\n",
            "NYPD 녹음, 특수작전부 라디오 채널, 2001년 9월 11일.\t이러한 녹음은 민감한 내용이기 때문에 일반 대중에게 공개되지 않았습니다.\tneutral\n",
            "그의 핵심 인사들은 국가 안전 보장 이사회와 나머지 국가 안보 공동체와 거의 정보를 공유하지 않았다.\t그의 직원들은 국가 안보공동체와 약간의 정보를 공유했다.\tentailment\n",
            "그의 핵심 인사들은 국가 안전 보장 이사회와 나머지 국가 안보 공동체와 거의 정보를 공유하지 않았다.\t국가 안전보장이사회는 전체적이고 완전한 브리핑을 받았다.\tcontradiction\n",
            "그의 핵심 인사들은 국가 안전 보장 이사회와 나머지 국가 안보 공동체와 거의 정보를 공유하지 않았다.\t국가 안전보장이사회는 항공 여행에 대한 위협에 대해 더 많은 정보를 받았으면 좋겠다고 생각했다.\tneutral\n",
            "공격이 알 카에다와 관련이 있다고 결정되면서 책임은 뉴욕 필드 오피스로 옮겨졌습니다.\t플로리다 지부는 알 퀘이다와 관련이 있기 때문에 인계받았다.\tcontradiction\n",
            "공격이 알 카에다와 관련이 있다고 결정되면서 책임은 뉴욕 필드 오피스로 옮겨졌습니다.\t뉴욕 필드 오피스는 알카에다가 연루되었다고 결정했을 때 그것을 처리했다.\tentailment\n",
            "공격이 알 카에다와 관련이 있다고 결정되면서 책임은 뉴욕 필드 오피스로 옮겨졌습니다.\t뉴욕 필드 오피스가 구금 중인 모든 용의자들을 통제했다.\tneutral\n",
            "매년 5억 명 이상의 사람들이 합법적인 진입 지점에서 미국 국경을 넘으며, 그중 약 3억 3천만 명이 비시민입니다.\t5억 명 이상의 사람들이 진입 지점에서 국경을 넘는다.\tentailment\n",
            "매년 5억 명 이상의 사람들이 합법적인 진입 지점에서 미국 국경을 넘으며, 그중 약 3억 3천만 명이 비시민입니다.\t멕시코에서 미국으로 가는 사람은 5억 명 이상이다.\tneutral\n",
            "매년 5억 명 이상의 사람들이 합법적인 진입 지점에서 미국 국경을 넘으며, 그중 약 3억 3천만 명이 비시민입니다.\t매년 국경을 넘는 사람은 2만 명에 불과하다.\tcontradiction\n",
            "브루클린 배터리 터널에서 준비된 부대는 ibid를 참조하십시오.\t브루클린-배터리 터널은 이 시기에 버려졌다.\tcontradiction\n",
            "브루클린 배터리 터널에서 준비된 부대는 ibid를 참조하십시오.\t터널에는 여러 개의 부대가 있었다.\tentailment\n",
            "브루클린 배터리 터널에서 준비된 부대는 ibid를 참조하십시오.\t이 부대는 소방관과 지역 경찰로 구성되었다.\tneutral\n",
            "이 추측은 적어도 부분적으로는 이슬람 사원에서 극단주의 파벌의 지도력에 대한 Thumairy의 보고에 근거합니다.\t그 사원에는 극단주의 파벌들이 있었다.\tentailment\n",
            "이 추측은 적어도 부분적으로는 이슬람 사원에서 극단주의 파벌의 지도력에 대한 Thumairy의 보고에 근거합니다.\t이 파벌들은 모드크 회원의 절반 이상을 차지했다.\tneutral\n",
            "이 추측은 적어도 부분적으로는 이슬람 사원에서 극단주의 파벌의 지도력에 대한 Thumairy의 보고에 근거합니다.\tThumairy는 어떤 사원의 일부였던 것으로 알려져 있지 않다.\tcontradiction\n",
            "이사는 9/11 테러 이후 2년 이상 정보 공유 장벽을 제거하기 위한 전략이 없으며 이 주제에 대한 실무 그룹만 임명했습니다.\t정보 공유 장벽은 2년 후에도 여전히 제자리를 지키고 있었다.\tentailment\n",
            "이사는 9/11 테러 이후 2년 이상 정보 공유 장벽을 제거하기 위한 전략이 없으며 이 주제에 대한 실무 그룹만 임명했습니다.\t이사는 정보 공유 장벽을 완전히 제거해야 한다고 믿지 않았다.\tneutral\n",
            "이사는 9/11 테러 이후 2년 이상 정보 공유 장벽을 제거하기 위한 전략이 없으며 이 주제에 대한 실무 그룹만 임명했습니다.\t국장은 즉시 모든 정보 공유 장벽을 폐지했다.\tcontradiction\n",
            "충돌 시 제트 연료 불덩이가 분출하여 적어도 하나의 엘리베이터 뱅크를 격추 시켰습니다.\t불은 그 지역의 유리창 일부를 녹일 정도로 뜨거웠다.\tneutral\n",
            "충돌 시 제트 연료 불덩이가 분출하여 적어도 하나의 엘리베이터 뱅크를 격추 시켰습니다.\t불덩이는 적어도 하나의 엘리베이터 통로를 따라 내려갔다.\tentailment\n",
            "충돌 시 제트 연료 불덩이가 분출하여 적어도 하나의 엘리베이터 뱅크를 격추 시켰습니다.\t제트 연료는 지상에 고여 있었지만 점화되지 않았다.\tcontradiction\n",
            "운영자는 옥상 구조 작업을 수행할 수 없다는 정보를 제공받지 못했기 때문에 발신자에게 본질적으로 배제되었다고 조언할 수는 없었습니다.\t헬리콥터는 그 지역의 화재로 인해 지붕 근처에서 비행할 수 없었다.\tneutral\n",
            "운영자는 옥상 구조 작업을 수행할 수 없다는 정보를 제공받지 못했기 때문에 발신자에게 본질적으로 배제되었다고 조언할 수는 없었습니다.\t작업자들은 옥상 구조가 불가능하다는 것을 몰랐다.\tentailment\n",
            "운영자는 옥상 구조 작업을 수행할 수 없다는 정보를 제공받지 못했기 때문에 발신자에게 본질적으로 배제되었다고 조언할 수는 없었습니다.\t작업자들은 모든 사람이 지상에서 대피하도록 지시해야 한다는 것을 미리 알고 있었습니다.\tcontradiction\n",
            "9/11 테러범 4명이 2차 국경 수사에 투입됐으나 이를 인정했다.\t9/11 테러범들은 모두 국경 입국을 거부당했다.\tcontradiction\n",
            "9/11 테러범 4명이 2차 국경 수사에 투입됐으나 이를 인정했다.\t몇몇 공격자들은 추가 검사를 위해 신고되었다.\tentailment\n",
            "9/11 테러범 4명이 2차 국경 수사에 투입됐으나 이를 인정했다.\t그들은 웃긴 모자를 쓰고 있어서 추가 검사를 받았다.\tneutral\n",
            "이 노력은 9/11 이전에 진행되었으며 이는 크게 확대된 규모로 계속됩니다.\t9/11 이후 그 노력은 극적으로 증가했다.\tentailment\n",
            "이 노력은 9/11 이전에 진행되었으며 이는 크게 확대된 규모로 계속됩니다.\t9/11 이후 그 노력은 완전히 다른 전술을 위해 포기되었다.\tcontradiction\n",
            "이 노력은 9/11 이전에 진행되었으며 이는 크게 확대된 규모로 계속됩니다.\t9/11 이후 그 노력에 의해 자금은 120% 증가했다.\tneutral\n",
            "한 재무부 관리는 CIA의 자세를 외국 테러 자산 추적센터(FTATC)에 대한 유순한 방치라고 묘사했으며, CIA는 금융 추적이 제한적 유용성을 가지고 있다고 믿는 것으로 특징지었다.\t금융 추적은 주로 신용카드 영수증과 은행 내역을 조사하는 것을 포함한다.\tneutral\n",
            "한 재무부 관리는 CIA의 자세를 외국 테러 자산 추적센터(FTATC)에 대한 유순한 방치라고 묘사했으며, CIA는 금융 추적이 제한적 유용성을 가지고 있다고 믿는 것으로 특징지었다.\t일부 재무부 관리들은 CIA가 재정 추적을 중요하게 생각한다고 믿지 않았다.\tentailment\n",
            "한 재무부 관리는 CIA의 자세를 외국 테러 자산 추적센터(FTATC)에 대한 유순한 방치라고 묘사했으며, CIA는 금융 추적이 제한적 유용성을 가지고 있다고 믿는 것으로 특징지었다.\tCIA는 주요 테러 대응 도구로서 재정 추적을 의존했다.\tcontradiction\n",
            "미국 정부는 군사 정보를 포함한 군대에 대한 지출에 대한 많은 정보를 쉽게 제공합니다.\t미국 정부는 매년 70억 달러를 군사정보에 쓴다.\tneutral\n",
            "미국 정부는 군사 정보를 포함한 군대에 대한 지출에 대한 많은 정보를 쉽게 제공합니다.\t미국 정부는 그들의 군사정보에 돈을 쓴다.\tentailment\n",
            "미국 정부는 군사 정보를 포함한 군대에 대한 지출에 대한 많은 정보를 쉽게 제공합니다.\t미국 정부는 그들이 어떤 것에 얼마나 많은 돈을 쓰는지 누구에게도 말하지 않을 것이다.\tcontradiction\n",
            "대사관 폭탄 테러의 비극은 빈 라덴이 제기한 국가 안보 위협에 대한 정부 전반에 걸친 완전한 조사를 위한 기회를 제공했다.\t빈 라딘의 보안 위협은 대사관 폭탄 테러 이후 정부에 명백했어야 했다.\tentailment\n",
            "대사관 폭탄 테러의 비극은 빈 라덴이 제기한 국가 안보 위협에 대한 정부 전반에 걸친 완전한 조사를 위한 기회를 제공했다.\t대사관 폭탄테러로 15명이 사망했다.\tneutral\n",
            "대사관 폭탄 테러의 비극은 빈 라덴이 제기한 국가 안보 위협에 대한 정부 전반에 걸친 완전한 조사를 위한 기회를 제공했다.\t빈 라딘이 정부에 위협을 나타낸다는 징후는 전혀 없었다.\tcontradiction\n",
            "최초의 NYPD ESU 팀은 노스 타워의 웨스트 스트리트 레벨 로비에 입장하여 오전 9시 15분경에 등반을 시작할 준비를 했습니다.\tNYPD는 오전 10시 이후까지 북쪽 타워에 응답하지 못했다.\tcontradiction\n",
            "최초의 NYPD ESU 팀은 노스 타워의 웨스트 스트리트 레벨 로비에 입장하여 오전 9시 15분경에 등반을 시작할 준비를 했습니다.\t그 팀은 12명 이상의 사람들로 구성되어 있었다.\tneutral\n",
            "최초의 NYPD ESU 팀은 노스 타워의 웨스트 스트리트 레벨 로비에 입장하여 오전 9시 15분경에 등반을 시작할 준비를 했습니다.\t타워는 여전히 오전 9시 15분에 서 있었다.\tentailment\n",
            "아카데미의 강사의 반응은 FBI 수사 보고서, 제임스 밀턴 인터뷰, 4월을 참조하십시오.\t교관이 어떤 반응을 보였는지 아무도 모른다.\tcontradiction\n",
            "아카데미의 강사의 반응은 FBI 수사 보고서, 제임스 밀턴 인터뷰, 4월을 참조하십시오.\tFBI는 공을 가지고 노는 두 마리의 새끼 고양이의 비디오에 대한 강사의 반응에 관심이 있었다.\tneutral\n",
            "아카데미의 강사의 반응은 FBI 수사 보고서, 제임스 밀턴 인터뷰, 4월을 참조하십시오.\t아카데미의 강사는 제임스 밀턴이었다.\tentailment\n",
            "당신의 선물은 우리의 85번째 시즌을 축하하는 데 중요하다.\t우리가 받는 모든 선물은 당신의 선물만큼 중요하지 않다.\tneutral\n",
            "당신의 선물은 우리의 85번째 시즌을 축하하는 데 중요하다.\t우리는 당신의 선물에 전혀 신경 쓰지 않는다.\tcontradiction\n",
            "당신의 선물은 우리의 85번째 시즌을 축하하는 데 중요하다.\t우리는 80년 이상 이 일을 해오고 있다.\tentailment\n",
            "우리의 로스쿨이 계속해서 영향력과 위상 속에서 성장하기 위해서는 사적 지원과 대학 자금의 파트너십이 필요하다.\t우리 로스쿨은 민간자금에만 의존하고 있다.\tcontradiction\n",
            "우리의 로스쿨이 계속해서 영향력과 위상 속에서 성장하기 위해서는 사적 지원과 대학 자금의 파트너십이 필요하다.\t우리 로스쿨은 멜린다와 빌 게이츠 재단으로부터 부분적인 지원을 받고 있다.\tneutral\n",
            "우리의 로스쿨이 계속해서 영향력과 위상 속에서 성장하기 위해서는 사적 지원과 대학 자금의 파트너십이 필요하다.\t우리 로스쿨은 계속 성장하려면 돈이 필요하다.\tentailment\n",
            "가장 중요한 것은 IRT에서 공연에 참석하는 것이 단순히 현장 학습이 아니라는 사실입니다.\tIRT에서 공연에 참석하는 것은 단지 공원에서의 재미있는 산책만은 아니다.\tentailment\n",
            "가장 중요한 것은 IRT에서 공연에 참석하는 것이 단순히 현장 학습이 아니라는 사실입니다.\tIRT에서 공연에 참석하는 것은 어려운 일과 생각에서 나올 수 있는 훌륭하고 쉬운 휴식이 될 것이다.\tcontradiction\n",
            "가장 중요한 것은 IRT에서 공연에 참석하는 것이 단순히 현장 학습이 아니라는 사실입니다.\tIRT에서의 공연을 완전히 즐기기 위해서는 매우 열심히 주의를 기울이고 미리 공연과 그 역사에 관해 연구해야 한다.\tneutral\n",
            "자선 파트너들의 도움으로만 우리는 그렇게 많은 것을 달성할 수 있었다.\t빌 게이츠가 우리에게 5백만 달러를 기부했다.\tneutral\n",
            "자선 파트너들의 도움으로만 우리는 그렇게 많은 것을 달성할 수 있었다.\t금융시장의 상태를 고려할 때, 우리의 자선 파트너들은 그들의 모든 자금을 회수했다.\tcontradiction\n",
            "자선 파트너들의 도움으로만 우리는 그렇게 많은 것을 달성할 수 있었다.\t우리는 우리가 받은 자선 활동 때문에 많은 것을 성취할 수 있었다.\tentailment\n",
            "1999년 인디애나폴리스 미술관을 지원해 주셔서 감사합니다.\t인디애나폴리스 미술관에 100달러 기부해 주셔서 감사합니다.\tneutral\n",
            "1999년 인디애나폴리스 미술관을 지원해 주셔서 감사합니다.\t고맙지만 1999년에 기부금을 다 써줘서 고맙진 않다.\tcontradiction\n",
            "1999년 인디애나폴리스 미술관을 지원해 주셔서 감사합니다.\t박물관을 지원해 주신 것을 매우 기쁘게 생각합니다.\tentailment\n",
            "내 희망은 이것으로 인해 당신이 큰 축복을 받고 격려를 받았다는 것이다.\t이 문제가 새로운 열정을 주었으면 좋겠다.\tentailment\n",
            "내 희망은 이것으로 인해 당신이 큰 축복을 받고 격려를 받았다는 것이다.\t이 문제가 당신을 절망하게 한다는 것을 알지만, 당신의 휴가를 기대해라.\tcontradiction\n",
            "내 희망은 이것으로 인해 당신이 큰 축복을 받고 격려를 받았다는 것이다.\t모유 수유 암과 싸우기 위해 최선을 다할 거라는 걸 알고 있다.\tneutral\n",
            "이번 시즌의 마지막 모금 행사 동안 여러분으로부터 소식을 듣는 것은 중요합니다.\t이번 시즌에 마지막으로 기부하는 행사기 때문에 도움이 필요하다.\tentailment\n",
            "이번 시즌의 마지막 모금 행사 동안 여러분으로부터 소식을 듣는 것은 중요합니다.\t올해는 모금 행사가 두 번 더 있다.\tcontradiction\n",
            "이번 시즌의 마지막 모금 행사 동안 여러분으로부터 소식을 듣는 것은 중요합니다.\t이번 시즌에 기금 모금 할당량을 채우기 위해서는 10만 달러가 더 필요하다.\tneutral\n",
            "P. S. 당신의 선물은 인디애나 폴리스 시빅 극장을 전국에서 가장 오래 지속되는 지역 극장으로 만드는 85주년을 축하하는 데 중요합니다.\t최근 84주년을 기념하는 또 다른 극장이 있었지만 불타 버렸다.\tneutral\n",
            "P. S. 당신의 선물은 인디애나 폴리스 시빅 극장을 전국에서 가장 오래 지속되는 지역 극장으로 만드는 85주년을 축하하는 데 중요합니다.\t인디애나폴리스의 최신 극장의 개막식을 축하한다.\tcontradiction\n",
            "P. S. 당신의 선물은 인디애나 폴리스 시빅 극장을 전국에서 가장 오래 지속되는 지역 극장으로 만드는 85주년을 축하하는 데 중요합니다.\t인디애나폴리스 시빅 극장이 85년 동안 운영되어 매우 기쁘다.\tentailment\n",
            "참여하는 사람들은 학교의 필요에 따른 배경 정보뿐만 아니라 잠재 고객의 이름, 주소 및 전화번호를 제공받을 것입니다.\t참가자에게는 잠재 고객의 연락처와 세부 정보 및 배경 정보가 제공된다.\tentailment\n",
            "참여하는 사람들은 학교의 필요에 따른 배경 정보뿐만 아니라 잠재 고객의 이름, 주소 및 전화번호를 제공받을 것입니다.\t참가자는 잠재 고객의 세부 사항에 접근하기 전에 비공개 계약에 서명해야 한다.\tneutral\n",
            "참여하는 사람들은 학교의 필요에 따른 배경 정보뿐만 아니라 잠재 고객의 이름, 주소 및 전화번호를 제공받을 것입니다.\t참여하는 사람들은 잠재 고객 이름을 알 수 있지만, 주소는 알 수 없다.\tcontradiction\n",
            "자선단체이며, 전원 봉사, 비영리 회원 조직인 (dba)는 장애를 가진 사업가, 직업재활, 경력, 사업 상담 전문가에게 무료 자영업과 사업정보 및 지원을 제공한다.\t모든 사람이 그곳에서 일하기 위해 많은 돈을 지불한다.\tcontradiction\n",
            "자선단체이며, 전원 봉사, 비영리 회원 조직인 (dba)는 장애를 가진 사업가, 직업재활, 경력, 사업 상담 전문가에게 무료 자영업과 사업정보 및 지원을 제공한다.\t자원봉사자들로 이루어져 있다.\tentailment\n",
            "자선단체이며, 전원 봉사, 비영리 회원 조직인 (dba)는 장애를 가진 사업가, 직업재활, 경력, 사업 상담 전문가에게 무료 자영업과 사업정보 및 지원을 제공한다.\t매일 20명의 자원봉사자가 참여하고 있다.\tneutral\n",
            "우리의 동물원은 동물이 사는 자연 서식지를 시뮬레이션하는 생물체의 개념을 사용하여 설계되었습니다.\t생물군계는 동물의 자연생활 환경을 시뮬레이션한다.\tentailment\n",
            "우리의 동물원은 동물이 사는 자연 서식지를 시뮬레이션하는 생물체의 개념을 사용하여 설계되었습니다.\t우리 동물원에서, 우리는 인공 서식지가 자연 서식지보다 낫다고 믿는다.\tcontradiction\n",
            "우리의 동물원은 동물이 사는 자연 서식지를 시뮬레이션하는 생물체의 개념을 사용하여 설계되었습니다.\t우리 동물원의 생물군계는 매우 비싸다.\tneutral\n",
            "선의에 대한 당신의 지원은 인디애나 중부에서 가장 봉사하기 어려운 사람들이 의미 있는 직업을 찾는 것을 돕기 위해 직업 훈련과 배치 서비스를 제공할 것이다.\t인디애나 중부의 사람들은 결코 직업 훈련을 받지 못한다.\tcontradiction\n",
            "선의에 대한 당신의 지원은 인디애나 중부에서 가장 봉사하기 어려운 사람들이 의미 있는 직업을 찾는 것을 돕기 위해 직업 훈련과 배치 서비스를 제공할 것이다.\t굳윌에 대한 지원은 인디애나의 사람들에게 혜택을 줄 것이다.\tentailment\n",
            "선의에 대한 당신의 지원은 인디애나 중부에서 가장 봉사하기 어려운 사람들이 의미 있는 직업을 찾는 것을 돕기 위해 직업 훈련과 배치 서비스를 제공할 것이다.\t굳윌에 대한 지원은 실업률을 낮출 것이다.\tneutral\n",
            "겸손한 시작부터 오늘날 전국 최고의 학술 의료 센터 중 하나로 자리 잡고 있는 인디애나의 유일한 의과대학은 우리의 뿌듯한 유산을 자랑한다.\t인디애나에는 최소 20개의 훌륭한 의과대학이 있다.\tcontradiction\n",
            "겸손한 시작부터 오늘날 전국 최고의 학술 의료 센터 중 하나로 자리 잡고 있는 인디애나의 유일한 의과대학은 우리의 뿌듯한 유산을 자랑한다.\t인디애나 주는 의과대학이 한 개밖에 없다.\tentailment\n",
            "겸손한 시작부터 오늘날 전국 최고의 학술 의료 센터 중 하나로 자리 잡고 있는 인디애나의 유일한 의과대학은 우리의 뿌듯한 유산을 자랑한다.\t앞으로 5년 동안은 인디애나에 다른 의과대학이 없을 것이다.\tneutral\n",
            "그러나 법률 서적, 저널, 데이터베이스 서비스의 비용이 급격히 증가한다는 것은 단순히 현재의 수집품을 유지하는 것도 예산을 초과한다는 것을 의미한다.\t현재 소장품을 유지하는 데는 연간 예산의 3분의 1밖에 들지 않는다.\tcontradiction\n",
            "그러나 법률 서적, 저널, 데이터베이스 서비스의 비용이 급격히 증가한다는 것은 단순히 현재의 수집품을 유지하는 것도 예산을 초과한다는 것을 의미한다.\t현재 예산으로는 현재 소장품을 유지할 수 없다.\tentailment\n",
            "그러나 법률 서적, 저널, 데이터베이스 서비스의 비용이 급격히 증가한다는 것은 단순히 현재의 수집품을 유지하는 것도 예산을 초과한다는 것을 의미한다.\t현재 소장품을 유지하기 위해서 최소 1만 달러의 기부금이 필요하다.\tneutral\n",
            "일리노이 주 아베 링컨의 메리 토드의 시대 드레스와 크리스마스 캐롤의 볼 가운과 같은 많은 아름다운 의상을 구상, 디자인 및 손으로 만들었습니다.\t그 의상들은 모두 공장에서 제작되었다.\tcontradiction\n",
            "일리노이 주 아베 링컨의 메리 토드의 시대 드레스와 크리스마스 캐롤의 볼 가운과 같은 많은 아름다운 의상을 구상, 디자인 및 손으로 만들었습니다.\t그 의상은 인간의 손으로만 작업했다.\tneutral\n",
            "일리노이 주 아베 링컨의 메리 토드의 시대 드레스와 크리스마스 캐롤의 볼 가운과 같은 많은 아름다운 의상을 구상, 디자인 및 손으로 만들었습니다.\t그 의상은 인간의 손으로 작업했다.\tentailment\n",
            "앞으로 45일 안에 이번 회계연도에 참가하지 않은 여러분 모두에게 연락을 취하여 6월 30일 마감까지 우리의 목표에 도달하도록 하겠습니다.\t우리는 이번 회계연도에 기부하지 않은 사람들에게 연락할 의도가 없다.\tcontradiction\n",
            "앞으로 45일 안에 이번 회계연도에 참가하지 않은 여러분 모두에게 연락을 취하여 6월 30일 마감까지 우리의 목표에 도달하도록 하겠습니다.\t이번 회계연도에 기부하지 않은 사람들에게 45일 안에 우편으로 연락할 것이다.\tneutral\n",
            "앞으로 45일 안에 이번 회계연도에 참가하지 않은 여러분 모두에게 연락을 취하여 6월 30일 마감까지 우리의 목표에 도달하도록 하겠습니다.\t 45일 안에 올해 회계연도를 기부하지 않은 사람들에게 연락을 취할 것이다.\tentailment\n",
            "로스쿨의 __의 일원으로서, 나는 당신이 우리의 발전에 관해 알고 있다는 것을 알고 있다.\t나는 로스쿨의 회원이다.\tneutral\n",
            "로스쿨의 __의 일원으로서, 나는 당신이 우리의 발전에 관해 알고 있다는 것을 알고 있다.\t로스쿨에 속한 사람은 아무도 없다.\tcontradiction\n",
            "로스쿨의 __의 일원으로서, 나는 당신이 우리의 발전에 관해 알고 있다는 것을 알고 있다.\t로스쿨은 사람들을 받아들였다.\tentailment\n",
            "이 집을 만드는 데 드는 비용은 구매자들이 지불하는 금액을 훨씬 초과하기 때문에 우리는 보조금과 개인 기부금에 의존하여 저렴하게 유지합니다.\t집을 짓는 것은 완전히 무료였다.\tcontradiction\n",
            "이 집을 만드는 데 드는 비용은 구매자들이 지불하는 금액을 훨씬 초과하기 때문에 우리는 보조금과 개인 기부금에 의존하여 저렴하게 유지합니다.\t그 집들을 만들기 위해서는 자원이 필요했다.\tentailment\n",
            "이 집을 만드는 데 드는 비용은 구매자들이 지불하는 금액을 훨씬 초과하기 때문에 우리는 보조금과 개인 기부금에 의존하여 저렴하게 유지합니다.\t그 집들을 만드는 것은 예상보다 더 비쌌다.\tneutral\n",
            "베키, 스테파니, 마커스, 에밀리, 그리고 그와 같은 학생들에게는 모든 것을 의미한다.\t베키는 전혀 신경 쓰지 않는다.\tcontradiction\n",
            "베키, 스테파니, 마커스, 에밀리, 그리고 그와 같은 학생들에게는 모든 것을 의미한다.\t베키는 8학년 학생이다.\tneutral\n",
            "베키, 스테파니, 마커스, 에밀리, 그리고 그와 같은 학생들에게는 모든 것을 의미한다.\t베키는 학생이다.\tentailment\n",
            "당신의 투자는 박물관의 모든 측면의 높은 품질을 계속 유지하며 새로운 성취들을 가능하게 합니다.\t투자는 어떤 식으로든 박물관에 영향을 미치지 않는다.\tcontradiction\n",
            "당신의 투자는 박물관의 모든 측면의 높은 품질을 계속 유지하며 새로운 성취들을 가능하게 합니다.\t더 큰 투자는 박물관에 더욱 도움이 된다.\tneutral\n",
            "당신의 투자는 박물관의 모든 측면의 높은 품질을 계속 유지하며 새로운 성취들을 가능하게 합니다.\t박물관은 투자에 영향을 받는다.\tentailment\n",
            "나는 당신이 기여자로 남길 바라고 올해 25달러의 당신의 선물을 인상함으로써 우리의 25년의 스토리텔링을 기리는 것을 고려해 보기를 바란다.\t올해 기부금 액수를 25달러 인상해 주십시오.\tentailment\n",
            "나는 당신이 기여자로 남길 바라고 올해 25달러의 당신의 선물을 인상함으로써 우리의 25년의 스토리텔링을 기리는 것을 고려해 보기를 바란다.\t작년에는 충분히 주셨으니 이번에는 25달러를 줄여 주시오.\tcontradiction\n",
            "나는 당신이 기여자로 남길 바라고 올해 25달러의 당신의 선물을 인상함으로써 우리의 25년의 스토리텔링을 기리는 것을 고려해 보기를 바란다.\t작년 당신의 선물은 33달러였다.\tneutral\n",
            "그리고, 올해 시빅 극장의 예술적, 교육적 노력을 다시 지원해 주셨으면 합니다.\t시민극장은 자금이 충분히 조달되어 더 이상의 자금을 받지 않을 것이다.\tcontradiction\n",
            "그리고, 올해 시빅 극장의 예술적, 교육적 노력을 다시 지원해 주셨으면 합니다.\t시민극장은 올해 100만 달러가 필요하다.\tneutral\n",
            "그리고, 올해 시빅 극장의 예술적, 교육적 노력을 다시 지원해 주셨으면 합니다.\t시민극장은 당신의 지원이 필요하다.\tentailment\n",
            "내가 가장 자랑스럽게 생각하는 것은 IRT가 학생들을 위한 연극 경험을 제공하는 데 있어서 전국적인 리더라는 것이다.\tIRT는 축구에 관여하고 있다.\tcontradiction\n",
            "내가 가장 자랑스럽게 생각하는 것은 IRT가 학생들을 위한 연극 경험을 제공하는 데 있어서 전국적인 리더라는 것이다.\tIRT는 중학생들을 위한 극장에 관여하고 있다.\tneutral\n",
            "내가 가장 자랑스럽게 생각하는 것은 IRT가 학생들을 위한 연극 경험을 제공하는 데 있어서 전국적인 리더라는 것이다.\tIRT는 극장에 관여하고 있다.\tentailment\n",
            "당신의 지원은 동물 및 식물 수집품의 품질 관리를 유지하고 종 생존 계획에 있는 종을 포함하여 희귀종에 대한 중요한 연구를 수행하는 데 도움이 됩니다.\t그 협회는 아프리카에서 거의 멸종된 동물들을 돌보고 있다.\tneutral\n",
            "당신의 지원은 동물 및 식물 수집품의 품질 관리를 유지하고 종 생존 계획에 있는 종을 포함하여 희귀종에 대한 중요한 연구를 수행하는 데 도움이 됩니다.\t그 협회는 동물을 돌본다.\tentailment\n",
            "당신의 지원은 동물 및 식물 수집품의 품질 관리를 유지하고 종 생존 계획에 있는 종을 포함하여 희귀종에 대한 중요한 연구를 수행하는 데 도움이 됩니다.\t그 협회는 어린아이들을 돌본다.\tcontradiction\n",
            "난 정확히 그 반대라고 믿어.\t그건 사실이 아닌 것 같다.\tentailment\n",
            "난 정확히 그 반대라고 믿어.\t내 생각에는 당신이 옳다!\tcontradiction\n",
            "난 정확히 그 반대라고 믿어.\t나는 당신이 틀렸다고 생각한다. 대답은 예\"이고 \"아니오\"가 아니라고 생각합니다. neutral\n"
          ]
        },
        {
          "output_type": "stream",
          "name": "stderr",
          "text": [
            "100%|██████████| 1571/1571 [00:05<00:00, 283.02it/s]\n"
          ]
        }
      ]
    },
    {
      "cell_type": "code",
      "source": [
        "# ndarray로 저장하고 싶은 경우\n",
        "\n",
        "np.save('test_input_ids',test_input_ids.numpy())\n",
        "np.save('test_attention_masks',test_attention_masks.numpy())\n",
        "np.save('test_token_type_ids',test_token_type_ids.numpy())\n",
        "np.save('test_label',test_label.numpy())"
      ],
      "metadata": {
        "id": "7IZwFrmG5fsm"
      },
      "execution_count": null,
      "outputs": []
    },
    {
      "cell_type": "code",
      "source": [
        "test_input=(test_input_ids,test_attention_masks,test_token_type_ids)"
      ],
      "metadata": {
        "id": "kejcfLEu58b4"
      },
      "execution_count": 21,
      "outputs": []
    },
    {
      "cell_type": "markdown",
      "source": [
        "# Dataset & DataLoader"
      ],
      "metadata": {
        "id": "ODOyw6Uk2nGl"
      }
    },
    {
      "cell_type": "code",
      "source": [
        "from torch.utils.data import Dataset,DataLoader,random_split"
      ],
      "metadata": {
        "id": "HxJ3r6_Y2mfN"
      },
      "execution_count": 22,
      "outputs": []
    },
    {
      "cell_type": "code",
      "source": [
        "# dataset\n",
        "\n",
        "class Customdataset(Dataset):\n",
        "  def __init__(self,x,y):\n",
        "    self.x=x\n",
        "    self.y=y\n",
        "\n",
        "  def __getitem__(self,index):\n",
        "    output = {'input_ids':self.x[0][index],'attention_mask':self.x[1][index], 'token_type_ids':self.x[2][index],'label':self.y[index]}\n",
        "\n",
        "    return output\n",
        "\n",
        "  def __len__(self):\n",
        "    return self.y.size()[0]"
      ],
      "metadata": {
        "id": "wZXv4JHa3MkL"
      },
      "execution_count": 23,
      "outputs": []
    },
    {
      "cell_type": "code",
      "source": [
        "train_dataset=Customdataset(train_input,train_label)\n",
        "test_dataset=Customdataset(test_input,test_label)"
      ],
      "metadata": {
        "id": "VGYJ1MVo4j0U"
      },
      "execution_count": 24,
      "outputs": []
    },
    {
      "cell_type": "code",
      "source": [
        "generator = torch.Generator().manual_seed(42)\n",
        "train_dataset,val_dataset=random_split(train_dataset,[1-VALID_SPLIT,VALID_SPLIT],generator=generator)"
      ],
      "metadata": {
        "id": "ASkSnSPa6Le0"
      },
      "execution_count": 25,
      "outputs": []
    },
    {
      "cell_type": "code",
      "source": [
        "# DataLoader\n",
        "\n",
        "train_iter = DataLoader(train_dataset,BATCH_SIZE)\n",
        "val_iter = DataLoader(val_dataset,BATCH_SIZE)\n",
        "test_iter = DataLoader(test_dataset,BATCH_SIZE)"
      ],
      "metadata": {
        "id": "oFSVYq1P8KGp"
      },
      "execution_count": 26,
      "outputs": []
    },
    {
      "cell_type": "code",
      "source": [
        "next(iter(train_iter))['input_ids'].size()"
      ],
      "metadata": {
        "colab": {
          "base_uri": "https://localhost:8080/"
        },
        "id": "HKIoctRg8LHI",
        "outputId": "b2f3a88f-575f-44d9-8b8f-b435f5a42eea"
      },
      "execution_count": 41,
      "outputs": [
        {
          "output_type": "execute_result",
          "data": {
            "text/plain": [
              "torch.Size([32, 48])"
            ]
          },
          "metadata": {},
          "execution_count": 41
        }
      ]
    },
    {
      "cell_type": "code",
      "source": [
        "next(iter(train_iter))['attention_mask'].size()"
      ],
      "metadata": {
        "colab": {
          "base_uri": "https://localhost:8080/"
        },
        "id": "-VGXN73z8ok-",
        "outputId": "d37531dd-3d9f-4f70-a0c7-ebd323ce8a24"
      },
      "execution_count": 43,
      "outputs": [
        {
          "output_type": "execute_result",
          "data": {
            "text/plain": [
              "torch.Size([32, 48])"
            ]
          },
          "metadata": {},
          "execution_count": 43
        }
      ]
    },
    {
      "cell_type": "code",
      "source": [
        "next(iter(train_iter))['token_type_ids'].size()"
      ],
      "metadata": {
        "colab": {
          "base_uri": "https://localhost:8080/"
        },
        "id": "3y6nZdkx88Nc",
        "outputId": "4fb07640-9812-4122-f511-af38f41d241a"
      },
      "execution_count": 44,
      "outputs": [
        {
          "output_type": "execute_result",
          "data": {
            "text/plain": [
              "torch.Size([32, 48])"
            ]
          },
          "metadata": {},
          "execution_count": 44
        }
      ]
    },
    {
      "cell_type": "code",
      "source": [
        "next(iter(train_iter))['label'].size()"
      ],
      "metadata": {
        "colab": {
          "base_uri": "https://localhost:8080/"
        },
        "id": "tHDSmcFs9AU7",
        "outputId": "835b9f2b-54e1-4262-ee99-beadbd2ba215"
      },
      "execution_count": 45,
      "outputs": [
        {
          "output_type": "execute_result",
          "data": {
            "text/plain": [
              "torch.Size([32])"
            ]
          },
          "metadata": {},
          "execution_count": 45
        }
      ]
    },
    {
      "cell_type": "code",
      "source": [
        "train_iter = DataLoader(train_dataset,BATCH_SIZE)\n",
        "val_iter = DataLoader(val_dataset,BATCH_SIZE)\n",
        "test_iter = DataLoader(test_dataset,BATCH_SIZE)"
      ],
      "metadata": {
        "id": "FS7_xdIE9CHU"
      },
      "execution_count": 46,
      "outputs": []
    },
    {
      "cell_type": "markdown",
      "source": [
        "# 모델 구현"
      ],
      "metadata": {
        "id": "6j1rQ3tS9HuL"
      }
    },
    {
      "cell_type": "code",
      "source": [
        "import torch.nn as nn"
      ],
      "metadata": {
        "id": "XBH7qYcI9Jam"
      },
      "execution_count": 27,
      "outputs": []
    },
    {
      "cell_type": "code",
      "source": [
        "class Bertnlimodel(nn.Module):\n",
        "  def __init__(self,model_name,num_class,cache_dir):\n",
        "    super(Bertnlimodel,self).__init__()\n",
        "\n",
        "    self.bert = BertModel.from_pretrained(model_name,cache_dir=cache_dir)\n",
        "    self.dropout = nn.Dropout(self.bert.config.hidden_dropout_prob)\n",
        "    self.dense = nn.Linear(self.bert.config.hidden_size, num_class)\n",
        "    nn.init.trunc_normal_(self.dense.weight.data,std=self.bert.config.initializer_range)\n",
        "\n",
        "  def forward(self,input_ids,attention_masks=None,token_type_ids=None):\n",
        "\n",
        "    # input_ids : (batch_size, max_len)\n",
        "    # attention_masks : (batch_size, max_len)\n",
        "    # token_type_ids : (batch_size, max_len)\n",
        "\n",
        "    output = self.bert(input_ids,attention_masks,token_type_ids) # (batch_size, max_len, hidden_dim) , (batch_size, max_len)\n",
        "    pooled = self.dropout(output[1]) # (batch_size, max_len)\n",
        "    digits= self.dense(pooled) # (batch_size, num_class=3)\n",
        "\n",
        "    return digits"
      ],
      "metadata": {
        "id": "85fAAA_t9LPL"
      },
      "execution_count": 39,
      "outputs": []
    },
    {
      "cell_type": "code",
      "source": [
        "cd"
      ],
      "metadata": {
        "colab": {
          "base_uri": "https://localhost:8080/"
        },
        "id": "yCPyeDZwMPn7",
        "outputId": "06c369df-8615-48ef-90f0-b425536e561e"
      },
      "execution_count": 29,
      "outputs": [
        {
          "output_type": "stream",
          "name": "stdout",
          "text": [
            "/root\n"
          ]
        }
      ]
    },
    {
      "cell_type": "code",
      "source": [
        "cache_dir"
      ],
      "metadata": {
        "colab": {
          "base_uri": "https://localhost:8080/",
          "height": 35
        },
        "id": "4FpdL-aWNxDc",
        "outputId": "a27c917d-d90e-42b2-d150-b86e94f99ef2"
      },
      "execution_count": 111,
      "outputs": [
        {
          "output_type": "execute_result",
          "data": {
            "text/plain": [
              "'.cache/huggingface/hub/models--bert-base-multilingual-cased/snapshots/fdfce55e83dbed325647a63e7e1f5de19f0382ba'"
            ],
            "application/vnd.google.colaboratory.intrinsic+json": {
              "type": "string"
            }
          },
          "metadata": {},
          "execution_count": 111
        }
      ]
    },
    {
      "cell_type": "code",
      "source": [
        "model=Bertnlimodel('bert-base-multilingual-cased',3,cache_dir).to(device)\n",
        "optimizer = torch.optim.Adam(model.parameters(),lr=3e-5)\n",
        "criterion = nn.CrossEntropyLoss()"
      ],
      "metadata": {
        "id": "Wp9RNprqA99S"
      },
      "execution_count": 40,
      "outputs": []
    },
    {
      "cell_type": "markdown",
      "source": [
        "# Train & Evaluation"
      ],
      "metadata": {
        "id": "hJFiPRseDd8Q"
      }
    },
    {
      "cell_type": "code",
      "source": [
        "def train(model,optimizer,criterion,train_iter):\n",
        "  model.train()\n",
        "\n",
        "  for batch in tqdm(train_iter,desc='training'):\n",
        "    x1=batch['input_ids'].to(device)\n",
        "    x2=batch['attention_mask'].to(device)\n",
        "    x3=batch['token_type_ids'].to(device)\n",
        "    y=batch['label'].to(device)\n",
        "\n",
        "    logits=model(x1,x2,x3)\n",
        "    loss=criterion(logits,y)\n",
        "\n",
        "    optimizer.zero_grad()\n",
        "    loss.backward()\n",
        "    optimizer.step()"
      ],
      "metadata": {
        "id": "1Z39gGyqDfJP"
      },
      "execution_count": 80,
      "outputs": []
    },
    {
      "cell_type": "code",
      "source": [
        "def evaluation(model,criterion,val_iter):\n",
        "  model.eval()\n",
        "\n",
        "  total_loss=0\n",
        "  total_acc=0\n",
        "\n",
        "  for batch in tqdm(val_iter,desc='evaluation'):\n",
        "    x1=batch['input_ids'].to(device)\n",
        "    x2=batch['attention_mask'].to(device)\n",
        "    x3=batch['token_type_ids'].to(device)\n",
        "    y=batch['label'].to(device)\n",
        "\n",
        "    logits=model(x1,x2,x3) # (batch_size,num_class)\n",
        "    loss=criterion(logits,y)\n",
        "    total_loss+=loss\n",
        "\n",
        "    total_acc+=(logits.max(1)[1]==y).sum()/y.size()[0]\n",
        "\n",
        "  avg_loss=total_loss/len(val_iter)\n",
        "  avg_acc=total_acc/len(val_iter)"
      ],
      "metadata": {
        "id": "nleJTgGgIs2Z"
      },
      "execution_count": 48,
      "outputs": []
    },
    {
      "cell_type": "markdown",
      "source": [
        "## Training"
      ],
      "metadata": {
        "id": "T0fhd8tYJ3uh"
      }
    },
    {
      "cell_type": "code",
      "source": [
        "cd .."
      ],
      "metadata": {
        "colab": {
          "base_uri": "https://localhost:8080/"
        },
        "id": "JdhM4sBgLUkB",
        "outputId": "4d8e999e-c03f-4ab0-be2a-6bf57eb79e60"
      },
      "execution_count": 43,
      "outputs": [
        {
          "output_type": "stream",
          "name": "stdout",
          "text": [
            "/\n"
          ]
        }
      ]
    },
    {
      "cell_type": "code",
      "source": [
        "cd content/drive/MyDrive/Pytorch NLP/BERT/data_out"
      ],
      "metadata": {
        "colab": {
          "base_uri": "https://localhost:8080/"
        },
        "id": "h4fPkethLVo8",
        "outputId": "2419b3d9-1f52-4071-b6bc-222ed3ff62dd"
      },
      "execution_count": 44,
      "outputs": [
        {
          "output_type": "stream",
          "name": "stdout",
          "text": [
            "/content/drive/MyDrive/Pytorch NLP/BERT/data_out\n"
          ]
        }
      ]
    },
    {
      "cell_type": "code",
      "source": [
        "ls"
      ],
      "metadata": {
        "id": "9KjLbU-fLiCT"
      },
      "execution_count": 92,
      "outputs": []
    },
    {
      "cell_type": "code",
      "source": [
        "import os"
      ],
      "metadata": {
        "id": "SAbCxOqzK8q2"
      },
      "execution_count": 35,
      "outputs": []
    },
    {
      "cell_type": "code",
      "source": [
        "best_val_loss=None\n",
        "\n",
        "for e in range(EPOCH):\n",
        "  train(model,optimizer,criterion,train_iter)\n",
        "  val_loss,val_acc=evaluation(model,criterion,val_iter)\n",
        "\n",
        "  print(\"Epoch : {} | val_loss : {:5.2f} , val_accuracy : {:5.2f}\".format(e+1,val_loss.item(),val_acc.item()))\n",
        "\n",
        "  if not best_val_loss or bset_val_loss>val_loss:\n",
        "    os.makedirs('best_weight',exist_ok=True)\n",
        "    torch.save(model.state_dict(),'./best_weight/bert_nli_best_weight.pt')\n",
        "    best_val_loss=val_loss"
      ],
      "metadata": {
        "id": "r3oBmC_DLHUX"
      },
      "execution_count": null,
      "outputs": []
    },
    {
      "cell_type": "markdown",
      "source": [
        "## TEST"
      ],
      "metadata": {
        "id": "dZSTNMhRUb7Q"
      }
    },
    {
      "cell_type": "code",
      "source": [
        "model=torch.load_state_dict(torch.load('./best_weight/bert_nli_best_weight.pt'))\n",
        "test_loss,test_acc=model.evaluation(model,criterion,test_iter)\n",
        "print(\"test loss : {} | test acc : {}\".format(test_loss,test_acc))"
      ],
      "metadata": {
        "id": "DgjxYNa3Ubl7"
      },
      "execution_count": null,
      "outputs": []
    }
  ]
}